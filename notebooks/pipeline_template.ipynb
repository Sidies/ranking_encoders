{
 "cells": [
  {
   "attachments": {},
   "cell_type": "markdown",
   "metadata": {},
   "source": [
    "Template for using our pipeline in a jupyter notebook"
   ]
  },
  {
   "cell_type": "code",
   "execution_count": 1,
   "metadata": {},
   "outputs": [
    {
     "ename": "ModuleNotFoundError",
     "evalue": "No module named 'src'",
     "output_type": "error",
     "traceback": [
      "\u001b[1;31m---------------------------------------------------------------------------\u001b[0m",
      "\u001b[1;31mModuleNotFoundError\u001b[0m                       Traceback (most recent call last)",
      "Cell \u001b[1;32mIn[1], line 4\u001b[0m\n\u001b[0;32m      2\u001b[0m \u001b[39mimport\u001b[39;00m \u001b[39mos\u001b[39;00m\n\u001b[0;32m      3\u001b[0m \u001b[39mimport\u001b[39;00m \u001b[39mpandas\u001b[39;00m \u001b[39mas\u001b[39;00m \u001b[39mpd\u001b[39;00m\n\u001b[1;32m----> 4\u001b[0m \u001b[39mfrom\u001b[39;00m \u001b[39msrc\u001b[39;00m \u001b[39mimport\u001b[39;00m configuration \u001b[39mas\u001b[39;00m config\n\u001b[0;32m      5\u001b[0m \u001b[39mfrom\u001b[39;00m \u001b[39msrc\u001b[39;00m\u001b[39m.\u001b[39;00m\u001b[39mpipeline\u001b[39;00m\u001b[39m.\u001b[39;00m\u001b[39mpipeline_factory\u001b[39;00m \u001b[39mimport\u001b[39;00m PipelineFactory, ModelType, EvaluationType\n",
      "\u001b[1;31mModuleNotFoundError\u001b[0m: No module named 'src'"
     ]
    }
   ],
   "source": [
    "# imports\n",
    "import os\n",
    "import pandas as pd\n",
    "from src import configuration as config\n",
    "from src.pipeline.pipeline_factory import PipelineFactory, ModelType, EvaluationType"
   ]
  },
  {
   "cell_type": "code",
   "execution_count": 2,
   "metadata": {},
   "outputs": [
    {
     "name": "stdout",
     "output_type": "stream",
     "text": [
      "Starting pipeline using method: EvaluationType.BASIC\n",
      "0.0\n",
      "Finished running the pipeline\n"
     ]
    }
   ],
   "source": [
    "# load the data\n",
    "train_df = config.load_traindata_for_regression()\n",
    "pipelineFactory = PipelineFactory()\n",
    "\n",
    "# create the baseline pipeline\n",
    "pipeline = pipelineFactory.create_pipeline(train_df,\n",
    "                                                    ModelType.REGRE_BASELINE,\n",
    "                                                    verbose_level=1,\n",
    "                                                    evaluation=EvaluationType.BASIC)\n",
    "pipeline.run()"
   ]
  },
  {
   "cell_type": "code",
   "execution_count": 3,
   "metadata": {},
   "outputs": [],
   "source": [
    "from sklearn.linear_model import LinearRegression\n",
    "# starting from the baseline model we can now change the estimator\n",
    "pipeline.change_estimator(LinearRegression())"
   ]
  },
  {
   "cell_type": "code",
   "execution_count": 4,
   "metadata": {},
   "outputs": [
    {
     "name": "stdout",
     "output_type": "stream",
     "text": [
      "{'preprocessor': ColumnTransformer(remainder='passthrough',\n",
      "                  transformers=[('some_name1', StandardScaler(),\n",
      "                                 'column1, column2'),\n",
      "                                ('some_name2', StandardScaler(), 'colum3')]), 'estimator': LinearRegression()}\n"
     ]
    }
   ],
   "source": [
    "# we can now also add or remove steps\n",
    "# supose we want to apply a step only on specific columns\n",
    "from sklearn.compose import ColumnTransformer\n",
    "from sklearn.preprocessing import StandardScaler\n",
    "\n",
    "# define the column transformer\n",
    "preprocessor = ColumnTransformer(\n",
    "transformers=[\n",
    "    (\"some_name1\", StandardScaler(), \"column1, column2\"),\n",
    "    (\"some_name2\", StandardScaler(), \"colum3\"),\n",
    "],\n",
    "remainder=\"passthrough\"\n",
    ") \n",
    "\n",
    "# add the column transformer to the pipeline\n",
    "pipeline.add_new_step(preprocessor, \"preprocessor\")\n",
    "\n",
    "print(pipeline.get_pipeline().named_steps)"
   ]
  },
  {
   "cell_type": "code",
   "execution_count": 5,
   "metadata": {},
   "outputs": [
    {
     "name": "stdout",
     "output_type": "stream",
     "text": [
      "{'some_test_name': StandardScaler(), 'preprocessor': ColumnTransformer(remainder='passthrough',\n",
      "                  transformers=[('some_name1', StandardScaler(),\n",
      "                                 'column1, column2'),\n",
      "                                ('some_name2', StandardScaler(), 'colum3')]), 'estimator': LinearRegression()}\n"
     ]
    }
   ],
   "source": [
    "# it is also possible to choose the position of the step\n",
    "pipeline.add_new_step_at_position(StandardScaler(), \"some_test_name\", 0)\n",
    "\n",
    "print(pipeline.get_pipeline().named_steps)"
   ]
  },
  {
   "cell_type": "code",
   "execution_count": 6,
   "metadata": {},
   "outputs": [
    {
     "name": "stdout",
     "output_type": "stream",
     "text": [
      "{'some_test_name': StandardScaler(), 'estimator': LinearRegression()}\n"
     ]
    }
   ],
   "source": [
    "# if we want to remove a step thats also possible\n",
    "pipeline.remove_step(\"preprocessor\")\n",
    "\n",
    "print(pipeline.get_pipeline().named_steps)"
   ]
  },
  {
   "cell_type": "code",
   "execution_count": 7,
   "metadata": {},
   "outputs": [],
   "source": [
    "# self made custom tranformers can also be added\n",
    "# please add the code to the src\\pipeline\\pipeline_transformers.py file\n",
    "from src.pipeline.pipeline_transformers import ColumnDropper\n",
    "\n",
    "pipeline.add_new_step(ColumnDropper([\"column1\", \"column2\"]), \"column_dropper\")"
   ]
  },
  {
   "cell_type": "code",
   "execution_count": null,
   "metadata": {},
   "outputs": [],
   "source": [
    "# One-Hot-Encoder\n",
    "from src.pipeline.pipeline_transformers import OneHotEncoder\n",
    "\n",
    "pipeline.add_new_step(OneHotEncoder([\"model\", \"tuning\", \"scoring\"]), \"one-hot-encoder\")"
   ]
  }
 ],
 "metadata": {
  "kernelspec": {
   "display_name": "venv",
   "language": "python",
   "name": "python3"
  },
  "language_info": {
   "codemirror_mode": {
    "name": "ipython",
    "version": 3
   },
   "file_extension": ".py",
   "mimetype": "text/x-python",
   "name": "python",
   "nbconvert_exporter": "python",
   "pygments_lexer": "ipython3",
   "version": "3.10.10"
  },
  "orig_nbformat": 4
 },
 "nbformat": 4,
 "nbformat_minor": 2
}
