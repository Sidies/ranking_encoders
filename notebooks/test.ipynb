{
 "cells": [
  {
   "cell_type": "code",
   "execution_count": 8,
   "metadata": {},
   "outputs": [],
   "source": [
    "from scipy import stats"
   ]
  },
  {
   "cell_type": "code",
   "execution_count": 9,
   "metadata": {},
   "outputs": [],
   "source": [
    "from scipy.stats import spearmanr"
   ]
  },
  {
   "cell_type": "code",
   "execution_count": 10,
   "metadata": {},
   "outputs": [],
   "source": [
    "from scipy.stats import ConstantInputWarning"
   ]
  },
  {
   "cell_type": "code",
   "execution_count": 20,
   "metadata": {},
   "outputs": [],
   "source": [
    "from src.pipeline.evaluation.evaluate_regression import get_rankings, average_spearman, custom_train_test_split"
   ]
  },
  {
   "cell_type": "code",
   "execution_count": 21,
   "metadata": {},
   "outputs": [
    {
     "name": "stdout",
     "output_type": "stream",
     "text": [
      "(32, 291)\n",
      "(32, 291)\n",
      "MultiIndex([(    3,   'DTC',  'full', 'AUC'),\n",
      "            (    3,   'DTC',    'no', 'ACC'),\n",
      "            (    3,   'DTC',    'no', 'AUC'),\n",
      "            (    3,   'KNC',  'full',  'F1'),\n",
      "            (    3, 'LGBMC',    'no',  'F1'),\n",
      "            (    3,    'LR',  'full',  'F1'),\n",
      "            (    3,    'LR',    'no',  'F1'),\n",
      "            (   29,   'DTC',  'full', 'ACC'),\n",
      "            (   29,   'DTC', 'model', 'ACC'),\n",
      "            (   29,   'KNC',  'full',  'F1'),\n",
      "            ...\n",
      "            (43900, 'LGBMC',    'no', 'ACC'),\n",
      "            (43900,    'LR', 'model', 'ACC'),\n",
      "            (43900,    'LR',    'no', 'AUC'),\n",
      "            (43922,   'DTC',  'full', 'AUC'),\n",
      "            (43922,   'KNC',  'full', 'ACC'),\n",
      "            (43922,   'KNC',  'full',  'F1'),\n",
      "            (43922,   'KNC',    'no', 'ACC'),\n",
      "            (43922, 'LGBMC',    'no',  'F1'),\n",
      "            (43922,   'SVC',    'no', 'ACC'),\n",
      "            (43922,   'SVC',    'no',  'F1')],\n",
      "           length=291)\n",
      "MultiIndex([(    3,   'DTC',  'full', 'AUC'),\n",
      "            (    3,   'DTC',    'no', 'ACC'),\n",
      "            (    3,   'DTC',    'no', 'AUC'),\n",
      "            (    3,   'KNC',  'full',  'F1'),\n",
      "            (    3, 'LGBMC',    'no',  'F1'),\n",
      "            (    3,    'LR',  'full',  'F1'),\n",
      "            (    3,    'LR',    'no',  'F1'),\n",
      "            (   29,   'DTC',  'full', 'ACC'),\n",
      "            (   29,   'DTC', 'model', 'ACC'),\n",
      "            (   29,   'KNC',  'full',  'F1'),\n",
      "            ...\n",
      "            (43900, 'LGBMC',    'no', 'ACC'),\n",
      "            (43900,    'LR', 'model', 'ACC'),\n",
      "            (43900,    'LR',    'no', 'AUC'),\n",
      "            (43922,   'DTC',  'full', 'AUC'),\n",
      "            (43922,   'KNC',  'full', 'ACC'),\n",
      "            (43922,   'KNC',  'full',  'F1'),\n",
      "            (43922,   'KNC',    'no', 'ACC'),\n",
      "            (43922, 'LGBMC',    'no',  'F1'),\n",
      "            (43922,   'SVC',    'no', 'ACC'),\n",
      "            (43922,   'SVC',    'no',  'F1')],\n",
      "           length=291)\n",
      "Index(['BE', 'BUCV10RGLMME', 'BUCV10TE', 'BUCV2RGLMME', 'BUCV2TE',\n",
      "       'BUCV5RGLMME', 'BUCV5TE', 'CBE', 'CE', 'CV10RGLMME', 'CV10TE',\n",
      "       'CV2RGLMME', 'CV2TE', 'CV5RGLMME', 'CV5TE', 'DE', 'DTEM10', 'DTEM2',\n",
      "       'DTEM5', 'ME01E', 'ME10E', 'ME1E', 'MHE', 'OE', 'OHE', 'PBTE0001',\n",
      "       'PBTE001', 'PBTE01', 'RGLMME', 'SE', 'TE', 'WOEE'],\n",
      "      dtype='object', name='encoder')\n",
      "Index(['BE', 'BUCV10RGLMME', 'BUCV10TE', 'BUCV2RGLMME', 'BUCV2TE',\n",
      "       'BUCV5RGLMME', 'BUCV5TE', 'CBE', 'CE', 'CV10RGLMME', 'CV10TE',\n",
      "       'CV2RGLMME', 'CV2TE', 'CV5RGLMME', 'CV5TE', 'DE', 'DTEM10', 'DTEM2',\n",
      "       'DTEM5', 'ME01E', 'ME10E', 'ME1E', 'MHE', 'OE', 'OHE', 'PBTE0001',\n",
      "       'PBTE001', 'PBTE01', 'RGLMME', 'SE', 'TE', 'WOEE'],\n",
      "      dtype='object', name='encoder')\n"
     ]
    },
    {
     "ename": "AttributeError",
     "evalue": "'DataFrame' object has no attribute 'iteritems'",
     "output_type": "error",
     "traceback": [
      "\u001b[1;31m---------------------------------------------------------------------------\u001b[0m",
      "\u001b[1;31mAttributeError\u001b[0m                            Traceback (most recent call last)",
      "\u001b[1;32m~\\AppData\\Local\\Temp\\ipykernel_20944\\3406664376.py\u001b[0m in \u001b[0;36m?\u001b[1;34m()\u001b[0m\n\u001b[0;32m     24\u001b[0m \u001b[1;33m\u001b[0m\u001b[0m\n\u001b[0;32m     25\u001b[0m \u001b[1;31m# ---- convert to rankings and evaluate\u001b[0m\u001b[1;33m\u001b[0m\u001b[1;33m\u001b[0m\u001b[0m\n\u001b[0;32m     26\u001b[0m \u001b[0mrankings_test\u001b[0m \u001b[1;33m=\u001b[0m \u001b[0mget_rankings\u001b[0m\u001b[1;33m(\u001b[0m\u001b[0mdf_pred\u001b[0m\u001b[1;33m,\u001b[0m \u001b[0mfactors\u001b[0m\u001b[1;33m=\u001b[0m\u001b[0mfactors\u001b[0m\u001b[1;33m,\u001b[0m \u001b[0mnew_index\u001b[0m\u001b[1;33m=\u001b[0m\u001b[0mnew_index\u001b[0m\u001b[1;33m,\u001b[0m \u001b[0mtarget\u001b[0m\u001b[1;33m=\u001b[0m\u001b[1;34m\"cv_score\"\u001b[0m\u001b[1;33m)\u001b[0m\u001b[1;33m\u001b[0m\u001b[1;33m\u001b[0m\u001b[0m\n\u001b[0;32m     27\u001b[0m \u001b[0mrankings_pred\u001b[0m \u001b[1;33m=\u001b[0m \u001b[0mget_rankings\u001b[0m\u001b[1;33m(\u001b[0m\u001b[0mdf_pred\u001b[0m\u001b[1;33m,\u001b[0m \u001b[0mfactors\u001b[0m\u001b[1;33m=\u001b[0m\u001b[0mfactors\u001b[0m\u001b[1;33m,\u001b[0m \u001b[0mnew_index\u001b[0m\u001b[1;33m=\u001b[0m\u001b[0mnew_index\u001b[0m\u001b[1;33m,\u001b[0m \u001b[0mtarget\u001b[0m\u001b[1;33m=\u001b[0m\u001b[1;34m\"cv_score_pred\"\u001b[0m\u001b[1;33m)\u001b[0m\u001b[1;33m\u001b[0m\u001b[1;33m\u001b[0m\u001b[0m\n\u001b[1;32m---> 28\u001b[1;33m \u001b[0mprint\u001b[0m\u001b[1;33m(\u001b[0m\u001b[0maverage_spearman\u001b[0m\u001b[1;33m(\u001b[0m\u001b[0mrankings_test\u001b[0m\u001b[1;33m,\u001b[0m \u001b[0mrankings_pred\u001b[0m\u001b[1;33m)\u001b[0m\u001b[1;33m)\u001b[0m\u001b[1;33m\u001b[0m\u001b[1;33m\u001b[0m\u001b[0m\n\u001b[0m",
      "\u001b[1;32m~\\Workspace\\phase-2\\src\\pipeline\\evaluation\\evaluate_regression.py\u001b[0m in \u001b[0;36m?\u001b[1;34m(rf1, rf2)\u001b[0m\n\u001b[0;32m    117\u001b[0m \u001b[1;32mdef\u001b[0m \u001b[0maverage_spearman\u001b[0m\u001b[1;33m(\u001b[0m\u001b[0mrf1\u001b[0m\u001b[1;33m:\u001b[0m \u001b[0mpd\u001b[0m\u001b[1;33m.\u001b[0m\u001b[0mDataFrame\u001b[0m\u001b[1;33m,\u001b[0m \u001b[0mrf2\u001b[0m\u001b[1;33m:\u001b[0m \u001b[0mpd\u001b[0m\u001b[1;33m.\u001b[0m\u001b[0mDataFrame\u001b[0m\u001b[1;33m)\u001b[0m \u001b[1;33m->\u001b[0m \u001b[0mnp\u001b[0m\u001b[1;33m.\u001b[0m\u001b[0marray\u001b[0m\u001b[1;33m:\u001b[0m\u001b[1;33m\u001b[0m\u001b[1;33m\u001b[0m\u001b[0m\n\u001b[1;32m--> 118\u001b[1;33m     \u001b[1;32mreturn\u001b[0m \u001b[0mnp\u001b[0m\u001b[1;33m.\u001b[0m\u001b[0mnanmean\u001b[0m\u001b[1;33m(\u001b[0m\u001b[0mlist_spearman\u001b[0m\u001b[1;33m(\u001b[0m\u001b[0mrf1\u001b[0m\u001b[1;33m,\u001b[0m \u001b[0mrf2\u001b[0m\u001b[1;33m)\u001b[0m\u001b[1;33m)\u001b[0m\u001b[1;33m\u001b[0m\u001b[1;33m\u001b[0m\u001b[0m\n\u001b[0m",
      "\u001b[1;32m~\\Workspace\\phase-2\\src\\pipeline\\evaluation\\evaluate_regression.py\u001b[0m in \u001b[0;36m?\u001b[1;34m(rf1, rf2)\u001b[0m\n\u001b[0;32m    109\u001b[0m     \u001b[0mprint\u001b[0m\u001b[1;33m(\u001b[0m\u001b[0mrf2\u001b[0m\u001b[1;33m.\u001b[0m\u001b[0mcolumns\u001b[0m\u001b[1;33m)\u001b[0m\u001b[1;33m\u001b[0m\u001b[1;33m\u001b[0m\u001b[0m\n\u001b[0;32m    110\u001b[0m     \u001b[0mprint\u001b[0m\u001b[1;33m(\u001b[0m\u001b[0mrf1\u001b[0m\u001b[1;33m.\u001b[0m\u001b[0mindex\u001b[0m\u001b[1;33m)\u001b[0m\u001b[1;33m\u001b[0m\u001b[1;33m\u001b[0m\u001b[0m\n\u001b[0;32m    111\u001b[0m     \u001b[0mprint\u001b[0m\u001b[1;33m(\u001b[0m\u001b[0mrf2\u001b[0m\u001b[1;33m.\u001b[0m\u001b[0mindex\u001b[0m\u001b[1;33m)\u001b[0m\u001b[1;33m\u001b[0m\u001b[1;33m\u001b[0m\u001b[0m\n\u001b[0;32m    112\u001b[0m     return np.array([\n\u001b[1;32m--> 113\u001b[1;33m         \u001b[0mspearman_rho\u001b[0m\u001b[1;33m(\u001b[0m\u001b[0mr1\u001b[0m\u001b[1;33m,\u001b[0m \u001b[0mr2\u001b[0m\u001b[1;33m,\u001b[0m \u001b[0mnan_policy\u001b[0m\u001b[1;33m=\u001b[0m\u001b[1;34m\"omit\"\u001b[0m\u001b[1;33m)\u001b[0m \u001b[1;32mfor\u001b[0m \u001b[1;33m(\u001b[0m\u001b[0m_\u001b[0m\u001b[1;33m,\u001b[0m \u001b[0mr1\u001b[0m\u001b[1;33m)\u001b[0m\u001b[1;33m,\u001b[0m \u001b[1;33m(\u001b[0m\u001b[0m_\u001b[0m\u001b[1;33m,\u001b[0m \u001b[0mr2\u001b[0m\u001b[1;33m)\u001b[0m \u001b[1;32min\u001b[0m \u001b[0mzip\u001b[0m\u001b[1;33m(\u001b[0m\u001b[0mrf1\u001b[0m\u001b[1;33m.\u001b[0m\u001b[0miteritems\u001b[0m\u001b[1;33m(\u001b[0m\u001b[1;33m)\u001b[0m\u001b[1;33m,\u001b[0m \u001b[0mrf2\u001b[0m\u001b[1;33m.\u001b[0m\u001b[0miteritems\u001b[0m\u001b[1;33m(\u001b[0m\u001b[1;33m)\u001b[0m\u001b[1;33m)\u001b[0m\u001b[1;33m\u001b[0m\u001b[1;33m\u001b[0m\u001b[0m\n\u001b[0m\u001b[0;32m    114\u001b[0m     ])\n",
      "\u001b[1;32mc:\\Users\\Marco\\Workspace\\phase-2\\venv\\Lib\\site-packages\\pandas\\core\\generic.py\u001b[0m in \u001b[0;36m?\u001b[1;34m(self, name)\u001b[0m\n\u001b[0;32m   5985\u001b[0m             \u001b[1;32mand\u001b[0m \u001b[0mname\u001b[0m \u001b[1;32mnot\u001b[0m \u001b[1;32min\u001b[0m \u001b[0mself\u001b[0m\u001b[1;33m.\u001b[0m\u001b[0m_accessors\u001b[0m\u001b[1;33m\u001b[0m\u001b[1;33m\u001b[0m\u001b[0m\n\u001b[0;32m   5986\u001b[0m             \u001b[1;32mand\u001b[0m \u001b[0mself\u001b[0m\u001b[1;33m.\u001b[0m\u001b[0m_info_axis\u001b[0m\u001b[1;33m.\u001b[0m\u001b[0m_can_hold_identifiers_and_holds_name\u001b[0m\u001b[1;33m(\u001b[0m\u001b[0mname\u001b[0m\u001b[1;33m)\u001b[0m\u001b[1;33m\u001b[0m\u001b[1;33m\u001b[0m\u001b[0m\n\u001b[0;32m   5987\u001b[0m         ):\n\u001b[0;32m   5988\u001b[0m             \u001b[1;32mreturn\u001b[0m \u001b[0mself\u001b[0m\u001b[1;33m[\u001b[0m\u001b[0mname\u001b[0m\u001b[1;33m]\u001b[0m\u001b[1;33m\u001b[0m\u001b[1;33m\u001b[0m\u001b[0m\n\u001b[1;32m-> 5989\u001b[1;33m         \u001b[1;32mreturn\u001b[0m \u001b[0mobject\u001b[0m\u001b[1;33m.\u001b[0m\u001b[0m__getattribute__\u001b[0m\u001b[1;33m(\u001b[0m\u001b[0mself\u001b[0m\u001b[1;33m,\u001b[0m \u001b[0mname\u001b[0m\u001b[1;33m)\u001b[0m\u001b[1;33m\u001b[0m\u001b[1;33m\u001b[0m\u001b[0m\n\u001b[0m",
      "\u001b[1;31mAttributeError\u001b[0m: 'DataFrame' object has no attribute 'iteritems'"
     ]
    }
   ],
   "source": [
    "import pandas as pd\n",
    "import os\n",
    "\n",
    "from category_encoders import OneHotEncoder\n",
    "from pathlib import Path\n",
    "from sklearn.pipeline import Pipeline\n",
    "from sklearn.tree import DecisionTreeRegressor\n",
    "\n",
    "from src.configuration import load_dataset\n",
    "\n",
    "factors = [\"dataset\", \"model\", \"tuning\", \"scoring\"]\n",
    "new_index = \"encoder\"\n",
    "\n",
    "# ---- load data...\n",
    "DATA_DIR = Path( \"../data/raw\")\n",
    "\n",
    "df_train = load_dataset(DATA_DIR / \"dataset_train.csv\")\n",
    "X_train, X_test, y_train, y_test = custom_train_test_split(df_train, factors, \"cv_score\")\n",
    "\n",
    "# ---- predict\n",
    "dummy_pipe = Pipeline([(\"encoder\", OneHotEncoder()), (\"model\", DecisionTreeRegressor())])\n",
    "y_pred = pd.Series(dummy_pipe.fit(X_train, y_train).predict(X_test), index=y_test.index, name=\"cv_score_pred\")\n",
    "df_pred = pd.concat([X_test, y_test, y_pred], axis=1)\n",
    "\n",
    "# ---- convert to rankings and evaluate\n",
    "rankings_test = get_rankings(df_pred, factors=factors, new_index=new_index, target=\"cv_score\")\n",
    "rankings_pred = get_rankings(df_pred, factors=factors, new_index=new_index, target=\"cv_score_pred\")\n",
    "print(average_spearman(rankings_test, rankings_pred))"
   ]
  }
 ],
 "metadata": {
  "kernelspec": {
   "display_name": "venv",
   "language": "python",
   "name": "python3"
  },
  "language_info": {
   "codemirror_mode": {
    "name": "ipython",
    "version": 3
   },
   "file_extension": ".py",
   "mimetype": "text/x-python",
   "name": "python",
   "nbconvert_exporter": "python",
   "pygments_lexer": "ipython3",
   "version": "3.11.3"
  },
  "orig_nbformat": 4
 },
 "nbformat": 4,
 "nbformat_minor": 2
}
