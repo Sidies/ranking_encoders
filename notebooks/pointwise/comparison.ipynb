{
 "cells": [
  {
   "attachments": {},
   "cell_type": "markdown",
   "id": "a10af6d3",
   "metadata": {},
   "source": [
    "# Pointwise Methods\n",
    "\n",
    "In this notebook, we compare pointwise methods and apply search methods to find the best performing one. First, we load the required dependencies and the data."
   ]
  },
  {
   "cell_type": "code",
   "execution_count": 1,
   "id": "a71e47bf",
   "metadata": {},
   "outputs": [],
   "source": [
    "import os\n",
    "import sys\n",
    "module_path = os.path.abspath(os.path.join('..'))\n",
    "if module_path not in sys.path:\n",
    "    sys.path.append(module_path)\n",
    "    \n",
    "import pandas as pd\n",
    "from category_encoders.binary import BinaryEncoder\n",
    "from category_encoders.one_hot import OneHotEncoder\n",
    "from category_encoders.ordinal import OrdinalEncoder\n",
    "from category_encoders.target_encoder import TargetEncoder\n",
    "from src import configuration as config\n",
    "from src.pipeline.pipeline_factory import PipelineFactory, ModelType, EvaluationType\n",
    "from src.pipeline.pipeline_transformers import *\n",
    "from sklearn.compose import ColumnTransformer\n",
    "\n",
    "\n",
    "# load the data\n",
    "train_df = config.load_traindata_for_pointwise()\n",
    "pipelineFactory = PipelineFactory()"
   ]
  },
  {
   "attachments": {},
   "cell_type": "markdown",
   "id": "7ea6b3da",
   "metadata": {},
   "source": [
    "## Pointwise Regression"
   ]
  },
  {
   "cell_type": "code",
   "execution_count": 9,
   "id": "6e2b0ce8",
   "metadata": {},
   "outputs": [
    {
     "name": "stdout",
     "output_type": "stream",
     "text": [
      "Creating pipeline ...\n",
      "{'keeper': ColumnKeeper(columns=['dataset', 'model', 'tuning', 'scoring', 'encoder']), 'encoder_transformer': PoincareEmbedding(batch_size=50, encoder=OneHotEncoder(), epochs=500,\n",
      "                  graph=<networkx.classes.graph.Graph object at 0x00000286AC3EF610>,\n",
      "                  size=3), 'dataset_transformer': OpenMLMetaFeatureTransformer(encoder=None, expected_pca_variance=0.6,\n",
      "                             nan_ratio_feature_drop_threshold=0.25), 'general_transformer': GeneralPurposeEncoderTransformer(model_encoder=OneHotEncoder(),\n",
      "                                 scoring_encoder=TargetEncoder(),\n",
      "                                 tuning_encoder=TargetEncoder()), 'estimator': DecisionTreeRegressor()}\n",
      "Starting pipeline using method: EvaluationType.CROSS_VALIDATION\n"
     ]
    },
    {
     "name": "stderr",
     "output_type": "stream",
     "text": [
      "100%|██████████| 5/5 [00:30<00:00,  6.14s/it]"
     ]
    },
    {
     "name": "stdout",
     "output_type": "stream",
     "text": [
      "Finished running the pipeline\n",
      "Evaluation metrics:\n",
      "    validation_average_spearman_fold_0: 0.7653\n",
      "    validation_average_spearman_fold_1: 0.7621\n",
      "    validation_average_spearman_fold_2: 0.7324\n",
      "    validation_average_spearman_fold_3: 0.7901\n",
      "    validation_average_spearman_fold_4: 0.7757\n",
      "    average of all folds: 0.7651 [std=0.0191]\n"
     ]
    },
    {
     "name": "stderr",
     "output_type": "stream",
     "text": [
      "\n"
     ]
    }
   ],
   "source": [
    "pipeline = pipelineFactory.create_pipeline(\n",
    "    train_df,\n",
    "    ModelType.POINTWISE_REGRESSION_NO_SEARCH,\n",
    "    verbose_level=1,\n",
    "    evaluation=EvaluationType.CROSS_VALIDATION,\n",
    "    n_folds=5,\n",
    "    workers=1,\n",
    "    target=\"rank\"\n",
    ")\n",
    "print(pipeline.get_pipeline().named_steps)\n",
    "pipeline.run()"
   ]
  },
  {
   "attachments": {},
   "cell_type": "markdown",
   "id": "3e13367e",
   "metadata": {},
   "source": []
  },
  {
   "cell_type": "code",
   "execution_count": null,
   "id": "caf7cd54",
   "metadata": {},
   "outputs": [],
   "source": [
    "param_grid = {\n",
    "    \"encoder_transformer__batch_size\": [50, 500],\n",
    "}\n",
    "\n",
    "pipeline = pipelineFactory.create_pipeline(\n",
    "    train_df,\n",
    "    ModelType.POINTWISE_REGRESSION_NO_SEARCH,\n",
    "    verbose_level=1,\n",
    "    evaluation=EvaluationType.GRID_SEARCH,\n",
    "    param_grid=param_grid,\n",
    "    n_folds=2,\n",
    "    workers=1,\n",
    "    target=\"rank\"\n",
    ")\n",
    "\n",
    "pipeline.run()"
   ]
  },
  {
   "attachments": {},
   "cell_type": "markdown",
   "id": "614bd873",
   "metadata": {},
   "source": []
  },
  {
   "attachments": {},
   "cell_type": "markdown",
   "id": "c98cc673",
   "metadata": {},
   "source": [
    "## Pointwise Classification"
   ]
  },
  {
   "cell_type": "code",
   "execution_count": 8,
   "id": "e5df4b6c",
   "metadata": {},
   "outputs": [
    {
     "name": "stdout",
     "output_type": "stream",
     "text": [
      "Creating pipeline ...\n",
      "{'keeper': ColumnKeeper(columns=['dataset', 'model', 'tuning', 'scoring', 'encoder']), 'encoder_transformer': PoincareEmbedding(batch_size=50, encoder=OneHotEncoder(), epochs=500,\n",
      "                  graph=<networkx.classes.graph.Graph object at 0x00000286A934FA90>,\n",
      "                  size=3), 'dataset_transformer': OpenMLMetaFeatureTransformer(encoder=None, expected_pca_variance=0.6,\n",
      "                             nan_ratio_feature_drop_threshold=0.25), 'general_transformer': GeneralPurposeEncoderTransformer(model_encoder=OneHotEncoder(),\n",
      "                                 scoring_encoder=TargetEncoder(),\n",
      "                                 tuning_encoder=TargetEncoder()), 'estimator': DecisionTreeClassifier()}\n",
      "Starting pipeline using method: EvaluationType.CROSS_VALIDATION\n"
     ]
    },
    {
     "name": "stderr",
     "output_type": "stream",
     "text": [
      "100%|██████████| 5/5 [00:30<00:00,  6.11s/it]"
     ]
    },
    {
     "name": "stdout",
     "output_type": "stream",
     "text": [
      "Finished running the pipeline\n",
      "Evaluation metrics:\n",
      "    validation_average_spearman_fold_0: 0.7669\n",
      "    validation_average_spearman_fold_1: 0.7061\n",
      "    validation_average_spearman_fold_2: 0.7036\n",
      "    validation_average_spearman_fold_3: 0.7566\n",
      "    validation_average_spearman_fold_4: 0.7458\n",
      "    average of all folds: 0.7358 [std=0.0262]\n"
     ]
    },
    {
     "name": "stderr",
     "output_type": "stream",
     "text": [
      "\n"
     ]
    }
   ],
   "source": [
    "# running the pipeline plain wihout parameter tuning using cross validation\n",
    "pipeline = pipelineFactory.create_pipeline(\n",
    "    train_df,\n",
    "    ModelType.POINTWISE_CLASSIFICATION_NO_SEARCH,\n",
    "    evaluation=EvaluationType.CROSS_VALIDATION,\n",
    "    verbose_level=1,\n",
    "    n_folds=5,\n",
    "    workers=16,\n",
    "    target=\"rank\"\n",
    ")\n",
    "\n",
    "#pipeline.add_new_step(PrintDataframe(verbose=1), \"print_dataframe_1\")\n",
    "print(pipeline.get_pipeline().named_steps)\n",
    "pipeline.run()"
   ]
  },
  {
   "attachments": {},
   "cell_type": "markdown",
   "id": "bd100bb9",
   "metadata": {},
   "source": [
    "We get a very good score of > 0.7. Let's try to optimize the score"
   ]
  },
  {
   "cell_type": "code",
   "execution_count": null,
   "id": "0857aeed",
   "metadata": {},
   "outputs": [],
   "source": [
    "param_grid = {\n",
    "    \"encoder_transformer__batch_size\": [50, 500],\n",
    "}\n",
    "\n",
    "pipeline = pipelineFactory.create_pipeline(\n",
    "    train_df,\n",
    "    ModelType.POINTWISE_CLASSIFICATION_NO_SEARCH,\n",
    "    verbose_level=1,\n",
    "    evaluation=EvaluationType.GRID_SEARCH,\n",
    "    param_grid=param_grid,\n",
    "    n_folds=2,\n",
    "    workers=1,\n",
    "    target=\"rank\"\n",
    ")\n",
    "\n",
    "pipeline.run()"
   ]
  },
  {
   "attachments": {},
   "cell_type": "markdown",
   "id": "108818bf",
   "metadata": {},
   "source": []
  },
  {
   "attachments": {},
   "cell_type": "markdown",
   "id": "e1382fe6",
   "metadata": {},
   "source": [
    "## Pointwise Ordinal Regression"
   ]
  },
  {
   "cell_type": "code",
   "execution_count": null,
   "id": "c2f54b67",
   "metadata": {},
   "outputs": [],
   "source": [
    "pipeline = pipelineFactory.create_pipeline(\n",
    "    train_df,\n",
    "    ModelType.POINTWISE_ORDINAL_REGRESSION_NO_SEARCH,\n",
    "    verbose_level=1,\n",
    "    n_folds=5,\n",
    "    workers=1,\n",
    "    target=\"rank\"\n",
    ")\n",
    "\n",
    "pipeline.run()"
   ]
  },
  {
   "attachments": {},
   "cell_type": "markdown",
   "id": "68cea125",
   "metadata": {},
   "source": []
  },
  {
   "cell_type": "code",
   "execution_count": null,
   "id": "ead8fac4",
   "metadata": {},
   "outputs": [],
   "source": [
    "param_grid = {\n",
    "    \"encoder_transformer__batch_size\": [50, 500],\n",
    "}\n",
    "\n",
    "pipeline = pipelineFactory.create_pipeline(\n",
    "    train_df,\n",
    "    ModelType.POINTWISE_ORDINAL_REGRESSION_NO_SEARCH,\n",
    "    verbose_level=1,\n",
    "    evaluation=EvaluationType.GRID_SEARCH,\n",
    "    param_grid=param_grid,\n",
    "    n_folds=2,\n",
    "    workers=1,\n",
    "    target=\"rank\"\n",
    ")\n",
    "\n",
    "pipeline.run()"
   ]
  },
  {
   "attachments": {},
   "cell_type": "markdown",
   "id": "cec22257",
   "metadata": {},
   "source": []
  },
  {
   "attachments": {},
   "cell_type": "markdown",
   "id": "6e27eb43",
   "metadata": {},
   "source": [
    "## Comparison"
   ]
  },
  {
   "cell_type": "code",
   "execution_count": null,
   "id": "e4101aa1",
   "metadata": {},
   "outputs": [],
   "source": []
  },
  {
   "attachments": {},
   "cell_type": "markdown",
   "id": "2d1c2aa8",
   "metadata": {},
   "source": []
  }
 ],
 "metadata": {
  "kernelspec": {
   "display_name": "Python 3 (ipykernel)",
   "language": "python",
   "name": "python3"
  },
  "language_info": {
   "codemirror_mode": {
    "name": "ipython",
    "version": 3
   },
   "file_extension": ".py",
   "mimetype": "text/x-python",
   "name": "python",
   "nbconvert_exporter": "python",
   "pygments_lexer": "ipython3",
   "version": "3.11.3"
  }
 },
 "nbformat": 4,
 "nbformat_minor": 5
}
