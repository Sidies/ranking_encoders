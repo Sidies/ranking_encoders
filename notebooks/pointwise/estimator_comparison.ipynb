{
 "cells": [
  {
   "cell_type": "markdown",
   "id": "8a777b77",
   "metadata": {},
   "source": [
    "# Finding the right Estimator\n",
    "\n",
    "In this notebook, we examine how different estimators perform in our prediction pipeline. First, we load the required dependencies and the data."
   ]
  },
  {
   "cell_type": "code",
   "execution_count": 1,
   "id": "0a6ba7cf",
   "metadata": {},
   "outputs": [],
   "source": [
    "import warnings\n",
    "import os\n",
    "warnings.filterwarnings('ignore')\n",
    "os.environ['PYTHONWARNINGS'] = 'ignore'\n",
    "\n",
    "import os\n",
    "import sys\n",
    "module_path = os.path.abspath(os.path.join('..'))\n",
    "if module_path not in sys.path:\n",
    "    sys.path.append(module_path)\n",
    "    \n",
    "import pandas as pd\n",
    "import matplotlib.pyplot as plt\n",
    "import seaborn as sns\n",
    "from category_encoders.one_hot import OneHotEncoder\n",
    "\n",
    "from src import configuration as config\n",
    "from src.pipeline.pipeline_factory import PipelineFactory, ModelType, EvaluationType"
   ]
  },
  {
   "cell_type": "code",
   "execution_count": 2,
   "id": "ccef78c6",
   "metadata": {},
   "outputs": [],
   "source": [
    "# load the data\n",
    "train_df = config.load_traindata_for_pointwise()\n",
    "pipelineFactory = PipelineFactory()\n",
    "results = {}"
   ]
  },
  {
   "cell_type": "markdown",
   "id": "530b2940",
   "metadata": {},
   "source": [
    "***\n",
    "## 1) Pointwise Regression"
   ]
  },
  {
   "cell_type": "code",
   "execution_count": 3,
   "id": "69d4d832",
   "metadata": {},
   "outputs": [
    {
     "name": "stdout",
     "output_type": "stream",
     "text": [
      "Creating pipeline ...\n"
     ]
    }
   ],
   "source": [
    "pipeline = pipelineFactory.create_pipeline(\n",
    "    train_df,\n",
    "    ModelType.POINTWISE_NORMALIZED_REGRESSION_NO_SEARCH,\n",
    "    evaluation=EvaluationType.CROSS_VALIDATION,\n",
    "    verbose_level=1,\n",
    "    n_folds=5,\n",
    "    workers=1,\n",
    "    target=\"rank\"\n",
    ")\n",
    "scores = {}"
   ]
  },
  {
   "cell_type": "markdown",
   "id": "4c8c309a",
   "metadata": {},
   "source": [
    "### 1.1) Baseline"
   ]
  },
  {
   "cell_type": "code",
   "execution_count": 4,
   "id": "179be5d3",
   "metadata": {},
   "outputs": [
    {
     "name": "stdout",
     "output_type": "stream",
     "text": [
      "Starting pipeline using method: EvaluationType.CROSS_VALIDATION\n"
     ]
    },
    {
     "name": "stderr",
     "output_type": "stream",
     "text": [
      "100%|██████████████████████████████████████████████████████████████████████████████████████████████████████████████████████████| 5/5 [00:58<00:00, 11.67s/it]"
     ]
    },
    {
     "name": "stdout",
     "output_type": "stream",
     "text": [
      "Finished running the pipeline\n",
      "Evaluation metrics:\n",
      "    validation_average_spearman_fold_0: 0.0\n",
      "    validation_average_spearman_fold_1: 0.0\n",
      "    validation_average_spearman_fold_2: 0.0\n",
      "    validation_average_spearman_fold_3: 0.0\n",
      "    validation_average_spearman_fold_4: 0.0\n",
      "    average of all folds: 0.0 [std=0.0]\n"
     ]
    },
    {
     "name": "stderr",
     "output_type": "stream",
     "text": [
      "\n"
     ]
    }
   ],
   "source": [
    "from sklearn.dummy import DummyRegressor\n",
    "\n",
    "pipeline.change_estimator(DummyRegressor())\n",
    "pipeline.run()\n",
    "\n",
    "scores['baseline'] = pipeline._validation_performance_scores"
   ]
  },
  {
   "cell_type": "markdown",
   "id": "2a021382",
   "metadata": {},
   "source": [
    "### 1.2) Linear Regression"
   ]
  },
  {
   "cell_type": "code",
   "execution_count": 5,
   "id": "59fbc0ff",
   "metadata": {},
   "outputs": [
    {
     "name": "stdout",
     "output_type": "stream",
     "text": [
      "Starting pipeline using method: EvaluationType.CROSS_VALIDATION\n"
     ]
    },
    {
     "name": "stderr",
     "output_type": "stream",
     "text": [
      "100%|██████████████████████████████████████████████████████████████████████████████████████████████████████████████████████████| 5/5 [00:51<00:00, 10.20s/it]"
     ]
    },
    {
     "name": "stdout",
     "output_type": "stream",
     "text": [
      "Finished running the pipeline\n",
      "Evaluation metrics:\n",
      "    validation_average_spearman_fold_0: 0.1866\n",
      "    validation_average_spearman_fold_1: 0.1802\n",
      "    validation_average_spearman_fold_2: 0.1746\n",
      "    validation_average_spearman_fold_3: 0.1853\n",
      "    validation_average_spearman_fold_4: 0.1917\n",
      "    average of all folds: 0.1837 [std=0.0058]\n"
     ]
    },
    {
     "name": "stderr",
     "output_type": "stream",
     "text": [
      "\n"
     ]
    }
   ],
   "source": [
    "from sklearn.linear_model import LinearRegression\n",
    "\n",
    "pipeline.change_estimator(LinearRegression())\n",
    "pipeline.run()\n",
    "\n",
    "scores['linear_regression'] = pipeline._validation_performance_scores"
   ]
  },
  {
   "cell_type": "markdown",
   "id": "9eb51d4f",
   "metadata": {},
   "source": [
    "### 1.3) SVMs"
   ]
  },
  {
   "cell_type": "code",
   "execution_count": 6,
   "id": "975382cf",
   "metadata": {},
   "outputs": [
    {
     "name": "stdout",
     "output_type": "stream",
     "text": [
      "Starting pipeline using method: EvaluationType.CROSS_VALIDATION\n"
     ]
    },
    {
     "name": "stderr",
     "output_type": "stream",
     "text": [
      "100%|██████████████████████████████████████████████████████████████████████████████████████████████████████████████████████████| 5/5 [08:18<00:00, 99.69s/it]"
     ]
    },
    {
     "name": "stdout",
     "output_type": "stream",
     "text": [
      "Finished running the pipeline\n",
      "Evaluation metrics:\n",
      "    validation_average_spearman_fold_0: 0.368\n",
      "    validation_average_spearman_fold_1: 0.3587\n",
      "    validation_average_spearman_fold_2: 0.324\n",
      "    validation_average_spearman_fold_3: 0.351\n",
      "    validation_average_spearman_fold_4: 0.3443\n",
      "    average of all folds: 0.3492 [std=0.0149]\n"
     ]
    },
    {
     "name": "stderr",
     "output_type": "stream",
     "text": [
      "\n"
     ]
    }
   ],
   "source": [
    "from sklearn.svm import SVR\n",
    "\n",
    "pipeline.change_estimator(SVR())\n",
    "pipeline.run()\n",
    "\n",
    "scores['svm'] = pipeline._validation_performance_scores"
   ]
  },
  {
   "cell_type": "markdown",
   "id": "fbb08d16",
   "metadata": {},
   "source": [
    "### 1.4) K-Nearest-Neighbours"
   ]
  },
  {
   "cell_type": "code",
   "execution_count": 7,
   "id": "ea1d89cd",
   "metadata": {},
   "outputs": [
    {
     "name": "stdout",
     "output_type": "stream",
     "text": [
      "Starting pipeline using method: EvaluationType.CROSS_VALIDATION\n"
     ]
    },
    {
     "name": "stderr",
     "output_type": "stream",
     "text": [
      "100%|██████████████████████████████████████████████████████████████████████████████████████████████████████████████████████████| 5/5 [01:06<00:00, 13.28s/it]"
     ]
    },
    {
     "name": "stdout",
     "output_type": "stream",
     "text": [
      "Finished running the pipeline\n",
      "Evaluation metrics:\n",
      "    validation_average_spearman_fold_0: 0.6121\n",
      "    validation_average_spearman_fold_1: 0.613\n",
      "    validation_average_spearman_fold_2: 0.583\n",
      "    validation_average_spearman_fold_3: 0.578\n",
      "    validation_average_spearman_fold_4: 0.6\n",
      "    average of all folds: 0.5972 [std=0.0145]\n"
     ]
    },
    {
     "name": "stderr",
     "output_type": "stream",
     "text": [
      "\n"
     ]
    }
   ],
   "source": [
    "from sklearn.neighbors import KNeighborsRegressor\n",
    "\n",
    "pipeline.change_estimator(KNeighborsRegressor())\n",
    "pipeline.run()\n",
    "\n",
    "scores['knn'] = pipeline._validation_performance_scores"
   ]
  },
  {
   "cell_type": "markdown",
   "id": "05dcf26c",
   "metadata": {},
   "source": [
    "### 1.5) Decision Trees"
   ]
  },
  {
   "cell_type": "code",
   "execution_count": 8,
   "id": "7c15f80b",
   "metadata": {},
   "outputs": [
    {
     "name": "stdout",
     "output_type": "stream",
     "text": [
      "Starting pipeline using method: EvaluationType.CROSS_VALIDATION\n"
     ]
    },
    {
     "name": "stderr",
     "output_type": "stream",
     "text": [
      "100%|██████████████████████████████████████████████████████████████████████████████████████████████████████████████████████████| 5/5 [00:56<00:00, 11.38s/it]"
     ]
    },
    {
     "name": "stdout",
     "output_type": "stream",
     "text": [
      "Finished running the pipeline\n",
      "Evaluation metrics:\n",
      "    validation_average_spearman_fold_0: 0.6616\n",
      "    validation_average_spearman_fold_1: 0.6746\n",
      "    validation_average_spearman_fold_2: 0.6312\n",
      "    validation_average_spearman_fold_3: 0.6531\n",
      "    validation_average_spearman_fold_4: 0.6658\n",
      "    average of all folds: 0.6572 [std=0.0147]\n"
     ]
    },
    {
     "name": "stderr",
     "output_type": "stream",
     "text": [
      "\n"
     ]
    }
   ],
   "source": [
    "from sklearn.tree import DecisionTreeRegressor\n",
    "\n",
    "pipeline.change_estimator(DecisionTreeRegressor())\n",
    "pipeline.run()\n",
    "\n",
    "scores['decision_tree'] = pipeline._validation_performance_scores"
   ]
  },
  {
   "cell_type": "markdown",
   "id": "154a03f3",
   "metadata": {},
   "source": [
    "### 1.6) Random Forest Classifier"
   ]
  },
  {
   "cell_type": "code",
   "execution_count": 9,
   "id": "3240138b",
   "metadata": {},
   "outputs": [
    {
     "name": "stdout",
     "output_type": "stream",
     "text": [
      "Starting pipeline using method: EvaluationType.CROSS_VALIDATION\n"
     ]
    },
    {
     "name": "stderr",
     "output_type": "stream",
     "text": [
      "100%|██████████████████████████████████████████████████████████████████████████████████████████████████████████████████████████| 5/5 [02:19<00:00, 27.91s/it]"
     ]
    },
    {
     "name": "stdout",
     "output_type": "stream",
     "text": [
      "Finished running the pipeline\n",
      "Evaluation metrics:\n",
      "    validation_average_spearman_fold_0: 0.7293\n",
      "    validation_average_spearman_fold_1: 0.6968\n",
      "    validation_average_spearman_fold_2: 0.6795\n",
      "    validation_average_spearman_fold_3: 0.7076\n",
      "    validation_average_spearman_fold_4: 0.6961\n",
      "    average of all folds: 0.7019 [std=0.0164]\n"
     ]
    },
    {
     "name": "stderr",
     "output_type": "stream",
     "text": [
      "\n"
     ]
    }
   ],
   "source": [
    "from sklearn.ensemble import RandomForestRegressor\n",
    "\n",
    "pipeline.change_estimator(RandomForestRegressor())\n",
    "pipeline.run()\n",
    "\n",
    "scores['random_forest'] = pipeline._validation_performance_scores"
   ]
  },
  {
   "cell_type": "markdown",
   "id": "df047b0e",
   "metadata": {},
   "source": [
    "### 1.7) Light Gradient Boosting Machine"
   ]
  },
  {
   "cell_type": "code",
   "execution_count": 10,
   "id": "6fda58b8",
   "metadata": {
    "scrolled": true
   },
   "outputs": [
    {
     "name": "stdout",
     "output_type": "stream",
     "text": [
      "Starting pipeline using method: EvaluationType.CROSS_VALIDATION\n"
     ]
    },
    {
     "name": "stderr",
     "output_type": "stream",
     "text": [
      "100%|██████████████████████████████████████████████████████████████████████████████████████████████████████████████████████████| 5/5 [01:06<00:00, 13.29s/it]"
     ]
    },
    {
     "name": "stdout",
     "output_type": "stream",
     "text": [
      "Finished running the pipeline\n",
      "Evaluation metrics:\n",
      "    validation_average_spearman_fold_0: 0.4813\n",
      "    validation_average_spearman_fold_1: 0.4908\n",
      "    validation_average_spearman_fold_2: 0.4607\n",
      "    validation_average_spearman_fold_3: 0.466\n",
      "    validation_average_spearman_fold_4: 0.4645\n",
      "    average of all folds: 0.4726 [std=0.0115]\n"
     ]
    },
    {
     "name": "stderr",
     "output_type": "stream",
     "text": [
      "\n"
     ]
    }
   ],
   "source": [
    "from lightgbm import LGBMRegressor\n",
    "\n",
    "pipeline.change_estimator(LGBMRegressor())\n",
    "pipeline.run()\n",
    "\n",
    "scores['lgbm'] = pipeline._validation_performance_scores"
   ]
  },
  {
   "cell_type": "markdown",
   "id": "783d4864",
   "metadata": {},
   "source": [
    "### 1.8) Neural Networks"
   ]
  },
  {
   "cell_type": "code",
   "execution_count": 11,
   "id": "ef6e928c",
   "metadata": {},
   "outputs": [
    {
     "name": "stdout",
     "output_type": "stream",
     "text": [
      "Starting pipeline using method: EvaluationType.CROSS_VALIDATION\n"
     ]
    },
    {
     "name": "stderr",
     "output_type": "stream",
     "text": [
      "100%|██████████████████████████████████████████████████████████████████████████████████████████████████████████████████████████| 5/5 [02:30<00:00, 30.02s/it]"
     ]
    },
    {
     "name": "stdout",
     "output_type": "stream",
     "text": [
      "Finished running the pipeline\n",
      "Evaluation metrics:\n",
      "    validation_average_spearman_fold_0: 0.4422\n",
      "    validation_average_spearman_fold_1: 0.4627\n",
      "    validation_average_spearman_fold_2: 0.4208\n",
      "    validation_average_spearman_fold_3: 0.4352\n",
      "    validation_average_spearman_fold_4: 0.4311\n",
      "    average of all folds: 0.4384 [std=0.014]\n"
     ]
    },
    {
     "name": "stderr",
     "output_type": "stream",
     "text": [
      "\n"
     ]
    }
   ],
   "source": [
    "from sklearn.neural_network import MLPRegressor\n",
    "\n",
    "pipeline.change_estimator(MLPRegressor())\n",
    "pipeline.run()\n",
    "\n",
    "scores['neural_network'] = pipeline._validation_performance_scores"
   ]
  },
  {
   "cell_type": "code",
   "execution_count": 12,
   "id": "1a45b7cb",
   "metadata": {},
   "outputs": [
    {
     "data": {
      "text/plain": [
       "random_forest        0.701861\n",
       "decision_tree        0.657236\n",
       "knn                  0.597216\n",
       "lgbm                 0.472643\n",
       "neural_network       0.438421\n",
       "svm                  0.349203\n",
       "linear_regression    0.183657\n",
       "baseline             0.000000\n",
       "dtype: float64"
      ]
     },
     "metadata": {},
     "output_type": "display_data"
    },
    {
     "data": {
      "image/png": "[encoded data removed]",
      "text/plain": [
       "<Figure size 432x288 with 1 Axes>"
      ]
     },
     "metadata": {
      "needs_background": "light"
     },
     "output_type": "display_data"
    }
   ],
   "source": [
    "scores_df = pd.DataFrame(scores)\n",
    "scores_df = scores_df.applymap(lambda x: x[0] if isinstance(x, list) else x)\n",
    "scores_df.index = scores_df.index.str.replace('validation_', '')\n",
    "scores_df = scores_df.rename_axis('metric')\n",
    "\n",
    "scores_df = scores_df.mean()\n",
    "display(scores_df.sort_values(ascending=False))\n",
    "sns.barplot(x=scores_df, y=scores_df.index)\n",
    "plt.title('pairwise_regression')\n",
    "plt.xlabel('average_spearman')\n",
    "plt.gcf().subplots_adjust(left=0.25)\n",
    "plt.savefig('pointwise_regression_estimator_comparison.svg')\n",
    "plt.show()"
   ]
  },
  {
   "cell_type": "markdown",
   "id": "ba4cb766",
   "metadata": {},
   "source": [
    "***\n",
    "## 2) Pointwise Classification"
   ]
  },
  {
   "cell_type": "code",
   "execution_count": 3,
   "id": "7021d39a",
   "metadata": {},
   "outputs": [
    {
     "name": "stdout",
     "output_type": "stream",
     "text": [
      "Creating pipeline ...\n"
     ]
    }
   ],
   "source": [
    "pipeline = pipelineFactory.create_pipeline(\n",
    "    train_df,\n",
    "    ModelType.POINTWISE_CLASSIFICATION_NO_SEARCH,\n",
    "    evaluation=EvaluationType.CROSS_VALIDATION,\n",
    "    verbose_level=1,\n",
    "    n_folds=5,\n",
    "    workers=1,\n",
    "    target=\"rank\"\n",
    ")\n",
    "scores = {}"
   ]
  },
  {
   "cell_type": "markdown",
   "id": "383a9712",
   "metadata": {},
   "source": [
    "### 2.1) Baseline"
   ]
  },
  {
   "cell_type": "code",
   "execution_count": 4,
   "id": "53627ea8",
   "metadata": {},
   "outputs": [
    {
     "name": "stdout",
     "output_type": "stream",
     "text": [
      "Starting pipeline using method: EvaluationType.CROSS_VALIDATION\n"
     ]
    },
    {
     "name": "stderr",
     "output_type": "stream",
     "text": [
      "100%|██████████████████████████████████████████████████████████████████████████████████████████████████████████████████████████| 5/5 [00:47<00:00,  9.42s/it]"
     ]
    },
    {
     "name": "stdout",
     "output_type": "stream",
     "text": [
      "Finished running the pipeline\n",
      "Evaluation metrics:\n",
      "    validation_average_spearman_fold_0: 0.0\n",
      "    validation_average_spearman_fold_1: 0.0\n",
      "    validation_average_spearman_fold_2: 0.0\n",
      "    validation_average_spearman_fold_3: 0.0\n",
      "    validation_average_spearman_fold_4: 0.0\n",
      "    average of all folds: 0.0 [std=0.0]\n"
     ]
    },
    {
     "name": "stderr",
     "output_type": "stream",
     "text": [
      "\n"
     ]
    }
   ],
   "source": [
    "from sklearn.dummy import DummyClassifier\n",
    "\n",
    "pipeline.change_estimator(DummyClassifier())\n",
    "pipeline.run()\n",
    "\n",
    "scores['baseline'] = pipeline._validation_performance_scores"
   ]
  },
  {
   "cell_type": "markdown",
   "id": "1af6124d",
   "metadata": {},
   "source": [
    "### 2.2) SVMs"
   ]
  },
  {
   "cell_type": "code",
   "execution_count": 5,
   "id": "04534fdd",
   "metadata": {},
   "outputs": [
    {
     "name": "stdout",
     "output_type": "stream",
     "text": [
      "Starting pipeline using method: EvaluationType.CROSS_VALIDATION\n"
     ]
    },
    {
     "name": "stderr",
     "output_type": "stream",
     "text": [
      "100%|█████████████████████████████████████████████████████████████████████████████████████████████████████████████████████████| 5/5 [12:42<00:00, 152.52s/it]"
     ]
    },
    {
     "name": "stdout",
     "output_type": "stream",
     "text": [
      "Finished running the pipeline\n",
      "Evaluation metrics:\n",
      "    validation_average_spearman_fold_0: 0.0\n",
      "    validation_average_spearman_fold_1: -0.0016\n",
      "    validation_average_spearman_fold_2: 0.0\n",
      "    validation_average_spearman_fold_3: 0.0\n",
      "    validation_average_spearman_fold_4: 0.0\n",
      "    average of all folds: -0.0003 [std=0.0007]\n"
     ]
    },
    {
     "name": "stderr",
     "output_type": "stream",
     "text": [
      "\n"
     ]
    }
   ],
   "source": [
    "from sklearn.svm import SVC\n",
    "\n",
    "pipeline.change_estimator(SVC())\n",
    "pipeline.run()\n",
    "\n",
    "scores['svm'] = pipeline._validation_performance_scores"
   ]
  },
  {
   "cell_type": "markdown",
   "id": "da69a583",
   "metadata": {},
   "source": [
    "### 2.3) K-Nearest-Neighbours"
   ]
  },
  {
   "cell_type": "code",
   "execution_count": 6,
   "id": "9d53917e",
   "metadata": {},
   "outputs": [
    {
     "name": "stdout",
     "output_type": "stream",
     "text": [
      "Starting pipeline using method: EvaluationType.CROSS_VALIDATION\n"
     ]
    },
    {
     "name": "stderr",
     "output_type": "stream",
     "text": [
      "100%|██████████████████████████████████████████████████████████████████████████████████████████████████████████████████████████| 5/5 [00:49<00:00,  9.91s/it]"
     ]
    },
    {
     "name": "stdout",
     "output_type": "stream",
     "text": [
      "Finished running the pipeline\n",
      "Evaluation metrics:\n",
      "    validation_average_spearman_fold_0: 0.2931\n",
      "    validation_average_spearman_fold_1: 0.3211\n",
      "    validation_average_spearman_fold_2: 0.2638\n",
      "    validation_average_spearman_fold_3: 0.2133\n",
      "    validation_average_spearman_fold_4: 0.2648\n",
      "    average of all folds: 0.2712 [std=0.0358]\n"
     ]
    },
    {
     "name": "stderr",
     "output_type": "stream",
     "text": [
      "\n"
     ]
    }
   ],
   "source": [
    "from sklearn.neighbors import KNeighborsClassifier\n",
    "\n",
    "pipeline.change_estimator(KNeighborsClassifier())\n",
    "pipeline.run()\n",
    "\n",
    "scores['knn'] = pipeline._validation_performance_scores"
   ]
  },
  {
   "cell_type": "markdown",
   "id": "bbee626b",
   "metadata": {},
   "source": [
    "### 2.4) Decision Trees"
   ]
  },
  {
   "cell_type": "code",
   "execution_count": 7,
   "id": "3393fd92",
   "metadata": {},
   "outputs": [
    {
     "name": "stdout",
     "output_type": "stream",
     "text": [
      "Starting pipeline using method: EvaluationType.CROSS_VALIDATION\n"
     ]
    },
    {
     "name": "stderr",
     "output_type": "stream",
     "text": [
      "100%|██████████████████████████████████████████████████████████████████████████████████████████████████████████████████████████| 5/5 [00:43<00:00,  8.76s/it]"
     ]
    },
    {
     "name": "stdout",
     "output_type": "stream",
     "text": [
      "Finished running the pipeline\n",
      "Evaluation metrics:\n",
      "    validation_average_spearman_fold_0: 0.6535\n",
      "    validation_average_spearman_fold_1: 0.6117\n",
      "    validation_average_spearman_fold_2: 0.6161\n",
      "    validation_average_spearman_fold_3: 0.6262\n",
      "    validation_average_spearman_fold_4: 0.6301\n",
      "    average of all folds: 0.6275 [std=0.0146]\n"
     ]
    },
    {
     "name": "stderr",
     "output_type": "stream",
     "text": [
      "\n"
     ]
    }
   ],
   "source": [
    "from sklearn.tree import DecisionTreeClassifier\n",
    "\n",
    "pipeline.change_estimator(DecisionTreeClassifier())\n",
    "pipeline.run()\n",
    "\n",
    "scores['decision_tree'] = pipeline._validation_performance_scores"
   ]
  },
  {
   "cell_type": "markdown",
   "id": "3d1e7801",
   "metadata": {},
   "source": [
    "### 2.5) Random Forest Classifier"
   ]
  },
  {
   "cell_type": "code",
   "execution_count": 8,
   "id": "886f49c8",
   "metadata": {},
   "outputs": [
    {
     "name": "stdout",
     "output_type": "stream",
     "text": [
      "Starting pipeline using method: EvaluationType.CROSS_VALIDATION\n"
     ]
    },
    {
     "name": "stderr",
     "output_type": "stream",
     "text": [
      "100%|██████████████████████████████████████████████████████████████████████████████████████████████████████████████████████████| 5/5 [01:18<00:00, 15.78s/it]"
     ]
    },
    {
     "name": "stdout",
     "output_type": "stream",
     "text": [
      "Finished running the pipeline\n",
      "Evaluation metrics:\n",
      "    validation_average_spearman_fold_0: 0.6446\n",
      "    validation_average_spearman_fold_1: 0.6403\n",
      "    validation_average_spearman_fold_2: 0.6216\n",
      "    validation_average_spearman_fold_3: 0.5955\n",
      "    validation_average_spearman_fold_4: 0.6634\n",
      "    average of all folds: 0.6331 [std=0.023]\n"
     ]
    },
    {
     "name": "stderr",
     "output_type": "stream",
     "text": [
      "\n"
     ]
    }
   ],
   "source": [
    "from sklearn.ensemble import RandomForestClassifier\n",
    "\n",
    "pipeline.change_estimator(RandomForestClassifier())\n",
    "pipeline.run()\n",
    "\n",
    "scores['random_forest'] = pipeline._validation_performance_scores"
   ]
  },
  {
   "cell_type": "markdown",
   "id": "2f676766",
   "metadata": {},
   "source": [
    "### 2.6) Light Gradient Boosting Machine"
   ]
  },
  {
   "cell_type": "code",
   "execution_count": 9,
   "id": "49e94041",
   "metadata": {
    "scrolled": true
   },
   "outputs": [
    {
     "name": "stdout",
     "output_type": "stream",
     "text": [
      "Starting pipeline using method: EvaluationType.CROSS_VALIDATION\n"
     ]
    },
    {
     "name": "stderr",
     "output_type": "stream",
     "text": [
      "100%|██████████████████████████████████████████████████████████████████████████████████████████████████████████████████████████| 5/5 [01:19<00:00, 15.92s/it]"
     ]
    },
    {
     "name": "stdout",
     "output_type": "stream",
     "text": [
      "Finished running the pipeline\n",
      "Evaluation metrics:\n",
      "    validation_average_spearman_fold_0: 0.4593\n",
      "    validation_average_spearman_fold_1: 0.4562\n",
      "    validation_average_spearman_fold_2: 0.4495\n",
      "    validation_average_spearman_fold_3: 0.4314\n",
      "    validation_average_spearman_fold_4: 0.477\n",
      "    average of all folds: 0.4547 [std=0.0148]\n"
     ]
    },
    {
     "name": "stderr",
     "output_type": "stream",
     "text": [
      "\n"
     ]
    }
   ],
   "source": [
    "from lightgbm import LGBMClassifier\n",
    "\n",
    "pipeline.change_estimator(LGBMClassifier())\n",
    "pipeline.run()\n",
    "\n",
    "scores['lgbm'] = pipeline._validation_performance_scores"
   ]
  },
  {
   "cell_type": "markdown",
   "id": "76e8c646",
   "metadata": {},
   "source": [
    "### 2.7) Neural Networks"
   ]
  },
  {
   "cell_type": "code",
   "execution_count": 10,
   "id": "99f69a34",
   "metadata": {},
   "outputs": [
    {
     "name": "stdout",
     "output_type": "stream",
     "text": [
      "Starting pipeline using method: EvaluationType.CROSS_VALIDATION\n"
     ]
    },
    {
     "name": "stderr",
     "output_type": "stream",
     "text": [
      "100%|██████████████████████████████████████████████████████████████████████████████████████████████████████████████████████████| 5/5 [06:47<00:00, 81.45s/it]"
     ]
    },
    {
     "name": "stdout",
     "output_type": "stream",
     "text": [
      "Finished running the pipeline\n",
      "Evaluation metrics:\n",
      "    validation_average_spearman_fold_0: 0.231\n",
      "    validation_average_spearman_fold_1: 0.2381\n",
      "    validation_average_spearman_fold_2: 0.2125\n",
      "    validation_average_spearman_fold_3: 0.1782\n",
      "    validation_average_spearman_fold_4: 0.2431\n",
      "    average of all folds: 0.2206 [std=0.0236]\n"
     ]
    },
    {
     "name": "stderr",
     "output_type": "stream",
     "text": [
      "\n"
     ]
    }
   ],
   "source": [
    "from sklearn.neural_network import MLPClassifier\n",
    "\n",
    "pipeline.change_estimator(MLPClassifier())\n",
    "pipeline.run()\n",
    "\n",
    "scores['neural_network'] = pipeline._validation_performance_scores"
   ]
  },
  {
   "cell_type": "code",
   "execution_count": 12,
   "id": "04556531",
   "metadata": {},
   "outputs": [
    {
     "data": {
      "text/plain": [
       "{'validation_average_spearman_fold_0': 0.0,\n",
       " 'validation_average_spearman_fold_1': -0.001633817401512668,\n",
       " 'validation_average_spearman_fold_2': 0.0,\n",
       " 'validation_average_spearman_fold_3': 0.0,\n",
       " 'validation_average_spearman_fold_4': 0.0}"
      ]
     },
     "execution_count": 12,
     "metadata": {},
     "output_type": "execute_result"
    }
   ],
   "source": [
    "all_scores = scores.copy()\n",
    "scores.pop('baseline')\n",
    "scores.pop('svm')"
   ]
  },
  {
   "cell_type": "code",
   "execution_count": 13,
   "id": "a1ae451d",
   "metadata": {},
   "outputs": [
    {
     "data": {
      "text/plain": [
       "random_forest     0.633075\n",
       "decision_tree     0.627525\n",
       "lgbm              0.454669\n",
       "knn               0.271228\n",
       "neural_network    0.220583\n",
       "dtype: float64"
      ]
     },
     "metadata": {},
     "output_type": "display_data"
    },
    {
     "data": {
      "image/png": "[encoded data removed]",
      "text/plain": [
       "<Figure size 432x288 with 1 Axes>"
      ]
     },
     "metadata": {
      "needs_background": "light"
     },
     "output_type": "display_data"
    }
   ],
   "source": [
    "scores_df = pd.DataFrame(scores)\n",
    "scores_df = scores_df.applymap(lambda x: x[0] if isinstance(x, list) else x)\n",
    "scores_df.index = scores_df.index.str.replace('validation_', '')\n",
    "scores_df = scores_df.rename_axis('metric')\n",
    "\n",
    "scores_df = scores_df.mean()\n",
    "display(scores_df.sort_values(ascending=False))\n",
    "sns.barplot(x=scores_df, y=scores_df.index)\n",
    "plt.title('pairwise_classification')\n",
    "plt.xlabel('average_spearman')\n",
    "plt.gcf().subplots_adjust(left=0.25)\n",
    "plt.savefig('pointwise_classification_estimator_comparison.svg')\n",
    "plt.show()"
   ]
  },
  {
   "cell_type": "markdown",
   "id": "b3d0088d",
   "metadata": {},
   "source": [
    "***\n",
    "## 3) Pointwise Ordinal Regression"
   ]
  },
  {
   "cell_type": "code",
   "execution_count": 25,
   "id": "849c37f3",
   "metadata": {},
   "outputs": [
    {
     "name": "stdout",
     "output_type": "stream",
     "text": [
      "Creating pipeline ...\n"
     ]
    }
   ],
   "source": [
    "pipeline = pipelineFactory.create_pipeline(\n",
    "    train_df,\n",
    "    ModelType.POINTWISE_ORDINAL_REGRESSION_NO_SEARCH,\n",
    "    evaluation=EvaluationType.CROSS_VALIDATION,\n",
    "    verbose_level=1,\n",
    "    n_folds=5,\n",
    "    workers=1,\n",
    "    target=\"rank\"\n",
    ")\n",
    "scores = {}"
   ]
  },
  {
   "cell_type": "markdown",
   "id": "f4958e1e",
   "metadata": {},
   "source": [
    "### 3.1) Baseline"
   ]
  },
  {
   "cell_type": "code",
   "execution_count": 23,
   "id": "5b4c95ea",
   "metadata": {},
   "outputs": [
    {
     "name": "stdout",
     "output_type": "stream",
     "text": [
      "Starting pipeline using method: EvaluationType.CROSS_VALIDATION\n"
     ]
    },
    {
     "name": "stderr",
     "output_type": "stream",
     "text": [
      "100%|██████████████████████████████████████████████████████████████████████████████████████████████████████████████████████████| 5/5 [00:56<00:00, 11.39s/it]"
     ]
    },
    {
     "name": "stdout",
     "output_type": "stream",
     "text": [
      "Finished running the pipeline\n",
      "Evaluation metrics:\n",
      "    validation_average_spearman_fold_0: 0.0\n",
      "    validation_average_spearman_fold_1: 0.0\n",
      "    validation_average_spearman_fold_2: 0.0\n",
      "    validation_average_spearman_fold_3: 0.0\n",
      "    validation_average_spearman_fold_4: 0.0\n",
      "    average of all folds: 0.0 [std=0.0]\n"
     ]
    },
    {
     "name": "stderr",
     "output_type": "stream",
     "text": [
      "\n"
     ]
    }
   ],
   "source": [
    "from sklearn.dummy import DummyClassifier\n",
    "\n",
    "pipeline.change_estimator(DummyClassifier())\n",
    "pipeline.run()\n",
    "\n",
    "scores['baseline'] = pipeline._validation_performance_scores"
   ]
  },
  {
   "cell_type": "markdown",
   "id": "57724b7b",
   "metadata": {},
   "source": [
    "### 3.2) SVMs"
   ]
  },
  {
   "cell_type": "code",
   "execution_count": 24,
   "id": "f20dcdda",
   "metadata": {},
   "outputs": [
    {
     "name": "stdout",
     "output_type": "stream",
     "text": [
      "Starting pipeline using method: EvaluationType.CROSS_VALIDATION\n"
     ]
    },
    {
     "ename": "ValueError",
     "evalue": "y should be a 1d array, got an array of shape (36054, 31) instead.",
     "output_type": "error",
     "traceback": [
      "\u001b[1;31m---------------------------------------------------------------------------\u001b[0m",
      "\u001b[1;31mValueError\u001b[0m                                Traceback (most recent call last)",
      "\u001b[1;32m~\\AppData\\Local\\Temp/ipykernel_6148/3594924604.py\u001b[0m in \u001b[0;36m<module>\u001b[1;34m\u001b[0m\n\u001b[0;32m      2\u001b[0m \u001b[1;33m\u001b[0m\u001b[0m\n\u001b[0;32m      3\u001b[0m \u001b[0mpipeline\u001b[0m\u001b[1;33m.\u001b[0m\u001b[0mchange_estimator\u001b[0m\u001b[1;33m(\u001b[0m\u001b[0mSVC\u001b[0m\u001b[1;33m(\u001b[0m\u001b[1;33m)\u001b[0m\u001b[1;33m)\u001b[0m\u001b[1;33m\u001b[0m\u001b[1;33m\u001b[0m\u001b[0m\n\u001b[1;32m----> 4\u001b[1;33m \u001b[0mpipeline\u001b[0m\u001b[1;33m.\u001b[0m\u001b[0mrun\u001b[0m\u001b[1;33m(\u001b[0m\u001b[1;33m)\u001b[0m\u001b[1;33m\u001b[0m\u001b[1;33m\u001b[0m\u001b[0m\n\u001b[0m\u001b[0;32m      5\u001b[0m \u001b[1;33m\u001b[0m\u001b[0m\n\u001b[0;32m      6\u001b[0m \u001b[0mscores\u001b[0m\u001b[1;33m[\u001b[0m\u001b[1;34m'svm'\u001b[0m\u001b[1;33m]\u001b[0m \u001b[1;33m=\u001b[0m \u001b[0mpipeline\u001b[0m\u001b[1;33m.\u001b[0m\u001b[0m_validation_performance_scores\u001b[0m\u001b[1;33m\u001b[0m\u001b[1;33m\u001b[0m\u001b[0m\n",
      "\u001b[1;32mc:\\users\\thomas\\documents\\code\\python\\github\\phase-2\\src\\pipeline\\model_pipeline.py\u001b[0m in \u001b[0;36mrun\u001b[1;34m(self)\u001b[0m\n\u001b[0;32m    219\u001b[0m                 \u001b[0mX_train\u001b[0m\u001b[1;33m,\u001b[0m \u001b[0my_train\u001b[0m \u001b[1;33m=\u001b[0m \u001b[0mself\u001b[0m\u001b[1;33m.\u001b[0m\u001b[0m_split_target\u001b[0m\u001b[1;33m(\u001b[0m\u001b[0mself\u001b[0m\u001b[1;33m.\u001b[0m\u001b[0m_df\u001b[0m\u001b[1;33m,\u001b[0m \u001b[0mself\u001b[0m\u001b[1;33m.\u001b[0m\u001b[0m_target\u001b[0m\u001b[1;33m)\u001b[0m\u001b[1;33m\u001b[0m\u001b[1;33m\u001b[0m\u001b[0m\n\u001b[0;32m    220\u001b[0m \u001b[1;33m\u001b[0m\u001b[0m\n\u001b[1;32m--> 221\u001b[1;33m                 \u001b[0mself\u001b[0m\u001b[1;33m.\u001b[0m\u001b[0m_pipeline\u001b[0m\u001b[1;33m.\u001b[0m\u001b[0mfit\u001b[0m\u001b[1;33m(\u001b[0m\u001b[0mX_train\u001b[0m\u001b[1;33m,\u001b[0m \u001b[0my_train\u001b[0m\u001b[1;33m)\u001b[0m\u001b[1;33m\u001b[0m\u001b[1;33m\u001b[0m\u001b[0m\n\u001b[0m\u001b[0;32m    222\u001b[0m                 self._validation_performance_scores = custom_cross_validation(\n\u001b[0;32m    223\u001b[0m                     \u001b[0mself\u001b[0m\u001b[1;33m.\u001b[0m\u001b[0m_pipeline\u001b[0m\u001b[1;33m,\u001b[0m\u001b[1;33m\u001b[0m\u001b[1;33m\u001b[0m\u001b[0m\n",
      "\u001b[1;32mc:\\users\\thomas\\appdata\\local\\programs\\python\\python38\\lib\\site-packages\\sklearn\\pipeline.py\u001b[0m in \u001b[0;36mfit\u001b[1;34m(self, X, y, **fit_params)\u001b[0m\n\u001b[0;32m    403\u001b[0m             \u001b[1;32mif\u001b[0m \u001b[0mself\u001b[0m\u001b[1;33m.\u001b[0m\u001b[0m_final_estimator\u001b[0m \u001b[1;33m!=\u001b[0m \u001b[1;34m\"passthrough\"\u001b[0m\u001b[1;33m:\u001b[0m\u001b[1;33m\u001b[0m\u001b[1;33m\u001b[0m\u001b[0m\n\u001b[0;32m    404\u001b[0m                 \u001b[0mfit_params_last_step\u001b[0m \u001b[1;33m=\u001b[0m \u001b[0mfit_params_steps\u001b[0m\u001b[1;33m[\u001b[0m\u001b[0mself\u001b[0m\u001b[1;33m.\u001b[0m\u001b[0msteps\u001b[0m\u001b[1;33m[\u001b[0m\u001b[1;33m-\u001b[0m\u001b[1;36m1\u001b[0m\u001b[1;33m]\u001b[0m\u001b[1;33m[\u001b[0m\u001b[1;36m0\u001b[0m\u001b[1;33m]\u001b[0m\u001b[1;33m]\u001b[0m\u001b[1;33m\u001b[0m\u001b[1;33m\u001b[0m\u001b[0m\n\u001b[1;32m--> 405\u001b[1;33m                 \u001b[0mself\u001b[0m\u001b[1;33m.\u001b[0m\u001b[0m_final_estimator\u001b[0m\u001b[1;33m.\u001b[0m\u001b[0mfit\u001b[0m\u001b[1;33m(\u001b[0m\u001b[0mXt\u001b[0m\u001b[1;33m,\u001b[0m \u001b[0my\u001b[0m\u001b[1;33m,\u001b[0m \u001b[1;33m**\u001b[0m\u001b[0mfit_params_last_step\u001b[0m\u001b[1;33m)\u001b[0m\u001b[1;33m\u001b[0m\u001b[1;33m\u001b[0m\u001b[0m\n\u001b[0m\u001b[0;32m    406\u001b[0m \u001b[1;33m\u001b[0m\u001b[0m\n\u001b[0;32m    407\u001b[0m         \u001b[1;32mreturn\u001b[0m \u001b[0mself\u001b[0m\u001b[1;33m\u001b[0m\u001b[1;33m\u001b[0m\u001b[0m\n",
      "\u001b[1;32mc:\\users\\thomas\\appdata\\local\\programs\\python\\python38\\lib\\site-packages\\sklearn\\svm\\_base.py\u001b[0m in \u001b[0;36mfit\u001b[1;34m(self, X, y, sample_weight)\u001b[0m\n\u001b[0;32m    190\u001b[0m             \u001b[0mcheck_consistent_length\u001b[0m\u001b[1;33m(\u001b[0m\u001b[0mX\u001b[0m\u001b[1;33m,\u001b[0m \u001b[0my\u001b[0m\u001b[1;33m)\u001b[0m\u001b[1;33m\u001b[0m\u001b[1;33m\u001b[0m\u001b[0m\n\u001b[0;32m    191\u001b[0m         \u001b[1;32melse\u001b[0m\u001b[1;33m:\u001b[0m\u001b[1;33m\u001b[0m\u001b[1;33m\u001b[0m\u001b[0m\n\u001b[1;32m--> 192\u001b[1;33m             X, y = self._validate_data(\n\u001b[0m\u001b[0;32m    193\u001b[0m                 \u001b[0mX\u001b[0m\u001b[1;33m,\u001b[0m\u001b[1;33m\u001b[0m\u001b[1;33m\u001b[0m\u001b[0m\n\u001b[0;32m    194\u001b[0m                 \u001b[0my\u001b[0m\u001b[1;33m,\u001b[0m\u001b[1;33m\u001b[0m\u001b[1;33m\u001b[0m\u001b[0m\n",
      "\u001b[1;32mc:\\users\\thomas\\appdata\\local\\programs\\python\\python38\\lib\\site-packages\\sklearn\\base.py\u001b[0m in \u001b[0;36m_validate_data\u001b[1;34m(self, X, y, reset, validate_separately, **check_params)\u001b[0m\n\u001b[0;32m    582\u001b[0m                 \u001b[0my\u001b[0m \u001b[1;33m=\u001b[0m \u001b[0mcheck_array\u001b[0m\u001b[1;33m(\u001b[0m\u001b[0my\u001b[0m\u001b[1;33m,\u001b[0m \u001b[0minput_name\u001b[0m\u001b[1;33m=\u001b[0m\u001b[1;34m\"y\"\u001b[0m\u001b[1;33m,\u001b[0m \u001b[1;33m**\u001b[0m\u001b[0mcheck_y_params\u001b[0m\u001b[1;33m)\u001b[0m\u001b[1;33m\u001b[0m\u001b[1;33m\u001b[0m\u001b[0m\n\u001b[0;32m    583\u001b[0m             \u001b[1;32melse\u001b[0m\u001b[1;33m:\u001b[0m\u001b[1;33m\u001b[0m\u001b[1;33m\u001b[0m\u001b[0m\n\u001b[1;32m--> 584\u001b[1;33m                 \u001b[0mX\u001b[0m\u001b[1;33m,\u001b[0m \u001b[0my\u001b[0m \u001b[1;33m=\u001b[0m \u001b[0mcheck_X_y\u001b[0m\u001b[1;33m(\u001b[0m\u001b[0mX\u001b[0m\u001b[1;33m,\u001b[0m \u001b[0my\u001b[0m\u001b[1;33m,\u001b[0m \u001b[1;33m**\u001b[0m\u001b[0mcheck_params\u001b[0m\u001b[1;33m)\u001b[0m\u001b[1;33m\u001b[0m\u001b[1;33m\u001b[0m\u001b[0m\n\u001b[0m\u001b[0;32m    585\u001b[0m             \u001b[0mout\u001b[0m \u001b[1;33m=\u001b[0m \u001b[0mX\u001b[0m\u001b[1;33m,\u001b[0m \u001b[0my\u001b[0m\u001b[1;33m\u001b[0m\u001b[1;33m\u001b[0m\u001b[0m\n\u001b[0;32m    586\u001b[0m \u001b[1;33m\u001b[0m\u001b[0m\n",
      "\u001b[1;32mc:\\users\\thomas\\appdata\\local\\programs\\python\\python38\\lib\\site-packages\\sklearn\\utils\\validation.py\u001b[0m in \u001b[0;36mcheck_X_y\u001b[1;34m(X, y, accept_sparse, accept_large_sparse, dtype, order, copy, force_all_finite, ensure_2d, allow_nd, multi_output, ensure_min_samples, ensure_min_features, y_numeric, estimator)\u001b[0m\n\u001b[0;32m   1120\u001b[0m     )\n\u001b[0;32m   1121\u001b[0m \u001b[1;33m\u001b[0m\u001b[0m\n\u001b[1;32m-> 1122\u001b[1;33m     \u001b[0my\u001b[0m \u001b[1;33m=\u001b[0m \u001b[0m_check_y\u001b[0m\u001b[1;33m(\u001b[0m\u001b[0my\u001b[0m\u001b[1;33m,\u001b[0m \u001b[0mmulti_output\u001b[0m\u001b[1;33m=\u001b[0m\u001b[0mmulti_output\u001b[0m\u001b[1;33m,\u001b[0m \u001b[0my_numeric\u001b[0m\u001b[1;33m=\u001b[0m\u001b[0my_numeric\u001b[0m\u001b[1;33m,\u001b[0m \u001b[0mestimator\u001b[0m\u001b[1;33m=\u001b[0m\u001b[0mestimator\u001b[0m\u001b[1;33m)\u001b[0m\u001b[1;33m\u001b[0m\u001b[1;33m\u001b[0m\u001b[0m\n\u001b[0m\u001b[0;32m   1123\u001b[0m \u001b[1;33m\u001b[0m\u001b[0m\n\u001b[0;32m   1124\u001b[0m     \u001b[0mcheck_consistent_length\u001b[0m\u001b[1;33m(\u001b[0m\u001b[0mX\u001b[0m\u001b[1;33m,\u001b[0m \u001b[0my\u001b[0m\u001b[1;33m)\u001b[0m\u001b[1;33m\u001b[0m\u001b[1;33m\u001b[0m\u001b[0m\n",
      "\u001b[1;32mc:\\users\\thomas\\appdata\\local\\programs\\python\\python38\\lib\\site-packages\\sklearn\\utils\\validation.py\u001b[0m in \u001b[0;36m_check_y\u001b[1;34m(y, multi_output, y_numeric, estimator)\u001b[0m\n\u001b[0;32m   1141\u001b[0m     \u001b[1;32melse\u001b[0m\u001b[1;33m:\u001b[0m\u001b[1;33m\u001b[0m\u001b[1;33m\u001b[0m\u001b[0m\n\u001b[0;32m   1142\u001b[0m         \u001b[0mestimator_name\u001b[0m \u001b[1;33m=\u001b[0m \u001b[0m_check_estimator_name\u001b[0m\u001b[1;33m(\u001b[0m\u001b[0mestimator\u001b[0m\u001b[1;33m)\u001b[0m\u001b[1;33m\u001b[0m\u001b[1;33m\u001b[0m\u001b[0m\n\u001b[1;32m-> 1143\u001b[1;33m         \u001b[0my\u001b[0m \u001b[1;33m=\u001b[0m \u001b[0mcolumn_or_1d\u001b[0m\u001b[1;33m(\u001b[0m\u001b[0my\u001b[0m\u001b[1;33m,\u001b[0m \u001b[0mwarn\u001b[0m\u001b[1;33m=\u001b[0m\u001b[1;32mTrue\u001b[0m\u001b[1;33m)\u001b[0m\u001b[1;33m\u001b[0m\u001b[1;33m\u001b[0m\u001b[0m\n\u001b[0m\u001b[0;32m   1144\u001b[0m         \u001b[0m_assert_all_finite\u001b[0m\u001b[1;33m(\u001b[0m\u001b[0my\u001b[0m\u001b[1;33m,\u001b[0m \u001b[0minput_name\u001b[0m\u001b[1;33m=\u001b[0m\u001b[1;34m\"y\"\u001b[0m\u001b[1;33m,\u001b[0m \u001b[0mestimator_name\u001b[0m\u001b[1;33m=\u001b[0m\u001b[0mestimator_name\u001b[0m\u001b[1;33m)\u001b[0m\u001b[1;33m\u001b[0m\u001b[1;33m\u001b[0m\u001b[0m\n\u001b[0;32m   1145\u001b[0m         \u001b[0m_ensure_no_complex_data\u001b[0m\u001b[1;33m(\u001b[0m\u001b[0my\u001b[0m\u001b[1;33m)\u001b[0m\u001b[1;33m\u001b[0m\u001b[1;33m\u001b[0m\u001b[0m\n",
      "\u001b[1;32mc:\\users\\thomas\\appdata\\local\\programs\\python\\python38\\lib\\site-packages\\sklearn\\utils\\validation.py\u001b[0m in \u001b[0;36mcolumn_or_1d\u001b[1;34m(y, dtype, warn)\u001b[0m\n\u001b[0;32m   1200\u001b[0m         \u001b[1;32mreturn\u001b[0m \u001b[0m_asarray_with_order\u001b[0m\u001b[1;33m(\u001b[0m\u001b[0mxp\u001b[0m\u001b[1;33m.\u001b[0m\u001b[0mreshape\u001b[0m\u001b[1;33m(\u001b[0m\u001b[0my\u001b[0m\u001b[1;33m,\u001b[0m \u001b[1;33m-\u001b[0m\u001b[1;36m1\u001b[0m\u001b[1;33m)\u001b[0m\u001b[1;33m,\u001b[0m \u001b[0morder\u001b[0m\u001b[1;33m=\u001b[0m\u001b[1;34m\"C\"\u001b[0m\u001b[1;33m,\u001b[0m \u001b[0mxp\u001b[0m\u001b[1;33m=\u001b[0m\u001b[0mxp\u001b[0m\u001b[1;33m)\u001b[0m\u001b[1;33m\u001b[0m\u001b[1;33m\u001b[0m\u001b[0m\n\u001b[0;32m   1201\u001b[0m \u001b[1;33m\u001b[0m\u001b[0m\n\u001b[1;32m-> 1202\u001b[1;33m     raise ValueError(\n\u001b[0m\u001b[0;32m   1203\u001b[0m         \u001b[1;34m\"y should be a 1d array, got an array of shape {} instead.\"\u001b[0m\u001b[1;33m.\u001b[0m\u001b[0mformat\u001b[0m\u001b[1;33m(\u001b[0m\u001b[0mshape\u001b[0m\u001b[1;33m)\u001b[0m\u001b[1;33m\u001b[0m\u001b[1;33m\u001b[0m\u001b[0m\n\u001b[0;32m   1204\u001b[0m     )\n",
      "\u001b[1;31mValueError\u001b[0m: y should be a 1d array, got an array of shape (36054, 31) instead."
     ]
    }
   ],
   "source": [
    "from sklearn.svm import SVC\n",
    "\n",
    "pipeline.change_estimator(SVC())\n",
    "pipeline.run()\n",
    "\n",
    "scores['svm'] = pipeline._validation_performance_scores"
   ]
  },
  {
   "cell_type": "markdown",
   "id": "b39b206f",
   "metadata": {},
   "source": [
    "### 3.3) K-Nearest-Neighbours"
   ]
  },
  {
   "cell_type": "code",
   "execution_count": 26,
   "id": "b2e2d8c4",
   "metadata": {},
   "outputs": [
    {
     "name": "stdout",
     "output_type": "stream",
     "text": [
      "Starting pipeline using method: EvaluationType.CROSS_VALIDATION\n"
     ]
    },
    {
     "name": "stderr",
     "output_type": "stream",
     "text": [
      "100%|██████████████████████████████████████████████████████████████████████████████████████████████████████████████████████████| 5/5 [01:40<00:00, 20.01s/it]"
     ]
    },
    {
     "name": "stdout",
     "output_type": "stream",
     "text": [
      "Finished running the pipeline\n",
      "Evaluation metrics:\n",
      "    validation_average_spearman_fold_0: 0.2761\n",
      "    validation_average_spearman_fold_1: 0.2882\n",
      "    validation_average_spearman_fold_2: 0.2718\n",
      "    validation_average_spearman_fold_3: 0.228\n",
      "    validation_average_spearman_fold_4: 0.2465\n",
      "    average of all folds: 0.2621 [std=0.0218]\n"
     ]
    },
    {
     "name": "stderr",
     "output_type": "stream",
     "text": [
      "\n"
     ]
    }
   ],
   "source": [
    "from sklearn.neighbors import KNeighborsClassifier\n",
    "\n",
    "pipeline.change_estimator(KNeighborsClassifier())\n",
    "pipeline.run()\n",
    "\n",
    "scores['knn'] = pipeline._validation_performance_scores"
   ]
  },
  {
   "cell_type": "markdown",
   "id": "fdd4665c",
   "metadata": {},
   "source": [
    "### 3.4) Decision Trees"
   ]
  },
  {
   "cell_type": "code",
   "execution_count": 27,
   "id": "73b5393b",
   "metadata": {},
   "outputs": [
    {
     "name": "stdout",
     "output_type": "stream",
     "text": [
      "Starting pipeline using method: EvaluationType.CROSS_VALIDATION\n"
     ]
    },
    {
     "name": "stderr",
     "output_type": "stream",
     "text": [
      "100%|██████████████████████████████████████████████████████████████████████████████████████████████████████████████████████████| 5/5 [00:59<00:00, 11.81s/it]"
     ]
    },
    {
     "name": "stdout",
     "output_type": "stream",
     "text": [
      "Finished running the pipeline\n",
      "Evaluation metrics:\n",
      "    validation_average_spearman_fold_0: 0.633\n",
      "    validation_average_spearman_fold_1: 0.6482\n",
      "    validation_average_spearman_fold_2: 0.6245\n",
      "    validation_average_spearman_fold_3: 0.667\n",
      "    validation_average_spearman_fold_4: 0.6355\n",
      "    average of all folds: 0.6416 [std=0.0148]\n"
     ]
    },
    {
     "name": "stderr",
     "output_type": "stream",
     "text": [
      "\n"
     ]
    }
   ],
   "source": [
    "from sklearn.tree import DecisionTreeClassifier\n",
    "\n",
    "pipeline.change_estimator(DecisionTreeClassifier())\n",
    "pipeline.run()\n",
    "\n",
    "scores['decision_tree'] = pipeline._validation_performance_scores"
   ]
  },
  {
   "cell_type": "markdown",
   "id": "f09a4121",
   "metadata": {},
   "source": [
    "### 3.5) Random Forest Classifier"
   ]
  },
  {
   "cell_type": "code",
   "execution_count": 28,
   "id": "69ba658d",
   "metadata": {},
   "outputs": [
    {
     "name": "stdout",
     "output_type": "stream",
     "text": [
      "Starting pipeline using method: EvaluationType.CROSS_VALIDATION\n"
     ]
    },
    {
     "name": "stderr",
     "output_type": "stream",
     "text": [
      "100%|██████████████████████████████████████████████████████████████████████████████████████████████████████████████████████████| 5/5 [03:11<00:00, 38.21s/it]"
     ]
    },
    {
     "name": "stdout",
     "output_type": "stream",
     "text": [
      "Finished running the pipeline\n",
      "Evaluation metrics:\n",
      "    validation_average_spearman_fold_0: 0.4695\n",
      "    validation_average_spearman_fold_1: 0.4802\n",
      "    validation_average_spearman_fold_2: 0.4428\n",
      "    validation_average_spearman_fold_3: 0.4463\n",
      "    validation_average_spearman_fold_4: 0.5008\n",
      "    average of all folds: 0.4679 [std=0.0216]\n"
     ]
    },
    {
     "name": "stderr",
     "output_type": "stream",
     "text": [
      "\n"
     ]
    }
   ],
   "source": [
    "from sklearn.ensemble import RandomForestClassifier\n",
    "\n",
    "pipeline.change_estimator(RandomForestClassifier())\n",
    "pipeline.run()\n",
    "\n",
    "scores['random_forest'] = pipeline._validation_performance_scores"
   ]
  },
  {
   "cell_type": "markdown",
   "id": "e0c2ed2e",
   "metadata": {},
   "source": [
    "### 3.6) Light Gradient Boosting Machine"
   ]
  },
  {
   "cell_type": "code",
   "execution_count": null,
   "id": "7c21b53a",
   "metadata": {
    "scrolled": true
   },
   "outputs": [],
   "source": [
    "from lightgbm import LGBMClassifier\n",
    "\n",
    "pipeline.change_estimator(LGBMClassifier())\n",
    "pipeline.run()\n",
    "\n",
    "scores['lgbm'] = pipeline._validation_performance_scores"
   ]
  },
  {
   "cell_type": "markdown",
   "id": "e88b64f5",
   "metadata": {},
   "source": [
    "### 3.7) Neural Networks"
   ]
  },
  {
   "cell_type": "code",
   "execution_count": 29,
   "id": "eb975523",
   "metadata": {},
   "outputs": [
    {
     "name": "stdout",
     "output_type": "stream",
     "text": [
      "Starting pipeline using method: EvaluationType.CROSS_VALIDATION\n"
     ]
    },
    {
     "name": "stderr",
     "output_type": "stream",
     "text": [
      "100%|██████████████████████████████████████████████████████████████████████████████████████████████████████████████████████████| 5/5 [06:10<00:00, 74.16s/it]"
     ]
    },
    {
     "name": "stdout",
     "output_type": "stream",
     "text": [
      "Finished running the pipeline\n",
      "Evaluation metrics:\n",
      "    validation_average_spearman_fold_0: 0.364\n",
      "    validation_average_spearman_fold_1: 0.3819\n",
      "    validation_average_spearman_fold_2: 0.3588\n",
      "    validation_average_spearman_fold_3: 0.339\n",
      "    validation_average_spearman_fold_4: 0.3352\n",
      "    average of all folds: 0.3558 [std=0.0171]\n"
     ]
    },
    {
     "name": "stderr",
     "output_type": "stream",
     "text": [
      "\n"
     ]
    }
   ],
   "source": [
    "from sklearn.neural_network import MLPClassifier\n",
    "\n",
    "pipeline.change_estimator(MLPClassifier())\n",
    "pipeline.run()\n",
    "\n",
    "scores['neural_network'] = pipeline._validation_performance_scores"
   ]
  },
  {
   "cell_type": "code",
   "execution_count": 30,
   "id": "afbc5cbf",
   "metadata": {},
   "outputs": [
    {
     "data": {
      "text/plain": [
       "decision_tree     0.641633\n",
       "random_forest     0.467909\n",
       "neural_network    0.355771\n",
       "knn               0.262127\n",
       "dtype: float64"
      ]
     },
     "metadata": {},
     "output_type": "display_data"
    },
    {
     "data": {
      "image/png": "[encoded data removed]",
      "text/plain": [
       "<Figure size 432x288 with 1 Axes>"
      ]
     },
     "metadata": {
      "needs_background": "light"
     },
     "output_type": "display_data"
    }
   ],
   "source": [
    "scores_df = pd.DataFrame(scores)\n",
    "scores_df = scores_df.applymap(lambda x: x[0] if isinstance(x, list) else x)\n",
    "scores_df.index = scores_df.index.str.replace('validation_', '')\n",
    "scores_df = scores_df.rename_axis('metric')\n",
    "\n",
    "scores_df = scores_df.mean()\n",
    "display(scores_df.sort_values(ascending=False))\n",
    "sns.barplot(x=scores_df, y=scores_df.index)\n",
    "plt.title('pairwise_ordinal_regression')\n",
    "plt.xlabel('average_spearman')\n",
    "plt.gcf().subplots_adjust(left=0.25)\n",
    "plt.savefig('pointwise_ordinal_regression_estimator_comparison.svg')\n",
    "plt.show()"
   ]
  }
 ],
 "metadata": {
  "kernelspec": {
   "display_name": "Python 3 (ipykernel)",
   "language": "python",
   "name": "python3"
  },
  "language_info": {
   "codemirror_mode": {
    "name": "ipython",
    "version": 3
   },
   "file_extension": ".py",
   "mimetype": "text/x-python",
   "name": "python",
   "nbconvert_exporter": "python",
   "pygments_lexer": "ipython3",
   "version": "3.8.10"
  }
 },
 "nbformat": 4,
 "nbformat_minor": 5
}
