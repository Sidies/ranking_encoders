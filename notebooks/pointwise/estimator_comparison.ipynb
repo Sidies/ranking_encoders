{
 "cells": [
  {
   "cell_type": "markdown",
   "id": "cdf154e6",
   "metadata": {},
   "source": [
    "# Finding the right Estimator\n",
    "\n",
    "In this notebook, we examine how different estimators perform in our prediction pipeline. First, we load the required dependencies and the data."
   ]
  },
  {
   "cell_type": "code",
   "execution_count": null,
   "id": "80cfdab2",
   "metadata": {},
   "outputs": [],
   "source": [
    "import os\n",
    "import sys\n",
    "module_path = os.path.abspath(os.path.join('..'))\n",
    "if module_path not in sys.path:\n",
    "    sys.path.append(module_path)\n",
    "    \n",
    "import pandas as pd\n",
    "import matplotlib.pyplot as plt\n",
    "import seaborn as sns\n",
    "from category_encoders.one_hot import OneHotEncoder\n",
    "\n",
    "\n",
    "from src import configuration as config\n",
    "from src.pipeline.pipeline_factory import PipelineFactory, ModelType, EvaluationType"
   ]
  },
  {
   "cell_type": "code",
   "execution_count": null,
   "id": "a050bec3",
   "metadata": {},
   "outputs": [],
   "source": [
    "# load the data\n",
    "train_df = config.load_traindata_for_pointwise()\n",
    "pipelineFactory = PipelineFactory()\n",
    "results = {}"
   ]
  },
  {
   "cell_type": "markdown",
   "id": "aca2db9c",
   "metadata": {},
   "source": [
    "***\n",
    "## 1) Pointwise Regression"
   ]
  },
  {
   "cell_type": "code",
   "execution_count": null,
   "id": "34eff50e",
   "metadata": {},
   "outputs": [],
   "source": [
    "pipeline = pipelineFactory.create_pipeline(\n",
    "    train_df,\n",
    "    ModelType.POINTWISE_NORMALIZED_REGRESSION_NO_SEARCH,\n",
    "    evaluation=EvaluationType.CROSS_VALIDATION,\n",
    "    verbose_level=1,\n",
    "    n_folds=5,\n",
    "    workers=1,\n",
    "    target=\"rank\"\n",
    ")\n",
    "scores = {}"
   ]
  },
  {
   "cell_type": "markdown",
   "id": "22bbe06a",
   "metadata": {},
   "source": [
    "### 1.1) Baseline"
   ]
  },
  {
   "cell_type": "code",
   "execution_count": null,
   "id": "79521b34",
   "metadata": {},
   "outputs": [],
   "source": [
    "from sklearn.dummy import DummyRegressor\n",
    "\n",
    "pipeline.change_estimator(DummyRegressor())\n",
    "pipeline.run()\n",
    "\n",
    "scores['baseline'] = pipeline._validation_performance_scores"
   ]
  },
  {
   "cell_type": "markdown",
   "id": "8d5fae1c",
   "metadata": {},
   "source": [
    "### 1.2) Linear Regression"
   ]
  },
  {
   "cell_type": "code",
   "execution_count": null,
   "id": "00ec3c2b",
   "metadata": {},
   "outputs": [],
   "source": [
    "from sklearn.linear_model import LinearRegression\n",
    "\n",
    "pipeline.change_estimator(LinearRegression())\n",
    "pipeline.run()\n",
    "\n",
    "scores['linear_regression'] = pipeline._validation_performance_scores"
   ]
  },
  {
   "cell_type": "markdown",
   "id": "eefa7b33",
   "metadata": {},
   "source": [
    "### 1.3) SVMs"
   ]
  },
  {
   "cell_type": "code",
   "execution_count": null,
   "id": "25e1511d",
   "metadata": {},
   "outputs": [],
   "source": [
    "from sklearn.svm import SVR\n",
    "\n",
    "pipeline.change_estimator(SVR())\n",
    "pipeline.run()\n",
    "\n",
    "scores['svm'] = pipeline._validation_performance_scores"
   ]
  },
  {
   "cell_type": "markdown",
   "id": "9c00cb2c",
   "metadata": {},
   "source": [
    "### 1.4) K-Nearest-Neighbours"
   ]
  },
  {
   "cell_type": "code",
   "execution_count": null,
   "id": "fb48afca",
   "metadata": {},
   "outputs": [],
   "source": [
    "from sklearn.neighbors import KNeighborsRegressor\n",
    "\n",
    "pipeline.change_estimator(KNeighborsRegressor())\n",
    "pipeline.run()\n",
    "\n",
    "scores['knn'] = pipeline._validation_performance_scores"
   ]
  },
  {
   "cell_type": "markdown",
   "id": "9f3c621a",
   "metadata": {},
   "source": [
    "### 1.5) Decision Trees"
   ]
  },
  {
   "cell_type": "code",
   "execution_count": null,
   "id": "ecfde2fe",
   "metadata": {},
   "outputs": [],
   "source": [
    "from sklearn.tree import DecisionTreeRegressor\n",
    "\n",
    "pipeline.change_estimator(DecisionTreeRegressor())\n",
    "pipeline.run()\n",
    "\n",
    "scores['decision_tree'] = pipeline._validation_performance_scores"
   ]
  },
  {
   "cell_type": "markdown",
   "id": "93bf4aee",
   "metadata": {},
   "source": [
    "### 1.6) Random Forest Classifier"
   ]
  },
  {
   "cell_type": "code",
   "execution_count": null,
   "id": "a5a069f4",
   "metadata": {},
   "outputs": [],
   "source": [
    "from sklearn.ensemble import RandomForestRegressor\n",
    "\n",
    "pipeline.change_estimator(RandomForestRegressor())\n",
    "pipeline.run()\n",
    "\n",
    "scores['random_forest'] = pipeline._validation_performance_scores"
   ]
  },
  {
   "cell_type": "markdown",
   "id": "8b4789a5",
   "metadata": {},
   "source": [
    "### 1.7) Light Gradient Boosting Machine"
   ]
  },
  {
   "cell_type": "code",
   "execution_count": null,
   "id": "4c977cd0",
   "metadata": {
    "scrolled": true
   },
   "outputs": [],
   "source": [
    "from lightgbm import LGBMRegressor\n",
    "\n",
    "pipeline.change_estimator(LGBMRegressor())\n",
    "pipeline.run()\n",
    "\n",
    "scores['lgbm'] = pipeline._validation_performance_scores"
   ]
  },
  {
   "cell_type": "markdown",
   "id": "6e56f990",
   "metadata": {},
   "source": [
    "### 1.8) Neural Networks"
   ]
  },
  {
   "cell_type": "code",
   "execution_count": null,
   "id": "8cbc8b88",
   "metadata": {},
   "outputs": [],
   "source": [
    "from sklearn.neural_network import MLPRegressor\n",
    "\n",
    "pipeline.change_estimator(MLPRegressor())\n",
    "pipeline.run()\n",
    "\n",
    "scores['neural_network'] = pipeline._validation_performance_scores"
   ]
  },
  {
   "cell_type": "code",
   "execution_count": null,
   "id": "491dacb8",
   "metadata": {},
   "outputs": [],
   "source": [
    "scores_df = pd.DataFrame(scores)\n",
    "scores_df = scores_df.applymap(lambda x: x[0] if isinstance(x, list) else x)\n",
    "scores_df.index = scores_df.index.str.replace('validation_', '')\n",
    "scores_df = scores_df.rename_axis('metric')\n",
    "\n",
    "scores_df = scores_df.mean()\n",
    "display(scores_df.sort_values(ascending=False))\n",
    "sns.barplot(x=scores_df, y=scores_df.index)\n",
    "plt.title('pairwise_regression')\n",
    "plt.xlabel('average_spearman')\n",
    "plt.gcf().subplots_adjust(left=0.25)\n",
    "plt.savefig('pairwise_regression_estimator_comparison.svg')\n",
    "plt.show()"
   ]
  },
  {
   "cell_type": "markdown",
   "id": "469a00e2",
   "metadata": {},
   "source": [
    "***\n",
    "## 2) Pointwise Classification"
   ]
  },
  {
   "cell_type": "code",
   "execution_count": null,
   "id": "85fd973b",
   "metadata": {},
   "outputs": [],
   "source": [
    "pipeline = pipelineFactory.create_pipeline(\n",
    "    train_df,\n",
    "    ModelType.POINTWISE_CLASSIFICATION_NO_SEARCH,\n",
    "    evaluation=EvaluationType.CROSS_VALIDATION,\n",
    "    verbose_level=1,\n",
    "    n_folds=5,\n",
    "    workers=1,\n",
    "    target=\"rank\"\n",
    ")\n",
    "scores = {}"
   ]
  },
  {
   "cell_type": "markdown",
   "id": "22bbe06a",
   "metadata": {},
   "source": [
    "### 2.1) Baseline"
   ]
  },
  {
   "cell_type": "code",
   "execution_count": null,
   "id": "79521b34",
   "metadata": {},
   "outputs": [],
   "source": [
    "from sklearn.dummy import DummyClassifier\n",
    "\n",
    "pipeline.change_estimator(DummyClassifier())\n",
    "pipeline.run()\n",
    "\n",
    "scores['baseline'] = pipeline._validation_performance_scores"
   ]
  },
  {
   "cell_type": "markdown",
   "id": "eefa7b33",
   "metadata": {},
   "source": [
    "### 2.2) SVMs"
   ]
  },
  {
   "cell_type": "code",
   "execution_count": null,
   "id": "25e1511d",
   "metadata": {},
   "outputs": [],
   "source": [
    "from sklearn.svm import SVC\n",
    "\n",
    "pipeline.change_estimator(SVC())\n",
    "pipeline.run()\n",
    "\n",
    "scores['svm'] = pipeline._validation_performance_scores"
   ]
  },
  {
   "cell_type": "markdown",
   "id": "9c00cb2c",
   "metadata": {},
   "source": [
    "### 2.3) K-Nearest-Neighbours"
   ]
  },
  {
   "cell_type": "code",
   "execution_count": null,
   "id": "fb48afca",
   "metadata": {},
   "outputs": [],
   "source": [
    "from sklearn.neighbors import KNeighborsClassifier\n",
    "\n",
    "pipeline.change_estimator(KNeighborsClassifier())\n",
    "pipeline.run()\n",
    "\n",
    "scores['knn'] = pipeline._validation_performance_scores"
   ]
  },
  {
   "cell_type": "markdown",
   "id": "9f3c621a",
   "metadata": {},
   "source": [
    "### 2.4) Decision Trees"
   ]
  },
  {
   "cell_type": "code",
   "execution_count": null,
   "id": "ecfde2fe",
   "metadata": {},
   "outputs": [],
   "source": [
    "from sklearn.tree import DecisionTreeClassifier\n",
    "\n",
    "pipeline.change_estimator(DecisionTreeClassifier())\n",
    "pipeline.run()\n",
    "\n",
    "scores['decision_tree'] = pipeline._validation_performance_scores"
   ]
  },
  {
   "cell_type": "markdown",
   "id": "93bf4aee",
   "metadata": {},
   "source": [
    "### 2.5) Random Forest Classifier"
   ]
  },
  {
   "cell_type": "code",
   "execution_count": null,
   "id": "a5a069f4",
   "metadata": {},
   "outputs": [],
   "source": [
    "from sklearn.ensemble import RandomForestClassifier\n",
    "\n",
    "pipeline.change_estimator(RandomForestClassifier())\n",
    "pipeline.run()\n",
    "\n",
    "scores['random_forest'] = pipeline._validation_performance_scores"
   ]
  },
  {
   "cell_type": "markdown",
   "id": "8b4789a5",
   "metadata": {},
   "source": [
    "### 2.6) Light Gradient Boosting Machine"
   ]
  },
  {
   "cell_type": "code",
   "execution_count": null,
   "id": "4c977cd0",
   "metadata": {
    "scrolled": true
   },
   "outputs": [],
   "source": [
    "from lightgbm import LGBMClassifier\n",
    "\n",
    "pipeline.change_estimator(LGBMClassifier())\n",
    "pipeline.run()\n",
    "\n",
    "scores['lgbm'] = pipeline._validation_performance_scores"
   ]
  },
  {
   "cell_type": "markdown",
   "id": "6e56f990",
   "metadata": {},
   "source": [
    "### 2.7) Neural Networks"
   ]
  },
  {
   "cell_type": "code",
   "execution_count": null,
   "id": "8cbc8b88",
   "metadata": {},
   "outputs": [],
   "source": [
    "from sklearn.neural_network import MLPClassifier\n",
    "\n",
    "pipeline.change_estimator(MLPClassifier())\n",
    "pipeline.run()\n",
    "\n",
    "scores['neural_network'] = pipeline._validation_performance_scores"
   ]
  },
  {
   "cell_type": "code",
   "execution_count": null,
   "id": "491dacb8",
   "metadata": {},
   "outputs": [],
   "source": [
    "scores_df = pd.DataFrame(scores)\n",
    "scores_df = scores_df.applymap(lambda x: x[0] if isinstance(x, list) else x)\n",
    "scores_df.index = scores_df.index.str.replace('validation_', '')\n",
    "scores_df = scores_df.rename_axis('metric')\n",
    "\n",
    "scores_df = scores_df.mean()\n",
    "display(scores_df.sort_values(ascending=False))\n",
    "sns.barplot(x=scores_df, y=scores_df.index)\n",
    "plt.title('pairwise_classification')\n",
    "plt.xlabel('average_spearman')\n",
    "plt.gcf().subplots_adjust(left=0.25)\n",
    "plt.savefig('pairwise_classification_estimator_comparison.svg')\n",
    "plt.show()"
   ]
  },
  {
   "cell_type": "markdown",
   "id": "aca2db9c",
   "metadata": {},
   "source": [
    "***\n",
    "## 3) Pointwise Ordinal Regression"
   ]
  },
  {
   "cell_type": "code",
   "execution_count": null,
   "id": "aa1d77c0",
   "metadata": {},
   "outputs": [],
   "source": [
    "pipeline = pipelineFactory.create_pipeline(\n",
    "    train_df,\n",
    "    ModelType.POINTWISE_ORDINAL_REGRESSION_NO_SEARCH,\n",
    "    evaluation=EvaluationType.CROSS_VALIDATION,\n",
    "    verbose_level=1,\n",
    "    n_folds=5,\n",
    "    workers=1,\n",
    "    target=\"rank\"\n",
    ")\n",
    "scores = {}"
   ]
  },
  {
   "cell_type": "markdown",
   "id": "22bbe06a",
   "metadata": {},
   "source": [
    "### 3.1) Baseline"
   ]
  },
  {
   "cell_type": "code",
   "execution_count": null,
   "id": "79521b34",
   "metadata": {},
   "outputs": [],
   "source": [
    "from sklearn.dummy import DummyClassifier\n",
    "\n",
    "pipeline.change_estimator(DummyClassifier())\n",
    "pipeline.run()\n",
    "\n",
    "scores['baseline'] = pipeline._validation_performance_scores"
   ]
  },
  {
   "cell_type": "markdown",
   "id": "eefa7b33",
   "metadata": {},
   "source": [
    "### 3.2) SVMs"
   ]
  },
  {
   "cell_type": "code",
   "execution_count": null,
   "id": "25e1511d",
   "metadata": {},
   "outputs": [],
   "source": [
    "from sklearn.svm import SVC\n",
    "\n",
    "pipeline.change_estimator(SVC())\n",
    "pipeline.run()\n",
    "\n",
    "scores['svm'] = pipeline._validation_performance_scores"
   ]
  },
  {
   "cell_type": "markdown",
   "id": "9c00cb2c",
   "metadata": {},
   "source": [
    "### 3.3) K-Nearest-Neighbours"
   ]
  },
  {
   "cell_type": "code",
   "execution_count": null,
   "id": "fb48afca",
   "metadata": {},
   "outputs": [],
   "source": [
    "from sklearn.neighbors import KNeighborsClassifier\n",
    "\n",
    "pipeline.change_estimator(KNeighborsClassifier())\n",
    "pipeline.run()\n",
    "\n",
    "scores['knn'] = pipeline._validation_performance_scores"
   ]
  },
  {
   "cell_type": "markdown",
   "id": "9f3c621a",
   "metadata": {},
   "source": [
    "### 3.4) Decision Trees"
   ]
  },
  {
   "cell_type": "code",
   "execution_count": null,
   "id": "ecfde2fe",
   "metadata": {},
   "outputs": [],
   "source": [
    "from sklearn.tree import DecisionTreeClassifier\n",
    "\n",
    "pipeline.change_estimator(DecisionTreeClassifier())\n",
    "pipeline.run()\n",
    "\n",
    "scores['decision_tree'] = pipeline._validation_performance_scores"
   ]
  },
  {
   "cell_type": "markdown",
   "id": "93bf4aee",
   "metadata": {},
   "source": [
    "### 3.5) Random Forest Classifier"
   ]
  },
  {
   "cell_type": "code",
   "execution_count": null,
   "id": "a5a069f4",
   "metadata": {},
   "outputs": [],
   "source": [
    "from sklearn.ensemble import RandomForestClassifier\n",
    "\n",
    "pipeline.change_estimator(RandomForestClassifier())\n",
    "pipeline.run()\n",
    "\n",
    "scores['random_forest'] = pipeline._validation_performance_scores"
   ]
  },
  {
   "cell_type": "markdown",
   "id": "8b4789a5",
   "metadata": {},
   "source": [
    "### 3.6) Light Gradient Boosting Machine"
   ]
  },
  {
   "cell_type": "code",
   "execution_count": null,
   "id": "4c977cd0",
   "metadata": {
    "scrolled": true
   },
   "outputs": [],
   "source": [
    "from lightgbm import LGBMClassifier\n",
    "\n",
    "pipeline.change_estimator(LGBMClassifier())\n",
    "pipeline.run()\n",
    "\n",
    "scores['lgbm'] = pipeline._validation_performance_scores"
   ]
  },
  {
   "cell_type": "markdown",
   "id": "6e56f990",
   "metadata": {},
   "source": [
    "### 3.7) Neural Networks"
   ]
  },
  {
   "cell_type": "code",
   "execution_count": null,
   "id": "8cbc8b88",
   "metadata": {},
   "outputs": [],
   "source": [
    "from sklearn.neural_network import MLPClassifier\n",
    "\n",
    "pipeline.change_estimator(MLPClassifier())\n",
    "pipeline.run()\n",
    "\n",
    "scores['neural_network'] = pipeline._validation_performance_scores"
   ]
  },
  {
   "cell_type": "code",
   "execution_count": null,
   "id": "491dacb8",
   "metadata": {},
   "outputs": [],
   "source": [
    "scores_df = pd.DataFrame(scores)\n",
    "scores_df = scores_df.applymap(lambda x: x[0] if isinstance(x, list) else x)\n",
    "scores_df.index = scores_df.index.str.replace('validation_', '')\n",
    "scores_df = scores_df.rename_axis('metric')\n",
    "\n",
    "scores_df = scores_df.mean()\n",
    "display(scores_df.sort_values(ascending=False))\n",
    "sns.barplot(x=scores_df, y=scores_df.index)\n",
    "plt.title('pairwise_ordinal_regression')\n",
    "plt.xlabel('average_spearman')\n",
    "plt.gcf().subplots_adjust(left=0.25)\n",
    "plt.savefig('pairwise_ordinal_regression_estimator_comparison.svg')\n",
    "plt.show()"
   ]
  }
 ],
 "metadata": {
  "kernelspec": {
   "display_name": "Python 3 (ipykernel)",
   "language": "python",
   "name": "python3"
  },
  "language_info": {
   "codemirror_mode": {
    "name": "ipython",
    "version": 3
   },
   "file_extension": ".py",
   "mimetype": "text/x-python",
   "name": "python",
   "nbconvert_exporter": "python",
   "pygments_lexer": "ipython3",
   "version": "3.8.10"
  }
 },
 "nbformat": 4,
 "nbformat_minor": 5
}
