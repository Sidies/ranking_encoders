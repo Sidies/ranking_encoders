{
 "cells": [
  {
   "cell_type": "markdown",
   "id": "a10af6d3",
   "metadata": {},
   "source": [
    "# Pointwise Ordinal Regression\n",
    "\n",
    "In this notebook, we examine the pointwise ordinal regression approach, including tuning. First, we load the required dependencies and the data."
   ]
  },
  {
   "cell_type": "code",
   "execution_count": 3,
   "id": "a71e47bf",
   "metadata": {},
   "outputs": [],
   "source": [
    "import os\n",
    "import sys\n",
    "module_path = os.path.abspath(os.path.join('..'))\n",
    "if module_path not in sys.path:\n",
    "    sys.path.append(module_path)\n",
    "    \n",
    "import pandas as pd\n",
    "from category_encoders.binary import BinaryEncoder\n",
    "from category_encoders.one_hot import OneHotEncoder\n",
    "from category_encoders.ordinal import OrdinalEncoder\n",
    "from category_encoders.target_encoder import TargetEncoder\n",
    "from datetime import timedelta\n",
    "from sklearn.compose import ColumnTransformer\n",
    "from time import time\n",
    "\n",
    "from src import configuration as config\n",
    "from src.pipeline.pipeline_factory import PipelineFactory, ModelType, EvaluationType\n",
    "from src.pipeline.pipeline_transformers import *\n",
    "\n",
    "\n",
    "# load the data\n",
    "train_df = config.load_traindata_for_pointwise()\n",
    "pipelineFactory = PipelineFactory()"
   ]
  },
  {
   "cell_type": "markdown",
   "id": "e1382fe6",
   "metadata": {},
   "source": [
    "## Pointwise Ordinal Regression"
   ]
  },
  {
   "cell_type": "code",
   "execution_count": 4,
   "id": "c2f54b67",
   "metadata": {},
   "outputs": [
    {
     "name": "stdout",
     "output_type": "stream",
     "text": [
      "Creating pipeline ...\n",
      "Starting pipeline using method: EvaluationType.CROSS_VALIDATION\n"
     ]
    },
    {
     "name": "stderr",
     "output_type": "stream",
     "text": [
      "100%|█████████████████████████████████████████████| 5/5 [01:12<00:00, 14.51s/it]"
     ]
    },
    {
     "name": "stdout",
     "output_type": "stream",
     "text": [
      "Finished running the pipeline\n",
      "Evaluation metrics:\n",
      "    validation_average_spearman_fold_0: 0.7479\n",
      "    validation_average_spearman_fold_1: 0.7569\n",
      "    validation_average_spearman_fold_2: 0.7275\n",
      "    validation_average_spearman_fold_3: 0.793\n",
      "    validation_average_spearman_fold_4: 0.7676\n",
      "    average of all folds: 0.7586 [std=0.0217]\n",
      "\n",
      "runtime: 0:01:25 [85s]\n"
     ]
    },
    {
     "name": "stderr",
     "output_type": "stream",
     "text": [
      "\n"
     ]
    }
   ],
   "source": [
    "start = time()\n",
    "\n",
    "pipeline = pipelineFactory.create_pipeline(\n",
    "    train_df,\n",
    "    ModelType.POINTWISE_ORDINAL_REGRESSION_NO_SEARCH,\n",
    "    evaluation=EvaluationType.CROSS_VALIDATION,\n",
    "    verbose_level=1,\n",
    "    n_folds=5,\n",
    "    workers=1,\n",
    "    target=\"rank\"\n",
    ")\n",
    "\n",
    "pipeline.run()\n",
    "\n",
    "runtime = int(time() - start)\n",
    "print('\\nruntime: ' + str(timedelta(seconds=runtime)) + ' [' + str(runtime) + 's]')"
   ]
  },
  {
   "cell_type": "markdown",
   "id": "68cea125",
   "metadata": {},
   "source": []
  },
  {
   "cell_type": "code",
   "execution_count": 5,
   "id": "ead8fac4",
   "metadata": {},
   "outputs": [
    {
     "name": "stdout",
     "output_type": "stream",
     "text": [
      "Creating pipeline ...\n",
      "Starting pipeline using method: EvaluationType.GRID_SEARCH\n",
      "Performing grid search\n"
     ]
    },
    {
     "name": "stderr",
     "output_type": "stream",
     "text": [
      "  0%|                                                     | 0/2 [00:00<?, ?it/s]\n",
      "  0%|                                                     | 0/2 [00:00<?, ?it/s]\u001b[A\n",
      " 50%|██████████████████████▌                      | 1/2 [00:01<00:01,  1.53s/it]\u001b[A\n",
      "100%|█████████████████████████████████████████████| 2/2 [00:03<00:00,  1.88s/it]\u001b[A\n",
      " 50%|██████████████████████▌                      | 1/2 [00:28<00:28, 28.19s/it]\u001b[A\n",
      "  0%|                                                     | 0/2 [00:00<?, ?it/s]\u001b[A\n",
      " 50%|██████████████████████▌                      | 1/2 [00:01<00:01,  1.46s/it]\u001b[A\n",
      "100%|█████████████████████████████████████████████| 2/2 [00:03<00:00,  1.85s/it]\u001b[A\n",
      "100%|█████████████████████████████████████████████| 2/2 [00:55<00:00, 27.83s/it]\u001b[A"
     ]
    },
    {
     "name": "stdout",
     "output_type": "stream",
     "text": [
      "Finished running the pipeline\n",
      "Evaluation metrics:\n",
      "    best_score: 0.7587\n",
      "    best_params: {'encoder_transformer__batch_size': 50}\n",
      "\n",
      "runtime: 0:00:55 [55s]\n"
     ]
    },
    {
     "name": "stderr",
     "output_type": "stream",
     "text": [
      "\n"
     ]
    }
   ],
   "source": [
    "start = time()\n",
    "\n",
    "param_grid = {\n",
    "    \"encoder_transformer__batch_size\": [50, 500],\n",
    "}\n",
    "\n",
    "pipeline = pipelineFactory.create_pipeline(\n",
    "    train_df,\n",
    "    ModelType.POINTWISE_ORDINAL_REGRESSION_NO_SEARCH,\n",
    "    verbose_level=1,\n",
    "    evaluation=EvaluationType.GRID_SEARCH,\n",
    "    param_grid=param_grid,\n",
    "    n_folds=2,\n",
    "    workers=1,\n",
    "    target=\"rank\"\n",
    ")\n",
    "\n",
    "pipeline.run()\n",
    "\n",
    "runtime = int(time() - start)\n",
    "print('\\nruntime: ' + str(timedelta(seconds=runtime)) + ' [' + str(runtime) + 's]')"
   ]
  },
  {
   "cell_type": "markdown",
   "id": "7ebedfce",
   "metadata": {},
   "source": []
  },
  {
   "cell_type": "markdown",
   "id": "b745eae7",
   "metadata": {},
   "source": [
    "### Tuning with Bayes Search"
   ]
  },
  {
   "cell_type": "code",
   "execution_count": null,
   "id": "a6e511eb",
   "metadata": {},
   "outputs": [],
   "source": [
    "start = time()\n",
    "\n",
    "# number of optimization rounds = n_iter / n_points (e.g. 50 rounds in our case)\n",
    "n_iter = 200 # how many unique parameters to examine - our default: 200\n",
    "n_points = 4 # how many unique parameter combinations per optimization round - our default: 4\n",
    "cv = 4 # how many fits for each unique parameter combination - our default: 4\n",
    "n_jobs = -1 # how many fits in parallel (only parallelizable per round) - our default: -1\n",
    "\n",
    "pipeline = pipelineFactory.create_pipeline(\n",
    "    train_df,\n",
    "    ModelType.POINTWISE_ORDINAL_REGRESSION_BAYES_SEARCH,\n",
    "    verbose_level=1,\n",
    "    target=\"rank\",\n",
    "    bayes_n_iter=n_iter,\n",
    "    bayes_n_points=n_points,\n",
    "    bayes_cv=cv,\n",
    "    bayes_n_jobs=n_jobs\n",
    ")\n",
    "\n",
    "pipeline.run()\n",
    "\n",
    "runtime = int(time() - start)\n",
    "print('\\nruntime: ' + str(timedelta(seconds=runtime)) + ' [' + str(runtime) + 's]')"
   ]
  },
  {
   "cell_type": "code",
   "execution_count": null,
   "id": "684bf3fa",
   "metadata": {},
   "outputs": [],
   "source": []
  }
 ],
 "metadata": {
  "kernelspec": {
   "display_name": "Python 3 (ipykernel)",
   "language": "python",
   "name": "python3"
  },
  "language_info": {
   "codemirror_mode": {
    "name": "ipython",
    "version": 3
   },
   "file_extension": ".py",
   "mimetype": "text/x-python",
   "name": "python",
   "nbconvert_exporter": "python",
   "pygments_lexer": "ipython3",
   "version": "3.10.6"
  }
 },
 "nbformat": 4,
 "nbformat_minor": 5
}
