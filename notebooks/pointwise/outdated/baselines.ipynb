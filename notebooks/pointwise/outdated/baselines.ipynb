{
 "cells": [
  {
   "cell_type": "markdown",
   "id": "a10af6d3",
   "metadata": {},
   "source": [
    "# Pointwise Methods - Baselines\n",
    "\n",
    "In this notebook, we compare pointwise methods regarding a baseline preprocessing of just one-hot encoding every feature. First, we load the required dependencies and the data."
   ]
  },
  {
   "cell_type": "code",
   "execution_count": 1,
   "id": "a71e47bf",
   "metadata": {},
   "outputs": [],
   "source": [
    "import os\n",
    "import sys\n",
    "module_path = os.path.abspath(os.path.join('..'))\n",
    "if module_path not in sys.path:\n",
    "    sys.path.append(module_path)\n",
    "    \n",
    "import pandas as pd\n",
    "from category_encoders.binary import BinaryEncoder\n",
    "from category_encoders.one_hot import OneHotEncoder\n",
    "from category_encoders.ordinal import OrdinalEncoder\n",
    "from category_encoders.target_encoder import TargetEncoder\n",
    "from datetime import timedelta\n",
    "from sklearn.compose import ColumnTransformer\n",
    "from time import time\n",
    "\n",
    "from src import configuration as config\n",
    "from src.features.encoder_utils import NoY\n",
    "from src.pipeline.pipeline_factory import PipelineFactory, ModelType, EvaluationType\n",
    "from src.pipeline.pipeline_transformers import *\n",
    "\n",
    "\n",
    "# load the data\n",
    "train_df = config.load_traindata_for_pointwise()\n",
    "pipelineFactory = PipelineFactory()"
   ]
  },
  {
   "cell_type": "code",
   "execution_count": 2,
   "id": "1a72d51f",
   "metadata": {},
   "outputs": [],
   "source": [
    "def set_baseline_steps(pipeline):\n",
    "    pipeline.clear_steps()\n",
    "    pipeline.add_new_step(ColumnKeeper(['dataset', 'model', 'tuning', 'scoring']), 'keeper')\n",
    "    pipeline.add_new_step(NoY(OneHotEncoder(['dataset', 'model', 'tuning', 'scoring'])), 'baseline')"
   ]
  },
  {
   "cell_type": "markdown",
   "id": "7ea6b3da",
   "metadata": {},
   "source": [
    "## Pointwise Regression"
   ]
  },
  {
   "cell_type": "code",
   "execution_count": 3,
   "id": "6e2b0ce8",
   "metadata": {
    "scrolled": false
   },
   "outputs": [
    {
     "name": "stdout",
     "output_type": "stream",
     "text": [
      "Creating pipeline ...\n",
      "[('keeper', ColumnKeeper(columns=['dataset', 'model', 'tuning', 'scoring'])), ('baseline', <src.features.encoder_utils.NoY object at 0x0000020D959964F0>), ('estimator', RandomForestRegressor())]\n",
      "Starting pipeline using method: EvaluationType.CROSS_VALIDATION\n"
     ]
    },
    {
     "name": "stderr",
     "output_type": "stream",
     "text": [
      "100%|██████████████████████████████████████████████████████████████████████████████████████████████████████████████████████████| 5/5 [00:14<00:00,  2.85s/it]"
     ]
    },
    {
     "name": "stdout",
     "output_type": "stream",
     "text": [
      "Finished running the pipeline\n",
      "Evaluation metrics:\n",
      "    validation_average_spearman_fold_0: 0.5633\n",
      "    validation_average_spearman_fold_1: 0.5459\n",
      "    validation_average_spearman_fold_2: 0.5594\n",
      "    validation_average_spearman_fold_3: 0.5653\n",
      "    validation_average_spearman_fold_4: 0.58\n",
      "    average of all folds: 0.5628 [std=0.011]\n",
      "\n",
      "runtime: 0:00:17 [17s]\n"
     ]
    },
    {
     "name": "stderr",
     "output_type": "stream",
     "text": [
      "\n"
     ]
    }
   ],
   "source": [
    "start = time()\n",
    "\n",
    "pipeline = pipelineFactory.create_pipeline(\n",
    "    train_df,\n",
    "    ModelType.POINTWISE_REGRESSION_NO_SEARCH,\n",
    "    verbose_level=1,\n",
    "    evaluation=EvaluationType.CROSS_VALIDATION,\n",
    "    n_folds=5,\n",
    "    workers=1,\n",
    "    target=\"rank\"\n",
    ")\n",
    "set_baseline_steps(pipeline)\n",
    "print(pipeline.get_pipeline().steps)\n",
    "pipeline.run()\n",
    "\n",
    "runtime = int(time() - start)\n",
    "print('\\nruntime: ' + str(timedelta(seconds=runtime)) + ' [' + str(runtime) + 's]')"
   ]
  },
  {
   "cell_type": "markdown",
   "id": "08d8164d",
   "metadata": {},
   "source": []
  },
  {
   "cell_type": "code",
   "execution_count": 4,
   "id": "da745c8c",
   "metadata": {},
   "outputs": [
    {
     "name": "stdout",
     "output_type": "stream",
     "text": [
      "Creating pipeline ...\n",
      "[('keeper', ColumnKeeper(columns=['dataset', 'model', 'tuning', 'scoring'])), ('baseline', <src.features.encoder_utils.NoY object at 0x0000020D95968E50>), ('estimator', RandomForestRegressor())]\n",
      "Starting pipeline using method: EvaluationType.CROSS_VALIDATION\n"
     ]
    },
    {
     "name": "stderr",
     "output_type": "stream",
     "text": [
      "c:\\users\\thomas\\appdata\\local\\programs\\python\\python38\\lib\\site-packages\\sklearn\\pipeline.py:405: DataConversionWarning: A column-vector y was passed when a 1d array was expected. Please change the shape of y to (n_samples,), for example using ravel().\n",
      "  self._final_estimator.fit(Xt, y, **fit_params_last_step)\n",
      "  0%|                                                                                                                                  | 0/5 [00:00<?, ?it/s]c:\\users\\thomas\\appdata\\local\\programs\\python\\python38\\lib\\site-packages\\sklearn\\pipeline.py:405: DataConversionWarning: A column-vector y was passed when a 1d array was expected. Please change the shape of y to (n_samples,), for example using ravel().\n",
      "  self._final_estimator.fit(Xt, y, **fit_params_last_step)\n",
      " 20%|████████████████████████▍                                                                                                 | 1/5 [00:04<00:16,  4.00s/it]c:\\users\\thomas\\appdata\\local\\programs\\python\\python38\\lib\\site-packages\\sklearn\\pipeline.py:405: DataConversionWarning: A column-vector y was passed when a 1d array was expected. Please change the shape of y to (n_samples,), for example using ravel().\n",
      "  self._final_estimator.fit(Xt, y, **fit_params_last_step)\n",
      " 40%|████████████████████████████████████████████████▊                                                                         | 2/5 [00:07<00:11,  3.89s/it]c:\\users\\thomas\\appdata\\local\\programs\\python\\python38\\lib\\site-packages\\sklearn\\pipeline.py:405: DataConversionWarning: A column-vector y was passed when a 1d array was expected. Please change the shape of y to (n_samples,), for example using ravel().\n",
      "  self._final_estimator.fit(Xt, y, **fit_params_last_step)\n",
      " 60%|█████████████████████████████████████████████████████████████████████████▏                                                | 3/5 [00:11<00:07,  3.76s/it]c:\\users\\thomas\\appdata\\local\\programs\\python\\python38\\lib\\site-packages\\sklearn\\pipeline.py:405: DataConversionWarning: A column-vector y was passed when a 1d array was expected. Please change the shape of y to (n_samples,), for example using ravel().\n",
      "  self._final_estimator.fit(Xt, y, **fit_params_last_step)\n",
      " 80%|█████████████████████████████████████████████████████████████████████████████████████████████████▌                        | 4/5 [00:15<00:03,  3.75s/it]c:\\users\\thomas\\appdata\\local\\programs\\python\\python38\\lib\\site-packages\\sklearn\\pipeline.py:405: DataConversionWarning: A column-vector y was passed when a 1d array was expected. Please change the shape of y to (n_samples,), for example using ravel().\n",
      "  self._final_estimator.fit(Xt, y, **fit_params_last_step)\n",
      "100%|██████████████████████████████████████████████████████████████████████████████████████████████████████████████████████████| 5/5 [00:19<00:00,  3.82s/it]"
     ]
    },
    {
     "name": "stdout",
     "output_type": "stream",
     "text": [
      "Finished running the pipeline\n",
      "Evaluation metrics:\n",
      "    validation_average_spearman_fold_0: 0.5887\n",
      "    validation_average_spearman_fold_1: 0.5899\n",
      "    validation_average_spearman_fold_2: 0.5934\n",
      "    validation_average_spearman_fold_3: 0.6011\n",
      "    validation_average_spearman_fold_4: 0.6055\n",
      "    average of all folds: 0.5957 [std=0.0065]\n",
      "\n",
      "runtime: 0:00:27 [27s]\n"
     ]
    },
    {
     "name": "stderr",
     "output_type": "stream",
     "text": [
      "\n"
     ]
    }
   ],
   "source": [
    "start = time()\n",
    "\n",
    "pipeline = pipelineFactory.create_pipeline(\n",
    "    train_df,\n",
    "    ModelType.POINTWISE_NORMALIZED_REGRESSION_NO_SEARCH,\n",
    "    verbose_level=1,\n",
    "    evaluation=EvaluationType.CROSS_VALIDATION,\n",
    "    n_folds=5,\n",
    "    workers=1,\n",
    "    target=\"rank\"\n",
    ")\n",
    "set_baseline_steps(pipeline)\n",
    "print(pipeline.get_pipeline().steps)\n",
    "pipeline.run()\n",
    "\n",
    "runtime = int(time() - start)\n",
    "print('\\nruntime: ' + str(timedelta(seconds=runtime)) + ' [' + str(runtime) + 's]')"
   ]
  },
  {
   "cell_type": "markdown",
   "id": "c98cc673",
   "metadata": {},
   "source": [
    "## Pointwise Classification"
   ]
  },
  {
   "cell_type": "code",
   "execution_count": 4,
   "id": "e5df4b6c",
   "metadata": {},
   "outputs": [
    {
     "name": "stdout",
     "output_type": "stream",
     "text": [
      "Creating pipeline ...\n",
      "[('keeper', ColumnKeeper(columns=['dataset', 'model', 'tuning', 'scoring'])), ('baseline', <src.features.encoder_utils.NoY object at 0x0000023F745CEBE0>), ('estimator', DecisionTreeClassifier())]\n",
      "Starting pipeline using method: EvaluationType.CROSS_VALIDATION\n"
     ]
    },
    {
     "name": "stderr",
     "output_type": "stream",
     "text": [
      "100%|██████████████████████████████████████████████████████████████████████████████████████████████████████████████████████████| 5/5 [00:03<00:00,  1.60it/s]"
     ]
    },
    {
     "name": "stdout",
     "output_type": "stream",
     "text": [
      "Finished running the pipeline\n",
      "Evaluation metrics:\n",
      "    validation_average_spearman_fold_0: 0.3308\n",
      "    validation_average_spearman_fold_1: 0.2648\n",
      "    validation_average_spearman_fold_2: 0.3079\n",
      "    validation_average_spearman_fold_3: 0.2905\n",
      "    validation_average_spearman_fold_4: 0.3364\n",
      "    average of all folds: 0.3061 [std=0.0264]\n",
      "\n",
      "runtime: 0:00:03 [3s]\n"
     ]
    },
    {
     "name": "stderr",
     "output_type": "stream",
     "text": [
      "\n"
     ]
    }
   ],
   "source": [
    "start = time()\n",
    "\n",
    "pipeline = pipelineFactory.create_pipeline(\n",
    "    train_df,\n",
    "    ModelType.POINTWISE_CLASSIFICATION_NO_SEARCH,\n",
    "    evaluation=EvaluationType.CROSS_VALIDATION,\n",
    "    verbose_level=1,\n",
    "    n_folds=5,\n",
    "    workers=16,\n",
    "    target=\"rank\"\n",
    ")\n",
    "set_baseline_steps(pipeline)\n",
    "print(pipeline.get_pipeline().steps)\n",
    "pipeline.run()\n",
    "\n",
    "runtime = int(time() - start)\n",
    "print('\\nruntime: ' + str(timedelta(seconds=runtime)) + ' [' + str(runtime) + 's]')"
   ]
  },
  {
   "cell_type": "markdown",
   "id": "e1382fe6",
   "metadata": {},
   "source": [
    "## Pointwise Ordinal Regression"
   ]
  },
  {
   "cell_type": "code",
   "execution_count": 3,
   "id": "c2f54b67",
   "metadata": {},
   "outputs": [
    {
     "name": "stdout",
     "output_type": "stream",
     "text": [
      "Creating pipeline ...\n",
      "[('keeper', ColumnKeeper(columns=['dataset', 'model', 'tuning', 'scoring'])), ('baseline', <src.features.encoder_utils.NoY object at 0x0000023F60F7B670>), ('estimator', DecisionTreeClassifier())]\n",
      "Starting pipeline using method: EvaluationType.CROSS_VALIDATION\n"
     ]
    },
    {
     "name": "stderr",
     "output_type": "stream",
     "text": [
      "100%|██████████████████████████████████████████████████████████████████████████████████████████████████████████████████████████| 5/5 [00:11<00:00,  2.38s/it]"
     ]
    },
    {
     "name": "stdout",
     "output_type": "stream",
     "text": [
      "Finished running the pipeline\n",
      "Evaluation metrics:\n",
      "    validation_average_spearman_fold_0: 0.5433\n",
      "    validation_average_spearman_fold_1: 0.5142\n",
      "    validation_average_spearman_fold_2: 0.5455\n",
      "    validation_average_spearman_fold_3: 0.5606\n",
      "    validation_average_spearman_fold_4: 0.5446\n",
      "    average of all folds: 0.5416 [std=0.0151]\n",
      "\n",
      "runtime: 0:00:12 [12s]\n"
     ]
    },
    {
     "name": "stderr",
     "output_type": "stream",
     "text": [
      "\n"
     ]
    }
   ],
   "source": [
    "start = time()\n",
    "\n",
    "pipeline = pipelineFactory.create_pipeline(\n",
    "    train_df,\n",
    "    ModelType.POINTWISE_ORDINAL_REGRESSION_NO_SEARCH,\n",
    "    evaluation=EvaluationType.CROSS_VALIDATION,\n",
    "    verbose_level=1,\n",
    "    n_folds=5,\n",
    "    workers=1,\n",
    "    target=\"rank\"\n",
    ")\n",
    "set_baseline_steps(pipeline)\n",
    "print(pipeline.get_pipeline().steps)\n",
    "pipeline.run()\n",
    "\n",
    "runtime = int(time() - start)\n",
    "print('\\nruntime: ' + str(timedelta(seconds=runtime)) + ' [' + str(runtime) + 's]')"
   ]
  },
  {
   "cell_type": "code",
   "execution_count": null,
   "id": "a83be2e9",
   "metadata": {},
   "outputs": [],
   "source": []
  }
 ],
 "metadata": {
  "kernelspec": {
   "display_name": "Python 3 (ipykernel)",
   "language": "python",
   "name": "python3"
  },
  "language_info": {
   "codemirror_mode": {
    "name": "ipython",
    "version": 3
   },
   "file_extension": ".py",
   "mimetype": "text/x-python",
   "name": "python",
   "nbconvert_exporter": "python",
   "pygments_lexer": "ipython3",
   "version": "3.8.10"
  }
 },
 "nbformat": 4,
 "nbformat_minor": 5
}
