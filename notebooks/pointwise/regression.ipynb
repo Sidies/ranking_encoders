{
 "cells": [
  {
   "attachments": {},
   "cell_type": "markdown",
   "id": "a10af6d3",
   "metadata": {},
   "source": [
    "# Pointwise Regression\n",
    "\n",
    "In this notebook, we examine the pointwise regression approach, including tuning. First, we load the required dependencies and the data."
   ]
  },
  {
   "cell_type": "code",
   "execution_count": 2,
   "id": "a71e47bf",
   "metadata": {},
   "outputs": [],
   "source": [
    "import os\n",
    "import sys\n",
    "module_path = os.path.abspath(os.path.join('../..'))\n",
    "if module_path not in sys.path:\n",
    "    sys.path.append(module_path)\n",
    "    \n",
    "import pandas as pd\n",
    "from category_encoders.binary import BinaryEncoder\n",
    "from category_encoders.one_hot import OneHotEncoder\n",
    "from category_encoders.ordinal import OrdinalEncoder\n",
    "from category_encoders.target_encoder import TargetEncoder\n",
    "from datetime import timedelta\n",
    "from sklearn.compose import ColumnTransformer\n",
    "from time import time\n",
    "\n",
    "from src import configuration as config\n",
    "from src.pipeline.pipeline_factory import PipelineFactory, ModelType, EvaluationType\n",
    "from src.pipeline.pipeline_transformers import *\n",
    "\n",
    "\n",
    "# load the data\n",
    "train_df = config.load_traindata_for_pointwise()\n",
    "pipelineFactory = PipelineFactory()"
   ]
  },
  {
   "attachments": {},
   "cell_type": "markdown",
   "id": "7ea6b3da",
   "metadata": {},
   "source": [
    "## Pointwise Regression without Target Normalization"
   ]
  },
  {
   "cell_type": "code",
   "execution_count": 3,
   "id": "6e2b0ce8",
   "metadata": {},
   "outputs": [
    {
     "name": "stdout",
     "output_type": "stream",
     "text": [
      "Creating pipeline ...\n",
      "Starting pipeline using method: EvaluationType.CROSS_VALIDATION\n"
     ]
    },
    {
     "name": "stderr",
     "output_type": "stream",
     "text": [
      "100%|█████████████████████████████████████████████| 5/5 [01:00<00:00, 12.16s/it]"
     ]
    },
    {
     "name": "stdout",
     "output_type": "stream",
     "text": [
      "Finished running the pipeline\n",
      "Evaluation metrics:\n",
      "    validation_average_spearman_fold_0: 0.764\n",
      "    validation_average_spearman_fold_1: 0.7641\n",
      "    validation_average_spearman_fold_2: 0.7238\n",
      "    validation_average_spearman_fold_3: 0.7812\n",
      "    validation_average_spearman_fold_4: 0.775\n",
      "    average of all folds: 0.7616 [std=0.02]\n",
      "\n",
      "runtime: 0:01:13 [73s]\n"
     ]
    },
    {
     "name": "stderr",
     "output_type": "stream",
     "text": [
      "\n"
     ]
    }
   ],
   "source": [
    "start = time()\n",
    "\n",
    "pipeline = pipelineFactory.create_pipeline(\n",
    "    train_df,\n",
    "    ModelType.POINTWISE_REGRESSION_NO_SEARCH,\n",
    "    verbose_level=1,\n",
    "    evaluation=EvaluationType.CROSS_VALIDATION,\n",
    "    n_folds=5,\n",
    "    workers=1,\n",
    "    target=\"rank\"\n",
    ")\n",
    "pipeline.run()\n",
    "\n",
    "runtime = int(time() - start)\n",
    "print('\\nruntime: ' + str(timedelta(seconds=runtime)) + ' [' + str(runtime) + 's]')"
   ]
  },
  {
   "attachments": {},
   "cell_type": "markdown",
   "id": "ae489879",
   "metadata": {},
   "source": [
    "The performance is quite good with 0.76. Now, let us try this approach with target normalization which is supposed to improve performance."
   ]
  },
  {
   "attachments": {},
   "cell_type": "markdown",
   "id": "3e93c605",
   "metadata": {},
   "source": [
    "## Pointwise Regression with Target Normalization"
   ]
  },
  {
   "cell_type": "code",
   "execution_count": 4,
   "id": "a3cd40e1",
   "metadata": {},
   "outputs": [
    {
     "name": "stdout",
     "output_type": "stream",
     "text": [
      "Creating pipeline ...\n",
      "Starting pipeline using method: EvaluationType.CROSS_VALIDATION\n"
     ]
    },
    {
     "name": "stderr",
     "output_type": "stream",
     "text": [
      "100%|█████████████████████████████████████████████| 5/5 [01:10<00:00, 14.11s/it]"
     ]
    },
    {
     "name": "stdout",
     "output_type": "stream",
     "text": [
      "Finished running the pipeline\n",
      "Evaluation metrics:\n",
      "    validation_average_spearman_fold_0: 0.8044\n",
      "    validation_average_spearman_fold_1: 0.8038\n",
      "    validation_average_spearman_fold_2: 0.783\n",
      "    validation_average_spearman_fold_3: 0.814\n",
      "    validation_average_spearman_fold_4: 0.8114\n",
      "    average of all folds: 0.8033 [std=0.0109]\n",
      "\n",
      "runtime: 0:01:30 [90s]\n"
     ]
    },
    {
     "name": "stderr",
     "output_type": "stream",
     "text": [
      "\n"
     ]
    }
   ],
   "source": [
    "start = time()\n",
    "\n",
    "pipeline = pipelineFactory.create_pipeline(\n",
    "    train_df,\n",
    "    ModelType.POINTWISE_NORMALIZED_REGRESSION_NO_SEARCH,\n",
    "    verbose_level=1,\n",
    "    evaluation=EvaluationType.CROSS_VALIDATION,\n",
    "    n_folds=5,\n",
    "    workers=1,\n",
    "    target=\"rank\"\n",
    ")\n",
    "pipeline.run()\n",
    "\n",
    "runtime = int(time() - start)\n",
    "print('\\nruntime: ' + str(timedelta(seconds=runtime)) + ' [' + str(runtime) + 's]')"
   ]
  },
  {
   "attachments": {},
   "cell_type": "markdown",
   "id": "3e13367e",
   "metadata": {},
   "source": []
  },
  {
   "cell_type": "code",
   "execution_count": 5,
   "id": "caf7cd54",
   "metadata": {},
   "outputs": [
    {
     "name": "stdout",
     "output_type": "stream",
     "text": [
      "Creating pipeline ...\n",
      "Starting pipeline using method: EvaluationType.GRID_SEARCH\n",
      "Performing grid search\n"
     ]
    },
    {
     "name": "stderr",
     "output_type": "stream",
     "text": [
      "  0%|                                                     | 0/2 [00:00<?, ?it/s]\n",
      "  0%|                                                     | 0/2 [00:00<?, ?it/s]\u001b[A\n",
      " 50%|██████████████████████▌                      | 1/2 [00:00<00:00,  5.31it/s]\u001b[A\n",
      "100%|█████████████████████████████████████████████| 2/2 [00:00<00:00,  4.32it/s]\u001b[A\n",
      " 50%|██████████████████████▌                      | 1/2 [00:27<00:27, 27.75s/it]\u001b[A\n",
      "  0%|                                                     | 0/2 [00:00<?, ?it/s]\u001b[A\n",
      " 50%|██████████████████████▌                      | 1/2 [00:00<00:00,  4.78it/s]\u001b[A\n",
      "100%|█████████████████████████████████████████████| 2/2 [00:00<00:00,  3.23it/s]\u001b[A\n",
      "100%|█████████████████████████████████████████████| 2/2 [00:55<00:00, 27.61s/it]\u001b[A"
     ]
    },
    {
     "name": "stdout",
     "output_type": "stream",
     "text": [
      "Finished running the pipeline\n",
      "Evaluation metrics:\n",
      "    best_score: 0.806\n",
      "    best_params: {'encoder_transformer__batch_size': 500}\n",
      "\n",
      "runtime: 0:01:02 [62s]\n"
     ]
    },
    {
     "name": "stderr",
     "output_type": "stream",
     "text": [
      "\n"
     ]
    }
   ],
   "source": [
    "start = time()\n",
    "\n",
    "param_grid = {\n",
    "    \"encoder_transformer__batch_size\": [50, 500],\n",
    "}\n",
    "\n",
    "pipeline = pipelineFactory.create_pipeline(\n",
    "    train_df,\n",
    "    ModelType.POINTWISE_NORMALIZED_REGRESSION_NO_SEARCH,\n",
    "    verbose_level=1,\n",
    "    evaluation=EvaluationType.GRID_SEARCH,\n",
    "    param_grid=param_grid,\n",
    "    n_folds=2,\n",
    "    workers=1,\n",
    "    target=\"rank\"\n",
    ")\n",
    "\n",
    "pipeline.run()\n",
    "\n",
    "runtime = int(time() - start)\n",
    "print('\\nruntime: ' + str(timedelta(seconds=runtime)) + ' [' + str(runtime) + 's]')"
   ]
  },
  {
   "attachments": {},
   "cell_type": "markdown",
   "id": "614bd873",
   "metadata": {},
   "source": []
  },
  {
   "attachments": {},
   "cell_type": "markdown",
   "id": "e7a80089",
   "metadata": {},
   "source": [
    "### Tuning with Bayes Search"
   ]
  },
  {
   "cell_type": "code",
   "execution_count": 3,
   "id": "f942c441",
   "metadata": {},
   "outputs": [
    {
     "name": "stdout",
     "output_type": "stream",
     "text": [
      "Creating pipeline ...\n"
     ]
    },
    {
     "name": "stderr",
     "output_type": "stream",
     "text": [
      "c:\\Users\\patri\\Documents\\KIT\\Data Science - Praktikum\\Projekte\\phase-2\\src\\pipeline\\pipeline_transformers.py:519: FutureWarning: The default dtype for empty Series will be 'object' instead of 'float64' in a future version. Specify a dtype explicitly to silence this warning.\n",
      "  y_new = pd.Series()\n"
     ]
    },
    {
     "name": "stdout",
     "output_type": "stream",
     "text": [
      "Starting pipeline using method: EvaluationType.BAYES_SEARCH\n",
      "Performing bayes search\n",
      "Fitting 4 folds for each of 4 candidates, totalling 16 fits\n",
      "Fitting 4 folds for each of 4 candidates, totalling 16 fits\n",
      "Fitting 4 folds for each of 4 candidates, totalling 16 fits\n",
      "Fitting 4 folds for each of 4 candidates, totalling 16 fits\n",
      "Fitting 4 folds for each of 4 candidates, totalling 16 fits\n",
      "Fitting 4 folds for each of 4 candidates, totalling 16 fits\n",
      "Fitting 4 folds for each of 4 candidates, totalling 16 fits\n",
      "Fitting 4 folds for each of 4 candidates, totalling 16 fits\n",
      "Fitting 4 folds for each of 4 candidates, totalling 16 fits\n",
      "Fitting 4 folds for each of 4 candidates, totalling 16 fits\n",
      "Fitting 4 folds for each of 4 candidates, totalling 16 fits\n",
      "Fitting 4 folds for each of 4 candidates, totalling 16 fits\n",
      "Fitting 4 folds for each of 4 candidates, totalling 16 fits\n",
      "Fitting 4 folds for each of 4 candidates, totalling 16 fits\n",
      "Fitting 4 folds for each of 4 candidates, totalling 16 fits\n",
      "Fitting 4 folds for each of 4 candidates, totalling 16 fits\n",
      "Fitting 4 folds for each of 4 candidates, totalling 16 fits\n",
      "Fitting 4 folds for each of 4 candidates, totalling 16 fits\n",
      "Fitting 4 folds for each of 4 candidates, totalling 16 fits\n",
      "Fitting 4 folds for each of 4 candidates, totalling 16 fits\n"
     ]
    },
    {
     "name": "stderr",
     "output_type": "stream",
     "text": [
      "c:\\Users\\patri\\anaconda3\\envs\\DS\\lib\\site-packages\\skopt\\optimizer\\optimizer.py:449: UserWarning: The objective has been evaluated at this point before.\n",
      "  warnings.warn(\"The objective has been evaluated \"\n"
     ]
    },
    {
     "name": "stdout",
     "output_type": "stream",
     "text": [
      "Fitting 4 folds for each of 4 candidates, totalling 16 fits\n",
      "Fitting 4 folds for each of 4 candidates, totalling 16 fits\n"
     ]
    },
    {
     "name": "stderr",
     "output_type": "stream",
     "text": [
      "c:\\Users\\patri\\anaconda3\\envs\\DS\\lib\\site-packages\\skopt\\optimizer\\optimizer.py:449: UserWarning: The objective has been evaluated at this point before.\n",
      "  warnings.warn(\"The objective has been evaluated \"\n"
     ]
    },
    {
     "name": "stdout",
     "output_type": "stream",
     "text": [
      "Fitting 4 folds for each of 4 candidates, totalling 16 fits\n"
     ]
    },
    {
     "name": "stderr",
     "output_type": "stream",
     "text": [
      "c:\\Users\\patri\\anaconda3\\envs\\DS\\lib\\site-packages\\skopt\\optimizer\\optimizer.py:449: UserWarning: The objective has been evaluated at this point before.\n",
      "  warnings.warn(\"The objective has been evaluated \"\n"
     ]
    },
    {
     "name": "stdout",
     "output_type": "stream",
     "text": [
      "Fitting 4 folds for each of 4 candidates, totalling 16 fits\n",
      "Fitting 4 folds for each of 4 candidates, totalling 16 fits\n"
     ]
    },
    {
     "name": "stderr",
     "output_type": "stream",
     "text": [
      "c:\\Users\\patri\\anaconda3\\envs\\DS\\lib\\site-packages\\skopt\\optimizer\\optimizer.py:449: UserWarning: The objective has been evaluated at this point before.\n",
      "  warnings.warn(\"The objective has been evaluated \"\n"
     ]
    },
    {
     "name": "stdout",
     "output_type": "stream",
     "text": [
      "Fitting 4 folds for each of 4 candidates, totalling 16 fits\n",
      "Fitting 4 folds for each of 4 candidates, totalling 16 fits\n",
      "Fitting 4 folds for each of 4 candidates, totalling 16 fits\n",
      "Fitting 4 folds for each of 4 candidates, totalling 16 fits\n"
     ]
    },
    {
     "name": "stderr",
     "output_type": "stream",
     "text": [
      "c:\\Users\\patri\\anaconda3\\envs\\DS\\lib\\site-packages\\skopt\\optimizer\\optimizer.py:449: UserWarning: The objective has been evaluated at this point before.\n",
      "  warnings.warn(\"The objective has been evaluated \"\n",
      "c:\\Users\\patri\\anaconda3\\envs\\DS\\lib\\site-packages\\skopt\\optimizer\\optimizer.py:449: UserWarning: The objective has been evaluated at this point before.\n",
      "  warnings.warn(\"The objective has been evaluated \"\n"
     ]
    },
    {
     "name": "stdout",
     "output_type": "stream",
     "text": [
      "Fitting 4 folds for each of 4 candidates, totalling 16 fits\n",
      "Fitting 4 folds for each of 4 candidates, totalling 16 fits\n"
     ]
    },
    {
     "name": "stderr",
     "output_type": "stream",
     "text": [
      "c:\\Users\\patri\\anaconda3\\envs\\DS\\lib\\site-packages\\skopt\\optimizer\\optimizer.py:449: UserWarning: The objective has been evaluated at this point before.\n",
      "  warnings.warn(\"The objective has been evaluated \"\n"
     ]
    },
    {
     "name": "stdout",
     "output_type": "stream",
     "text": [
      "Fitting 4 folds for each of 4 candidates, totalling 16 fits\n"
     ]
    },
    {
     "name": "stderr",
     "output_type": "stream",
     "text": [
      "c:\\Users\\patri\\anaconda3\\envs\\DS\\lib\\site-packages\\skopt\\optimizer\\optimizer.py:449: UserWarning: The objective has been evaluated at this point before.\n",
      "  warnings.warn(\"The objective has been evaluated \"\n"
     ]
    },
    {
     "name": "stdout",
     "output_type": "stream",
     "text": [
      "Fitting 4 folds for each of 4 candidates, totalling 16 fits\n",
      "Fitting 4 folds for each of 4 candidates, totalling 16 fits\n",
      "Fitting 4 folds for each of 4 candidates, totalling 16 fits\n",
      "Fitting 4 folds for each of 4 candidates, totalling 16 fits\n"
     ]
    },
    {
     "name": "stderr",
     "output_type": "stream",
     "text": [
      "c:\\Users\\patri\\anaconda3\\envs\\DS\\lib\\site-packages\\skopt\\optimizer\\optimizer.py:449: UserWarning: The objective has been evaluated at this point before.\n",
      "  warnings.warn(\"The objective has been evaluated \"\n"
     ]
    },
    {
     "name": "stdout",
     "output_type": "stream",
     "text": [
      "Fitting 4 folds for each of 4 candidates, totalling 16 fits\n"
     ]
    },
    {
     "name": "stderr",
     "output_type": "stream",
     "text": [
      "c:\\Users\\patri\\anaconda3\\envs\\DS\\lib\\site-packages\\skopt\\optimizer\\optimizer.py:449: UserWarning: The objective has been evaluated at this point before.\n",
      "  warnings.warn(\"The objective has been evaluated \"\n",
      "c:\\Users\\patri\\anaconda3\\envs\\DS\\lib\\site-packages\\skopt\\optimizer\\optimizer.py:449: UserWarning: The objective has been evaluated at this point before.\n",
      "  warnings.warn(\"The objective has been evaluated \"\n"
     ]
    },
    {
     "name": "stdout",
     "output_type": "stream",
     "text": [
      "Fitting 4 folds for each of 4 candidates, totalling 16 fits\n",
      "Fitting 4 folds for each of 4 candidates, totalling 16 fits\n",
      "Fitting 4 folds for each of 4 candidates, totalling 16 fits\n",
      "Fitting 4 folds for each of 4 candidates, totalling 16 fits\n"
     ]
    },
    {
     "name": "stderr",
     "output_type": "stream",
     "text": [
      "c:\\Users\\patri\\anaconda3\\envs\\DS\\lib\\site-packages\\skopt\\optimizer\\optimizer.py:449: UserWarning: The objective has been evaluated at this point before.\n",
      "  warnings.warn(\"The objective has been evaluated \"\n"
     ]
    },
    {
     "name": "stdout",
     "output_type": "stream",
     "text": [
      "Fitting 4 folds for each of 4 candidates, totalling 16 fits\n"
     ]
    },
    {
     "name": "stderr",
     "output_type": "stream",
     "text": [
      "c:\\Users\\patri\\anaconda3\\envs\\DS\\lib\\site-packages\\skopt\\optimizer\\optimizer.py:449: UserWarning: The objective has been evaluated at this point before.\n",
      "  warnings.warn(\"The objective has been evaluated \"\n"
     ]
    },
    {
     "name": "stdout",
     "output_type": "stream",
     "text": [
      "Fitting 4 folds for each of 4 candidates, totalling 16 fits\n",
      "Fitting 4 folds for each of 4 candidates, totalling 16 fits\n",
      "Fitting 4 folds for each of 4 candidates, totalling 16 fits\n",
      "Fitting 4 folds for each of 4 candidates, totalling 16 fits\n",
      "Fitting 4 folds for each of 4 candidates, totalling 16 fits\n",
      "Fitting 4 folds for each of 4 candidates, totalling 16 fits\n",
      "Fitting 4 folds for each of 4 candidates, totalling 16 fits\n",
      "Fitting 4 folds for each of 4 candidates, totalling 16 fits\n",
      "best score: 0.8020292900043039\n",
      "best params:\n",
      "    dataset_transformer__encoder: None\n",
      "    dataset_transformer__expected_pca_variance: 1.0\n",
      "    dataset_transformer__nan_ratio_feature_drop_threshold: 0.5\n",
      "    encoder_transformer__encoder: OneHotEncoder()\n",
      "    estimator__max_depth: 50\n",
      "    estimator__max_features: None\n",
      "    estimator__min_samples_leaf: 1\n",
      "    estimator__min_samples_split: 5\n",
      "    general_transformer__model_encoder: OneHotEncoder()\n",
      "    general_transformer__scoring_encoder: TargetEncoder()\n",
      "    general_transformer__tuning_encoder: OneHotEncoder()\n",
      "Training pipeline with best parameters...\n",
      "Evaluating pipeline with best parameters...\n"
     ]
    },
    {
     "name": "stderr",
     "output_type": "stream",
     "text": [
      "  0%|          | 0/5 [00:00<?, ?it/s]c:\\Users\\patri\\Documents\\KIT\\Data Science - Praktikum\\Projekte\\phase-2\\src\\pipeline\\pipeline_transformers.py:535: FutureWarning: The default dtype for empty Series will be 'object' instead of 'float64' in a future version. Specify a dtype explicitly to silence this warning.\n",
      "  y_new = pd.Series()\n",
      "c:\\Users\\patri\\Documents\\KIT\\Data Science - Praktikum\\Projekte\\phase-2\\src\\pipeline\\pipeline_transformers.py:535: FutureWarning: The default dtype for empty Series will be 'object' instead of 'float64' in a future version. Specify a dtype explicitly to silence this warning.\n",
      "  y_new = pd.Series()\n",
      " 20%|██        | 1/5 [00:21<01:27, 21.83s/it]c:\\Users\\patri\\Documents\\KIT\\Data Science - Praktikum\\Projekte\\phase-2\\src\\pipeline\\pipeline_transformers.py:535: FutureWarning: The default dtype for empty Series will be 'object' instead of 'float64' in a future version. Specify a dtype explicitly to silence this warning.\n",
      "  y_new = pd.Series()\n",
      "c:\\Users\\patri\\Documents\\KIT\\Data Science - Praktikum\\Projekte\\phase-2\\src\\pipeline\\pipeline_transformers.py:535: FutureWarning: The default dtype for empty Series will be 'object' instead of 'float64' in a future version. Specify a dtype explicitly to silence this warning.\n",
      "  y_new = pd.Series()\n",
      " 40%|████      | 2/5 [00:34<00:49, 16.44s/it]c:\\Users\\patri\\Documents\\KIT\\Data Science - Praktikum\\Projekte\\phase-2\\src\\pipeline\\pipeline_transformers.py:535: FutureWarning: The default dtype for empty Series will be 'object' instead of 'float64' in a future version. Specify a dtype explicitly to silence this warning.\n",
      "  y_new = pd.Series()\n",
      "c:\\Users\\patri\\Documents\\KIT\\Data Science - Praktikum\\Projekte\\phase-2\\src\\pipeline\\pipeline_transformers.py:535: FutureWarning: The default dtype for empty Series will be 'object' instead of 'float64' in a future version. Specify a dtype explicitly to silence this warning.\n",
      "  y_new = pd.Series()\n",
      " 60%|██████    | 3/5 [00:47<00:29, 14.71s/it]c:\\Users\\patri\\Documents\\KIT\\Data Science - Praktikum\\Projekte\\phase-2\\src\\pipeline\\pipeline_transformers.py:535: FutureWarning: The default dtype for empty Series will be 'object' instead of 'float64' in a future version. Specify a dtype explicitly to silence this warning.\n",
      "  y_new = pd.Series()\n",
      "c:\\Users\\patri\\Documents\\KIT\\Data Science - Praktikum\\Projekte\\phase-2\\src\\pipeline\\pipeline_transformers.py:535: FutureWarning: The default dtype for empty Series will be 'object' instead of 'float64' in a future version. Specify a dtype explicitly to silence this warning.\n",
      "  y_new = pd.Series()\n",
      " 80%|████████  | 4/5 [00:59<00:13, 13.76s/it]c:\\Users\\patri\\Documents\\KIT\\Data Science - Praktikum\\Projekte\\phase-2\\src\\pipeline\\pipeline_transformers.py:535: FutureWarning: The default dtype for empty Series will be 'object' instead of 'float64' in a future version. Specify a dtype explicitly to silence this warning.\n",
      "  y_new = pd.Series()\n",
      "c:\\Users\\patri\\Documents\\KIT\\Data Science - Praktikum\\Projekte\\phase-2\\src\\pipeline\\pipeline_transformers.py:535: FutureWarning: The default dtype for empty Series will be 'object' instead of 'float64' in a future version. Specify a dtype explicitly to silence this warning.\n",
      "  y_new = pd.Series()\n",
      "100%|██████████| 5/5 [01:12<00:00, 14.51s/it]"
     ]
    },
    {
     "name": "stdout",
     "output_type": "stream",
     "text": [
      "Finished running the pipeline\n",
      "Evaluation metrics:\n",
      "    validation_average_spearman_fold_0: 0.8232 [std=0.]\n",
      "    validation_average_spearman_fold_1: 0.808 [std=0.]\n",
      "    validation_average_spearman_fold_2: 0.7911 [std=0.]\n",
      "    validation_average_spearman_fold_3: 0.8149 [std=0.]\n",
      "    validation_average_spearman_fold_4: 0.8195 [std=0.]\n",
      "    average_spearman (5-fold): 0.8113 [std=0.0113]\n",
      "\n",
      "runtime: 2:20:56 [8456s]\n"
     ]
    },
    {
     "name": "stderr",
     "output_type": "stream",
     "text": [
      "\n"
     ]
    }
   ],
   "source": [
    "start = time()\n",
    "\n",
    "# number of optimization rounds = n_iter / n_points (e.g. 50 rounds in our case)\n",
    "n_iter = 200 # how many unique parameters to examine - our default: 200\n",
    "n_points = 4 # how many unique parameter combinations per optimization round - our default: 4\n",
    "cv = 4 # how many fits for each unique parameter combination - our default: 4\n",
    "n_jobs = -1 # how many fits in parallel (only parallelizable per round) - our default: -1\n",
    "\n",
    "pipeline = pipelineFactory.create_pipeline(\n",
    "    train_df,\n",
    "    ModelType.POINTWISE_NORMALIZED_REGRESSION_BAYES_SEARCH,\n",
    "    verbose_level=1,\n",
    "    target=\"rank\",\n",
    "    bayes_n_iter=n_iter,\n",
    "    bayes_n_points=n_points,\n",
    "    bayes_cv=cv,\n",
    "    bayes_n_jobs=n_jobs\n",
    ")\n",
    "\n",
    "pipeline.run()\n",
    "\n",
    "runtime = int(time() - start)\n",
    "print('\\nruntime: ' + str(timedelta(seconds=runtime)) + ' [' + str(runtime) + 's]')"
   ]
  },
  {
   "attachments": {},
   "cell_type": "markdown",
   "id": "898ad0d5",
   "metadata": {},
   "source": []
  }
 ],
 "metadata": {
  "kernelspec": {
   "display_name": "Python 3 (ipykernel)",
   "language": "python",
   "name": "python3"
  },
  "language_info": {
   "codemirror_mode": {
    "name": "ipython",
    "version": 3
   },
   "file_extension": ".py",
   "mimetype": "text/x-python",
   "name": "python",
   "nbconvert_exporter": "python",
   "pygments_lexer": "ipython3",
   "version": "3.10.10"
  }
 },
 "nbformat": 4,
 "nbformat_minor": 5
}
