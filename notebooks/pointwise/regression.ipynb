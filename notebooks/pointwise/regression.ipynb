{
 "cells": [
  {
   "cell_type": "markdown",
   "id": "a10af6d3",
   "metadata": {},
   "source": [
    "# Pointwise Regression\n",
    "\n",
    "In this notebook, we examine the pointwise regression approach, including tuning. First, we load the required dependencies and the data."
   ]
  },
  {
   "cell_type": "code",
   "execution_count": 3,
   "id": "a71e47bf",
   "metadata": {},
   "outputs": [],
   "source": [
    "import warnings\n",
    "import os\n",
    "warnings.filterwarnings('ignore')\n",
    "os.environ['PYTHONWARNINGS'] = 'ignore'\n",
    "\n",
    "import os\n",
    "import sys\n",
    "module_path = os.path.abspath(os.path.join('../..'))\n",
    "if module_path not in sys.path:\n",
    "    sys.path.append(module_path)\n",
    "    \n",
    "import pandas as pd\n",
    "from category_encoders.binary import BinaryEncoder\n",
    "from category_encoders.one_hot import OneHotEncoder\n",
    "from category_encoders.ordinal import OrdinalEncoder\n",
    "from category_encoders.target_encoder import TargetEncoder\n",
    "from datetime import timedelta\n",
    "from sklearn.compose import ColumnTransformer\n",
    "from time import time\n",
    "\n",
    "from src import configuration as config\n",
    "from src.pipeline.pipeline_factory import PipelineFactory, ModelType, EvaluationType\n",
    "from src.pipeline.pipeline_transformers import *\n",
    "\n",
    "\n",
    "# load the data\n",
    "train_df = config.load_traindata_for_pointwise()\n",
    "pipelineFactory = PipelineFactory()"
   ]
  },
  {
   "cell_type": "markdown",
   "id": "7ea6b3da",
   "metadata": {},
   "source": [
    "## Pointwise Regression without Target Normalization"
   ]
  },
  {
   "cell_type": "code",
   "execution_count": 2,
   "id": "6e2b0ce8",
   "metadata": {
    "scrolled": true
   },
   "outputs": [
    {
     "name": "stdout",
     "output_type": "stream",
     "text": [
      "Creating pipeline ...\n",
      "Starting pipeline using method: EvaluationType.CROSS_VALIDATION\n"
     ]
    },
    {
     "name": "stderr",
     "output_type": "stream",
     "text": [
      "100%|██████████████████████████████████████████████████████████████████████████████████████████████████████████████████████████| 5/5 [02:54<00:00, 34.87s/it]"
     ]
    },
    {
     "name": "stdout",
     "output_type": "stream",
     "text": [
      "Finished running the pipeline\n",
      "Evaluation metrics:\n",
      "    validation_average_spearman_fold_0: 0.7026\n",
      "    validation_average_spearman_fold_1: 0.6991\n",
      "    validation_average_spearman_fold_2: 0.6746\n",
      "    validation_average_spearman_fold_3: 0.6774\n",
      "    validation_average_spearman_fold_4: 0.6888\n",
      "    average of all folds: 0.6885 [std=0.0112]\n",
      "\n",
      "runtime: 0:03:22 [202s]\n"
     ]
    },
    {
     "name": "stderr",
     "output_type": "stream",
     "text": [
      "\n"
     ]
    }
   ],
   "source": [
    "start = time()\n",
    "\n",
    "pipeline = pipelineFactory.create_pipeline(\n",
    "    train_df,\n",
    "    ModelType.POINTWISE_REGRESSION_NO_SEARCH,\n",
    "    verbose_level=1,\n",
    "    evaluation=EvaluationType.CROSS_VALIDATION,\n",
    "    n_folds=5,\n",
    "    workers=1,\n",
    "    target=\"rank\"\n",
    ")\n",
    "pipeline.run()\n",
    "\n",
    "runtime = int(time() - start)\n",
    "print('\\nruntime: ' + str(timedelta(seconds=runtime)) + ' [' + str(runtime) + 's]')"
   ]
  },
  {
   "cell_type": "markdown",
   "id": "3e93c605",
   "metadata": {},
   "source": [
    "## Pointwise Regression with Target Normalization"
   ]
  },
  {
   "cell_type": "code",
   "execution_count": 3,
   "id": "a3cd40e1",
   "metadata": {},
   "outputs": [
    {
     "name": "stdout",
     "output_type": "stream",
     "text": [
      "Creating pipeline ...\n",
      "Starting pipeline using method: EvaluationType.CROSS_VALIDATION\n"
     ]
    },
    {
     "name": "stderr",
     "output_type": "stream",
     "text": [
      "100%|██████████████████████████████████████████████████████████████████████████████████████████████████████████████████████████| 5/5 [03:27<00:00, 41.49s/it]"
     ]
    },
    {
     "name": "stdout",
     "output_type": "stream",
     "text": [
      "Finished running the pipeline\n",
      "Evaluation metrics:\n",
      "    validation_average_spearman_fold_0: 0.7308\n",
      "    validation_average_spearman_fold_1: 0.7019\n",
      "    validation_average_spearman_fold_2: 0.6765\n",
      "    validation_average_spearman_fold_3: 0.7076\n",
      "    validation_average_spearman_fold_4: 0.7003\n",
      "    average of all folds: 0.7034 [std=0.0174]\n",
      "\n",
      "runtime: 0:03:59 [239s]\n"
     ]
    },
    {
     "name": "stderr",
     "output_type": "stream",
     "text": [
      "\n"
     ]
    }
   ],
   "source": [
    "start = time()\n",
    "\n",
    "pipeline = pipelineFactory.create_pipeline(\n",
    "    train_df,\n",
    "    ModelType.POINTWISE_NORMALIZED_REGRESSION_NO_SEARCH,\n",
    "    verbose_level=1,\n",
    "    evaluation=EvaluationType.CROSS_VALIDATION,\n",
    "    n_folds=5,\n",
    "    workers=1,\n",
    "    target=\"rank\"\n",
    ")\n",
    "pipeline.run()\n",
    "\n",
    "runtime = int(time() - start)\n",
    "print('\\nruntime: ' + str(timedelta(seconds=runtime)) + ' [' + str(runtime) + 's]')"
   ]
  },
  {
   "cell_type": "markdown",
   "id": "e7a80089",
   "metadata": {},
   "source": [
    "### Tuning with Bayes Search"
   ]
  },
  {
   "cell_type": "code",
   "execution_count": null,
   "id": "f942c441",
   "metadata": {
    "scrolled": false
   },
   "outputs": [
    {
     "name": "stdout",
     "output_type": "stream",
     "text": [
      "Creating pipeline ...\n",
      "Starting pipeline using method: EvaluationType.BAYES_SEARCH\n",
      "Performing bayes search\n",
      "Fitting 4 folds for each of 4 candidates, totalling 16 fits\n",
      "Fitting 4 folds for each of 4 candidates, totalling 16 fits\n",
      "Fitting 4 folds for each of 4 candidates, totalling 16 fits\n",
      "Fitting 4 folds for each of 4 candidates, totalling 16 fits\n",
      "Fitting 4 folds for each of 4 candidates, totalling 16 fits\n",
      "Fitting 4 folds for each of 4 candidates, totalling 16 fits\n",
      "Fitting 4 folds for each of 4 candidates, totalling 16 fits\n",
      "Fitting 4 folds for each of 4 candidates, totalling 16 fits\n",
      "Fitting 4 folds for each of 4 candidates, totalling 16 fits\n",
      "Fitting 4 folds for each of 4 candidates, totalling 16 fits\n",
      "Fitting 4 folds for each of 4 candidates, totalling 16 fits\n",
      "Fitting 4 folds for each of 4 candidates, totalling 16 fits\n",
      "Fitting 4 folds for each of 4 candidates, totalling 16 fits\n",
      "Fitting 4 folds for each of 4 candidates, totalling 16 fits\n",
      "Fitting 4 folds for each of 4 candidates, totalling 16 fits\n",
      "Fitting 4 folds for each of 4 candidates, totalling 16 fits\n",
      "Fitting 4 folds for each of 4 candidates, totalling 16 fits\n",
      "Fitting 4 folds for each of 4 candidates, totalling 16 fits\n",
      "Fitting 4 folds for each of 4 candidates, totalling 16 fits\n",
      "Fitting 4 folds for each of 4 candidates, totalling 16 fits\n",
      "Fitting 4 folds for each of 4 candidates, totalling 16 fits\n",
      "Fitting 4 folds for each of 4 candidates, totalling 16 fits\n",
      "Fitting 4 folds for each of 4 candidates, totalling 16 fits\n",
      "Fitting 4 folds for each of 4 candidates, totalling 16 fits\n",
      "Fitting 4 folds for each of 4 candidates, totalling 16 fits\n",
      "Fitting 4 folds for each of 4 candidates, totalling 16 fits\n",
      "Fitting 4 folds for each of 4 candidates, totalling 16 fits\n",
      "Fitting 4 folds for each of 4 candidates, totalling 16 fits\n",
      "Fitting 4 folds for each of 4 candidates, totalling 16 fits\n",
      "Fitting 4 folds for each of 4 candidates, totalling 16 fits\n",
      "Fitting 4 folds for each of 4 candidates, totalling 16 fits\n",
      "Fitting 4 folds for each of 4 candidates, totalling 16 fits\n",
      "Fitting 4 folds for each of 4 candidates, totalling 16 fits\n",
      "Fitting 4 folds for each of 4 candidates, totalling 16 fits\n",
      "Fitting 4 folds for each of 4 candidates, totalling 16 fits\n",
      "Fitting 4 folds for each of 4 candidates, totalling 16 fits\n",
      "Fitting 4 folds for each of 4 candidates, totalling 16 fits\n",
      "Fitting 4 folds for each of 4 candidates, totalling 16 fits\n",
      "Fitting 4 folds for each of 4 candidates, totalling 16 fits\n",
      "Fitting 4 folds for each of 4 candidates, totalling 16 fits\n",
      "Fitting 4 folds for each of 4 candidates, totalling 16 fits\n",
      "Fitting 4 folds for each of 4 candidates, totalling 16 fits\n",
      "Fitting 4 folds for each of 4 candidates, totalling 16 fits\n",
      "Fitting 4 folds for each of 4 candidates, totalling 16 fits\n",
      "Fitting 4 folds for each of 4 candidates, totalling 16 fits\n",
      "Fitting 4 folds for each of 4 candidates, totalling 16 fits\n"
     ]
    }
   ],
   "source": [
    "start = time()\n",
    "\n",
    "# number of optimization rounds = n_iter / n_points (e.g. 50 rounds in our case)\n",
    "n_iter = 200 # how many unique parameters to examine - our default: 200\n",
    "n_points = 4 # how many unique parameter combinations per optimization round - our default: 4\n",
    "cv = 4 # how many fits for each unique parameter combination - our default: 4\n",
    "n_jobs = -1 # how many fits in parallel (only parallelizable per round) - our default: -1\n",
    "\n",
    "pipeline = pipelineFactory.create_pipeline(\n",
    "    train_df,\n",
    "    ModelType.POINTWISE_NORMALIZED_REGRESSION_BAYES_SEARCH,\n",
    "    verbose_level=1,\n",
    "    target=\"rank\",\n",
    "    bayes_n_iter=n_iter,\n",
    "    bayes_n_points=n_points,\n",
    "    bayes_cv=cv,\n",
    "    bayes_n_jobs=n_jobs\n",
    ")\n",
    "\n",
    "pipeline.run()\n",
    "\n",
    "runtime = int(time() - start)\n",
    "print('\\nruntime: ' + str(timedelta(seconds=runtime)) + ' [' + str(runtime) + 's]')"
   ]
  },
  {
   "cell_type": "markdown",
   "id": "6a618083",
   "metadata": {},
   "source": []
  }
 ],
 "metadata": {
  "kernelspec": {
   "display_name": "Python 3 (ipykernel)",
   "language": "python",
   "name": "python3"
  },
  "language_info": {
   "codemirror_mode": {
    "name": "ipython",
    "version": 3
   },
   "file_extension": ".py",
   "mimetype": "text/x-python",
   "name": "python",
   "nbconvert_exporter": "python",
   "pygments_lexer": "ipython3",
   "version": "3.8.10"
  }
 },
 "nbformat": 4,
 "nbformat_minor": 5
}
