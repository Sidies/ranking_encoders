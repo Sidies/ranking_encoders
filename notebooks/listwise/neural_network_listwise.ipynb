{
 "cells": [
  {
   "cell_type": "code",
   "execution_count": null,
   "metadata": {},
   "outputs": [],
   "source": [
    "import warnings\n",
    "import os\n",
    "warnings.filterwarnings('ignore')\n",
    "os.environ['PYTHONWARNINGS'] = 'ignore'\n",
    "\n",
    "import pandas as pd\n",
    "import numpy as np\n",
    "from src import configuration as config\n",
    "from src.pipeline.evaluation.evaluation_utils import custom_train_test_split\n",
    "from src.models.listwise_neural_network import sample_listwise, RankingModel\n",
    "import tensorflow as tf\n",
    "import tensorflow_ranking as tfr\n",
    "import tensorflow_recommenders as tfrs"
   ]
  },
  {
   "cell_type": "code",
   "execution_count": 24,
   "metadata": {},
   "outputs": [],
   "source": [
    "# load the data\n",
    "df = config.load_traindata_for_pointwise()\n",
    "df = df.drop(columns=['cv_score'])\n",
    "X_train, X_test, y_train, y_test = custom_train_test_split(df, factors=[\"dataset\", \"model\", \"tuning\", \"scoring\"], target=\"rank\")\n",
    "df = pd.concat([X_train, y_train], axis=1)\n",
    "df_test = pd.concat([X_test, y_test], axis=1)"
   ]
  },
  {
   "cell_type": "code",
   "execution_count": 25,
   "metadata": {},
   "outputs": [
    {
     "name": "stdout",
     "output_type": "stream",
     "text": [
      "encoder      object\n",
      "rank        float64\n",
      "features     object\n",
      "dtype: object\n"
     ]
    }
   ],
   "source": [
    "# prepare the data\n",
    "# train data\n",
    "df['dataset'] = df['dataset'].astype(str)\n",
    "df['features'] = df['dataset'].astype(str) + ' ' + df['model'] + ' ' + df['tuning'] + ' ' + df['scoring']\n",
    "df = df.drop(columns=['dataset', 'model', 'tuning', 'scoring'])\n",
    "print(df.dtypes)\n",
    "\n",
    "\n",
    "# test data\n",
    "df_test['dataset'] = df_test['dataset'].astype(str)\n",
    "df_test['features'] = df_test['dataset'].astype(str) + ' ' + df_test['model'] + ' ' + df_test['tuning'] + ' ' + df_test['scoring']\n",
    "df_test = df_test.drop(columns=['dataset', 'model', 'tuning', 'scoring'])"
   ]
  },
  {
   "cell_type": "code",
   "execution_count": 26,
   "metadata": {},
   "outputs": [
    {
     "data": {
      "text/plain": [
       "(9065, 3)"
      ]
     },
     "execution_count": 26,
     "metadata": {},
     "output_type": "execute_result"
    }
   ],
   "source": [
    "df_test.shape"
   ]
  },
  {
   "cell_type": "code",
   "execution_count": 27,
   "metadata": {},
   "outputs": [
    {
     "data": {
      "text/html": [
       "<div>\n",
       "<style scoped>\n",
       "    .dataframe tbody tr th:only-of-type {\n",
       "        vertical-align: middle;\n",
       "    }\n",
       "\n",
       "    .dataframe tbody tr th {\n",
       "        vertical-align: top;\n",
       "    }\n",
       "\n",
       "    .dataframe thead th {\n",
       "        text-align: right;\n",
       "    }\n",
       "</style>\n",
       "<table border=\"1\" class=\"dataframe\">\n",
       "  <thead>\n",
       "    <tr style=\"text-align: right;\">\n",
       "      <th></th>\n",
       "      <th>encoder</th>\n",
       "      <th>rank</th>\n",
       "      <th>features</th>\n",
       "    </tr>\n",
       "  </thead>\n",
       "  <tbody>\n",
       "    <tr>\n",
       "      <th>0</th>\n",
       "      <td>BE</td>\n",
       "      <td>21.0</td>\n",
       "      <td>1114 KNC no F1</td>\n",
       "    </tr>\n",
       "    <tr>\n",
       "      <th>1</th>\n",
       "      <td>BUCV10RGLMME</td>\n",
       "      <td>19.0</td>\n",
       "      <td>1114 KNC no F1</td>\n",
       "    </tr>\n",
       "    <tr>\n",
       "      <th>2</th>\n",
       "      <td>BUCV10TE</td>\n",
       "      <td>26.0</td>\n",
       "      <td>1114 KNC no F1</td>\n",
       "    </tr>\n",
       "    <tr>\n",
       "      <th>3</th>\n",
       "      <td>BUCV2RGLMME</td>\n",
       "      <td>12.0</td>\n",
       "      <td>1114 KNC no F1</td>\n",
       "    </tr>\n",
       "    <tr>\n",
       "      <th>4</th>\n",
       "      <td>BUCV2TE</td>\n",
       "      <td>28.0</td>\n",
       "      <td>1114 KNC no F1</td>\n",
       "    </tr>\n",
       "  </tbody>\n",
       "</table>\n",
       "</div>"
      ],
      "text/plain": [
       "        encoder  rank        features\n",
       "0            BE  21.0  1114 KNC no F1\n",
       "1  BUCV10RGLMME  19.0  1114 KNC no F1\n",
       "2      BUCV10TE  26.0  1114 KNC no F1\n",
       "3   BUCV2RGLMME  12.0  1114 KNC no F1\n",
       "4       BUCV2TE  28.0  1114 KNC no F1"
      ]
     },
     "execution_count": 27,
     "metadata": {},
     "output_type": "execute_result"
    }
   ],
   "source": [
    "df.head()"
   ]
  },
  {
   "cell_type": "code",
   "execution_count": 28,
   "metadata": {},
   "outputs": [
    {
     "data": {
      "text/plain": [
       "encoder\n",
       "OE              869\n",
       "DTEM10          867\n",
       "DTEM5           867\n",
       "CV5TE           866\n",
       "TE              865\n",
       "BUCV2TE         865\n",
       "CBE             865\n",
       "CV10TE          865\n",
       "CV2TE           865\n",
       "DTEM2           864\n",
       "CE              863\n",
       "DE              863\n",
       "WOEE            861\n",
       "BE              857\n",
       "BUCV5TE         857\n",
       "PBTE001         852\n",
       "PBTE01          849\n",
       "BUCV10TE        847\n",
       "ME10E           844\n",
       "ME01E           842\n",
       "ME1E            840\n",
       "CV2RGLMME       839\n",
       "RGLMME          837\n",
       "BUCV2RGLMME     836\n",
       "CV5RGLMME       833\n",
       "CV10RGLMME      827\n",
       "BUCV5RGLMME     822\n",
       "BUCV10RGLMME    819\n",
       "PBTE0001        800\n",
       "OHE             795\n",
       "MHE             779\n",
       "SE              769\n",
       "Name: count, dtype: int64"
      ]
     },
     "execution_count": 28,
     "metadata": {},
     "output_type": "execute_result"
    }
   ],
   "source": [
    "df['encoder'].value_counts()"
   ]
  },
  {
   "cell_type": "code",
   "execution_count": 29,
   "metadata": {},
   "outputs": [
    {
     "name": "stdout",
     "output_type": "stream",
     "text": [
      "<class 'tensorflow.python.data.ops.from_tensor_slices_op._TensorSliceDataset'>\n"
     ]
    }
   ],
   "source": [
    "df_tf = tf.data.Dataset.from_tensor_slices(dict(df))\n",
    "df_tf_test = tf.data.Dataset.from_tensor_slices(dict(df_test))\n",
    "print(type(df_tf))"
   ]
  },
  {
   "cell_type": "code",
   "execution_count": 30,
   "metadata": {},
   "outputs": [],
   "source": [
    "df_listwise = sample_listwise(df_tf)\n",
    "df_listwise_test = sample_listwise(df_tf_test)"
   ]
  },
  {
   "cell_type": "code",
   "execution_count": 31,
   "metadata": {},
   "outputs": [
    {
     "data": {
      "text/plain": [
       "<_TensorSliceDataset element_spec={'features': TensorSpec(shape=(), dtype=tf.string, name=None), 'encoder': TensorSpec(shape=(32,), dtype=tf.string, name=None), 'rank': TensorSpec(shape=(32,), dtype=tf.float64, name=None)}>"
      ]
     },
     "execution_count": 31,
     "metadata": {},
     "output_type": "execute_result"
    }
   ],
   "source": [
    "df_listwise"
   ]
  },
  {
   "cell_type": "code",
   "execution_count": 32,
   "metadata": {},
   "outputs": [
    {
     "data": {
      "text/plain": [
       "<_TensorSliceDataset element_spec={'features': TensorSpec(shape=(), dtype=tf.string, name=None), 'encoder': TensorSpec(shape=(32,), dtype=tf.string, name=None), 'rank': TensorSpec(shape=(32,), dtype=tf.float64, name=None)}>"
      ]
     },
     "execution_count": 32,
     "metadata": {},
     "output_type": "execute_result"
    }
   ],
   "source": [
    "df_listwise_test"
   ]
  },
  {
   "cell_type": "code",
   "execution_count": 33,
   "metadata": {},
   "outputs": [
    {
     "name": "stdout",
     "output_type": "stream",
     "text": [
      "{'encoder': <tf.Tensor: shape=(32,), dtype=string, numpy=\n",
      "array([b'BUCV2RGLMME', b'CV5TE', b'CV5RGLMME', b'OHE', b'OE', b'DTEM5',\n",
      "       b'DE', b'SE', b'ME10E', b'DTEM2', b'BUCV10RGLMME', b'CV10TE',\n",
      "       b'TE', b'PBTE0001', b'CV2RGLMME', b'BUCV5TE', b'CE', b'ME1E',\n",
      "       b'DTEM10', b'CV2TE', b'MHE', b'BUCV10TE', b'WOEE', b'BE',\n",
      "       b'BUCV5RGLMME', b'ME01E', b'CBE', b'PBTE01', b'BUCV2TE', b'RGLMME',\n",
      "       b'CV10RGLMME', b'PBTE001'], dtype=object)>,\n",
      " 'features': <tf.Tensor: shape=(), dtype=string, numpy=b'56 LGBMC no F1'>,\n",
      " 'rank': <tf.Tensor: shape=(32,), dtype=float64, numpy=\n",
      "array([0., 0., 0., 0., 2., 0., 3., 2., 2., 0., 0., 0., 0., 0., 0., 0., 0.,\n",
      "       2., 0., 0., 0., 0., 2., 0., 0., 2., 1., 0., 0., 0., 0., 0.])>}\n"
     ]
    }
   ],
   "source": [
    "import pprint\n",
    "for example in df_listwise.take(1):\n",
    "  pprint.pprint(example)"
   ]
  },
  {
   "cell_type": "code",
   "execution_count": 34,
   "metadata": {},
   "outputs": [],
   "source": [
    "cached_train = df_listwise.shuffle(100_000).batch(8192).cache()\n",
    "cached_test = df_listwise_test.batch(4096).cache()"
   ]
  },
  {
   "cell_type": "code",
   "execution_count": 35,
   "metadata": {},
   "outputs": [
    {
     "data": {
      "text/plain": [
       "<CacheDataset element_spec={'features': TensorSpec(shape=(None,), dtype=tf.string, name=None), 'encoder': TensorSpec(shape=(None, 32), dtype=tf.string, name=None), 'rank': TensorSpec(shape=(None, 32), dtype=tf.float64, name=None)}>"
      ]
     },
     "execution_count": 35,
     "metadata": {},
     "output_type": "execute_result"
    }
   ],
   "source": [
    "cached_train"
   ]
  },
  {
   "cell_type": "code",
   "execution_count": 36,
   "metadata": {},
   "outputs": [],
   "source": [
    "# convert to a array containing all unique combinations of model, tuning, scoring as byte strings\n",
    "# unique_factor_combinations = np.unique(df_listwise[['model', 'tuning', 'scoring']])\n",
    "# unique_factor_combinations = unique_factor_combinations.astype('S')\n",
    "# print(unique_factor_combinations)\n",
    "\n",
    "# unique_model_combinations = np.unique(df_listwise['model'])\n",
    "# unique_model_combinations = unique_factor_combinations.astype('S')\n",
    "\n",
    "# unique_tuning_combinations = np.unique(df_listwise['tuning'])\n",
    "# unique_tuning_combinations = unique_factor_combinations.astype('S')\n",
    "\n",
    "unique_factor_combinations = np.unique(df[['features']])\n",
    "unique_factor_combinations = unique_factor_combinations.astype('S')\n",
    "\n",
    "unique_encoder_rankings = np.unique(df[['encoder']])\n",
    "unique_encoder_rankings = unique_encoder_rankings.astype('S')"
   ]
  },
  {
   "cell_type": "code",
   "execution_count": 37,
   "metadata": {},
   "outputs": [],
   "source": [
    "listwise_model = RankingModel(tfr.keras.losses.ListMLELoss(), unique_factor_combinations, unique_encoder_rankings)\n",
    "listwise_model.compile(optimizer=tf.keras.optimizers.Adagrad(0.1))"
   ]
  },
  {
   "cell_type": "code",
   "execution_count": 38,
   "metadata": {},
   "outputs": [
    {
     "name": "stdout",
     "output_type": "stream",
     "text": [
      "Epoch 1/200\n",
      "3/3 [==============================] - 3s 356ms/step - ndcg_metric: 0.4946 - root_mean_squared_error: 13.0156 - loss: 81.4369 - regularization_loss: 0.0000e+00 - total_loss: 81.4369\n",
      "Epoch 2/200\n",
      "3/3 [==============================] - 1s 342ms/step - ndcg_metric: 0.6025 - root_mean_squared_error: 12.9678 - loss: 80.8582 - regularization_loss: 0.0000e+00 - total_loss: 80.8582\n",
      "Epoch 3/200\n",
      "3/3 [==============================] - 1s 324ms/step - ndcg_metric: 0.6114 - root_mean_squared_error: 12.9697 - loss: 80.7279 - regularization_loss: 0.0000e+00 - total_loss: 80.7279\n",
      "Epoch 4/200\n",
      "3/3 [==============================] - 1s 328ms/step - ndcg_metric: 0.6118 - root_mean_squared_error: 12.9791 - loss: 80.7072 - regularization_loss: 0.0000e+00 - total_loss: 80.7072\n",
      "Epoch 5/200\n",
      "3/3 [==============================] - 1s 334ms/step - ndcg_metric: 0.6113 - root_mean_squared_error: 12.9856 - loss: 80.6944 - regularization_loss: 0.0000e+00 - total_loss: 80.6944\n",
      "Epoch 6/200\n",
      "3/3 [==============================] - 1s 367ms/step - ndcg_metric: 0.6115 - root_mean_squared_error: 12.9714 - loss: 80.7299 - regularization_loss: 0.0000e+00 - total_loss: 80.7299\n",
      "Epoch 7/200\n",
      "3/3 [==============================] - 1s 355ms/step - ndcg_metric: 0.6053 - root_mean_squared_error: 13.0032 - loss: 80.7196 - regularization_loss: 0.0000e+00 - total_loss: 80.7196\n",
      "Epoch 8/200\n",
      "3/3 [==============================] - 1s 319ms/step - ndcg_metric: 0.6127 - root_mean_squared_error: 12.9546 - loss: 80.7136 - regularization_loss: 0.0000e+00 - total_loss: 80.7136\n",
      "Epoch 9/200\n",
      "3/3 [==============================] - 1s 322ms/step - ndcg_metric: 0.6079 - root_mean_squared_error: 13.0237 - loss: 80.6674 - regularization_loss: 0.0000e+00 - total_loss: 80.6674\n",
      "Epoch 10/200\n",
      "3/3 [==============================] - 1s 317ms/step - ndcg_metric: 0.6154 - root_mean_squared_error: 12.9544 - loss: 80.7065 - regularization_loss: 0.0000e+00 - total_loss: 80.7065\n",
      "Epoch 11/200\n",
      "3/3 [==============================] - 1s 313ms/step - ndcg_metric: 0.6056 - root_mean_squared_error: 13.0014 - loss: 80.5796 - regularization_loss: 0.0000e+00 - total_loss: 80.5796\n",
      "Epoch 12/200\n",
      "3/3 [==============================] - 1s 308ms/step - ndcg_metric: 0.6216 - root_mean_squared_error: 12.9050 - loss: 80.6325 - regularization_loss: 0.0000e+00 - total_loss: 80.6325\n",
      "Epoch 13/200\n",
      "3/3 [==============================] - 1s 308ms/step - ndcg_metric: 0.6154 - root_mean_squared_error: 12.9545 - loss: 80.4314 - regularization_loss: 0.0000e+00 - total_loss: 80.4314\n",
      "Epoch 14/200\n",
      "3/3 [==============================] - 1s 310ms/step - ndcg_metric: 0.5897 - root_mean_squared_error: 12.9206 - loss: 80.8901 - regularization_loss: 0.0000e+00 - total_loss: 80.8901\n",
      "Epoch 15/200\n",
      "3/3 [==============================] - 1s 308ms/step - ndcg_metric: 0.6408 - root_mean_squared_error: 12.8648 - loss: 79.4926 - regularization_loss: 0.0000e+00 - total_loss: 79.4926\n",
      "Epoch 16/200\n",
      "3/3 [==============================] - 1s 311ms/step - ndcg_metric: 0.6085 - root_mean_squared_error: 12.7483 - loss: 85.2871 - regularization_loss: 0.0000e+00 - total_loss: 85.2871\n",
      "Epoch 17/200\n",
      "3/3 [==============================] - 1s 325ms/step - ndcg_metric: 0.4282 - root_mean_squared_error: 13.0510 - loss: 81.4077 - regularization_loss: 0.0000e+00 - total_loss: 81.4077\n",
      "Epoch 18/200\n",
      "3/3 [==============================] - 1s 304ms/step - ndcg_metric: 0.6041 - root_mean_squared_error: 12.9372 - loss: 80.7322 - regularization_loss: 0.0000e+00 - total_loss: 80.7322\n",
      "Epoch 19/200\n",
      "3/3 [==============================] - 1s 304ms/step - ndcg_metric: 0.6169 - root_mean_squared_error: 12.7274 - loss: 79.6741 - regularization_loss: 0.0000e+00 - total_loss: 79.6741\n",
      "Epoch 20/200\n",
      "3/3 [==============================] - 1s 301ms/step - ndcg_metric: 0.6154 - root_mean_squared_error: 12.6483 - loss: 78.9052 - regularization_loss: 0.0000e+00 - total_loss: 78.9052\n",
      "Epoch 21/200\n",
      "3/3 [==============================] - 1s 306ms/step - ndcg_metric: 0.5627 - root_mean_squared_error: 12.5807 - loss: 79.9994 - regularization_loss: 0.0000e+00 - total_loss: 79.9994\n",
      "Epoch 22/200\n",
      "3/3 [==============================] - 1s 304ms/step - ndcg_metric: 0.6193 - root_mean_squared_error: 12.5568 - loss: 77.4640 - regularization_loss: 0.0000e+00 - total_loss: 77.4640\n",
      "Epoch 23/200\n",
      "3/3 [==============================] - 1s 306ms/step - ndcg_metric: 0.6533 - root_mean_squared_error: 12.3581 - loss: 76.9100 - regularization_loss: 0.0000e+00 - total_loss: 76.9100\n",
      "Epoch 24/200\n",
      "3/3 [==============================] - 1s 301ms/step - ndcg_metric: 0.5955 - root_mean_squared_error: 12.4731 - loss: 78.9303 - regularization_loss: 0.0000e+00 - total_loss: 78.9303\n",
      "Epoch 25/200\n",
      "3/3 [==============================] - 1s 307ms/step - ndcg_metric: 0.6357 - root_mean_squared_error: 12.5846 - loss: 76.8806 - regularization_loss: 0.0000e+00 - total_loss: 76.8806\n",
      "Epoch 26/200\n",
      "3/3 [==============================] - 1s 309ms/step - ndcg_metric: 0.6601 - root_mean_squared_error: 12.4230 - loss: 76.2480 - regularization_loss: 0.0000e+00 - total_loss: 76.2480\n",
      "Epoch 27/200\n",
      "3/3 [==============================] - 1s 307ms/step - ndcg_metric: 0.6639 - root_mean_squared_error: 12.3539 - loss: 76.3189 - regularization_loss: 0.0000e+00 - total_loss: 76.3189\n",
      "Epoch 28/200\n",
      "3/3 [==============================] - 1s 310ms/step - ndcg_metric: 0.6196 - root_mean_squared_error: 12.4785 - loss: 77.3402 - regularization_loss: 0.0000e+00 - total_loss: 77.3402\n",
      "Epoch 29/200\n",
      "3/3 [==============================] - 1s 301ms/step - ndcg_metric: 0.6705 - root_mean_squared_error: 12.3968 - loss: 75.9272 - regularization_loss: 0.0000e+00 - total_loss: 75.9272\n",
      "Epoch 30/200\n",
      "3/3 [==============================] - 1s 307ms/step - ndcg_metric: 0.6439 - root_mean_squared_error: 12.4609 - loss: 76.1615 - regularization_loss: 0.0000e+00 - total_loss: 76.1615\n",
      "Epoch 31/200\n",
      "3/3 [==============================] - 1s 311ms/step - ndcg_metric: 0.6599 - root_mean_squared_error: 12.3773 - loss: 76.0349 - regularization_loss: 0.0000e+00 - total_loss: 76.0349\n",
      "Epoch 32/200\n",
      "3/3 [==============================] - 1s 305ms/step - ndcg_metric: 0.6556 - root_mean_squared_error: 12.4434 - loss: 74.9214 - regularization_loss: 0.0000e+00 - total_loss: 74.9214\n",
      "Epoch 33/200\n",
      "3/3 [==============================] - 1s 305ms/step - ndcg_metric: 0.6033 - root_mean_squared_error: 12.3647 - loss: 75.3555 - regularization_loss: 0.0000e+00 - total_loss: 75.3555\n",
      "Epoch 34/200\n",
      "3/3 [==============================] - 1s 304ms/step - ndcg_metric: 0.6666 - root_mean_squared_error: 12.4204 - loss: 74.3115 - regularization_loss: 0.0000e+00 - total_loss: 74.3115\n",
      "Epoch 35/200\n",
      "3/3 [==============================] - 1s 305ms/step - ndcg_metric: 0.6723 - root_mean_squared_error: 12.3364 - loss: 73.6775 - regularization_loss: 0.0000e+00 - total_loss: 73.6775\n",
      "Epoch 36/200\n",
      "3/3 [==============================] - 1s 304ms/step - ndcg_metric: 0.6760 - root_mean_squared_error: 12.2932 - loss: 73.4049 - regularization_loss: 0.0000e+00 - total_loss: 73.4049\n",
      "Epoch 37/200\n",
      "3/3 [==============================] - 1s 310ms/step - ndcg_metric: 0.6717 - root_mean_squared_error: 12.2616 - loss: 73.3299 - regularization_loss: 0.0000e+00 - total_loss: 73.3299\n",
      "Epoch 38/200\n",
      "3/3 [==============================] - 1s 309ms/step - ndcg_metric: 0.6572 - root_mean_squared_error: 12.3484 - loss: 73.3397 - regularization_loss: 0.0000e+00 - total_loss: 73.3397\n",
      "Epoch 39/200\n",
      "3/3 [==============================] - 1s 309ms/step - ndcg_metric: 0.6433 - root_mean_squared_error: 12.4067 - loss: 72.4331 - regularization_loss: 0.0000e+00 - total_loss: 72.4331\n",
      "Epoch 40/200\n",
      "3/3 [==============================] - 1s 301ms/step - ndcg_metric: 0.6912 - root_mean_squared_error: 12.2663 - loss: 71.2755 - regularization_loss: 0.0000e+00 - total_loss: 71.2755\n",
      "Epoch 41/200\n",
      "3/3 [==============================] - 1s 308ms/step - ndcg_metric: 0.6744 - root_mean_squared_error: 12.2742 - loss: 73.0504 - regularization_loss: 0.0000e+00 - total_loss: 73.0504\n",
      "Epoch 42/200\n",
      "3/3 [==============================] - 1s 307ms/step - ndcg_metric: 0.6728 - root_mean_squared_error: 12.4216 - loss: 72.8560 - regularization_loss: 0.0000e+00 - total_loss: 72.8560\n",
      "Epoch 43/200\n",
      "3/3 [==============================] - 1s 306ms/step - ndcg_metric: 0.7117 - root_mean_squared_error: 12.2324 - loss: 70.1440 - regularization_loss: 0.0000e+00 - total_loss: 70.1440\n",
      "Epoch 44/200\n",
      "3/3 [==============================] - 1s 307ms/step - ndcg_metric: 0.7053 - root_mean_squared_error: 12.1362 - loss: 70.3415 - regularization_loss: 0.0000e+00 - total_loss: 70.3415\n",
      "Epoch 45/200\n",
      "3/3 [==============================] - 1s 313ms/step - ndcg_metric: 0.6923 - root_mean_squared_error: 12.2710 - loss: 70.6989 - regularization_loss: 0.0000e+00 - total_loss: 70.6989\n",
      "Epoch 46/200\n",
      "3/3 [==============================] - 1s 305ms/step - ndcg_metric: 0.7210 - root_mean_squared_error: 12.1689 - loss: 70.6662 - regularization_loss: 0.0000e+00 - total_loss: 70.6662\n",
      "Epoch 47/200\n",
      "3/3 [==============================] - 1s 311ms/step - ndcg_metric: 0.6689 - root_mean_squared_error: 12.4453 - loss: 71.2701 - regularization_loss: 0.0000e+00 - total_loss: 71.2701\n",
      "Epoch 48/200\n",
      "3/3 [==============================] - 1s 311ms/step - ndcg_metric: 0.7247 - root_mean_squared_error: 12.1287 - loss: 68.8444 - regularization_loss: 0.0000e+00 - total_loss: 68.8444\n",
      "Epoch 49/200\n",
      "3/3 [==============================] - 1s 305ms/step - ndcg_metric: 0.6662 - root_mean_squared_error: 12.3116 - loss: 71.7537 - regularization_loss: 0.0000e+00 - total_loss: 71.7537\n",
      "Epoch 50/200\n",
      "3/3 [==============================] - 1s 305ms/step - ndcg_metric: 0.7193 - root_mean_squared_error: 12.1786 - loss: 68.5411 - regularization_loss: 0.0000e+00 - total_loss: 68.5411\n",
      "Epoch 51/200\n",
      "3/3 [==============================] - 1s 350ms/step - ndcg_metric: 0.7202 - root_mean_squared_error: 12.1453 - loss: 69.9820 - regularization_loss: 0.0000e+00 - total_loss: 69.9820\n",
      "Epoch 52/200\n",
      "3/3 [==============================] - 1s 308ms/step - ndcg_metric: 0.7287 - root_mean_squared_error: 12.2199 - loss: 68.5439 - regularization_loss: 0.0000e+00 - total_loss: 68.5439\n",
      "Epoch 53/200\n",
      "3/3 [==============================] - 1s 309ms/step - ndcg_metric: 0.6903 - root_mean_squared_error: 12.2472 - loss: 70.0479 - regularization_loss: 0.0000e+00 - total_loss: 70.0479\n",
      "Epoch 54/200\n",
      "3/3 [==============================] - 1s 325ms/step - ndcg_metric: 0.7418 - root_mean_squared_error: 12.1963 - loss: 68.0070 - regularization_loss: 0.0000e+00 - total_loss: 68.0070\n",
      "Epoch 55/200\n",
      "3/3 [==============================] - 1s 321ms/step - ndcg_metric: 0.7366 - root_mean_squared_error: 12.1782 - loss: 68.4877 - regularization_loss: 0.0000e+00 - total_loss: 68.4877\n",
      "Epoch 56/200\n",
      "3/3 [==============================] - 1s 319ms/step - ndcg_metric: 0.7470 - root_mean_squared_error: 12.0658 - loss: 67.4010 - regularization_loss: 0.0000e+00 - total_loss: 67.4010\n",
      "Epoch 57/200\n",
      "3/3 [==============================] - 1s 331ms/step - ndcg_metric: 0.7345 - root_mean_squared_error: 12.0980 - loss: 68.2398 - regularization_loss: 0.0000e+00 - total_loss: 68.2398\n",
      "Epoch 58/200\n",
      "3/3 [==============================] - 1s 320ms/step - ndcg_metric: 0.7441 - root_mean_squared_error: 12.1365 - loss: 67.2635 - regularization_loss: 0.0000e+00 - total_loss: 67.2635\n",
      "Epoch 59/200\n",
      "3/3 [==============================] - 1s 318ms/step - ndcg_metric: 0.7288 - root_mean_squared_error: 12.1832 - loss: 68.3482 - regularization_loss: 0.0000e+00 - total_loss: 68.3482\n",
      "Epoch 60/200\n",
      "3/3 [==============================] - 1s 320ms/step - ndcg_metric: 0.7557 - root_mean_squared_error: 12.0834 - loss: 66.4174 - regularization_loss: 0.0000e+00 - total_loss: 66.4174\n",
      "Epoch 61/200\n",
      "3/3 [==============================] - 1s 316ms/step - ndcg_metric: 0.7587 - root_mean_squared_error: 12.1292 - loss: 67.1730 - regularization_loss: 0.0000e+00 - total_loss: 67.1730\n",
      "Epoch 62/200\n",
      "3/3 [==============================] - 1s 318ms/step - ndcg_metric: 0.7538 - root_mean_squared_error: 12.0764 - loss: 66.9925 - regularization_loss: 0.0000e+00 - total_loss: 66.9925\n",
      "Epoch 63/200\n",
      "3/3 [==============================] - 1s 322ms/step - ndcg_metric: 0.7508 - root_mean_squared_error: 12.1647 - loss: 66.6217 - regularization_loss: 0.0000e+00 - total_loss: 66.6217\n",
      "Epoch 64/200\n",
      "3/3 [==============================] - 1s 327ms/step - ndcg_metric: 0.7621 - root_mean_squared_error: 12.0721 - loss: 66.3058 - regularization_loss: 0.0000e+00 - total_loss: 66.3058\n",
      "Epoch 65/200\n",
      "3/3 [==============================] - 1s 396ms/step - ndcg_metric: 0.7679 - root_mean_squared_error: 12.0136 - loss: 65.4840 - regularization_loss: 0.0000e+00 - total_loss: 65.4840\n",
      "Epoch 66/200\n",
      "3/3 [==============================] - 1s 341ms/step - ndcg_metric: 0.7712 - root_mean_squared_error: 11.9813 - loss: 65.4732 - regularization_loss: 0.0000e+00 - total_loss: 65.4732\n",
      "Epoch 67/200\n",
      "3/3 [==============================] - 1s 324ms/step - ndcg_metric: 0.7668 - root_mean_squared_error: 12.0645 - loss: 65.8949 - regularization_loss: 0.0000e+00 - total_loss: 65.8949\n",
      "Epoch 68/200\n",
      "3/3 [==============================] - 1s 318ms/step - ndcg_metric: 0.7667 - root_mean_squared_error: 12.0760 - loss: 65.5422 - regularization_loss: 0.0000e+00 - total_loss: 65.5422\n",
      "Epoch 69/200\n",
      "3/3 [==============================] - 1s 325ms/step - ndcg_metric: 0.7726 - root_mean_squared_error: 11.9641 - loss: 65.0714 - regularization_loss: 0.0000e+00 - total_loss: 65.0714\n",
      "Epoch 70/200\n",
      "3/3 [==============================] - 1s 319ms/step - ndcg_metric: 0.7813 - root_mean_squared_error: 11.9556 - loss: 64.2825 - regularization_loss: 0.0000e+00 - total_loss: 64.2825\n",
      "Epoch 71/200\n",
      "3/3 [==============================] - 1s 322ms/step - ndcg_metric: 0.7870 - root_mean_squared_error: 11.9540 - loss: 64.3956 - regularization_loss: 0.0000e+00 - total_loss: 64.3956\n",
      "Epoch 72/200\n",
      "3/3 [==============================] - 1s 319ms/step - ndcg_metric: 0.7844 - root_mean_squared_error: 11.9567 - loss: 64.2856 - regularization_loss: 0.0000e+00 - total_loss: 64.2856\n",
      "Epoch 73/200\n",
      "3/3 [==============================] - 1s 321ms/step - ndcg_metric: 0.7779 - root_mean_squared_error: 12.0017 - loss: 64.9195 - regularization_loss: 0.0000e+00 - total_loss: 64.9195\n",
      "Epoch 74/200\n",
      "3/3 [==============================] - 1s 318ms/step - ndcg_metric: 0.7887 - root_mean_squared_error: 12.0089 - loss: 63.2835 - regularization_loss: 0.0000e+00 - total_loss: 63.2835\n",
      "Epoch 75/200\n",
      "3/3 [==============================] - 1s 318ms/step - ndcg_metric: 0.7937 - root_mean_squared_error: 11.9407 - loss: 63.1822 - regularization_loss: 0.0000e+00 - total_loss: 63.1822\n",
      "Epoch 76/200\n",
      "3/3 [==============================] - 1s 319ms/step - ndcg_metric: 0.8048 - root_mean_squared_error: 11.9063 - loss: 62.8550 - regularization_loss: 0.0000e+00 - total_loss: 62.8550\n",
      "Epoch 77/200\n",
      "3/3 [==============================] - 1s 321ms/step - ndcg_metric: 0.8063 - root_mean_squared_error: 11.9047 - loss: 62.1675 - regularization_loss: 0.0000e+00 - total_loss: 62.1675\n",
      "Epoch 78/200\n",
      "3/3 [==============================] - 1s 317ms/step - ndcg_metric: 0.7955 - root_mean_squared_error: 11.9902 - loss: 64.1762 - regularization_loss: 0.0000e+00 - total_loss: 64.1762\n",
      "Epoch 79/200\n",
      "3/3 [==============================] - 1s 314ms/step - ndcg_metric: 0.8200 - root_mean_squared_error: 11.7579 - loss: 60.9203 - regularization_loss: 0.0000e+00 - total_loss: 60.9203\n",
      "Epoch 80/200\n",
      "3/3 [==============================] - 1s 320ms/step - ndcg_metric: 0.8068 - root_mean_squared_error: 11.9273 - loss: 62.7276 - regularization_loss: 0.0000e+00 - total_loss: 62.7276\n",
      "Epoch 81/200\n",
      "3/3 [==============================] - 1s 360ms/step - ndcg_metric: 0.8309 - root_mean_squared_error: 11.6619 - loss: 59.9883 - regularization_loss: 0.0000e+00 - total_loss: 59.9883\n",
      "Epoch 82/200\n",
      "3/3 [==============================] - 1s 327ms/step - ndcg_metric: 0.7804 - root_mean_squared_error: 11.9460 - loss: 64.1737 - regularization_loss: 0.0000e+00 - total_loss: 64.1737\n",
      "Epoch 83/200\n",
      "3/3 [==============================] - 1s 320ms/step - ndcg_metric: 0.8288 - root_mean_squared_error: 11.8462 - loss: 59.8766 - regularization_loss: 0.0000e+00 - total_loss: 59.8766\n",
      "Epoch 84/200\n",
      "3/3 [==============================] - 1s 318ms/step - ndcg_metric: 0.8241 - root_mean_squared_error: 11.6654 - loss: 62.0798 - regularization_loss: 0.0000e+00 - total_loss: 62.0798\n",
      "Epoch 85/200\n",
      "3/3 [==============================] - 1s 323ms/step - ndcg_metric: 0.8186 - root_mean_squared_error: 11.9783 - loss: 60.9207 - regularization_loss: 0.0000e+00 - total_loss: 60.9207\n",
      "Epoch 86/200\n",
      "3/3 [==============================] - 1s 320ms/step - ndcg_metric: 0.8364 - root_mean_squared_error: 11.6982 - loss: 59.4403 - regularization_loss: 0.0000e+00 - total_loss: 59.4403\n",
      "Epoch 87/200\n",
      "3/3 [==============================] - 1s 321ms/step - ndcg_metric: 0.8302 - root_mean_squared_error: 11.8041 - loss: 59.4337 - regularization_loss: 0.0000e+00 - total_loss: 59.4337\n",
      "Epoch 88/200\n",
      "3/3 [==============================] - 1s 322ms/step - ndcg_metric: 0.8410 - root_mean_squared_error: 11.7338 - loss: 59.6621 - regularization_loss: 0.0000e+00 - total_loss: 59.6621\n",
      "Epoch 89/200\n",
      "3/3 [==============================] - 1s 319ms/step - ndcg_metric: 0.8465 - root_mean_squared_error: 11.5999 - loss: 58.7702 - regularization_loss: 0.0000e+00 - total_loss: 58.7702\n",
      "Epoch 90/200\n",
      "3/3 [==============================] - 1s 320ms/step - ndcg_metric: 0.8448 - root_mean_squared_error: 11.7502 - loss: 58.7913 - regularization_loss: 0.0000e+00 - total_loss: 58.7913\n",
      "Epoch 91/200\n",
      "3/3 [==============================] - 1s 322ms/step - ndcg_metric: 0.8401 - root_mean_squared_error: 11.6625 - loss: 59.3726 - regularization_loss: 0.0000e+00 - total_loss: 59.3726\n",
      "Epoch 92/200\n",
      "3/3 [==============================] - 1s 319ms/step - ndcg_metric: 0.8620 - root_mean_squared_error: 11.7959 - loss: 58.2757 - regularization_loss: 0.0000e+00 - total_loss: 58.2757\n",
      "Epoch 93/200\n",
      "3/3 [==============================] - 1s 321ms/step - ndcg_metric: 0.8548 - root_mean_squared_error: 11.5887 - loss: 58.6326 - regularization_loss: 0.0000e+00 - total_loss: 58.6326\n",
      "Epoch 94/200\n",
      "3/3 [==============================] - 1s 322ms/step - ndcg_metric: 0.8662 - root_mean_squared_error: 11.6387 - loss: 56.6335 - regularization_loss: 0.0000e+00 - total_loss: 56.6335\n",
      "Epoch 95/200\n",
      "3/3 [==============================] - 1s 323ms/step - ndcg_metric: 0.8654 - root_mean_squared_error: 11.6048 - loss: 57.7487 - regularization_loss: 0.0000e+00 - total_loss: 57.7487\n",
      "Epoch 96/200\n",
      "3/3 [==============================] - 1s 356ms/step - ndcg_metric: 0.8737 - root_mean_squared_error: 11.5393 - loss: 56.6581 - regularization_loss: 0.0000e+00 - total_loss: 56.6581\n",
      "Epoch 97/200\n",
      "3/3 [==============================] - 1s 317ms/step - ndcg_metric: 0.8702 - root_mean_squared_error: 11.5455 - loss: 57.1611 - regularization_loss: 0.0000e+00 - total_loss: 57.1611\n",
      "Epoch 98/200\n",
      "3/3 [==============================] - 1s 332ms/step - ndcg_metric: 0.8526 - root_mean_squared_error: 11.6991 - loss: 57.0382 - regularization_loss: 0.0000e+00 - total_loss: 57.0382\n",
      "Epoch 99/200\n",
      "3/3 [==============================] - 1s 337ms/step - ndcg_metric: 0.8803 - root_mean_squared_error: 11.5109 - loss: 54.9751 - regularization_loss: 0.0000e+00 - total_loss: 54.9751\n",
      "Epoch 100/200\n",
      "3/3 [==============================] - 1s 395ms/step - ndcg_metric: 0.8778 - root_mean_squared_error: 11.4296 - loss: 55.5297 - regularization_loss: 0.0000e+00 - total_loss: 55.5297\n",
      "Epoch 101/200\n",
      "3/3 [==============================] - 1s 341ms/step - ndcg_metric: 0.8708 - root_mean_squared_error: 11.4653 - loss: 56.9531 - regularization_loss: 0.0000e+00 - total_loss: 56.9531\n",
      "Epoch 102/200\n",
      "3/3 [==============================] - 1s 325ms/step - ndcg_metric: 0.8771 - root_mean_squared_error: 11.6592 - loss: 55.0331 - regularization_loss: 0.0000e+00 - total_loss: 55.0331\n",
      "Epoch 103/200\n",
      "3/3 [==============================] - 1s 316ms/step - ndcg_metric: 0.8837 - root_mean_squared_error: 11.3565 - loss: 54.7517 - regularization_loss: 0.0000e+00 - total_loss: 54.7517\n",
      "Epoch 104/200\n",
      "3/3 [==============================] - 1s 310ms/step - ndcg_metric: 0.8735 - root_mean_squared_error: 11.4970 - loss: 53.4802 - regularization_loss: 0.0000e+00 - total_loss: 53.4802\n",
      "Epoch 105/200\n",
      "3/3 [==============================] - 1s 358ms/step - ndcg_metric: 0.8874 - root_mean_squared_error: 11.2476 - loss: 55.4329 - regularization_loss: 0.0000e+00 - total_loss: 55.4329\n",
      "Epoch 106/200\n",
      "3/3 [==============================] - 1s 383ms/step - ndcg_metric: 0.8917 - root_mean_squared_error: 11.5035 - loss: 53.6546 - regularization_loss: 0.0000e+00 - total_loss: 53.6546\n",
      "Epoch 107/200\n",
      "3/3 [==============================] - 1s 399ms/step - ndcg_metric: 0.8950 - root_mean_squared_error: 11.2974 - loss: 54.7201 - regularization_loss: 0.0000e+00 - total_loss: 54.7201\n",
      "Epoch 108/200\n",
      "3/3 [==============================] - 1s 336ms/step - ndcg_metric: 0.8982 - root_mean_squared_error: 11.3560 - loss: 52.7438 - regularization_loss: 0.0000e+00 - total_loss: 52.7438\n",
      "Epoch 109/200\n",
      "3/3 [==============================] - 1s 394ms/step - ndcg_metric: 0.8831 - root_mean_squared_error: 11.3845 - loss: 54.4615 - regularization_loss: 0.0000e+00 - total_loss: 54.4615\n",
      "Epoch 110/200\n",
      "3/3 [==============================] - 1s 345ms/step - ndcg_metric: 0.8998 - root_mean_squared_error: 11.1663 - loss: 51.9518 - regularization_loss: 0.0000e+00 - total_loss: 51.9518\n",
      "Epoch 111/200\n",
      "3/3 [==============================] - 1s 363ms/step - ndcg_metric: 0.9057 - root_mean_squared_error: 11.0770 - loss: 51.0727 - regularization_loss: 0.0000e+00 - total_loss: 51.0727\n",
      "Epoch 112/200\n",
      "3/3 [==============================] - 1s 340ms/step - ndcg_metric: 0.8829 - root_mean_squared_error: 11.2287 - loss: 53.2962 - regularization_loss: 0.0000e+00 - total_loss: 53.2962\n",
      "Epoch 113/200\n",
      "3/3 [==============================] - 1s 422ms/step - ndcg_metric: 0.9058 - root_mean_squared_error: 11.1977 - loss: 51.1559 - regularization_loss: 0.0000e+00 - total_loss: 51.1559\n",
      "Epoch 114/200\n",
      "3/3 [==============================] - 2s 528ms/step - ndcg_metric: 0.8904 - root_mean_squared_error: 11.1681 - loss: 53.5393 - regularization_loss: 0.0000e+00 - total_loss: 53.5393\n",
      "Epoch 115/200\n",
      "3/3 [==============================] - 1s 400ms/step - ndcg_metric: 0.9097 - root_mean_squared_error: 11.2770 - loss: 50.4589 - regularization_loss: 0.0000e+00 - total_loss: 50.4589\n",
      "Epoch 116/200\n",
      "3/3 [==============================] - 1s 381ms/step - ndcg_metric: 0.9105 - root_mean_squared_error: 11.0709 - loss: 51.3736 - regularization_loss: 0.0000e+00 - total_loss: 51.3736\n",
      "Epoch 117/200\n",
      "3/3 [==============================] - 1s 362ms/step - ndcg_metric: 0.9051 - root_mean_squared_error: 11.0936 - loss: 51.1517 - regularization_loss: 0.0000e+00 - total_loss: 51.1517\n",
      "Epoch 118/200\n",
      "3/3 [==============================] - 1s 338ms/step - ndcg_metric: 0.9151 - root_mean_squared_error: 10.9820 - loss: 50.1328 - regularization_loss: 0.0000e+00 - total_loss: 50.1328\n",
      "Epoch 119/200\n",
      "3/3 [==============================] - 1s 397ms/step - ndcg_metric: 0.9136 - root_mean_squared_error: 10.9318 - loss: 50.3246 - regularization_loss: 0.0000e+00 - total_loss: 50.3246\n",
      "Epoch 120/200\n",
      "3/3 [==============================] - 1s 350ms/step - ndcg_metric: 0.9012 - root_mean_squared_error: 11.2178 - loss: 50.3913 - regularization_loss: 0.0000e+00 - total_loss: 50.3913\n",
      "Epoch 121/200\n",
      "3/3 [==============================] - 1s 353ms/step - ndcg_metric: 0.9211 - root_mean_squared_error: 10.9200 - loss: 49.8706 - regularization_loss: 0.0000e+00 - total_loss: 49.8706\n",
      "Epoch 122/200\n",
      "3/3 [==============================] - 1s 340ms/step - ndcg_metric: 0.9106 - root_mean_squared_error: 11.0734 - loss: 49.2194 - regularization_loss: 0.0000e+00 - total_loss: 49.2194\n",
      "Epoch 123/200\n",
      "3/3 [==============================] - 1s 342ms/step - ndcg_metric: 0.9167 - root_mean_squared_error: 10.8850 - loss: 49.5652 - regularization_loss: 0.0000e+00 - total_loss: 49.5652\n",
      "Epoch 124/200\n",
      "3/3 [==============================] - 1s 323ms/step - ndcg_metric: 0.9213 - root_mean_squared_error: 10.9872 - loss: 49.1154 - regularization_loss: 0.0000e+00 - total_loss: 49.1154\n",
      "Epoch 125/200\n",
      "3/3 [==============================] - 1s 316ms/step - ndcg_metric: 0.9175 - root_mean_squared_error: 10.9233 - loss: 49.5902 - regularization_loss: 0.0000e+00 - total_loss: 49.5902\n",
      "Epoch 126/200\n",
      "3/3 [==============================] - 1s 309ms/step - ndcg_metric: 0.9191 - root_mean_squared_error: 10.8780 - loss: 48.0978 - regularization_loss: 0.0000e+00 - total_loss: 48.0978\n",
      "Epoch 127/200\n",
      "3/3 [==============================] - 1s 312ms/step - ndcg_metric: 0.9223 - root_mean_squared_error: 10.9497 - loss: 47.8377 - regularization_loss: 0.0000e+00 - total_loss: 47.8377\n",
      "Epoch 128/200\n",
      "3/3 [==============================] - 1s 314ms/step - ndcg_metric: 0.9110 - root_mean_squared_error: 10.9935 - loss: 49.8356 - regularization_loss: 0.0000e+00 - total_loss: 49.8356\n",
      "Epoch 129/200\n",
      "3/3 [==============================] - 1s 310ms/step - ndcg_metric: 0.9210 - root_mean_squared_error: 10.8881 - loss: 47.6134 - regularization_loss: 0.0000e+00 - total_loss: 47.6134\n",
      "Epoch 130/200\n",
      "3/3 [==============================] - 1s 313ms/step - ndcg_metric: 0.9266 - root_mean_squared_error: 10.8305 - loss: 47.5603 - regularization_loss: 0.0000e+00 - total_loss: 47.5603\n",
      "Epoch 131/200\n",
      "3/3 [==============================] - 1s 301ms/step - ndcg_metric: 0.9226 - root_mean_squared_error: 10.9561 - loss: 47.2207 - regularization_loss: 0.0000e+00 - total_loss: 47.2207\n",
      "Epoch 132/200\n",
      "3/3 [==============================] - 1s 304ms/step - ndcg_metric: 0.9280 - root_mean_squared_error: 10.8414 - loss: 47.3206 - regularization_loss: 0.0000e+00 - total_loss: 47.3206\n",
      "Epoch 133/200\n",
      "3/3 [==============================] - 1s 304ms/step - ndcg_metric: 0.9317 - root_mean_squared_error: 10.7107 - loss: 46.2379 - regularization_loss: 0.0000e+00 - total_loss: 46.2379\n",
      "Epoch 134/200\n",
      "3/3 [==============================] - 1s 297ms/step - ndcg_metric: 0.9170 - root_mean_squared_error: 10.8506 - loss: 48.0838 - regularization_loss: 0.0000e+00 - total_loss: 48.0838\n",
      "Epoch 135/200\n",
      "3/3 [==============================] - 1s 308ms/step - ndcg_metric: 0.9301 - root_mean_squared_error: 10.7810 - loss: 46.0292 - regularization_loss: 0.0000e+00 - total_loss: 46.0292\n",
      "Epoch 136/200\n",
      "3/3 [==============================] - 1s 319ms/step - ndcg_metric: 0.9247 - root_mean_squared_error: 10.8149 - loss: 46.6243 - regularization_loss: 0.0000e+00 - total_loss: 46.6243\n",
      "Epoch 137/200\n",
      "3/3 [==============================] - 1s 311ms/step - ndcg_metric: 0.9212 - root_mean_squared_error: 10.7026 - loss: 47.6100 - regularization_loss: 0.0000e+00 - total_loss: 47.6100\n",
      "Epoch 138/200\n",
      "3/3 [==============================] - 1s 313ms/step - ndcg_metric: 0.9319 - root_mean_squared_error: 10.8477 - loss: 46.0042 - regularization_loss: 0.0000e+00 - total_loss: 46.0042\n",
      "Epoch 139/200\n",
      "3/3 [==============================] - 1s 305ms/step - ndcg_metric: 0.9328 - root_mean_squared_error: 10.6673 - loss: 45.4509 - regularization_loss: 0.0000e+00 - total_loss: 45.4509\n",
      "Epoch 140/200\n",
      "3/3 [==============================] - 1s 305ms/step - ndcg_metric: 0.9358 - root_mean_squared_error: 10.7263 - loss: 45.2134 - regularization_loss: 0.0000e+00 - total_loss: 45.2134\n",
      "Epoch 141/200\n",
      "3/3 [==============================] - 1s 302ms/step - ndcg_metric: 0.9251 - root_mean_squared_error: 10.8180 - loss: 47.5562 - regularization_loss: 0.0000e+00 - total_loss: 47.5562\n",
      "Epoch 142/200\n",
      "3/3 [==============================] - 1s 309ms/step - ndcg_metric: 0.9396 - root_mean_squared_error: 10.6444 - loss: 43.7905 - regularization_loss: 0.0000e+00 - total_loss: 43.7905\n",
      "Epoch 143/200\n",
      "3/3 [==============================] - 1s 301ms/step - ndcg_metric: 0.9371 - root_mean_squared_error: 10.6931 - loss: 45.4287 - regularization_loss: 0.0000e+00 - total_loss: 45.4287\n",
      "Epoch 144/200\n",
      "3/3 [==============================] - 1s 304ms/step - ndcg_metric: 0.9227 - root_mean_squared_error: 10.6854 - loss: 45.7423 - regularization_loss: 0.0000e+00 - total_loss: 45.7423\n",
      "Epoch 145/200\n",
      "3/3 [==============================] - 1s 303ms/step - ndcg_metric: 0.9343 - root_mean_squared_error: 10.7168 - loss: 44.8231 - regularization_loss: 0.0000e+00 - total_loss: 44.8231\n",
      "Epoch 146/200\n",
      "3/3 [==============================] - 1s 296ms/step - ndcg_metric: 0.9415 - root_mean_squared_error: 10.6101 - loss: 43.0349 - regularization_loss: 0.0000e+00 - total_loss: 43.0349\n",
      "Epoch 147/200\n",
      "3/3 [==============================] - 1s 302ms/step - ndcg_metric: 0.9426 - root_mean_squared_error: 10.6399 - loss: 43.2076 - regularization_loss: 0.0000e+00 - total_loss: 43.2076\n",
      "Epoch 148/200\n",
      "3/3 [==============================] - 1s 301ms/step - ndcg_metric: 0.9428 - root_mean_squared_error: 10.5971 - loss: 42.8317 - regularization_loss: 0.0000e+00 - total_loss: 42.8317\n",
      "Epoch 149/200\n",
      "3/3 [==============================] - 1s 340ms/step - ndcg_metric: 0.9413 - root_mean_squared_error: 10.6881 - loss: 44.0419 - regularization_loss: 0.0000e+00 - total_loss: 44.0419\n",
      "Epoch 150/200\n",
      "3/3 [==============================] - 1s 304ms/step - ndcg_metric: 0.9402 - root_mean_squared_error: 10.7342 - loss: 43.6503 - regularization_loss: 0.0000e+00 - total_loss: 43.6503\n",
      "Epoch 151/200\n",
      "3/3 [==============================] - 1s 301ms/step - ndcg_metric: 0.9409 - root_mean_squared_error: 10.6280 - loss: 43.2485 - regularization_loss: 0.0000e+00 - total_loss: 43.2485\n",
      "Epoch 152/200\n",
      "3/3 [==============================] - 1s 299ms/step - ndcg_metric: 0.9392 - root_mean_squared_error: 10.5839 - loss: 43.4810 - regularization_loss: 0.0000e+00 - total_loss: 43.4810\n",
      "Epoch 153/200\n",
      "3/3 [==============================] - 1s 310ms/step - ndcg_metric: 0.9378 - root_mean_squared_error: 10.6785 - loss: 43.4818 - regularization_loss: 0.0000e+00 - total_loss: 43.4818\n",
      "Epoch 154/200\n",
      "3/3 [==============================] - 1s 316ms/step - ndcg_metric: 0.9340 - root_mean_squared_error: 10.6361 - loss: 45.2555 - regularization_loss: 0.0000e+00 - total_loss: 45.2555\n",
      "Epoch 155/200\n",
      "3/3 [==============================] - 1s 307ms/step - ndcg_metric: 0.9349 - root_mean_squared_error: 10.6986 - loss: 42.2155 - regularization_loss: 0.0000e+00 - total_loss: 42.2155\n",
      "Epoch 156/200\n",
      "3/3 [==============================] - 1s 329ms/step - ndcg_metric: 0.9400 - root_mean_squared_error: 10.6524 - loss: 42.1238 - regularization_loss: 0.0000e+00 - total_loss: 42.1238\n",
      "Epoch 157/200\n",
      "3/3 [==============================] - 1s 317ms/step - ndcg_metric: 0.9381 - root_mean_squared_error: 10.7215 - loss: 43.0823 - regularization_loss: 0.0000e+00 - total_loss: 43.0823\n",
      "Epoch 158/200\n",
      "3/3 [==============================] - 1s 353ms/step - ndcg_metric: 0.9433 - root_mean_squared_error: 10.7025 - loss: 41.7826 - regularization_loss: 0.0000e+00 - total_loss: 41.7826\n",
      "Epoch 159/200\n",
      "3/3 [==============================] - 1s 378ms/step - ndcg_metric: 0.9439 - root_mean_squared_error: 10.7107 - loss: 41.6613 - regularization_loss: 0.0000e+00 - total_loss: 41.6613\n",
      "Epoch 160/200\n",
      "3/3 [==============================] - 1s 362ms/step - ndcg_metric: 0.9435 - root_mean_squared_error: 10.5998 - loss: 43.4954 - regularization_loss: 0.0000e+00 - total_loss: 43.4954\n",
      "Epoch 161/200\n",
      "3/3 [==============================] - 1s 362ms/step - ndcg_metric: 0.9473 - root_mean_squared_error: 10.7194 - loss: 41.2347 - regularization_loss: 0.0000e+00 - total_loss: 41.2347\n",
      "Epoch 162/200\n",
      "3/3 [==============================] - 1s 367ms/step - ndcg_metric: 0.9475 - root_mean_squared_error: 10.6120 - loss: 41.9251 - regularization_loss: 0.0000e+00 - total_loss: 41.9251\n",
      "Epoch 163/200\n",
      "3/3 [==============================] - 1s 349ms/step - ndcg_metric: 0.9441 - root_mean_squared_error: 10.6379 - loss: 41.5410 - regularization_loss: 0.0000e+00 - total_loss: 41.5410\n",
      "Epoch 164/200\n",
      "3/3 [==============================] - 1s 308ms/step - ndcg_metric: 0.9462 - root_mean_squared_error: 10.6558 - loss: 39.8328 - regularization_loss: 0.0000e+00 - total_loss: 39.8328\n",
      "Epoch 165/200\n",
      "3/3 [==============================] - 1s 307ms/step - ndcg_metric: 0.9460 - root_mean_squared_error: 10.4788 - loss: 39.7108 - regularization_loss: 0.0000e+00 - total_loss: 39.7108\n",
      "Epoch 166/200\n",
      "3/3 [==============================] - 1s 344ms/step - ndcg_metric: 0.9446 - root_mean_squared_error: 10.6447 - loss: 41.0743 - regularization_loss: 0.0000e+00 - total_loss: 41.0743\n",
      "Epoch 167/200\n",
      "3/3 [==============================] - 1s 343ms/step - ndcg_metric: 0.9438 - root_mean_squared_error: 10.6363 - loss: 41.9463 - regularization_loss: 0.0000e+00 - total_loss: 41.9463\n",
      "Epoch 168/200\n",
      "3/3 [==============================] - 1s 368ms/step - ndcg_metric: 0.9371 - root_mean_squared_error: 10.7805 - loss: 41.1968 - regularization_loss: 0.0000e+00 - total_loss: 41.1968\n",
      "Epoch 169/200\n",
      "3/3 [==============================] - 1s 350ms/step - ndcg_metric: 0.9415 - root_mean_squared_error: 10.6135 - loss: 41.1169 - regularization_loss: 0.0000e+00 - total_loss: 41.1169\n",
      "Epoch 170/200\n",
      "3/3 [==============================] - 1s 372ms/step - ndcg_metric: 0.9475 - root_mean_squared_error: 10.7100 - loss: 39.6609 - regularization_loss: 0.0000e+00 - total_loss: 39.6609\n",
      "Epoch 171/200\n",
      "3/3 [==============================] - 1s 308ms/step - ndcg_metric: 0.9502 - root_mean_squared_error: 10.7086 - loss: 39.6368 - regularization_loss: 0.0000e+00 - total_loss: 39.6368\n",
      "Epoch 172/200\n",
      "3/3 [==============================] - 1s 300ms/step - ndcg_metric: 0.9509 - root_mean_squared_error: 10.7268 - loss: 39.9623 - regularization_loss: 0.0000e+00 - total_loss: 39.9623\n",
      "Epoch 173/200\n",
      "3/3 [==============================] - 1s 311ms/step - ndcg_metric: 0.9446 - root_mean_squared_error: 10.7837 - loss: 39.0786 - regularization_loss: 0.0000e+00 - total_loss: 39.0786\n",
      "Epoch 174/200\n",
      "3/3 [==============================] - 1s 309ms/step - ndcg_metric: 0.9525 - root_mean_squared_error: 10.6508 - loss: 38.0732 - regularization_loss: 0.0000e+00 - total_loss: 38.0732\n",
      "Epoch 175/200\n",
      "3/3 [==============================] - 1s 308ms/step - ndcg_metric: 0.9480 - root_mean_squared_error: 10.6903 - loss: 40.1887 - regularization_loss: 0.0000e+00 - total_loss: 40.1887\n",
      "Epoch 176/200\n",
      "3/3 [==============================] - 1s 367ms/step - ndcg_metric: 0.9505 - root_mean_squared_error: 10.8365 - loss: 38.9360 - regularization_loss: 0.0000e+00 - total_loss: 38.9360\n",
      "Epoch 177/200\n",
      "3/3 [==============================] - 1s 323ms/step - ndcg_metric: 0.9488 - root_mean_squared_error: 10.6537 - loss: 41.2524 - regularization_loss: 0.0000e+00 - total_loss: 41.2524\n",
      "Epoch 178/200\n",
      "3/3 [==============================] - 1s 310ms/step - ndcg_metric: 0.9517 - root_mean_squared_error: 10.8876 - loss: 38.1284 - regularization_loss: 0.0000e+00 - total_loss: 38.1284\n",
      "Epoch 179/200\n",
      "3/3 [==============================] - 1s 311ms/step - ndcg_metric: 0.9469 - root_mean_squared_error: 10.6789 - loss: 39.3171 - regularization_loss: 0.0000e+00 - total_loss: 39.3171\n",
      "Epoch 180/200\n",
      "3/3 [==============================] - 1s 338ms/step - ndcg_metric: 0.9522 - root_mean_squared_error: 10.8272 - loss: 37.5990 - regularization_loss: 0.0000e+00 - total_loss: 37.5990\n",
      "Epoch 181/200\n",
      "3/3 [==============================] - 1s 314ms/step - ndcg_metric: 0.9514 - root_mean_squared_error: 10.7576 - loss: 38.6175 - regularization_loss: 0.0000e+00 - total_loss: 38.6175\n",
      "Epoch 182/200\n",
      "3/3 [==============================] - 1s 313ms/step - ndcg_metric: 0.9489 - root_mean_squared_error: 10.7457 - loss: 39.0317 - regularization_loss: 0.0000e+00 - total_loss: 39.0317\n",
      "Epoch 183/200\n",
      "3/3 [==============================] - 1s 335ms/step - ndcg_metric: 0.9513 - root_mean_squared_error: 10.8497 - loss: 38.6459 - regularization_loss: 0.0000e+00 - total_loss: 38.6459\n",
      "Epoch 184/200\n",
      "3/3 [==============================] - 1s 335ms/step - ndcg_metric: 0.9517 - root_mean_squared_error: 10.8308 - loss: 38.7410 - regularization_loss: 0.0000e+00 - total_loss: 38.7410\n",
      "Epoch 185/200\n",
      "3/3 [==============================] - 1s 355ms/step - ndcg_metric: 0.9530 - root_mean_squared_error: 10.8742 - loss: 38.5473 - regularization_loss: 0.0000e+00 - total_loss: 38.5473\n",
      "Epoch 186/200\n",
      "3/3 [==============================] - 1s 356ms/step - ndcg_metric: 0.9540 - root_mean_squared_error: 10.8696 - loss: 37.9846 - regularization_loss: 0.0000e+00 - total_loss: 37.9846\n",
      "Epoch 187/200\n",
      "3/3 [==============================] - 1s 346ms/step - ndcg_metric: 0.9509 - root_mean_squared_error: 10.9226 - loss: 38.8425 - regularization_loss: 0.0000e+00 - total_loss: 38.8425\n",
      "Epoch 188/200\n",
      "3/3 [==============================] - 1s 372ms/step - ndcg_metric: 0.9570 - root_mean_squared_error: 10.7414 - loss: 36.5719 - regularization_loss: 0.0000e+00 - total_loss: 36.5719\n",
      "Epoch 189/200\n",
      "3/3 [==============================] - 1s 351ms/step - ndcg_metric: 0.9542 - root_mean_squared_error: 10.8893 - loss: 37.3150 - regularization_loss: 0.0000e+00 - total_loss: 37.3150\n",
      "Epoch 190/200\n",
      "3/3 [==============================] - 1s 344ms/step - ndcg_metric: 0.9545 - root_mean_squared_error: 10.7727 - loss: 37.1671 - regularization_loss: 0.0000e+00 - total_loss: 37.1671\n",
      "Epoch 191/200\n",
      "3/3 [==============================] - 1s 364ms/step - ndcg_metric: 0.9570 - root_mean_squared_error: 10.8001 - loss: 35.7184 - regularization_loss: 0.0000e+00 - total_loss: 35.7184\n",
      "Epoch 192/200\n",
      "3/3 [==============================] - 1s 367ms/step - ndcg_metric: 0.9568 - root_mean_squared_error: 10.8337 - loss: 36.7430 - regularization_loss: 0.0000e+00 - total_loss: 36.7430\n",
      "Epoch 193/200\n",
      "3/3 [==============================] - 1s 372ms/step - ndcg_metric: 0.9554 - root_mean_squared_error: 10.9326 - loss: 36.3080 - regularization_loss: 0.0000e+00 - total_loss: 36.3080\n",
      "Epoch 194/200\n",
      "3/3 [==============================] - 1s 344ms/step - ndcg_metric: 0.9572 - root_mean_squared_error: 10.8849 - loss: 35.9740 - regularization_loss: 0.0000e+00 - total_loss: 35.9740\n",
      "Epoch 195/200\n",
      "3/3 [==============================] - 1s 367ms/step - ndcg_metric: 0.9558 - root_mean_squared_error: 11.0073 - loss: 36.4871 - regularization_loss: 0.0000e+00 - total_loss: 36.4871\n",
      "Epoch 196/200\n",
      "3/3 [==============================] - 1s 353ms/step - ndcg_metric: 0.9552 - root_mean_squared_error: 11.0552 - loss: 37.0849 - regularization_loss: 0.0000e+00 - total_loss: 37.0849\n",
      "Epoch 197/200\n",
      "3/3 [==============================] - 1s 352ms/step - ndcg_metric: 0.9543 - root_mean_squared_error: 10.9824 - loss: 36.3630 - regularization_loss: 0.0000e+00 - total_loss: 36.3630\n",
      "Epoch 198/200\n",
      "3/3 [==============================] - 1s 401ms/step - ndcg_metric: 0.9561 - root_mean_squared_error: 11.0021 - loss: 35.8223 - regularization_loss: 0.0000e+00 - total_loss: 35.8223\n",
      "Epoch 199/200\n",
      "3/3 [==============================] - 1s 333ms/step - ndcg_metric: 0.9509 - root_mean_squared_error: 11.0039 - loss: 36.8248 - regularization_loss: 0.0000e+00 - total_loss: 36.8248\n",
      "Epoch 200/200\n",
      "3/3 [==============================] - 1s 308ms/step - ndcg_metric: 0.9591 - root_mean_squared_error: 11.0251 - loss: 34.3058 - regularization_loss: 0.0000e+00 - total_loss: 34.3058\n"
     ]
    },
    {
     "data": {
      "text/plain": [
       "<keras.src.callbacks.History at 0x1a7c2140390>"
      ]
     },
     "execution_count": 38,
     "metadata": {},
     "output_type": "execute_result"
    }
   ],
   "source": [
    "listwise_model.fit(cached_train, epochs=200, verbose=True)"
   ]
  },
  {
   "cell_type": "code",
   "execution_count": 42,
   "metadata": {},
   "outputs": [
    {
     "name": "stdout",
     "output_type": "stream",
     "text": [
      "2/2 [==============================] - 0s 93ms/step - ndcg_metric: 0.6821 - root_mean_squared_error: 13.5062 - loss: 236.9361 - regularization_loss: 0.0000e+00 - total_loss: 236.9361\n",
      "NDCG of the MSE Model: 0.6821\n"
     ]
    }
   ],
   "source": [
    "listwise_model_result = listwise_model.evaluate(cached_test, return_dict=True)\n",
    "print(\"NDCG of the MSE Model: {:.4f}\".format(listwise_model_result[\"ndcg_metric\"]))"
   ]
  },
  {
   "cell_type": "markdown",
   "metadata": {},
   "source": [
    "## Average Spearman\n",
    "\n",
    "The following snippets were run on the server infrastructure."
   ]
  },
  {
   "cell_type": "code",
   "execution_count": null,
   "metadata": {},
   "outputs": [],
   "source": [
    "import warnings\n",
    "import os\n",
    "warnings.filterwarnings('ignore')\n",
    "os.environ['PYTHONWARNINGS'] = 'ignore'\n",
    "\n",
    "from src.configuration import load_traindata_for_pointwise\n",
    "from src.pipeline.neural_network_pipeline import pipeline\n",
    "\n",
    "train_df = load_traindata_for_pointwise()"
   ]
  },
  {
   "cell_type": "code",
   "execution_count": null,
   "metadata": {},
   "outputs": [],
   "source": [
    "pipeline(train_df, None, 500)"
   ]
  },
  {
   "cell_type": "markdown",
   "metadata": {},
   "source": [
    "Epoch 500/500\n",
    "\n",
    "1/1 [==============================] - ETA: 0s - ndcg_metric: 0.9470 - root_mean_squared_error: 16.0610 - loss: 40.7926 - regularization_loss: 0.0000e+00 - total_loss: 40.7926\b\b\b\b\b\b\b\b\b\b\b\b\b\b\b\b\b\b\b\b\b\b\b\b\b\b\b\b\b\b\b\b\b\b\b\b\b\b\b\b\b\b\b\b\b\b\b\b\b\b\b\b\b\b\b\b\b\b\b\b\b\b\b\b\b\b\b\b\b\b\b\b\b\b\b\b\b\b\b\b\b\b\b\b\b\b\b\b\b\b\b\b\b\b\b\b\b\b\b\b\b\b\b\b\b\b\b\b\b\b\b\b\b\b\b\b\b\b\b\b\b\b\b\b\b\b\b\b\b\b\b\b\b\b\b\b\b\b\b\b\b\b\b\b\b\b\b\b\b\b\b\b\b\b\b\b\b\b\b\b\b\b\b\b\b\b\b\b\b\b\b\b\b\b\b\n",
    "1/1 [==============================] - 0s 27ms/step - ndcg_metric: 0.9470 - root_mean_squared_error: 16.0610 - loss: 40.7926 - regularization_loss: 0.0000e+00 - total_loss: 40.7926\n",
    "Evaluating the model\n",
    "\n",
    "1/1 [==============================] - ETA: 0s - ndcg_metric: 0.6524 - root_mean_squared_error: 14.4686 - loss: 255.5971 - regularization_loss: 0.0000e+00 - total_loss: 255.5971\b\b\b\b\b\b\b\b\b\b\b\b\b\b\b\b\b\b\b\b\b\b\b\b\b\b\b\b\b\b\b\b\b\b\b\b\b\b\b\b\b\b\b\b\b\b\b\b\b\b\b\b\b\b\b\b\b\b\b\b\b\b\b\b\b\b\b\b\b\b\b\b\b\b\b\b\b\b\b\b\b\b\b\b\b\b\b\b\b\b\b\b\b\b\b\b\b\b\b\b\b\b\b\b\b\b\b\b\b\b\b\b\b\b\b\b\b\b\b\b\b\b\b\b\b\b\b\b\b\b\b\b\b\b\b\b\b\b\b\b\b\b\b\b\b\b\b\b\b\b\b\b\b\b\b\b\b\b\b\b\b\b\b\b\b\b\b\b\b\b\b\b\b\b\b\b\b\n",
    "1/1 [==============================] - 1s 676ms/step - ndcg_metric: 0.6524 - root_mean_squared_error: 14.4686 - loss: 255.5971 - regularization_loss: 0.0000e+00 - total_loss: 255.5971\n",
    "NDCG of the MSE Model: 0.6524\n",
    "\n",
    "1/1 [==============================] - ETA: 0s\b\b\b\b\b\b\b\b\b\b\b\b\b\b\b\b\b\b\b\b\b\b\b\b\b\b\b\b\b\b\b\b\b\b\b\b\b\b\b\b\b\b\b\b\b\b\n",
    "1/1 [==============================] - 0s 205ms/step\n",
    "Average Spearman of the MSE Model: 0.1504"
   ]
  },
  {
   "cell_type": "code",
   "execution_count": null,
   "metadata": {},
   "outputs": [],
   "source": [
    "pipeline(train_df, None, 500)"
   ]
  },
  {
   "cell_type": "markdown",
   "metadata": {},
   "source": [
    "Epoch 500/500\n",
    "\n",
    "1/1 [==============================] - ETA: 0s - ndcg_metric: 0.9484 - root_mean_squared_error: 15.7722 - loss: 39.5223 - regularization_loss: 0.0000e+00 - total_loss: 39.5223\b\b\b\b\b\b\b\b\b\b\b\b\b\b\b\b\b\b\b\b\b\b\b\b\b\b\b\b\b\b\b\b\b\b\b\b\b\b\b\b\b\b\b\b\b\b\b\b\b\b\b\b\b\b\b\b\b\b\b\b\b\b\b\b\b\b\b\b\b\b\b\b\b\b\b\b\b\b\b\b\b\b\b\b\b\b\b\b\b\b\b\b\b\b\b\b\b\b\b\b\b\b\b\b\b\b\b\b\b\b\b\b\b\b\b\b\b\b\b\b\b\b\b\b\b\b\b\b\b\b\b\b\b\b\b\b\b\b\b\b\b\b\b\b\b\b\b\b\b\b\b\b\b\b\b\b\b\b\b\b\b\b\b\b\b\b\b\b\b\b\b\b\b\b\b\n",
    "1/1 [==============================] - 0s 42ms/step - ndcg_metric: 0.9484 - root_mean_squared_error: 15.7722 - loss: 39.5223 - regularization_loss: 0.0000e+00 - total_loss: 39.5223\n",
    "Evaluating the model\n",
    "\n",
    "1/1 [==============================] - ETA: 0s - ndcg_metric: 0.6985 - root_mean_squared_error: 14.1739 - loss: 198.9219 - regularization_loss: 0.0000e+00 - total_loss: 198.9219\b\b\b\b\b\b\b\b\b\b\b\b\b\b\b\b\b\b\b\b\b\b\b\b\b\b\b\b\b\b\b\b\b\b\b\b\b\b\b\b\b\b\b\b\b\b\b\b\b\b\b\b\b\b\b\b\b\b\b\b\b\b\b\b\b\b\b\b\b\b\b\b\b\b\b\b\b\b\b\b\b\b\b\b\b\b\b\b\b\b\b\b\b\b\b\b\b\b\b\b\b\b\b\b\b\b\b\b\b\b\b\b\b\b\b\b\b\b\b\b\b\b\b\b\b\b\b\b\b\b\b\b\b\b\b\b\b\b\b\b\b\b\b\b\b\b\b\b\b\b\b\b\b\b\b\b\b\b\b\b\b\b\b\b\b\b\b\b\b\b\b\b\b\b\b\b\b\n",
    "1/1 [==============================] - 1s 544ms/step - ndcg_metric: 0.6985 - root_mean_squared_error: 14.1739 - loss: 198.9219 - regularization_loss: 0.0000e+00 - total_loss: 198.9219\n",
    "NDCG of the MSE Model: 0.6985\n",
    "\n",
    "1/1 [==============================] - ETA: 0s\b\b\b\b\b\b\b\b\b\b\b\b\b\b\b\b\b\b\b\b\b\b\b\b\b\b\b\b\b\b\b\b\b\b\b\b\b\b\b\b\b\b\b\b\b\b\n",
    "1/1 [==============================] - 0s 181ms/step\n",
    "Average Spearman of the MSE Model: 0.1739"
   ]
  },
  {
   "cell_type": "code",
   "execution_count": null,
   "metadata": {},
   "outputs": [],
   "source": [
    "pipeline(train_df, None, 500)"
   ]
  },
  {
   "cell_type": "markdown",
   "metadata": {},
   "source": [
    "Epoch 500/500\n",
    "\n",
    "1/1 [==============================] - ETA: 0s - ndcg_metric: 0.9548 - root_mean_squared_error: 11.6011 - loss: 38.1700 - regularization_loss: 0.0000e+00 - total_loss: 38.1700\b\b\b\b\b\b\b\b\b\b\b\b\b\b\b\b\b\b\b\b\b\b\b\b\b\b\b\b\b\b\b\b\b\b\b\b\b\b\b\b\b\b\b\b\b\b\b\b\b\b\b\b\b\b\b\b\b\b\b\b\b\b\b\b\b\b\b\b\b\b\b\b\b\b\b\b\b\b\b\b\b\b\b\b\b\b\b\b\b\b\b\b\b\b\b\b\b\b\b\b\b\b\b\b\b\b\b\b\b\b\b\b\b\b\b\b\b\b\b\b\b\b\b\b\b\b\b\b\b\b\b\b\b\b\b\b\b\b\b\b\b\b\b\b\b\b\b\b\b\b\b\b\b\b\b\b\b\b\b\b\b\b\b\b\b\b\b\b\b\b\b\b\b\b\b\n",
    "1/1 [==============================] - 0s 54ms/step - ndcg_metric: 0.9548 - root_mean_squared_error: 11.6011 - loss: 38.1700 - regularization_loss: 0.0000e+00 - total_loss: 38.1700\n",
    "Evaluating the model\n",
    "\n",
    "1/1 [==============================] - ETA: 0s - ndcg_metric: 0.6875 - root_mean_squared_error: 13.1623 - loss: 208.3167 - regularization_loss: 0.0000e+00 - total_loss: 208.3167\b\b\b\b\b\b\b\b\b\b\b\b\b\b\b\b\b\b\b\b\b\b\b\b\b\b\b\b\b\b\b\b\b\b\b\b\b\b\b\b\b\b\b\b\b\b\b\b\b\b\b\b\b\b\b\b\b\b\b\b\b\b\b\b\b\b\b\b\b\b\b\b\b\b\b\b\b\b\b\b\b\b\b\b\b\b\b\b\b\b\b\b\b\b\b\b\b\b\b\b\b\b\b\b\b\b\b\b\b\b\b\b\b\b\b\b\b\b\b\b\b\b\b\b\b\b\b\b\b\b\b\b\b\b\b\b\b\b\b\b\b\b\b\b\b\b\b\b\b\b\b\b\b\b\b\b\b\b\b\b\b\b\b\b\b\b\b\b\b\b\b\b\b\b\b\b\b\n",
    "1/1 [==============================] - 1s 652ms/step - ndcg_metric: 0.6875 - root_mean_squared_error: 13.1623 - loss: 208.3167 - regularization_loss: 0.0000e+00 - total_loss: 208.3167\n",
    "NDCG of the MSE Model: 0.6875\n",
    "\n",
    "1/1 [==============================] - ETA: 0s\b\b\b\b\b\b\b\b\b\b\b\b\b\b\b\b\b\b\b\b\b\b\b\b\b\b\b\b\b\b\b\b\b\b\b\b\b\b\b\b\b\b\b\b\b\b\n",
    "1/1 [==============================] - 0s 186ms/step\n",
    "Average Spearman of the MSE Model: 0.1246"
   ]
  },
  {
   "cell_type": "code",
   "execution_count": null,
   "metadata": {},
   "outputs": [],
   "source": [
    "pipeline(train_df, None, 500)"
   ]
  },
  {
   "cell_type": "markdown",
   "metadata": {},
   "source": [
    "Epoch 500/500\n",
    "\n",
    "1/1 [==============================] - ETA: 0s - ndcg_metric: 0.9561 - root_mean_squared_error: 12.4717 - loss: 39.4902 - regularization_loss: 0.0000e+00 - total_loss: 39.4902\b\b\b\b\b\b\b\b\b\b\b\b\b\b\b\b\b\b\b\b\b\b\b\b\b\b\b\b\b\b\b\b\b\b\b\b\b\b\b\b\b\b\b\b\b\b\b\b\b\b\b\b\b\b\b\b\b\b\b\b\b\b\b\b\b\b\b\b\b\b\b\b\b\b\b\b\b\b\b\b\b\b\b\b\b\b\b\b\b\b\b\b\b\b\b\b\b\b\b\b\b\b\b\b\b\b\b\b\b\b\b\b\b\b\b\b\b\b\b\b\b\b\b\b\b\b\b\b\b\b\b\b\b\b\b\b\b\b\b\b\b\b\b\b\b\b\b\b\b\b\b\b\b\b\b\b\b\b\b\b\b\b\b\b\b\b\b\b\b\b\b\b\b\b\b\n",
    "1/1 [==============================] - 0s 42ms/step - ndcg_metric: 0.9561 - root_mean_squared_error: 12.4717 - loss: 39.4902 - regularization_loss: 0.0000e+00 - total_loss: 39.4902\n",
    "Evaluating the model\n",
    "\n",
    "1/1 [==============================] - ETA: 0s - ndcg_metric: 0.6890 - root_mean_squared_error: 12.6760 - loss: 268.1295 - regularization_loss: 0.0000e+00 - total_loss: 268.1295\b\b\b\b\b\b\b\b\b\b\b\b\b\b\b\b\b\b\b\b\b\b\b\b\b\b\b\b\b\b\b\b\b\b\b\b\b\b\b\b\b\b\b\b\b\b\b\b\b\b\b\b\b\b\b\b\b\b\b\b\b\b\b\b\b\b\b\b\b\b\b\b\b\b\b\b\b\b\b\b\b\b\b\b\b\b\b\b\b\b\b\b\b\b\b\b\b\b\b\b\b\b\b\b\b\b\b\b\b\b\b\b\b\b\b\b\b\b\b\b\b\b\b\b\b\b\b\b\b\b\b\b\b\b\b\b\b\b\b\b\b\b\b\b\b\b\b\b\b\b\b\b\b\b\b\b\b\b\b\b\b\b\b\b\b\b\b\b\b\b\b\b\b\b\b\b\b\n",
    "1/1 [==============================] - 1s 662ms/step - ndcg_metric: 0.6890 - root_mean_squared_error: 12.6760 - loss: 268.1295 - regularization_loss: 0.0000e+00 - total_loss: 268.1295\n",
    "NDCG of the MSE Model: 0.6890\n",
    "\n",
    "1/1 [==============================] - ETA: 0s\b\b\b\b\b\b\b\b\b\b\b\b\b\b\b\b\b\b\b\b\b\b\b\b\b\b\b\b\b\b\b\b\b\b\b\b\b\b\b\b\b\b\b\b\b\b\n",
    "1/1 [==============================] - 0s 191ms/step\n",
    "Average Spearman of the MSE Model: 0.1511"
   ]
  },
  {
   "cell_type": "code",
   "execution_count": null,
   "metadata": {},
   "outputs": [],
   "source": [
    "pipeline(train_df, None, 500)"
   ]
  },
  {
   "cell_type": "markdown",
   "metadata": {},
   "source": [
    "Epoch 500/500\n",
    "\n",
    "1/1 [==============================] - ETA: 0s - ndcg_metric: 0.9498 - root_mean_squared_error: 11.2547 - loss: 37.4401 - regularization_loss: 0.0000e+00 - total_loss: 37.4401\b\b\b\b\b\b\b\b\b\b\b\b\b\b\b\b\b\b\b\b\b\b\b\b\b\b\b\b\b\b\b\b\b\b\b\b\b\b\b\b\b\b\b\b\b\b\b\b\b\b\b\b\b\b\b\b\b\b\b\b\b\b\b\b\b\b\b\b\b\b\b\b\b\b\b\b\b\b\b\b\b\b\b\b\b\b\b\b\b\b\b\b\b\b\b\b\b\b\b\b\b\b\b\b\b\b\b\b\b\b\b\b\b\b\b\b\b\b\b\b\b\b\b\b\b\b\b\b\b\b\b\b\b\b\b\b\b\b\b\b\b\b\b\b\b\b\b\b\b\b\b\b\b\b\b\b\b\b\b\b\b\b\b\b\b\b\b\b\b\b\b\b\b\b\b\n",
    "1/1 [==============================] - 0s 44ms/step - ndcg_metric: 0.9498 - root_mean_squared_error: 11.2547 - loss: 37.4401 - regularization_loss: 0.0000e+00 - total_loss: 37.4401\n",
    "Evaluating the model\n",
    "\n",
    "1/1 [==============================] - ETA: 0s - ndcg_metric: 0.6790 - root_mean_squared_error: 11.3083 - loss: 197.4894 - regularization_loss: 0.0000e+00 - total_loss: 197.4894\b\b\b\b\b\b\b\b\b\b\b\b\b\b\b\b\b\b\b\b\b\b\b\b\b\b\b\b\b\b\b\b\b\b\b\b\b\b\b\b\b\b\b\b\b\b\b\b\b\b\b\b\b\b\b\b\b\b\b\b\b\b\b\b\b\b\b\b\b\b\b\b\b\b\b\b\b\b\b\b\b\b\b\b\b\b\b\b\b\b\b\b\b\b\b\b\b\b\b\b\b\b\b\b\b\b\b\b\b\b\b\b\b\b\b\b\b\b\b\b\b\b\b\b\b\b\b\b\b\b\b\b\b\b\b\b\b\b\b\b\b\b\b\b\b\b\b\b\b\b\b\b\b\b\b\b\b\b\b\b\b\b\b\b\b\b\b\b\b\b\b\b\b\b\b\b\b\n",
    "1/1 [==============================] - 1s 633ms/step - ndcg_metric: 0.6790 - root_mean_squared_error: 11.3083 - loss: 197.4894 - regularization_loss: 0.0000e+00 - total_loss: 197.4894\n",
    "NDCG of the MSE Model: 0.6790\n",
    "\n",
    "1/1 [==============================] - ETA: 0s\b\b\b\b\b\b\b\b\b\b\b\b\b\b\b\b\b\b\b\b\b\b\b\b\b\b\b\b\b\b\b\b\b\b\b\b\b\b\b\b\b\b\b\b\b\b\n",
    "1/1 [==============================] - 0s 196ms/step\n",
    "Average Spearman of the MSE Model: 0.1319"
   ]
  },
  {
   "cell_type": "code",
   "execution_count": null,
   "metadata": {},
   "outputs": [],
   "source": [
    "ncdg_scores = [0.6524, 0.6985, 0.6875, 0.6890, 0.6790]\n",
    "average_spearman_scores = [0.1504, 0.1739, 0.1246, 0.1511, 0.1319]"
   ]
  }
 ],
 "metadata": {
  "kernelspec": {
   "display_name": "Python 3 (ipykernel)",
   "language": "python",
   "name": "python3"
  },
  "language_info": {
   "codemirror_mode": {
    "name": "ipython",
    "version": 3
   },
   "file_extension": ".py",
   "mimetype": "text/x-python",
   "name": "python",
   "nbconvert_exporter": "python",
   "pygments_lexer": "ipython3",
   "version": "3.10.6"
  }
 },
 "nbformat": 4,
 "nbformat_minor": 2
}
