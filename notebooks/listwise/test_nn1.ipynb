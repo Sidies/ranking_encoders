{
 "cells": [
  {
   "cell_type": "code",
   "execution_count": 4,
   "metadata": {},
   "outputs": [],
   "source": [
    "import pandas as pd\n",
    "import numpy as np\n",
    "from src import configuration as config\n",
    "import tensorflow as tf\n",
    "import tensorflow_ranking as tfr\n",
    "import tensorflow_recommenders as tfrs\n",
    "import tensorflow_datasets as tfds"
   ]
  },
  {
   "cell_type": "code",
   "execution_count": 5,
   "metadata": {},
   "outputs": [
    {
     "name": "stdout",
     "output_type": "stream",
     "text": [
      "<class 'tensorflow.python.data.ops.prefetch_op._PrefetchDataset'>\n"
     ]
    }
   ],
   "source": [
    "ratings = tfds.load(\"movielens/100k-ratings\", split=\"train\")\n",
    "movies = tfds.load(\"movielens/100k-movies\", split=\"train\")\n",
    "print(type(movies))\n",
    "\n",
    "ratings = ratings.map(lambda x: {\n",
    "    \"movie_title\": x[\"movie_title\"],\n",
    "    \"user_id\": x[\"user_id\"],\n",
    "    \"user_rating\": x[\"user_rating\"],\n",
    "})\n",
    "movies = movies.map(lambda x: x[\"movie_title\"])\n",
    "\n",
    "unique_movie_titles = np.unique(np.concatenate(list(movies.batch(1000))))\n",
    "unique_user_ids = np.unique(np.concatenate(list(ratings.batch(1_000).map(\n",
    "    lambda x: x[\"user_id\"]))))"
   ]
  },
  {
   "cell_type": "code",
   "execution_count": 6,
   "metadata": {},
   "outputs": [
    {
     "name": "stdout",
     "output_type": "stream",
     "text": [
      "[b\"'Til There Was You (1997)\" b'1-900 (1994)' b'101 Dalmatians (1996)' ...\n",
      " b'Zeus and Roxanne (1997)' b'unknown'\n",
      " b'\\xc3\\x81 k\\xc3\\xb6ldum klaka (Cold Fever) (1994)']\n",
      "<_MapDataset element_spec=TensorSpec(shape=(), dtype=tf.string, name=None)>\n"
     ]
    }
   ],
   "source": [
    "print(unique_movie_titles)\n",
    "print(movies)"
   ]
  },
  {
   "cell_type": "code",
   "execution_count": 7,
   "metadata": {},
   "outputs": [],
   "source": [
    "tf.random.set_seed(42)\n",
    "\n",
    "# Split between train and tests sets, as before.\n",
    "shuffled = ratings.shuffle(100_000, seed=42, reshuffle_each_iteration=False)\n",
    "\n",
    "train = shuffled.take(80_000)\n",
    "test = shuffled.skip(80_000).take(20_000)\n",
    "\n",
    "# We sample 50 lists for each user for the training data. For each list we\n",
    "# sample 5 movies from the movies the user rated.\n",
    "train = tfrs.examples.movielens.sample_listwise(\n",
    "    train,\n",
    "    num_list_per_user=50,\n",
    "    num_examples_per_list=5,\n",
    "    seed=42\n",
    ")\n",
    "test = tfrs.examples.movielens.sample_listwise(\n",
    "    test,\n",
    "    num_list_per_user=1,\n",
    "    num_examples_per_list=5,\n",
    "    seed=42\n",
    ")"
   ]
  },
  {
   "cell_type": "code",
   "execution_count": 15,
   "metadata": {},
   "outputs": [
    {
     "name": "stdout",
     "output_type": "stream",
     "text": [
      "{'movie_title': <tf.Tensor: shape=(5,), dtype=string, numpy=\n",
      "array([b'Postman, The (1997)', b'Liar Liar (1997)', b'Contact (1997)',\n",
      "       b'Welcome To Sarajevo (1997)',\n",
      "       b'I Know What You Did Last Summer (1997)'], dtype=object)>,\n",
      " 'user_id': <tf.Tensor: shape=(), dtype=string, numpy=b'681'>,\n",
      " 'user_rating': <tf.Tensor: shape=(5,), dtype=float32, numpy=array([4., 5., 1., 4., 1.], dtype=float32)>}\n"
     ]
    }
   ],
   "source": [
    "import pprint\n",
    "for example in train.take(1):\n",
    "  pprint.pprint(example)"
   ]
  },
  {
   "cell_type": "code",
   "execution_count": 8,
   "metadata": {},
   "outputs": [],
   "source": [
    "class RankingModel(tfrs.Model):\n",
    "\n",
    "  def __init__(self, loss):\n",
    "    super().__init__()\n",
    "    embedding_dimension = 32\n",
    "\n",
    "    # Compute embeddings for users.\n",
    "    self.user_embeddings = tf.keras.Sequential([\n",
    "      tf.keras.layers.StringLookup(\n",
    "        vocabulary=unique_user_ids),\n",
    "      tf.keras.layers.Embedding(len(unique_user_ids) + 2, embedding_dimension)\n",
    "    ])\n",
    "\n",
    "    # Compute embeddings for movies.\n",
    "    self.movie_embeddings = tf.keras.Sequential([\n",
    "      tf.keras.layers.StringLookup(\n",
    "        vocabulary=unique_movie_titles),\n",
    "      tf.keras.layers.Embedding(len(unique_movie_titles) + 2, embedding_dimension)\n",
    "    ])\n",
    "\n",
    "    # Compute predictions.\n",
    "    self.score_model = tf.keras.Sequential([\n",
    "      # Learn multiple dense layers.\n",
    "      tf.keras.layers.Dense(256, activation=\"relu\"),\n",
    "      tf.keras.layers.Dense(64, activation=\"relu\"),\n",
    "      # Make rating predictions in the final layer.\n",
    "      tf.keras.layers.Dense(1)\n",
    "    ])\n",
    "\n",
    "    self.task = tfrs.tasks.Ranking(\n",
    "      loss=loss,\n",
    "      metrics=[\n",
    "        tfr.keras.metrics.NDCGMetric(name=\"ndcg_metric\"),\n",
    "        tf.keras.metrics.RootMeanSquaredError()\n",
    "      ]\n",
    "    )\n",
    "\n",
    "  def call(self, features):\n",
    "    print(features)\n",
    "    # We first convert the id features into embeddings.\n",
    "    # User embeddings are a [batch_size, embedding_dim] tensor.\n",
    "    user_embeddings = self.user_embeddings(features[\"user_id\"])\n",
    "\n",
    "    # Movie embeddings are a [batch_size, num_movies_in_list, embedding_dim]\n",
    "    # tensor.\n",
    "    movie_embeddings = self.movie_embeddings(features[\"movie_title\"])\n",
    "\n",
    "    # We want to concatenate user embeddings with movie emebeddings to pass\n",
    "    # them into the ranking model. To do so, we need to reshape the user\n",
    "    # embeddings to match the shape of movie embeddings.\n",
    "    print(features[\"user_id\"].shape)\n",
    "    print(features[\"movie_title\"].shape)\n",
    "    list_length = features[\"movie_title\"].shape[1]\n",
    "    user_embedding_repeated = tf.repeat(\n",
    "        tf.expand_dims(user_embeddings, 1), [list_length], axis=1)\n",
    "\n",
    "    # Once reshaped, we concatenate and pass into the dense layers to generate\n",
    "    # predictions.\n",
    "    concatenated_embeddings = tf.concat(\n",
    "        [user_embedding_repeated, movie_embeddings], 2)\n",
    "\n",
    "    return self.score_model(concatenated_embeddings)\n",
    "\n",
    "  def compute_loss(self, features, training=False):\n",
    "    labels = features.pop(\"user_rating\")\n",
    "    print(f\"Labels: \\n {labels}\")\n",
    "\n",
    "    scores = self(features)\n",
    "\n",
    "    return self.task(\n",
    "        labels=labels,\n",
    "        predictions=tf.squeeze(scores, axis=-1),\n",
    "    )"
   ]
  },
  {
   "cell_type": "code",
   "execution_count": 9,
   "metadata": {},
   "outputs": [],
   "source": [
    "epochs = 1\n",
    "\n",
    "cached_train = train.shuffle(100_000).batch(8192).cache()\n",
    "cached_test = test.batch(4096).cache()"
   ]
  },
  {
   "cell_type": "code",
   "execution_count": 10,
   "metadata": {},
   "outputs": [],
   "source": [
    "listwise_model = RankingModel(tfr.keras.losses.ListMLELoss())\n",
    "listwise_model.compile(optimizer=tf.keras.optimizers.Adagrad(0.1))"
   ]
  },
  {
   "cell_type": "code",
   "execution_count": 11,
   "metadata": {},
   "outputs": [
    {
     "data": {
      "text/plain": [
       "<CacheDataset element_spec={'user_id': TensorSpec(shape=(None,), dtype=tf.string, name=None), 'movie_title': TensorSpec(shape=(None, 5), dtype=tf.string, name=None), 'user_rating': TensorSpec(shape=(None, 5), dtype=tf.float32, name=None)}>"
      ]
     },
     "execution_count": 11,
     "metadata": {},
     "output_type": "execute_result"
    }
   ],
   "source": [
    "cached_train"
   ]
  },
  {
   "cell_type": "code",
   "execution_count": 12,
   "metadata": {},
   "outputs": [
    {
     "name": "stdout",
     "output_type": "stream",
     "text": [
      "{'user_id': <tf.Tensor: shape=(8192,), dtype=string, numpy=array([b'152', b'325', b'507', ..., b'792', b'756', b'42'], dtype=object)>, 'movie_title': <tf.Tensor: shape=(8192, 5), dtype=string, numpy=\n",
      "array([[b'Bed of Roses (1996)', b'Executive Decision (1996)',\n",
      "        b'Jane Eyre (1996)', b'Jaws (1975)', b'Titanic (1997)'],\n",
      "       [b'Mystery Science Theater 3000: The Movie (1996)',\n",
      "        b'Haunted World of Edward D. Wood Jr., The (1995)',\n",
      "        b'Raiders of the Lost Ark (1981)',\n",
      "        b'Deconstructing Harry (1997)', b'Ice Storm, The (1997)'],\n",
      "       [b'Eraser (1996)', b'Deconstructing Harry (1997)',\n",
      "        b'Speed 2: Cruise Control (1997)', b'Face/Off (1997)',\n",
      "        b'Daylight (1996)'],\n",
      "       ...,\n",
      "       [b'Long Kiss Goodnight, The (1996)', b'City Hall (1996)',\n",
      "        b'Mr. Wrong (1996)', b'Muppet Treasure Island (1996)',\n",
      "        b'Courage Under Fire (1996)'],\n",
      "       [b'Return of the Jedi (1983)', b'Delicatessen (1991)',\n",
      "        b'Frighteners, The (1996)', b'Jurassic Park (1993)',\n",
      "        b'Braveheart (1995)'],\n",
      "       [b'Fearless (1993)', b'Phenomenon (1996)',\n",
      "        b'Raiders of the Lost Ark (1981)', b'Heat (1995)',\n",
      "        b'Tin Cup (1996)']], dtype=object)>, 'user_rating': <tf.Tensor: shape=(8192, 5), dtype=float32, numpy=\n",
      "array([[4., 5., 4., 4., 4.],\n",
      "       [2., 3., 2., 3., 2.],\n",
      "       [5., 5., 5., 5., 5.],\n",
      "       ...,\n",
      "       [4., 3., 1., 3., 4.],\n",
      "       [4., 4., 2., 3., 3.],\n",
      "       [2., 4., 5., 3., 3.]], dtype=float32)>}\n",
      "{'user_id': <tf.Tensor: shape=(8192,), dtype=string, numpy=array([b'604', b'401', b'915', ..., b'722', b'101', b'199'], dtype=object)>, 'movie_title': <tf.Tensor: shape=(8192, 5), dtype=string, numpy=\n",
      "array([[b'Silence of the Lambs, The (1991)', b'Godfather, The (1972)',\n",
      "        b'Abyss, The (1989)', b'Amityville Horror, The (1979)',\n",
      "        b'Birds, The (1963)'],\n",
      "       [b'High Noon (1952)', b'Time to Kill, A (1996)',\n",
      "        b'M*A*S*H (1970)', b'Nikita (La Femme Nikita) (1990)',\n",
      "        b'Return of the Jedi (1983)'],\n",
      "       [b'U Turn (1997)', b'Ice Storm, The (1997)',\n",
      "        b'English Patient, The (1996)', b'Air Force One (1997)',\n",
      "        b'Conspiracy Theory (1997)'],\n",
      "       ...,\n",
      "       [b'City Hall (1996)', b'Rock, The (1996)',\n",
      "        b'Twelve Monkeys (1995)', b'Mission: Impossible (1996)',\n",
      "        b'English Patient, The (1996)'],\n",
      "       [b'Eraser (1996)', b'White Squall (1996)',\n",
      "        b'That Thing You Do! (1996)',\n",
      "        b'Lost World: Jurassic Park, The (1997)',\n",
      "        b\"My Best Friend's Wedding (1997)\"],\n",
      "       [b'James and the Giant Peach (1996)',\n",
      "        b'Mission: Impossible (1996)',\n",
      "        b'Welcome to the Dollhouse (1995)', b'Lost Highway (1997)',\n",
      "        b'Flubber (1997)']], dtype=object)>, 'user_rating': <tf.Tensor: shape=(8192, 5), dtype=float32, numpy=\n",
      "array([[2., 4., 4., 2., 3.],\n",
      "       [3., 3., 4., 4., 3.],\n",
      "       [3., 2., 4., 3., 2.],\n",
      "       ...,\n",
      "       [4., 4., 4., 3., 4.],\n",
      "       [3., 4., 3., 3., 4.],\n",
      "       [4., 2., 4., 1., 1.]], dtype=float32)>}\n"
     ]
    }
   ],
   "source": [
    "for row in cached_train.take(2):\n",
    "  print(row)"
   ]
  },
  {
   "cell_type": "code",
   "execution_count": 13,
   "metadata": {},
   "outputs": [
    {
     "name": "stdout",
     "output_type": "stream",
     "text": [
      "Labels: \n",
      " Tensor(\"IteratorGetNext:2\", shape=(None, 5), dtype=float32)\n"
     ]
    },
    {
     "name": "stdout",
     "output_type": "stream",
     "text": [
      "{'user_id': <tf.Tensor 'IteratorGetNext:1' shape=(None,) dtype=string>, 'movie_title': <tf.Tensor 'IteratorGetNext:0' shape=(None, 5) dtype=string>}\n",
      "(None,)\n",
      "(None, 5)\n",
      "Labels: \n",
      " Tensor(\"IteratorGetNext:2\", shape=(None, 5), dtype=float32)\n",
      "{'user_id': <tf.Tensor 'IteratorGetNext:1' shape=(None,) dtype=string>, 'movie_title': <tf.Tensor 'IteratorGetNext:0' shape=(None, 5) dtype=string>}\n",
      "(None,)\n",
      "(None, 5)\n",
      "6/6 [==============================] - 10s 104ms/step - ndcg_metric: 0.8549 - root_mean_squared_error: 3.7653 - loss: 4.7867 - regularization_loss: 0.0000e+00 - total_loss: 4.7867\n"
     ]
    },
    {
     "data": {
      "text/plain": [
       "<keras.src.callbacks.History at 0x1e3c12fa3d0>"
      ]
     },
     "execution_count": 13,
     "metadata": {},
     "output_type": "execute_result"
    }
   ],
   "source": [
    "listwise_model.fit(cached_train, epochs=epochs, verbose=True)"
   ]
  },
  {
   "cell_type": "code",
   "execution_count": null,
   "metadata": {},
   "outputs": [],
   "source": []
  }
 ],
 "metadata": {
  "kernelspec": {
   "display_name": "venv",
   "language": "python",
   "name": "python3"
  },
  "language_info": {
   "codemirror_mode": {
    "name": "ipython",
    "version": 3
   },
   "file_extension": ".py",
   "mimetype": "text/x-python",
   "name": "python",
   "nbconvert_exporter": "python",
   "pygments_lexer": "ipython3",
   "version": "3.11.3"
  },
  "orig_nbformat": 4
 },
 "nbformat": 4,
 "nbformat_minor": 2
}
