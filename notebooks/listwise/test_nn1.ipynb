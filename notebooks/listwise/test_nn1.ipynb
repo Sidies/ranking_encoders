{
 "cells": [
  {
   "cell_type": "code",
   "execution_count": 60,
   "metadata": {},
   "outputs": [],
   "source": [
    "import pandas as pd\n",
    "import numpy as np\n",
    "from src import configuration as config\n",
    "import tensorflow as tf\n",
    "import tensorflow_ranking as tfr\n",
    "import tensorflow_recommenders as tfrs\n",
    "import tensorflow_datasets as tfds"
   ]
  },
  {
   "cell_type": "code",
   "execution_count": 61,
   "metadata": {},
   "outputs": [],
   "source": [
    "ratings = tfds.load(\"movielens/100k-ratings\", split=\"train\")\n",
    "movies = tfds.load(\"movielens/100k-movies\", split=\"train\")\n",
    "\n",
    "ratings = ratings.map(lambda x: {\n",
    "    \"movie_title\": x[\"movie_title\"],\n",
    "    \"user_id\": x[\"user_id\"],\n",
    "    \"user_rating\": x[\"user_rating\"],\n",
    "})\n",
    "movies = movies.map(lambda x: x[\"movie_title\"])\n",
    "\n",
    "unique_movie_titles = np.unique(np.concatenate(list(movies.batch(1000))))\n",
    "unique_user_ids = np.unique(np.concatenate(list(ratings.batch(1_000).map(\n",
    "    lambda x: x[\"user_id\"]))))"
   ]
  },
  {
   "cell_type": "code",
   "execution_count": 62,
   "metadata": {},
   "outputs": [
    {
     "name": "stdout",
     "output_type": "stream",
     "text": [
      "[b\"'Til There Was You (1997)\" b'1-900 (1994)' b'101 Dalmatians (1996)' ...\n",
      " b'Zeus and Roxanne (1997)' b'unknown'\n",
      " b'\\xc3\\x81 k\\xc3\\xb6ldum klaka (Cold Fever) (1994)']\n",
      "<_MapDataset element_spec=TensorSpec(shape=(), dtype=tf.string, name=None)>\n"
     ]
    }
   ],
   "source": [
    "print(unique_movie_titles)\n",
    "print(movies)"
   ]
  },
  {
   "cell_type": "code",
   "execution_count": 63,
   "metadata": {},
   "outputs": [],
   "source": [
    "tf.random.set_seed(42)\n",
    "\n",
    "# Split between train and tests sets, as before.\n",
    "shuffled = ratings.shuffle(100_000, seed=42, reshuffle_each_iteration=False)\n",
    "\n",
    "train = shuffled.take(80_000)\n",
    "test = shuffled.skip(80_000).take(20_000)\n",
    "\n",
    "# We sample 50 lists for each user for the training data. For each list we\n",
    "# sample 5 movies from the movies the user rated.\n",
    "train = tfrs.examples.movielens.sample_listwise(\n",
    "    train,\n",
    "    num_list_per_user=50,\n",
    "    num_examples_per_list=5,\n",
    "    seed=42\n",
    ")\n",
    "test = tfrs.examples.movielens.sample_listwise(\n",
    "    test,\n",
    "    num_list_per_user=1,\n",
    "    num_examples_per_list=5,\n",
    "    seed=42\n",
    ")"
   ]
  },
  {
   "cell_type": "code",
   "execution_count": 64,
   "metadata": {},
   "outputs": [],
   "source": [
    "class RankingModel(tfrs.Model):\n",
    "\n",
    "  def __init__(self, loss):\n",
    "    super().__init__()\n",
    "    embedding_dimension = 32\n",
    "\n",
    "    # Compute embeddings for users.\n",
    "    self.user_embeddings = tf.keras.Sequential([\n",
    "      tf.keras.layers.StringLookup(\n",
    "        vocabulary=unique_user_ids),\n",
    "      tf.keras.layers.Embedding(len(unique_user_ids) + 2, embedding_dimension)\n",
    "    ])\n",
    "\n",
    "    # Compute embeddings for movies.\n",
    "    self.movie_embeddings = tf.keras.Sequential([\n",
    "      tf.keras.layers.StringLookup(\n",
    "        vocabulary=unique_movie_titles),\n",
    "      tf.keras.layers.Embedding(len(unique_movie_titles) + 2, embedding_dimension)\n",
    "    ])\n",
    "\n",
    "    # Compute predictions.\n",
    "    self.score_model = tf.keras.Sequential([\n",
    "      # Learn multiple dense layers.\n",
    "      tf.keras.layers.Dense(256, activation=\"relu\"),\n",
    "      tf.keras.layers.Dense(64, activation=\"relu\"),\n",
    "      # Make rating predictions in the final layer.\n",
    "      tf.keras.layers.Dense(1)\n",
    "    ])\n",
    "\n",
    "    self.task = tfrs.tasks.Ranking(\n",
    "      loss=loss,\n",
    "      metrics=[\n",
    "        tfr.keras.metrics.NDCGMetric(name=\"ndcg_metric\"),\n",
    "        tf.keras.metrics.RootMeanSquaredError()\n",
    "      ]\n",
    "    )\n",
    "\n",
    "  def call(self, features):\n",
    "    print(features)\n",
    "    # We first convert the id features into embeddings.\n",
    "    # User embeddings are a [batch_size, embedding_dim] tensor.\n",
    "    user_embeddings = self.user_embeddings(features[\"user_id\"])\n",
    "\n",
    "    # Movie embeddings are a [batch_size, num_movies_in_list, embedding_dim]\n",
    "    # tensor.\n",
    "    movie_embeddings = self.movie_embeddings(features[\"movie_title\"])\n",
    "\n",
    "    # We want to concatenate user embeddings with movie emebeddings to pass\n",
    "    # them into the ranking model. To do so, we need to reshape the user\n",
    "    # embeddings to match the shape of movie embeddings.\n",
    "    list_length = features[\"movie_title\"].shape[1]\n",
    "    user_embedding_repeated = tf.repeat(\n",
    "        tf.expand_dims(user_embeddings, 1), [list_length], axis=1)\n",
    "\n",
    "    # Once reshaped, we concatenate and pass into the dense layers to generate\n",
    "    # predictions.\n",
    "    concatenated_embeddings = tf.concat(\n",
    "        [user_embedding_repeated, movie_embeddings], 2)\n",
    "\n",
    "    return self.score_model(concatenated_embeddings)\n",
    "\n",
    "  def compute_loss(self, features, training=False):\n",
    "    labels = features.pop(\"user_rating\")\n",
    "    print(f\"Labels: \\n {labels}\")\n",
    "\n",
    "    scores = self(features)\n",
    "\n",
    "    return self.task(\n",
    "        labels=labels,\n",
    "        predictions=tf.squeeze(scores, axis=-1),\n",
    "    )"
   ]
  },
  {
   "cell_type": "code",
   "execution_count": 65,
   "metadata": {},
   "outputs": [],
   "source": [
    "epochs = 1\n",
    "\n",
    "cached_train = train.shuffle(100_000).batch(8192).cache()\n",
    "cached_test = test.batch(4096).cache()"
   ]
  },
  {
   "cell_type": "code",
   "execution_count": 66,
   "metadata": {},
   "outputs": [],
   "source": [
    "listwise_model = RankingModel(tfr.keras.losses.ListMLELoss())\n",
    "listwise_model.compile(optimizer=tf.keras.optimizers.Adagrad(0.1))"
   ]
  },
  {
   "cell_type": "code",
   "execution_count": 67,
   "metadata": {},
   "outputs": [
    {
     "data": {
      "text/plain": [
       "<CacheDataset element_spec={'user_id': TensorSpec(shape=(None,), dtype=tf.string, name=None), 'movie_title': TensorSpec(shape=(None, 5), dtype=tf.string, name=None), 'user_rating': TensorSpec(shape=(None, 5), dtype=tf.float32, name=None)}>"
      ]
     },
     "execution_count": 67,
     "metadata": {},
     "output_type": "execute_result"
    }
   ],
   "source": [
    "cached_train"
   ]
  },
  {
   "cell_type": "code",
   "execution_count": 70,
   "metadata": {},
   "outputs": [
    {
     "name": "stdout",
     "output_type": "stream",
     "text": [
      "{'user_id': <tf.Tensor: shape=(8192,), dtype=string, numpy=array([b'60', b'406', b'116', ..., b'821', b'214', b'139'], dtype=object)>, 'movie_title': <tf.Tensor: shape=(8192, 5), dtype=string, numpy=\n",
      "array([[b'Treasure of the Sierra Madre, The (1948)',\n",
      "        b'Return of the Pink Panther, The (1974)',\n",
      "        b'Terminator, The (1984)', b'Mary Poppins (1964)',\n",
      "        b'Monty Python and the Holy Grail (1974)'],\n",
      "       [b'Angels and Insects (1995)', b'Sting, The (1973)',\n",
      "        b'Clockers (1995)', b'Terminator 2: Judgment Day (1991)',\n",
      "        b'Backbeat (1993)'],\n",
      "       [b'It Happened One Night (1934)',\n",
      "        b'Lost World: Jurassic Park, The (1997)', b'Crash (1996)',\n",
      "        b'Secrets & Lies (1996)', b'Hercules (1997)'],\n",
      "       ...,\n",
      "       [b'Apocalypse Now (1979)', b'Independence Day (ID4) (1996)',\n",
      "        b'Family Thing, A (1996)', b'Eraser (1996)',\n",
      "        b'That Thing You Do! (1996)'],\n",
      "       [b'Secrets & Lies (1996)', b'Lost Highway (1997)',\n",
      "        b'Pulp Fiction (1994)', b'Welcome to the Dollhouse (1995)',\n",
      "        b\"Monty Python's Life of Brian (1979)\"],\n",
      "       [b'Jerry Maguire (1996)', b'Crucible, The (1996)',\n",
      "        b'Promesse, La (1996)', b'English Patient, The (1996)',\n",
      "        b'Trainspotting (1996)']], dtype=object)>, 'user_rating': <tf.Tensor: shape=(8192, 5), dtype=float32, numpy=\n",
      "array([[4., 4., 4., 3., 5.],\n",
      "       [3., 5., 3., 5., 2.],\n",
      "       [3., 2., 3., 4., 2.],\n",
      "       ...,\n",
      "       [5., 3., 5., 3., 5.],\n",
      "       [5., 5., 5., 4., 3.],\n",
      "       [3., 4., 4., 4., 5.]], dtype=float32)>}\n",
      "{'user_id': <tf.Tensor: shape=(8192,), dtype=string, numpy=array([b'432', b'637', b'723', ..., b'472', b'891', b'673'], dtype=object)>, 'movie_title': <tf.Tensor: shape=(8192, 5), dtype=string, numpy=\n",
      "array([[b'Grosse Pointe Blank (1997)',\n",
      "        b\"My Best Friend's Wedding (1997)\",\n",
      "        b'Kids in the Hall: Brain Candy (1996)', b'Swingers (1996)',\n",
      "        b'Truth About Cats & Dogs, The (1996)'],\n",
      "       [b\"Smilla's Sense of Snow (1997)\", b'Grumpier Old Men (1995)',\n",
      "        b'People vs. Larry Flynt, The (1996)',\n",
      "        b'Night Falls on Manhattan (1997)', b'Chasing Amy (1997)'],\n",
      "       [b'Grand Day Out, A (1992)', b'English Patient, The (1996)',\n",
      "        b'Blade Runner (1982)',\n",
      "        b'Monty Python and the Holy Grail (1974)',\n",
      "        b'Wrong Trousers, The (1993)'],\n",
      "       ...,\n",
      "       [b'Money Train (1995)', b'Michael (1996)',\n",
      "        b'Hunt for Red October, The (1990)', b'Now and Then (1995)',\n",
      "        b'Ace Ventura: Pet Detective (1994)'],\n",
      "       [b'Funeral, The (1996)', b'Rock, The (1996)',\n",
      "        b'Moll Flanders (1996)', b'Godfather, The (1972)',\n",
      "        b'Jerry Maguire (1996)'],\n",
      "       [b'Wag the Dog (1997)', b'G.I. Jane (1997)',\n",
      "        b\"Dante's Peak (1997)\", b'In & Out (1997)',\n",
      "        b'Good Will Hunting (1997)']], dtype=object)>, 'user_rating': <tf.Tensor: shape=(8192, 5), dtype=float32, numpy=\n",
      "array([[4., 5., 3., 5., 4.],\n",
      "       [1., 3., 2., 2., 2.],\n",
      "       [3., 3., 3., 5., 4.],\n",
      "       ...,\n",
      "       [3., 5., 4., 4., 4.],\n",
      "       [3., 3., 5., 4., 5.],\n",
      "       [4., 4., 2., 3., 5.]], dtype=float32)>}\n"
     ]
    }
   ],
   "source": [
    "for row in cached_train.take(2):\n",
    "  print(row)"
   ]
  },
  {
   "cell_type": "code",
   "execution_count": 69,
   "metadata": {},
   "outputs": [
    {
     "name": "stdout",
     "output_type": "stream",
     "text": [
      "Labels: \n",
      " Tensor(\"IteratorGetNext:2\", shape=(None, 5), dtype=float32)\n",
      "{'user_id': <tf.Tensor 'IteratorGetNext:1' shape=(None,) dtype=string>, 'movie_title': <tf.Tensor 'IteratorGetNext:0' shape=(None, 5) dtype=string>}\n",
      "Labels: \n",
      " Tensor(\"IteratorGetNext:2\", shape=(None, 5), dtype=float32)\n",
      "{'user_id': <tf.Tensor 'IteratorGetNext:1' shape=(None,) dtype=string>, 'movie_title': <tf.Tensor 'IteratorGetNext:0' shape=(None, 5) dtype=string>}\n",
      "6/6 [==============================] - 14s 2s/step - ndcg_metric: 0.8509 - root_mean_squared_error: 3.7550 - loss: 4.7873 - regularization_loss: 0.0000e+00 - total_loss: 4.7873\n"
     ]
    },
    {
     "data": {
      "text/plain": [
       "<keras.src.callbacks.History at 0x26dec32b9d0>"
      ]
     },
     "execution_count": 69,
     "metadata": {},
     "output_type": "execute_result"
    }
   ],
   "source": [
    "listwise_model.fit(cached_train, epochs=epochs, verbose=True)"
   ]
  },
  {
   "cell_type": "code",
   "execution_count": null,
   "metadata": {},
   "outputs": [],
   "source": []
  }
 ],
 "metadata": {
  "kernelspec": {
   "display_name": "venv",
   "language": "python",
   "name": "python3"
  },
  "language_info": {
   "codemirror_mode": {
    "name": "ipython",
    "version": 3
   },
   "file_extension": ".py",
   "mimetype": "text/x-python",
   "name": "python",
   "nbconvert_exporter": "python",
   "pygments_lexer": "ipython3",
   "version": "3.11.3"
  },
  "orig_nbformat": 4
 },
 "nbformat": 4,
 "nbformat_minor": 2
}
