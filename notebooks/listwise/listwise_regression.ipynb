{
 "cells": [
  {
   "cell_type": "markdown",
   "id": "2cb5e2b3",
   "metadata": {},
   "source": [
    "# Listwise Regression\n",
    "\n",
    "In this notebook, we examine the performance of listwise regression. First, we load the required dependencies and data."
   ]
  },
  {
   "cell_type": "code",
   "execution_count": null,
   "id": "a611ef91",
   "metadata": {},
   "outputs": [],
   "source": [
    "import os\n",
    "import sys\n",
    "module_path = os.path.abspath(os.path.join('../..'))\n",
    "if module_path not in sys.path:\n",
    "    sys.path.append(module_path)\n",
    "    \n",
    "import pandas as pd\n",
    "from category_encoders.binary import BinaryEncoder\n",
    "from category_encoders.one_hot import OneHotEncoder\n",
    "from category_encoders.ordinal import OrdinalEncoder\n",
    "from category_encoders.target_encoder import TargetEncoder\n",
    "from datetime import timedelta\n",
    "from sklearn.compose import ColumnTransformer\n",
    "from time import time\n",
    "\n",
    "from src import configuration as config\n",
    "from src.features.encoder_utils import NoY\n",
    "from src.pipeline.pipeline_factory import PipelineFactory, ModelType, EvaluationType\n",
    "from src.pipeline.pipeline_transformers import *\n",
    "\n",
    "\n",
    "# load the data\n",
    "train_df = config.load_traindata_for_pointwise()\n",
    "pipelineFactory = PipelineFactory()"
   ]
  },
  {
   "cell_type": "markdown",
   "id": "b63feb36",
   "metadata": {},
   "source": [
    "## 1) Listwise Multidimensional Regression"
   ]
  },
  {
   "cell_type": "code",
   "execution_count": null,
   "id": "f49c7d3d",
   "metadata": {},
   "outputs": [],
   "source": [
    "start = time()\n",
    "\n",
    "pipeline = pipelineFactory.create_pipeline(\n",
    "    train_df,\n",
    "    ModelType.LISTWISE_MULTIDIMENSIONAL_REGRESSION_NO_SEARCH,\n",
    "    verbose_level=1,\n",
    "    evaluation=EvaluationType.CROSS_VALIDATION,\n",
    "    n_folds=5,\n",
    "    workers=1,\n",
    "    target=\"rank\"\n",
    ")\n",
    "pipeline.run()\n",
    "\n",
    "runtime = int(time() - start)\n",
    "print('\\nruntime: ' + str(timedelta(seconds=runtime)) + ' [' + str(runtime) + 's]')"
   ]
  },
  {
   "cell_type": "markdown",
   "id": "6bdf90ac",
   "metadata": {},
   "source": [
    "### 1.1) Tuning with Bayes Regression"
   ]
  },
  {
   "cell_type": "code",
   "execution_count": null,
   "id": "897f8960",
   "metadata": {},
   "outputs": [],
   "source": [
    "start = time()\n",
    "\n",
    "# number of optimization rounds = n_iter / n_points (e.g. 50 rounds in our case)\n",
    "n_iter = 200 # how many unique parameters to examine - our default: 200\n",
    "n_points = 4 # how many unique parameter combinations per optimization round - our default: 4\n",
    "cv = 4 # how many fits for each unique parameter combination - our default: 4\n",
    "n_jobs = -1 # how many fits in parallel (only parallelizable per round) - our default: -1\n",
    "\n",
    "pipeline = pipelineFactory.create_pipeline(\n",
    "    train_df,\n",
    "    ModelType.LISTWISE_MULTIDIMENSIONAL_REGRESSION_BAYES_SEARCH,\n",
    "    verbose_level=1,\n",
    "    target=\"rank\",\n",
    "    bayes_n_iter=n_iter,\n",
    "    bayes_n_points=n_points,\n",
    "    bayes_cv=cv,\n",
    "    bayes_n_jobs=n_jobs\n",
    ")\n",
    "\n",
    "pipeline.run()\n",
    "\n",
    "runtime = int(time() - start)\n",
    "print('\\nruntime: ' + str(timedelta(seconds=runtime)) + ' [' + str(runtime) + 's]')"
   ]
  },
  {
   "cell_type": "markdown",
   "id": "29064c62",
   "metadata": {},
   "source": [
    "## 2) Listwise Dimensionwise Regression"
   ]
  },
  {
   "cell_type": "code",
   "execution_count": null,
   "id": "32184a2a",
   "metadata": {},
   "outputs": [],
   "source": [
    "start = time()\n",
    "\n",
    "pipeline = pipelineFactory.create_pipeline(\n",
    "    train_df,\n",
    "    ModelType.LISTWISE_DIMENSIONWISE_REGRESSION_NO_SEARCH,\n",
    "    verbose_level=1,\n",
    "    evaluation=EvaluationType.CROSS_VALIDATION,\n",
    "    n_folds=5,\n",
    "    workers=1,\n",
    "    target=\"rank\"\n",
    ")\n",
    "pipeline.run()\n",
    "\n",
    "runtime = int(time() - start)\n",
    "print('\\nruntime: ' + str(timedelta(seconds=runtime)) + ' [' + str(runtime) + 's]')"
   ]
  },
  {
   "cell_type": "markdown",
   "id": "2cbe4e69",
   "metadata": {},
   "source": [
    "### 2.1) Tuning with Bayes Regression"
   ]
  },
  {
   "cell_type": "code",
   "execution_count": null,
   "id": "1d47b109",
   "metadata": {},
   "outputs": [],
   "source": [
    "start = time()\n",
    "\n",
    "# number of optimization rounds = n_iter / n_points (e.g. 50 rounds in our case)\n",
    "n_iter = 200 # how many unique parameters to examine - our default: 200\n",
    "n_points = 4 # how many unique parameter combinations per optimization round - our default: 4\n",
    "cv = 4 # how many fits for each unique parameter combination - our default: 4\n",
    "n_jobs = -1 # how many fits in parallel (only parallelizable per round) - our default: -1\n",
    "\n",
    "pipeline = pipelineFactory.create_pipeline(\n",
    "    train_df,\n",
    "    ModelType.LISTWISE_DIMENSIONWISE_REGRESSION_BAYES_SEARCH,\n",
    "    verbose_level=1,\n",
    "    target=\"rank\",\n",
    "    bayes_n_iter=n_iter,\n",
    "    bayes_n_points=n_points,\n",
    "    bayes_cv=cv,\n",
    "    bayes_n_jobs=n_jobs\n",
    ")\n",
    "\n",
    "pipeline.run()\n",
    "\n",
    "runtime = int(time() - start)\n",
    "print('\\nruntime: ' + str(timedelta(seconds=runtime)) + ' [' + str(runtime) + 's]')"
   ]
  }
 ],
 "metadata": {
  "kernelspec": {
   "display_name": "Python 3 (ipykernel)",
   "language": "python",
   "name": "python3"
  },
  "language_info": {
   "codemirror_mode": {
    "name": "ipython",
    "version": 3
   },
   "file_extension": ".py",
   "mimetype": "text/x-python",
   "name": "python",
   "nbconvert_exporter": "python",
   "pygments_lexer": "ipython3",
   "version": "3.10.6"
  }
 },
 "nbformat": 4,
 "nbformat_minor": 5
}
