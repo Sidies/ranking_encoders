{
 "cells": [
  {
   "cell_type": "code",
   "execution_count": 1,
   "metadata": {},
   "outputs": [],
   "source": [
    "import os\n",
    "import sys\n",
    "module_path = os.path.abspath(os.path.join('..'))\n",
    "if module_path not in sys.path:\n",
    "    sys.path.append(module_path)\n",
    "    \n",
    "import pandas as pd\n",
    "from category_encoders.binary import BinaryEncoder\n",
    "from category_encoders.one_hot import OneHotEncoder\n",
    "from category_encoders.ordinal import OrdinalEncoder\n",
    "from category_encoders.target_encoder import TargetEncoder\n",
    "from datetime import timedelta\n",
    "from sklearn.compose import ColumnTransformer\n",
    "from time import time\n",
    "\n",
    "from src import configuration as config\n",
    "from src.features.encoder_utils import NoY\n",
    "from src.pipeline.pipeline_factory import PipelineFactory, ModelType, EvaluationType\n",
    "from src.pipeline.pipeline_transformers import *\n",
    "\n",
    "\n",
    "# load the data\n",
    "df_train = config.load_traindata_for_pointwise()\n",
    "pipelineFactory = PipelineFactory()"
   ]
  },
  {
   "attachments": {},
   "cell_type": "markdown",
   "metadata": {},
   "source": [
    "PLEASE DELETE  \n",
    "Hier nur ein Beispiel wie man Optuna nutzen kann."
   ]
  },
  {
   "cell_type": "code",
   "execution_count": 2,
   "metadata": {},
   "outputs": [
    {
     "name": "stderr",
     "output_type": "stream",
     "text": [
      "[I 2023-07-14 23:41:55,089] A new study created in memory with name: no-name-3d6f47b7-0e6f-4e3d-aad8-fa2b52ed367b\n"
     ]
    },
    {
     "name": "stdout",
     "output_type": "stream",
     "text": [
      "Creating pipeline ...\n",
      "[('dataset_transformer', OpenMLMetaFeatureTransformer(encoder=None, expected_pca_variance=0.6,\n",
      "                             nan_ratio_feature_drop_threshold=0.25)), ('general_transformer', GeneralPurposeEncoderTransformer(model_encoder=OneHotEncoder(),\n",
      "                                 scoring_encoder=OneHotEncoder(),\n",
      "                                 tuning_encoder=OneHotEncoder())), ('estimator', MultiOutputClassifier(estimator=DecisionTreeClassifier()))]\n",
      "Starting pipeline using method: EvaluationType.OPTUNA\n"
     ]
    },
    {
     "data": {
      "application/vnd.jupyter.widget-view+json": {
       "model_id": "9aeaa84f120943e29ee1c7f0e866d918",
       "version_major": 2,
       "version_minor": 0
      },
      "text/plain": [
       "  0%|          | 0/4 [00:00<?, ?it/s]"
      ]
     },
     "metadata": {},
     "output_type": "display_data"
    },
    {
     "name": "stderr",
     "output_type": "stream",
     "text": [
      "\n",
      "\u001b[A\n",
      "\n",
      "\u001b[A\u001b[A\n",
      "\n",
      "\n",
      "\u001b[A\u001b[A\u001b[A\n",
      "\n",
      "\n",
      "\u001b[A\u001b[A\u001b[A\n",
      "\n",
      "\u001b[A\u001b[A\n",
      "\u001b[A\n",
      "\n",
      "\n",
      "100%|██████████| 2/2 [03:08<00:00, 94.47s/it]\n",
      "\n",
      "\n",
      "\n",
      "\u001b[A\u001b[A\u001b[A                                    \n",
      "\u001b[A                                          \n",
      "\n",
      "\u001b[A\u001b[A                                        \n",
      "\n",
      "\u001b[A\u001b[A\n",
      "\u001b[A"
     ]
    },
    {
     "name": "stdout",
     "output_type": "stream",
     "text": [
      "[I 2023-07-14 23:45:04,188] Trial 3 finished with value: 0.3638 and parameters: {'general_transformer__model_encoder': 1, 'general_transformer__tuning_encoder': 0, 'general_transformer__scoring_encoder': 0, 'estimator__estimator__max_depth': 3}. Best is trial 3 with value: 0.3638.\n"
     ]
    },
    {
     "name": "stderr",
     "output_type": "stream",
     "text": [
      "\n",
      "\n",
      "100%|██████████| 2/2 [03:15<00:00, 97.76s/it]\n",
      "\n",
      "\u001b[A                                          \n",
      "\n",
      "\u001b[A\u001b[A                                        \n",
      "\u001b[A"
     ]
    },
    {
     "name": "stdout",
     "output_type": "stream",
     "text": [
      "[I 2023-07-14 23:45:10,744] Trial 2 finished with value: 0.3637 and parameters: {'general_transformer__model_encoder': 0, 'general_transformer__tuning_encoder': 0, 'general_transformer__scoring_encoder': 0, 'estimator__estimator__max_depth': 7}. Best is trial 3 with value: 0.3638.\n"
     ]
    },
    {
     "name": "stderr",
     "output_type": "stream",
     "text": [
      "100%|██████████| 2/2 [03:16<00:00, 98.22s/it]\n",
      "\n",
      "\n",
      "\u001b[A\u001b[A                                        \n",
      "\u001b[A"
     ]
    },
    {
     "name": "stdout",
     "output_type": "stream",
     "text": [
      "[I 2023-07-14 23:45:11,599] Trial 0 finished with value: 0.3637 and parameters: {'general_transformer__model_encoder': 1, 'general_transformer__tuning_encoder': 0, 'general_transformer__scoring_encoder': 1, 'estimator__estimator__max_depth': 7}. Best is trial 3 with value: 0.3638.\n"
     ]
    },
    {
     "name": "stderr",
     "output_type": "stream",
     "text": [
      "\n",
      "100%|██████████| 2/2 [03:19<00:00, 99.93s/it]\n"
     ]
    },
    {
     "name": "stdout",
     "output_type": "stream",
     "text": [
      "[I 2023-07-14 23:45:15,034] Trial 1 finished with value: 0.3638 and parameters: {'general_transformer__model_encoder': 1, 'general_transformer__tuning_encoder': 0, 'general_transformer__scoring_encoder': 0, 'estimator__estimator__max_depth': 8}. Best is trial 3 with value: 0.3638.\n",
      "Finished running the pipeline\n",
      "Evaluation metrics:\n",
      "  Best Score: 0.3638\n",
      "  Best Params: {'general_transformer__model_encoder': BinaryEncoder(cols=['model'],\n",
      "              mapping=[{'col': 'model',\n",
      "                        'mapping':     model_0  model_1  model_2\n",
      " 1        0        0        1\n",
      " 2        0        1        0\n",
      " 3        0        1        1\n",
      " 4        1        0        0\n",
      " 5        1        0        1\n",
      "-1        0        0        0\n",
      "-2        0        0        0}]), 'general_transformer__tuning_encoder': BinaryEncoder(cols=['tuning'],\n",
      "              mapping=[{'col': 'tuning',\n",
      "                        'mapping':     tuning_0  tuning_1\n",
      " 1         0         1\n",
      " 2         1         0\n",
      " 3         1         1\n",
      "-1         0         0\n",
      "-2         0         0}]), 'general_transformer__scoring_encoder': BinaryEncoder(cols=['scoring'],\n",
      "              mapping=[{'col': 'scoring',\n",
      "                        'mapping':     scoring_0  scoring_1\n",
      " 1          0          1\n",
      " 2          1          0\n",
      " 3          1          1\n",
      "-1          0          0\n",
      "-2          0          0}]), 'estimator__estimator__max_depth': 2}\n",
      "\n",
      "runtime: 0:03:20 [200s]\n"
     ]
    }
   ],
   "source": [
    "from sklearn.tree import DecisionTreeClassifier\n",
    "from sklearn.multioutput import MultiOutputClassifier\n",
    "\n",
    "param_grid = {\n",
    "    \"general_transformer__model_encoder\" : [BinaryEncoder(), OneHotEncoder()],\n",
    "    \"general_transformer__tuning_encoder\" : [BinaryEncoder()],\n",
    "    \"general_transformer__scoring_encoder\" : [BinaryEncoder(), OneHotEncoder()],\n",
    "    \"estimator__estimator__max_depth\" : [2, 10], # IMPORTANT only use 2 values here. These values represent the range optuna is using to search for the best parameter. So all values between 2 and 10 in this case.\n",
    "}\n",
    "\n",
    "start = time()\n",
    "df_train = config.load_traindata_for_pointwise()\n",
    "pipeline = pipelineFactory.create_pipeline(\n",
    "    train_df=df_train,\n",
    "    model_type=ModelType.PAIRWISE_CLASSIFICATION_NO_SEARCH,\n",
    "    verbose_level=1,\n",
    "    evaluation=EvaluationType.OPTUNA,\n",
    "    n_folds=2,\n",
    "    workers=1,\n",
    "    target=\"rank\",\n",
    "    as_pairwise=True,\n",
    "    param_grid=param_grid,\n",
    "    opt_iterations=4 # The number of iterations optuna should use to find the best hyperparameters\n",
    ")\n",
    "#set_baseline_steps(pipeline)\n",
    "\n",
    "# create a decision tree classifier\n",
    "dtc = DecisionTreeClassifier()\n",
    "# create a multi-output classifier using the decision tree\n",
    "multi_dtc = MultiOutputClassifier(dtc)\n",
    "pipeline.change_estimator(multi_dtc)\n",
    "\n",
    "print(pipeline.get_pipeline().steps)\n",
    "pipeline.run()\n",
    "\n",
    "runtime = int(time() - start)\n",
    "print('\\nruntime: ' + str(timedelta(seconds=runtime)) + ' [' + str(runtime) + 's]')"
   ]
  }
 ],
 "metadata": {
  "kernelspec": {
   "display_name": "venv",
   "language": "python",
   "name": "python3"
  },
  "language_info": {
   "codemirror_mode": {
    "name": "ipython",
    "version": 3
   },
   "file_extension": ".py",
   "mimetype": "text/x-python",
   "name": "python",
   "nbconvert_exporter": "python",
   "pygments_lexer": "ipython3",
   "version": "3.11.3"
  },
  "orig_nbformat": 4
 },
 "nbformat": 4,
 "nbformat_minor": 2
}
