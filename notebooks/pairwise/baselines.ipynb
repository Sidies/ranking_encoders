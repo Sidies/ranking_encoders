{
 "cells": [
  {
   "attachments": {},
   "cell_type": "markdown",
   "metadata": {},
   "source": [
    "# Pairwise Methods - Baselines\n",
    "In this notebook, we compare pairwise methods regarding a baseline preprocessing of just one-hot encoding every feature."
   ]
  },
  {
   "cell_type": "code",
   "execution_count": 1,
   "metadata": {},
   "outputs": [],
   "source": [
    "import os\n",
    "import sys\n",
    "module_path = os.path.abspath(os.path.join('..'))\n",
    "if module_path not in sys.path:\n",
    "    sys.path.append(module_path)\n",
    "    \n",
    "import pandas as pd\n",
    "from category_encoders.binary import BinaryEncoder\n",
    "from category_encoders.one_hot import OneHotEncoder\n",
    "from category_encoders.ordinal import OrdinalEncoder\n",
    "from category_encoders.target_encoder import TargetEncoder\n",
    "from datetime import timedelta\n",
    "from sklearn.compose import ColumnTransformer\n",
    "from time import time\n",
    "\n",
    "from src import configuration as config\n",
    "from src.features.encoder_utils import NoY\n",
    "from src.pipeline.pipeline_factory import PipelineFactory, ModelType, EvaluationType\n",
    "from src.pipeline.pipeline_transformers import *\n",
    "\n",
    "\n",
    "# load the data\n",
    "df_train = config.load_traindata_for_pointwise()\n",
    "pipelineFactory = PipelineFactory()"
   ]
  },
  {
   "cell_type": "code",
   "execution_count": 2,
   "metadata": {},
   "outputs": [],
   "source": [
    "def set_baseline_steps(pipeline):\n",
    "    pipeline.clear_steps()\n",
    "    #pipeline.add_new_step(NoY(OneHotEncoder(['dataset', 'model', 'tuning', 'scoring'])), 'baseline')\n",
    "    pipeline.add_new_step(GeneralPurposeEncoderTransformer(\n",
    "                    OneHotEncoder(),\n",
    "                    OneHotEncoder(),\n",
    "                    OneHotEncoder()\n",
    "                ), \"general_transformer\")"
   ]
  },
  {
   "cell_type": "code",
   "execution_count": 3,
   "metadata": {},
   "outputs": [
    {
     "name": "stdout",
     "output_type": "stream",
     "text": [
      "Creating pipeline ...\n",
      "[('dataset_transformer', OpenMLMetaFeatureTransformer(encoder=None, expected_pca_variance=0.6,\n",
      "                             nan_ratio_feature_drop_threshold=0.25)), ('general_transformer', GeneralPurposeEncoderTransformer(model_encoder=OneHotEncoder(),\n",
      "                                 scoring_encoder=OneHotEncoder(),\n",
      "                                 tuning_encoder=OneHotEncoder())), ('estimator', MultiOutputClassifier(estimator=DecisionTreeClassifier()))]\n",
      "Starting pipeline using method: EvaluationType.CROSS_VALIDATION\n"
     ]
    },
    {
     "name": "stderr",
     "output_type": "stream",
     "text": [
      "  0%|          | 0/5 [00:00<?, ?it/s]"
     ]
    },
    {
     "name": "stderr",
     "output_type": "stream",
     "text": [
      "100%|██████████| 5/5 [01:27<00:00, 17.59s/it]"
     ]
    },
    {
     "name": "stdout",
     "output_type": "stream",
     "text": [
      "Finished running the pipeline\n",
      "Evaluation metrics:\n",
      "    validation_average_spearman_fold_0: -0.0007\n",
      "    validation_average_spearman_fold_1: 0.0\n",
      "    validation_average_spearman_fold_2: 0.0002\n",
      "    validation_average_spearman_fold_3: -0.0001\n",
      "    validation_average_spearman_fold_4: 0.0011\n",
      "    average of all folds: 0.0001 [std=0.0006]\n",
      "\n",
      "runtime: 0:01:28 [88s]\n"
     ]
    },
    {
     "name": "stderr",
     "output_type": "stream",
     "text": [
      "\n"
     ]
    }
   ],
   "source": [
    "from sklearn.tree import DecisionTreeClassifier\n",
    "from sklearn.multioutput import MultiOutputClassifier\n",
    "\n",
    "start = time()\n",
    "df_train = config.load_traindata_for_pointwise()\n",
    "pipeline = pipelineFactory.create_pipeline(\n",
    "    train_df=df_train,\n",
    "    model_type=ModelType.PAIRWISE_CLASSIFICATION_NO_SEARCH,\n",
    "    verbose_level=1,\n",
    "    evaluation=EvaluationType.CROSS_VALIDATION,\n",
    "    n_folds=5,\n",
    "    workers=1,\n",
    "    target=\"rank\",\n",
    "    as_pairwise=True,\n",
    ")\n",
    "#set_baseline_steps(pipeline)\n",
    "\n",
    "# create a decision tree classifier\n",
    "dtc = DecisionTreeClassifier()\n",
    "# create a multi-output classifier using the decision tree\n",
    "multi_dtc = MultiOutputClassifier(dtc)\n",
    "pipeline.change_estimator(multi_dtc)\n",
    "\n",
    "print(pipeline.get_pipeline().steps)\n",
    "pipeline.run()\n",
    "\n",
    "runtime = int(time() - start)\n",
    "print('\\nruntime: ' + str(timedelta(seconds=runtime)) + ' [' + str(runtime) + 's]')"
   ]
  }
 ],
 "metadata": {
  "kernelspec": {
   "display_name": "venv",
   "language": "python",
   "name": "python3"
  },
  "language_info": {
   "codemirror_mode": {
    "name": "ipython",
    "version": 3
   },
   "file_extension": ".py",
   "mimetype": "text/x-python",
   "name": "python",
   "nbconvert_exporter": "python",
   "pygments_lexer": "ipython3",
   "version": "3.11.3"
  },
  "orig_nbformat": 4
 },
 "nbformat": 4,
 "nbformat_minor": 2
}
