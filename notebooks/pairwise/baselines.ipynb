{
 "cells": [
  {
   "attachments": {},
   "cell_type": "markdown",
   "metadata": {},
   "source": [
    "# Pairwise Methods - Baselines\n",
    "In this notebook, we compare pairwise methods regarding a baseline preprocessing of just one-hot encoding every feature."
   ]
  },
  {
   "cell_type": "code",
   "execution_count": 1,
   "metadata": {},
   "outputs": [
    {
     "name": "stdout",
     "output_type": "stream",
     "text": [
      "X_train.shape: (1161, 4)\n",
      "y_train.shape: (1161, 992)\n",
      "X_train.columns: Index(['dataset', 'model', 'tuning', 'scoring'], dtype='object')\n",
      "y_train.columns: Index([   ('BUCV2RGLMME', 'BUCV2TE'),    ('BUCV2TE', 'BUCV2RGLMME'),\n",
      "              ('BUCV2RGLMME', 'CBE'),        ('CBE', 'BUCV2RGLMME'),\n",
      "               ('BUCV2RGLMME', 'CE'),         ('CE', 'BUCV2RGLMME'),\n",
      "       ('BUCV2RGLMME', 'CV10RGLMME'), ('CV10RGLMME', 'BUCV2RGLMME'),\n",
      "           ('BUCV2RGLMME', 'CV10TE'),     ('CV10TE', 'BUCV2RGLMME'),\n",
      "       ...\n",
      "                       ('OHE', 'TE'),                 ('TE', 'OHE'),\n",
      "                     ('OHE', 'WOEE'),               ('WOEE', 'OHE'),\n",
      "                       ('OHE', 'SE'),                 ('SE', 'OHE'),\n",
      "                        ('SE', 'TE'),                  ('TE', 'SE'),\n",
      "                      ('SE', 'WOEE'),                ('WOEE', 'SE')],\n",
      "      dtype='object', length=992)\n"
     ]
    }
   ],
   "source": [
    "import os\n",
    "import sys\n",
    "module_path = os.path.abspath(os.path.join('..'))\n",
    "if module_path not in sys.path:\n",
    "    sys.path.append(module_path)\n",
    "    \n",
    "import pandas as pd\n",
    "from category_encoders.binary import BinaryEncoder\n",
    "from category_encoders.one_hot import OneHotEncoder\n",
    "from category_encoders.ordinal import OrdinalEncoder\n",
    "from category_encoders.target_encoder import TargetEncoder\n",
    "from datetime import timedelta\n",
    "from sklearn.compose import ColumnTransformer\n",
    "from time import time\n",
    "\n",
    "from src import configuration as config\n",
    "from src.features.encoder_utils import NoY\n",
    "from src.pipeline.pipeline_factory import PipelineFactory, ModelType, EvaluationType\n",
    "from src.pipeline.pipeline_transformers import *\n",
    "\n",
    "\n",
    "# load the data\n",
    "X_train, y_train = config.load_traindata_for_pairwise()\n",
    "pipelineFactory = PipelineFactory()\n",
    "\n",
    "print(f\"X_train.shape: {X_train.shape}\")\n",
    "print(f\"y_train.shape: {y_train.shape}\")\n",
    "print(f\"X_train.columns: {X_train.columns}\")\n",
    "print(f\"y_train.columns: {y_train.columns}\")"
   ]
  },
  {
   "cell_type": "code",
   "execution_count": 2,
   "metadata": {},
   "outputs": [],
   "source": [
    "def set_baseline_steps(pipeline):\n",
    "    pipeline.clear_steps()\n",
    "    pipeline.add_new_step(NoY(OneHotEncoder(['dataset', 'model', 'tuning', 'scoring'])), 'baseline')"
   ]
  },
  {
   "cell_type": "code",
   "execution_count": 3,
   "metadata": {},
   "outputs": [
    {
     "name": "stdout",
     "output_type": "stream",
     "text": [
      "X_train.dtypes: \n",
      " dataset     int64\n",
      "model      object\n",
      "tuning     object\n",
      "scoring    object\n",
      "dtype: object\n",
      "Xtrain head: \n",
      "    dataset model tuning scoring\n",
      "0        3   DTC   full     ACC\n",
      "1        3   DTC   full     AUC\n",
      "X_train.dtypes: \n",
      " dataset    object\n",
      "model      object\n",
      "tuning     object\n",
      "scoring    object\n",
      "dtype: object\n",
      "Xtrain head: \n",
      "   dataset model tuning scoring\n",
      "0       3   DTC   full     ACC\n",
      "1       3   DTC   full     AUC\n"
     ]
    }
   ],
   "source": [
    "# check types of X_train\n",
    "print(f\"X_train.dtypes: \\n {X_train.dtypes}\")\n",
    "print(f\"Xtrain head: \\n {X_train.head(2)}\")\n",
    "\n",
    "# transform all columns to string\n",
    "X_train = X_train.astype(str)\n",
    "\n",
    "print(f\"X_train.dtypes: \\n {X_train.dtypes}\")\n",
    "print(f\"Xtrain head: \\n {X_train.head(2)}\")"
   ]
  },
  {
   "cell_type": "code",
   "execution_count": 4,
   "metadata": {},
   "outputs": [
    {
     "name": "stdout",
     "output_type": "stream",
     "text": [
      "y_train.dtypes: \n",
      " (BUCV2RGLMME, BUCV2TE)    float64\n",
      "(BUCV2TE, BUCV2RGLMME)    float64\n",
      "(BUCV2RGLMME, CBE)        float64\n",
      "(CBE, BUCV2RGLMME)        float64\n",
      "(BUCV2RGLMME, CE)         float64\n",
      "                           ...   \n",
      "(SE, OHE)                 float64\n",
      "(SE, TE)                  float64\n",
      "(TE, SE)                  float64\n",
      "(SE, WOEE)                float64\n",
      "(WOEE, SE)                float64\n",
      "Length: 992, dtype: object\n",
      "y_train head: \n",
      "    (BUCV2RGLMME, BUCV2TE)  (BUCV2TE, BUCV2RGLMME)  (BUCV2RGLMME, CBE)  \\\n",
      "0                     0.0                     0.0                 1.0   \n",
      "1                     0.0                     0.0                 1.0   \n",
      "\n",
      "   (CBE, BUCV2RGLMME)  (BUCV2RGLMME, CE)  (CE, BUCV2RGLMME)  \\\n",
      "0                 0.0                0.0                0.0   \n",
      "1                 0.0                0.0                0.0   \n",
      "\n",
      "   (BUCV2RGLMME, CV10RGLMME)  (CV10RGLMME, BUCV2RGLMME)  \\\n",
      "0                        0.0                        0.0   \n",
      "1                        0.0                        0.0   \n",
      "\n",
      "   (BUCV2RGLMME, CV10TE)  (CV10TE, BUCV2RGLMME)  ...  (OHE, TE)  (TE, OHE)  \\\n",
      "0                    0.0                    0.0  ...        0.0        0.0   \n",
      "1                    0.0                    0.0  ...        0.0        0.0   \n",
      "\n",
      "   (OHE, WOEE)  (WOEE, OHE)  (OHE, SE)  (SE, OHE)  (SE, TE)  (TE, SE)  \\\n",
      "0          0.0          0.0        0.0        0.0       0.0       0.0   \n",
      "1          0.0          0.0        0.0        0.0       0.0       0.0   \n",
      "\n",
      "   (SE, WOEE)  (WOEE, SE)  \n",
      "0         0.0         0.0  \n",
      "1         0.0         0.0  \n",
      "\n",
      "[2 rows x 992 columns]\n",
      "y_train.dtypes: \n",
      " (BUCV2RGLMME, BUCV2TE)    object\n",
      "(BUCV2TE, BUCV2RGLMME)    object\n",
      "(BUCV2RGLMME, CBE)        object\n",
      "(CBE, BUCV2RGLMME)        object\n",
      "(BUCV2RGLMME, CE)         object\n",
      "                           ...  \n",
      "(SE, OHE)                 object\n",
      "(SE, TE)                  object\n",
      "(TE, SE)                  object\n",
      "(SE, WOEE)                object\n",
      "(WOEE, SE)                object\n",
      "Length: 992, dtype: object\n",
      "y_train head: \n",
      "   (BUCV2RGLMME, BUCV2TE) (BUCV2TE, BUCV2RGLMME) (BUCV2RGLMME, CBE)  \\\n",
      "0                    0.0                    0.0                1.0   \n",
      "1                    0.0                    0.0                1.0   \n",
      "\n",
      "  (CBE, BUCV2RGLMME) (BUCV2RGLMME, CE) (CE, BUCV2RGLMME)  \\\n",
      "0                0.0               0.0               0.0   \n",
      "1                0.0               0.0               0.0   \n",
      "\n",
      "  (BUCV2RGLMME, CV10RGLMME) (CV10RGLMME, BUCV2RGLMME) (BUCV2RGLMME, CV10TE)  \\\n",
      "0                       0.0                       0.0                   0.0   \n",
      "1                       0.0                       0.0                   0.0   \n",
      "\n",
      "  (CV10TE, BUCV2RGLMME)  ... (OHE, TE) (TE, OHE) (OHE, WOEE) (WOEE, OHE)  \\\n",
      "0                   0.0  ...       0.0       0.0         0.0         0.0   \n",
      "1                   0.0  ...       0.0       0.0         0.0         0.0   \n",
      "\n",
      "  (OHE, SE) (SE, OHE) (SE, TE) (TE, SE) (SE, WOEE) (WOEE, SE)  \n",
      "0       0.0       0.0      0.0      0.0        0.0        0.0  \n",
      "1       0.0       0.0      0.0      0.0        0.0        0.0  \n",
      "\n",
      "[2 rows x 992 columns]\n"
     ]
    }
   ],
   "source": [
    "# check the types of y_train\n",
    "print(f\"y_train.dtypes: \\n {y_train.dtypes}\")\n",
    "print(f\"y_train head: \\n {y_train.head(2)}\")\n",
    "\n",
    "# transform all columns to string\n",
    "y_train = y_train.astype(str)\n",
    "\n",
    "print(f\"y_train.dtypes: \\n {y_train.dtypes}\")\n",
    "print(f\"y_train head: \\n {y_train.head(2)}\")"
   ]
  },
  {
   "cell_type": "code",
   "execution_count": 6,
   "metadata": {},
   "outputs": [
    {
     "name": "stdout",
     "output_type": "stream",
     "text": [
      "Creating pipeline ...\n",
      "[('baseline', <src.features.encoder_utils.NoY object at 0x000001411CFB0FD0>), ('estimator', DecisionTreeClassifier())]\n",
      "Starting pipeline using method: EvaluationType.BASIC\n"
     ]
    },
    {
     "ename": "KeyError",
     "evalue": "\"['rank'] not found in axis\"",
     "output_type": "error",
     "traceback": [
      "\u001b[1;31m---------------------------------------------------------------------------\u001b[0m",
      "\u001b[1;31mKeyError\u001b[0m                                  Traceback (most recent call last)",
      "Cell \u001b[1;32mIn[6], line 16\u001b[0m\n\u001b[0;32m     13\u001b[0m set_baseline_steps(pipeline)\n\u001b[0;32m     15\u001b[0m \u001b[39mprint\u001b[39m(pipeline\u001b[39m.\u001b[39mget_pipeline()\u001b[39m.\u001b[39msteps)\n\u001b[1;32m---> 16\u001b[0m pipeline\u001b[39m.\u001b[39;49mrun()\n\u001b[0;32m     18\u001b[0m runtime \u001b[39m=\u001b[39m \u001b[39mint\u001b[39m(time() \u001b[39m-\u001b[39m start)\n\u001b[0;32m     19\u001b[0m \u001b[39mprint\u001b[39m(\u001b[39m'\u001b[39m\u001b[39m\\n\u001b[39;00m\u001b[39mruntime: \u001b[39m\u001b[39m'\u001b[39m \u001b[39m+\u001b[39m \u001b[39mstr\u001b[39m(timedelta(seconds\u001b[39m=\u001b[39mruntime)) \u001b[39m+\u001b[39m \u001b[39m'\u001b[39m\u001b[39m [\u001b[39m\u001b[39m'\u001b[39m \u001b[39m+\u001b[39m \u001b[39mstr\u001b[39m(runtime) \u001b[39m+\u001b[39m \u001b[39m'\u001b[39m\u001b[39ms]\u001b[39m\u001b[39m'\u001b[39m)\n",
      "File \u001b[1;32m~\\Workspace\\phase-2\\src\\pipeline\\model_pipeline.py:123\u001b[0m, in \u001b[0;36mModelPipeline.run\u001b[1;34m(self)\u001b[0m\n\u001b[0;32m    119\u001b[0m \u001b[39mif\u001b[39;00m \u001b[39mself\u001b[39m\u001b[39m.\u001b[39m_evaluation \u001b[39m==\u001b[39m EvaluationType\u001b[39m.\u001b[39mBASIC:\n\u001b[0;32m    120\u001b[0m     \u001b[39m# split the data into training and validation data\u001b[39;00m\n\u001b[0;32m    122\u001b[0m     \u001b[39mif\u001b[39;00m \u001b[39mself\u001b[39m\u001b[39m.\u001b[39m_split_factors \u001b[39m==\u001b[39m []:\n\u001b[1;32m--> 123\u001b[0m         X_train, y_train \u001b[39m=\u001b[39m \u001b[39mself\u001b[39;49m\u001b[39m.\u001b[39;49m_split_target(\u001b[39mself\u001b[39;49m\u001b[39m.\u001b[39;49m_df, \u001b[39mself\u001b[39;49m\u001b[39m.\u001b[39;49m_target)\n\u001b[0;32m    124\u001b[0m         X_train, X_test, y_train, y_test \u001b[39m=\u001b[39m train_test_split(X_train, y_train, test_size\u001b[39m=\u001b[39m\u001b[39m0.2\u001b[39m, random_state\u001b[39m=\u001b[39m\u001b[39m42\u001b[39m)\n\u001b[0;32m    126\u001b[0m     \u001b[39melse\u001b[39;00m:\n",
      "File \u001b[1;32m~\\Workspace\\phase-2\\src\\pipeline\\model_pipeline.py:606\u001b[0m, in \u001b[0;36mModelPipeline._split_target\u001b[1;34m(self, df, target)\u001b[0m\n\u001b[0;32m    595\u001b[0m \u001b[39mdef\u001b[39;00m \u001b[39m_split_target\u001b[39m(\u001b[39mself\u001b[39m, df, target):\n\u001b[0;32m    596\u001b[0m \u001b[39m    \u001b[39m\u001b[39m\"\"\"\u001b[39;00m\n\u001b[0;32m    597\u001b[0m \u001b[39m    Split the target from the dataframe\u001b[39;00m\n\u001b[0;32m    598\u001b[0m \n\u001b[1;32m   (...)\u001b[0m\n\u001b[0;32m    604\u001b[0m \u001b[39m        The name of the target column\u001b[39;00m\n\u001b[0;32m    605\u001b[0m \u001b[39m    \"\"\"\u001b[39;00m\n\u001b[1;32m--> 606\u001b[0m     X_train \u001b[39m=\u001b[39m df\u001b[39m.\u001b[39;49mdrop(target, axis\u001b[39m=\u001b[39;49m\u001b[39m1\u001b[39;49m)\n\u001b[0;32m    607\u001b[0m     y_train \u001b[39m=\u001b[39m df[target]\n\u001b[0;32m    609\u001b[0m     \u001b[39mreturn\u001b[39;00m X_train, y_train\n",
      "File \u001b[1;32mc:\\Users\\Marco\\Workspace\\phase-2\\venv\\Lib\\site-packages\\pandas\\core\\frame.py:5258\u001b[0m, in \u001b[0;36mDataFrame.drop\u001b[1;34m(self, labels, axis, index, columns, level, inplace, errors)\u001b[0m\n\u001b[0;32m   5110\u001b[0m \u001b[39mdef\u001b[39;00m \u001b[39mdrop\u001b[39m(\n\u001b[0;32m   5111\u001b[0m     \u001b[39mself\u001b[39m,\n\u001b[0;32m   5112\u001b[0m     labels: IndexLabel \u001b[39m=\u001b[39m \u001b[39mNone\u001b[39;00m,\n\u001b[1;32m   (...)\u001b[0m\n\u001b[0;32m   5119\u001b[0m     errors: IgnoreRaise \u001b[39m=\u001b[39m \u001b[39m\"\u001b[39m\u001b[39mraise\u001b[39m\u001b[39m\"\u001b[39m,\n\u001b[0;32m   5120\u001b[0m ) \u001b[39m-\u001b[39m\u001b[39m>\u001b[39m DataFrame \u001b[39m|\u001b[39m \u001b[39mNone\u001b[39;00m:\n\u001b[0;32m   5121\u001b[0m \u001b[39m    \u001b[39m\u001b[39m\"\"\"\u001b[39;00m\n\u001b[0;32m   5122\u001b[0m \u001b[39m    Drop specified labels from rows or columns.\u001b[39;00m\n\u001b[0;32m   5123\u001b[0m \n\u001b[1;32m   (...)\u001b[0m\n\u001b[0;32m   5256\u001b[0m \u001b[39m            weight  1.0     0.8\u001b[39;00m\n\u001b[0;32m   5257\u001b[0m \u001b[39m    \"\"\"\u001b[39;00m\n\u001b[1;32m-> 5258\u001b[0m     \u001b[39mreturn\u001b[39;00m \u001b[39msuper\u001b[39;49m()\u001b[39m.\u001b[39;49mdrop(\n\u001b[0;32m   5259\u001b[0m         labels\u001b[39m=\u001b[39;49mlabels,\n\u001b[0;32m   5260\u001b[0m         axis\u001b[39m=\u001b[39;49maxis,\n\u001b[0;32m   5261\u001b[0m         index\u001b[39m=\u001b[39;49mindex,\n\u001b[0;32m   5262\u001b[0m         columns\u001b[39m=\u001b[39;49mcolumns,\n\u001b[0;32m   5263\u001b[0m         level\u001b[39m=\u001b[39;49mlevel,\n\u001b[0;32m   5264\u001b[0m         inplace\u001b[39m=\u001b[39;49minplace,\n\u001b[0;32m   5265\u001b[0m         errors\u001b[39m=\u001b[39;49merrors,\n\u001b[0;32m   5266\u001b[0m     )\n",
      "File \u001b[1;32mc:\\Users\\Marco\\Workspace\\phase-2\\venv\\Lib\\site-packages\\pandas\\core\\generic.py:4549\u001b[0m, in \u001b[0;36mNDFrame.drop\u001b[1;34m(self, labels, axis, index, columns, level, inplace, errors)\u001b[0m\n\u001b[0;32m   4547\u001b[0m \u001b[39mfor\u001b[39;00m axis, labels \u001b[39min\u001b[39;00m axes\u001b[39m.\u001b[39mitems():\n\u001b[0;32m   4548\u001b[0m     \u001b[39mif\u001b[39;00m labels \u001b[39mis\u001b[39;00m \u001b[39mnot\u001b[39;00m \u001b[39mNone\u001b[39;00m:\n\u001b[1;32m-> 4549\u001b[0m         obj \u001b[39m=\u001b[39m obj\u001b[39m.\u001b[39;49m_drop_axis(labels, axis, level\u001b[39m=\u001b[39;49mlevel, errors\u001b[39m=\u001b[39;49merrors)\n\u001b[0;32m   4551\u001b[0m \u001b[39mif\u001b[39;00m inplace:\n\u001b[0;32m   4552\u001b[0m     \u001b[39mself\u001b[39m\u001b[39m.\u001b[39m_update_inplace(obj)\n",
      "File \u001b[1;32mc:\\Users\\Marco\\Workspace\\phase-2\\venv\\Lib\\site-packages\\pandas\\core\\generic.py:4591\u001b[0m, in \u001b[0;36mNDFrame._drop_axis\u001b[1;34m(self, labels, axis, level, errors, only_slice)\u001b[0m\n\u001b[0;32m   4589\u001b[0m         new_axis \u001b[39m=\u001b[39m axis\u001b[39m.\u001b[39mdrop(labels, level\u001b[39m=\u001b[39mlevel, errors\u001b[39m=\u001b[39merrors)\n\u001b[0;32m   4590\u001b[0m     \u001b[39melse\u001b[39;00m:\n\u001b[1;32m-> 4591\u001b[0m         new_axis \u001b[39m=\u001b[39m axis\u001b[39m.\u001b[39;49mdrop(labels, errors\u001b[39m=\u001b[39;49merrors)\n\u001b[0;32m   4592\u001b[0m     indexer \u001b[39m=\u001b[39m axis\u001b[39m.\u001b[39mget_indexer(new_axis)\n\u001b[0;32m   4594\u001b[0m \u001b[39m# Case for non-unique axis\u001b[39;00m\n\u001b[0;32m   4595\u001b[0m \u001b[39melse\u001b[39;00m:\n",
      "File \u001b[1;32mc:\\Users\\Marco\\Workspace\\phase-2\\venv\\Lib\\site-packages\\pandas\\core\\indexes\\base.py:6696\u001b[0m, in \u001b[0;36mIndex.drop\u001b[1;34m(self, labels, errors)\u001b[0m\n\u001b[0;32m   6694\u001b[0m \u001b[39mif\u001b[39;00m mask\u001b[39m.\u001b[39many():\n\u001b[0;32m   6695\u001b[0m     \u001b[39mif\u001b[39;00m errors \u001b[39m!=\u001b[39m \u001b[39m\"\u001b[39m\u001b[39mignore\u001b[39m\u001b[39m\"\u001b[39m:\n\u001b[1;32m-> 6696\u001b[0m         \u001b[39mraise\u001b[39;00m \u001b[39mKeyError\u001b[39;00m(\u001b[39mf\u001b[39m\u001b[39m\"\u001b[39m\u001b[39m{\u001b[39;00m\u001b[39mlist\u001b[39m(labels[mask])\u001b[39m}\u001b[39;00m\u001b[39m not found in axis\u001b[39m\u001b[39m\"\u001b[39m)\n\u001b[0;32m   6697\u001b[0m     indexer \u001b[39m=\u001b[39m indexer[\u001b[39m~\u001b[39mmask]\n\u001b[0;32m   6698\u001b[0m \u001b[39mreturn\u001b[39;00m \u001b[39mself\u001b[39m\u001b[39m.\u001b[39mdelete(indexer)\n",
      "\u001b[1;31mKeyError\u001b[0m: \"['rank'] not found in axis\""
     ]
    }
   ],
   "source": [
    "start = time()\n",
    "df_train = config.load_traindata_for_pointwise()\n",
    "pipeline = pipelineFactory.create_pipeline(\n",
    "    train_df=X_train,\n",
    "    model_type=ModelType.PAIRWISE_CLASSIFICATION_NO_SEARCH,\n",
    "    verbose_level=1,\n",
    "    evaluation=EvaluationType.BASIC,\n",
    "    n_folds=5,\n",
    "    workers=1,\n",
    "    target=\"rank\",\n",
    "    split_factors=[]\n",
    ")\n",
    "set_baseline_steps(pipeline)\n",
    "\n",
    "print(pipeline.get_pipeline().steps)\n",
    "pipeline.run()\n",
    "\n",
    "runtime = int(time() - start)\n",
    "print('\\nruntime: ' + str(timedelta(seconds=runtime)) + ' [' + str(runtime) + 's]')"
   ]
  }
 ],
 "metadata": {
  "kernelspec": {
   "display_name": "venv",
   "language": "python",
   "name": "python3"
  },
  "language_info": {
   "codemirror_mode": {
    "name": "ipython",
    "version": 3
   },
   "file_extension": ".py",
   "mimetype": "text/x-python",
   "name": "python",
   "nbconvert_exporter": "python",
   "pygments_lexer": "ipython3",
   "version": "3.11.3"
  },
  "orig_nbformat": 4
 },
 "nbformat": 4,
 "nbformat_minor": 2
}
