{
 "cells": [
  {
   "attachments": {},
   "cell_type": "markdown",
   "metadata": {},
   "source": [
    "# Pairwise Methods - Baselines\n",
    "In this notebook, we compare pairwise methods regarding a baseline preprocessing of just one-hot encoding every feature."
   ]
  },
  {
   "cell_type": "code",
   "execution_count": 1,
   "metadata": {},
   "outputs": [],
   "source": [
    "import os\n",
    "import sys\n",
    "module_path = os.path.abspath(os.path.join('..'))\n",
    "if module_path not in sys.path:\n",
    "    sys.path.append(module_path)\n",
    "    \n",
    "import pandas as pd\n",
    "from category_encoders.binary import BinaryEncoder\n",
    "from category_encoders.one_hot import OneHotEncoder\n",
    "from category_encoders.ordinal import OrdinalEncoder\n",
    "from category_encoders.target_encoder import TargetEncoder\n",
    "from datetime import timedelta\n",
    "from sklearn.compose import ColumnTransformer\n",
    "from time import time\n",
    "\n",
    "from src import configuration as config\n",
    "from src.features.encoder_utils import NoY\n",
    "from src.pipeline.pipeline_factory import PipelineFactory, ModelType, EvaluationType\n",
    "from src.pipeline.pipeline_transformers import *\n",
    "\n",
    "\n",
    "# load the data\n",
    "df_train = config.load_traindata_for_pointwise()\n",
    "pipelineFactory = PipelineFactory()"
   ]
  },
  {
   "cell_type": "code",
   "execution_count": 2,
   "metadata": {},
   "outputs": [],
   "source": [
    "def set_baseline_steps(pipeline):\n",
    "    pipeline.clear_steps()\n",
    "    #pipeline.add_new_step(NoY(OneHotEncoder(['dataset', 'model', 'tuning', 'scoring'])), 'baseline')\n",
    "    pipeline.add_new_step(GeneralPurposeEncoderTransformer(\n",
    "                    OneHotEncoder(),\n",
    "                    OneHotEncoder(),\n",
    "                    OneHotEncoder()\n",
    "                ), \"general_transformer\")"
   ]
  },
  {
   "cell_type": "code",
   "execution_count": 4,
   "metadata": {},
   "outputs": [
    {
     "ename": "NameError",
     "evalue": "name 'BinaryEncoder' is not defined",
     "output_type": "error",
     "traceback": [
      "\u001b[1;31m---------------------------------------------------------------------------\u001b[0m",
      "\u001b[1;31mNameError\u001b[0m                                 Traceback (most recent call last)",
      "Cell \u001b[1;32mIn[4], line 5\u001b[0m\n\u001b[0;32m      1\u001b[0m \u001b[39mfrom\u001b[39;00m \u001b[39msklearn\u001b[39;00m\u001b[39m.\u001b[39;00m\u001b[39mtree\u001b[39;00m \u001b[39mimport\u001b[39;00m DecisionTreeClassifier\n\u001b[0;32m      2\u001b[0m \u001b[39mfrom\u001b[39;00m \u001b[39msklearn\u001b[39;00m\u001b[39m.\u001b[39;00m\u001b[39mmultioutput\u001b[39;00m \u001b[39mimport\u001b[39;00m MultiOutputClassifier\n\u001b[0;32m      4\u001b[0m param_grid \u001b[39m=\u001b[39m {\n\u001b[1;32m----> 5\u001b[0m     \u001b[39m\"\u001b[39m\u001b[39mgeneral_transformer__model_encoder\u001b[39m\u001b[39m\"\u001b[39m : [BinaryEncoder()],\n\u001b[0;32m      6\u001b[0m     \u001b[39m\"\u001b[39m\u001b[39mgeneral_transformer__tuning_encoder\u001b[39m\u001b[39m\"\u001b[39m : [BinaryEncoder()],\n\u001b[0;32m      7\u001b[0m     \u001b[39m\"\u001b[39m\u001b[39mgeneral_transformer__scoring_encoder\u001b[39m\u001b[39m\"\u001b[39m : [BinaryEncoder(), OneHotEncoder()],\n\u001b[0;32m      8\u001b[0m }\n\u001b[0;32m     10\u001b[0m start \u001b[39m=\u001b[39m time()\n\u001b[0;32m     11\u001b[0m df_train \u001b[39m=\u001b[39m config\u001b[39m.\u001b[39mload_traindata_for_pointwise()\n",
      "\u001b[1;31mNameError\u001b[0m: name 'BinaryEncoder' is not defined"
     ]
    }
   ],
   "source": [
    "from sklearn.tree import DecisionTreeClassifier\n",
    "from sklearn.multioutput import MultiOutputClassifier\n",
    "\n",
    "param_grid = {\n",
    "    \"general_transformer__model_encoder\" : [BinaryEncoder()],\n",
    "    \"general_transformer__tuning_encoder\" : [BinaryEncoder()],\n",
    "    \"general_transformer__scoring_encoder\" : [BinaryEncoder(), OneHotEncoder()],\n",
    "}\n",
    "\n",
    "start = time()\n",
    "df_train = config.load_traindata_for_pointwise()\n",
    "pipeline = pipelineFactory.create_pipeline(\n",
    "    train_df=df_train,\n",
    "    model_type=ModelType.PAIRWISE_CLASSIFICATION_NO_SEARCH,\n",
    "    verbose_level=1,\n",
    "    evaluation=EvaluationType.OPTUNA,\n",
    "    n_folds=5,\n",
    "    workers=1,\n",
    "    target=\"rank\",\n",
    "    as_pairwise=True,\n",
    "    param_grid=param_grid,\n",
    "    opt_iterations=2\n",
    ")\n",
    "#set_baseline_steps(pipeline)\n",
    "\n",
    "# create a decision tree classifier\n",
    "dtc = DecisionTreeClassifier()\n",
    "# create a multi-output classifier using the decision tree\n",
    "multi_dtc = MultiOutputClassifier(dtc)\n",
    "pipeline.change_estimator(multi_dtc)\n",
    "\n",
    "print(pipeline.get_pipeline().steps)\n",
    "pipeline.run()\n",
    "\n",
    "runtime = int(time() - start)\n",
    "print('\\nruntime: ' + str(timedelta(seconds=runtime)) + ' [' + str(runtime) + 's]')"
   ]
  }
 ],
 "metadata": {
  "kernelspec": {
   "display_name": "venv",
   "language": "python",
   "name": "python3"
  },
  "language_info": {
   "codemirror_mode": {
    "name": "ipython",
    "version": 3
   },
   "file_extension": ".py",
   "mimetype": "text/x-python",
   "name": "python",
   "nbconvert_exporter": "python",
   "pygments_lexer": "ipython3",
   "version": "3.11.3"
  },
  "orig_nbformat": 4
 },
 "nbformat": 4,
 "nbformat_minor": 2
}
