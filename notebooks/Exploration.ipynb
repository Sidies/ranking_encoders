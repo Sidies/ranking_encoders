{
 "cells": [
  {
   "cell_type": "code",
   "execution_count": 36,
   "metadata": {},
   "outputs": [],
   "source": [
    "import os\n",
    "import sys\n",
    "module_path = os.path.abspath(os.path.join(\"..\"))\n",
    "if module_path not in sys.path:\n",
    "    sys.path.append(module_path)\n",
    "\n",
    "import pandas as pd\n",
    "import matplotlib as plt\n",
    "from load_datasets import load_dataset\n",
    "\n",
    "dataset = load_dataset(path='../data/raw/dataset.csv')"
   ]
  },
  {
   "attachments": {},
   "cell_type": "markdown",
   "metadata": {},
   "source": [
    "# Feature exploration"
   ]
  },
  {
   "attachments": {},
   "cell_type": "markdown",
   "metadata": {},
   "source": [
    " ### Feature description\n",
    " Unnamed: 0: A numerical label for the rows in the table.  \n",
    " Encoder: Indicates the encoder used.  \n",
    " Dataset: Specifies the name or identification of the dataset used.  \n",
    " Model: Specifies the name of the model used.   \n",
    " Tuning: Indicates whether the model was tuned or optimized.  \n",
    " Scoring: Specifies the metric used for evaluating the model.   \n",
    " CV_Score: Indicates the value of the cross-validation accuracy or ROC-AUC for the model."
   ]
  },
  {
   "cell_type": "code",
   "execution_count": 16,
   "metadata": {},
   "outputs": [
    {
     "data": {
      "text/html": [
       "<div>\n",
       "<style scoped>\n",
       "    .dataframe tbody tr th:only-of-type {\n",
       "        vertical-align: middle;\n",
       "    }\n",
       "\n",
       "    .dataframe tbody tr th {\n",
       "        vertical-align: top;\n",
       "    }\n",
       "\n",
       "    .dataframe thead th {\n",
       "        text-align: right;\n",
       "    }\n",
       "</style>\n",
       "<table border=\"1\" class=\"dataframe\">\n",
       "  <thead>\n",
       "    <tr style=\"text-align: right;\">\n",
       "      <th></th>\n",
       "      <th>Unnamed: 0</th>\n",
       "      <th>encoder</th>\n",
       "      <th>dataset</th>\n",
       "      <th>model</th>\n",
       "      <th>tuning</th>\n",
       "      <th>scoring</th>\n",
       "      <th>cv_score</th>\n",
       "    </tr>\n",
       "  </thead>\n",
       "  <tbody>\n",
       "    <tr>\n",
       "      <th>0</th>\n",
       "      <td>0</td>\n",
       "      <td>BE</td>\n",
       "      <td>3</td>\n",
       "      <td>DTC</td>\n",
       "      <td>full</td>\n",
       "      <td>ACC</td>\n",
       "      <td>0.908341</td>\n",
       "    </tr>\n",
       "    <tr>\n",
       "      <th>1</th>\n",
       "      <td>1</td>\n",
       "      <td>BE</td>\n",
       "      <td>3</td>\n",
       "      <td>DTC</td>\n",
       "      <td>full</td>\n",
       "      <td>AUC</td>\n",
       "      <td>0.906854</td>\n",
       "    </tr>\n",
       "    <tr>\n",
       "      <th>2</th>\n",
       "      <td>2</td>\n",
       "      <td>BE</td>\n",
       "      <td>3</td>\n",
       "      <td>DTC</td>\n",
       "      <td>full</td>\n",
       "      <td>F1</td>\n",
       "      <td>0.916533</td>\n",
       "    </tr>\n",
       "    <tr>\n",
       "      <th>3</th>\n",
       "      <td>3</td>\n",
       "      <td>BE</td>\n",
       "      <td>3</td>\n",
       "      <td>DTC</td>\n",
       "      <td>model</td>\n",
       "      <td>ACC</td>\n",
       "      <td>0.967145</td>\n",
       "    </tr>\n",
       "    <tr>\n",
       "      <th>4</th>\n",
       "      <td>4</td>\n",
       "      <td>BE</td>\n",
       "      <td>3</td>\n",
       "      <td>DTC</td>\n",
       "      <td>model</td>\n",
       "      <td>AUC</td>\n",
       "      <td>0.967233</td>\n",
       "    </tr>\n",
       "    <tr>\n",
       "      <th>5</th>\n",
       "      <td>5</td>\n",
       "      <td>BE</td>\n",
       "      <td>3</td>\n",
       "      <td>DTC</td>\n",
       "      <td>model</td>\n",
       "      <td>F1</td>\n",
       "      <td>0.968161</td>\n",
       "    </tr>\n",
       "    <tr>\n",
       "      <th>6</th>\n",
       "      <td>6</td>\n",
       "      <td>BE</td>\n",
       "      <td>3</td>\n",
       "      <td>DTC</td>\n",
       "      <td>no</td>\n",
       "      <td>ACC</td>\n",
       "      <td>0.908341</td>\n",
       "    </tr>\n",
       "    <tr>\n",
       "      <th>7</th>\n",
       "      <td>7</td>\n",
       "      <td>BE</td>\n",
       "      <td>3</td>\n",
       "      <td>DTC</td>\n",
       "      <td>no</td>\n",
       "      <td>AUC</td>\n",
       "      <td>0.906854</td>\n",
       "    </tr>\n",
       "    <tr>\n",
       "      <th>8</th>\n",
       "      <td>8</td>\n",
       "      <td>BE</td>\n",
       "      <td>3</td>\n",
       "      <td>DTC</td>\n",
       "      <td>no</td>\n",
       "      <td>F1</td>\n",
       "      <td>0.916533</td>\n",
       "    </tr>\n",
       "    <tr>\n",
       "      <th>9</th>\n",
       "      <td>9</td>\n",
       "      <td>BE</td>\n",
       "      <td>3</td>\n",
       "      <td>KNC</td>\n",
       "      <td>full</td>\n",
       "      <td>ACC</td>\n",
       "      <td>0.781295</td>\n",
       "    </tr>\n",
       "  </tbody>\n",
       "</table>\n",
       "</div>"
      ],
      "text/plain": [
       "   Unnamed: 0 encoder  dataset model tuning scoring  cv_score\n",
       "0           0      BE        3   DTC   full     ACC  0.908341\n",
       "1           1      BE        3   DTC   full     AUC  0.906854\n",
       "2           2      BE        3   DTC   full      F1  0.916533\n",
       "3           3      BE        3   DTC  model     ACC  0.967145\n",
       "4           4      BE        3   DTC  model     AUC  0.967233\n",
       "5           5      BE        3   DTC  model      F1  0.968161\n",
       "6           6      BE        3   DTC     no     ACC  0.908341\n",
       "7           7      BE        3   DTC     no     AUC  0.906854\n",
       "8           8      BE        3   DTC     no      F1  0.916533\n",
       "9           9      BE        3   KNC   full     ACC  0.781295"
      ]
     },
     "execution_count": 16,
     "metadata": {},
     "output_type": "execute_result"
    }
   ],
   "source": [
    "dataset.head(10)"
   ]
  },
  {
   "cell_type": "code",
   "execution_count": 15,
   "metadata": {},
   "outputs": [
    {
     "name": "stdout",
     "output_type": "stream",
     "text": [
      "<class 'pandas.core.frame.DataFrame'>\n",
      "RangeIndex: 48046 entries, 0 to 48045\n",
      "Data columns (total 7 columns):\n",
      " #   Column      Non-Null Count  Dtype  \n",
      "---  ------      --------------  -----  \n",
      " 0   Unnamed: 0  48046 non-null  int64  \n",
      " 1   encoder     48046 non-null  object \n",
      " 2   dataset     48046 non-null  int64  \n",
      " 3   model       48046 non-null  object \n",
      " 4   tuning      48046 non-null  object \n",
      " 5   scoring     48046 non-null  object \n",
      " 6   cv_score    48046 non-null  float64\n",
      "dtypes: float64(1), int64(2), object(4)\n",
      "memory usage: 2.6+ MB\n"
     ]
    }
   ],
   "source": [
    "dataset.info()"
   ]
  },
  {
   "attachments": {},
   "cell_type": "markdown",
   "metadata": {},
   "source": [
    "### Feature Analysis: Unnamed: 0 "
   ]
  },
  {
   "cell_type": "code",
   "execution_count": 30,
   "metadata": {},
   "outputs": [
    {
     "data": {
      "text/plain": [
       "0      0\n",
       "1      1\n",
       "2      2\n",
       "3      3\n",
       "4      4\n",
       "5      5\n",
       "6      6\n",
       "7      7\n",
       "8      8\n",
       "9      9\n",
       "10    10\n",
       "11    11\n",
       "12    12\n",
       "13    13\n",
       "14    14\n",
       "15    15\n",
       "16    16\n",
       "17    17\n",
       "18    18\n",
       "19    19\n",
       "Name: Unnamed: 0, dtype: int64"
      ]
     },
     "execution_count": 30,
     "metadata": {},
     "output_type": "execute_result"
    }
   ],
   "source": [
    "dataset['Unnamed: 0'].head(20)"
   ]
  },
  {
   "cell_type": "code",
   "execution_count": 56,
   "metadata": {},
   "outputs": [
    {
     "data": {
      "text/plain": [
       "48046"
      ]
     },
     "execution_count": 56,
     "metadata": {},
     "output_type": "execute_result"
    }
   ],
   "source": [
    "dataset['Unnamed: 0'].nunique()"
   ]
  },
  {
   "attachments": {},
   "cell_type": "markdown",
   "metadata": {},
   "source": [
    "Unnamed:0 works as an additional index. "
   ]
  },
  {
   "attachments": {},
   "cell_type": "markdown",
   "metadata": {},
   "source": [
    "### Feature Analysis: encoder"
   ]
  },
  {
   "cell_type": "code",
   "execution_count": 55,
   "metadata": {},
   "outputs": [
    {
     "name": "stdout",
     "output_type": "stream",
     "text": [
      "Number of unique values in encoder: 32\n"
     ]
    },
    {
     "data": {
      "text/plain": [
       "array(['BE', 'BUCV10RGLMME', 'BUCV10TE', 'BUCV2RGLMME', 'BUCV2TE',\n",
       "       'BUCV5RGLMME', 'BUCV5TE', 'CBE', 'CE', 'CV10RGLMME', 'CV10TE',\n",
       "       'CV2RGLMME', 'CV2TE', 'CV5RGLMME', 'CV5TE', 'DE', 'DTEM10',\n",
       "       'DTEM2', 'DTEM5', 'ME01E', 'ME10E', 'ME1E', 'MHE', 'OE', 'OHE',\n",
       "       'PBTE0001', 'PBTE001', 'PBTE01', 'RGLMME', 'SE', 'TE', 'WOEE'],\n",
       "      dtype=object)"
      ]
     },
     "execution_count": 55,
     "metadata": {},
     "output_type": "execute_result"
    }
   ],
   "source": [
    "print(f\"Number of unique values in encoder: {dataset['encoder'].nunique()}\")\n",
    "dataset['encoder'].unique()"
   ]
  },
  {
   "attachments": {},
   "cell_type": "markdown",
   "metadata": {},
   "source": [
    " #### Meaning of the abbreviations\n",
    " BE: Binary Encoder  \n",
    " BUCV10RGLMME: Bayesian Uncertainty Encoder with 10-fold cross-validation and Regularized Generalized Linear Mixed Model Encoding  \n",
    " BUCV10TE: Bayesian Uncertainty Encoder with 10-fold cross-validation and Target Encoding\n",
    " BUCV2RGLMME: Bayesian Uncertainty Encoder with 2-fold cross-validation and Regularized Generalized Linear Mixed Model Encoding    \n",
    " BUCV2TE: Bayesian Uncertainty Encoder with 2-fold cross-validation and Target Encoding  \n",
    " BUCV5RGLMME: Bayesian Uncertainty Encoder with 5-fold cross-validation and Regularized Generalized Linear Mixed Model Encoding  \n",
    " BUCV5TE: Bayesian Uncertainty Encoder with 5-fold cross-validation and Target Encoding  \n",
    " CBE: Count Encoder  \n",
    " CE: Category Encoder  \n",
    " CV10RGLMME: Cross-validated with 10-fold cross-validation and Regularized Generalized Linear Mixed Model Encoding  \n",
    " CV10TE: Cross-validated with 10-fold cross-validation and Target Encoding  \n",
    " CV2RGLMME: Cross-validated with 2-fold cross-validation and Regularized Generalized Linear Mixed Model Encoding  \n",
    " CV2TE: Cross-validated with 2-fold cross-validation and Target Encoding  \n",
    " CV5RGLMME: Cross-validated with 5-fold cross-validation and Regularized Generalized Linear Mixed Model Encoding  \n",
    " CV5TE: Cross-validated with 5-fold cross-validation and Target Encoding  \n",
    " DE: Drop Encoder  \n",
    " DTEM10: Drop Target Encoder with 10-fold cross-validation  \n",
    " DTEM2: Drop Target Encoder with 2-fold cross-validation  \n",
    " DTEM5: Drop Target Encoder with 5-fold cross-validation  \n",
    " ME01E: M-estimator Encoder with 0.1 noise level and encoding  \n",
    " ME10E: M-estimator Encoder with 1.0 noise level and encoding  \n",
    " ME1E: M-estimator Encoder with 0.01 noise level and encoding  \n",
    " MHE: Mean Hash Encoder  \n",
    " OE: Ordinal Encoder  \n",
    " OHE: One-Hot Encoder  \n",
    " PBTE0001: Polynomial-based Target Encoder with degree 0.001  \n",
    " PBTE001: Polynomial-based Target Encoder with degree 0.01  \n",
    " PBTE01: Polynomial-based Target Encoder with degree 0.1  \n",
    " RGLMME: Regularized Generalized Linear Mixed Model Encoding  \n",
    " SE: Sum Encoder  \n",
    " TE: Target Encoder  \n",
    " WOEE: Weight of Evidence Encoder  "
   ]
  },
  {
   "cell_type": "code",
   "execution_count": 39,
   "metadata": {},
   "outputs": [
    {
     "data": {
      "text/plain": [
       "<Axes: >"
      ]
     },
     "execution_count": 39,
     "metadata": {},
     "output_type": "execute_result"
    },
    {
     "data": {
      "image/png": "[encoded data removed]",
      "text/plain": [
       "<Figure size 640x480 with 1 Axes>"
      ]
     },
     "metadata": {},
     "output_type": "display_data"
    }
   ],
   "source": [
    "\n",
    "dataset['encoder'].value_counts().plot(kind='bar')"
   ]
  },
  {
   "attachments": {},
   "cell_type": "markdown",
   "metadata": {},
   "source": [
    "The different encoders are almost equally distributed"
   ]
  }
 ],
 "metadata": {
  "kernelspec": {
   "display_name": "venv",
   "language": "python",
   "name": "python3"
  },
  "language_info": {
   "codemirror_mode": {
    "name": "ipython",
    "version": 3
   },
   "file_extension": ".py",
   "mimetype": "text/x-python",
   "name": "python",
   "nbconvert_exporter": "python",
   "pygments_lexer": "ipython3",
   "version": "3.10.10"
  },
  "orig_nbformat": 4
 },
 "nbformat": 4,
 "nbformat_minor": 2
}
