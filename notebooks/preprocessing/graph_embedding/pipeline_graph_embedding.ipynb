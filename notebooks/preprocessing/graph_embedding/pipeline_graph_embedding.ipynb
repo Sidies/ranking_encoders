{
 "cells": [
  {
   "cell_type": "markdown",
   "metadata": {},
   "source": [
    "# Pipeline Graph Embeddings\n",
    "The purpose of this notebook is to apply graph embeddings in our pipeline"
   ]
  },
  {
   "cell_type": "code",
   "execution_count": 1,
   "metadata": {},
   "outputs": [
    {
     "name": "stderr",
     "output_type": "stream",
     "text": [
      "c:\\Users\\Marco\\Workspace\\phase-2\\venv\\Lib\\site-packages\\tqdm\\auto.py:21: TqdmWarning: IProgress not found. Please update jupyter and ipywidgets. See https://ipywidgets.readthedocs.io/en/stable/user_install.html\n",
      "  from .autonotebook import tqdm as notebook_tqdm\n"
     ]
    }
   ],
   "source": [
    "# imports\n",
    "import os\n",
    "import pandas as pd\n",
    "from src import configuration as config\n",
    "from src.pipeline.pipeline_factory import PipelineFactory, ModelType, EvaluationType"
   ]
  },
  {
   "cell_type": "code",
   "execution_count": 2,
   "metadata": {},
   "outputs": [
    {
     "name": "stdout",
     "output_type": "stream",
     "text": [
      "Starting pipeline using method: EvaluationType.BASIC\n",
      "Finished running the pipeline\n",
      "Evaluation metrics:\n",
      "    validation_rmse: 0.2206 [std=0.]\n",
      "    validation_mae: 0.1783 [std=0.]\n",
      "    validation_r2: -0.005 [std=0.]\n",
      "    validation_average_spearman: 0. [std=0.]\n"
     ]
    }
   ],
   "source": [
    "# load the data\n",
    "train_df = config.load_traindata_for_regression()\n",
    "pipelineFactory = PipelineFactory()\n",
    "\n",
    "# create the baseline pipeline\n",
    "pipeline = pipelineFactory.create_pipeline(train_df,\n",
    "                                            ModelType.REGRE_BASELINE,\n",
    "                                            verbose_level=1,\n",
    "                                            evaluation=EvaluationType.BASIC)\n",
    "pipeline.run()"
   ]
  },
  {
   "cell_type": "code",
   "execution_count": 3,
   "metadata": {},
   "outputs": [],
   "source": [
    "from src.features.encoder_utils import load_graph\n",
    "graph = load_graph(config.ROOT_DIR / \"data/external/graphs/encodings_graph.adjlist\")"
   ]
  },
  {
   "cell_type": "markdown",
   "metadata": {},
   "source": [
    "### Try out Node2Vec"
   ]
  },
  {
   "cell_type": "code",
   "execution_count": 4,
   "metadata": {},
   "outputs": [
    {
     "name": "stdout",
     "output_type": "stream",
     "text": [
      "{'embeddings_transformer': Node2VecEmbedding(graph=<networkx.classes.graph.Graph object at 0x000002753EE5E590>), 'print_df_1': PrintDataframe(verbose=1), 'column_keeper': ColumnKeeper(columns=['node2vec_embedding_dim1', 'node2vec_embedding_dim2']), 'print_df_2': PrintDataframe(verbose=1), 'estimator': DummyRegressor()}\n",
      "Starting pipeline using method: EvaluationType.BASIC\n"
     ]
    },
    {
     "name": "stderr",
     "output_type": "stream",
     "text": [
      "Computing transition probabilities:   0%|          | 0/45 [00:00<?, ?it/s]"
     ]
    },
    {
     "name": "stderr",
     "output_type": "stream",
     "text": [
      "Computing transition probabilities: 100%|██████████| 45/45 [00:00<00:00, 22539.25it/s]\n",
      "Generating walks (CPU: 1): 100%|██████████| 1000/1000 [00:03<00:00, 323.46it/s]\n"
     ]
    },
    {
     "name": "stdout",
     "output_type": "stream",
     "text": [
      "----------------------------------------\n",
      "Printing dataframe:\n",
      "   dataset model tuning scoring  node2vec_embedding_dim1  \\\n",
      "0    23381    LR  model      F1                -0.329613   \n",
      "1    23381    LR  model      F1                -0.073129   \n",
      "2    23381    LR  model      F1                 0.025337   \n",
      "3    23381    LR  model      F1                -0.105937   \n",
      "4    23381    LR  model      F1                 0.055852   \n",
      "\n",
      "   node2vec_embedding_dim2  \n",
      "0                -0.056413  \n",
      "1                -0.195376  \n",
      "2                -0.027240  \n",
      "3                -0.134483  \n",
      "4                 0.008353  \n",
      "----------------------------------------\n",
      "----------------------------------------\n",
      "Printing dataframe:\n",
      "   node2vec_embedding_dim1  node2vec_embedding_dim2\n",
      "0                -0.329613                -0.056413\n",
      "1                -0.073129                -0.195376\n",
      "2                 0.025337                -0.027240\n",
      "3                -0.105937                -0.134483\n",
      "4                 0.055852                 0.008353\n",
      "----------------------------------------\n"
     ]
    },
    {
     "name": "stderr",
     "output_type": "stream",
     "text": [
      "Computing transition probabilities: 100%|██████████| 45/45 [00:00<00:00, 14948.81it/s]\n",
      "Generating walks (CPU: 1): 100%|██████████| 1000/1000 [00:02<00:00, 360.88it/s]\n"
     ]
    },
    {
     "name": "stdout",
     "output_type": "stream",
     "text": [
      "----------------------------------------\n",
      "Printing dataframe:\n",
      "   dataset model tuning scoring  node2vec_embedding_dim1  \\\n",
      "0    41007   SVC     no     ACC                 0.233271   \n",
      "1    41007   SVC     no     ACC                 0.004386   \n",
      "2    41007   SVC     no     ACC                 0.196471   \n",
      "3    41007   SVC     no     ACC                 0.023457   \n",
      "4    41007   SVC     no     ACC                 0.160871   \n",
      "\n",
      "   node2vec_embedding_dim2  \n",
      "0                -0.131774  \n",
      "1                -0.175404  \n",
      "2                -0.045817  \n",
      "3                -0.240275  \n",
      "4                -0.045453  \n",
      "----------------------------------------\n",
      "----------------------------------------\n",
      "Printing dataframe:\n",
      "   node2vec_embedding_dim1  node2vec_embedding_dim2\n",
      "0                 0.233271                -0.131774\n",
      "1                 0.004386                -0.175404\n",
      "2                 0.196471                -0.045817\n",
      "3                 0.023457                -0.240275\n",
      "4                 0.160871                -0.045453\n",
      "----------------------------------------\n"
     ]
    },
    {
     "name": "stderr",
     "output_type": "stream",
     "text": [
      "Computing transition probabilities: 100%|██████████| 45/45 [00:00<00:00, 21687.20it/s]\n",
      "Generating walks (CPU: 1): 100%|██████████| 1000/1000 [00:02<00:00, 390.24it/s]\n"
     ]
    },
    {
     "name": "stdout",
     "output_type": "stream",
     "text": [
      "----------------------------------------\n",
      "Printing dataframe:\n",
      "   dataset model tuning scoring  node2vec_embedding_dim1  \\\n",
      "0    23381    LR  model      F1                 0.169039   \n",
      "1    23381    LR  model      F1                -0.049130   \n",
      "2    23381    LR  model      F1                 0.042312   \n",
      "3    23381    LR  model      F1                -0.062575   \n",
      "4    23381    LR  model      F1                 0.028709   \n",
      "\n",
      "   node2vec_embedding_dim2  \n",
      "0                -0.312533  \n",
      "1                -0.413293  \n",
      "2                 0.052501  \n",
      "3                -0.363093  \n",
      "4                 0.058674  \n",
      "----------------------------------------\n",
      "----------------------------------------\n",
      "Printing dataframe:\n",
      "   node2vec_embedding_dim1  node2vec_embedding_dim2\n",
      "0                 0.169039                -0.312533\n",
      "1                -0.049130                -0.413293\n",
      "2                 0.042312                 0.052501\n",
      "3                -0.062575                -0.363093\n",
      "4                 0.028709                 0.058674\n",
      "----------------------------------------\n"
     ]
    },
    {
     "name": "stderr",
     "output_type": "stream",
     "text": [
      "Computing transition probabilities: 100%|██████████| 45/45 [00:00<00:00, 21602.80it/s]\n",
      "Generating walks (CPU: 1): 100%|██████████| 1000/1000 [00:02<00:00, 361.55it/s]\n"
     ]
    },
    {
     "name": "stdout",
     "output_type": "stream",
     "text": [
      "----------------------------------------\n",
      "Printing dataframe:\n",
      "   dataset model tuning scoring  node2vec_embedding_dim1  \\\n",
      "0    41007   SVC     no     ACC                 0.032947   \n",
      "1    41007   SVC     no     ACC                -0.027107   \n",
      "2    41007   SVC     no     ACC                 0.185739   \n",
      "3    41007   SVC     no     ACC                -0.031538   \n",
      "4    41007   SVC     no     ACC                 0.185026   \n",
      "\n",
      "   node2vec_embedding_dim2  \n",
      "0                 0.025555  \n",
      "1                 0.104762  \n",
      "2                -0.300849  \n",
      "3                 0.090770  \n",
      "4                -0.339091  \n",
      "----------------------------------------\n",
      "----------------------------------------\n",
      "Printing dataframe:\n",
      "   node2vec_embedding_dim1  node2vec_embedding_dim2\n",
      "0                 0.032947                 0.025555\n",
      "1                -0.027107                 0.104762\n",
      "2                 0.185739                -0.300849\n",
      "3                -0.031538                 0.090770\n",
      "4                 0.185026                -0.339091\n",
      "----------------------------------------\n",
      "Finished running the pipeline\n",
      "Evaluation metrics:\n",
      "    validation_rmse: 0.2215 [std=0.]\n",
      "    validation_mae: 0.1804 [std=0.]\n",
      "    validation_r2: -0.0129 [std=0.]\n",
      "    validation_average_spearman: -0.0459 [std=0.]\n"
     ]
    }
   ],
   "source": [
    "pipeline.clear_steps()\n",
    "from src.pipeline.pipeline_transformers import Node2VecEmbedding, PrintDataframe, ColumnKeeper\n",
    "from sklearn.linear_model import LinearRegression\n",
    "n2v_embedddings_transformer = Node2VecEmbedding(graph=graph, walk_length=20, num_walks=1000, workers=1)\n",
    "\n",
    "# add the column transformer to the pipeline\n",
    "pipeline.add_new_step(n2v_embedddings_transformer, \"embeddings_transformer\")\n",
    "\n",
    "pipeline.add_new_step(PrintDataframe(verbose=pipeline._verbose_level), \"print_df_1\")\n",
    "\n",
    "pipeline.add_new_step(ColumnKeeper(columns=[\"node2vec_embedding_dim1\", \"node2vec_embedding_dim2\"]),\n",
    "                                  \"column_keeper\")\n",
    "\n",
    "pipeline.add_new_step(PrintDataframe(verbose=pipeline._verbose_level), \"print_df_2\")\n",
    "\n",
    "print(pipeline.get_pipeline().named_steps)\n",
    "\n",
    "pipeline.change_estimator(LinearRegression())\n",
    "\n",
    "pipeline.run()"
   ]
  },
  {
   "cell_type": "markdown",
   "metadata": {},
   "source": [
    "### Try out Node2Vec with kmeans"
   ]
  },
  {
   "cell_type": "code",
   "execution_count": 5,
   "metadata": {},
   "outputs": [
    {
     "name": "stdout",
     "output_type": "stream",
     "text": [
      "{'embeddings_transformer': Node2VecGraphEmbeddingWithKMeans(graph=<networkx.classes.graph.Graph object at 0x000002753EE5E590>), 'estimator': LinearRegression()}\n"
     ]
    }
   ],
   "source": [
    "pipeline.clear_steps()\n",
    "from src.pipeline.pipeline_transformers import Node2VecGraphEmbeddingWithKMeans\n",
    "\n",
    "n2v_embedddings_transformer = Node2VecGraphEmbeddingWithKMeans(graph=graph)\n",
    "\n",
    "# add the column transformer to the pipeline\n",
    "pipeline.add_new_step(n2v_embedddings_transformer, \"embeddings_transformer\")\n",
    "\n",
    "print(pipeline.get_pipeline().named_steps)"
   ]
  },
  {
   "cell_type": "code",
   "execution_count": 6,
   "metadata": {},
   "outputs": [
    {
     "name": "stdout",
     "output_type": "stream",
     "text": [
      "{'embeddings_transformer': Node2VecGraphEmbeddingWithKMeans(graph=<networkx.classes.graph.Graph object at 0x000002753EE5E590>), 'print_df': PrintDataframe(verbose=1), 'estimator': LinearRegression()}\n"
     ]
    }
   ],
   "source": [
    "# check if the embedding worked\n",
    "from src.pipeline.pipeline_transformers import PrintDataframe\n",
    "pipeline.add_new_step(PrintDataframe(verbose=pipeline._verbose_level), \"print_df\")\n",
    "print(pipeline.get_pipeline().named_steps)"
   ]
  },
  {
   "cell_type": "markdown",
   "metadata": {},
   "source": [
    "As we can see the application of the kmeans encoder worked"
   ]
  },
  {
   "cell_type": "code",
   "execution_count": 7,
   "metadata": {},
   "outputs": [
    {
     "name": "stdout",
     "output_type": "stream",
     "text": [
      "{'embeddings_transformer': Node2VecGraphEmbeddingWithKMeans(graph=<networkx.classes.graph.Graph object at 0x000002753EE5E590>), 'print_df': PrintDataframe(verbose=1), 'column_keeper': ColumnKeeper(columns=['encoder_cluster']), 'print_df_2': PrintDataframe(verbose=1), 'estimator': LinearRegression()}\n",
      "Starting pipeline using method: EvaluationType.BASIC\n"
     ]
    },
    {
     "name": "stderr",
     "output_type": "stream",
     "text": [
      "Computing transition probabilities: 100%|██████████| 45/45 [00:00<00:00, 15028.56it/s]\n",
      "Generating walks (CPU: 1):   0%|          | 0/1000 [00:00<?, ?it/s]"
     ]
    },
    {
     "name": "stderr",
     "output_type": "stream",
     "text": [
      "Generating walks (CPU: 1): 100%|██████████| 1000/1000 [00:02<00:00, 336.45it/s]\n",
      "c:\\Users\\Marco\\Workspace\\phase-2\\venv\\Lib\\site-packages\\sklearn\\cluster\\_kmeans.py:870: FutureWarning: The default value of `n_init` will change from 10 to 'auto' in 1.4. Set the value of `n_init` explicitly to suppress the warning\n",
      "  warnings.warn(\n"
     ]
    },
    {
     "name": "stdout",
     "output_type": "stream",
     "text": [
      "----------------------------------------\n",
      "Printing dataframe:\n",
      "   dataset model tuning scoring  encoder_cluster\n",
      "0    23381    LR  model      F1                3\n",
      "1    23381    LR  model      F1                2\n",
      "2    23381    LR  model      F1                0\n",
      "3    23381    LR  model      F1                2\n",
      "4    23381    LR  model      F1                0\n",
      "----------------------------------------\n",
      "----------------------------------------\n",
      "Printing dataframe:\n",
      "   encoder_cluster\n",
      "0                3\n",
      "1                2\n",
      "2                0\n",
      "3                2\n",
      "4                0\n",
      "----------------------------------------\n"
     ]
    },
    {
     "name": "stderr",
     "output_type": "stream",
     "text": [
      "Computing transition probabilities: 100%|██████████| 45/45 [00:00<00:00, 20686.51it/s]\n",
      "Generating walks (CPU: 1): 100%|██████████| 1000/1000 [00:03<00:00, 314.72it/s]\n",
      "c:\\Users\\Marco\\Workspace\\phase-2\\venv\\Lib\\site-packages\\sklearn\\cluster\\_kmeans.py:870: FutureWarning: The default value of `n_init` will change from 10 to 'auto' in 1.4. Set the value of `n_init` explicitly to suppress the warning\n",
      "  warnings.warn(\n"
     ]
    },
    {
     "name": "stdout",
     "output_type": "stream",
     "text": [
      "----------------------------------------\n",
      "Printing dataframe:\n",
      "   dataset model tuning scoring  encoder_cluster\n",
      "0    41007   SVC     no     ACC                3\n",
      "1    41007   SVC     no     ACC                5\n",
      "2    41007   SVC     no     ACC                1\n",
      "3    41007   SVC     no     ACC                5\n",
      "4    41007   SVC     no     ACC                1\n",
      "----------------------------------------\n",
      "----------------------------------------\n",
      "Printing dataframe:\n",
      "   encoder_cluster\n",
      "0                3\n",
      "1                5\n",
      "2                1\n",
      "3                5\n",
      "4                1\n",
      "----------------------------------------\n"
     ]
    },
    {
     "name": "stderr",
     "output_type": "stream",
     "text": [
      "Computing transition probabilities: 100%|██████████| 45/45 [00:00<00:00, 22655.59it/s]\n",
      "Generating walks (CPU: 1): 100%|██████████| 1000/1000 [00:03<00:00, 329.56it/s]\n",
      "c:\\Users\\Marco\\Workspace\\phase-2\\venv\\Lib\\site-packages\\sklearn\\cluster\\_kmeans.py:870: FutureWarning: The default value of `n_init` will change from 10 to 'auto' in 1.4. Set the value of `n_init` explicitly to suppress the warning\n",
      "  warnings.warn(\n"
     ]
    },
    {
     "name": "stdout",
     "output_type": "stream",
     "text": [
      "----------------------------------------\n",
      "Printing dataframe:\n",
      "   dataset model tuning scoring  encoder_cluster\n",
      "0    23381    LR  model      F1                3\n",
      "1    23381    LR  model      F1                0\n",
      "2    23381    LR  model      F1                5\n",
      "3    23381    LR  model      F1                0\n",
      "4    23381    LR  model      F1                5\n",
      "----------------------------------------\n",
      "----------------------------------------\n",
      "Printing dataframe:\n",
      "   encoder_cluster\n",
      "0                3\n",
      "1                0\n",
      "2                5\n",
      "3                0\n",
      "4                5\n",
      "----------------------------------------\n"
     ]
    },
    {
     "name": "stderr",
     "output_type": "stream",
     "text": [
      "Computing transition probabilities: 100%|██████████| 45/45 [00:00<00:00, 11143.21it/s]\n",
      "Generating walks (CPU: 1): 100%|██████████| 1000/1000 [00:04<00:00, 234.13it/s]\n",
      "c:\\Users\\Marco\\Workspace\\phase-2\\venv\\Lib\\site-packages\\sklearn\\cluster\\_kmeans.py:870: FutureWarning: The default value of `n_init` will change from 10 to 'auto' in 1.4. Set the value of `n_init` explicitly to suppress the warning\n",
      "  warnings.warn(\n"
     ]
    },
    {
     "name": "stdout",
     "output_type": "stream",
     "text": [
      "----------------------------------------\n",
      "Printing dataframe:\n",
      "   dataset model tuning scoring  encoder_cluster\n",
      "0    41007   SVC     no     ACC                0\n",
      "1    41007   SVC     no     ACC                2\n",
      "2    41007   SVC     no     ACC                1\n",
      "3    41007   SVC     no     ACC                2\n",
      "4    41007   SVC     no     ACC                1\n",
      "----------------------------------------\n",
      "----------------------------------------\n",
      "Printing dataframe:\n",
      "   encoder_cluster\n",
      "0                0\n",
      "1                2\n",
      "2                1\n",
      "3                2\n",
      "4                1\n",
      "----------------------------------------\n",
      "Finished running the pipeline\n",
      "Evaluation metrics:\n",
      "    validation_rmse: 0.2206 [std=0.]\n",
      "    validation_mae: 0.178 [std=0.]\n",
      "    validation_r2: -0.0045 [std=0.]\n",
      "    validation_average_spearman: -0.0721 [std=0.]\n"
     ]
    }
   ],
   "source": [
    "# lets try to get a prediction with a regression model\n",
    "from sklearn.linear_model import LinearRegression\n",
    "from sklearn.compose import ColumnTransformer\n",
    "from src.pipeline.pipeline_transformers import ColumnKeeper\n",
    "\n",
    "# only keep selected columns\n",
    "column_keeper = ColumnKeeper(columns=[\"encoder_cluster\"])\n",
    "\n",
    "pipeline.add_new_step(column_keeper, \"column_keeper\")\n",
    "pipeline.add_new_step(PrintDataframe(verbose=pipeline._verbose_level), \"print_df_2\")\n",
    "\n",
    "pipeline.change_estimator(LinearRegression())\n",
    "\n",
    "print(pipeline.get_pipeline().named_steps)\n",
    "pipeline.run()"
   ]
  },
  {
   "cell_type": "markdown",
   "metadata": {},
   "source": [
    "In this test run the pipeline score is a 0.015. As we are using spearmans R as our metric where the best score is 1.0 or -1.0 we can see that we achieved a very poor score."
   ]
  },
  {
   "cell_type": "markdown",
   "metadata": {},
   "source": [
    "### Try out Poincare"
   ]
  },
  {
   "cell_type": "code",
   "execution_count": 8,
   "metadata": {},
   "outputs": [
    {
     "name": "stdout",
     "output_type": "stream",
     "text": [
      "{'embeddings_transformer': PoincareEmbedding(graph=<networkx.classes.graph.Graph object at 0x000002753EE5E590>), 'print_df_1': PrintDataframe(verbose=1), 'column_keeper': ColumnKeeper(columns=['poincare_embedding_dim1', 'poincare_embedding_dim2']), 'print_df_2': PrintDataframe(verbose=1), 'estimator': LinearRegression()}\n",
      "Starting pipeline using method: EvaluationType.BASIC\n",
      "----------------------------------------\n",
      "Printing dataframe:\n",
      "   dataset model tuning scoring  poincare_embedding_dim1  poincare_embedding_dim2\n",
      "0    23381    LR  model      F1                -0.752100                -0.344086\n",
      "1    23381    LR  model      F1                 0.577925                -0.534111\n",
      "2    23381    LR  model      F1                -0.475352                 0.639553\n",
      "3    23381    LR  model      F1                 0.448117                -0.426418\n",
      "4    23381    LR  model      F1                -0.342273                 0.484127\n",
      "----------------------------------------\n",
      "----------------------------------------\n",
      "Printing dataframe:\n",
      "   poincare_embedding_dim1  poincare_embedding_dim2\n",
      "0                -0.752100                -0.344086\n",
      "1                 0.577925                -0.534111\n",
      "2                -0.475352                 0.639553\n",
      "3                 0.448117                -0.426418\n",
      "4                -0.342273                 0.484127\n",
      "----------------------------------------\n",
      "----------------------------------------\n",
      "Printing dataframe:\n",
      "   dataset model tuning scoring  poincare_embedding_dim1  poincare_embedding_dim2\n",
      "0    41007   SVC     no     ACC                -0.752100                -0.344086\n",
      "1    41007   SVC     no     ACC                 0.577925                -0.534111\n",
      "2    41007   SVC     no     ACC                -0.475352                 0.639553\n",
      "3    41007   SVC     no     ACC                 0.448117                -0.426418\n",
      "4    41007   SVC     no     ACC                -0.342273                 0.484127\n",
      "----------------------------------------\n",
      "----------------------------------------\n",
      "Printing dataframe:\n",
      "   poincare_embedding_dim1  poincare_embedding_dim2\n",
      "0                -0.752100                -0.344086\n",
      "1                 0.577925                -0.534111\n",
      "2                -0.475352                 0.639553\n",
      "3                 0.448117                -0.426418\n",
      "4                -0.342273                 0.484127\n",
      "----------------------------------------\n",
      "----------------------------------------\n",
      "Printing dataframe:\n",
      "   dataset model tuning scoring  poincare_embedding_dim1  poincare_embedding_dim2\n",
      "0    23381    LR  model      F1                -0.752100                -0.344086\n",
      "1    23381    LR  model      F1                 0.577925                -0.534111\n",
      "2    23381    LR  model      F1                -0.475352                 0.639553\n",
      "3    23381    LR  model      F1                 0.448117                -0.426418\n",
      "4    23381    LR  model      F1                -0.342273                 0.484127\n",
      "----------------------------------------\n",
      "----------------------------------------\n",
      "Printing dataframe:\n",
      "   poincare_embedding_dim1  poincare_embedding_dim2\n",
      "0                -0.752100                -0.344086\n",
      "1                 0.577925                -0.534111\n",
      "2                -0.475352                 0.639553\n",
      "3                 0.448117                -0.426418\n",
      "4                -0.342273                 0.484127\n",
      "----------------------------------------\n",
      "----------------------------------------\n",
      "Printing dataframe:\n",
      "   dataset model tuning scoring  poincare_embedding_dim1  poincare_embedding_dim2\n",
      "0    41007   SVC     no     ACC                -0.752100                -0.344086\n",
      "1    41007   SVC     no     ACC                 0.577925                -0.534111\n",
      "2    41007   SVC     no     ACC                -0.475352                 0.639553\n",
      "3    41007   SVC     no     ACC                 0.448117                -0.426418\n",
      "4    41007   SVC     no     ACC                -0.342273                 0.484127\n",
      "----------------------------------------\n",
      "----------------------------------------\n",
      "Printing dataframe:\n",
      "   poincare_embedding_dim1  poincare_embedding_dim2\n",
      "0                -0.752100                -0.344086\n",
      "1                 0.577925                -0.534111\n",
      "2                -0.475352                 0.639553\n",
      "3                 0.448117                -0.426418\n",
      "4                -0.342273                 0.484127\n",
      "----------------------------------------\n",
      "Finished running the pipeline\n",
      "Evaluation metrics:\n",
      "    validation_rmse: 0.2206 [std=0.]\n",
      "    validation_mae: 0.1783 [std=0.]\n",
      "    validation_r2: -0.005 [std=0.]\n",
      "    validation_average_spearman: -0.0014 [std=0.]\n"
     ]
    }
   ],
   "source": [
    "pipeline.clear_steps()\n",
    "\n",
    "pd.set_option('display.expand_frame_repr', False)\n",
    "# create poincare transformer\n",
    "from src.pipeline.pipeline_transformers import PoincareEmbedding\n",
    "poincare_embedddings_transformer = PoincareEmbedding(graph=graph, epochs=100)\n",
    "\n",
    "# add the column transformer to the pipeline\n",
    "pipeline.add_new_step(poincare_embedddings_transformer, \"embeddings_transformer\")\n",
    "\n",
    "pipeline.add_new_step(PrintDataframe(verbose=pipeline._verbose_level), \"print_df_1\")\n",
    "\n",
    "pipeline.add_new_step(ColumnKeeper(columns=[\"poincare_embedding_dim1\", \"poincare_embedding_dim2\"]),\n",
    "                                  \"column_keeper\")\n",
    "\n",
    "pipeline.add_new_step(PrintDataframe(verbose=pipeline._verbose_level), \"print_df_2\")\n",
    "\n",
    "print(pipeline.get_pipeline().named_steps)\n",
    "\n",
    "pipeline.run()"
   ]
  }
 ],
 "metadata": {
  "kernelspec": {
   "display_name": "venv",
   "language": "python",
   "name": "python3"
  },
  "language_info": {
   "codemirror_mode": {
    "name": "ipython",
    "version": 3
   },
   "file_extension": ".py",
   "mimetype": "text/x-python",
   "name": "python",
   "nbconvert_exporter": "python",
   "pygments_lexer": "ipython3",
   "version": "3.11.3"
  },
  "orig_nbformat": 4
 },
 "nbformat": 4,
 "nbformat_minor": 2
}
