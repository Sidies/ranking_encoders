{
 "cells": [
  {
   "cell_type": "code",
   "execution_count": 1,
   "metadata": {},
   "outputs": [
    {
     "name": "stdout",
     "output_type": "stream",
     "text": [
      "Starting pipeline using method: EvaluationType.GRID_SEARCH\n",
      "Performing grid search\n"
     ]
    },
    {
     "name": "stderr",
     "output_type": "stream",
     "text": [
      "100%|██████████| 3/3 [01:18<00:00, 26.12s/it]"
     ]
    },
    {
     "name": "stdout",
     "output_type": "stream",
     "text": [
      "Finished running the pipeline\n",
      "Evaluation metrics:\n",
      "    best_score: 0.1591\n",
      "    best_params: {'embeddings_transformer__epochs': 500, 'embeddings_transformer__batch_size': 20}\n",
      "    results_per_parameter: [({'embeddings_transformer__epochs': 500, 'embeddings_transformer__batch_size': 10}, 0.15471857580296203), ({'embeddings_transformer__epochs': 500, 'embeddings_transformer__batch_size': 20}, 0.15908465112644707), ({'embeddings_transformer__epochs': 500, 'embeddings_transformer__batch_size': 50}, 0.15908465112644707)]\n"
     ]
    },
    {
     "name": "stderr",
     "output_type": "stream",
     "text": [
      "\n"
     ]
    }
   ],
   "source": [
    "# imports\n",
    "import os\n",
    "import pandas as pd\n",
    "from src import configuration as config\n",
    "from src.pipeline.pipeline_factory import PipelineFactory, ModelType, EvaluationType\n",
    "from lightgbm import LGBMRegressor\n",
    "from src.pipeline.pipeline_factory import PipelineFactory\n",
    "from src.features.encoder_utils import load_graph\n",
    "from src.pipeline.pipeline_transformers import PoincareEmbedding, ColumnKeeper\n",
    "\n",
    "\n",
    "train_df = config.load_traindata_for_regression()\n",
    "pipelineFactory = PipelineFactory()\n",
    "\n",
    "graph = load_graph(config.ROOT_DIR / \"data/external/graphs/encodings_graph.adjlist\")\n",
    "\n",
    "\n",
    "param_grid = {\n",
    "    \"embeddings_transformer__epochs\": [500],\n",
    "    \"embeddings_transformer__batch_size\": [10, 20, 50],\n",
    "}\n",
    "\n",
    "grid_pipeline = pipelineFactory.create_pipeline(train_df,\n",
    "                                                ModelType.REGRE_BASELINE,\n",
    "                                                verbose_level=1,\n",
    "                                                evaluation=EvaluationType.GRID_SEARCH,\n",
    "                                                param_grid=param_grid,\n",
    "                                                n_folds=2,\n",
    "                                                workers=8)\n",
    "\n",
    "poincare_embedddings_transformer = PoincareEmbedding(graph=graph)\n",
    "grid_pipeline.add_new_step(poincare_embedddings_transformer, \"embeddings_transformer\")\n",
    "grid_pipeline.add_new_step(ColumnKeeper(columns=[\"poincare_embedding_dim1\", \"poincare_embedding_dim2\"]), \"column_keeper\")\n",
    "#grid_pipeline.add_new_step(PrintDataframe(verbose=grid_pipeline._verbose_level), \"print_df_1\")\n",
    "grid_pipeline.change_estimator(LGBMRegressor())\n",
    "\n",
    "\n",
    "grid_pipeline.run()\n"
   ]
  }
 ],
 "metadata": {
  "kernelspec": {
   "display_name": "venv",
   "language": "python",
   "name": "python3"
  },
  "language_info": {
   "codemirror_mode": {
    "name": "ipython",
    "version": 3
   },
   "file_extension": ".py",
   "mimetype": "text/x-python",
   "name": "python",
   "nbconvert_exporter": "python",
   "pygments_lexer": "ipython3",
   "version": "3.11.3"
  },
  "orig_nbformat": 4
 },
 "nbformat": 4,
 "nbformat_minor": 2
}
