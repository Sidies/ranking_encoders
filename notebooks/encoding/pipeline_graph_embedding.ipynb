{
 "cells": [
  {
   "cell_type": "markdown",
   "metadata": {},
   "source": [
    "# Pipeline Graph Embeddings\n",
    "The purpose of this notebook is to apply graph embeddings in our pipeline"
   ]
  },
  {
   "cell_type": "code",
   "execution_count": 6,
   "metadata": {},
   "outputs": [],
   "source": [
    "# imports\n",
    "import os\n",
    "import pandas as pd\n",
    "from src import configuration as config\n",
    "from src.pipeline.pipeline_factory import PipelineFactory, ModelType, EvaluationType"
   ]
  },
  {
   "cell_type": "code",
   "execution_count": 7,
   "metadata": {},
   "outputs": [
    {
     "name": "stdout",
     "output_type": "stream",
     "text": [
      "Starting pipeline using method: EvaluationType.BASIC\n",
      "0.0\n",
      "Finished running the pipeline\n"
     ]
    }
   ],
   "source": [
    "# load the data\n",
    "train_df = config.load_traindata_for_regression()\n",
    "pipelineFactory = PipelineFactory()\n",
    "\n",
    "# create the baseline pipeline\n",
    "pipeline = pipelineFactory.create_pipeline(train_df,\n",
    "                                            ModelType.REGRE_BASELINE,\n",
    "                                            verbose_level=1,\n",
    "                                            evaluation=EvaluationType.BASIC)\n",
    "pipeline.run()"
   ]
  },
  {
   "cell_type": "code",
   "execution_count": 8,
   "metadata": {},
   "outputs": [],
   "source": [
    "from src.features.encoder_utils import load_graph\n",
    "graph = load_graph(config.ROOT_DIR / \"data/external/graphs/encodings_graph.adjlist\")"
   ]
  },
  {
   "cell_type": "markdown",
   "metadata": {},
   "source": [
    "### Try out Node2Vec"
   ]
  },
  {
   "cell_type": "code",
   "execution_count": 9,
   "metadata": {},
   "outputs": [
    {
     "name": "stdout",
     "output_type": "stream",
     "text": [
      "{'embeddings_transformer': Node2VecEmbedding(graph=<networkx.classes.graph.Graph object at 0x000002A0905FC550>), 'print_df_1': PrintDataframe(verbose=1), 'column_keeper': ColumnKeeper(columns=['node2vec_embedding_dim1', 'node2vec_embedding_dim2']), 'print_df_2': PrintDataframe(verbose=1), 'estimator': DummyRegressor()}\n",
      "Starting pipeline using method: EvaluationType.BASIC\n"
     ]
    },
    {
     "name": "stderr",
     "output_type": "stream",
     "text": [
      "Computing transition probabilities: 100%|██████████| 45/45 [00:00<00:00, 5287.09it/s]\n",
      "Generating walks (CPU: 1): 100%|██████████| 10/10 [00:00<00:00, 49.00it/s]\n"
     ]
    },
    {
     "name": "stdout",
     "output_type": "stream",
     "text": [
      "<class 'pandas.core.frame.DataFrame'>\n",
      "----------------------------------------\n",
      "Printing dataframe:\n",
      "   dataset model tuning scoring       encoder  node2vec_embedding_dim1  \\\n",
      "0    23381    LR  model      F1            BE                 0.135819   \n",
      "1    23381    LR  model      F1  BUCV10RGLMME                -0.125350   \n",
      "2    23381    LR  model      F1      BUCV10TE                -0.052346   \n",
      "3    23381    LR  model      F1   BUCV2RGLMME                -0.142361   \n",
      "4    23381    LR  model      F1       BUCV2TE                -0.062420   \n",
      "\n",
      "   node2vec_embedding_dim2  \n",
      "0                 0.172843  \n",
      "1                -0.050254  \n",
      "2                -0.065892  \n",
      "3                -0.024288  \n",
      "4                -0.053443  \n",
      "----------------------------------------\n",
      "----------------------------------------\n",
      "Printing dataframe:\n",
      "   node2vec_embedding_dim1  node2vec_embedding_dim2\n",
      "0                 0.135819                 0.172843\n",
      "1                -0.125350                -0.050254\n",
      "2                -0.052346                -0.065892\n",
      "3                -0.142361                -0.024288\n",
      "4                -0.062420                -0.053443\n",
      "----------------------------------------\n"
     ]
    },
    {
     "name": "stderr",
     "output_type": "stream",
     "text": [
      "Computing transition probabilities: 100%|██████████| 45/45 [00:00<00:00, 5329.48it/s]\n",
      "Generating walks (CPU: 1): 100%|██████████| 10/10 [00:00<00:00, 53.39it/s]\n"
     ]
    },
    {
     "name": "stdout",
     "output_type": "stream",
     "text": [
      "<class 'pandas.core.frame.DataFrame'>\n",
      "----------------------------------------\n",
      "Printing dataframe:\n",
      "   dataset model tuning scoring       encoder  node2vec_embedding_dim1  \\\n",
      "0    41007   SVC     no     ACC            BE                 0.251390   \n",
      "1    41007   SVC     no     ACC  BUCV10RGLMME                -0.157840   \n",
      "2    41007   SVC     no     ACC      BUCV10TE                 0.134794   \n",
      "3    41007   SVC     no     ACC   BUCV2RGLMME                -0.129164   \n",
      "4    41007   SVC     no     ACC       BUCV2TE                 0.088115   \n",
      "\n",
      "   node2vec_embedding_dim2  \n",
      "0                -0.175512  \n",
      "1                -0.308738  \n",
      "2                -0.119933  \n",
      "3                -0.325769  \n",
      "4                -0.115201  \n",
      "----------------------------------------\n",
      "----------------------------------------\n",
      "Printing dataframe:\n",
      "   node2vec_embedding_dim1  node2vec_embedding_dim2\n",
      "0                 0.251390                -0.175512\n",
      "1                -0.157840                -0.308738\n",
      "2                 0.134794                -0.119933\n",
      "3                -0.129164                -0.325769\n",
      "4                 0.088115                -0.115201\n",
      "----------------------------------------\n",
      "0.0\n",
      "Finished running the pipeline\n"
     ]
    }
   ],
   "source": [
    "pipeline.clear_steps()\n",
    "from src.pipeline.pipeline_transformers import Node2VecEmbedding, PrintDataframe, ColumnKeeper\n",
    "embedddings_transformer = Node2VecEmbedding(graph=graph)\n",
    "\n",
    "# add the column transformer to the pipeline\n",
    "pipeline.add_new_step(embedddings_transformer, \"embeddings_transformer\")\n",
    "\n",
    "pipeline.add_new_step(PrintDataframe(verbose=pipeline._verbose_level), \"print_df_1\")\n",
    "\n",
    "pipeline.add_new_step(ColumnKeeper(columns=[\"node2vec_embedding_dim1\", \"node2vec_embedding_dim2\"]),\n",
    "                                  \"column_keeper\")\n",
    "\n",
    "pipeline.add_new_step(PrintDataframe(verbose=pipeline._verbose_level), \"print_df_2\")\n",
    "\n",
    "print(pipeline.get_pipeline().named_steps)\n",
    "\n",
    "pipeline.run()"
   ]
  },
  {
   "cell_type": "markdown",
   "metadata": {},
   "source": [
    "### Try out Node2Vec with kmeans"
   ]
  },
  {
   "cell_type": "code",
   "execution_count": 10,
   "metadata": {},
   "outputs": [
    {
     "name": "stdout",
     "output_type": "stream",
     "text": [
      "{'embeddings_transformer': Node2VecGraphEmbeddingWithKMeans(graph=<networkx.classes.graph.Graph object at 0x000002A0905FC550>), 'estimator': DummyRegressor()}\n"
     ]
    }
   ],
   "source": [
    "pipeline.clear_steps()\n",
    "from src.pipeline.pipeline_transformers import Node2VecGraphEmbeddingWithKMeans\n",
    "\n",
    "embedddings_transformer = Node2VecGraphEmbeddingWithKMeans(graph=graph)\n",
    "\n",
    "# add the column transformer to the pipeline\n",
    "pipeline.add_new_step(embedddings_transformer, \"embeddings_transformer\")\n",
    "\n",
    "print(pipeline.get_pipeline().named_steps)"
   ]
  },
  {
   "cell_type": "code",
   "execution_count": 11,
   "metadata": {},
   "outputs": [
    {
     "name": "stdout",
     "output_type": "stream",
     "text": [
      "{'embeddings_transformer': Node2VecGraphEmbeddingWithKMeans(graph=<networkx.classes.graph.Graph object at 0x000002A0905FC550>), 'print_df': PrintDataframe(verbose=1), 'estimator': DummyRegressor()}\n",
      "Starting pipeline using method: EvaluationType.BASIC\n"
     ]
    },
    {
     "name": "stderr",
     "output_type": "stream",
     "text": [
      "Computing transition probabilities: 100%|██████████| 45/45 [00:00<00:00, 5615.03it/s]\n",
      "Generating walks (CPU: 1): 100%|██████████| 10/10 [00:00<00:00, 53.67it/s]\n",
      "c:\\Users\\Marco\\Workspace\\phase-2\\venv\\Lib\\site-packages\\sklearn\\cluster\\_kmeans.py:870: FutureWarning: The default value of `n_init` will change from 10 to 'auto' in 1.4. Set the value of `n_init` explicitly to suppress the warning\n",
      "  warnings.warn(\n"
     ]
    },
    {
     "name": "stdout",
     "output_type": "stream",
     "text": [
      "----------------------------------------\n",
      "Printing dataframe:\n",
      "   dataset model tuning scoring       encoder  encoder_cluster\n",
      "0    23381    LR  model      F1            BE                2\n",
      "1    23381    LR  model      F1  BUCV10RGLMME                1\n",
      "2    23381    LR  model      F1      BUCV10TE                0\n",
      "3    23381    LR  model      F1   BUCV2RGLMME                1\n",
      "4    23381    LR  model      F1       BUCV2TE                0\n",
      "----------------------------------------\n"
     ]
    },
    {
     "name": "stderr",
     "output_type": "stream",
     "text": [
      "Computing transition probabilities: 100%|██████████| 45/45 [00:00<00:00, 5108.50it/s]\n",
      "Generating walks (CPU: 1): 100%|██████████| 10/10 [00:00<00:00, 54.73it/s]\n",
      "c:\\Users\\Marco\\Workspace\\phase-2\\venv\\Lib\\site-packages\\sklearn\\cluster\\_kmeans.py:870: FutureWarning: The default value of `n_init` will change from 10 to 'auto' in 1.4. Set the value of `n_init` explicitly to suppress the warning\n",
      "  warnings.warn(\n"
     ]
    },
    {
     "name": "stdout",
     "output_type": "stream",
     "text": [
      "----------------------------------------\n",
      "Printing dataframe:\n",
      "   dataset model tuning scoring       encoder  encoder_cluster\n",
      "0    41007   SVC     no     ACC            BE                2\n",
      "1    41007   SVC     no     ACC  BUCV10RGLMME                3\n",
      "2    41007   SVC     no     ACC      BUCV10TE                1\n",
      "3    41007   SVC     no     ACC   BUCV2RGLMME                3\n",
      "4    41007   SVC     no     ACC       BUCV2TE                1\n",
      "----------------------------------------\n",
      "0.0\n",
      "Finished running the pipeline\n"
     ]
    }
   ],
   "source": [
    "# check if the embedding worked\n",
    "from src.pipeline.pipeline_transformers import PrintDataframe\n",
    "pipeline.add_new_step(PrintDataframe(verbose=pipeline._verbose_level), \"print_df\")\n",
    "print(pipeline.get_pipeline().named_steps)\n",
    "\n",
    "pipeline.run()"
   ]
  },
  {
   "cell_type": "markdown",
   "metadata": {},
   "source": [
    "As we can see the application of the kmeans encoder worked"
   ]
  },
  {
   "cell_type": "code",
   "execution_count": 12,
   "metadata": {},
   "outputs": [
    {
     "name": "stdout",
     "output_type": "stream",
     "text": [
      "{'embeddings_transformer': Node2VecGraphEmbeddingWithKMeans(graph=<networkx.classes.graph.Graph object at 0x000002A0905FC550>), 'print_df': PrintDataframe(verbose=1), 'column_keeper': ColumnKeeper(columns=['encoder_cluster']), 'print_df_2': PrintDataframe(verbose=1), 'estimator': LinearRegression()}\n",
      "Starting pipeline using method: EvaluationType.BASIC\n"
     ]
    },
    {
     "name": "stderr",
     "output_type": "stream",
     "text": [
      "Computing transition probabilities: 100%|██████████| 45/45 [00:00<?, ?it/s]\n",
      "Generating walks (CPU: 1): 100%|██████████| 10/10 [00:00<00:00, 54.96it/s]\n",
      "c:\\Users\\Marco\\Workspace\\phase-2\\venv\\Lib\\site-packages\\sklearn\\cluster\\_kmeans.py:870: FutureWarning: The default value of `n_init` will change from 10 to 'auto' in 1.4. Set the value of `n_init` explicitly to suppress the warning\n",
      "  warnings.warn(\n"
     ]
    },
    {
     "name": "stdout",
     "output_type": "stream",
     "text": [
      "----------------------------------------\n",
      "Printing dataframe:\n",
      "   dataset model tuning scoring       encoder  encoder_cluster\n",
      "0    23381    LR  model      F1            BE                2\n",
      "1    23381    LR  model      F1  BUCV10RGLMME                1\n",
      "2    23381    LR  model      F1      BUCV10TE                3\n",
      "3    23381    LR  model      F1   BUCV2RGLMME                1\n",
      "4    23381    LR  model      F1       BUCV2TE                3\n",
      "----------------------------------------\n",
      "----------------------------------------\n",
      "Printing dataframe:\n",
      "   encoder_cluster\n",
      "0                2\n",
      "1                1\n",
      "2                3\n",
      "3                1\n",
      "4                3\n",
      "----------------------------------------\n"
     ]
    },
    {
     "name": "stderr",
     "output_type": "stream",
     "text": [
      "Computing transition probabilities: 100%|██████████| 45/45 [00:00<?, ?it/s]\n",
      "Generating walks (CPU: 1): 100%|██████████| 10/10 [00:00<00:00, 48.12it/s]\n",
      "c:\\Users\\Marco\\Workspace\\phase-2\\venv\\Lib\\site-packages\\sklearn\\cluster\\_kmeans.py:870: FutureWarning: The default value of `n_init` will change from 10 to 'auto' in 1.4. Set the value of `n_init` explicitly to suppress the warning\n",
      "  warnings.warn(\n"
     ]
    },
    {
     "name": "stdout",
     "output_type": "stream",
     "text": [
      "----------------------------------------\n",
      "Printing dataframe:\n",
      "   dataset model tuning scoring       encoder  encoder_cluster\n",
      "0    41007   SVC     no     ACC            BE                0\n",
      "1    41007   SVC     no     ACC  BUCV10RGLMME                3\n",
      "2    41007   SVC     no     ACC      BUCV10TE                2\n",
      "3    41007   SVC     no     ACC   BUCV2RGLMME                3\n",
      "4    41007   SVC     no     ACC       BUCV2TE                2\n",
      "----------------------------------------\n",
      "----------------------------------------\n",
      "Printing dataframe:\n",
      "   encoder_cluster\n",
      "0                0\n",
      "1                3\n",
      "2                2\n",
      "3                3\n",
      "4                2\n",
      "----------------------------------------\n",
      "0.05638620570951227\n",
      "Finished running the pipeline\n"
     ]
    }
   ],
   "source": [
    "# lets try to get a prediction with a regression model\n",
    "from sklearn.linear_model import LinearRegression\n",
    "from sklearn.compose import ColumnTransformer\n",
    "from src.pipeline.pipeline_transformers import ColumnKeeper\n",
    "\n",
    "# only keep selected columns\n",
    "column_keeper = ColumnKeeper(columns=[\"encoder_cluster\"])\n",
    "\n",
    "pipeline.add_new_step(column_keeper, \"column_keeper\")\n",
    "pipeline.add_new_step(PrintDataframe(verbose=pipeline._verbose_level), \"print_df_2\")\n",
    "\n",
    "pipeline.change_estimator(LinearRegression())\n",
    "\n",
    "print(pipeline.get_pipeline().named_steps)\n",
    "pipeline.run()"
   ]
  },
  {
   "cell_type": "markdown",
   "metadata": {},
   "source": [
    "In this test run the pipeline score is a 0.071. As we are using spearmans R as our metric where the best score is 1.0 or -1.0 we can see that we achieved a very poor score."
   ]
  },
  {
   "cell_type": "markdown",
   "metadata": {},
   "source": [
    "### Try out Poincare"
   ]
  },
  {
   "cell_type": "code",
   "execution_count": 13,
   "metadata": {},
   "outputs": [
    {
     "name": "stdout",
     "output_type": "stream",
     "text": [
      "{'embeddings_transformer': PoincareEmbedding(graph=<networkx.classes.graph.Graph object at 0x000002A0905FC550>), 'print_df_1': PrintDataframe(verbose=1), 'column_keeper': ColumnKeeper(columns=['poincare_embedding_dim1', 'poincare_embedding_dim2']), 'print_df_2': PrintDataframe(verbose=1), 'estimator': LinearRegression()}\n",
      "Starting pipeline using method: EvaluationType.BASIC\n",
      "<class 'pandas.core.frame.DataFrame'>\n",
      "----------------------------------------\n",
      "Printing dataframe:\n",
      "   dataset model tuning scoring       encoder  poincare_embedding_dim1  \\\n",
      "0    23381    LR  model      F1            BE                -0.752100   \n",
      "1    23381    LR  model      F1  BUCV10RGLMME                 0.577925   \n",
      "2    23381    LR  model      F1      BUCV10TE                -0.475352   \n",
      "3    23381    LR  model      F1   BUCV2RGLMME                 0.448117   \n",
      "4    23381    LR  model      F1       BUCV2TE                -0.342273   \n",
      "\n",
      "   poincare_embedding_dim2  \n",
      "0                -0.344086  \n",
      "1                -0.534111  \n",
      "2                 0.639553  \n",
      "3                -0.426418  \n",
      "4                 0.484127  \n",
      "----------------------------------------\n",
      "----------------------------------------\n",
      "Printing dataframe:\n",
      "   poincare_embedding_dim1  poincare_embedding_dim2\n",
      "0                -0.752100                -0.344086\n",
      "1                 0.577925                -0.534111\n",
      "2                -0.475352                 0.639553\n",
      "3                 0.448117                -0.426418\n",
      "4                -0.342273                 0.484127\n",
      "----------------------------------------\n",
      "<class 'pandas.core.frame.DataFrame'>\n",
      "----------------------------------------\n",
      "Printing dataframe:\n",
      "   dataset model tuning scoring       encoder  poincare_embedding_dim1  \\\n",
      "0    41007   SVC     no     ACC            BE                -0.752100   \n",
      "1    41007   SVC     no     ACC  BUCV10RGLMME                 0.577925   \n",
      "2    41007   SVC     no     ACC      BUCV10TE                -0.475352   \n",
      "3    41007   SVC     no     ACC   BUCV2RGLMME                 0.448117   \n",
      "4    41007   SVC     no     ACC       BUCV2TE                -0.342273   \n",
      "\n",
      "   poincare_embedding_dim2  \n",
      "0                -0.344086  \n",
      "1                -0.534111  \n",
      "2                 0.639553  \n",
      "3                -0.426418  \n",
      "4                 0.484127  \n",
      "----------------------------------------\n",
      "----------------------------------------\n",
      "Printing dataframe:\n",
      "   poincare_embedding_dim1  poincare_embedding_dim2\n",
      "0                -0.752100                -0.344086\n",
      "1                 0.577925                -0.534111\n",
      "2                -0.475352                 0.639553\n",
      "3                 0.448117                -0.426418\n",
      "4                -0.342273                 0.484127\n",
      "----------------------------------------\n",
      "-0.001350497831187556\n",
      "Finished running the pipeline\n"
     ]
    }
   ],
   "source": [
    "pipeline.clear_steps()\n",
    "\n",
    "# create poincare transformer\n",
    "from src.pipeline.pipeline_transformers import PoincareEmbedding\n",
    "embedddings_transformer = PoincareEmbedding(graph=graph)\n",
    "\n",
    "# add the column transformer to the pipeline\n",
    "pipeline.add_new_step(embedddings_transformer, \"embeddings_transformer\")\n",
    "\n",
    "pipeline.add_new_step(PrintDataframe(verbose=pipeline._verbose_level), \"print_df_1\")\n",
    "\n",
    "pipeline.add_new_step(ColumnKeeper(columns=[\"poincare_embedding_dim1\", \"poincare_embedding_dim2\"]),\n",
    "                                  \"column_keeper\")\n",
    "\n",
    "pipeline.add_new_step(PrintDataframe(verbose=pipeline._verbose_level), \"print_df_2\")\n",
    "\n",
    "print(pipeline.get_pipeline().named_steps)\n",
    "\n",
    "pipeline.run()"
   ]
  }
 ],
 "metadata": {
  "kernelspec": {
   "display_name": "venv",
   "language": "python",
   "name": "python3"
  },
  "language_info": {
   "codemirror_mode": {
    "name": "ipython",
    "version": 3
   },
   "file_extension": ".py",
   "mimetype": "text/x-python",
   "name": "python",
   "nbconvert_exporter": "python",
   "pygments_lexer": "ipython3",
   "version": "3.11.3"
  },
  "orig_nbformat": 4
 },
 "nbformat": 4,
 "nbformat_minor": 2
}
