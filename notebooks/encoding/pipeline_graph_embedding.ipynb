{
 "cells": [
  {
   "cell_type": "markdown",
   "metadata": {},
   "source": [
    "# Pipeline Graph Embeddings\n",
    "The purpose of this notebook is to apply graph embeddings in our pipeline"
   ]
  },
  {
   "cell_type": "code",
   "execution_count": 1,
   "metadata": {},
   "outputs": [],
   "source": [
    "# imports\n",
    "import os\n",
    "import pandas as pd\n",
    "from src import configuration as config\n",
    "from src.pipeline.pipeline_factory import PipelineFactory, ModelType, EvaluationType"
   ]
  },
  {
   "cell_type": "code",
   "execution_count": 2,
   "metadata": {},
   "outputs": [
    {
     "name": "stdout",
     "output_type": "stream",
     "text": [
      "Starting pipeline using method: EvaluationType.BASIC\n",
      "0.0\n",
      "Finished running the pipeline\n"
     ]
    }
   ],
   "source": [
    "# load the data\n",
    "train_df = config.load_traindata_for_regression()\n",
    "pipelineFactory = PipelineFactory()\n",
    "\n",
    "# create the baseline pipeline\n",
    "pipeline = pipelineFactory.create_pipeline(train_df,\n",
    "                                            ModelType.REGRE_BASELINE,\n",
    "                                            verbose_level=1,\n",
    "                                            evaluation=EvaluationType.BASIC)\n",
    "pipeline.run()"
   ]
  },
  {
   "cell_type": "code",
   "execution_count": 3,
   "metadata": {},
   "outputs": [],
   "source": [
    "from src.features.encoder_utils import load_graph\n",
    "graph = load_graph(config.ROOT_DIR / \"data/external/graphs/encodings_graph.adjlist\")"
   ]
  },
  {
   "cell_type": "markdown",
   "metadata": {},
   "source": [
    "### Try out Node2Vec"
   ]
  },
  {
   "cell_type": "code",
   "execution_count": 4,
   "metadata": {},
   "outputs": [
    {
     "name": "stderr",
     "output_type": "stream",
     "text": [
      "c:\\Users\\Marco\\Workspace\\phase-2\\venv\\Lib\\site-packages\\tqdm\\auto.py:21: TqdmWarning: IProgress not found. Please update jupyter and ipywidgets. See https://ipywidgets.readthedocs.io/en/stable/user_install.html\n",
      "  from .autonotebook import tqdm as notebook_tqdm\n"
     ]
    },
    {
     "name": "stdout",
     "output_type": "stream",
     "text": [
      "{'embeddings_transformer': Node2VecEmbedding(graph=<networkx.classes.graph.Graph object at 0x00000230EF1DB5D0>), 'print_df_1': PrintDataframe(verbose=1), 'column_keeper': ColumnKeeper(columns=['node2vec_embedding_dim1', 'node2vec_embedding_dim2']), 'print_df_2': PrintDataframe(verbose=1), 'estimator': DummyRegressor()}\n",
      "Starting pipeline using method: EvaluationType.BASIC\n"
     ]
    },
    {
     "name": "stderr",
     "output_type": "stream",
     "text": [
      "Computing transition probabilities: 100%|██████████| 45/45 [00:00<00:00, 8887.49it/s]\n",
      "Generating walks (CPU: 1): 100%|██████████| 1000/1000 [00:02<00:00, 370.60it/s]\n"
     ]
    },
    {
     "name": "stdout",
     "output_type": "stream",
     "text": [
      "----------------------------------------\n",
      "Printing dataframe:\n",
      "   dataset model tuning scoring       encoder  node2vec_embedding_dim1  \\\n",
      "0    23381    LR  model      F1            BE                 0.100951   \n",
      "1    23381    LR  model      F1  BUCV10RGLMME                 0.118281   \n",
      "2    23381    LR  model      F1      BUCV10TE                 0.013031   \n",
      "3    23381    LR  model      F1   BUCV2RGLMME                 0.101640   \n",
      "4    23381    LR  model      F1       BUCV2TE                 0.054745   \n",
      "\n",
      "   node2vec_embedding_dim2  \n",
      "0                -0.272107  \n",
      "1                -0.199546  \n",
      "2                -0.405323  \n",
      "3                -0.229024  \n",
      "4                -0.402038  \n",
      "----------------------------------------\n",
      "----------------------------------------\n",
      "Printing dataframe:\n",
      "   node2vec_embedding_dim1  node2vec_embedding_dim2\n",
      "0                 0.100951                -0.272107\n",
      "1                 0.118281                -0.199546\n",
      "2                 0.013031                -0.405323\n",
      "3                 0.101640                -0.229024\n",
      "4                 0.054745                -0.402038\n",
      "----------------------------------------\n"
     ]
    },
    {
     "name": "stderr",
     "output_type": "stream",
     "text": [
      "Computing transition probabilities: 100%|██████████| 45/45 [00:00<00:00, 21812.51it/s]\n",
      "Generating walks (CPU: 1): 100%|██████████| 1000/1000 [00:03<00:00, 330.69it/s]\n"
     ]
    },
    {
     "name": "stdout",
     "output_type": "stream",
     "text": [
      "----------------------------------------\n",
      "Printing dataframe:\n",
      "   dataset model tuning scoring       encoder  node2vec_embedding_dim1  \\\n",
      "0    41007   SVC     no     ACC            BE                 0.240203   \n",
      "1    41007   SVC     no     ACC  BUCV10RGLMME                -0.159595   \n",
      "2    41007   SVC     no     ACC      BUCV10TE                -0.177312   \n",
      "3    41007   SVC     no     ACC   BUCV2RGLMME                -0.130307   \n",
      "4    41007   SVC     no     ACC       BUCV2TE                -0.197548   \n",
      "\n",
      "   node2vec_embedding_dim2  \n",
      "0                -0.165489  \n",
      "1                -0.188830  \n",
      "2                -0.003950  \n",
      "3                -0.156800  \n",
      "4                 0.029463  \n",
      "----------------------------------------\n",
      "----------------------------------------\n",
      "Printing dataframe:\n",
      "   node2vec_embedding_dim1  node2vec_embedding_dim2\n",
      "0                 0.240203                -0.165489\n",
      "1                -0.159595                -0.188830\n",
      "2                -0.177312                -0.003950\n",
      "3                -0.130307                -0.156800\n",
      "4                -0.197548                 0.029463\n",
      "----------------------------------------\n",
      "0.0\n",
      "Finished running the pipeline\n"
     ]
    }
   ],
   "source": [
    "pipeline.clear_steps()\n",
    "from src.pipeline.pipeline_transformers import Node2VecEmbedding, PrintDataframe, ColumnKeeper\n",
    "n2v_embedddings_transformer = Node2VecEmbedding(graph=graph, walk_length=20, num_walks=1000, workers=1)\n",
    "\n",
    "# add the column transformer to the pipeline\n",
    "pipeline.add_new_step(n2v_embedddings_transformer, \"embeddings_transformer\")\n",
    "\n",
    "pipeline.add_new_step(PrintDataframe(verbose=pipeline._verbose_level), \"print_df_1\")\n",
    "\n",
    "pipeline.add_new_step(ColumnKeeper(columns=[\"node2vec_embedding_dim1\", \"node2vec_embedding_dim2\"]),\n",
    "                                  \"column_keeper\")\n",
    "\n",
    "pipeline.add_new_step(PrintDataframe(verbose=pipeline._verbose_level), \"print_df_2\")\n",
    "\n",
    "print(pipeline.get_pipeline().named_steps)\n",
    "\n",
    "pipeline.run()"
   ]
  },
  {
   "cell_type": "markdown",
   "metadata": {},
   "source": [
    "### Try out Node2Vec with kmeans"
   ]
  },
  {
   "cell_type": "code",
   "execution_count": 5,
   "metadata": {},
   "outputs": [
    {
     "name": "stdout",
     "output_type": "stream",
     "text": [
      "{'embeddings_transformer': Node2VecGraphEmbeddingWithKMeans(graph=<networkx.classes.graph.Graph object at 0x00000230EF1DB5D0>), 'estimator': DummyRegressor()}\n"
     ]
    }
   ],
   "source": [
    "pipeline.clear_steps()\n",
    "from src.pipeline.pipeline_transformers import Node2VecGraphEmbeddingWithKMeans\n",
    "\n",
    "n2v_embedddings_transformer = Node2VecGraphEmbeddingWithKMeans(graph=graph)\n",
    "\n",
    "# add the column transformer to the pipeline\n",
    "pipeline.add_new_step(n2v_embedddings_transformer, \"embeddings_transformer\")\n",
    "\n",
    "print(pipeline.get_pipeline().named_steps)"
   ]
  },
  {
   "cell_type": "code",
   "execution_count": 6,
   "metadata": {},
   "outputs": [
    {
     "name": "stdout",
     "output_type": "stream",
     "text": [
      "{'embeddings_transformer': Node2VecGraphEmbeddingWithKMeans(graph=<networkx.classes.graph.Graph object at 0x00000230EF1DB5D0>), 'print_df': PrintDataframe(verbose=1), 'estimator': DummyRegressor()}\n",
      "Starting pipeline using method: EvaluationType.BASIC\n"
     ]
    },
    {
     "name": "stderr",
     "output_type": "stream",
     "text": [
      "Computing transition probabilities: 100%|██████████| 45/45 [00:00<00:00, 22408.13it/s]\n",
      "Generating walks (CPU: 1):   0%|          | 0/10 [00:00<?, ?it/s]"
     ]
    },
    {
     "name": "stderr",
     "output_type": "stream",
     "text": [
      "Generating walks (CPU: 1): 100%|██████████| 10/10 [00:00<00:00, 69.86it/s]\n",
      "c:\\Users\\Marco\\Workspace\\phase-2\\venv\\Lib\\site-packages\\sklearn\\cluster\\_kmeans.py:870: FutureWarning: The default value of `n_init` will change from 10 to 'auto' in 1.4. Set the value of `n_init` explicitly to suppress the warning\n",
      "  warnings.warn(\n"
     ]
    },
    {
     "name": "stdout",
     "output_type": "stream",
     "text": [
      "----------------------------------------\n",
      "Printing dataframe:\n",
      "   dataset model tuning scoring       encoder  encoder_cluster\n",
      "0    23381    LR  model      F1            BE                1\n",
      "1    23381    LR  model      F1  BUCV10RGLMME                2\n",
      "2    23381    LR  model      F1      BUCV10TE                3\n",
      "3    23381    LR  model      F1   BUCV2RGLMME                2\n",
      "4    23381    LR  model      F1       BUCV2TE                3\n",
      "----------------------------------------\n"
     ]
    },
    {
     "name": "stderr",
     "output_type": "stream",
     "text": [
      "Computing transition probabilities: 100%|██████████| 45/45 [00:00<00:00, 11846.09it/s]\n",
      "Generating walks (CPU: 1): 100%|██████████| 10/10 [00:00<00:00, 102.59it/s]\n",
      "c:\\Users\\Marco\\Workspace\\phase-2\\venv\\Lib\\site-packages\\sklearn\\cluster\\_kmeans.py:870: FutureWarning: The default value of `n_init` will change from 10 to 'auto' in 1.4. Set the value of `n_init` explicitly to suppress the warning\n",
      "  warnings.warn(\n"
     ]
    },
    {
     "name": "stdout",
     "output_type": "stream",
     "text": [
      "----------------------------------------\n",
      "Printing dataframe:\n",
      "   dataset model tuning scoring       encoder  encoder_cluster\n",
      "0    41007   SVC     no     ACC            BE                1\n",
      "1    41007   SVC     no     ACC  BUCV10RGLMME                3\n",
      "2    41007   SVC     no     ACC      BUCV10TE                0\n",
      "3    41007   SVC     no     ACC   BUCV2RGLMME                3\n",
      "4    41007   SVC     no     ACC       BUCV2TE                0\n",
      "----------------------------------------\n",
      "0.0\n",
      "Finished running the pipeline\n"
     ]
    }
   ],
   "source": [
    "# check if the embedding worked\n",
    "from src.pipeline.pipeline_transformers import PrintDataframe\n",
    "pipeline.add_new_step(PrintDataframe(verbose=pipeline._verbose_level), \"print_df\")\n",
    "print(pipeline.get_pipeline().named_steps)\n",
    "\n",
    "pipeline.run()"
   ]
  },
  {
   "cell_type": "markdown",
   "metadata": {},
   "source": [
    "As we can see the application of the kmeans encoder worked"
   ]
  },
  {
   "cell_type": "code",
   "execution_count": 7,
   "metadata": {},
   "outputs": [
    {
     "name": "stdout",
     "output_type": "stream",
     "text": [
      "{'embeddings_transformer': Node2VecGraphEmbeddingWithKMeans(graph=<networkx.classes.graph.Graph object at 0x00000230EF1DB5D0>), 'print_df': PrintDataframe(verbose=1), 'column_keeper': ColumnKeeper(columns=['encoder_cluster']), 'print_df_2': PrintDataframe(verbose=1), 'estimator': LinearRegression()}\n",
      "Starting pipeline using method: EvaluationType.BASIC\n"
     ]
    },
    {
     "name": "stderr",
     "output_type": "stream",
     "text": [
      "Computing transition probabilities: 100%|██████████| 45/45 [00:00<00:00, 22639.28it/s]\n",
      "Generating walks (CPU: 1): 100%|██████████| 10/10 [00:00<00:00, 115.62it/s]\n",
      "c:\\Users\\Marco\\Workspace\\phase-2\\venv\\Lib\\site-packages\\sklearn\\cluster\\_kmeans.py:870: FutureWarning: The default value of `n_init` will change from 10 to 'auto' in 1.4. Set the value of `n_init` explicitly to suppress the warning\n",
      "  warnings.warn(\n"
     ]
    },
    {
     "name": "stdout",
     "output_type": "stream",
     "text": [
      "----------------------------------------\n",
      "Printing dataframe:\n",
      "   dataset model tuning scoring       encoder  encoder_cluster\n",
      "0    23381    LR  model      F1            BE                2\n",
      "1    23381    LR  model      F1  BUCV10RGLMME                4\n",
      "2    23381    LR  model      F1      BUCV10TE                1\n",
      "3    23381    LR  model      F1   BUCV2RGLMME                4\n",
      "4    23381    LR  model      F1       BUCV2TE                1\n",
      "----------------------------------------\n",
      "----------------------------------------\n",
      "Printing dataframe:\n",
      "   encoder_cluster\n",
      "0                2\n",
      "1                4\n",
      "2                1\n",
      "3                4\n",
      "4                1\n",
      "----------------------------------------\n"
     ]
    },
    {
     "name": "stderr",
     "output_type": "stream",
     "text": [
      "Computing transition probabilities: 100%|██████████| 45/45 [00:00<00:00, 22515.05it/s]\n",
      "Generating walks (CPU: 1): 100%|██████████| 10/10 [00:00<00:00, 98.48it/s]\n",
      "c:\\Users\\Marco\\Workspace\\phase-2\\venv\\Lib\\site-packages\\sklearn\\cluster\\_kmeans.py:870: FutureWarning: The default value of `n_init` will change from 10 to 'auto' in 1.4. Set the value of `n_init` explicitly to suppress the warning\n",
      "  warnings.warn(\n"
     ]
    },
    {
     "name": "stdout",
     "output_type": "stream",
     "text": [
      "----------------------------------------\n",
      "Printing dataframe:\n",
      "   dataset model tuning scoring       encoder  encoder_cluster\n",
      "0    41007   SVC     no     ACC            BE                1\n",
      "1    41007   SVC     no     ACC  BUCV10RGLMME                2\n",
      "2    41007   SVC     no     ACC      BUCV10TE                0\n",
      "3    41007   SVC     no     ACC   BUCV2RGLMME                2\n",
      "4    41007   SVC     no     ACC       BUCV2TE                0\n",
      "----------------------------------------\n",
      "----------------------------------------\n",
      "Printing dataframe:\n",
      "   encoder_cluster\n",
      "0                1\n",
      "1                2\n",
      "2                0\n",
      "3                2\n",
      "4                0\n",
      "----------------------------------------\n",
      "0.037835674953024936\n",
      "Finished running the pipeline\n"
     ]
    }
   ],
   "source": [
    "# lets try to get a prediction with a regression model\n",
    "from sklearn.linear_model import LinearRegression\n",
    "from sklearn.compose import ColumnTransformer\n",
    "from src.pipeline.pipeline_transformers import ColumnKeeper\n",
    "\n",
    "# only keep selected columns\n",
    "column_keeper = ColumnKeeper(columns=[\"encoder_cluster\"])\n",
    "\n",
    "pipeline.add_new_step(column_keeper, \"column_keeper\")\n",
    "pipeline.add_new_step(PrintDataframe(verbose=pipeline._verbose_level), \"print_df_2\")\n",
    "\n",
    "pipeline.change_estimator(LinearRegression())\n",
    "\n",
    "print(pipeline.get_pipeline().named_steps)\n",
    "pipeline.run()"
   ]
  },
  {
   "cell_type": "markdown",
   "metadata": {},
   "source": [
    "In this test run the pipeline score is a 0.015. As we are using spearmans R as our metric where the best score is 1.0 or -1.0 we can see that we achieved a very poor score."
   ]
  },
  {
   "cell_type": "markdown",
   "metadata": {},
   "source": [
    "### Try out Poincare"
   ]
  },
  {
   "cell_type": "code",
   "execution_count": 8,
   "metadata": {},
   "outputs": [
    {
     "name": "stdout",
     "output_type": "stream",
     "text": [
      "{'embeddings_transformer': PoincareEmbedding(graph=<networkx.classes.graph.Graph object at 0x00000230EF1DB5D0>), 'print_df_1': PrintDataframe(verbose=1), 'column_keeper': ColumnKeeper(columns=['poincare_embedding_dim1', 'poincare_embedding_dim2']), 'print_df_2': PrintDataframe(verbose=1), 'estimator': LinearRegression()}\n",
      "Starting pipeline using method: EvaluationType.BASIC\n",
      "<class 'pandas.core.frame.DataFrame'>\n",
      "----------------------------------------\n",
      "Printing dataframe:\n",
      "   dataset model tuning scoring       encoder  poincare_embedding_dim1  \\\n",
      "0    23381    LR  model      F1            BE                 0.007151   \n",
      "1    23381    LR  model      F1  BUCV10RGLMME                 0.095912   \n",
      "2    23381    LR  model      F1      BUCV10TE                 0.048728   \n",
      "3    23381    LR  model      F1   BUCV2RGLMME                 0.082937   \n",
      "4    23381    LR  model      F1       BUCV2TE                 0.042925   \n",
      "\n",
      "   poincare_embedding_dim2  \n",
      "0                 0.085302  \n",
      "1                 0.152033  \n",
      "2                -0.160407  \n",
      "3                 0.130173  \n",
      "4                -0.138942  \n",
      "----------------------------------------\n",
      "----------------------------------------\n",
      "Printing dataframe:\n",
      "   poincare_embedding_dim1  poincare_embedding_dim2\n",
      "0                 0.007151                 0.085302\n",
      "1                 0.095912                 0.152033\n",
      "2                 0.048728                -0.160407\n",
      "3                 0.082937                 0.130173\n",
      "4                 0.042925                -0.138942\n",
      "----------------------------------------\n",
      "<class 'pandas.core.frame.DataFrame'>\n",
      "----------------------------------------\n",
      "Printing dataframe:\n",
      "   dataset model tuning scoring       encoder  poincare_embedding_dim1  \\\n",
      "0    41007   SVC     no     ACC            BE                 0.007151   \n",
      "1    41007   SVC     no     ACC  BUCV10RGLMME                 0.095912   \n",
      "2    41007   SVC     no     ACC      BUCV10TE                 0.048728   \n",
      "3    41007   SVC     no     ACC   BUCV2RGLMME                 0.082937   \n",
      "4    41007   SVC     no     ACC       BUCV2TE                 0.042925   \n",
      "\n",
      "   poincare_embedding_dim2  \n",
      "0                 0.085302  \n",
      "1                 0.152033  \n",
      "2                -0.160407  \n",
      "3                 0.130173  \n",
      "4                -0.138942  \n",
      "----------------------------------------\n",
      "----------------------------------------\n",
      "Printing dataframe:\n",
      "   poincare_embedding_dim1  poincare_embedding_dim2\n",
      "0                 0.007151                 0.085302\n",
      "1                 0.095912                 0.152033\n",
      "2                 0.048728                -0.160407\n",
      "3                 0.082937                 0.130173\n",
      "4                 0.042925                -0.138942\n",
      "----------------------------------------\n",
      "0.09019290164218412\n",
      "Finished running the pipeline\n"
     ]
    }
   ],
   "source": [
    "pipeline.clear_steps()\n",
    "\n",
    "# create poincare transformer\n",
    "from src.pipeline.pipeline_transformers import PoincareEmbedding\n",
    "poincare_embedddings_transformer = PoincareEmbedding(graph=graph)\n",
    "\n",
    "# add the column transformer to the pipeline\n",
    "pipeline.add_new_step(poincare_embedddings_transformer, \"embeddings_transformer\")\n",
    "\n",
    "pipeline.add_new_step(PrintDataframe(verbose=pipeline._verbose_level), \"print_df_1\")\n",
    "\n",
    "pipeline.add_new_step(ColumnKeeper(columns=[\"poincare_embedding_dim1\", \"poincare_embedding_dim2\"]),\n",
    "                                  \"column_keeper\")\n",
    "\n",
    "pipeline.add_new_step(PrintDataframe(verbose=pipeline._verbose_level), \"print_df_2\")\n",
    "\n",
    "print(pipeline.get_pipeline().named_steps)\n",
    "\n",
    "pipeline.run()"
   ]
  },
  {
   "cell_type": "code",
   "execution_count": 9,
   "metadata": {},
   "outputs": [
    {
     "name": "stdout",
     "output_type": "stream",
     "text": [
      "Starting pipeline using method: EvaluationType.GRID_SEARCH\n",
      "Performing grid search\n"
     ]
    },
    {
     "ename": "AttributeError",
     "evalue": "'DataFrame' object has no attribute 'unique'",
     "output_type": "error",
     "traceback": [
      "\u001b[1;31m---------------------------------------------------------------------------\u001b[0m",
      "\u001b[1;31mAttributeError\u001b[0m                            Traceback (most recent call last)",
      "\u001b[1;32m~\\AppData\\Local\\Temp\\ipykernel_29540\\2513441788.py\u001b[0m in \u001b[0;36m?\u001b[1;34m()\u001b[0m\n\u001b[0;32m     12\u001b[0m \u001b[0mgrid_pipeline\u001b[0m\u001b[1;33m.\u001b[0m\u001b[0madd_new_step\u001b[0m\u001b[1;33m(\u001b[0m\u001b[0mColumnKeeper\u001b[0m\u001b[1;33m(\u001b[0m\u001b[0mcolumns\u001b[0m\u001b[1;33m=\u001b[0m\u001b[1;33m[\u001b[0m\u001b[1;34m\"poincare_embedding_dim1\"\u001b[0m\u001b[1;33m,\u001b[0m \u001b[1;34m\"poincare_embedding_dim2\"\u001b[0m\u001b[1;33m]\u001b[0m\u001b[1;33m)\u001b[0m\u001b[1;33m,\u001b[0m \u001b[1;34m\"column_keeper\"\u001b[0m\u001b[1;33m)\u001b[0m\u001b[1;33m\u001b[0m\u001b[1;33m\u001b[0m\u001b[0m\n\u001b[0;32m     13\u001b[0m \u001b[0mgrid_pipeline\u001b[0m\u001b[1;33m.\u001b[0m\u001b[0madd_new_step\u001b[0m\u001b[1;33m(\u001b[0m\u001b[0mPrintDataframe\u001b[0m\u001b[1;33m(\u001b[0m\u001b[0mverbose\u001b[0m\u001b[1;33m=\u001b[0m\u001b[0mgrid_pipeline\u001b[0m\u001b[1;33m.\u001b[0m\u001b[0m_verbose_level\u001b[0m\u001b[1;33m)\u001b[0m\u001b[1;33m,\u001b[0m \u001b[1;34m\"print_df_1\"\u001b[0m\u001b[1;33m)\u001b[0m\u001b[1;33m\u001b[0m\u001b[1;33m\u001b[0m\u001b[0m\n\u001b[0;32m     14\u001b[0m \u001b[0mgrid_pipeline\u001b[0m\u001b[1;33m.\u001b[0m\u001b[0mchange_estimator\u001b[0m\u001b[1;33m(\u001b[0m\u001b[0mLinearRegression\u001b[0m\u001b[1;33m(\u001b[0m\u001b[1;33m)\u001b[0m\u001b[1;33m)\u001b[0m\u001b[1;33m\u001b[0m\u001b[1;33m\u001b[0m\u001b[0m\n\u001b[0;32m     15\u001b[0m \u001b[1;33m\u001b[0m\u001b[0m\n\u001b[1;32m---> 16\u001b[1;33m \u001b[0mgrid_pipeline\u001b[0m\u001b[1;33m.\u001b[0m\u001b[0mrun\u001b[0m\u001b[1;33m(\u001b[0m\u001b[1;33m)\u001b[0m\u001b[1;33m\u001b[0m\u001b[1;33m\u001b[0m\u001b[0m\n\u001b[0m",
      "\u001b[1;32m~\\Workspace\\phase-2\\src\\pipeline\\model_pipeline.py\u001b[0m in \u001b[0;36m?\u001b[1;34m(self)\u001b[0m\n\u001b[0;32m    120\u001b[0m             )\n\u001b[0;32m    121\u001b[0m \u001b[1;33m\u001b[0m\u001b[0m\n\u001b[0;32m    122\u001b[0m         \u001b[1;32melif\u001b[0m \u001b[0mself\u001b[0m\u001b[1;33m.\u001b[0m\u001b[0m_evaluation\u001b[0m \u001b[1;33m==\u001b[0m \u001b[0mEvaluationType\u001b[0m\u001b[1;33m.\u001b[0m\u001b[0mGRID_SEARCH\u001b[0m\u001b[1;33m:\u001b[0m\u001b[1;33m\u001b[0m\u001b[1;33m\u001b[0m\u001b[0m\n\u001b[0;32m    123\u001b[0m             \u001b[0mX_train\u001b[0m\u001b[1;33m,\u001b[0m \u001b[0my_train\u001b[0m \u001b[1;33m=\u001b[0m \u001b[0mself\u001b[0m\u001b[1;33m.\u001b[0m\u001b[0m_split_target\u001b[0m\u001b[1;33m(\u001b[0m\u001b[0mself\u001b[0m\u001b[1;33m.\u001b[0m\u001b[0m_df\u001b[0m\u001b[1;33m,\u001b[0m \u001b[0mself\u001b[0m\u001b[1;33m.\u001b[0m\u001b[0m_target\u001b[0m\u001b[1;33m)\u001b[0m\u001b[1;33m\u001b[0m\u001b[1;33m\u001b[0m\u001b[0m\n\u001b[1;32m--> 124\u001b[1;33m             \u001b[0mvalidation_performance_scores\u001b[0m \u001b[1;33m=\u001b[0m \u001b[0mself\u001b[0m\u001b[1;33m.\u001b[0m\u001b[0m_do_grid_search\u001b[0m\u001b[1;33m(\u001b[0m\u001b[0mX_train\u001b[0m\u001b[1;33m,\u001b[0m \u001b[0my_train\u001b[0m\u001b[1;33m,\u001b[0m \u001b[0mparam_grid\u001b[0m\u001b[1;33m=\u001b[0m\u001b[0mself\u001b[0m\u001b[1;33m.\u001b[0m\u001b[0m_param_grid\u001b[0m\u001b[1;33m)\u001b[0m\u001b[1;33m\u001b[0m\u001b[1;33m\u001b[0m\u001b[0m\n\u001b[0m\u001b[0;32m    125\u001b[0m \u001b[1;33m\u001b[0m\u001b[0m\n\u001b[0;32m    126\u001b[0m         \u001b[1;32melse\u001b[0m\u001b[1;33m:\u001b[0m\u001b[1;33m\u001b[0m\u001b[1;33m\u001b[0m\u001b[0m\n\u001b[0;32m    127\u001b[0m             \u001b[1;32mraise\u001b[0m \u001b[0mException\u001b[0m\u001b[1;33m(\u001b[0m\u001b[1;34mf\"Unknown evaluation type: {self._evaluation}\"\u001b[0m\u001b[1;33m)\u001b[0m\u001b[1;33m\u001b[0m\u001b[1;33m\u001b[0m\u001b[0m\n",
      "\u001b[1;32m~\\Workspace\\phase-2\\src\\pipeline\\model_pipeline.py\u001b[0m in \u001b[0;36m?\u001b[1;34m(self, X_train, y_train, param_grid, cv, n_jobs)\u001b[0m\n\u001b[0;32m    371\u001b[0m                                    \u001b[0mscoring\u001b[0m\u001b[1;33m=\u001b[0m\u001b[0mscoring\u001b[0m\u001b[1;33m,\u001b[0m\u001b[1;33m\u001b[0m\u001b[1;33m\u001b[0m\u001b[0m\n\u001b[0;32m    372\u001b[0m                                    \u001b[0mcv\u001b[0m\u001b[1;33m=\u001b[0m\u001b[0mevaluate_regression\u001b[0m\u001b[1;33m.\u001b[0m\u001b[0mCustomSplit\u001b[0m\u001b[1;33m(\u001b[0m\u001b[0mfactors\u001b[0m\u001b[1;33m=\u001b[0m\u001b[0mself\u001b[0m\u001b[1;33m.\u001b[0m\u001b[0m_split_factors\u001b[0m\u001b[1;33m,\u001b[0m \u001b[0mtrain_size\u001b[0m\u001b[1;33m=\u001b[0m\u001b[1;36m0.75\u001b[0m\u001b[1;33m)\u001b[0m\u001b[1;33m,\u001b[0m\u001b[1;33m\u001b[0m\u001b[1;33m\u001b[0m\u001b[0m\n\u001b[0;32m    373\u001b[0m                                    \u001b[0mn_jobs\u001b[0m\u001b[1;33m=\u001b[0m\u001b[0mn_jobs\u001b[0m\u001b[1;33m,\u001b[0m\u001b[1;33m\u001b[0m\u001b[1;33m\u001b[0m\u001b[0m\n\u001b[0;32m    374\u001b[0m                                    verbose=self._verbose_level)\n\u001b[1;32m--> 375\u001b[1;33m         \u001b[0mgrid_search\u001b[0m\u001b[1;33m.\u001b[0m\u001b[0mfit\u001b[0m\u001b[1;33m(\u001b[0m\u001b[0mX_train\u001b[0m\u001b[1;33m,\u001b[0m \u001b[0my_train\u001b[0m\u001b[1;33m)\u001b[0m\u001b[1;33m\u001b[0m\u001b[1;33m\u001b[0m\u001b[0m\n\u001b[0m\u001b[0;32m    376\u001b[0m         \u001b[0mself\u001b[0m\u001b[1;33m.\u001b[0m\u001b[0m_pipeline\u001b[0m \u001b[1;33m=\u001b[0m \u001b[0mgrid_search\u001b[0m\u001b[1;33m.\u001b[0m\u001b[0mbest_estimator_\u001b[0m\u001b[1;33m\u001b[0m\u001b[1;33m\u001b[0m\u001b[0m\n\u001b[0;32m    377\u001b[0m \u001b[1;33m\u001b[0m\u001b[0m\n\u001b[0;32m    378\u001b[0m         \u001b[0mprint\u001b[0m\u001b[1;33m(\u001b[0m\u001b[1;34m\"Finished performing grid search\"\u001b[0m\u001b[1;33m)\u001b[0m \u001b[1;32mif\u001b[0m \u001b[0mself\u001b[0m\u001b[1;33m.\u001b[0m\u001b[0m_verbose_level\u001b[0m \u001b[1;33m>\u001b[0m \u001b[1;36m0\u001b[0m \u001b[1;32melse\u001b[0m \u001b[1;32mNone\u001b[0m\u001b[1;33m\u001b[0m\u001b[1;33m\u001b[0m\u001b[0m\n",
      "\u001b[1;32mc:\\Users\\Marco\\Workspace\\phase-2\\venv\\Lib\\site-packages\\sklearn\\model_selection\\_search.py\u001b[0m in \u001b[0;36m?\u001b[1;34m(self, X, y, groups, **fit_params)\u001b[0m\n\u001b[0;32m    782\u001b[0m         \u001b[0mX\u001b[0m\u001b[1;33m,\u001b[0m \u001b[0my\u001b[0m\u001b[1;33m,\u001b[0m \u001b[0mgroups\u001b[0m \u001b[1;33m=\u001b[0m \u001b[0mindexable\u001b[0m\u001b[1;33m(\u001b[0m\u001b[0mX\u001b[0m\u001b[1;33m,\u001b[0m \u001b[0my\u001b[0m\u001b[1;33m,\u001b[0m \u001b[0mgroups\u001b[0m\u001b[1;33m)\u001b[0m\u001b[1;33m\u001b[0m\u001b[1;33m\u001b[0m\u001b[0m\n\u001b[0;32m    783\u001b[0m         \u001b[0mfit_params\u001b[0m \u001b[1;33m=\u001b[0m \u001b[0m_check_fit_params\u001b[0m\u001b[1;33m(\u001b[0m\u001b[0mX\u001b[0m\u001b[1;33m,\u001b[0m \u001b[0mfit_params\u001b[0m\u001b[1;33m)\u001b[0m\u001b[1;33m\u001b[0m\u001b[1;33m\u001b[0m\u001b[0m\n\u001b[0;32m    784\u001b[0m \u001b[1;33m\u001b[0m\u001b[0m\n\u001b[0;32m    785\u001b[0m         \u001b[0mcv_orig\u001b[0m \u001b[1;33m=\u001b[0m \u001b[0mcheck_cv\u001b[0m\u001b[1;33m(\u001b[0m\u001b[0mself\u001b[0m\u001b[1;33m.\u001b[0m\u001b[0mcv\u001b[0m\u001b[1;33m,\u001b[0m \u001b[0my\u001b[0m\u001b[1;33m,\u001b[0m \u001b[0mclassifier\u001b[0m\u001b[1;33m=\u001b[0m\u001b[0mis_classifier\u001b[0m\u001b[1;33m(\u001b[0m\u001b[0mestimator\u001b[0m\u001b[1;33m)\u001b[0m\u001b[1;33m)\u001b[0m\u001b[1;33m\u001b[0m\u001b[1;33m\u001b[0m\u001b[0m\n\u001b[1;32m--> 786\u001b[1;33m         \u001b[0mn_splits\u001b[0m \u001b[1;33m=\u001b[0m \u001b[0mcv_orig\u001b[0m\u001b[1;33m.\u001b[0m\u001b[0mget_n_splits\u001b[0m\u001b[1;33m(\u001b[0m\u001b[0mX\u001b[0m\u001b[1;33m,\u001b[0m \u001b[0my\u001b[0m\u001b[1;33m,\u001b[0m \u001b[0mgroups\u001b[0m\u001b[1;33m)\u001b[0m\u001b[1;33m\u001b[0m\u001b[1;33m\u001b[0m\u001b[0m\n\u001b[0m\u001b[0;32m    787\u001b[0m \u001b[1;33m\u001b[0m\u001b[0m\n\u001b[0;32m    788\u001b[0m         \u001b[0mbase_estimator\u001b[0m \u001b[1;33m=\u001b[0m \u001b[0mclone\u001b[0m\u001b[1;33m(\u001b[0m\u001b[0mself\u001b[0m\u001b[1;33m.\u001b[0m\u001b[0mestimator\u001b[0m\u001b[1;33m)\u001b[0m\u001b[1;33m\u001b[0m\u001b[1;33m\u001b[0m\u001b[0m\n\u001b[0;32m    789\u001b[0m \u001b[1;33m\u001b[0m\u001b[0m\n",
      "\u001b[1;32m~\\Workspace\\phase-2\\src\\pipeline\\evaluation\\evaluate_regression.py\u001b[0m in \u001b[0;36m?\u001b[1;34m(self, X, y, groups)\u001b[0m\n\u001b[0;32m     69\u001b[0m     \u001b[1;32mdef\u001b[0m \u001b[0mget_n_splits\u001b[0m\u001b[1;33m(\u001b[0m\u001b[0mself\u001b[0m\u001b[1;33m,\u001b[0m \u001b[0mX\u001b[0m\u001b[1;33m=\u001b[0m\u001b[1;32mNone\u001b[0m\u001b[1;33m,\u001b[0m \u001b[0my\u001b[0m\u001b[1;33m=\u001b[0m\u001b[1;32mNone\u001b[0m\u001b[1;33m,\u001b[0m \u001b[0mgroups\u001b[0m\u001b[1;33m=\u001b[0m\u001b[1;32mNone\u001b[0m\u001b[1;33m)\u001b[0m\u001b[1;33m:\u001b[0m\u001b[1;33m\u001b[0m\u001b[1;33m\u001b[0m\u001b[0m\n\u001b[1;32m---> 70\u001b[1;33m         \u001b[1;32mreturn\u001b[0m \u001b[0mlen\u001b[0m\u001b[1;33m(\u001b[0m\u001b[0mX\u001b[0m\u001b[1;33m[\u001b[0m\u001b[0mself\u001b[0m\u001b[1;33m.\u001b[0m\u001b[0mfactors\u001b[0m\u001b[1;33m]\u001b[0m\u001b[1;33m.\u001b[0m\u001b[0munique\u001b[0m\u001b[1;33m(\u001b[0m\u001b[1;33m)\u001b[0m\u001b[1;33m)\u001b[0m\u001b[1;33m\u001b[0m\u001b[1;33m\u001b[0m\u001b[0m\n\u001b[0m",
      "\u001b[1;32mc:\\Users\\Marco\\Workspace\\phase-2\\venv\\Lib\\site-packages\\pandas\\core\\generic.py\u001b[0m in \u001b[0;36m?\u001b[1;34m(self, name)\u001b[0m\n\u001b[0;32m   5985\u001b[0m             \u001b[1;32mand\u001b[0m \u001b[0mname\u001b[0m \u001b[1;32mnot\u001b[0m \u001b[1;32min\u001b[0m \u001b[0mself\u001b[0m\u001b[1;33m.\u001b[0m\u001b[0m_accessors\u001b[0m\u001b[1;33m\u001b[0m\u001b[1;33m\u001b[0m\u001b[0m\n\u001b[0;32m   5986\u001b[0m             \u001b[1;32mand\u001b[0m \u001b[0mself\u001b[0m\u001b[1;33m.\u001b[0m\u001b[0m_info_axis\u001b[0m\u001b[1;33m.\u001b[0m\u001b[0m_can_hold_identifiers_and_holds_name\u001b[0m\u001b[1;33m(\u001b[0m\u001b[0mname\u001b[0m\u001b[1;33m)\u001b[0m\u001b[1;33m\u001b[0m\u001b[1;33m\u001b[0m\u001b[0m\n\u001b[0;32m   5987\u001b[0m         ):\n\u001b[0;32m   5988\u001b[0m             \u001b[1;32mreturn\u001b[0m \u001b[0mself\u001b[0m\u001b[1;33m[\u001b[0m\u001b[0mname\u001b[0m\u001b[1;33m]\u001b[0m\u001b[1;33m\u001b[0m\u001b[1;33m\u001b[0m\u001b[0m\n\u001b[1;32m-> 5989\u001b[1;33m         \u001b[1;32mreturn\u001b[0m \u001b[0mobject\u001b[0m\u001b[1;33m.\u001b[0m\u001b[0m__getattribute__\u001b[0m\u001b[1;33m(\u001b[0m\u001b[0mself\u001b[0m\u001b[1;33m,\u001b[0m \u001b[0mname\u001b[0m\u001b[1;33m)\u001b[0m\u001b[1;33m\u001b[0m\u001b[1;33m\u001b[0m\u001b[0m\n\u001b[0m",
      "\u001b[1;31mAttributeError\u001b[0m: 'DataFrame' object has no attribute 'unique'"
     ]
    }
   ],
   "source": [
    "# using grid search to find the best parameters\n",
    "param_grid = {\n",
    "    \"embeddings_transformer__epochs\": [10, 20]\n",
    "}\n",
    "\n",
    "grid_pipeline = pipelineFactory.create_pipeline(train_df,\n",
    "                                                ModelType.REGRE_BASELINE,\n",
    "                                                verbose_level=1,\n",
    "                                                evaluation=EvaluationType.GRID_SEARCH,\n",
    "                                                param_grid=param_grid)\n",
    "grid_pipeline.add_new_step(poincare_embedddings_transformer, \"embeddings_transformer\")\n",
    "grid_pipeline.add_new_step(ColumnKeeper(columns=[\"poincare_embedding_dim1\", \"poincare_embedding_dim2\"]), \"column_keeper\")\n",
    "grid_pipeline.add_new_step(PrintDataframe(verbose=grid_pipeline._verbose_level), \"print_df_1\")\n",
    "grid_pipeline.change_estimator(LinearRegression())\n",
    "\n",
    "grid_pipeline.run()\n"
   ]
  }
 ],
 "metadata": {
  "kernelspec": {
   "display_name": "venv",
   "language": "python",
   "name": "python3"
  },
  "language_info": {
   "codemirror_mode": {
    "name": "ipython",
    "version": 3
   },
   "file_extension": ".py",
   "mimetype": "text/x-python",
   "name": "python",
   "nbconvert_exporter": "python",
   "pygments_lexer": "ipython3",
   "version": "3.11.3"
  },
  "orig_nbformat": 4
 },
 "nbformat": 4,
 "nbformat_minor": 2
}
