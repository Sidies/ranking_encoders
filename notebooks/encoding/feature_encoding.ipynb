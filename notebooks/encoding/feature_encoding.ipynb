{
 "cells": [
  {
   "cell_type": "code",
   "execution_count": 1,
   "metadata": {},
   "outputs": [],
   "source": [
    "# imports\n",
    "import os\n",
    "import sys\n",
    "module_path = os.path.abspath(os.path.join('../..'))\n",
    "if module_path not in sys.path:\n",
    "    sys.path.append(module_path)\n",
    "import pandas as pd\n",
    "from src import configuration as config\n",
    "from src.pipeline.pipeline_factory import PipelineFactory, ModelType, EvaluationType\n",
    "\n",
    "from sklearn.linear_model import LinearRegression\n",
    "from sklearn.compose import ColumnTransformer\n",
    "\n",
    "from category_encoders.one_hot import OneHotEncoder\n",
    "from category_encoders.target_encoder import TargetEncoder\n",
    "from category_encoders.binary import BinaryEncoder\n",
    "from category_encoders.ordinal import OrdinalEncoder\n",
    "\n",
    "from src.pipeline.pipeline_transformers import ColumnKeeper, PrintDataframe, GeneralPurposeEncoderTransformer\n",
    "\n",
    "from lightgbm import LGBMRegressor "
   ]
  },
  {
   "cell_type": "code",
   "execution_count": 7,
   "metadata": {},
   "outputs": [],
   "source": [
    "pd.set_option('display.expand_frame_repr', False)"
   ]
  },
  {
   "cell_type": "code",
   "execution_count": 13,
   "metadata": {},
   "outputs": [
    {
     "name": "stdout",
     "output_type": "stream",
     "text": [
      "Starting pipeline using method: EvaluationType.BASIC\n",
      "Finished running the pipeline\n",
      "Evaluation metrics:\n",
      "    validation_rmse: 0.0619 [std=0.]\n",
      "    validation_mae: 0.0397 [std=0.]\n",
      "    validation_r2: 0.921 [std=0.]\n",
      "    validation_average_spearman: 0.3075 [std=0.]\n"
     ]
    },
    {
     "data": {
      "text/html": [
       "<div>\n",
       "<style scoped>\n",
       "    .dataframe tbody tr th:only-of-type {\n",
       "        vertical-align: middle;\n",
       "    }\n",
       "\n",
       "    .dataframe tbody tr th {\n",
       "        vertical-align: top;\n",
       "    }\n",
       "\n",
       "    .dataframe thead th {\n",
       "        text-align: right;\n",
       "    }\n",
       "</style>\n",
       "<table border=\"1\" class=\"dataframe\">\n",
       "  <thead>\n",
       "    <tr style=\"text-align: right;\">\n",
       "      <th></th>\n",
       "      <th>dataset</th>\n",
       "      <th>model</th>\n",
       "      <th>tuning</th>\n",
       "      <th>scoring</th>\n",
       "      <th>encoder</th>\n",
       "      <th>cv_score</th>\n",
       "    </tr>\n",
       "  </thead>\n",
       "  <tbody>\n",
       "    <tr>\n",
       "      <th>0</th>\n",
       "      <td>1169</td>\n",
       "      <td>KNC</td>\n",
       "      <td>model</td>\n",
       "      <td>ACC</td>\n",
       "      <td>BUCV2RGLMME</td>\n",
       "      <td>0.650562</td>\n",
       "    </tr>\n",
       "    <tr>\n",
       "      <th>1</th>\n",
       "      <td>1169</td>\n",
       "      <td>KNC</td>\n",
       "      <td>model</td>\n",
       "      <td>ACC</td>\n",
       "      <td>BUCV2TE</td>\n",
       "      <td>0.650712</td>\n",
       "    </tr>\n",
       "    <tr>\n",
       "      <th>2</th>\n",
       "      <td>1169</td>\n",
       "      <td>KNC</td>\n",
       "      <td>model</td>\n",
       "      <td>ACC</td>\n",
       "      <td>CBE</td>\n",
       "      <td>0.626492</td>\n",
       "    </tr>\n",
       "    <tr>\n",
       "      <th>3</th>\n",
       "      <td>1169</td>\n",
       "      <td>KNC</td>\n",
       "      <td>model</td>\n",
       "      <td>ACC</td>\n",
       "      <td>CE</td>\n",
       "      <td>0.625839</td>\n",
       "    </tr>\n",
       "    <tr>\n",
       "      <th>4</th>\n",
       "      <td>1169</td>\n",
       "      <td>KNC</td>\n",
       "      <td>model</td>\n",
       "      <td>ACC</td>\n",
       "      <td>CV10RGLMME</td>\n",
       "      <td>0.652093</td>\n",
       "    </tr>\n",
       "  </tbody>\n",
       "</table>\n",
       "</div>"
      ],
      "text/plain": [
       "   dataset model tuning scoring      encoder  cv_score\n",
       "0     1169   KNC  model     ACC  BUCV2RGLMME  0.650562\n",
       "1     1169   KNC  model     ACC      BUCV2TE  0.650712\n",
       "2     1169   KNC  model     ACC          CBE  0.626492\n",
       "3     1169   KNC  model     ACC           CE  0.625839\n",
       "4     1169   KNC  model     ACC   CV10RGLMME  0.652093"
      ]
     },
     "execution_count": 13,
     "metadata": {},
     "output_type": "execute_result"
    }
   ],
   "source": [
    "# load the data\n",
    "train_df = config.load_traindata_for_regression()\n",
    "pipelineFactory = PipelineFactory()\n",
    "\n",
    "# create the baseline pipeline\n",
    "pipeline = pipelineFactory.create_pipeline(train_df,\n",
    "                                                    ModelType.REGRE_PREPROCESSED,\n",
    "                                                    verbose_level=1,\n",
    "                                                    evaluation=EvaluationType.BASIC)\n",
    "pipeline.run()\n",
    "\n",
    "# starting from the baseline model we can now change the estimator\n",
    "pipeline.change_estimator(LGBMRegressor())\n",
    "train_df.head()"
   ]
  },
  {
   "attachments": {},
   "cell_type": "markdown",
   "metadata": {},
   "source": [
    "OneHotEncoder for model, tuning, scoring:"
   ]
  },
  {
   "cell_type": "code",
   "execution_count": 16,
   "metadata": {},
   "outputs": [
    {
     "name": "stdout",
     "output_type": "stream",
     "text": [
      "{'column_keeper': ColumnKeeper(columns=['model', 'tuning', 'scoring']), 'general': GeneralPurposeEncoderTransformer(model_encoder=OneHotEncoder(),\n",
      "                                 scoring_encoder=OneHotEncoder(),\n",
      "                                 tuning_encoder=OneHotEncoder()), 'print_df_1': PrintDataframe(verbose=1), 'estimator': LGBMRegressor()}\n",
      "Starting pipeline using method: EvaluationType.BASIC\n",
      "----------------------------------------\n",
      "Printing dataframe:\n",
      "   model_1  model_2  model_3  model_4  model_5  tuning_1  tuning_2  tuning_3  scoring_1  scoring_2  scoring_3\n",
      "0        1        0        0        0        0         1         0         0          1          0          0\n",
      "1        1        0        0        0        0         1         0         0          1          0          0\n",
      "2        1        0        0        0        0         1         0         0          1          0          0\n",
      "3        1        0        0        0        0         1         0         0          1          0          0\n",
      "4        1        0        0        0        0         1         0         0          1          0          0\n",
      "----------------------------------------\n",
      "----------------------------------------\n",
      "Printing dataframe:\n",
      "   model_1  model_2  model_3  model_4  model_5  tuning_1  tuning_2  tuning_3  scoring_1  scoring_2  scoring_3\n",
      "0        0        1        0        0        0         0         0         1          0          1          0\n",
      "1        0        1        0        0        0         0         0         1          0          1          0\n",
      "2        0        1        0        0        0         0         0         1          0          1          0\n",
      "3        0        1        0        0        0         0         0         1          0          1          0\n",
      "4        0        1        0        0        0         0         0         1          0          1          0\n",
      "----------------------------------------\n",
      "----------------------------------------\n",
      "Printing dataframe:\n",
      "   model_1  model_2  model_3  model_4  model_5  tuning_1  tuning_2  tuning_3  scoring_1  scoring_2  scoring_3\n",
      "0        1        0        0        0        0         1         0         0          1          0          0\n",
      "1        1        0        0        0        0         1         0         0          1          0          0\n",
      "2        1        0        0        0        0         1         0         0          1          0          0\n",
      "3        1        0        0        0        0         1         0         0          1          0          0\n",
      "4        1        0        0        0        0         1         0         0          1          0          0\n",
      "----------------------------------------\n",
      "----------------------------------------\n",
      "Printing dataframe:\n",
      "   model_1  model_2  model_3  model_4  model_5  tuning_1  tuning_2  tuning_3  scoring_1  scoring_2  scoring_3\n",
      "0        0        1        0        0        0         0         0         1          0          1          0\n",
      "1        0        1        0        0        0         0         0         1          0          1          0\n",
      "2        0        1        0        0        0         0         0         1          0          1          0\n",
      "3        0        1        0        0        0         0         0         1          0          1          0\n",
      "4        0        1        0        0        0         0         0         1          0          1          0\n",
      "----------------------------------------\n",
      "Finished running the pipeline\n",
      "Evaluation metrics:\n",
      "    validation_rmse: 0.2157 [std=0.]\n",
      "    validation_mae: 0.1756 [std=0.]\n",
      "    validation_r2: 0.0395 [std=0.]\n",
      "    validation_average_spearman: 0. [std=0.]\n"
     ]
    }
   ],
   "source": [
    "pipeline.clear_steps()\n",
    "\n",
    "pipeline.add_new_step(ColumnKeeper(['model', 'tuning', 'scoring']), 'column_keeper')\n",
    "\n",
    "# add the column transformer to the pipeline\n",
    "pipeline.add_new_step(GeneralPurposeEncoderTransformer(OneHotEncoder(),OneHotEncoder(),OneHotEncoder()), 'general')\n",
    "\n",
    "pipeline.add_new_step(PrintDataframe(verbose=pipeline._verbose_level), \"print_df_1\")\n",
    "\n",
    "print(pipeline.get_pipeline().named_steps)\n",
    "pipeline.change_estimator(LGBMRegressor())\n",
    "\n",
    "pipeline.run()"
   ]
  },
  {
   "attachments": {},
   "cell_type": "markdown",
   "metadata": {},
   "source": [
    "Average spearman: 0"
   ]
  },
  {
   "attachments": {},
   "cell_type": "markdown",
   "metadata": {},
   "source": [
    "BinaryEncoder for model, tuning, scoring:"
   ]
  },
  {
   "cell_type": "code",
   "execution_count": 15,
   "metadata": {},
   "outputs": [
    {
     "name": "stdout",
     "output_type": "stream",
     "text": [
      "{'column_keeper': ColumnKeeper(columns=['model', 'tuning', 'scoring']), 'general': GeneralPurposeEncoderTransformer(model_encoder=BinaryEncoder(),\n",
      "                                 scoring_encoder=BinaryEncoder(),\n",
      "                                 tuning_encoder=BinaryEncoder()), 'print_df_1': PrintDataframe(verbose=1), 'estimator': LGBMRegressor()}\n",
      "Starting pipeline using method: EvaluationType.BASIC\n",
      "----------------------------------------\n",
      "Printing dataframe:\n",
      "   model_0  model_1  model_2  tuning_0  tuning_1  scoring_0  scoring_1\n",
      "0        0        0        1         0         1          0          1\n",
      "1        0        0        1         0         1          0          1\n",
      "2        0        0        1         0         1          0          1\n",
      "3        0        0        1         0         1          0          1\n",
      "4        0        0        1         0         1          0          1\n",
      "----------------------------------------\n",
      "----------------------------------------\n",
      "Printing dataframe:\n",
      "   model_0  model_1  model_2  tuning_0  tuning_1  scoring_0  scoring_1\n",
      "0        0        1        0         1         1          1          0\n",
      "1        0        1        0         1         1          1          0\n",
      "2        0        1        0         1         1          1          0\n",
      "3        0        1        0         1         1          1          0\n",
      "4        0        1        0         1         1          1          0\n",
      "----------------------------------------\n",
      "----------------------------------------\n",
      "Printing dataframe:\n",
      "   model_0  model_1  model_2  tuning_0  tuning_1  scoring_0  scoring_1\n",
      "0        0        0        1         0         1          0          1\n",
      "1        0        0        1         0         1          0          1\n",
      "2        0        0        1         0         1          0          1\n",
      "3        0        0        1         0         1          0          1\n",
      "4        0        0        1         0         1          0          1\n",
      "----------------------------------------\n",
      "----------------------------------------\n",
      "Printing dataframe:\n",
      "   model_0  model_1  model_2  tuning_0  tuning_1  scoring_0  scoring_1\n",
      "0        0        1        0         1         1          1          0\n",
      "1        0        1        0         1         1          1          0\n",
      "2        0        1        0         1         1          1          0\n",
      "3        0        1        0         1         1          1          0\n",
      "4        0        1        0         1         1          1          0\n",
      "----------------------------------------\n",
      "Finished running the pipeline\n",
      "Evaluation metrics:\n",
      "    validation_rmse: 0.2157 [std=0.]\n",
      "    validation_mae: 0.1756 [std=0.]\n",
      "    validation_r2: 0.0395 [std=0.]\n",
      "    validation_average_spearman: 0. [std=0.]\n"
     ]
    }
   ],
   "source": [
    "pipeline.clear_steps()\n",
    "\n",
    "pipeline.add_new_step(ColumnKeeper(['model', 'tuning', 'scoring']), 'column_keeper')\n",
    "\n",
    "# add the column transformer to the pipeline\n",
    "pipeline.add_new_step(GeneralPurposeEncoderTransformer(BinaryEncoder(),BinaryEncoder(),BinaryEncoder()), 'general')\n",
    "\n",
    "pipeline.add_new_step(PrintDataframe(verbose=pipeline._verbose_level), \"print_df_1\")\n",
    "\n",
    "print(pipeline.get_pipeline().named_steps)\n",
    "\n",
    "pipeline.run()"
   ]
  },
  {
   "attachments": {},
   "cell_type": "markdown",
   "metadata": {},
   "source": [
    "Average spearman: 0"
   ]
  },
  {
   "attachments": {},
   "cell_type": "markdown",
   "metadata": {},
   "source": [
    "OrdinalEncoder for model, tuning, scoring: "
   ]
  },
  {
   "cell_type": "code",
   "execution_count": 12,
   "metadata": {},
   "outputs": [
    {
     "name": "stdout",
     "output_type": "stream",
     "text": [
      "{'column_keeper': ColumnKeeper(columns=['model', 'tuning', 'scoring']), 'general': GeneralPurposeEncoderTransformer(model_encoder=OrdinalEncoder(),\n",
      "                                 scoring_encoder=OrdinalEncoder(),\n",
      "                                 tuning_encoder=OrdinalEncoder()), 'print_df_1': PrintDataframe(verbose=1), 'estimator': LGBMRegressor()}\n",
      "Starting pipeline using method: EvaluationType.BASIC\n",
      "----------------------------------------\n",
      "Printing dataframe:\n",
      "   model  tuning  scoring\n",
      "0      1       1        1\n",
      "1      1       1        1\n",
      "2      1       1        1\n",
      "3      1       1        1\n",
      "4      1       1        1\n",
      "----------------------------------------\n",
      "----------------------------------------\n",
      "Printing dataframe:\n",
      "   model  tuning  scoring\n",
      "0      2       3        2\n",
      "1      2       3        2\n",
      "2      2       3        2\n",
      "3      2       3        2\n",
      "4      2       3        2\n",
      "----------------------------------------\n",
      "----------------------------------------\n",
      "Printing dataframe:\n",
      "   model  tuning  scoring\n",
      "0      1       1        1\n",
      "1      1       1        1\n",
      "2      1       1        1\n",
      "3      1       1        1\n",
      "4      1       1        1\n",
      "----------------------------------------\n",
      "----------------------------------------\n",
      "Printing dataframe:\n",
      "   model  tuning  scoring\n",
      "0      2       3        2\n",
      "1      2       3        2\n",
      "2      2       3        2\n",
      "3      2       3        2\n",
      "4      2       3        2\n",
      "----------------------------------------\n",
      "Finished running the pipeline\n",
      "Evaluation metrics:\n",
      "    validation_rmse: 0.2157 [std=0.]\n",
      "    validation_mae: 0.1756 [std=0.]\n",
      "    validation_r2: 0.0395 [std=0.]\n",
      "    validation_average_spearman: 0. [std=0.]\n"
     ]
    }
   ],
   "source": [
    "pipeline.clear_steps()\n",
    "\n",
    "pipeline.add_new_step(ColumnKeeper(['model', 'tuning', 'scoring']), 'column_keeper')\n",
    "\n",
    "# add the column transformer to the pipeline\n",
    "pipeline.add_new_step(GeneralPurposeEncoderTransformer(OrdinalEncoder(),OrdinalEncoder(),OrdinalEncoder()), 'general')\n",
    "\n",
    "pipeline.add_new_step(PrintDataframe(verbose=pipeline._verbose_level), \"print_df_1\")\n",
    "\n",
    "print(pipeline.get_pipeline().named_steps)\n",
    "\n",
    "pipeline.run()"
   ]
  },
  {
   "attachments": {},
   "cell_type": "markdown",
   "metadata": {},
   "source": [
    "Average spearman: 0"
   ]
  }
 ],
 "metadata": {
  "kernelspec": {
   "display_name": "DS",
   "language": "python",
   "name": "python3"
  },
  "language_info": {
   "codemirror_mode": {
    "name": "ipython",
    "version": 3
   },
   "file_extension": ".py",
   "mimetype": "text/x-python",
   "name": "python",
   "nbconvert_exporter": "python",
   "pygments_lexer": "ipython3",
   "version": "3.10.10"
  },
  "orig_nbformat": 4
 },
 "nbformat": 4,
 "nbformat_minor": 2
}
