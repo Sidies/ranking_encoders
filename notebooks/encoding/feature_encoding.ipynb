{
 "cells": [
  {
   "cell_type": "code",
   "execution_count": 28,
   "metadata": {},
   "outputs": [],
   "source": [
    "# imports\n",
    "import os\n",
    "import sys\n",
    "module_path = os.path.abspath(os.path.join('../..'))\n",
    "if module_path not in sys.path:\n",
    "    sys.path.append(module_path)\n",
    "import pandas as pd\n",
    "from src import configuration as config\n",
    "from src.pipeline.pipeline_factory import PipelineFactory, ModelType, EvaluationType\n",
    "\n",
    "from sklearn.linear_model import LinearRegression\n",
    "from sklearn.compose import ColumnTransformer\n",
    "\n",
    "from category_encoders.one_hot import OneHotEncoder\n",
    "from category_encoders.target_encoder import TargetEncoder\n",
    "from category_encoders.binary import BinaryEncoder\n",
    "from category_encoders.ordinal import OrdinalEncoder\n",
    "\n",
    "from src.pipeline.pipeline_transformers import ColumnKeeper, PrintDataframe, GeneralPurposeEncoderTransformer\n",
    "\n",
    "from lightgbm import LGBMRegressor "
   ]
  },
  {
   "attachments": {},
   "cell_type": "markdown",
   "metadata": {},
   "source": [
    "Create a pipeline object"
   ]
  },
  {
   "cell_type": "code",
   "execution_count": 29,
   "metadata": {},
   "outputs": [
    {
     "name": "stdout",
     "output_type": "stream",
     "text": [
      "Starting pipeline using method: EvaluationType.BASIC\n",
      "0.0\n",
      "Finished running the pipeline\n"
     ]
    },
    {
     "data": {
      "text/html": [
       "<div>\n",
       "<style scoped>\n",
       "    .dataframe tbody tr th:only-of-type {\n",
       "        vertical-align: middle;\n",
       "    }\n",
       "\n",
       "    .dataframe tbody tr th {\n",
       "        vertical-align: top;\n",
       "    }\n",
       "\n",
       "    .dataframe thead th {\n",
       "        text-align: right;\n",
       "    }\n",
       "</style>\n",
       "<table border=\"1\" class=\"dataframe\">\n",
       "  <thead>\n",
       "    <tr style=\"text-align: right;\">\n",
       "      <th></th>\n",
       "      <th>dataset</th>\n",
       "      <th>model</th>\n",
       "      <th>tuning</th>\n",
       "      <th>scoring</th>\n",
       "      <th>encoder</th>\n",
       "      <th>cv_score</th>\n",
       "    </tr>\n",
       "  </thead>\n",
       "  <tbody>\n",
       "    <tr>\n",
       "      <th>0</th>\n",
       "      <td>1169</td>\n",
       "      <td>KNC</td>\n",
       "      <td>model</td>\n",
       "      <td>ACC</td>\n",
       "      <td>BUCV2RGLMME</td>\n",
       "      <td>0.650562</td>\n",
       "    </tr>\n",
       "    <tr>\n",
       "      <th>1</th>\n",
       "      <td>1169</td>\n",
       "      <td>KNC</td>\n",
       "      <td>model</td>\n",
       "      <td>ACC</td>\n",
       "      <td>BUCV2TE</td>\n",
       "      <td>0.650712</td>\n",
       "    </tr>\n",
       "    <tr>\n",
       "      <th>2</th>\n",
       "      <td>1169</td>\n",
       "      <td>KNC</td>\n",
       "      <td>model</td>\n",
       "      <td>ACC</td>\n",
       "      <td>CBE</td>\n",
       "      <td>0.626492</td>\n",
       "    </tr>\n",
       "    <tr>\n",
       "      <th>3</th>\n",
       "      <td>1169</td>\n",
       "      <td>KNC</td>\n",
       "      <td>model</td>\n",
       "      <td>ACC</td>\n",
       "      <td>CE</td>\n",
       "      <td>0.625839</td>\n",
       "    </tr>\n",
       "    <tr>\n",
       "      <th>4</th>\n",
       "      <td>1169</td>\n",
       "      <td>KNC</td>\n",
       "      <td>model</td>\n",
       "      <td>ACC</td>\n",
       "      <td>CV10RGLMME</td>\n",
       "      <td>0.652093</td>\n",
       "    </tr>\n",
       "  </tbody>\n",
       "</table>\n",
       "</div>"
      ],
      "text/plain": [
       "   dataset model tuning scoring      encoder  cv_score\n",
       "0     1169   KNC  model     ACC  BUCV2RGLMME  0.650562\n",
       "1     1169   KNC  model     ACC      BUCV2TE  0.650712\n",
       "2     1169   KNC  model     ACC          CBE  0.626492\n",
       "3     1169   KNC  model     ACC           CE  0.625839\n",
       "4     1169   KNC  model     ACC   CV10RGLMME  0.652093"
      ]
     },
     "execution_count": 29,
     "metadata": {},
     "output_type": "execute_result"
    }
   ],
   "source": [
    "# load the data\n",
    "train_df = config.load_traindata_for_regression()\n",
    "pipelineFactory = PipelineFactory()\n",
    "\n",
    "# create the baseline pipeline\n",
    "pipeline = pipelineFactory.create_pipeline(train_df,\n",
    "                                                    ModelType.REGRE_BASELINE,\n",
    "                                                    verbose_level=1,\n",
    "                                                    evaluation=EvaluationType.BASIC)\n",
    "pipeline.run()\n",
    "\n",
    "# starting from the baseline model we can now change the estimator\n",
    "pipeline.change_estimator(LGBMRegressor())\n",
    "train_df.head()"
   ]
  },
  {
   "attachments": {},
   "cell_type": "markdown",
   "metadata": {},
   "source": [
    "One-Hot-Encoder for model, tuning, scoring:"
   ]
  },
  {
   "cell_type": "code",
   "execution_count": 31,
   "metadata": {},
   "outputs": [
    {
     "name": "stdout",
     "output_type": "stream",
     "text": [
      "{'column_keeper': ColumnKeeper(columns=['model', 'tuning', 'scoring']), 'general': GeneralPurposeEncoderTransformer(model_encoder=OneHotEncoder(),\n",
      "                                 scoring_encoder=OneHotEncoder(),\n",
      "                                 tuning_encoder=OneHotEncoder()), 'estimator': LGBMRegressor()}\n",
      "Starting pipeline using method: EvaluationType.BASIC\n"
     ]
    },
    {
     "name": "stdout",
     "output_type": "stream",
     "text": [
      "0.0\n",
      "Finished running the pipeline\n"
     ]
    }
   ],
   "source": [
    "pipeline.clear_steps()\n",
    "\n",
    "pipeline.add_new_step(ColumnKeeper(['model', 'tuning', 'scoring']), 'column_keeper')\n",
    "#pipeline.add_new_step(PrintDataframe(verbose=pipeline._verbose_level), \"print_df_1\")\n",
    "\n",
    "# add the column transformer to the pipeline\n",
    "#pipeline.add_new_step(preprocessor, \"preprocessor\")\n",
    "pipeline.add_new_step(GeneralPurposeEncoderTransformer(OneHotEncoder(),OneHotEncoder(),OneHotEncoder()), 'general')\n",
    "\n",
    "#pipeline.add_new_step(PrintDataframe(verbose=pipeline._verbose_level), \"print_df_2\")\n",
    "\n",
    "\n",
    "print(pipeline.get_pipeline().named_steps)\n",
    "\n",
    "pipeline.run()"
   ]
  },
  {
   "attachments": {},
   "cell_type": "markdown",
   "metadata": {},
   "source": [
    "The score is 0.0 with one-hot-encoder."
   ]
  },
  {
   "attachments": {},
   "cell_type": "markdown",
   "metadata": {},
   "source": [
    "Binary-Encoder for model, tuning, scoring:"
   ]
  },
  {
   "cell_type": "code",
   "execution_count": 32,
   "metadata": {},
   "outputs": [
    {
     "name": "stdout",
     "output_type": "stream",
     "text": [
      "{'column_keeper': ColumnKeeper(columns=['model', 'tuning', 'scoring']), 'general': GeneralPurposeEncoderTransformer(), 'estimator': LGBMRegressor()}\n",
      "Starting pipeline using method: EvaluationType.BASIC\n",
      "0.0\n",
      "Finished running the pipeline\n"
     ]
    }
   ],
   "source": [
    "pipeline.clear_steps()\n",
    "\n",
    "pipeline.add_new_step(ColumnKeeper(['model', 'tuning', 'scoring']), 'column_keeper')\n",
    "#pipeline.add_new_step(PrintDataframe(verbose=pipeline._verbose_level), \"print_df_1\")\n",
    "\n",
    "# add the column transformer to the pipeline\n",
    "#pipeline.add_new_step(preprocessor, \"preprocessor\")\n",
    "pipeline.add_new_step(GeneralPurposeEncoderTransformer(BinaryEncoder(),BinaryEncoder(),BinaryEncoder()), 'general')\n",
    "\n",
    "#pipeline.add_new_step(PrintDataframe(verbose=pipeline._verbose_level), \"print_df_2\")\n",
    "\n",
    "\n",
    "print(pipeline.get_pipeline().named_steps)\n",
    "\n",
    "pipeline.run()"
   ]
  },
  {
   "attachments": {},
   "cell_type": "markdown",
   "metadata": {},
   "source": [
    "The score is 0.0 with binary-encoder."
   ]
  },
  {
   "attachments": {},
   "cell_type": "markdown",
   "metadata": {},
   "source": [
    "Ordinal Encoder for model, tuning, scoring:"
   ]
  },
  {
   "cell_type": "code",
   "execution_count": 33,
   "metadata": {},
   "outputs": [
    {
     "name": "stdout",
     "output_type": "stream",
     "text": [
      "{'column_keeper': ColumnKeeper(columns=['model', 'tuning', 'scoring']), 'general': GeneralPurposeEncoderTransformer(model_encoder=OrdinalEncoder(),\n",
      "                                 scoring_encoder=OrdinalEncoder(),\n",
      "                                 tuning_encoder=OrdinalEncoder()), 'estimator': LGBMRegressor()}\n",
      "Starting pipeline using method: EvaluationType.BASIC\n",
      "0.0\n",
      "Finished running the pipeline\n"
     ]
    }
   ],
   "source": [
    "pipeline.clear_steps()\n",
    "\n",
    "pipeline.add_new_step(ColumnKeeper(['model', 'tuning', 'scoring']), 'column_keeper')\n",
    "#pipeline.add_new_step(PrintDataframe(verbose=pipeline._verbose_level), \"print_df_1\")\n",
    "\n",
    "# add the column transformer to the pipeline\n",
    "#pipeline.add_new_step(preprocessor, \"preprocessor\")\n",
    "pipeline.add_new_step(GeneralPurposeEncoderTransformer(OrdinalEncoder(),OrdinalEncoder(),OrdinalEncoder()), 'general')\n",
    "\n",
    "#pipeline.add_new_step(PrintDataframe(verbose=pipeline._verbose_level), \"print_df_2\")\n",
    "\n",
    "\n",
    "print(pipeline.get_pipeline().named_steps)\n",
    "\n",
    "pipeline.run()"
   ]
  },
  {
   "attachments": {},
   "cell_type": "markdown",
   "metadata": {},
   "source": [
    "Let's try something different:"
   ]
  },
  {
   "cell_type": "code",
   "execution_count": 50,
   "metadata": {},
   "outputs": [],
   "source": [
    "from sklearn.model_selection import train_test_split\n",
    "\n",
    "df = config.load_traindata_for_regression()\n",
    "X = df.iloc[:, :-1]\n",
    "y = df.iloc[:, -1]"
   ]
  },
  {
   "cell_type": "code",
   "execution_count": 52,
   "metadata": {},
   "outputs": [],
   "source": [
    "from sklearn.pipeline import Pipeline\n",
    "#from sklearn.preprocessing import OneHotEncoder\n",
    "\n",
    "# [tuning, scoring, model, dataset]\n",
    "\n",
    "categorical_features = ['model', 'tuning', 'scoring']\n",
    "\n",
    "categorical_transformer = Pipeline(\n",
    "    steps=[\n",
    "        (\"encoder\", OneHotEncoder(handle_unknown=\"ignore\")),\n",
    "    ]\n",
    ")\n",
    "    \n",
    "preprocessor = ColumnTransformer(\n",
    "    transformers=[\n",
    "        (\"cat\", categorical_transformer, categorical_features),\n",
    "    ]\n",
    ")"
   ]
  },
  {
   "cell_type": "code",
   "execution_count": 56,
   "metadata": {},
   "outputs": [
    {
     "name": "stdout",
     "output_type": "stream",
     "text": [
      "model score: 0.092\n"
     ]
    }
   ],
   "source": [
    "clf = Pipeline(\n",
    "    steps=[(\"preprocessor\", preprocessor), (\"regressor\", LinearRegression())]\n",
    ")\n",
    "\n",
    "X_train, X_test, y_train, y_test = train_test_split(X, y, test_size=0.2, random_state=0)\n",
    "\n",
    "clf.fit(X_train, y_train)\n",
    "print(\"model score: %.3f\" % clf.score(X_test, y_test))"
   ]
  }
 ],
 "metadata": {
  "kernelspec": {
   "display_name": "DS",
   "language": "python",
   "name": "python3"
  },
  "language_info": {
   "codemirror_mode": {
    "name": "ipython",
    "version": 3
   },
   "file_extension": ".py",
   "mimetype": "text/x-python",
   "name": "python",
   "nbconvert_exporter": "python",
   "pygments_lexer": "ipython3",
   "version": "3.10.10"
  },
  "orig_nbformat": 4
 },
 "nbformat": 4,
 "nbformat_minor": 2
}
