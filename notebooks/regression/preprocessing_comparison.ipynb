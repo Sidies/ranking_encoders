{
 "cells": [
  {
   "cell_type": "markdown",
   "id": "18ad5d1c",
   "metadata": {},
   "source": [
    "# Preprocessing Comparison\n",
    "\n",
    "In this notebook, we reexamine our preprocessing and adapt it to our newly found best estimator: DecisionTreeRegressor. First, we load the required dependencies and the data."
   ]
  },
  {
   "cell_type": "code",
   "execution_count": 1,
   "id": "bb7cd5f1",
   "metadata": {},
   "outputs": [
    {
     "name": "stderr",
     "output_type": "stream",
     "text": [
      "c:\\users\\thomas\\appdata\\local\\programs\\python\\python38\\lib\\site-packages\\tqdm\\auto.py:22: TqdmWarning: IProgress not found. Please update jupyter and ipywidgets. See https://ipywidgets.readthedocs.io/en/stable/user_install.html\n",
      "  from .autonotebook import tqdm as notebook_tqdm\n"
     ]
    }
   ],
   "source": [
    "import os\n",
    "import sys\n",
    "module_path = os.path.abspath(os.path.join('..'))\n",
    "if module_path not in sys.path:\n",
    "    sys.path.append(module_path)\n",
    "\n",
    "import numpy as np\n",
    "import pandas as pd\n",
    "import matplotlib.pyplot as plt\n",
    "import seaborn as sns\n",
    "import itertools\n",
    "\n",
    "from sklearn.tree import DecisionTreeRegressor\n",
    "from sklearn.compose import ColumnTransformer\n",
    "\n",
    "from src import configuration as config\n",
    "from src.features.encoder_utils import load_graph\n",
    "from src.pipeline.pipeline_factory import PipelineFactory, ModelType, EvaluationType"
   ]
  },
  {
   "cell_type": "code",
   "execution_count": 2,
   "id": "5b1cad2d",
   "metadata": {},
   "outputs": [],
   "source": [
    "# load the data\n",
    "train_df = config.load_traindata_for_regression()\n",
    "pipelineFactory = PipelineFactory()"
   ]
  },
  {
   "cell_type": "markdown",
   "id": "5ddc6c86",
   "metadata": {},
   "source": [
    "## 0) Baseline\n",
    "\n",
    "Let us examine the performance, when applying a OneHotEncoder for each feature."
   ]
  },
  {
   "cell_type": "code",
   "execution_count": 3,
   "id": "64ba106b",
   "metadata": {},
   "outputs": [
    {
     "name": "stdout",
     "output_type": "stream",
     "text": [
      "Starting pipeline using method: EvaluationType.CROSS_VALIDATION\n"
     ]
    },
    {
     "name": "stderr",
     "output_type": "stream",
     "text": [
      "100%|██████████████████████████████████████████████████████████████████████████████████████████████████████████████████████████| 5/5 [00:11<00:00,  2.24s/it]"
     ]
    },
    {
     "name": "stdout",
     "output_type": "stream",
     "text": [
      "Finished running the pipeline\n",
      "Evaluation metrics:\n",
      "    validation_average_spearman_fold_0: 0.4869\n",
      "    validation_average_spearman_fold_1: 0.5341\n",
      "    validation_average_spearman_fold_2: 0.4631\n",
      "    validation_average_spearman_fold_3: 0.4709\n",
      "    validation_average_spearman_fold_4: 0.4761\n",
      "    average of all folds: 0.4862 [std=0.0251]\n"
     ]
    },
    {
     "name": "stderr",
     "output_type": "stream",
     "text": [
      "\n"
     ]
    }
   ],
   "source": [
    "from category_encoders.one_hot import OneHotEncoder\n",
    "\n",
    "pipeline = pipelineFactory.create_pipeline(\n",
    "    train_df,\n",
    "    ModelType.REGRE_PREPROCESSED,\n",
    "    verbose_level=1,\n",
    "    evaluation=EvaluationType.CROSS_VALIDATION\n",
    ")\n",
    "pipeline.clear_steps()\n",
    "pipeline.add_new_step(OneHotEncoder(), 'onehot')\n",
    "pipeline.change_estimator(DecisionTreeRegressor())\n",
    "pipeline.run()"
   ]
  },
  {
   "cell_type": "markdown",
   "id": "623222cb",
   "metadata": {},
   "source": [
    "## 1) Embedding\n",
    "\n",
    "First, we look at the embeddings for the feature 'encoder'. Our baselines are simple encodings, which ignore the underlying relations between the encoders. As embeddings, we try node2vec and different poincare variations."
   ]
  },
  {
   "cell_type": "code",
   "execution_count": 3,
   "id": "a8bdae26",
   "metadata": {},
   "outputs": [],
   "source": [
    "from src.pipeline.pipeline_transformers import Node2VecEmbedding, PoincareEmbedding\n",
    "from src.features.encoder_utils import load_graph\n",
    "\n",
    "pipeline = pipelineFactory.create_pipeline(\n",
    "    train_df,\n",
    "    ModelType.REGRE_PREPROCESSED,\n",
    "    verbose_level=1,\n",
    "    evaluation=EvaluationType.CROSS_VALIDATION\n",
    ")\n",
    "pipeline.change_estimator(DecisionTreeRegressor())\n",
    "\n",
    "graph = load_graph(config.ROOT_DIR / \"data/external/graphs/encodings_graph.adjlist\")\n",
    "\n",
    "scores = {}"
   ]
  },
  {
   "cell_type": "markdown",
   "id": "e05c023a",
   "metadata": {},
   "source": [
    "### 1.1 Baseline (OrdinalEncoder)"
   ]
  },
  {
   "cell_type": "code",
   "execution_count": 4,
   "id": "ab05f0ea",
   "metadata": {},
   "outputs": [
    {
     "name": "stdout",
     "output_type": "stream",
     "text": [
      "Starting pipeline using method: EvaluationType.CROSS_VALIDATION\n"
     ]
    },
    {
     "name": "stderr",
     "output_type": "stream",
     "text": [
      "100%|██████████████████████████████████████████████████████████████████████████████████████████████████████████████████████████| 5/5 [00:11<00:00,  2.33s/it]"
     ]
    },
    {
     "name": "stdout",
     "output_type": "stream",
     "text": [
      "Finished running the pipeline\n",
      "Evaluation metrics:\n",
      "    validation_average_spearman_fold_0: 0.4821\n",
      "    validation_average_spearman_fold_1: 0.4561\n",
      "    validation_average_spearman_fold_2: 0.4292\n",
      "    validation_average_spearman_fold_3: 0.4835\n",
      "    validation_average_spearman_fold_4: 0.522\n",
      "    average of all folds: 0.4746 [std=0.0309]\n"
     ]
    },
    {
     "name": "stderr",
     "output_type": "stream",
     "text": [
      "\n"
     ]
    }
   ],
   "source": [
    "from category_encoders.ordinal import OrdinalEncoder\n",
    "\n",
    "pipeline.add_new_step(OrdinalEncoder(cols='encoder'), 'encoder_transformer')\n",
    "pipeline.run()\n",
    "scores['ordinal'] = pipeline._validation_performance_scores"
   ]
  },
  {
   "cell_type": "markdown",
   "id": "510c85e3",
   "metadata": {},
   "source": [
    "### 1.2) Baseline (OneHotEncoder)"
   ]
  },
  {
   "cell_type": "code",
   "execution_count": 5,
   "id": "2e52aac1",
   "metadata": {
    "scrolled": false
   },
   "outputs": [
    {
     "name": "stdout",
     "output_type": "stream",
     "text": [
      "Starting pipeline using method: EvaluationType.CROSS_VALIDATION\n"
     ]
    },
    {
     "name": "stderr",
     "output_type": "stream",
     "text": [
      "100%|██████████████████████████████████████████████████████████████████████████████████████████████████████████████████████████| 5/5 [00:13<00:00,  2.63s/it]"
     ]
    },
    {
     "name": "stdout",
     "output_type": "stream",
     "text": [
      "Finished running the pipeline\n",
      "Evaluation metrics:\n",
      "    validation_average_spearman_fold_0: 0.4834\n",
      "    validation_average_spearman_fold_1: 0.4702\n",
      "    validation_average_spearman_fold_2: 0.45\n",
      "    validation_average_spearman_fold_3: 0.5004\n",
      "    validation_average_spearman_fold_4: 0.5488\n",
      "    average of all folds: 0.4906 [std=0.0335]\n"
     ]
    },
    {
     "name": "stderr",
     "output_type": "stream",
     "text": [
      "\n"
     ]
    }
   ],
   "source": [
    "from category_encoders.one_hot import OneHotEncoder\n",
    "\n",
    "pipeline.add_new_step(OneHotEncoder(cols='encoder'), 'encoder_transformer')\n",
    "pipeline.run()\n",
    "scores['onehot'] = pipeline._validation_performance_scores"
   ]
  },
  {
   "cell_type": "markdown",
   "id": "52868f9b",
   "metadata": {},
   "source": [
    "### 1.3) Baseline (TargetEncoder)"
   ]
  },
  {
   "cell_type": "code",
   "execution_count": 6,
   "id": "8919b6dc",
   "metadata": {},
   "outputs": [
    {
     "name": "stdout",
     "output_type": "stream",
     "text": [
      "Starting pipeline using method: EvaluationType.CROSS_VALIDATION\n"
     ]
    },
    {
     "name": "stderr",
     "output_type": "stream",
     "text": [
      "100%|██████████████████████████████████████████████████████████████████████████████████████████████████████████████████████████| 5/5 [00:11<00:00,  2.27s/it]"
     ]
    },
    {
     "name": "stdout",
     "output_type": "stream",
     "text": [
      "Finished running the pipeline\n",
      "Evaluation metrics:\n",
      "    validation_average_spearman_fold_0: 0.4771\n",
      "    validation_average_spearman_fold_1: 0.4883\n",
      "    validation_average_spearman_fold_2: 0.4517\n",
      "    validation_average_spearman_fold_3: 0.4968\n",
      "    validation_average_spearman_fold_4: 0.5238\n",
      "    average of all folds: 0.4875 [std=0.0236]\n"
     ]
    },
    {
     "name": "stderr",
     "output_type": "stream",
     "text": [
      "\n"
     ]
    }
   ],
   "source": [
    "from category_encoders.target_encoder import TargetEncoder\n",
    "\n",
    "pipeline.add_new_step(TargetEncoder(cols='encoder'), 'encoder_transformer')\n",
    "pipeline.run()\n",
    "scores['target'] = pipeline._validation_performance_scores"
   ]
  },
  {
   "cell_type": "markdown",
   "id": "bbfd748c",
   "metadata": {},
   "source": [
    "### 1.4) Node2Vec"
   ]
  },
  {
   "cell_type": "code",
   "execution_count": 7,
   "id": "f8c4f9cb",
   "metadata": {},
   "outputs": [
    {
     "name": "stdout",
     "output_type": "stream",
     "text": [
      "Starting pipeline using method: EvaluationType.CROSS_VALIDATION\n"
     ]
    },
    {
     "name": "stderr",
     "output_type": "stream",
     "text": [
      "Computing transition probabilities: 100%|██████████████████████████████████████████████████████████████████████████████████| 45/45 [00:00<00:00, 9020.44it/s]\n",
      "Generating walks (CPU: 1): 100%|████████████████████████████████████████████████████████████████████████████████████████| 1000/1000 [00:03<00:00, 253.50it/s]\n",
      "  0%|                                                                                                                                  | 0/5 [00:00<?, ?it/s]\n",
      "Computing transition probabilities: 100%|██████████████████████████████████████████████████████████████████████████████████| 45/45 [00:00<00:00, 9025.18it/s]\u001b[A\n",
      "\n",
      "Generating walks (CPU: 1):   0%|                                                                                                    | 0/1000 [00:00<?, ?it/s]\u001b[A\n",
      "Generating walks (CPU: 1):   2%|██▎                                                                                       | 25/1000 [00:00<00:04, 242.53it/s]\u001b[A\n",
      "Generating walks (CPU: 1):   5%|████▌                                                                                     | 50/1000 [00:00<00:03, 243.02it/s]\u001b[A\n",
      "Generating walks (CPU: 1):   8%|██████▊                                                                                   | 75/1000 [00:00<00:03, 239.95it/s]\u001b[A\n",
      "Generating walks (CPU: 1):  10%|████████▉                                                                                 | 99/1000 [00:00<00:03, 233.92it/s]\u001b[A\n",
      "Generating walks (CPU: 1):  12%|██████████▉                                                                              | 123/1000 [00:00<00:04, 195.81it/s]\u001b[A\n",
      "Generating walks (CPU: 1):  15%|████████████▉                                                                            | 146/1000 [00:00<00:04, 203.59it/s]\u001b[A\n",
      "Generating walks (CPU: 1):  17%|███████████████                                                                          | 169/1000 [00:00<00:03, 209.04it/s]\u001b[A\n",
      "Generating walks (CPU: 1):  19%|████████████████▉                                                                        | 191/1000 [00:00<00:03, 209.36it/s]\u001b[A\n",
      "Generating walks (CPU: 1):  22%|███████████████████▏                                                                     | 215/1000 [00:00<00:03, 215.33it/s]\u001b[A\n",
      "Generating walks (CPU: 1):  24%|█████████████████████▎                                                                   | 240/1000 [00:01<00:03, 224.69it/s]\u001b[A\n",
      "Generating walks (CPU: 1):  26%|███████████████████████▍                                                                 | 263/1000 [00:01<00:03, 225.08it/s]\u001b[A\n",
      "Generating walks (CPU: 1):  29%|█████████████████████████▍                                                               | 286/1000 [00:01<00:03, 226.05it/s]\u001b[A\n",
      "Generating walks (CPU: 1):  31%|███████████████████████████▌                                                             | 309/1000 [00:01<00:03, 226.06it/s]\u001b[A\n",
      "Generating walks (CPU: 1):  33%|█████████████████████████████▋                                                           | 334/1000 [00:01<00:02, 231.98it/s]\u001b[A\n",
      "Generating walks (CPU: 1):  36%|███████████████████████████████▉                                                         | 359/1000 [00:01<00:02, 236.10it/s]\u001b[A\n",
      "Generating walks (CPU: 1):  38%|██████████████████████████████████                                                       | 383/1000 [00:01<00:02, 236.75it/s]\u001b[A\n",
      "Generating walks (CPU: 1):  41%|████████████████████████████████████▏                                                    | 407/1000 [00:01<00:02, 235.09it/s]\u001b[A\n",
      "Generating walks (CPU: 1):  43%|██████████████████████████████████████▎                                                  | 431/1000 [00:01<00:02, 233.99it/s]\u001b[A\n",
      "Generating walks (CPU: 1):  46%|████████████████████████████████████████▋                                                | 457/1000 [00:02<00:02, 239.83it/s]\u001b[A\n",
      "Generating walks (CPU: 1):  48%|██████████████████████████████████████████▊                                              | 481/1000 [00:02<00:02, 238.67it/s]\u001b[A\n",
      "Generating walks (CPU: 1):  50%|████████████████████████████████████████████▉                                            | 505/1000 [00:02<00:02, 237.18it/s]\u001b[A\n",
      "Generating walks (CPU: 1):  53%|███████████████████████████████████████████████                                          | 529/1000 [00:02<00:01, 236.80it/s]\u001b[A\n",
      "Generating walks (CPU: 1):  55%|█████████████████████████████████████████████████▏                                       | 553/1000 [00:02<00:01, 229.46it/s]\u001b[A\n",
      "Generating walks (CPU: 1):  58%|███████████████████████████████████████████████████▎                                     | 576/1000 [00:02<00:01, 229.13it/s]\u001b[A\n",
      "Generating walks (CPU: 1):  60%|█████████████████████████████████████████████████████▍                                   | 600/1000 [00:02<00:01, 230.47it/s]\u001b[A\n",
      "Generating walks (CPU: 1):  62%|███████████████████████████████████████████████████████▌                                 | 624/1000 [00:02<00:01, 232.56it/s]\u001b[A\n",
      "Generating walks (CPU: 1):  65%|█████████████████████████████████████████████████████████▋                               | 648/1000 [00:02<00:01, 230.22it/s]\u001b[A\n",
      "Generating walks (CPU: 1):  67%|███████████████████████████████████████████████████████████▊                             | 672/1000 [00:02<00:01, 230.57it/s]\u001b[A\n",
      "Generating walks (CPU: 1):  70%|█████████████████████████████████████████████████████████████▉                           | 696/1000 [00:03<00:01, 228.78it/s]\u001b[A\n",
      "Generating walks (CPU: 1):  72%|████████████████████████████████████████████████████████████████                         | 720/1000 [00:03<00:01, 228.93it/s]\u001b[A\n",
      "Generating walks (CPU: 1):  75%|██████████████████████████████████████████████████████████████████▍                      | 746/1000 [00:03<00:01, 236.06it/s]\u001b[A\n",
      "Generating walks (CPU: 1):  77%|████████████████████████████████████████████████████████████████████▌                    | 770/1000 [00:03<00:00, 234.68it/s]\u001b[A\n",
      "Generating walks (CPU: 1):  79%|██████████████████████████████████████████████████████████████████████▋                  | 794/1000 [00:03<00:00, 231.64it/s]\u001b[A\n",
      "Generating walks (CPU: 1):  82%|████████████████████████████████████████████████████████████████████████▊                | 818/1000 [00:03<00:00, 232.23it/s]\u001b[A\n",
      "Generating walks (CPU: 1):  84%|███████████████████████████████████████████████████████████████████████████              | 843/1000 [00:03<00:00, 234.03it/s]\u001b[A\n",
      "Generating walks (CPU: 1):  87%|█████████████████████████████████████████████████████████████████████████████▏           | 867/1000 [00:03<00:00, 233.24it/s]\u001b[A\n",
      "Generating walks (CPU: 1):  89%|███████████████████████████████████████████████████████████████████████████████▎         | 891/1000 [00:03<00:00, 234.03it/s]\u001b[A\n",
      "Generating walks (CPU: 1):  92%|█████████████████████████████████████████████████████████████████████████████████▍       | 915/1000 [00:03<00:00, 231.87it/s]\u001b[A\n",
      "Generating walks (CPU: 1):  94%|███████████████████████████████████████████████████████████████████████████████████▌     | 939/1000 [00:04<00:00, 227.82it/s]\u001b[A\n",
      "Generating walks (CPU: 1):  96%|█████████████████████████████████████████████████████████████████████████████████████▋   | 963/1000 [00:04<00:00, 230.18it/s]\u001b[A\n",
      "Generating walks (CPU: 1): 100%|████████████████████████████████████████████████████████████████████████████████████████| 1000/1000 [00:04<00:00, 228.81it/s]\u001b[A\n",
      "\n",
      "Computing transition probabilities: 100%|██████████████████████████████████████████████████████████████████████████████████| 45/45 [00:00<00:00, 9026.91it/s]\u001b[A\n",
      "\n",
      "Generating walks (CPU: 1):   0%|                                                                                                    | 0/1000 [00:00<?, ?it/s]\u001b[A\n",
      "Generating walks (CPU: 1):   2%|█▉                                                                                        | 22/1000 [00:00<00:04, 212.04it/s]\u001b[A\n",
      "Generating walks (CPU: 1):   4%|███▉                                                                                      | 44/1000 [00:00<00:04, 214.50it/s]\u001b[A\n"
     ]
    },
    {
     "name": "stderr",
     "output_type": "stream",
     "text": [
      "Generating walks (CPU: 1):   7%|██████▎                                                                                   | 70/1000 [00:00<00:04, 232.14it/s]\u001b[A\n",
      "Generating walks (CPU: 1):   9%|████████▍                                                                                 | 94/1000 [00:00<00:04, 221.71it/s]\u001b[A\n",
      "Generating walks (CPU: 1):  12%|██████████▌                                                                              | 119/1000 [00:00<00:03, 230.06it/s]\u001b[A\n",
      "Generating walks (CPU: 1):  15%|████████████▉                                                                            | 146/1000 [00:00<00:03, 239.45it/s]\u001b[A\n",
      "Generating walks (CPU: 1):  17%|███████████████▏                                                                         | 171/1000 [00:00<00:03, 242.22it/s]\u001b[A\n",
      "Generating walks (CPU: 1):  20%|█████████████████▌                                                                       | 197/1000 [00:00<00:03, 245.66it/s]\u001b[A\n",
      "Generating walks (CPU: 1):  22%|████████████████████                                                                     | 225/1000 [00:00<00:03, 253.77it/s]\u001b[A\n",
      "Generating walks (CPU: 1):  25%|██████████████████████▍                                                                  | 252/1000 [00:01<00:02, 256.91it/s]\u001b[A\n",
      "Generating walks (CPU: 1):  28%|████████████████████████▋                                                                | 278/1000 [00:01<00:02, 255.02it/s]\u001b[A\n",
      "Generating walks (CPU: 1):  31%|███████████████████████████▏                                                             | 306/1000 [00:01<00:02, 259.58it/s]\u001b[A\n",
      "Generating walks (CPU: 1):  33%|█████████████████████████████▋                                                           | 334/1000 [00:01<00:02, 262.73it/s]\u001b[A\n",
      "Generating walks (CPU: 1):  36%|████████████████████████████████▏                                                        | 361/1000 [00:01<00:02, 261.21it/s]\u001b[A\n",
      "Generating walks (CPU: 1):  39%|██████████████████████████████████▌                                                      | 388/1000 [00:01<00:02, 254.34it/s]\u001b[A\n",
      "Generating walks (CPU: 1):  41%|████████████████████████████████████▊                                                    | 414/1000 [00:01<00:02, 253.77it/s]\u001b[A\n",
      "Generating walks (CPU: 1):  44%|███████████████████████████████████████▏                                                 | 440/1000 [00:01<00:02, 254.28it/s]\u001b[A\n",
      "Generating walks (CPU: 1):  47%|█████████████████████████████████████████▍                                               | 466/1000 [00:01<00:02, 251.03it/s]\u001b[A\n",
      "Generating walks (CPU: 1):  49%|███████████████████████████████████████████▊                                             | 492/1000 [00:01<00:02, 253.10it/s]\u001b[A\n",
      "Generating walks (CPU: 1):  52%|██████████████████████████████████████████████▏                                          | 519/1000 [00:02<00:01, 256.00it/s]\u001b[A\n",
      "Generating walks (CPU: 1):  55%|████████████████████████████████████████████████▌                                        | 545/1000 [00:02<00:01, 250.61it/s]\u001b[A\n",
      "Generating walks (CPU: 1):  57%|██████████████████████████████████████████████████▊                                      | 571/1000 [00:02<00:01, 251.32it/s]\u001b[A\n",
      "Generating walks (CPU: 1):  60%|█████████████████████████████████████████████████████▏                                   | 597/1000 [00:02<00:01, 251.13it/s]\u001b[A\n",
      "Generating walks (CPU: 1):  62%|███████████████████████████████████████████████████████▍                                 | 623/1000 [00:02<00:01, 251.01it/s]\u001b[A\n",
      "Generating walks (CPU: 1):  65%|█████████████████████████████████████████████████████████▉                               | 651/1000 [00:02<00:01, 258.15it/s]\u001b[A\n",
      "Generating walks (CPU: 1):  68%|████████████████████████████████████████████████████████████▎                            | 677/1000 [00:02<00:01, 249.40it/s]\u001b[A\n",
      "Generating walks (CPU: 1):  70%|██████████████████████████████████████████████████████████████▌                          | 703/1000 [00:02<00:01, 247.69it/s]\u001b[A\n",
      "Generating walks (CPU: 1):  73%|████████████████████████████████████████████████████████████████▉                        | 730/1000 [00:02<00:01, 252.85it/s]\u001b[A\n",
      "Generating walks (CPU: 1):  76%|███████████████████████████████████████████████████████████████████▎                     | 756/1000 [00:03<00:00, 252.89it/s]\u001b[A\n",
      "Generating walks (CPU: 1):  78%|█████████████████████████████████████████████████████████████████████▌                   | 782/1000 [00:03<00:00, 252.98it/s]\u001b[A\n",
      "Generating walks (CPU: 1):  81%|███████████████████████████████████████████████████████████████████████▉                 | 808/1000 [00:03<00:00, 248.35it/s]\u001b[A\n",
      "Generating walks (CPU: 1):  83%|██████████████████████████████████████████████████████████████████████████▏              | 834/1000 [00:03<00:00, 251.65it/s]\u001b[A\n",
      "Generating walks (CPU: 1):  86%|████████████████████████████████████████████████████████████████████████████▌            | 860/1000 [00:03<00:00, 247.78it/s]\u001b[A\n",
      "Generating walks (CPU: 1):  89%|███████████████████████████████████████████████████████████████████████████████          | 888/1000 [00:03<00:00, 255.07it/s]\u001b[A\n",
      "Generating walks (CPU: 1):  92%|█████████████████████████████████████████████████████████████████████████████████▌       | 916/1000 [00:03<00:00, 260.71it/s]\u001b[A\n",
      "Generating walks (CPU: 1):  94%|███████████████████████████████████████████████████████████████████████████████████▉     | 943/1000 [00:03<00:00, 254.51it/s]\u001b[A\n",
      "Generating walks (CPU: 1):  97%|██████████████████████████████████████████████████████████████████████████████████████▏  | 969/1000 [00:03<00:00, 255.52it/s]\u001b[A\n",
      "Generating walks (CPU: 1): 100%|████████████████████████████████████████████████████████████████████████████████████████| 1000/1000 [00:04<00:00, 246.18it/s]\u001b[A\n",
      " 20%|████████████████████████▍                                                                                                 | 1/5 [00:18<01:14, 18.71s/it]\n",
      "Computing transition probabilities: 100%|██████████████████████████████████████████████████████████████████████████████████| 45/45 [00:00<00:00, 9026.91it/s]\u001b[A\n",
      "\n",
      "Generating walks (CPU: 1):   0%|                                                                                                    | 0/1000 [00:00<?, ?it/s]\u001b[A\n",
      "Generating walks (CPU: 1):   2%|██▎                                                                                       | 25/1000 [00:00<00:04, 241.03it/s]\u001b[A\n",
      "Generating walks (CPU: 1):   5%|████▊                                                                                     | 53/1000 [00:00<00:03, 258.04it/s]\u001b[A\n",
      "Generating walks (CPU: 1):   8%|███████                                                                                   | 79/1000 [00:00<00:03, 256.89it/s]\u001b[A\n",
      "Generating walks (CPU: 1):  11%|█████████▍                                                                               | 106/1000 [00:00<00:03, 259.27it/s]\u001b[A\n",
      "Generating walks (CPU: 1):  13%|███████████▋                                                                             | 132/1000 [00:00<00:03, 256.12it/s]\u001b[A\n",
      "Generating walks (CPU: 1):  16%|██████████████                                                                           | 158/1000 [00:00<00:03, 256.78it/s]\u001b[A\n",
      "Generating walks (CPU: 1):  18%|████████████████▍                                                                        | 184/1000 [00:00<00:03, 247.73it/s]\u001b[A\n",
      "Generating walks (CPU: 1):  21%|██████████████████▌                                                                      | 209/1000 [00:00<00:03, 242.66it/s]\u001b[A\n",
      "Generating walks (CPU: 1):  23%|████████████████████▊                                                                    | 234/1000 [00:00<00:03, 243.62it/s]\u001b[A\n",
      "Generating walks (CPU: 1):  26%|███████████████████████                                                                  | 259/1000 [00:01<00:03, 245.12it/s]\u001b[A\n",
      "Generating walks (CPU: 1):  28%|█████████████████████████▎                                                               | 285/1000 [00:01<00:02, 249.02it/s]\u001b[A\n"
     ]
    },
    {
     "name": "stderr",
     "output_type": "stream",
     "text": [
      "Generating walks (CPU: 1):  31%|███████████████████████████▊                                                             | 312/1000 [00:01<00:02, 253.98it/s]\u001b[A\n",
      "Generating walks (CPU: 1):  34%|██████████████████████████████                                                           | 338/1000 [00:01<00:02, 254.46it/s]\u001b[A\n",
      "Generating walks (CPU: 1):  36%|████████████████████████████████▍                                                        | 364/1000 [00:01<00:02, 255.88it/s]\u001b[A\n",
      "Generating walks (CPU: 1):  39%|██████████████████████████████████▋                                                      | 390/1000 [00:01<00:02, 252.03it/s]\u001b[A\n",
      "Generating walks (CPU: 1):  42%|█████████████████████████████████████                                                    | 416/1000 [00:01<00:02, 250.19it/s]\u001b[A\n",
      "Generating walks (CPU: 1):  44%|███████████████████████████████████████▎                                                 | 442/1000 [00:01<00:02, 252.25it/s]\u001b[A\n",
      "Generating walks (CPU: 1):  47%|█████████████████████████████████████████▋                                               | 469/1000 [00:01<00:02, 256.89it/s]\u001b[A\n",
      "Generating walks (CPU: 1):  50%|████████████████████████████████████████████                                             | 495/1000 [00:01<00:01, 254.58it/s]\u001b[A\n",
      "Generating walks (CPU: 1):  52%|██████████████████████████████████████████████▍                                          | 522/1000 [00:02<00:01, 257.08it/s]\u001b[A\n",
      "Generating walks (CPU: 1):  55%|████████████████████████████████████████████████▊                                        | 548/1000 [00:02<00:01, 257.08it/s]\u001b[A\n",
      "Generating walks (CPU: 1):  57%|███████████████████████████████████████████████████▏                                     | 575/1000 [00:02<00:01, 258.78it/s]\u001b[A\n",
      "Generating walks (CPU: 1):  60%|█████████████████████████████████████████████████████▌                                   | 602/1000 [00:02<00:01, 260.79it/s]\u001b[A\n",
      "Generating walks (CPU: 1):  63%|███████████████████████████████████████████████████████▉                                 | 629/1000 [00:02<00:01, 259.89it/s]\u001b[A\n",
      "Generating walks (CPU: 1):  66%|██████████████████████████████████████████████████████████▎                              | 655/1000 [00:02<00:01, 259.36it/s]\u001b[A\n",
      "Generating walks (CPU: 1):  68%|████████████████████████████████████████████████████████████▌                            | 681/1000 [00:02<00:01, 258.99it/s]\u001b[A\n",
      "Generating walks (CPU: 1):  71%|██████████████████████████████████████████████████████████████▉                          | 707/1000 [00:02<00:01, 255.51it/s]\u001b[A\n",
      "Generating walks (CPU: 1):  73%|█████████████████████████████████████████████████████████████████▏                       | 733/1000 [00:02<00:01, 214.25it/s]\u001b[A\n",
      "Generating walks (CPU: 1):  76%|███████████████████████████████████████████████████████████████████▋                     | 760/1000 [00:03<00:01, 227.70it/s]\u001b[A\n",
      "Generating walks (CPU: 1):  78%|█████████████████████████████████████████████████████████████████████▊                   | 785/1000 [00:03<00:00, 233.50it/s]\u001b[A\n",
      "Generating walks (CPU: 1):  81%|████████████████████████████████████████████████████████████████████████                 | 810/1000 [00:03<00:00, 236.97it/s]\u001b[A\n",
      "Generating walks (CPU: 1):  84%|██████████████████████████████████████████████████████████████████████████▍              | 836/1000 [00:03<00:00, 240.93it/s]\u001b[A\n",
      "Generating walks (CPU: 1):  86%|████████████████████████████████████████████████████████████████████████████▊            | 863/1000 [00:03<00:00, 248.34it/s]\u001b[A\n",
      "Generating walks (CPU: 1):  89%|███████████████████████████████████████████████████████████████████████████████▎         | 891/1000 [00:03<00:00, 254.77it/s]\u001b[A\n",
      "Generating walks (CPU: 1):  92%|█████████████████████████████████████████████████████████████████████████████████▌       | 917/1000 [00:03<00:00, 254.99it/s]\u001b[A\n",
      "Generating walks (CPU: 1):  94%|███████████████████████████████████████████████████████████████████████████████████▉     | 943/1000 [00:03<00:00, 250.83it/s]\u001b[A\n",
      "Generating walks (CPU: 1):  97%|██████████████████████████████████████████████████████████████████████████████████████▏  | 969/1000 [00:03<00:00, 252.22it/s]\u001b[A\n",
      "Generating walks (CPU: 1): 100%|████████████████████████████████████████████████████████████████████████████████████████| 1000/1000 [00:04<00:00, 249.85it/s]\u001b[A\n",
      "\n",
      "Computing transition probabilities: 100%|██████████████████████████████████████████████████████████████████████████████████| 45/45 [00:00<00:00, 9014.84it/s]\u001b[A\n",
      "\n",
      "Generating walks (CPU: 1):   0%|                                                                                                    | 0/1000 [00:00<?, ?it/s]\u001b[A\n",
      "Generating walks (CPU: 1):   2%|██▎                                                                                       | 25/1000 [00:00<00:03, 245.75it/s]\u001b[A\n",
      "Generating walks (CPU: 1):   5%|████▌                                                                                     | 50/1000 [00:00<00:03, 245.76it/s]\u001b[A\n",
      "Generating walks (CPU: 1):   8%|██████▊                                                                                   | 75/1000 [00:00<00:03, 245.76it/s]\u001b[A\n",
      "Generating walks (CPU: 1):  10%|█████████                                                                                | 102/1000 [00:00<00:03, 252.54it/s]\u001b[A\n",
      "Generating walks (CPU: 1):  13%|███████████▍                                                                             | 128/1000 [00:00<00:03, 247.45it/s]\u001b[A\n",
      "Generating walks (CPU: 1):  16%|█████████████▉                                                                           | 156/1000 [00:00<00:03, 256.38it/s]\u001b[A\n",
      "Generating walks (CPU: 1):  18%|████████████████▏                                                                        | 182/1000 [00:00<00:03, 252.16it/s]\u001b[A\n",
      "Generating walks (CPU: 1):  21%|██████████████████▌                                                                      | 208/1000 [00:00<00:03, 253.20it/s]\u001b[A\n",
      "Generating walks (CPU: 1):  23%|████████████████████▊                                                                    | 234/1000 [00:00<00:03, 247.21it/s]\u001b[A\n",
      "Generating walks (CPU: 1):  26%|███████████████████████                                                                  | 259/1000 [00:01<00:03, 242.05it/s]\u001b[A\n",
      "Generating walks (CPU: 1):  28%|█████████████████████████▎                                                               | 284/1000 [00:01<00:02, 239.70it/s]\u001b[A\n",
      "Generating walks (CPU: 1):  31%|███████████████████████████▍                                                             | 308/1000 [00:01<00:02, 238.41it/s]\u001b[A\n",
      "Generating walks (CPU: 1):  34%|█████████████████████████████▉                                                           | 336/1000 [00:01<00:02, 248.55it/s]\u001b[A\n",
      "Generating walks (CPU: 1):  36%|████████████████████████████████▎                                                        | 363/1000 [00:01<00:02, 252.42it/s]\u001b[A\n",
      "Generating walks (CPU: 1):  39%|██████████████████████████████████▌                                                      | 389/1000 [00:01<00:02, 247.92it/s]\u001b[A\n",
      "Generating walks (CPU: 1):  41%|████████████████████████████████████▊                                                    | 414/1000 [00:01<00:02, 244.50it/s]\u001b[A\n",
      "Generating walks (CPU: 1):  44%|███████████████████████████████████████▏                                                 | 440/1000 [00:01<00:02, 248.43it/s]\u001b[A\n",
      "Generating walks (CPU: 1):  47%|█████████████████████████████████████████▌                                               | 467/1000 [00:01<00:02, 253.48it/s]\u001b[A\n",
      "Generating walks (CPU: 1):  49%|███████████████████████████████████████████▉                                             | 493/1000 [00:01<00:02, 251.88it/s]\u001b[A\n",
      "Generating walks (CPU: 1):  52%|██████████████████████████████████████████████▏                                          | 519/1000 [00:02<00:01, 242.45it/s]\u001b[A\n",
      "Generating walks (CPU: 1):  54%|████████████████████████████████████████████████▍                                        | 544/1000 [00:02<00:01, 242.69it/s]\u001b[A\n"
     ]
    },
    {
     "name": "stderr",
     "output_type": "stream",
     "text": [
      "Generating walks (CPU: 1):  57%|██████████████████████████████████████████████████▋                                      | 570/1000 [00:02<00:01, 247.17it/s]\u001b[A\n",
      "Generating walks (CPU: 1):  60%|█████████████████████████████████████████████████████                                    | 596/1000 [00:02<00:01, 249.65it/s]\u001b[A\n",
      "Generating walks (CPU: 1):  62%|███████████████████████████████████████████████████████▎                                 | 622/1000 [00:02<00:01, 248.52it/s]\u001b[A\n",
      "Generating walks (CPU: 1):  65%|█████████████████████████████████████████████████████████▋                               | 648/1000 [00:02<00:01, 251.60it/s]\u001b[A\n",
      "Generating walks (CPU: 1):  68%|████████████████████████████████████████████████████████████                             | 675/1000 [00:02<00:01, 254.96it/s]\u001b[A\n",
      "Generating walks (CPU: 1):  70%|██████████████████████████████████████████████████████████████▍                          | 701/1000 [00:02<00:01, 252.20it/s]\u001b[A\n",
      "Generating walks (CPU: 1):  73%|████████████████████████████████████████████████████████████████▋                        | 727/1000 [00:02<00:01, 253.23it/s]\u001b[A\n",
      "Generating walks (CPU: 1):  75%|███████████████████████████████████████████████████████████████████                      | 753/1000 [00:03<00:00, 254.64it/s]\u001b[A\n",
      "Generating walks (CPU: 1):  78%|█████████████████████████████████████████████████████████████████████▍                   | 780/1000 [00:03<00:00, 257.13it/s]\u001b[A\n",
      "Generating walks (CPU: 1):  81%|███████████████████████████████████████████████████████████████████████▊                 | 807/1000 [00:03<00:00, 258.85it/s]\u001b[A\n",
      "Generating walks (CPU: 1):  83%|██████████████████████████████████████████████████████████████████████████▏              | 833/1000 [00:03<00:00, 257.09it/s]\u001b[A\n",
      "Generating walks (CPU: 1):  86%|████████████████████████████████████████████████████████████████████████████▌            | 860/1000 [00:03<00:00, 258.81it/s]\u001b[A\n",
      "Generating walks (CPU: 1):  89%|███████████████████████████████████████████████████████████████████████████████          | 888/1000 [00:03<00:00, 262.94it/s]\u001b[A\n",
      "Generating walks (CPU: 1):  92%|█████████████████████████████████████████████████████████████████████████████████▍       | 915/1000 [00:03<00:00, 263.80it/s]\u001b[A\n",
      "Generating walks (CPU: 1):  94%|███████████████████████████████████████████████████████████████████████████████████▊     | 942/1000 [00:03<00:00, 251.07it/s]\u001b[A\n",
      "Generating walks (CPU: 1):  97%|██████████████████████████████████████████████████████████████████████████████████████▏  | 969/1000 [00:03<00:00, 255.21it/s]\u001b[A\n",
      "Generating walks (CPU: 1): 100%|████████████████████████████████████████████████████████████████████████████████████████| 1000/1000 [00:03<00:00, 250.42it/s]\u001b[A\n",
      " 40%|████████████████████████████████████████████████▊                                                                         | 2/5 [00:37<00:55, 18.48s/it]\n",
      "Computing transition probabilities: 100%|█████████████████████████████████████████████████████████████████████████████████| 45/45 [00:00<00:00, 11280.40it/s]\u001b[A\n",
      "\n",
      "Generating walks (CPU: 1):   0%|                                                                                                    | 0/1000 [00:00<?, ?it/s]\u001b[A\n",
      "Generating walks (CPU: 1):   3%|██▍                                                                                       | 27/1000 [00:00<00:03, 260.22it/s]\u001b[A\n",
      "Generating walks (CPU: 1):   5%|████▊                                                                                     | 54/1000 [00:00<00:03, 264.82it/s]\u001b[A\n",
      "Generating walks (CPU: 1):   8%|███████▎                                                                                  | 81/1000 [00:00<00:03, 247.39it/s]\u001b[A\n",
      "Generating walks (CPU: 1):  11%|█████████▌                                                                               | 108/1000 [00:00<00:03, 254.12it/s]\u001b[A\n",
      "Generating walks (CPU: 1):  13%|███████████▉                                                                             | 134/1000 [00:00<00:03, 243.70it/s]\u001b[A\n",
      "Generating walks (CPU: 1):  16%|██████████████▏                                                                          | 159/1000 [00:00<00:03, 244.40it/s]\u001b[A\n",
      "Generating walks (CPU: 1):  19%|████████████████▌                                                                        | 186/1000 [00:00<00:03, 250.26it/s]\u001b[A\n",
      "Generating walks (CPU: 1):  21%|██████████████████▊                                                                      | 212/1000 [00:00<00:03, 251.18it/s]\u001b[A\n",
      "Generating walks (CPU: 1):  24%|█████████████████████▏                                                                   | 238/1000 [00:00<00:03, 249.02it/s]\u001b[A\n",
      "Generating walks (CPU: 1):  26%|███████████████████████▍                                                                 | 264/1000 [00:01<00:02, 248.82it/s]\u001b[A\n",
      "Generating walks (CPU: 1):  29%|█████████████████████████▋                                                               | 289/1000 [00:01<00:02, 247.88it/s]\u001b[A\n",
      "Generating walks (CPU: 1):  31%|███████████████████████████▉                                                             | 314/1000 [00:01<00:02, 247.99it/s]\u001b[A\n",
      "Generating walks (CPU: 1):  34%|██████████████████████████████▏                                                          | 339/1000 [00:01<00:02, 248.05it/s]\u001b[A\n",
      "Generating walks (CPU: 1):  36%|████████████████████████████████▍                                                        | 364/1000 [00:01<00:02, 247.36it/s]\u001b[A\n",
      "Generating walks (CPU: 1):  39%|██████████████████████████████████▋                                                      | 390/1000 [00:01<00:02, 249.46it/s]\u001b[A\n",
      "Generating walks (CPU: 1):  42%|█████████████████████████████████████                                                    | 417/1000 [00:01<00:02, 252.75it/s]\u001b[A\n",
      "Generating walks (CPU: 1):  44%|███████████████████████████████████████▍                                                 | 443/1000 [00:01<00:02, 252.89it/s]\u001b[A\n",
      "Generating walks (CPU: 1):  47%|█████████████████████████████████████████▋                                               | 469/1000 [00:01<00:02, 252.26it/s]\u001b[A\n",
      "Generating walks (CPU: 1):  50%|████████████████████████████████████████████▏                                            | 496/1000 [00:01<00:01, 256.20it/s]\u001b[A\n",
      "Generating walks (CPU: 1):  52%|██████████████████████████████████████████████▍                                          | 522/1000 [00:02<00:01, 254.13it/s]\u001b[A\n",
      "Generating walks (CPU: 1):  55%|████████████████████████████████████████████████▊                                        | 548/1000 [00:02<00:01, 254.54it/s]\u001b[A\n",
      "Generating walks (CPU: 1):  57%|███████████████████████████████████████████████████▏                                     | 575/1000 [00:02<00:01, 257.03it/s]\u001b[A\n",
      "Generating walks (CPU: 1):  60%|█████████████████████████████████████████████████████▍                                   | 601/1000 [00:02<00:01, 246.51it/s]\u001b[A\n",
      "Generating walks (CPU: 1):  63%|███████████████████████████████████████████████████████▋                                 | 626/1000 [00:02<00:01, 244.21it/s]\u001b[A\n",
      "Generating walks (CPU: 1):  65%|█████████████████████████████████████████████████████████▉                               | 651/1000 [00:02<00:01, 242.58it/s]\u001b[A\n",
      "Generating walks (CPU: 1):  68%|████████████████████████████████████████████████████████████▏                            | 676/1000 [00:02<00:01, 243.53it/s]\u001b[A\n",
      "Generating walks (CPU: 1):  70%|██████████████████████████████████████████████████████████████▌                          | 703/1000 [00:02<00:01, 249.95it/s]\u001b[A\n",
      "Generating walks (CPU: 1):  73%|████████████████████████████████████████████████████████████████▉                        | 729/1000 [00:02<00:01, 250.89it/s]\u001b[A\n",
      "Generating walks (CPU: 1):  76%|███████████████████████████████████████████████████████████████████▏                     | 755/1000 [00:03<00:00, 250.13it/s]\u001b[A\n",
      "Generating walks (CPU: 1):  78%|█████████████████████████████████████████████████████████████████████▌                   | 781/1000 [00:03<00:00, 246.70it/s]\u001b[A\n"
     ]
    },
    {
     "name": "stderr",
     "output_type": "stream",
     "text": [
      "Generating walks (CPU: 1):  81%|███████████████████████████████████████████████████████████████████████▉                 | 808/1000 [00:03<00:00, 251.46it/s]\u001b[A\n",
      "Generating walks (CPU: 1):  83%|██████████████████████████████████████████████████████████████████████████▏              | 834/1000 [00:03<00:00, 241.49it/s]\u001b[A\n",
      "Generating walks (CPU: 1):  86%|████████████████████████████████████████████████████████████████████████████▌            | 860/1000 [00:03<00:00, 244.85it/s]\u001b[A\n",
      "Generating walks (CPU: 1):  89%|██████████████████████████████████████████████████████████████████████████████▊          | 886/1000 [00:03<00:00, 247.98it/s]\u001b[A\n",
      "Generating walks (CPU: 1):  91%|█████████████████████████████████████████████████████████████████████████████████        | 911/1000 [00:03<00:00, 246.62it/s]\u001b[A\n",
      "Generating walks (CPU: 1):  94%|███████████████████████████████████████████████████████████████████████████████████▎     | 936/1000 [00:03<00:00, 247.08it/s]\u001b[A\n",
      "Generating walks (CPU: 1):  96%|█████████████████████████████████████████████████████████████████████████████████████▌   | 962/1000 [00:03<00:00, 248.18it/s]\u001b[A\n",
      "Generating walks (CPU: 1): 100%|████████████████████████████████████████████████████████████████████████████████████████| 1000/1000 [00:04<00:00, 249.11it/s]\u001b[A\n",
      "\n",
      "Computing transition probabilities: 100%|██████████████████████████████████████████████████████████████████████████████████| 45/45 [00:00<00:00, 9026.91it/s]\u001b[A\n",
      "\n",
      "Generating walks (CPU: 1):   0%|                                                                                                    | 0/1000 [00:00<?, ?it/s]\u001b[A\n",
      "Generating walks (CPU: 1):   3%|██▍                                                                                       | 27/1000 [00:00<00:03, 262.84it/s]\u001b[A\n",
      "Generating walks (CPU: 1):   5%|████▊                                                                                     | 54/1000 [00:00<00:03, 249.99it/s]\u001b[A\n",
      "Generating walks (CPU: 1):   8%|███████▏                                                                                  | 80/1000 [00:00<00:03, 252.42it/s]\u001b[A\n",
      "Generating walks (CPU: 1):  11%|█████████▍                                                                               | 106/1000 [00:00<00:03, 252.69it/s]\u001b[A\n",
      "Generating walks (CPU: 1):  13%|███████████▋                                                                             | 132/1000 [00:00<00:03, 252.87it/s]\u001b[A\n",
      "Generating walks (CPU: 1):  16%|██████████████▎                                                                          | 161/1000 [00:00<00:03, 261.96it/s]\u001b[A\n",
      "Generating walks (CPU: 1):  19%|████████████████▋                                                                        | 188/1000 [00:00<00:03, 258.98it/s]\u001b[A\n",
      "Generating walks (CPU: 1):  21%|███████████████████                                                                      | 214/1000 [00:00<00:03, 254.77it/s]\u001b[A\n",
      "Generating walks (CPU: 1):  24%|█████████████████████▎                                                                   | 240/1000 [00:00<00:03, 252.00it/s]\u001b[A\n",
      "Generating walks (CPU: 1):  27%|███████████████████████▋                                                                 | 266/1000 [00:01<00:03, 243.74it/s]\u001b[A\n",
      "Generating walks (CPU: 1):  29%|██████████████████████████▏                                                              | 294/1000 [00:01<00:02, 252.14it/s]\u001b[A\n",
      "Generating walks (CPU: 1):  32%|████████████████████████████▍                                                            | 320/1000 [00:01<00:02, 246.07it/s]\u001b[A\n",
      "Generating walks (CPU: 1):  35%|██████████████████████████████▊                                                          | 346/1000 [00:01<00:02, 248.14it/s]\u001b[A\n",
      "Generating walks (CPU: 1):  37%|█████████████████████████████████                                                        | 372/1000 [00:01<00:02, 250.32it/s]\u001b[A\n",
      "Generating walks (CPU: 1):  40%|███████████████████████████████████▍                                                     | 398/1000 [00:01<00:02, 214.65it/s]\u001b[A\n",
      "Generating walks (CPU: 1):  42%|█████████████████████████████████████▋                                                   | 423/1000 [00:01<00:02, 222.89it/s]\u001b[A\n",
      "Generating walks (CPU: 1):  45%|███████████████████████████████████████▉                                                 | 449/1000 [00:01<00:02, 231.20it/s]\u001b[A\n",
      "Generating walks (CPU: 1):  48%|██████████████████████████████████████████▎                                              | 476/1000 [00:01<00:02, 240.83it/s]\u001b[A\n",
      "Generating walks (CPU: 1):  50%|████████████████████████████████████████████▊                                            | 503/1000 [00:02<00:02, 247.15it/s]\u001b[A\n",
      "Generating walks (CPU: 1):  53%|███████████████████████████████████████████████                                          | 529/1000 [00:02<00:01, 242.03it/s]\u001b[A\n",
      "Generating walks (CPU: 1):  56%|█████████████████████████████████████████████████▍                                       | 556/1000 [00:02<00:01, 249.45it/s]\u001b[A\n",
      "Generating walks (CPU: 1):  58%|███████████████████████████████████████████████████▊                                     | 582/1000 [00:02<00:01, 250.50it/s]\u001b[A\n",
      "Generating walks (CPU: 1):  61%|██████████████████████████████████████████████████████                                   | 608/1000 [00:02<00:01, 248.42it/s]\u001b[A\n",
      "Generating walks (CPU: 1):  63%|████████████████████████████████████████████████████████▍                                | 634/1000 [00:02<00:01, 251.26it/s]\u001b[A\n",
      "Generating walks (CPU: 1):  66%|██████████████████████████████████████████████████████████▋                              | 660/1000 [00:02<00:01, 251.18it/s]\u001b[A\n",
      "Generating walks (CPU: 1):  69%|█████████████████████████████████████████████████████████████                            | 686/1000 [00:02<00:01, 252.59it/s]\u001b[A\n",
      "Generating walks (CPU: 1):  71%|███████████████████████████████████████████████████████████████▍                         | 713/1000 [00:02<00:01, 256.77it/s]\u001b[A\n",
      "Generating walks (CPU: 1):  74%|█████████████████████████████████████████████████████████████████▊                       | 739/1000 [00:02<00:01, 256.42it/s]\u001b[A\n",
      "Generating walks (CPU: 1):  76%|████████████████████████████████████████████████████████████████████                     | 765/1000 [00:03<00:00, 256.17it/s]\u001b[A\n",
      "Generating walks (CPU: 1):  79%|██████████████████████████████████████████████████████████████████████▌                  | 793/1000 [00:03<00:00, 261.90it/s]\u001b[A\n",
      "Generating walks (CPU: 1):  82%|████████████████████████████████████████████████████████████████████████▉                | 820/1000 [00:03<00:00, 260.63it/s]\u001b[A\n",
      "Generating walks (CPU: 1):  85%|███████████████████████████████████████████████████████████████████████████▍             | 847/1000 [00:03<00:00, 258.63it/s]\u001b[A\n",
      "Generating walks (CPU: 1):  87%|█████████████████████████████████████████████████████████████████████████████▋           | 873/1000 [00:03<00:00, 248.58it/s]\u001b[A\n",
      "Generating walks (CPU: 1):  90%|████████████████████████████████████████████████████████████████████████████████         | 899/1000 [00:03<00:00, 249.28it/s]\u001b[A\n",
      "Generating walks (CPU: 1):  92%|██████████████████████████████████████████████████████████████████████████████████▏      | 924/1000 [00:03<00:00, 240.69it/s]\u001b[A\n",
      "Generating walks (CPU: 1):  95%|████████████████████████████████████████████████████████████████████████████████████▍    | 949/1000 [00:03<00:00, 239.44it/s]\u001b[A\n",
      "Generating walks (CPU: 1): 100%|████████████████████████████████████████████████████████████████████████████████████████| 1000/1000 [00:04<00:00, 247.79it/s]\u001b[A\n",
      " 60%|█████████████████████████████████████████████████████████████████████████▏                                                | 3/5 [00:55<00:36, 18.49s/it]\n",
      "Computing transition probabilities: 100%|██████████████████████████████████████████████████████████████████████████████████| 45/45 [00:00<00:00, 9024.32it/s]\u001b[A\n",
      "\n",
      "Generating walks (CPU: 1):   0%|                                                                                                    | 0/1000 [00:00<?, ?it/s]\u001b[A\n"
     ]
    },
    {
     "name": "stderr",
     "output_type": "stream",
     "text": [
      "Generating walks (CPU: 1):   3%|██▌                                                                                       | 28/1000 [00:00<00:03, 269.85it/s]\u001b[A\n",
      "Generating walks (CPU: 1):   6%|████▉                                                                                     | 55/1000 [00:00<00:03, 243.53it/s]\u001b[A\n",
      "Generating walks (CPU: 1):   8%|███████▏                                                                                  | 80/1000 [00:00<00:03, 243.49it/s]\u001b[A\n",
      "Generating walks (CPU: 1):  11%|█████████▌                                                                               | 107/1000 [00:00<00:03, 250.90it/s]\u001b[A\n",
      "Generating walks (CPU: 1):  13%|███████████▊                                                                             | 133/1000 [00:00<00:03, 244.43it/s]\u001b[A\n",
      "Generating walks (CPU: 1):  16%|██████████████▏                                                                          | 160/1000 [00:00<00:03, 252.38it/s]\u001b[A\n",
      "Generating walks (CPU: 1):  19%|████████████████▌                                                                        | 186/1000 [00:00<00:03, 212.65it/s]\u001b[A\n",
      "Generating walks (CPU: 1):  21%|██████████████████▊                                                                      | 212/1000 [00:00<00:03, 224.51it/s]\u001b[A\n",
      "Generating walks (CPU: 1):  24%|█████████████████████                                                                    | 236/1000 [00:01<00:03, 227.14it/s]\u001b[A\n",
      "Generating walks (CPU: 1):  26%|███████████████████████▍                                                                 | 264/1000 [00:01<00:03, 240.95it/s]\u001b[A\n",
      "Generating walks (CPU: 1):  29%|█████████████████████████▋                                                               | 289/1000 [00:01<00:02, 241.68it/s]\u001b[A\n",
      "Generating walks (CPU: 1):  32%|████████████████████████████                                                             | 316/1000 [00:01<00:02, 247.90it/s]\u001b[A\n",
      "Generating walks (CPU: 1):  34%|██████████████████████████████▌                                                          | 343/1000 [00:01<00:02, 253.09it/s]\u001b[A\n",
      "Generating walks (CPU: 1):  37%|████████████████████████████████▉                                                        | 370/1000 [00:01<00:02, 255.97it/s]\u001b[A\n",
      "Generating walks (CPU: 1):  40%|███████████████████████████████████▏                                                     | 396/1000 [00:01<00:02, 254.40it/s]\u001b[A\n",
      "Generating walks (CPU: 1):  42%|█████████████████████████████████████▌                                                   | 422/1000 [00:01<00:02, 246.17it/s]\u001b[A\n",
      "Generating walks (CPU: 1):  45%|███████████████████████████████████████▉                                                 | 449/1000 [00:01<00:02, 251.76it/s]\u001b[A\n",
      "Generating walks (CPU: 1):  48%|██████████████████████████████████████████▎                                              | 475/1000 [00:01<00:02, 251.43it/s]\u001b[A\n",
      "Generating walks (CPU: 1):  50%|████████████████████████████████████████████▋                                            | 502/1000 [00:02<00:01, 253.46it/s]\u001b[A\n",
      "Generating walks (CPU: 1):  53%|███████████████████████████████████████████████▏                                         | 530/1000 [00:02<00:01, 260.23it/s]\u001b[A\n",
      "Generating walks (CPU: 1):  56%|█████████████████████████████████████████████████▌                                       | 557/1000 [00:02<00:01, 259.53it/s]\u001b[A\n",
      "Generating walks (CPU: 1):  58%|███████████████████████████████████████████████████▉                                     | 583/1000 [00:02<00:01, 253.23it/s]\u001b[A\n",
      "Generating walks (CPU: 1):  61%|██████████████████████████████████████████████████████▏                                  | 609/1000 [00:02<00:01, 252.78it/s]\u001b[A\n",
      "Generating walks (CPU: 1):  64%|████████████████████████████████████████████████████████▌                                | 635/1000 [00:02<00:01, 252.85it/s]\u001b[A\n",
      "Generating walks (CPU: 1):  66%|██████████████████████████████████████████████████████████▉                              | 662/1000 [00:02<00:01, 256.59it/s]\u001b[A\n",
      "Generating walks (CPU: 1):  69%|█████████████████████████████████████████████████████████████▍                           | 690/1000 [00:02<00:01, 262.12it/s]\u001b[A\n",
      "Generating walks (CPU: 1):  72%|███████████████████████████████████████████████████████████████▊                         | 717/1000 [00:02<00:01, 253.49it/s]\u001b[A\n",
      "Generating walks (CPU: 1):  74%|██████████████████████████████████████████████████████████████████▏                      | 744/1000 [00:02<00:00, 256.22it/s]\u001b[A\n",
      "Generating walks (CPU: 1):  77%|████████████████████████████████████████████████████████████████████▌                    | 770/1000 [00:03<00:00, 253.85it/s]\u001b[A\n",
      "Generating walks (CPU: 1):  80%|██████████████████████████████████████████████████████████████████████▊                  | 796/1000 [00:03<00:00, 247.94it/s]\u001b[A\n",
      "Generating walks (CPU: 1):  82%|█████████████████████████████████████████████████████████████████████████▎               | 824/1000 [00:03<00:00, 256.59it/s]\u001b[A\n",
      "Generating walks (CPU: 1):  85%|███████████████████████████████████████████████████████████████████████████▋             | 850/1000 [00:03<00:00, 253.35it/s]\u001b[A\n",
      "Generating walks (CPU: 1):  88%|██████████████████████████████████████████████████████████████████████████████           | 877/1000 [00:03<00:00, 255.42it/s]\u001b[A\n",
      "Generating walks (CPU: 1):  90%|████████████████████████████████████████████████████████████████████████████████▍        | 904/1000 [00:03<00:00, 259.10it/s]\u001b[A\n",
      "Generating walks (CPU: 1):  93%|██████████████████████████████████████████████████████████████████████████████████▊      | 930/1000 [00:03<00:00, 258.91it/s]\u001b[A\n",
      "Generating walks (CPU: 1):  96%|█████████████████████████████████████████████████████████████████████████████████████    | 956/1000 [00:03<00:00, 255.68it/s]\u001b[A\n",
      "Generating walks (CPU: 1): 100%|████████████████████████████████████████████████████████████████████████████████████████| 1000/1000 [00:03<00:00, 250.19it/s]\u001b[A\n",
      "\n",
      "Computing transition probabilities: 100%|██████████████████████████████████████████████████████████████████████████████████| 45/45 [00:00<00:00, 9023.46it/s]\u001b[A\n",
      "\n",
      "Generating walks (CPU: 1):   0%|                                                                                                    | 0/1000 [00:00<?, ?it/s]\u001b[A\n",
      "Generating walks (CPU: 1):   3%|██▌                                                                                       | 28/1000 [00:00<00:03, 277.87it/s]\u001b[A\n",
      "Generating walks (CPU: 1):   6%|█████                                                                                     | 56/1000 [00:00<00:03, 262.69it/s]\u001b[A\n",
      "Generating walks (CPU: 1):   8%|███████▌                                                                                  | 84/1000 [00:00<00:03, 269.45it/s]\u001b[A\n",
      "Generating walks (CPU: 1):  11%|█████████▉                                                                               | 111/1000 [00:00<00:03, 256.13it/s]\u001b[A\n",
      "Generating walks (CPU: 1):  14%|████████████▏                                                                            | 137/1000 [00:00<00:03, 252.50it/s]\u001b[A\n",
      "Generating walks (CPU: 1):  16%|██████████████▌                                                                          | 163/1000 [00:00<00:03, 254.94it/s]\u001b[A\n",
      "Generating walks (CPU: 1):  19%|████████████████▊                                                                        | 189/1000 [00:00<00:03, 255.14it/s]\u001b[A\n",
      "Generating walks (CPU: 1):  22%|███████████████████▏                                                                     | 215/1000 [00:00<00:03, 254.47it/s]\u001b[A\n",
      "Generating walks (CPU: 1):  24%|█████████████████████▌                                                                   | 242/1000 [00:00<00:02, 256.86it/s]\u001b[A\n",
      "Generating walks (CPU: 1):  27%|███████████████████████▊                                                                 | 268/1000 [00:01<00:02, 257.21it/s]\u001b[A\n",
      "Generating walks (CPU: 1):  29%|██████████████████████████▏                                                              | 294/1000 [00:01<00:02, 252.88it/s]\u001b[A\n"
     ]
    },
    {
     "name": "stderr",
     "output_type": "stream",
     "text": [
      "Generating walks (CPU: 1):  32%|████████████████████████████▍                                                            | 320/1000 [00:01<00:02, 253.69it/s]\u001b[A\n",
      "Generating walks (CPU: 1):  35%|██████████████████████████████▊                                                          | 346/1000 [00:01<00:02, 250.60it/s]\u001b[A\n",
      "Generating walks (CPU: 1):  37%|█████████████████████████████████▏                                                       | 373/1000 [00:01<00:02, 255.71it/s]\u001b[A\n",
      "Generating walks (CPU: 1):  40%|███████████████████████████████████▌                                                     | 400/1000 [00:01<00:02, 259.40it/s]\u001b[A\n",
      "Generating walks (CPU: 1):  43%|██████████████████████████████████████                                                   | 428/1000 [00:01<00:02, 263.34it/s]\u001b[A\n",
      "Generating walks (CPU: 1):  46%|████████████████████████████████████████▍                                                | 455/1000 [00:01<00:02, 257.20it/s]\u001b[A\n",
      "Generating walks (CPU: 1):  48%|██████████████████████████████████████████▉                                              | 482/1000 [00:01<00:02, 258.84it/s]\u001b[A\n",
      "Generating walks (CPU: 1):  51%|█████████████████████████████████████████████▏                                           | 508/1000 [00:01<00:01, 255.66it/s]\u001b[A\n",
      "Generating walks (CPU: 1):  54%|███████████████████████████████████████████████▌                                         | 535/1000 [00:02<00:01, 258.56it/s]\u001b[A\n",
      "Generating walks (CPU: 1):  56%|█████████████████████████████████████████████████▉                                       | 561/1000 [00:02<00:01, 254.69it/s]\u001b[A\n",
      "Generating walks (CPU: 1):  59%|████████████████████████████████████████████████████▎                                    | 588/1000 [00:02<00:01, 257.88it/s]\u001b[A\n",
      "Generating walks (CPU: 1):  61%|██████████████████████████████████████████████████████▋                                  | 614/1000 [00:02<00:01, 255.72it/s]\u001b[A\n",
      "Generating walks (CPU: 1):  64%|█████████████████████████████████████████████████████████                                | 641/1000 [00:02<00:01, 257.10it/s]\u001b[A\n",
      "Generating walks (CPU: 1):  67%|███████████████████████████████████████████████████████████▎                             | 667/1000 [00:02<00:01, 248.70it/s]\u001b[A\n",
      "Generating walks (CPU: 1):  69%|█████████████████████████████████████████████████████████████▊                           | 694/1000 [00:02<00:01, 251.41it/s]\u001b[A\n",
      "Generating walks (CPU: 1):  72%|████████████████████████████████████████████████████████████████▏                        | 721/1000 [00:02<00:01, 254.81it/s]\u001b[A\n",
      "Generating walks (CPU: 1):  75%|██████████████████████████████████████████████████████████████████▍                      | 747/1000 [00:02<00:01, 248.62it/s]\u001b[A\n",
      "Generating walks (CPU: 1):  77%|████████████████████████████████████████████████████████████████████▋                    | 772/1000 [00:03<00:00, 247.79it/s]\u001b[A\n",
      "Generating walks (CPU: 1):  80%|██████████████████████████████████████████████████████████████████████▉                  | 797/1000 [00:03<00:00, 242.32it/s]\u001b[A\n",
      "Generating walks (CPU: 1):  82%|█████████████████████████████████████████████████████████████████████████▏               | 822/1000 [00:03<00:00, 240.53it/s]\u001b[A\n",
      "Generating walks (CPU: 1):  85%|███████████████████████████████████████████████████████████████████████████▍             | 848/1000 [00:03<00:00, 244.19it/s]\u001b[A\n",
      "Generating walks (CPU: 1):  87%|█████████████████████████████████████████████████████████████████████████████▊           | 874/1000 [00:03<00:00, 246.12it/s]\u001b[A\n",
      "Generating walks (CPU: 1):  90%|████████████████████████████████████████████████████████████████████████████████▏        | 901/1000 [00:03<00:00, 252.52it/s]\u001b[A\n",
      "Generating walks (CPU: 1):  93%|██████████████████████████████████████████████████████████████████████████████████▌      | 927/1000 [00:03<00:00, 251.24it/s]\u001b[A\n",
      "Generating walks (CPU: 1):  96%|█████████████████████████████████████████████████████████████████████████████████████    | 956/1000 [00:03<00:00, 261.24it/s]\u001b[A\n",
      "Generating walks (CPU: 1): 100%|████████████████████████████████████████████████████████████████████████████████████████| 1000/1000 [00:03<00:00, 253.29it/s]\u001b[A\n",
      " 80%|█████████████████████████████████████████████████████████████████████████████████████████████████▌                        | 4/5 [01:13<00:18, 18.42s/it]\n",
      "Computing transition probabilities: 100%|██████████████████████████████████████████████████████████████████████████████████| 45/45 [00:00<00:00, 9020.01it/s]\u001b[A\n",
      "\n",
      "Generating walks (CPU: 1):   0%|                                                                                                    | 0/1000 [00:00<?, ?it/s]\u001b[A\n",
      "Generating walks (CPU: 1):   3%|██▌                                                                                       | 29/1000 [00:00<00:03, 287.80it/s]\u001b[A\n",
      "Generating walks (CPU: 1):   6%|█████▏                                                                                    | 58/1000 [00:00<00:03, 264.64it/s]\u001b[A\n",
      "Generating walks (CPU: 1):   8%|███████▋                                                                                  | 85/1000 [00:00<00:03, 264.09it/s]\u001b[A\n",
      "Generating walks (CPU: 1):  11%|█████████▉                                                                               | 112/1000 [00:00<00:03, 264.56it/s]\u001b[A\n",
      "Generating walks (CPU: 1):  14%|████████████▎                                                                            | 139/1000 [00:00<00:03, 260.34it/s]\u001b[A\n",
      "Generating walks (CPU: 1):  17%|██████████████▊                                                                          | 166/1000 [00:00<00:03, 262.06it/s]\u001b[A\n",
      "Generating walks (CPU: 1):  19%|█████████████████▏                                                                       | 193/1000 [00:00<00:03, 257.45it/s]\u001b[A\n",
      "Generating walks (CPU: 1):  22%|███████████████████▍                                                                     | 219/1000 [00:00<00:03, 254.55it/s]\u001b[A\n",
      "Generating walks (CPU: 1):  24%|█████████████████████▊                                                                   | 245/1000 [00:00<00:02, 255.43it/s]\u001b[A\n",
      "Generating walks (CPU: 1):  27%|████████████████████████                                                                 | 271/1000 [00:01<00:02, 251.72it/s]\u001b[A\n",
      "Generating walks (CPU: 1):  30%|██████████████████████████▍                                                              | 297/1000 [00:01<00:02, 253.63it/s]\u001b[A\n",
      "Generating walks (CPU: 1):  32%|████████████████████████████▊                                                            | 324/1000 [00:01<00:02, 256.44it/s]\u001b[A\n",
      "Generating walks (CPU: 1):  35%|███████████████████████████████▏                                                         | 351/1000 [00:01<00:02, 256.86it/s]\u001b[A\n",
      "Generating walks (CPU: 1):  38%|█████████████████████████████████▌                                                       | 377/1000 [00:01<00:02, 252.79it/s]\u001b[A\n",
      "Generating walks (CPU: 1):  40%|███████████████████████████████████▊                                                     | 403/1000 [00:01<00:02, 253.95it/s]\u001b[A\n",
      "Generating walks (CPU: 1):  43%|██████████████████████████████████████▏                                                  | 429/1000 [00:01<00:02, 243.13it/s]\u001b[A\n",
      "Generating walks (CPU: 1):  45%|████████████████████████████████████████▍                                                | 454/1000 [00:01<00:02, 239.13it/s]\u001b[A\n",
      "Generating walks (CPU: 1):  48%|██████████████████████████████████████████▋                                              | 479/1000 [00:01<00:02, 241.74it/s]\u001b[A\n",
      "Generating walks (CPU: 1):  50%|████████████████████████████████████████████▊                                            | 504/1000 [00:02<00:02, 238.14it/s]\u001b[A\n",
      "Generating walks (CPU: 1):  53%|███████████████████████████████████████████████                                          | 529/1000 [00:02<00:01, 239.67it/s]\u001b[A\n",
      "Generating walks (CPU: 1):  55%|█████████████████████████████████████████████████▎                                       | 554/1000 [00:02<00:01, 241.45it/s]\u001b[A\n"
     ]
    },
    {
     "name": "stderr",
     "output_type": "stream",
     "text": [
      "Generating walks (CPU: 1):  58%|███████████████████████████████████████████████████▌                                     | 579/1000 [00:02<00:01, 241.32it/s]\u001b[A\n",
      "Generating walks (CPU: 1):  60%|█████████████████████████████████████████████████████▊                                   | 604/1000 [00:02<00:01, 243.33it/s]\u001b[A\n",
      "Generating walks (CPU: 1):  63%|████████████████████████████████████████████████████████▏                                | 632/1000 [00:02<00:01, 251.86it/s]\u001b[A\n",
      "Generating walks (CPU: 1):  66%|██████████████████████████████████████████████████████████▌                              | 658/1000 [00:02<00:01, 253.73it/s]\u001b[A\n",
      "Generating walks (CPU: 1):  69%|█████████████████████████████████████████████████████████████                            | 686/1000 [00:02<00:01, 259.40it/s]\u001b[A\n",
      "Generating walks (CPU: 1):  71%|███████████████████████████████████████████████████████████████▎                         | 712/1000 [00:02<00:01, 256.01it/s]\u001b[A\n",
      "Generating walks (CPU: 1):  74%|█████████████████████████████████████████████████████████████████▋                       | 738/1000 [00:02<00:01, 256.61it/s]\u001b[A\n",
      "Generating walks (CPU: 1):  76%|███████████████████████████████████████████████████████████████████▉                     | 764/1000 [00:03<00:00, 253.36it/s]\u001b[A\n",
      "Generating walks (CPU: 1):  79%|██████████████████████████████████████████████████████████████████████▍                  | 791/1000 [00:03<00:00, 256.94it/s]\u001b[A\n",
      "Generating walks (CPU: 1):  82%|████████████████████████████████████████████████████████████████████████▋                | 817/1000 [00:03<00:00, 216.05it/s]\u001b[A\n",
      "Generating walks (CPU: 1):  84%|███████████████████████████████████████████████████████████████████████████              | 843/1000 [00:03<00:00, 227.09it/s]\u001b[A\n",
      "Generating walks (CPU: 1):  87%|█████████████████████████████████████████████████████████████████████████████▎           | 869/1000 [00:03<00:00, 234.27it/s]\u001b[A\n",
      "Generating walks (CPU: 1):  90%|███████████████████████████████████████████████████████████████████████████████▋         | 895/1000 [00:03<00:00, 240.23it/s]\u001b[A\n",
      "Generating walks (CPU: 1):  92%|█████████████████████████████████████████████████████████████████████████████████▉       | 920/1000 [00:03<00:00, 237.83it/s]\u001b[A\n",
      "Generating walks (CPU: 1):  95%|████████████████████████████████████████████████████████████████████████████████████▎    | 947/1000 [00:03<00:00, 245.05it/s]\u001b[A\n",
      "Generating walks (CPU: 1):  97%|██████████████████████████████████████████████████████████████████████████████████████▌  | 973/1000 [00:03<00:00, 247.38it/s]\u001b[A\n",
      "Generating walks (CPU: 1): 100%|████████████████████████████████████████████████████████████████████████████████████████| 1000/1000 [00:04<00:00, 248.12it/s]\u001b[A\n",
      "\n",
      "Computing transition probabilities: 100%|██████████████████████████████████████████████████████████████████████████████████| 45/45 [00:00<00:00, 9026.91it/s]\u001b[A\n",
      "\n",
      "Generating walks (CPU: 1):   0%|                                                                                                    | 0/1000 [00:00<?, ?it/s]\u001b[A\n",
      "Generating walks (CPU: 1):   3%|██▌                                                                                       | 28/1000 [00:00<00:03, 269.86it/s]\u001b[A\n",
      "Generating walks (CPU: 1):   6%|████▉                                                                                     | 55/1000 [00:00<00:03, 258.45it/s]\u001b[A\n",
      "Generating walks (CPU: 1):   8%|███████▎                                                                                  | 81/1000 [00:00<00:03, 255.00it/s]\u001b[A\n",
      "Generating walks (CPU: 1):  11%|█████████▌                                                                               | 108/1000 [00:00<00:03, 258.88it/s]\u001b[A\n",
      "Generating walks (CPU: 1):  13%|███████████▉                                                                             | 134/1000 [00:00<00:03, 250.74it/s]\u001b[A\n",
      "Generating walks (CPU: 1):  16%|██████████████▏                                                                          | 160/1000 [00:00<00:03, 242.94it/s]\u001b[A\n",
      "Generating walks (CPU: 1):  18%|████████████████▍                                                                        | 185/1000 [00:00<00:03, 242.69it/s]\u001b[A\n",
      "Generating walks (CPU: 1):  21%|██████████████████▋                                                                      | 210/1000 [00:00<00:03, 242.89it/s]\u001b[A\n",
      "Generating walks (CPU: 1):  24%|████████████████████▉                                                                    | 235/1000 [00:00<00:03, 244.37it/s]\u001b[A\n",
      "Generating walks (CPU: 1):  26%|███████████████████████▏                                                                 | 261/1000 [00:01<00:02, 247.75it/s]\u001b[A\n",
      "Generating walks (CPU: 1):  29%|█████████████████████████▌                                                               | 287/1000 [00:01<00:02, 250.87it/s]\u001b[A\n",
      "Generating walks (CPU: 1):  31%|███████████████████████████▊                                                             | 313/1000 [00:01<00:02, 247.45it/s]\u001b[A\n",
      "Generating walks (CPU: 1):  34%|██████████████████████████████                                                           | 338/1000 [00:01<00:02, 247.67it/s]\u001b[A\n",
      "Generating walks (CPU: 1):  36%|████████████████████████████████▍                                                        | 364/1000 [00:01<00:02, 250.77it/s]\u001b[A\n",
      "Generating walks (CPU: 1):  39%|██████████████████████████████████▋                                                      | 390/1000 [00:01<00:02, 251.36it/s]\u001b[A\n",
      "Generating walks (CPU: 1):  42%|█████████████████████████████████████                                                    | 416/1000 [00:01<00:02, 253.34it/s]\u001b[A\n",
      "Generating walks (CPU: 1):  44%|███████████████████████████████████████▎                                                 | 442/1000 [00:01<00:02, 255.08it/s]\u001b[A\n",
      "Generating walks (CPU: 1):  47%|█████████████████████████████████████████▋                                               | 468/1000 [00:01<00:02, 247.18it/s]\u001b[A\n",
      "Generating walks (CPU: 1):  49%|███████████████████████████████████████████▉                                             | 493/1000 [00:01<00:02, 246.76it/s]\u001b[A\n",
      "Generating walks (CPU: 1):  52%|██████████████████████████████████████████████▏                                          | 519/1000 [00:02<00:01, 250.12it/s]\u001b[A\n",
      "Generating walks (CPU: 1):  55%|████████████████████████████████████████████████▌                                        | 545/1000 [00:02<00:01, 237.84it/s]\u001b[A\n",
      "Generating walks (CPU: 1):  57%|██████████████████████████████████████████████████▊                                      | 571/1000 [00:02<00:01, 243.64it/s]\u001b[A\n",
      "Generating walks (CPU: 1):  60%|█████████████████████████████████████████████████████                                    | 596/1000 [00:02<00:01, 244.55it/s]\u001b[A\n",
      "Generating walks (CPU: 1):  62%|███████████████████████████████████████████████████████▌                                 | 624/1000 [00:02<00:01, 253.57it/s]\u001b[A\n",
      "Generating walks (CPU: 1):  65%|█████████████████████████████████████████████████████████▊                               | 650/1000 [00:02<00:01, 250.56it/s]\u001b[A\n",
      "Generating walks (CPU: 1):  68%|████████████████████████████████████████████████████████████▍                            | 679/1000 [00:02<00:01, 259.93it/s]\u001b[A\n",
      "Generating walks (CPU: 1):  71%|██████████████████████████████████████████████████████████████▊                          | 706/1000 [00:02<00:01, 261.58it/s]\u001b[A\n",
      "Generating walks (CPU: 1):  73%|█████████████████████████████████████████████████████████████████▏                       | 733/1000 [00:02<00:01, 254.79it/s]\u001b[A\n",
      "Generating walks (CPU: 1):  76%|███████████████████████████████████████████████████████████████████▌                     | 759/1000 [00:03<00:00, 255.45it/s]\u001b[A\n",
      "Generating walks (CPU: 1):  78%|█████████████████████████████████████████████████████████████████████▊                   | 785/1000 [00:03<00:00, 253.30it/s]\u001b[A\n",
      "Generating walks (CPU: 1):  81%|████████████████████████████████████████████████████████████████████████▏                | 811/1000 [00:03<00:00, 251.05it/s]\u001b[A\n"
     ]
    },
    {
     "name": "stderr",
     "output_type": "stream",
     "text": [
      "Generating walks (CPU: 1):  84%|██████████████████████████████████████████████████████████████████████████▋              | 839/1000 [00:03<00:00, 258.90it/s]\u001b[A\n",
      "Generating walks (CPU: 1):  86%|████████████████████████████████████████████████████████████████████████████▉            | 865/1000 [00:03<00:00, 252.09it/s]\u001b[A\n",
      "Generating walks (CPU: 1):  89%|███████████████████████████████████████████████████████████████████████████████▍         | 892/1000 [00:03<00:00, 255.25it/s]\u001b[A\n",
      "Generating walks (CPU: 1):  92%|█████████████████████████████████████████████████████████████████████████████████▉       | 920/1000 [00:03<00:00, 260.91it/s]\u001b[A\n",
      "Generating walks (CPU: 1):  95%|████████████████████████████████████████████████████████████████████████████████████▎    | 947/1000 [00:03<00:00, 258.68it/s]\u001b[A\n",
      "Generating walks (CPU: 1): 100%|████████████████████████████████████████████████████████████████████████████████████████| 1000/1000 [00:03<00:00, 252.69it/s]\u001b[A\n",
      "100%|██████████████████████████████████████████████████████████████████████████████████████████████████████████████████████████| 5/5 [01:32<00:00, 18.44s/it]"
     ]
    },
    {
     "name": "stdout",
     "output_type": "stream",
     "text": [
      "Finished running the pipeline\n",
      "Evaluation metrics:\n",
      "    validation_average_spearman_fold_0: 0.0634\n",
      "    validation_average_spearman_fold_1: 0.0225\n",
      "    validation_average_spearman_fold_2: -0.1194\n",
      "    validation_average_spearman_fold_3: 0.0891\n",
      "    validation_average_spearman_fold_4: 0.0134\n",
      "    average of all folds: 0.0138 [std=0.072]\n"
     ]
    },
    {
     "name": "stderr",
     "output_type": "stream",
     "text": [
      "\n"
     ]
    }
   ],
   "source": [
    "pipeline.add_new_step(Node2VecEmbedding(graph=graph, walk_length=20, num_walks=1000, workers=1), 'encoder_transformer')\n",
    "pipeline.run()\n",
    "scores['node2vec'] = pipeline._validation_performance_scores"
   ]
  },
  {
   "cell_type": "markdown",
   "id": "5d0aa30c",
   "metadata": {},
   "source": [
    "### 1.5) Default Poincare"
   ]
  },
  {
   "cell_type": "code",
   "execution_count": 8,
   "id": "9a0b66d0",
   "metadata": {},
   "outputs": [
    {
     "name": "stdout",
     "output_type": "stream",
     "text": [
      "Starting pipeline using method: EvaluationType.CROSS_VALIDATION\n"
     ]
    },
    {
     "name": "stderr",
     "output_type": "stream",
     "text": [
      "100%|██████████████████████████████████████████████████████████████████████████████████████████████████████████████████████████| 5/5 [00:35<00:00,  7.03s/it]"
     ]
    },
    {
     "name": "stdout",
     "output_type": "stream",
     "text": [
      "Finished running the pipeline\n",
      "Evaluation metrics:\n",
      "    validation_average_spearman_fold_0: 0.4833\n",
      "    validation_average_spearman_fold_1: 0.4762\n",
      "    validation_average_spearman_fold_2: 0.4405\n",
      "    validation_average_spearman_fold_3: 0.4851\n",
      "    validation_average_spearman_fold_4: 0.5159\n",
      "    average of all folds: 0.4802 [std=0.0241]\n"
     ]
    },
    {
     "name": "stderr",
     "output_type": "stream",
     "text": [
      "\n"
     ]
    }
   ],
   "source": [
    "pipeline.add_new_step(PoincareEmbedding(graph=graph, epochs=100), 'encoder_transformer')\n",
    "pipeline.run()\n",
    "scores['poincare_default'] = pipeline._validation_performance_scores"
   ]
  },
  {
   "cell_type": "markdown",
   "id": "68da2ca7",
   "metadata": {},
   "source": [
    "### 1.6) Tuned Poincare"
   ]
  },
  {
   "cell_type": "code",
   "execution_count": 9,
   "id": "671a390e",
   "metadata": {},
   "outputs": [
    {
     "name": "stdout",
     "output_type": "stream",
     "text": [
      "Starting pipeline using method: EvaluationType.CROSS_VALIDATION\n"
     ]
    },
    {
     "name": "stderr",
     "output_type": "stream",
     "text": [
      "100%|██████████████████████████████████████████████████████████████████████████████████████████████████████████████████████████| 5/5 [00:44<00:00,  8.91s/it]"
     ]
    },
    {
     "name": "stdout",
     "output_type": "stream",
     "text": [
      "Finished running the pipeline\n",
      "Evaluation metrics:\n",
      "    validation_average_spearman_fold_0: 0.491\n",
      "    validation_average_spearman_fold_1: 0.4848\n",
      "    validation_average_spearman_fold_2: 0.4689\n",
      "    validation_average_spearman_fold_3: 0.4933\n",
      "    validation_average_spearman_fold_4: 0.5119\n",
      "    average of all folds: 0.49 [std=0.0139]\n"
     ]
    },
    {
     "name": "stderr",
     "output_type": "stream",
     "text": [
      "\n"
     ]
    }
   ],
   "source": [
    "pipeline.add_new_step(PoincareEmbedding(graph=graph, epochs=500, batch_size=50), 'encoder_transformer')\n",
    "pipeline.run()\n",
    "scores['poincare_tuned'] = pipeline._validation_performance_scores"
   ]
  },
  {
   "cell_type": "markdown",
   "id": "9331ef6e",
   "metadata": {},
   "source": [
    "### 1.7) Tuned Poincare (More Epochs)"
   ]
  },
  {
   "cell_type": "code",
   "execution_count": 10,
   "id": "c0be3c72",
   "metadata": {
    "scrolled": true
   },
   "outputs": [
    {
     "name": "stdout",
     "output_type": "stream",
     "text": [
      "Starting pipeline using method: EvaluationType.CROSS_VALIDATION\n"
     ]
    },
    {
     "name": "stderr",
     "output_type": "stream",
     "text": [
      "100%|██████████████████████████████████████████████████████████████████████████████████████████████████████████████████████████| 5/5 [01:58<00:00, 23.62s/it]"
     ]
    },
    {
     "name": "stdout",
     "output_type": "stream",
     "text": [
      "Finished running the pipeline\n",
      "Evaluation metrics:\n",
      "    validation_average_spearman_fold_0: 0.4726\n",
      "    validation_average_spearman_fold_1: 0.4874\n",
      "    validation_average_spearman_fold_2: 0.4783\n",
      "    validation_average_spearman_fold_3: 0.4973\n",
      "    validation_average_spearman_fold_4: 0.5121\n",
      "    average of all folds: 0.4895 [std=0.0141]\n"
     ]
    },
    {
     "name": "stderr",
     "output_type": "stream",
     "text": [
      "\n"
     ]
    }
   ],
   "source": [
    "pipeline.add_new_step(PoincareEmbedding(graph=graph, epochs=3000, batch_size=50), 'encoder_transformer')\n",
    "pipeline.run()\n",
    "scores['poincare_longer'] = pipeline._validation_performance_scores"
   ]
  },
  {
   "cell_type": "markdown",
   "id": "75b59f32",
   "metadata": {},
   "source": [
    "### 1.8) Tuned Poincare (Encode Feature)"
   ]
  },
  {
   "cell_type": "code",
   "execution_count": 11,
   "id": "380633e1",
   "metadata": {},
   "outputs": [
    {
     "name": "stdout",
     "output_type": "stream",
     "text": [
      "Starting pipeline using method: EvaluationType.CROSS_VALIDATION\n"
     ]
    },
    {
     "name": "stderr",
     "output_type": "stream",
     "text": [
      "100%|██████████████████████████████████████████████████████████████████████████████████████████████████████████████████████████| 5/5 [00:48<00:00,  9.77s/it]"
     ]
    },
    {
     "name": "stdout",
     "output_type": "stream",
     "text": [
      "Finished running the pipeline\n",
      "Evaluation metrics:\n",
      "    validation_average_spearman_fold_0: 0.4647\n",
      "    validation_average_spearman_fold_1: 0.4774\n",
      "    validation_average_spearman_fold_2: 0.4569\n",
      "    validation_average_spearman_fold_3: 0.5085\n",
      "    validation_average_spearman_fold_4: 0.525\n",
      "    average of all folds: 0.4865 [std=0.0261]\n"
     ]
    },
    {
     "name": "stderr",
     "output_type": "stream",
     "text": [
      "\n"
     ]
    }
   ],
   "source": [
    "from category_encoders.one_hot import OneHotEncoder\n",
    "pipeline.add_new_step(PoincareEmbedding(graph=graph, epochs=500, batch_size=50, encoder=OneHotEncoder()), 'encoder_transformer')\n",
    "pipeline.run()\n",
    "scores['poincare_encode'] = pipeline._validation_performance_scores"
   ]
  },
  {
   "cell_type": "markdown",
   "id": "f13e9f6c",
   "metadata": {},
   "source": [
    "### 1.9) Comparison"
   ]
  },
  {
   "cell_type": "code",
   "execution_count": 12,
   "id": "66b17995",
   "metadata": {},
   "outputs": [
    {
     "data": {
      "text/html": [
       "<div>\n",
       "<style scoped>\n",
       "    .dataframe tbody tr th:only-of-type {\n",
       "        vertical-align: middle;\n",
       "    }\n",
       "\n",
       "    .dataframe tbody tr th {\n",
       "        vertical-align: top;\n",
       "    }\n",
       "\n",
       "    .dataframe thead th {\n",
       "        text-align: right;\n",
       "    }\n",
       "</style>\n",
       "<table border=\"1\" class=\"dataframe\">\n",
       "  <thead>\n",
       "    <tr style=\"text-align: right;\">\n",
       "      <th></th>\n",
       "      <th>ordinal</th>\n",
       "      <th>onehot</th>\n",
       "      <th>target</th>\n",
       "      <th>node2vec</th>\n",
       "      <th>poincare_default</th>\n",
       "      <th>poincare_tuned</th>\n",
       "      <th>poincare_longer</th>\n",
       "      <th>poincare_encode</th>\n",
       "    </tr>\n",
       "  </thead>\n",
       "  <tbody>\n",
       "    <tr>\n",
       "      <th>average_spearman_fold_0</th>\n",
       "      <td>0.482075</td>\n",
       "      <td>0.483389</td>\n",
       "      <td>0.477092</td>\n",
       "      <td>0.063423</td>\n",
       "      <td>0.483321</td>\n",
       "      <td>0.491014</td>\n",
       "      <td>0.472554</td>\n",
       "      <td>0.464730</td>\n",
       "    </tr>\n",
       "    <tr>\n",
       "      <th>average_spearman_fold_1</th>\n",
       "      <td>0.456116</td>\n",
       "      <td>0.470221</td>\n",
       "      <td>0.488293</td>\n",
       "      <td>0.022470</td>\n",
       "      <td>0.476173</td>\n",
       "      <td>0.484765</td>\n",
       "      <td>0.487375</td>\n",
       "      <td>0.477381</td>\n",
       "    </tr>\n",
       "    <tr>\n",
       "      <th>average_spearman_fold_2</th>\n",
       "      <td>0.429218</td>\n",
       "      <td>0.449989</td>\n",
       "      <td>0.451693</td>\n",
       "      <td>-0.119387</td>\n",
       "      <td>0.440514</td>\n",
       "      <td>0.468939</td>\n",
       "      <td>0.478276</td>\n",
       "      <td>0.456915</td>\n",
       "    </tr>\n",
       "    <tr>\n",
       "      <th>average_spearman_fold_3</th>\n",
       "      <td>0.483475</td>\n",
       "      <td>0.500353</td>\n",
       "      <td>0.496771</td>\n",
       "      <td>0.089066</td>\n",
       "      <td>0.485054</td>\n",
       "      <td>0.493269</td>\n",
       "      <td>0.497339</td>\n",
       "      <td>0.508490</td>\n",
       "    </tr>\n",
       "    <tr>\n",
       "      <th>average_spearman_fold_4</th>\n",
       "      <td>0.521973</td>\n",
       "      <td>0.548804</td>\n",
       "      <td>0.523782</td>\n",
       "      <td>0.013387</td>\n",
       "      <td>0.515911</td>\n",
       "      <td>0.511907</td>\n",
       "      <td>0.512072</td>\n",
       "      <td>0.525029</td>\n",
       "    </tr>\n",
       "    <tr>\n",
       "      <th>average_spearman (5-fold)</th>\n",
       "      <td>0.474571</td>\n",
       "      <td>0.490551</td>\n",
       "      <td>0.487526</td>\n",
       "      <td>0.013792</td>\n",
       "      <td>0.480195</td>\n",
       "      <td>0.489979</td>\n",
       "      <td>0.489523</td>\n",
       "      <td>0.486509</td>\n",
       "    </tr>\n",
       "  </tbody>\n",
       "</table>\n",
       "</div>"
      ],
      "text/plain": [
       "                            ordinal    onehot    target  node2vec  \\\n",
       "average_spearman_fold_0    0.482075  0.483389  0.477092  0.063423   \n",
       "average_spearman_fold_1    0.456116  0.470221  0.488293  0.022470   \n",
       "average_spearman_fold_2    0.429218  0.449989  0.451693 -0.119387   \n",
       "average_spearman_fold_3    0.483475  0.500353  0.496771  0.089066   \n",
       "average_spearman_fold_4    0.521973  0.548804  0.523782  0.013387   \n",
       "average_spearman (5-fold)  0.474571  0.490551  0.487526  0.013792   \n",
       "\n",
       "                           poincare_default  poincare_tuned  poincare_longer  \\\n",
       "average_spearman_fold_0            0.483321        0.491014         0.472554   \n",
       "average_spearman_fold_1            0.476173        0.484765         0.487375   \n",
       "average_spearman_fold_2            0.440514        0.468939         0.478276   \n",
       "average_spearman_fold_3            0.485054        0.493269         0.497339   \n",
       "average_spearman_fold_4            0.515911        0.511907         0.512072   \n",
       "average_spearman (5-fold)          0.480195        0.489979         0.489523   \n",
       "\n",
       "                           poincare_encode  \n",
       "average_spearman_fold_0           0.464730  \n",
       "average_spearman_fold_1           0.477381  \n",
       "average_spearman_fold_2           0.456915  \n",
       "average_spearman_fold_3           0.508490  \n",
       "average_spearman_fold_4           0.525029  \n",
       "average_spearman (5-fold)         0.486509  "
      ]
     },
     "metadata": {},
     "output_type": "display_data"
    }
   ],
   "source": [
    "scores_df = pd.DataFrame(scores)\n",
    "scores_df = scores_df.applymap(lambda x: x[0] if isinstance(x, list) else x)\n",
    "scores_df.index = scores_df.index.str.replace('validation_', '')\n",
    "scores_df = scores_df.rename_axis('metric')\n",
    "\n",
    "if not (pipeline._evaluation != 'cross_validation' and pipeline._evaluation != EvaluationType.CROSS_VALIDATION):\n",
    "    scores_df = pd.concat([\n",
    "        scores_df, \n",
    "        pd.DataFrame(scores_df.mean(axis=0), columns=['average_spearman (5-fold)']).transpose()\n",
    "    ])\n",
    "    \n",
    "display(scores_df)"
   ]
  },
  {
   "cell_type": "code",
   "execution_count": 13,
   "id": "8d2a03ee",
   "metadata": {},
   "outputs": [
    {
     "data": {
      "image/png": "[encoded data removed]",
      "text/plain": [
       "<Figure size 432x288 with 1 Axes>"
      ]
     },
     "metadata": {
      "needs_background": "light"
     },
     "output_type": "display_data"
    }
   ],
   "source": [
    "if pipeline._evaluation == 'basic' or pipeline._evaluation == EvaluationType.BASIC:\n",
    "    for metric, values in scores_df.iterrows():\n",
    "        sns.barplot(x=values, y=values.index)\n",
    "        plt.gcf().subplots_adjust(left=0.25)\n",
    "        plt.savefig('embeddings_comparison_' + metric + '.svg')\n",
    "        plt.show()\n",
    "else:\n",
    "    average = scores_df.loc['average_spearman (5-fold)']\n",
    "    sns.barplot(x=average, y=average.index)\n",
    "    plt.gcf().subplots_adjust(left=0.25)\n",
    "    plt.savefig('embeddings_comparison_.svg')\n",
    "    plt.show()"
   ]
  },
  {
   "cell_type": "markdown",
   "id": "bf2f1f49",
   "metadata": {},
   "source": [
    "In previous iterations, we saw that tuned poincare with an additional encoder performs the best. In repeated runs this trend did not hold. When we look at the standard deviation we also see that it is quite large for all evaluations, so there is no clear best strategy. When comparing the approaches to the baseline of just applying one-hot encoding to the feature 'encoder', we see that using an embedding has very little influence on the model performance. Regardless, we apply the variation with tuned poincare and additional encoding for the following steps as it was one of the best approaches."
   ]
  },
  {
   "cell_type": "markdown",
   "id": "9c6c1e16",
   "metadata": {},
   "source": [
    "## 2) Metafeatures\n",
    "\n",
    "Now, we reexamine the effect of metafeatures and their processing regarding the feature 'dataset'."
   ]
  },
  {
   "cell_type": "code",
   "execution_count": 15,
   "id": "2901570f",
   "metadata": {},
   "outputs": [],
   "source": [
    "from src.pipeline.pipeline_transformers import OpenMLMetaFeatureTransformer\n",
    "\n",
    "pipeline = pipelineFactory.create_pipeline(\n",
    "    train_df,\n",
    "    ModelType.REGRE_PREPROCESSED,\n",
    "    verbose_level=0,\n",
    "    evaluation=EvaluationType.CROSS_VALIDATION\n",
    ")\n",
    "pipeline.add_new_step(PoincareEmbedding(graph=graph, epochs=500, batch_size=50, encoder=OneHotEncoder()), 'encoder_transformer')\n",
    "pipeline.change_estimator(DecisionTreeRegressor())"
   ]
  },
  {
   "cell_type": "code",
   "execution_count": 16,
   "id": "74e65eed",
   "metadata": {},
   "outputs": [],
   "source": [
    "scores = {}\n",
    "def evaluation(nan_ratio, variance, encoder):\n",
    "    print('nan_ratio:', nan_ratio, 'variance:', variance, 'encoder:', encoder, end='')\n",
    "    pipeline.add_new_step(\n",
    "        OpenMLMetaFeatureTransformer(\n",
    "            nan_ratio_feature_drop_threshold=nan_ratio,\n",
    "            expected_pca_variance=variance,\n",
    "            encoder=encoder\n",
    "        ), \n",
    "        'dataset_transformer'\n",
    "    )\n",
    "    pipeline.run()\n",
    "    score = np.mean(list(pipeline._validation_performance_scores.values()))\n",
    "    scores[(nan_ratio, variance, str(encoder))] = score\n",
    "    print(' ->', score)"
   ]
  },
  {
   "cell_type": "code",
   "execution_count": 17,
   "id": "43650567",
   "metadata": {},
   "outputs": [
    {
     "name": "stdout",
     "output_type": "stream",
     "text": [
      "[1/32] nan_ratio: 0 variance: 1 encoder: None -> 0.14837434084837034\n",
      "[2/32] nan_ratio: 0 variance: 1 encoder: TargetEncoder() -> 0.4711705468802555\n",
      "[3/32] nan_ratio: 1 variance: 1 encoder: None -> 0.5241839360433269\n",
      "[4/32] nan_ratio: 1 variance: 1 encoder: TargetEncoder() -> 0.48827217847973897\n",
      "[5/32] nan_ratio: 0.25 variance: 0.6 encoder: None -> 0.5427429606825774\n",
      "[6/32] nan_ratio: 0.25 variance: 0.7 encoder: None -> 0.515542735234362\n",
      "[7/32] nan_ratio: 0.25 variance: 0.8 encoder: None -> 0.5072451010715778\n",
      "[8/32] nan_ratio: 0.25 variance: 0.9 encoder: None -> 0.5088591429356686\n",
      "[9/32] nan_ratio: 0.25 variance: 0.95 encoder: None -> 0.501166253611695\n",
      "[10/32] nan_ratio: 0.25 variance: 0.99 encoder: None -> 0.4912273825715422\n",
      "[11/32] nan_ratio: 0.25 variance: 1 encoder: None -> 0.5039659143697788\n",
      "[12/32] nan_ratio: 0.4 variance: 0.6 encoder: None -> 0.5337547847662678\n",
      "[13/32] nan_ratio: 0.4 variance: 0.7 encoder: None -> 0.537036499627334\n",
      "[14/32] nan_ratio: 0.4 variance: 0.8 encoder: None -> 0.5122555466577086\n",
      "[15/32] nan_ratio: 0.4 variance: 0.9 encoder: None -> 0.514184581147308\n",
      "[16/32] nan_ratio: 0.4 variance: 0.95 encoder: None -> 0.5254843520947571\n",
      "[17/32] nan_ratio: 0.4 variance: 0.99 encoder: None -> 0.5227381366960964\n",
      "[18/32] nan_ratio: 0.4 variance: 1 encoder: None -> 0.522837653876855\n",
      "[19/32] nan_ratio: 0.45 variance: 0.6 encoder: None -> 0.4974173050172612\n",
      "[20/32] nan_ratio: 0.45 variance: 0.7 encoder: None -> 0.524698467458642\n",
      "[21/32] nan_ratio: 0.45 variance: 0.8 encoder: None -> 0.5277646408450685\n",
      "[22/32] nan_ratio: 0.45 variance: 0.9 encoder: None -> 0.5154610006531424\n",
      "[23/32] nan_ratio: 0.45 variance: 0.95 encoder: None -> 0.5067935736579131\n",
      "[24/32] nan_ratio: 0.45 variance: 0.99 encoder: None -> 0.5012815730540388\n",
      "[25/32] nan_ratio: 0.45 variance: 1 encoder: None -> 0.5204623456241413\n",
      "[26/32] nan_ratio: 0.5 variance: 0.6 encoder: None -> 0.5116109586855162\n",
      "[27/32] nan_ratio: 0.5 variance: 0.7 encoder: None -> 0.5231758685155811\n",
      "[28/32] nan_ratio: 0.5 variance: 0.8 encoder: None -> 0.5136408547670174\n",
      "[29/32] nan_ratio: 0.5 variance: 0.9 encoder: None -> 0.5254851708428717\n",
      "[30/32] nan_ratio: 0.5 variance: 0.95 encoder: None -> 0.4998829857265618\n",
      "[31/32] nan_ratio: 0.5 variance: 0.99 encoder: None -> 0.5016756927105849\n",
      "[32/32] nan_ratio: 0.5 variance: 1 encoder: None -> 0.5245065417309573\n"
     ]
    }
   ],
   "source": [
    "baselines = [\n",
    "    (0, 1, None), # no metafeatues + drop dataset\n",
    "    (0, 1, TargetEncoder()), # no metafeatures + encode dataset\n",
    "    (1, 1, None), # all metafeatures with imputation + drop dataset\n",
    "    (1, 1, TargetEncoder()) # all metafeatures with imputation + encode dataset\n",
    "]\n",
    "combinations = baselines + list(itertools.product(\n",
    "    [0.25, 0.4, 0.45, 0.5], \n",
    "    [0.6, 0.7, 0.8, 0.9, 0.95, 0.99, 1],\n",
    "    [None]\n",
    "))\n",
    "\n",
    "for count, (nan_ratio, variance, encoder) in enumerate(combinations):\n",
    "    print('[' + str(count + 1) + '/' + str(len(combinations)) + ']' + ' ', end='')\n",
    "    evaluation(nan_ratio, variance, encoder)"
   ]
  },
  {
   "cell_type": "code",
   "execution_count": 18,
   "id": "82aad23c",
   "metadata": {},
   "outputs": [],
   "source": [
    "def without_encoder(combination):\n",
    "    return (\n",
    "        combination[0],\n",
    "        combination[1],\n",
    "        \"None\"\n",
    "    )\n",
    "\n",
    "def with_encoder(combination):\n",
    "    return (\n",
    "        combination[0],\n",
    "        combination[1],\n",
    "        \"TargetEncoder(cols=['dataset'])\"\n",
    "    )\n",
    "\n",
    "baseline_without_encoder = (0, 1, \"None\")\n",
    "baseline_with_encoder = (0, 1, \"TargetEncoder(cols=['dataset'])\")\n",
    "\n",
    "best = max(scores, key=scores.get)\n",
    "best_without_encoder = without_encoder(best)\n",
    "best_with_encoder = with_encoder(best)\n",
    "\n",
    "full_imputation_scores = {k: scores[k] for k in scores if k[0] >= 0.5}\n",
    "full_imputation_best = max(full_imputation_scores, key=full_imputation_scores.get)\n",
    "full_imputation_best_with_encoder = with_encoder(full_imputation_best)\n",
    "full_imputation_best_without_encoder = without_encoder(full_imputation_best)\n",
    "\n",
    "no_imputation_scores = {k: scores[k] for k in scores if k[0] == 0}\n",
    "no_imputation_best = max(no_imputation_scores, key=no_imputation_scores.get)\n",
    "no_imputation_best_with_encoder = with_encoder(no_imputation_best)\n",
    "no_imputation_best_without_encoder = without_encoder(no_imputation_best)\n",
    "\n",
    "no_pca_scores = {k: scores[k] for k in scores if k[1] == 1}\n",
    "no_pca_best = max(no_pca_scores, key=no_pca_scores.get)\n",
    "no_pca_best_with_encoder = with_encoder(no_pca_best)\n",
    "no_pca_best_without_encoder = without_encoder(no_pca_best)"
   ]
  },
  {
   "cell_type": "code",
   "execution_count": 23,
   "id": "78c2d7f3",
   "metadata": {
    "scrolled": false
   },
   "outputs": [
    {
     "data": {
      "text/html": [
       "<div>\n",
       "<style scoped>\n",
       "    .dataframe tbody tr th:only-of-type {\n",
       "        vertical-align: middle;\n",
       "    }\n",
       "\n",
       "    .dataframe tbody tr th {\n",
       "        vertical-align: top;\n",
       "    }\n",
       "\n",
       "    .dataframe thead th {\n",
       "        text-align: right;\n",
       "    }\n",
       "</style>\n",
       "<table border=\"1\" class=\"dataframe\">\n",
       "  <thead>\n",
       "    <tr style=\"text-align: right;\">\n",
       "      <th></th>\n",
       "      <th>nan_ratio</th>\n",
       "      <th>variance</th>\n",
       "      <th>encoder</th>\n",
       "      <th>score</th>\n",
       "    </tr>\n",
       "  </thead>\n",
       "  <tbody>\n",
       "    <tr>\n",
       "      <th>0</th>\n",
       "      <td>0.25</td>\n",
       "      <td>0.60</td>\n",
       "      <td>False</td>\n",
       "      <td>0.542743</td>\n",
       "    </tr>\n",
       "    <tr>\n",
       "      <th>1</th>\n",
       "      <td>0.40</td>\n",
       "      <td>0.70</td>\n",
       "      <td>False</td>\n",
       "      <td>0.537036</td>\n",
       "    </tr>\n",
       "    <tr>\n",
       "      <th>2</th>\n",
       "      <td>0.40</td>\n",
       "      <td>0.60</td>\n",
       "      <td>False</td>\n",
       "      <td>0.533755</td>\n",
       "    </tr>\n",
       "    <tr>\n",
       "      <th>3</th>\n",
       "      <td>0.45</td>\n",
       "      <td>0.80</td>\n",
       "      <td>False</td>\n",
       "      <td>0.527765</td>\n",
       "    </tr>\n",
       "    <tr>\n",
       "      <th>4</th>\n",
       "      <td>0.50</td>\n",
       "      <td>0.90</td>\n",
       "      <td>False</td>\n",
       "      <td>0.525485</td>\n",
       "    </tr>\n",
       "    <tr>\n",
       "      <th>5</th>\n",
       "      <td>0.40</td>\n",
       "      <td>0.95</td>\n",
       "      <td>False</td>\n",
       "      <td>0.525484</td>\n",
       "    </tr>\n",
       "    <tr>\n",
       "      <th>6</th>\n",
       "      <td>0.45</td>\n",
       "      <td>0.70</td>\n",
       "      <td>False</td>\n",
       "      <td>0.524698</td>\n",
       "    </tr>\n",
       "    <tr>\n",
       "      <th>7</th>\n",
       "      <td>0.50</td>\n",
       "      <td>1.00</td>\n",
       "      <td>False</td>\n",
       "      <td>0.524507</td>\n",
       "    </tr>\n",
       "    <tr>\n",
       "      <th>8</th>\n",
       "      <td>1.00</td>\n",
       "      <td>1.00</td>\n",
       "      <td>False</td>\n",
       "      <td>0.524184</td>\n",
       "    </tr>\n",
       "    <tr>\n",
       "      <th>9</th>\n",
       "      <td>0.50</td>\n",
       "      <td>0.70</td>\n",
       "      <td>False</td>\n",
       "      <td>0.523176</td>\n",
       "    </tr>\n",
       "    <tr>\n",
       "      <th>10</th>\n",
       "      <td>0.40</td>\n",
       "      <td>1.00</td>\n",
       "      <td>False</td>\n",
       "      <td>0.522838</td>\n",
       "    </tr>\n",
       "    <tr>\n",
       "      <th>11</th>\n",
       "      <td>0.40</td>\n",
       "      <td>0.99</td>\n",
       "      <td>False</td>\n",
       "      <td>0.522738</td>\n",
       "    </tr>\n",
       "    <tr>\n",
       "      <th>12</th>\n",
       "      <td>0.45</td>\n",
       "      <td>1.00</td>\n",
       "      <td>False</td>\n",
       "      <td>0.520462</td>\n",
       "    </tr>\n",
       "    <tr>\n",
       "      <th>13</th>\n",
       "      <td>0.25</td>\n",
       "      <td>0.70</td>\n",
       "      <td>False</td>\n",
       "      <td>0.515543</td>\n",
       "    </tr>\n",
       "    <tr>\n",
       "      <th>14</th>\n",
       "      <td>0.45</td>\n",
       "      <td>0.90</td>\n",
       "      <td>False</td>\n",
       "      <td>0.515461</td>\n",
       "    </tr>\n",
       "    <tr>\n",
       "      <th>15</th>\n",
       "      <td>0.40</td>\n",
       "      <td>0.90</td>\n",
       "      <td>False</td>\n",
       "      <td>0.514185</td>\n",
       "    </tr>\n",
       "    <tr>\n",
       "      <th>16</th>\n",
       "      <td>0.50</td>\n",
       "      <td>0.80</td>\n",
       "      <td>False</td>\n",
       "      <td>0.513641</td>\n",
       "    </tr>\n",
       "    <tr>\n",
       "      <th>17</th>\n",
       "      <td>0.40</td>\n",
       "      <td>0.80</td>\n",
       "      <td>False</td>\n",
       "      <td>0.512256</td>\n",
       "    </tr>\n",
       "    <tr>\n",
       "      <th>18</th>\n",
       "      <td>0.50</td>\n",
       "      <td>0.60</td>\n",
       "      <td>False</td>\n",
       "      <td>0.511611</td>\n",
       "    </tr>\n",
       "    <tr>\n",
       "      <th>19</th>\n",
       "      <td>0.25</td>\n",
       "      <td>0.90</td>\n",
       "      <td>False</td>\n",
       "      <td>0.508859</td>\n",
       "    </tr>\n",
       "    <tr>\n",
       "      <th>20</th>\n",
       "      <td>0.25</td>\n",
       "      <td>0.80</td>\n",
       "      <td>False</td>\n",
       "      <td>0.507245</td>\n",
       "    </tr>\n",
       "    <tr>\n",
       "      <th>21</th>\n",
       "      <td>0.45</td>\n",
       "      <td>0.95</td>\n",
       "      <td>False</td>\n",
       "      <td>0.506794</td>\n",
       "    </tr>\n",
       "    <tr>\n",
       "      <th>22</th>\n",
       "      <td>0.25</td>\n",
       "      <td>1.00</td>\n",
       "      <td>False</td>\n",
       "      <td>0.503966</td>\n",
       "    </tr>\n",
       "    <tr>\n",
       "      <th>23</th>\n",
       "      <td>0.50</td>\n",
       "      <td>0.99</td>\n",
       "      <td>False</td>\n",
       "      <td>0.501676</td>\n",
       "    </tr>\n",
       "    <tr>\n",
       "      <th>24</th>\n",
       "      <td>0.45</td>\n",
       "      <td>0.99</td>\n",
       "      <td>False</td>\n",
       "      <td>0.501282</td>\n",
       "    </tr>\n",
       "    <tr>\n",
       "      <th>25</th>\n",
       "      <td>0.25</td>\n",
       "      <td>0.95</td>\n",
       "      <td>False</td>\n",
       "      <td>0.501166</td>\n",
       "    </tr>\n",
       "    <tr>\n",
       "      <th>26</th>\n",
       "      <td>0.50</td>\n",
       "      <td>0.95</td>\n",
       "      <td>False</td>\n",
       "      <td>0.499883</td>\n",
       "    </tr>\n",
       "    <tr>\n",
       "      <th>27</th>\n",
       "      <td>0.45</td>\n",
       "      <td>0.60</td>\n",
       "      <td>False</td>\n",
       "      <td>0.497417</td>\n",
       "    </tr>\n",
       "    <tr>\n",
       "      <th>28</th>\n",
       "      <td>0.25</td>\n",
       "      <td>0.99</td>\n",
       "      <td>False</td>\n",
       "      <td>0.491227</td>\n",
       "    </tr>\n",
       "    <tr>\n",
       "      <th>29</th>\n",
       "      <td>1.00</td>\n",
       "      <td>1.00</td>\n",
       "      <td>True</td>\n",
       "      <td>0.488272</td>\n",
       "    </tr>\n",
       "    <tr>\n",
       "      <th>30</th>\n",
       "      <td>0.00</td>\n",
       "      <td>1.00</td>\n",
       "      <td>True</td>\n",
       "      <td>0.471171</td>\n",
       "    </tr>\n",
       "    <tr>\n",
       "      <th>31</th>\n",
       "      <td>0.00</td>\n",
       "      <td>1.00</td>\n",
       "      <td>False</td>\n",
       "      <td>0.148374</td>\n",
       "    </tr>\n",
       "  </tbody>\n",
       "</table>\n",
       "</div>"
      ],
      "text/plain": [
       "    nan_ratio  variance  encoder     score\n",
       "0        0.25      0.60    False  0.542743\n",
       "1        0.40      0.70    False  0.537036\n",
       "2        0.40      0.60    False  0.533755\n",
       "3        0.45      0.80    False  0.527765\n",
       "4        0.50      0.90    False  0.525485\n",
       "5        0.40      0.95    False  0.525484\n",
       "6        0.45      0.70    False  0.524698\n",
       "7        0.50      1.00    False  0.524507\n",
       "8        1.00      1.00    False  0.524184\n",
       "9        0.50      0.70    False  0.523176\n",
       "10       0.40      1.00    False  0.522838\n",
       "11       0.40      0.99    False  0.522738\n",
       "12       0.45      1.00    False  0.520462\n",
       "13       0.25      0.70    False  0.515543\n",
       "14       0.45      0.90    False  0.515461\n",
       "15       0.40      0.90    False  0.514185\n",
       "16       0.50      0.80    False  0.513641\n",
       "17       0.40      0.80    False  0.512256\n",
       "18       0.50      0.60    False  0.511611\n",
       "19       0.25      0.90    False  0.508859\n",
       "20       0.25      0.80    False  0.507245\n",
       "21       0.45      0.95    False  0.506794\n",
       "22       0.25      1.00    False  0.503966\n",
       "23       0.50      0.99    False  0.501676\n",
       "24       0.45      0.99    False  0.501282\n",
       "25       0.25      0.95    False  0.501166\n",
       "26       0.50      0.95    False  0.499883\n",
       "27       0.45      0.60    False  0.497417\n",
       "28       0.25      0.99    False  0.491227\n",
       "29       1.00      1.00     True  0.488272\n",
       "30       0.00      1.00     True  0.471171\n",
       "31       0.00      1.00    False  0.148374"
      ]
     },
     "metadata": {},
     "output_type": "display_data"
    },
    {
     "name": "stdout",
     "output_type": "stream",
     "text": [
      "best params -> nan_ratio 0.25 variance 0.6 encoder False\n"
     ]
    }
   ],
   "source": [
    "scores_df = pd.DataFrame()\n",
    "for nan_ratio, variance, encoder in scores:\n",
    "    scores_df = pd.concat([scores_df, pd.DataFrame({\n",
    "        'nan_ratio': [nan_ratio],\n",
    "        'variance': [variance],\n",
    "        'encoder': [encoder == \"TargetEncoder(cols=['dataset'])\"],\n",
    "        'score': [scores[(nan_ratio, variance, encoder)]]\n",
    "    })])\n",
    "scores_df = scores_df.sort_values(by='score', ascending=False).reset_index(drop=True)\n",
    "display(scores_df)\n",
    "\n",
    "print('best params -> nan_ratio', scores_df.loc[0][0], 'variance', scores_df.loc[0][1], 'encoder', scores_df.loc[0][2])"
   ]
  },
  {
   "cell_type": "markdown",
   "id": "05f9a7e8",
   "metadata": {},
   "source": [
    "The best parameters are a 'nan' drop threshold of 0.25 and keeping an expected variance of 0.6 regarding the pca. Let us check how encoding the 'dataset' feature, instead of just dropping it, affects the performance."
   ]
  },
  {
   "cell_type": "code",
   "execution_count": 26,
   "id": "e80d3601",
   "metadata": {},
   "outputs": [
    {
     "name": "stdout",
     "output_type": "stream",
     "text": [
      "nan_ratio: 0.25 variance: 0.6 encoder: None -> 0.5476254695454387\n",
      "nan_ratio: 0.25 variance: 0.6 encoder: OneHotEncoder() -> 0.5422733114629104\n",
      "nan_ratio: 0.25 variance: 0.6 encoder: BinaryEncoder() -> 0.5377620516528516\n",
      "nan_ratio: 0.25 variance: 0.6 encoder: OrdinalEncoder() -> 0.5318775477612452\n",
      "nan_ratio: 0.25 variance: 0.6 encoder: TargetEncoder() -> 0.47263943766212557\n",
      "nan_ratio: 0.25 variance: 0.6 encoder: GLMMEncoder() -> 0.4721617490961997\n"
     ]
    }
   ],
   "source": [
    "import category_encoders\n",
    "\n",
    "scores = {}\n",
    "for encoder in [\n",
    "    None,\n",
    "    category_encoders.one_hot.OneHotEncoder(),\n",
    "    category_encoders.binary.BinaryEncoder(),\n",
    "    category_encoders.ordinal.OrdinalEncoder(),\n",
    "    category_encoders.target_encoder.TargetEncoder(),\n",
    "    category_encoders.glmm.GLMMEncoder()\n",
    "]:\n",
    "    evaluation(0.25, 0.6, encoder)"
   ]
  },
  {
   "cell_type": "code",
   "execution_count": 28,
   "id": "262dca96",
   "metadata": {},
   "outputs": [
    {
     "data": {
      "text/html": [
       "<div>\n",
       "<style scoped>\n",
       "    .dataframe tbody tr th:only-of-type {\n",
       "        vertical-align: middle;\n",
       "    }\n",
       "\n",
       "    .dataframe tbody tr th {\n",
       "        vertical-align: top;\n",
       "    }\n",
       "\n",
       "    .dataframe thead th {\n",
       "        text-align: right;\n",
       "    }\n",
       "</style>\n",
       "<table border=\"1\" class=\"dataframe\">\n",
       "  <thead>\n",
       "    <tr style=\"text-align: right;\">\n",
       "      <th></th>\n",
       "      <th>nan_ratio</th>\n",
       "      <th>variance</th>\n",
       "      <th>encoder</th>\n",
       "      <th>score</th>\n",
       "    </tr>\n",
       "  </thead>\n",
       "  <tbody>\n",
       "    <tr>\n",
       "      <th>0</th>\n",
       "      <td>0.25</td>\n",
       "      <td>0.6</td>\n",
       "      <td>None</td>\n",
       "      <td>0.547625</td>\n",
       "    </tr>\n",
       "    <tr>\n",
       "      <th>1</th>\n",
       "      <td>0.25</td>\n",
       "      <td>0.6</td>\n",
       "      <td>OneHotEncoder(cols=['dataset'])</td>\n",
       "      <td>0.542273</td>\n",
       "    </tr>\n",
       "    <tr>\n",
       "      <th>2</th>\n",
       "      <td>0.25</td>\n",
       "      <td>0.6</td>\n",
       "      <td>BinaryEncoder(cols=['dataset'],\\n             ...</td>\n",
       "      <td>0.537762</td>\n",
       "    </tr>\n",
       "    <tr>\n",
       "      <th>3</th>\n",
       "      <td>0.25</td>\n",
       "      <td>0.6</td>\n",
       "      <td>OrdinalEncoder(cols=['dataset'],\\n            ...</td>\n",
       "      <td>0.531878</td>\n",
       "    </tr>\n",
       "    <tr>\n",
       "      <th>4</th>\n",
       "      <td>0.25</td>\n",
       "      <td>0.6</td>\n",
       "      <td>TargetEncoder(cols=['dataset'])</td>\n",
       "      <td>0.472639</td>\n",
       "    </tr>\n",
       "    <tr>\n",
       "      <th>5</th>\n",
       "      <td>0.25</td>\n",
       "      <td>0.6</td>\n",
       "      <td>GLMMEncoder(cols=['dataset'])</td>\n",
       "      <td>0.472162</td>\n",
       "    </tr>\n",
       "  </tbody>\n",
       "</table>\n",
       "</div>"
      ],
      "text/plain": [
       "   nan_ratio  variance                                            encoder  \\\n",
       "0       0.25       0.6                                               None   \n",
       "1       0.25       0.6                    OneHotEncoder(cols=['dataset'])   \n",
       "2       0.25       0.6  BinaryEncoder(cols=['dataset'],\\n             ...   \n",
       "3       0.25       0.6  OrdinalEncoder(cols=['dataset'],\\n            ...   \n",
       "4       0.25       0.6                    TargetEncoder(cols=['dataset'])   \n",
       "5       0.25       0.6                      GLMMEncoder(cols=['dataset'])   \n",
       "\n",
       "      score  \n",
       "0  0.547625  \n",
       "1  0.542273  \n",
       "2  0.537762  \n",
       "3  0.531878  \n",
       "4  0.472639  \n",
       "5  0.472162  "
      ]
     },
     "metadata": {},
     "output_type": "display_data"
    },
    {
     "name": "stdout",
     "output_type": "stream",
     "text": [
      "best params -> nan_ratio 0.25 variance 0.6 encoder None\n"
     ]
    }
   ],
   "source": [
    "scores_df = pd.DataFrame()\n",
    "for nan_ratio, variance, encoder in scores:\n",
    "    scores_df = pd.concat([scores_df, pd.DataFrame({\n",
    "        'nan_ratio': [nan_ratio],\n",
    "        'variance': [variance],\n",
    "        'encoder': [encoder],\n",
    "        'score': [scores[(nan_ratio, variance, encoder)]]\n",
    "    })])\n",
    "scores_df = scores_df.sort_values(by='score', ascending=False).reset_index(drop=True)\n",
    "display(scores_df)\n",
    "\n",
    "print('best params -> nan_ratio', scores_df.loc[0][0], 'variance', scores_df.loc[0][1], 'encoder', scores_df.loc[0][2])"
   ]
  },
  {
   "cell_type": "markdown",
   "id": "53228e53",
   "metadata": {},
   "source": [
    "We see that additionally encoding the feature is detrimental to the performance, so instead we stick to the original implementation and just drop it after adding the metafeatures. The found optimal parameter can be used as a starting point in further hyperparameter tuning."
   ]
  },
  {
   "cell_type": "markdown",
   "id": "9796effa",
   "metadata": {},
   "source": [
    "## 3) General Purpose Encoders\n",
    "\n",
    "In this step, we reexamine the effect of applying different general purpose encoders on the features 'model', 'tuning' and 'scoring'."
   ]
  },
  {
   "cell_type": "code",
   "execution_count": 3,
   "id": "8ce1fb57",
   "metadata": {},
   "outputs": [],
   "source": [
    "from category_encoders.one_hot import OneHotEncoder\n",
    "from src.pipeline.pipeline_transformers import PoincareEmbedding, GeneralPurposeEncoderTransformer, OpenMLMetaFeatureTransformer\n",
    "from src.features.encoder_utils import load_graph\n",
    "\n",
    "graph = load_graph(config.ROOT_DIR / \"data/external/graphs/encodings_graph.adjlist\")\n",
    "\n",
    "pipeline = pipelineFactory.create_pipeline(\n",
    "    train_df,\n",
    "    ModelType.REGRE_PREPROCESSED,\n",
    "    verbose_level=0,\n",
    "    evaluation=EvaluationType.CROSS_VALIDATION\n",
    ")\n",
    "pipeline.add_new_step(PoincareEmbedding(\n",
    "    graph=graph, \n",
    "    epochs=500, \n",
    "    batch_size=50, \n",
    "    encoder=OneHotEncoder()\n",
    "), 'encoder_transformer')\n",
    "pipeline.add_new_step(OpenMLMetaFeatureTransformer(\n",
    "    nan_ratio_feature_drop_threshold=0.25,\n",
    "    expected_pca_variance=0.6,\n",
    "    encoder=None\n",
    "), 'dataset_transformer')\n",
    "pipeline.change_estimator(DecisionTreeRegressor())"
   ]
  },
  {
   "cell_type": "code",
   "execution_count": 4,
   "id": "2a27a34c",
   "metadata": {},
   "outputs": [],
   "source": [
    "import category_encoders\n",
    "from itertools import product\n",
    "\n",
    "encoders = [\n",
    "    category_encoders.ordinal.OrdinalEncoder,\n",
    "    category_encoders.one_hot.OneHotEncoder,\n",
    "    category_encoders.binary.BinaryEncoder,\n",
    "    category_encoders.target_encoder.TargetEncoder\n",
    "]\n",
    "\n",
    "encoder_triples = list(product(encoders, repeat=3))"
   ]
  },
  {
   "cell_type": "code",
   "execution_count": 9,
   "id": "180a4f25",
   "metadata": {},
   "outputs": [
    {
     "name": "stdout",
     "output_type": "stream",
     "text": [
      "[1/64] OrdinalEncoder, OrdinalEncoder, OrdinalEncoder -> 0.5396424042114842\n",
      "[2/64] OrdinalEncoder, OrdinalEncoder, OneHotEncoder -> 0.5404931359916217\n",
      "[3/64] OrdinalEncoder, OrdinalEncoder, BinaryEncoder -> 0.5431700728812603\n",
      "[4/64] OrdinalEncoder, OrdinalEncoder, TargetEncoder -> 0.5492273465421788\n",
      "[5/64] OrdinalEncoder, OneHotEncoder, OrdinalEncoder -> 0.5408140388803778\n",
      "[6/64] OrdinalEncoder, OneHotEncoder, OneHotEncoder -> 0.5325334233805487\n",
      "[7/64] OrdinalEncoder, OneHotEncoder, BinaryEncoder -> 0.5342106608737401\n",
      "[8/64] OrdinalEncoder, OneHotEncoder, TargetEncoder -> 0.5429421498787328\n",
      "[9/64] OrdinalEncoder, BinaryEncoder, OrdinalEncoder -> 0.5550186718237364\n",
      "[10/64] OrdinalEncoder, BinaryEncoder, OneHotEncoder -> 0.5440314995914578\n",
      "[11/64] OrdinalEncoder, BinaryEncoder, BinaryEncoder -> 0.5494660769601762\n",
      "[12/64] OrdinalEncoder, BinaryEncoder, TargetEncoder -> 0.5567149227416995\n",
      "[13/64] OrdinalEncoder, TargetEncoder, OrdinalEncoder -> 0.541159646065904\n",
      "[14/64] OrdinalEncoder, TargetEncoder, OneHotEncoder -> 0.5418928874859451\n",
      "[15/64] OrdinalEncoder, TargetEncoder, BinaryEncoder -> 0.5435257104460753\n",
      "[16/64] OrdinalEncoder, TargetEncoder, TargetEncoder -> 0.5497403439710935\n",
      "[17/64] OneHotEncoder, OrdinalEncoder, OrdinalEncoder -> 0.5693497084119054\n",
      "[18/64] OneHotEncoder, OrdinalEncoder, OneHotEncoder -> 0.5612804651251456\n",
      "[19/64] OneHotEncoder, OrdinalEncoder, BinaryEncoder -> 0.5644273135924547\n",
      "[20/64] OneHotEncoder, OrdinalEncoder, TargetEncoder -> 0.5744343645344949\n",
      "[21/64] OneHotEncoder, OneHotEncoder, OrdinalEncoder -> 0.5656589722290282\n",
      "[22/64] OneHotEncoder, OneHotEncoder, OneHotEncoder -> 0.5566139354779109\n",
      "[23/64] OneHotEncoder, OneHotEncoder, BinaryEncoder -> 0.5669472803006738\n",
      "[24/64] OneHotEncoder, OneHotEncoder, TargetEncoder -> 0.5662190790732556\n",
      "[25/64] OneHotEncoder, BinaryEncoder, OrdinalEncoder -> 0.5770884004651287\n",
      "[26/64] OneHotEncoder, BinaryEncoder, OneHotEncoder -> 0.5648606226098662\n",
      "[27/64] OneHotEncoder, BinaryEncoder, BinaryEncoder -> 0.5665774386388557\n",
      "[28/64] OneHotEncoder, BinaryEncoder, TargetEncoder -> 0.5778293252550313\n",
      "[29/64] OneHotEncoder, TargetEncoder, OrdinalEncoder -> 0.5726394862148305\n",
      "[30/64] OneHotEncoder, TargetEncoder, OneHotEncoder -> 0.5681826393308702\n",
      "[31/64] OneHotEncoder, TargetEncoder, BinaryEncoder -> 0.5670709282302983\n",
      "[32/64] OneHotEncoder, TargetEncoder, TargetEncoder -> 0.5785341262710183\n",
      "[33/64] BinaryEncoder, OrdinalEncoder, OrdinalEncoder -> 0.5433428050020013\n",
      "[34/64] BinaryEncoder, OrdinalEncoder, OneHotEncoder -> 0.5407963635021263\n",
      "[35/64] BinaryEncoder, OrdinalEncoder, BinaryEncoder -> 0.5447213082052742\n",
      "[36/64] BinaryEncoder, OrdinalEncoder, TargetEncoder -> 0.5515876203618759\n",
      "[37/64] BinaryEncoder, OneHotEncoder, OrdinalEncoder -> 0.5284726289606084\n",
      "[38/64] BinaryEncoder, OneHotEncoder, OneHotEncoder -> 0.5288254630343556\n",
      "[39/64] BinaryEncoder, OneHotEncoder, BinaryEncoder -> 0.5288099131124271\n",
      "[40/64] BinaryEncoder, OneHotEncoder, TargetEncoder -> 0.5354789052781992\n",
      "[41/64] BinaryEncoder, BinaryEncoder, OrdinalEncoder -> 0.5390672119772758\n",
      "[42/64] BinaryEncoder, BinaryEncoder, OneHotEncoder -> 0.5308020899712611\n",
      "[43/64] BinaryEncoder, BinaryEncoder, BinaryEncoder -> 0.5448317959913853\n",
      "[44/64] BinaryEncoder, BinaryEncoder, TargetEncoder -> 0.5562870798576081\n",
      "[45/64] BinaryEncoder, TargetEncoder, OrdinalEncoder -> 0.5463259987633794\n",
      "[46/64] BinaryEncoder, TargetEncoder, OneHotEncoder -> 0.5341400227511655\n",
      "[47/64] BinaryEncoder, TargetEncoder, BinaryEncoder -> 0.5343926470605058\n",
      "[48/64] BinaryEncoder, TargetEncoder, TargetEncoder -> 0.5532984325842788\n",
      "[49/64] TargetEncoder, OrdinalEncoder, OrdinalEncoder -> 0.5577112514608578\n",
      "[50/64] TargetEncoder, OrdinalEncoder, OneHotEncoder -> 0.5508599416500037\n",
      "[51/64] TargetEncoder, OrdinalEncoder, BinaryEncoder -> 0.5591853660999071\n",
      "[52/64] TargetEncoder, OrdinalEncoder, TargetEncoder -> 0.5650913450320476\n",
      "[53/64] TargetEncoder, OneHotEncoder, OrdinalEncoder -> 0.5477242453240716\n",
      "[54/64] TargetEncoder, OneHotEncoder, OneHotEncoder -> 0.5351752709923923\n",
      "[55/64] TargetEncoder, OneHotEncoder, BinaryEncoder -> 0.5482234501976604\n",
      "[56/64] TargetEncoder, OneHotEncoder, TargetEncoder -> 0.5506034427542192\n",
      "[57/64] TargetEncoder, BinaryEncoder, OrdinalEncoder -> 0.5443963683056412\n",
      "[58/64] TargetEncoder, BinaryEncoder, OneHotEncoder -> 0.5354807063221265\n",
      "[59/64] TargetEncoder, BinaryEncoder, BinaryEncoder -> 0.5542133067636874\n",
      "[60/64] TargetEncoder, BinaryEncoder, TargetEncoder -> 0.5548408190421542\n",
      "[61/64] TargetEncoder, TargetEncoder, OrdinalEncoder -> 0.5491810216632336\n",
      "[62/64] TargetEncoder, TargetEncoder, OneHotEncoder -> 0.5441803085069771\n",
      "[63/64] TargetEncoder, TargetEncoder, BinaryEncoder -> 0.555595981143432\n",
      "[64/64] TargetEncoder, TargetEncoder, TargetEncoder -> 0.5530723551831278\n"
     ]
    }
   ],
   "source": [
    "scores = {}\n",
    "for idx, (model_encoder, tuning_encoder, scoring_encoder) in enumerate(encoder_triples):\n",
    "    pipeline.add_new_step(GeneralPurposeEncoderTransformer(\n",
    "        model_encoder=model_encoder(),\n",
    "        tuning_encoder=tuning_encoder(),\n",
    "        scoring_encoder=scoring_encoder()\n",
    "    ), 'general_transformer')\n",
    "    print('[' + str(idx + 1) + '/' + str(len(encoder_triples)) + '] ' \n",
    "          + str(model_encoder.__name__) \n",
    "          + ', ' + str(tuning_encoder.__name__)\n",
    "          + ', ' + str(scoring_encoder.__name__)\n",
    "    , end='')\n",
    "    pipeline.run()\n",
    "    score = np.mean(list(pipeline._validation_performance_scores.values()))\n",
    "    scores[(str(model_encoder.__name__), str(tuning_encoder.__name__), str(scoring_encoder.__name__))] = score\n",
    "    print(' ->', score)"
   ]
  },
  {
   "cell_type": "code",
   "execution_count": 12,
   "id": "0129d0ce",
   "metadata": {},
   "outputs": [
    {
     "data": {
      "text/html": [
       "<div>\n",
       "<style scoped>\n",
       "    .dataframe tbody tr th:only-of-type {\n",
       "        vertical-align: middle;\n",
       "    }\n",
       "\n",
       "    .dataframe tbody tr th {\n",
       "        vertical-align: top;\n",
       "    }\n",
       "\n",
       "    .dataframe thead th {\n",
       "        text-align: right;\n",
       "    }\n",
       "</style>\n",
       "<table border=\"1\" class=\"dataframe\">\n",
       "  <thead>\n",
       "    <tr style=\"text-align: right;\">\n",
       "      <th></th>\n",
       "      <th>model</th>\n",
       "      <th>tuning</th>\n",
       "      <th>scoring</th>\n",
       "      <th>score</th>\n",
       "    </tr>\n",
       "  </thead>\n",
       "  <tbody>\n",
       "    <tr>\n",
       "      <th>0</th>\n",
       "      <td>OneHotEncoder</td>\n",
       "      <td>TargetEncoder</td>\n",
       "      <td>TargetEncoder</td>\n",
       "      <td>0.578534</td>\n",
       "    </tr>\n",
       "    <tr>\n",
       "      <th>1</th>\n",
       "      <td>OneHotEncoder</td>\n",
       "      <td>BinaryEncoder</td>\n",
       "      <td>TargetEncoder</td>\n",
       "      <td>0.577829</td>\n",
       "    </tr>\n",
       "    <tr>\n",
       "      <th>2</th>\n",
       "      <td>OneHotEncoder</td>\n",
       "      <td>BinaryEncoder</td>\n",
       "      <td>OrdinalEncoder</td>\n",
       "      <td>0.577088</td>\n",
       "    </tr>\n",
       "    <tr>\n",
       "      <th>3</th>\n",
       "      <td>OneHotEncoder</td>\n",
       "      <td>OrdinalEncoder</td>\n",
       "      <td>TargetEncoder</td>\n",
       "      <td>0.574434</td>\n",
       "    </tr>\n",
       "    <tr>\n",
       "      <th>4</th>\n",
       "      <td>OneHotEncoder</td>\n",
       "      <td>TargetEncoder</td>\n",
       "      <td>OrdinalEncoder</td>\n",
       "      <td>0.572639</td>\n",
       "    </tr>\n",
       "    <tr>\n",
       "      <th>...</th>\n",
       "      <td>...</td>\n",
       "      <td>...</td>\n",
       "      <td>...</td>\n",
       "      <td>...</td>\n",
       "    </tr>\n",
       "    <tr>\n",
       "      <th>59</th>\n",
       "      <td>OrdinalEncoder</td>\n",
       "      <td>OneHotEncoder</td>\n",
       "      <td>OneHotEncoder</td>\n",
       "      <td>0.532533</td>\n",
       "    </tr>\n",
       "    <tr>\n",
       "      <th>60</th>\n",
       "      <td>BinaryEncoder</td>\n",
       "      <td>BinaryEncoder</td>\n",
       "      <td>OneHotEncoder</td>\n",
       "      <td>0.530802</td>\n",
       "    </tr>\n",
       "    <tr>\n",
       "      <th>61</th>\n",
       "      <td>BinaryEncoder</td>\n",
       "      <td>OneHotEncoder</td>\n",
       "      <td>OneHotEncoder</td>\n",
       "      <td>0.528825</td>\n",
       "    </tr>\n",
       "    <tr>\n",
       "      <th>62</th>\n",
       "      <td>BinaryEncoder</td>\n",
       "      <td>OneHotEncoder</td>\n",
       "      <td>BinaryEncoder</td>\n",
       "      <td>0.528810</td>\n",
       "    </tr>\n",
       "    <tr>\n",
       "      <th>63</th>\n",
       "      <td>BinaryEncoder</td>\n",
       "      <td>OneHotEncoder</td>\n",
       "      <td>OrdinalEncoder</td>\n",
       "      <td>0.528473</td>\n",
       "    </tr>\n",
       "  </tbody>\n",
       "</table>\n",
       "<p>64 rows × 4 columns</p>\n",
       "</div>"
      ],
      "text/plain": [
       "             model          tuning         scoring     score\n",
       "0    OneHotEncoder   TargetEncoder   TargetEncoder  0.578534\n",
       "1    OneHotEncoder   BinaryEncoder   TargetEncoder  0.577829\n",
       "2    OneHotEncoder   BinaryEncoder  OrdinalEncoder  0.577088\n",
       "3    OneHotEncoder  OrdinalEncoder   TargetEncoder  0.574434\n",
       "4    OneHotEncoder   TargetEncoder  OrdinalEncoder  0.572639\n",
       "..             ...             ...             ...       ...\n",
       "59  OrdinalEncoder   OneHotEncoder   OneHotEncoder  0.532533\n",
       "60   BinaryEncoder   BinaryEncoder   OneHotEncoder  0.530802\n",
       "61   BinaryEncoder   OneHotEncoder   OneHotEncoder  0.528825\n",
       "62   BinaryEncoder   OneHotEncoder   BinaryEncoder  0.528810\n",
       "63   BinaryEncoder   OneHotEncoder  OrdinalEncoder  0.528473\n",
       "\n",
       "[64 rows x 4 columns]"
      ]
     },
     "metadata": {},
     "output_type": "display_data"
    },
    {
     "name": "stdout",
     "output_type": "stream",
     "text": [
      "best params -> model: OneHotEncoder tuning: TargetEncoder scoring: TargetEncoder\n"
     ]
    }
   ],
   "source": [
    "scores_df = pd.DataFrame()\n",
    "for (model_encoder, tuning_encoder, scoring_encoder), score in scores.items():\n",
    "    scores_df = pd.concat([scores_df, pd.DataFrame({\n",
    "        'model': [model_encoder],\n",
    "        'tuning': [tuning_encoder],\n",
    "        'scoring': [scoring_encoder],\n",
    "        'score': [score]\n",
    "    })])\n",
    "scores_df = scores_df.sort_values(by='score', ascending=False).reset_index(drop=True)\n",
    "display(scores_df)\n",
    "\n",
    "print('best params -> model:', scores_df.loc[0][0], 'tuning:', scores_df.loc[0][1], 'scoring:', scores_df.loc[0][2])"
   ]
  },
  {
   "cell_type": "markdown",
   "id": "bdbd25af",
   "metadata": {},
   "source": [
    "The encoders with the best performance are OneHotEncoder for the 'model' feature and TargetEncoder for the 'tuning' and 'scoring' features."
   ]
  },
  {
   "cell_type": "markdown",
   "id": "a05568f9",
   "metadata": {},
   "source": [
    "## 4) Conclusion\n",
    "\n",
    "Let us recap and compare the current performance to different baselines."
   ]
  },
  {
   "cell_type": "code",
   "execution_count": 30,
   "id": "74a52c32",
   "metadata": {},
   "outputs": [],
   "source": [
    "from category_encoders.one_hot import OneHotEncoder\n",
    "from category_encoders.target_encoder import TargetEncoder\n",
    "from src.pipeline.pipeline_transformers import PoincareEmbedding, GeneralPurposeEncoderTransformer, OpenMLMetaFeatureTransformer\n",
    "from src.features.encoder_utils import load_graph\n",
    "\n",
    "graph = load_graph(config.ROOT_DIR / \"data/external/graphs/encodings_graph.adjlist\")\n",
    "\n",
    "scores = {\n",
    "    'baseline': {},\n",
    "    'preprocessing (old)': {},\n",
    "    'preprocessing (new)': {}\n",
    "}"
   ]
  },
  {
   "cell_type": "code",
   "execution_count": 32,
   "id": "780c75c5",
   "metadata": {},
   "outputs": [
    {
     "name": "stdout",
     "output_type": "stream",
     "text": [
      "Starting pipeline using method: EvaluationType.CROSS_VALIDATION\n"
     ]
    },
    {
     "name": "stderr",
     "output_type": "stream",
     "text": [
      "100%|██████████████████████████████████████████████████████████████████████████████████████████████████████████████████████████| 5/5 [00:12<00:00,  2.43s/it]"
     ]
    },
    {
     "name": "stdout",
     "output_type": "stream",
     "text": [
      "Finished running the pipeline\n",
      "Evaluation metrics:\n",
      "    validation_average_spearman_fold_0: 0.2216\n",
      "    validation_average_spearman_fold_1: 0.2309\n",
      "    validation_average_spearman_fold_2: 0.2191\n",
      "    validation_average_spearman_fold_3: 0.2241\n",
      "    validation_average_spearman_fold_4: 0.2366\n",
      "    average of all folds: 0.2265 [std=0.0064]\n"
     ]
    },
    {
     "name": "stderr",
     "output_type": "stream",
     "text": [
      "\n"
     ]
    }
   ],
   "source": [
    "pipeline = pipelineFactory.create_pipeline(\n",
    "    train_df,\n",
    "    ModelType.REGRE_PREPROCESSED,\n",
    "    verbose_level=1,\n",
    "    evaluation=EvaluationType.CROSS_VALIDATION\n",
    ")\n",
    "pipeline.clear_steps()\n",
    "pipeline.add_new_step(OneHotEncoder(), 'onehot')\n",
    "pipeline.run()\n",
    "scores['baseline']['lgbm'] = np.mean(list(pipeline._validation_performance_scores.values()))"
   ]
  },
  {
   "cell_type": "code",
   "execution_count": 33,
   "id": "8c6bd7ff",
   "metadata": {},
   "outputs": [
    {
     "name": "stdout",
     "output_type": "stream",
     "text": [
      "Starting pipeline using method: EvaluationType.CROSS_VALIDATION\n"
     ]
    },
    {
     "name": "stderr",
     "output_type": "stream",
     "text": [
      "100%|██████████████████████████████████████████████████████████████████████████████████████████████████████████████████████████| 5/5 [00:11<00:00,  2.29s/it]"
     ]
    },
    {
     "name": "stdout",
     "output_type": "stream",
     "text": [
      "Finished running the pipeline\n",
      "Evaluation metrics:\n",
      "    validation_average_spearman_fold_0: 0.4917\n",
      "    validation_average_spearman_fold_1: 0.5295\n",
      "    validation_average_spearman_fold_2: 0.4396\n",
      "    validation_average_spearman_fold_3: 0.468\n",
      "    validation_average_spearman_fold_4: 0.5002\n",
      "    average of all folds: 0.4858 [std=0.0303]\n"
     ]
    },
    {
     "name": "stderr",
     "output_type": "stream",
     "text": [
      "\n"
     ]
    }
   ],
   "source": [
    "pipeline = pipelineFactory.create_pipeline(\n",
    "    train_df,\n",
    "    ModelType.REGRE_PREPROCESSED,\n",
    "    verbose_level=1,\n",
    "    evaluation=EvaluationType.CROSS_VALIDATION\n",
    ")\n",
    "pipeline.clear_steps()\n",
    "pipeline.add_new_step(OneHotEncoder(), 'onehot')\n",
    "pipeline.change_estimator(DecisionTreeRegressor())\n",
    "pipeline.run()\n",
    "scores['baseline']['decision tree'] = np.mean(list(pipeline._validation_performance_scores.values()))"
   ]
  },
  {
   "cell_type": "code",
   "execution_count": 34,
   "id": "c166d09a",
   "metadata": {},
   "outputs": [
    {
     "name": "stdout",
     "output_type": "stream",
     "text": [
      "Starting pipeline using method: EvaluationType.CROSS_VALIDATION\n"
     ]
    },
    {
     "name": "stderr",
     "output_type": "stream",
     "text": [
      "100%|██████████████████████████████████████████████████████████████████████████████████████████████████████████████████████████| 5/5 [00:46<00:00,  9.24s/it]"
     ]
    },
    {
     "name": "stdout",
     "output_type": "stream",
     "text": [
      "Finished running the pipeline\n",
      "Evaluation metrics:\n",
      "    validation_average_spearman_fold_0: 0.2868\n",
      "    validation_average_spearman_fold_1: 0.3285\n",
      "    validation_average_spearman_fold_2: 0.3057\n",
      "    validation_average_spearman_fold_3: 0.2972\n",
      "    validation_average_spearman_fold_4: 0.3195\n",
      "    average of all folds: 0.3075 [std=0.015]\n"
     ]
    },
    {
     "name": "stderr",
     "output_type": "stream",
     "text": [
      "\n"
     ]
    }
   ],
   "source": [
    "pipeline = pipelineFactory.create_pipeline(\n",
    "    train_df,\n",
    "    ModelType.REGRE_PREPROCESSED,\n",
    "    verbose_level=1,\n",
    "    evaluation=EvaluationType.CROSS_VALIDATION\n",
    ")\n",
    "pipeline.run()\n",
    "scores['preprocessing (old)']['lgbm'] = np.mean(list(pipeline._validation_performance_scores.values()))"
   ]
  },
  {
   "cell_type": "code",
   "execution_count": 35,
   "id": "51417049",
   "metadata": {},
   "outputs": [
    {
     "name": "stdout",
     "output_type": "stream",
     "text": [
      "Starting pipeline using method: EvaluationType.CROSS_VALIDATION\n"
     ]
    },
    {
     "name": "stderr",
     "output_type": "stream",
     "text": [
      "100%|██████████████████████████████████████████████████████████████████████████████████████████████████████████████████████████| 5/5 [00:44<00:00,  8.89s/it]"
     ]
    },
    {
     "name": "stdout",
     "output_type": "stream",
     "text": [
      "Finished running the pipeline\n",
      "Evaluation metrics:\n",
      "    validation_average_spearman_fold_0: 0.4753\n",
      "    validation_average_spearman_fold_1: 0.473\n",
      "    validation_average_spearman_fold_2: 0.4648\n",
      "    validation_average_spearman_fold_3: 0.4836\n",
      "    validation_average_spearman_fold_4: 0.5227\n",
      "    average of all folds: 0.4839 [std=0.0203]\n"
     ]
    },
    {
     "name": "stderr",
     "output_type": "stream",
     "text": [
      "\n"
     ]
    }
   ],
   "source": [
    "pipeline = pipelineFactory.create_pipeline(\n",
    "    train_df,\n",
    "    ModelType.REGRE_PREPROCESSED,\n",
    "    verbose_level=1,\n",
    "    evaluation=EvaluationType.CROSS_VALIDATION\n",
    ")\n",
    "pipeline.change_estimator(DecisionTreeRegressor())\n",
    "pipeline.run()\n",
    "scores['preprocessing (old)']['decision tree'] = np.mean(list(pipeline._validation_performance_scores.values()))"
   ]
  },
  {
   "cell_type": "code",
   "execution_count": 36,
   "id": "f1f0a7dc",
   "metadata": {},
   "outputs": [
    {
     "name": "stdout",
     "output_type": "stream",
     "text": [
      "Starting pipeline using method: EvaluationType.CROSS_VALIDATION\n"
     ]
    },
    {
     "name": "stderr",
     "output_type": "stream",
     "text": [
      "100%|██████████████████████████████████████████████████████████████████████████████████████████████████████████████████████████| 5/5 [00:44<00:00,  8.85s/it]"
     ]
    },
    {
     "name": "stdout",
     "output_type": "stream",
     "text": [
      "Finished running the pipeline\n",
      "Evaluation metrics:\n",
      "    validation_average_spearman_fold_0: 0.2821\n",
      "    validation_average_spearman_fold_1: 0.3006\n",
      "    validation_average_spearman_fold_2: 0.2942\n",
      "    validation_average_spearman_fold_3: 0.2968\n",
      "    validation_average_spearman_fold_4: 0.3042\n",
      "    average of all folds: 0.2956 [std=0.0075]\n"
     ]
    },
    {
     "name": "stderr",
     "output_type": "stream",
     "text": [
      "\n"
     ]
    }
   ],
   "source": [
    "pipeline = pipelineFactory.create_pipeline(\n",
    "    train_df,\n",
    "    ModelType.REGRE_PREPROCESSED,\n",
    "    verbose_level=1,\n",
    "    evaluation=EvaluationType.CROSS_VALIDATION\n",
    ")\n",
    "pipeline.add_new_step(PoincareEmbedding(\n",
    "    graph=graph, \n",
    "    epochs=500, \n",
    "    batch_size=50, \n",
    "    encoder=OneHotEncoder()\n",
    "), 'encoder_transformer')\n",
    "pipeline.add_new_step(OpenMLMetaFeatureTransformer(\n",
    "    nan_ratio_feature_drop_threshold=0.25,\n",
    "    expected_pca_variance=0.6,\n",
    "    encoder=None\n",
    "), 'dataset_transformer')\n",
    "pipeline.add_new_step(GeneralPurposeEncoderTransformer(\n",
    "    model_encoder=OneHotEncoder(),\n",
    "    tuning_encoder=TargetEncoder(),\n",
    "    scoring_encoder=TargetEncoder()\n",
    "), 'general_transformer')\n",
    "pipeline.run()\n",
    "scores['preprocessing (new)']['lgbm'] = np.mean(list(pipeline._validation_performance_scores.values()))"
   ]
  },
  {
   "cell_type": "code",
   "execution_count": 37,
   "id": "25061e09",
   "metadata": {},
   "outputs": [
    {
     "name": "stdout",
     "output_type": "stream",
     "text": [
      "Starting pipeline using method: EvaluationType.CROSS_VALIDATION\n"
     ]
    },
    {
     "name": "stderr",
     "output_type": "stream",
     "text": [
      "100%|██████████████████████████████████████████████████████████████████████████████████████████████████████████████████████████| 5/5 [00:44<00:00,  8.98s/it]"
     ]
    },
    {
     "name": "stdout",
     "output_type": "stream",
     "text": [
      "Finished running the pipeline\n",
      "Evaluation metrics:\n",
      "    validation_average_spearman_fold_0: 0.5798\n",
      "    validation_average_spearman_fold_1: 0.5769\n",
      "    validation_average_spearman_fold_2: 0.5756\n",
      "    validation_average_spearman_fold_3: 0.5739\n",
      "    validation_average_spearman_fold_4: 0.5834\n",
      "    average of all folds: 0.5779 [std=0.0034]\n"
     ]
    },
    {
     "name": "stderr",
     "output_type": "stream",
     "text": [
      "\n"
     ]
    }
   ],
   "source": [
    "pipeline = pipelineFactory.create_pipeline(\n",
    "    train_df,\n",
    "    ModelType.REGRE_PREPROCESSED,\n",
    "    verbose_level=1,\n",
    "    evaluation=EvaluationType.CROSS_VALIDATION\n",
    ")\n",
    "pipeline.add_new_step(PoincareEmbedding(\n",
    "    graph=graph, \n",
    "    epochs=500, \n",
    "    batch_size=50, \n",
    "    encoder=OneHotEncoder()\n",
    "), 'encoder_transformer')\n",
    "pipeline.add_new_step(OpenMLMetaFeatureTransformer(\n",
    "    nan_ratio_feature_drop_threshold=0.25,\n",
    "    expected_pca_variance=0.6,\n",
    "    encoder=None\n",
    "), 'dataset_transformer')\n",
    "pipeline.add_new_step(GeneralPurposeEncoderTransformer(\n",
    "    model_encoder=OneHotEncoder(),\n",
    "    tuning_encoder=TargetEncoder(),\n",
    "    scoring_encoder=TargetEncoder()\n",
    "), 'general_transformer')\n",
    "pipeline.change_estimator(DecisionTreeRegressor())\n",
    "pipeline.run()\n",
    "scores['preprocessing (new)']['decision tree'] = np.mean(list(pipeline._validation_performance_scores.values()))"
   ]
  },
  {
   "cell_type": "code",
   "execution_count": 40,
   "id": "2ce25380",
   "metadata": {},
   "outputs": [
    {
     "data": {
      "text/html": [
       "<div>\n",
       "<style scoped>\n",
       "    .dataframe tbody tr th:only-of-type {\n",
       "        vertical-align: middle;\n",
       "    }\n",
       "\n",
       "    .dataframe tbody tr th {\n",
       "        vertical-align: top;\n",
       "    }\n",
       "\n",
       "    .dataframe thead th {\n",
       "        text-align: right;\n",
       "    }\n",
       "</style>\n",
       "<table border=\"1\" class=\"dataframe\">\n",
       "  <thead>\n",
       "    <tr style=\"text-align: right;\">\n",
       "      <th></th>\n",
       "      <th>type</th>\n",
       "      <th>estimator</th>\n",
       "      <th>score</th>\n",
       "    </tr>\n",
       "  </thead>\n",
       "  <tbody>\n",
       "    <tr>\n",
       "      <th>0</th>\n",
       "      <td>baseline</td>\n",
       "      <td>lgbm</td>\n",
       "      <td>0.226457</td>\n",
       "    </tr>\n",
       "    <tr>\n",
       "      <th>1</th>\n",
       "      <td>baseline</td>\n",
       "      <td>decision tree</td>\n",
       "      <td>0.485808</td>\n",
       "    </tr>\n",
       "    <tr>\n",
       "      <th>2</th>\n",
       "      <td>preprocessing (old)</td>\n",
       "      <td>lgbm</td>\n",
       "      <td>0.307539</td>\n",
       "    </tr>\n",
       "    <tr>\n",
       "      <th>3</th>\n",
       "      <td>preprocessing (old)</td>\n",
       "      <td>decision tree</td>\n",
       "      <td>0.483875</td>\n",
       "    </tr>\n",
       "    <tr>\n",
       "      <th>4</th>\n",
       "      <td>preprocessing (new)</td>\n",
       "      <td>lgbm</td>\n",
       "      <td>0.295593</td>\n",
       "    </tr>\n",
       "    <tr>\n",
       "      <th>5</th>\n",
       "      <td>preprocessing (new)</td>\n",
       "      <td>decision tree</td>\n",
       "      <td>0.577929</td>\n",
       "    </tr>\n",
       "  </tbody>\n",
       "</table>\n",
       "</div>"
      ],
      "text/plain": [
       "                  type      estimator     score\n",
       "0             baseline           lgbm  0.226457\n",
       "1             baseline  decision tree  0.485808\n",
       "2  preprocessing (old)           lgbm  0.307539\n",
       "3  preprocessing (old)  decision tree  0.483875\n",
       "4  preprocessing (new)           lgbm  0.295593\n",
       "5  preprocessing (new)  decision tree  0.577929"
      ]
     },
     "metadata": {},
     "output_type": "display_data"
    }
   ],
   "source": [
    "scores_df = pd.DataFrame()\n",
    "for variation in scores:\n",
    "    for estimator in scores[variation]:\n",
    "        scores_df = pd.concat([\n",
    "            scores_df,\n",
    "            pd.DataFrame({'type': [variation], 'estimator': [estimator], 'score': [scores[variation][estimator]]})\n",
    "        ])\n",
    "scores_df = scores_df.reset_index(drop=True)\n",
    "\n",
    "display(scores_df)"
   ]
  },
  {
   "cell_type": "code",
   "execution_count": 42,
   "id": "0c22b84f",
   "metadata": {},
   "outputs": [
    {
     "data": {
      "image/png": "[encoded data removed]",
      "text/plain": [
       "<Figure size 432x288 with 1 Axes>"
      ]
     },
     "metadata": {
      "needs_background": "light"
     },
     "output_type": "display_data"
    }
   ],
   "source": [
    "sns.barplot(data=scores_df, x='estimator', y='score', hue='type')\n",
    "plt.gcf().subplots_adjust(left=0.25)\n",
    "plt.savefig('estimator_comparison.svg')\n",
    "plt.show()"
   ]
  },
  {
   "cell_type": "markdown",
   "id": "2cccdd84",
   "metadata": {},
   "source": [
    "We again observe, that the decision tree regressor performes way better than the lgbm regressor. Also, our adjusted preprocessing improves the performance significantly regarding the decision tree. We also beat the baseline of just applying one-hot encoding to all features by a huge margin. The next step would be to apply hyperparameter tuning on our pipeline."
   ]
  }
 ],
 "metadata": {
  "kernelspec": {
   "display_name": "Python 3 (ipykernel)",
   "language": "python",
   "name": "python3"
  },
  "language_info": {
   "codemirror_mode": {
    "name": "ipython",
    "version": 3
   },
   "file_extension": ".py",
   "mimetype": "text/x-python",
   "name": "python",
   "nbconvert_exporter": "python",
   "pygments_lexer": "ipython3",
   "version": "3.8.10"
  }
 },
 "nbformat": 4,
 "nbformat_minor": 5
}
