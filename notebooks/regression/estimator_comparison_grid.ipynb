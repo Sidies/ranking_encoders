{
 "cells": [
  {
   "cell_type": "code",
   "execution_count": 6,
   "metadata": {},
   "outputs": [],
   "source": [
    "import os\n",
    "import sys\n",
    "module_path = os.path.abspath(os.path.join('../..'))\n",
    "if module_path not in sys.path:\n",
    "    sys.path.append(module_path)\n",
    "    \n",
    "import pandas as pd\n",
    "import matplotlib.pyplot as plt\n",
    "import seaborn as sns\n",
    "\n",
    "from src import configuration as config\n",
    "from src.pipeline.pipeline_factory import PipelineFactory, ModelType, EvaluationType\n",
    "\n",
    "from sklearn.tree import DecisionTreeRegressor\n",
    "from category_encoders.one_hot import OneHotEncoder\n"
   ]
  },
  {
   "cell_type": "code",
   "execution_count": 9,
   "metadata": {},
   "outputs": [],
   "source": [
    "parameters={\"splitter\":[\"best\",\"random\"],\n",
    "            \"max_depth\" : [1,3,5,7,9,11,12],\n",
    "           \"min_samples_leaf\":[1,2,3,4,5,6,7,8,9,10],\n",
    "           \"min_weight_fraction_leaf\":[0.1,0.2,0.3,0.4,0.5,0.6,0.7,0.8,0.9],\n",
    "           \"max_features\":[\"auto\",\"log2\",\"sqrt\",None],\n",
    "           \"max_leaf_nodes\":[None,10,20,30,40,50,60,70,80,90] }"
   ]
  },
  {
   "cell_type": "code",
   "execution_count": 10,
   "metadata": {},
   "outputs": [
    {
     "name": "stdout",
     "output_type": "stream",
     "text": [
      "Starting pipeline using method: EvaluationType.GRID_SEARCH\n",
      "Performing grid search\n"
     ]
    },
    {
     "name": "stderr",
     "output_type": "stream",
     "text": [
      "  0%|          | 1/50400 [00:00<13:00:48,  1.08it/s]"
     ]
    },
    {
     "name": "stdout",
     "output_type": "stream",
     "text": [
      "Invalid parameter 'splitter' for estimator Pipeline(steps=[('onehot', OneHotEncoder()),\n",
      "                ('estimator', DecisionTreeRegressor())]). Valid parameters are: ['memory', 'steps', 'verbose'].\n"
     ]
    },
    {
     "name": "stderr",
     "output_type": "stream",
     "text": [
      "  0%|          | 2/50400 [00:01<11:20:23,  1.23it/s]"
     ]
    },
    {
     "name": "stdout",
     "output_type": "stream",
     "text": [
      "Invalid parameter 'splitter' for estimator Pipeline(steps=[('onehot', OneHotEncoder()),\n",
      "                ('estimator', DecisionTreeRegressor())]). Valid parameters are: ['memory', 'steps', 'verbose'].\n"
     ]
    },
    {
     "name": "stderr",
     "output_type": "stream",
     "text": [
      "  0%|          | 3/50400 [00:02<10:48:55,  1.29it/s]"
     ]
    },
    {
     "name": "stdout",
     "output_type": "stream",
     "text": [
      "Invalid parameter 'splitter' for estimator Pipeline(steps=[('onehot', OneHotEncoder()),\n",
      "                ('estimator', DecisionTreeRegressor())]). Valid parameters are: ['memory', 'steps', 'verbose'].\n"
     ]
    },
    {
     "name": "stderr",
     "output_type": "stream",
     "text": [
      "  0%|          | 4/50400 [00:03<11:28:27,  1.22it/s]"
     ]
    },
    {
     "name": "stdout",
     "output_type": "stream",
     "text": [
      "Invalid parameter 'splitter' for estimator Pipeline(steps=[('onehot', OneHotEncoder()),\n",
      "                ('estimator', DecisionTreeRegressor())]). Valid parameters are: ['memory', 'steps', 'verbose'].\n"
     ]
    },
    {
     "name": "stderr",
     "output_type": "stream",
     "text": [
      "  0%|          | 5/50400 [00:04<11:19:41,  1.24it/s]"
     ]
    },
    {
     "name": "stdout",
     "output_type": "stream",
     "text": [
      "Invalid parameter 'splitter' for estimator Pipeline(steps=[('onehot', OneHotEncoder()),\n",
      "                ('estimator', DecisionTreeRegressor())]). Valid parameters are: ['memory', 'steps', 'verbose'].\n"
     ]
    },
    {
     "name": "stderr",
     "output_type": "stream",
     "text": [
      "  0%|          | 6/50400 [00:04<11:22:50,  1.23it/s]"
     ]
    },
    {
     "name": "stdout",
     "output_type": "stream",
     "text": [
      "Invalid parameter 'splitter' for estimator Pipeline(steps=[('onehot', OneHotEncoder()),\n",
      "                ('estimator', DecisionTreeRegressor())]). Valid parameters are: ['memory', 'steps', 'verbose'].\n"
     ]
    },
    {
     "name": "stderr",
     "output_type": "stream",
     "text": [
      "  0%|          | 7/50400 [00:05<11:02:45,  1.27it/s]"
     ]
    },
    {
     "name": "stdout",
     "output_type": "stream",
     "text": [
      "Invalid parameter 'splitter' for estimator Pipeline(steps=[('onehot', OneHotEncoder()),\n",
      "                ('estimator', DecisionTreeRegressor())]). Valid parameters are: ['memory', 'steps', 'verbose'].\n"
     ]
    },
    {
     "name": "stderr",
     "output_type": "stream",
     "text": [
      "  0%|          | 8/50400 [00:06<11:23:58,  1.23it/s]"
     ]
    },
    {
     "name": "stdout",
     "output_type": "stream",
     "text": [
      "Invalid parameter 'splitter' for estimator Pipeline(steps=[('onehot', OneHotEncoder()),\n",
      "                ('estimator', DecisionTreeRegressor())]). Valid parameters are: ['memory', 'steps', 'verbose'].\n"
     ]
    },
    {
     "name": "stderr",
     "output_type": "stream",
     "text": [
      "  0%|          | 9/50400 [00:07<11:06:03,  1.26it/s]"
     ]
    },
    {
     "name": "stdout",
     "output_type": "stream",
     "text": [
      "Invalid parameter 'splitter' for estimator Pipeline(steps=[('onehot', OneHotEncoder()),\n",
      "                ('estimator', DecisionTreeRegressor())]). Valid parameters are: ['memory', 'steps', 'verbose'].\n"
     ]
    },
    {
     "name": "stderr",
     "output_type": "stream",
     "text": [
      "  0%|          | 10/50400 [00:08<11:41:41,  1.20it/s]"
     ]
    },
    {
     "name": "stdout",
     "output_type": "stream",
     "text": [
      "Invalid parameter 'splitter' for estimator Pipeline(steps=[('onehot', OneHotEncoder()),\n",
      "                ('estimator', DecisionTreeRegressor())]). Valid parameters are: ['memory', 'steps', 'verbose'].\n"
     ]
    },
    {
     "name": "stderr",
     "output_type": "stream",
     "text": [
      "  0%|          | 11/50400 [00:09<12:42:01,  1.10it/s]"
     ]
    },
    {
     "name": "stdout",
     "output_type": "stream",
     "text": [
      "Invalid parameter 'splitter' for estimator Pipeline(steps=[('onehot', OneHotEncoder()),\n",
      "                ('estimator', DecisionTreeRegressor())]). Valid parameters are: ['memory', 'steps', 'verbose'].\n"
     ]
    },
    {
     "name": "stderr",
     "output_type": "stream",
     "text": [
      "  0%|          | 12/50400 [00:10<12:24:47,  1.13it/s]"
     ]
    },
    {
     "name": "stdout",
     "output_type": "stream",
     "text": [
      "Invalid parameter 'splitter' for estimator Pipeline(steps=[('onehot', OneHotEncoder()),\n",
      "                ('estimator', DecisionTreeRegressor())]). Valid parameters are: ['memory', 'steps', 'verbose'].\n"
     ]
    },
    {
     "name": "stderr",
     "output_type": "stream",
     "text": [
      "  0%|          | 13/50400 [00:10<12:02:03,  1.16it/s]"
     ]
    },
    {
     "name": "stdout",
     "output_type": "stream",
     "text": [
      "Invalid parameter 'splitter' for estimator Pipeline(steps=[('onehot', OneHotEncoder()),\n",
      "                ('estimator', DecisionTreeRegressor())]). Valid parameters are: ['memory', 'steps', 'verbose'].\n"
     ]
    },
    {
     "name": "stderr",
     "output_type": "stream",
     "text": [
      "  0%|          | 14/50400 [00:11<12:35:03,  1.11it/s]"
     ]
    },
    {
     "name": "stdout",
     "output_type": "stream",
     "text": [
      "Invalid parameter 'splitter' for estimator Pipeline(steps=[('onehot', OneHotEncoder()),\n",
      "                ('estimator', DecisionTreeRegressor())]). Valid parameters are: ['memory', 'steps', 'verbose'].\n"
     ]
    },
    {
     "name": "stderr",
     "output_type": "stream",
     "text": [
      "  0%|          | 15/50400 [00:12<13:16:57,  1.05it/s]"
     ]
    },
    {
     "name": "stdout",
     "output_type": "stream",
     "text": [
      "Invalid parameter 'splitter' for estimator Pipeline(steps=[('onehot', OneHotEncoder()),\n",
      "                ('estimator', DecisionTreeRegressor())]). Valid parameters are: ['memory', 'steps', 'verbose'].\n"
     ]
    },
    {
     "name": "stderr",
     "output_type": "stream",
     "text": [
      "  0%|          | 16/50400 [00:14<13:51:29,  1.01it/s]"
     ]
    },
    {
     "name": "stdout",
     "output_type": "stream",
     "text": [
      "Invalid parameter 'splitter' for estimator Pipeline(steps=[('onehot', OneHotEncoder()),\n",
      "                ('estimator', DecisionTreeRegressor())]). Valid parameters are: ['memory', 'steps', 'verbose'].\n"
     ]
    },
    {
     "name": "stderr",
     "output_type": "stream",
     "text": [
      "  0%|          | 17/50400 [00:15<15:36:56,  1.12s/it]"
     ]
    },
    {
     "name": "stdout",
     "output_type": "stream",
     "text": [
      "Invalid parameter 'splitter' for estimator Pipeline(steps=[('onehot', OneHotEncoder()),\n",
      "                ('estimator', DecisionTreeRegressor())]). Valid parameters are: ['memory', 'steps', 'verbose'].\n"
     ]
    },
    {
     "name": "stderr",
     "output_type": "stream",
     "text": [
      "  0%|          | 18/50400 [00:16<14:36:16,  1.04s/it]"
     ]
    },
    {
     "name": "stdout",
     "output_type": "stream",
     "text": [
      "Invalid parameter 'splitter' for estimator Pipeline(steps=[('onehot', OneHotEncoder()),\n",
      "                ('estimator', DecisionTreeRegressor())]). Valid parameters are: ['memory', 'steps', 'verbose'].\n"
     ]
    },
    {
     "name": "stderr",
     "output_type": "stream",
     "text": [
      "  0%|          | 19/50400 [00:17<13:32:18,  1.03it/s]"
     ]
    },
    {
     "name": "stdout",
     "output_type": "stream",
     "text": [
      "Invalid parameter 'splitter' for estimator Pipeline(steps=[('onehot', OneHotEncoder()),\n",
      "                ('estimator', DecisionTreeRegressor())]). Valid parameters are: ['memory', 'steps', 'verbose'].\n"
     ]
    },
    {
     "name": "stderr",
     "output_type": "stream",
     "text": [
      "  0%|          | 20/50400 [00:17<12:51:47,  1.09it/s]"
     ]
    },
    {
     "name": "stdout",
     "output_type": "stream",
     "text": [
      "Invalid parameter 'splitter' for estimator Pipeline(steps=[('onehot', OneHotEncoder()),\n",
      "                ('estimator', DecisionTreeRegressor())]). Valid parameters are: ['memory', 'steps', 'verbose'].\n"
     ]
    },
    {
     "name": "stderr",
     "output_type": "stream",
     "text": [
      "  0%|          | 21/50400 [00:18<12:52:33,  1.09it/s]"
     ]
    },
    {
     "name": "stdout",
     "output_type": "stream",
     "text": [
      "Invalid parameter 'splitter' for estimator Pipeline(steps=[('onehot', OneHotEncoder()),\n",
      "                ('estimator', DecisionTreeRegressor())]). Valid parameters are: ['memory', 'steps', 'verbose'].\n"
     ]
    },
    {
     "name": "stderr",
     "output_type": "stream",
     "text": [
      "  0%|          | 22/50400 [00:19<12:22:34,  1.13it/s]"
     ]
    },
    {
     "name": "stdout",
     "output_type": "stream",
     "text": [
      "Invalid parameter 'splitter' for estimator Pipeline(steps=[('onehot', OneHotEncoder()),\n",
      "                ('estimator', DecisionTreeRegressor())]). Valid parameters are: ['memory', 'steps', 'verbose'].\n"
     ]
    },
    {
     "name": "stderr",
     "output_type": "stream",
     "text": [
      "  0%|          | 23/50400 [00:20<11:52:00,  1.18it/s]"
     ]
    },
    {
     "name": "stdout",
     "output_type": "stream",
     "text": [
      "Invalid parameter 'splitter' for estimator Pipeline(steps=[('onehot', OneHotEncoder()),\n",
      "                ('estimator', DecisionTreeRegressor())]). Valid parameters are: ['memory', 'steps', 'verbose'].\n"
     ]
    },
    {
     "name": "stderr",
     "output_type": "stream",
     "text": [
      "  0%|          | 24/50400 [00:21<12:25:36,  1.13it/s]"
     ]
    },
    {
     "name": "stdout",
     "output_type": "stream",
     "text": [
      "Invalid parameter 'splitter' for estimator Pipeline(steps=[('onehot', OneHotEncoder()),\n",
      "                ('estimator', DecisionTreeRegressor())]). Valid parameters are: ['memory', 'steps', 'verbose'].\n"
     ]
    },
    {
     "name": "stderr",
     "output_type": "stream",
     "text": [
      "  0%|          | 25/50400 [00:22<11:48:56,  1.18it/s]"
     ]
    },
    {
     "name": "stdout",
     "output_type": "stream",
     "text": [
      "Invalid parameter 'splitter' for estimator Pipeline(steps=[('onehot', OneHotEncoder()),\n",
      "                ('estimator', DecisionTreeRegressor())]). Valid parameters are: ['memory', 'steps', 'verbose'].\n"
     ]
    },
    {
     "name": "stderr",
     "output_type": "stream",
     "text": [
      "  0%|          | 26/50400 [00:22<11:27:03,  1.22it/s]"
     ]
    },
    {
     "name": "stdout",
     "output_type": "stream",
     "text": [
      "Invalid parameter 'splitter' for estimator Pipeline(steps=[('onehot', OneHotEncoder()),\n",
      "                ('estimator', DecisionTreeRegressor())]). Valid parameters are: ['memory', 'steps', 'verbose'].\n"
     ]
    },
    {
     "name": "stderr",
     "output_type": "stream",
     "text": [
      "  0%|          | 27/50400 [00:23<11:04:15,  1.26it/s]"
     ]
    },
    {
     "name": "stdout",
     "output_type": "stream",
     "text": [
      "Invalid parameter 'splitter' for estimator Pipeline(steps=[('onehot', OneHotEncoder()),\n",
      "                ('estimator', DecisionTreeRegressor())]). Valid parameters are: ['memory', 'steps', 'verbose'].\n"
     ]
    },
    {
     "name": "stderr",
     "output_type": "stream",
     "text": [
      "  0%|          | 28/50400 [00:24<11:33:58,  1.21it/s]"
     ]
    },
    {
     "name": "stdout",
     "output_type": "stream",
     "text": [
      "Invalid parameter 'splitter' for estimator Pipeline(steps=[('onehot', OneHotEncoder()),\n",
      "                ('estimator', DecisionTreeRegressor())]). Valid parameters are: ['memory', 'steps', 'verbose'].\n"
     ]
    },
    {
     "name": "stderr",
     "output_type": "stream",
     "text": [
      "  0%|          | 29/50400 [00:25<12:36:47,  1.11it/s]"
     ]
    },
    {
     "name": "stdout",
     "output_type": "stream",
     "text": [
      "Invalid parameter 'splitter' for estimator Pipeline(steps=[('onehot', OneHotEncoder()),\n",
      "                ('estimator', DecisionTreeRegressor())]). Valid parameters are: ['memory', 'steps', 'verbose'].\n"
     ]
    },
    {
     "name": "stderr",
     "output_type": "stream",
     "text": [
      "  0%|          | 30/50400 [00:26<12:20:36,  1.13it/s]"
     ]
    },
    {
     "name": "stdout",
     "output_type": "stream",
     "text": [
      "Invalid parameter 'splitter' for estimator Pipeline(steps=[('onehot', OneHotEncoder()),\n",
      "                ('estimator', DecisionTreeRegressor())]). Valid parameters are: ['memory', 'steps', 'verbose'].\n"
     ]
    },
    {
     "name": "stderr",
     "output_type": "stream",
     "text": [
      "  0%|          | 31/50400 [00:27<14:20:43,  1.03s/it]"
     ]
    },
    {
     "name": "stdout",
     "output_type": "stream",
     "text": [
      "Invalid parameter 'splitter' for estimator Pipeline(steps=[('onehot', OneHotEncoder()),\n",
      "                ('estimator', DecisionTreeRegressor())]). Valid parameters are: ['memory', 'steps', 'verbose'].\n"
     ]
    },
    {
     "name": "stderr",
     "output_type": "stream",
     "text": [
      "  0%|          | 32/50400 [00:29<15:20:38,  1.10s/it]"
     ]
    },
    {
     "name": "stdout",
     "output_type": "stream",
     "text": [
      "Invalid parameter 'splitter' for estimator Pipeline(steps=[('onehot', OneHotEncoder()),\n",
      "                ('estimator', DecisionTreeRegressor())]). Valid parameters are: ['memory', 'steps', 'verbose'].\n"
     ]
    },
    {
     "name": "stderr",
     "output_type": "stream",
     "text": [
      "  0%|          | 33/50400 [00:30<15:55:50,  1.14s/it]"
     ]
    },
    {
     "name": "stdout",
     "output_type": "stream",
     "text": [
      "Invalid parameter 'splitter' for estimator Pipeline(steps=[('onehot', OneHotEncoder()),\n",
      "                ('estimator', DecisionTreeRegressor())]). Valid parameters are: ['memory', 'steps', 'verbose'].\n"
     ]
    },
    {
     "name": "stderr",
     "output_type": "stream",
     "text": [
      "  0%|          | 34/50400 [00:31<16:36:38,  1.19s/it]"
     ]
    },
    {
     "name": "stdout",
     "output_type": "stream",
     "text": [
      "Invalid parameter 'splitter' for estimator Pipeline(steps=[('onehot', OneHotEncoder()),\n",
      "                ('estimator', DecisionTreeRegressor())]). Valid parameters are: ['memory', 'steps', 'verbose'].\n"
     ]
    },
    {
     "name": "stderr",
     "output_type": "stream",
     "text": [
      "  0%|          | 35/50400 [00:32<16:10:21,  1.16s/it]"
     ]
    },
    {
     "name": "stdout",
     "output_type": "stream",
     "text": [
      "Invalid parameter 'splitter' for estimator Pipeline(steps=[('onehot', OneHotEncoder()),\n",
      "                ('estimator', DecisionTreeRegressor())]). Valid parameters are: ['memory', 'steps', 'verbose'].\n"
     ]
    },
    {
     "name": "stderr",
     "output_type": "stream",
     "text": [
      "  0%|          | 36/50400 [00:33<15:42:53,  1.12s/it]"
     ]
    },
    {
     "name": "stdout",
     "output_type": "stream",
     "text": [
      "Invalid parameter 'splitter' for estimator Pipeline(steps=[('onehot', OneHotEncoder()),\n",
      "                ('estimator', DecisionTreeRegressor())]). Valid parameters are: ['memory', 'steps', 'verbose'].\n"
     ]
    },
    {
     "name": "stderr",
     "output_type": "stream",
     "text": [
      "  0%|          | 37/50400 [00:35<16:48:22,  1.20s/it]"
     ]
    },
    {
     "name": "stdout",
     "output_type": "stream",
     "text": [
      "Invalid parameter 'splitter' for estimator Pipeline(steps=[('onehot', OneHotEncoder()),\n",
      "                ('estimator', DecisionTreeRegressor())]). Valid parameters are: ['memory', 'steps', 'verbose'].\n"
     ]
    },
    {
     "name": "stderr",
     "output_type": "stream",
     "text": [
      "  0%|          | 38/50400 [00:36<16:34:52,  1.19s/it]"
     ]
    },
    {
     "name": "stdout",
     "output_type": "stream",
     "text": [
      "Invalid parameter 'splitter' for estimator Pipeline(steps=[('onehot', OneHotEncoder()),\n",
      "                ('estimator', DecisionTreeRegressor())]). Valid parameters are: ['memory', 'steps', 'verbose'].\n"
     ]
    },
    {
     "name": "stderr",
     "output_type": "stream",
     "text": [
      "  0%|          | 39/50400 [00:37<16:53:44,  1.21s/it]"
     ]
    },
    {
     "name": "stdout",
     "output_type": "stream",
     "text": [
      "Invalid parameter 'splitter' for estimator Pipeline(steps=[('onehot', OneHotEncoder()),\n",
      "                ('estimator', DecisionTreeRegressor())]). Valid parameters are: ['memory', 'steps', 'verbose'].\n"
     ]
    },
    {
     "name": "stderr",
     "output_type": "stream",
     "text": [
      "  0%|          | 40/50400 [00:38<16:30:35,  1.18s/it]"
     ]
    },
    {
     "name": "stdout",
     "output_type": "stream",
     "text": [
      "Invalid parameter 'splitter' for estimator Pipeline(steps=[('onehot', OneHotEncoder()),\n",
      "                ('estimator', DecisionTreeRegressor())]). Valid parameters are: ['memory', 'steps', 'verbose'].\n"
     ]
    },
    {
     "name": "stderr",
     "output_type": "stream",
     "text": [
      "  0%|          | 41/50400 [00:39<16:32:54,  1.18s/it]"
     ]
    },
    {
     "name": "stdout",
     "output_type": "stream",
     "text": [
      "Invalid parameter 'splitter' for estimator Pipeline(steps=[('onehot', OneHotEncoder()),\n",
      "                ('estimator', DecisionTreeRegressor())]). Valid parameters are: ['memory', 'steps', 'verbose'].\n"
     ]
    },
    {
     "name": "stderr",
     "output_type": "stream",
     "text": [
      "  0%|          | 42/50400 [00:40<15:30:12,  1.11s/it]"
     ]
    },
    {
     "name": "stdout",
     "output_type": "stream",
     "text": [
      "Invalid parameter 'splitter' for estimator Pipeline(steps=[('onehot', OneHotEncoder()),\n",
      "                ('estimator', DecisionTreeRegressor())]). Valid parameters are: ['memory', 'steps', 'verbose'].\n"
     ]
    },
    {
     "name": "stderr",
     "output_type": "stream",
     "text": [
      "  0%|          | 43/50400 [00:41<14:33:24,  1.04s/it]"
     ]
    },
    {
     "name": "stdout",
     "output_type": "stream",
     "text": [
      "Invalid parameter 'splitter' for estimator Pipeline(steps=[('onehot', OneHotEncoder()),\n",
      "                ('estimator', DecisionTreeRegressor())]). Valid parameters are: ['memory', 'steps', 'verbose'].\n"
     ]
    },
    {
     "name": "stderr",
     "output_type": "stream",
     "text": [
      "  0%|          | 44/50400 [00:42<14:39:32,  1.05s/it]"
     ]
    },
    {
     "name": "stdout",
     "output_type": "stream",
     "text": [
      "Invalid parameter 'splitter' for estimator Pipeline(steps=[('onehot', OneHotEncoder()),\n",
      "                ('estimator', DecisionTreeRegressor())]). Valid parameters are: ['memory', 'steps', 'verbose'].\n"
     ]
    },
    {
     "name": "stderr",
     "output_type": "stream",
     "text": [
      "  0%|          | 45/50400 [00:43<14:22:28,  1.03s/it]"
     ]
    },
    {
     "name": "stdout",
     "output_type": "stream",
     "text": [
      "Invalid parameter 'splitter' for estimator Pipeline(steps=[('onehot', OneHotEncoder()),\n",
      "                ('estimator', DecisionTreeRegressor())]). Valid parameters are: ['memory', 'steps', 'verbose'].\n"
     ]
    },
    {
     "name": "stderr",
     "output_type": "stream",
     "text": [
      "  0%|          | 46/50400 [00:44<14:58:40,  1.07s/it]"
     ]
    },
    {
     "name": "stdout",
     "output_type": "stream",
     "text": [
      "Invalid parameter 'splitter' for estimator Pipeline(steps=[('onehot', OneHotEncoder()),\n",
      "                ('estimator', DecisionTreeRegressor())]). Valid parameters are: ['memory', 'steps', 'verbose'].\n"
     ]
    },
    {
     "name": "stderr",
     "output_type": "stream",
     "text": [
      "  0%|          | 47/50400 [00:46<16:54:32,  1.21s/it]"
     ]
    },
    {
     "name": "stdout",
     "output_type": "stream",
     "text": [
      "Invalid parameter 'splitter' for estimator Pipeline(steps=[('onehot', OneHotEncoder()),\n",
      "                ('estimator', DecisionTreeRegressor())]). Valid parameters are: ['memory', 'steps', 'verbose'].\n"
     ]
    },
    {
     "name": "stderr",
     "output_type": "stream",
     "text": [
      "  0%|          | 48/50400 [00:47<16:21:11,  1.17s/it]"
     ]
    },
    {
     "name": "stdout",
     "output_type": "stream",
     "text": [
      "Invalid parameter 'splitter' for estimator Pipeline(steps=[('onehot', OneHotEncoder()),\n",
      "                ('estimator', DecisionTreeRegressor())]). Valid parameters are: ['memory', 'steps', 'verbose'].\n"
     ]
    },
    {
     "name": "stderr",
     "output_type": "stream",
     "text": [
      "  0%|          | 49/50400 [00:48<15:38:53,  1.12s/it]"
     ]
    },
    {
     "name": "stdout",
     "output_type": "stream",
     "text": [
      "Invalid parameter 'splitter' for estimator Pipeline(steps=[('onehot', OneHotEncoder()),\n",
      "                ('estimator', DecisionTreeRegressor())]). Valid parameters are: ['memory', 'steps', 'verbose'].\n"
     ]
    },
    {
     "name": "stderr",
     "output_type": "stream",
     "text": [
      "  0%|          | 50/50400 [00:49<15:37:24,  1.12s/it]"
     ]
    },
    {
     "name": "stdout",
     "output_type": "stream",
     "text": [
      "Invalid parameter 'splitter' for estimator Pipeline(steps=[('onehot', OneHotEncoder()),\n",
      "                ('estimator', DecisionTreeRegressor())]). Valid parameters are: ['memory', 'steps', 'verbose'].\n"
     ]
    },
    {
     "name": "stderr",
     "output_type": "stream",
     "text": [
      "  0%|          | 51/50400 [00:50<14:54:25,  1.07s/it]"
     ]
    },
    {
     "name": "stdout",
     "output_type": "stream",
     "text": [
      "Invalid parameter 'splitter' for estimator Pipeline(steps=[('onehot', OneHotEncoder()),\n",
      "                ('estimator', DecisionTreeRegressor())]). Valid parameters are: ['memory', 'steps', 'verbose'].\n"
     ]
    },
    {
     "name": "stderr",
     "output_type": "stream",
     "text": [
      "  0%|          | 52/50400 [00:51<14:16:00,  1.02s/it]"
     ]
    },
    {
     "name": "stdout",
     "output_type": "stream",
     "text": [
      "Invalid parameter 'splitter' for estimator Pipeline(steps=[('onehot', OneHotEncoder()),\n",
      "                ('estimator', DecisionTreeRegressor())]). Valid parameters are: ['memory', 'steps', 'verbose'].\n"
     ]
    },
    {
     "name": "stderr",
     "output_type": "stream",
     "text": [
      "  0%|          | 53/50400 [00:52<14:30:24,  1.04s/it]"
     ]
    },
    {
     "name": "stdout",
     "output_type": "stream",
     "text": [
      "Invalid parameter 'splitter' for estimator Pipeline(steps=[('onehot', OneHotEncoder()),\n",
      "                ('estimator', DecisionTreeRegressor())]). Valid parameters are: ['memory', 'steps', 'verbose'].\n"
     ]
    },
    {
     "name": "stderr",
     "output_type": "stream",
     "text": [
      "  0%|          | 54/50400 [00:53<14:16:15,  1.02s/it]"
     ]
    },
    {
     "name": "stdout",
     "output_type": "stream",
     "text": [
      "Invalid parameter 'splitter' for estimator Pipeline(steps=[('onehot', OneHotEncoder()),\n",
      "                ('estimator', DecisionTreeRegressor())]). Valid parameters are: ['memory', 'steps', 'verbose'].\n"
     ]
    },
    {
     "name": "stderr",
     "output_type": "stream",
     "text": [
      "  0%|          | 55/50400 [00:54<14:38:03,  1.05s/it]"
     ]
    },
    {
     "name": "stdout",
     "output_type": "stream",
     "text": [
      "Invalid parameter 'splitter' for estimator Pipeline(steps=[('onehot', OneHotEncoder()),\n",
      "                ('estimator', DecisionTreeRegressor())]). Valid parameters are: ['memory', 'steps', 'verbose'].\n"
     ]
    },
    {
     "name": "stderr",
     "output_type": "stream",
     "text": [
      "  0%|          | 56/50400 [00:55<15:42:46,  1.12s/it]"
     ]
    },
    {
     "name": "stdout",
     "output_type": "stream",
     "text": [
      "Invalid parameter 'splitter' for estimator Pipeline(steps=[('onehot', OneHotEncoder()),\n",
      "                ('estimator', DecisionTreeRegressor())]). Valid parameters are: ['memory', 'steps', 'verbose'].\n"
     ]
    },
    {
     "name": "stderr",
     "output_type": "stream",
     "text": [
      "  0%|          | 57/50400 [00:56<14:53:11,  1.06s/it]"
     ]
    },
    {
     "name": "stdout",
     "output_type": "stream",
     "text": [
      "Invalid parameter 'splitter' for estimator Pipeline(steps=[('onehot', OneHotEncoder()),\n",
      "                ('estimator', DecisionTreeRegressor())]). Valid parameters are: ['memory', 'steps', 'verbose'].\n"
     ]
    },
    {
     "name": "stderr",
     "output_type": "stream",
     "text": [
      "  0%|          | 58/50400 [00:57<13:51:56,  1.01it/s]"
     ]
    },
    {
     "name": "stdout",
     "output_type": "stream",
     "text": [
      "Invalid parameter 'splitter' for estimator Pipeline(steps=[('onehot', OneHotEncoder()),\n",
      "                ('estimator', DecisionTreeRegressor())]). Valid parameters are: ['memory', 'steps', 'verbose'].\n"
     ]
    },
    {
     "name": "stderr",
     "output_type": "stream",
     "text": [
      "  0%|          | 59/50400 [00:58<12:43:00,  1.10it/s]"
     ]
    },
    {
     "name": "stdout",
     "output_type": "stream",
     "text": [
      "Invalid parameter 'splitter' for estimator Pipeline(steps=[('onehot', OneHotEncoder()),\n",
      "                ('estimator', DecisionTreeRegressor())]). Valid parameters are: ['memory', 'steps', 'verbose'].\n"
     ]
    },
    {
     "name": "stderr",
     "output_type": "stream",
     "text": [
      "  0%|          | 60/50400 [00:59<12:28:09,  1.12it/s]"
     ]
    },
    {
     "name": "stdout",
     "output_type": "stream",
     "text": [
      "Invalid parameter 'splitter' for estimator Pipeline(steps=[('onehot', OneHotEncoder()),\n",
      "                ('estimator', DecisionTreeRegressor())]). Valid parameters are: ['memory', 'steps', 'verbose'].\n"
     ]
    },
    {
     "name": "stderr",
     "output_type": "stream",
     "text": [
      "  0%|          | 61/50400 [00:59<11:48:55,  1.18it/s]"
     ]
    },
    {
     "name": "stdout",
     "output_type": "stream",
     "text": [
      "Invalid parameter 'splitter' for estimator Pipeline(steps=[('onehot', OneHotEncoder()),\n",
      "                ('estimator', DecisionTreeRegressor())]). Valid parameters are: ['memory', 'steps', 'verbose'].\n"
     ]
    },
    {
     "name": "stderr",
     "output_type": "stream",
     "text": [
      "  0%|          | 62/50400 [01:00<11:16:50,  1.24it/s]"
     ]
    },
    {
     "name": "stdout",
     "output_type": "stream",
     "text": [
      "Invalid parameter 'splitter' for estimator Pipeline(steps=[('onehot', OneHotEncoder()),\n",
      "                ('estimator', DecisionTreeRegressor())]). Valid parameters are: ['memory', 'steps', 'verbose'].\n"
     ]
    },
    {
     "name": "stderr",
     "output_type": "stream",
     "text": [
      "  0%|          | 63/50400 [01:01<11:53:42,  1.18it/s]"
     ]
    },
    {
     "name": "stdout",
     "output_type": "stream",
     "text": [
      "Invalid parameter 'splitter' for estimator Pipeline(steps=[('onehot', OneHotEncoder()),\n",
      "                ('estimator', DecisionTreeRegressor())]). Valid parameters are: ['memory', 'steps', 'verbose'].\n"
     ]
    },
    {
     "name": "stderr",
     "output_type": "stream",
     "text": [
      "  0%|          | 64/50400 [01:02<11:17:34,  1.24it/s]"
     ]
    },
    {
     "name": "stdout",
     "output_type": "stream",
     "text": [
      "Invalid parameter 'splitter' for estimator Pipeline(steps=[('onehot', OneHotEncoder()),\n",
      "                ('estimator', DecisionTreeRegressor())]). Valid parameters are: ['memory', 'steps', 'verbose'].\n"
     ]
    },
    {
     "name": "stderr",
     "output_type": "stream",
     "text": [
      "  0%|          | 65/50400 [01:03<11:11:16,  1.25it/s]"
     ]
    },
    {
     "name": "stdout",
     "output_type": "stream",
     "text": [
      "Invalid parameter 'splitter' for estimator Pipeline(steps=[('onehot', OneHotEncoder()),\n",
      "                ('estimator', DecisionTreeRegressor())]). Valid parameters are: ['memory', 'steps', 'verbose'].\n"
     ]
    },
    {
     "name": "stderr",
     "output_type": "stream",
     "text": [
      "  0%|          | 66/50400 [01:03<10:57:34,  1.28it/s]"
     ]
    },
    {
     "name": "stdout",
     "output_type": "stream",
     "text": [
      "Invalid parameter 'splitter' for estimator Pipeline(steps=[('onehot', OneHotEncoder()),\n",
      "                ('estimator', DecisionTreeRegressor())]). Valid parameters are: ['memory', 'steps', 'verbose'].\n"
     ]
    },
    {
     "name": "stderr",
     "output_type": "stream",
     "text": [
      "  0%|          | 67/50400 [01:04<11:43:33,  1.19it/s]"
     ]
    },
    {
     "name": "stdout",
     "output_type": "stream",
     "text": [
      "Invalid parameter 'splitter' for estimator Pipeline(steps=[('onehot', OneHotEncoder()),\n",
      "                ('estimator', DecisionTreeRegressor())]). Valid parameters are: ['memory', 'steps', 'verbose'].\n"
     ]
    },
    {
     "name": "stderr",
     "output_type": "stream",
     "text": [
      "  0%|          | 68/50400 [01:05<11:49:56,  1.18it/s]"
     ]
    },
    {
     "name": "stdout",
     "output_type": "stream",
     "text": [
      "Invalid parameter 'splitter' for estimator Pipeline(steps=[('onehot', OneHotEncoder()),\n",
      "                ('estimator', DecisionTreeRegressor())]). Valid parameters are: ['memory', 'steps', 'verbose'].\n"
     ]
    },
    {
     "name": "stderr",
     "output_type": "stream",
     "text": [
      "  0%|          | 69/50400 [01:06<11:22:43,  1.23it/s]"
     ]
    },
    {
     "name": "stdout",
     "output_type": "stream",
     "text": [
      "Invalid parameter 'splitter' for estimator Pipeline(steps=[('onehot', OneHotEncoder()),\n",
      "                ('estimator', DecisionTreeRegressor())]). Valid parameters are: ['memory', 'steps', 'verbose'].\n"
     ]
    },
    {
     "name": "stderr",
     "output_type": "stream",
     "text": [
      "  0%|          | 70/50400 [01:07<11:38:41,  1.20it/s]"
     ]
    },
    {
     "name": "stdout",
     "output_type": "stream",
     "text": [
      "Invalid parameter 'splitter' for estimator Pipeline(steps=[('onehot', OneHotEncoder()),\n",
      "                ('estimator', DecisionTreeRegressor())]). Valid parameters are: ['memory', 'steps', 'verbose'].\n"
     ]
    },
    {
     "name": "stderr",
     "output_type": "stream",
     "text": [
      "  0%|          | 71/50400 [01:08<11:13:30,  1.25it/s]"
     ]
    },
    {
     "name": "stdout",
     "output_type": "stream",
     "text": [
      "Invalid parameter 'splitter' for estimator Pipeline(steps=[('onehot', OneHotEncoder()),\n",
      "                ('estimator', DecisionTreeRegressor())]). Valid parameters are: ['memory', 'steps', 'verbose'].\n"
     ]
    },
    {
     "name": "stderr",
     "output_type": "stream",
     "text": [
      "  0%|          | 72/50400 [01:08<10:58:31,  1.27it/s]"
     ]
    },
    {
     "name": "stdout",
     "output_type": "stream",
     "text": [
      "Invalid parameter 'splitter' for estimator Pipeline(steps=[('onehot', OneHotEncoder()),\n",
      "                ('estimator', DecisionTreeRegressor())]). Valid parameters are: ['memory', 'steps', 'verbose'].\n"
     ]
    },
    {
     "name": "stderr",
     "output_type": "stream",
     "text": [
      "  0%|          | 73/50400 [01:09<11:24:09,  1.23it/s]"
     ]
    },
    {
     "name": "stdout",
     "output_type": "stream",
     "text": [
      "Invalid parameter 'splitter' for estimator Pipeline(steps=[('onehot', OneHotEncoder()),\n",
      "                ('estimator', DecisionTreeRegressor())]). Valid parameters are: ['memory', 'steps', 'verbose'].\n"
     ]
    },
    {
     "name": "stderr",
     "output_type": "stream",
     "text": [
      "  0%|          | 74/50400 [01:10<11:20:40,  1.23it/s]"
     ]
    },
    {
     "name": "stdout",
     "output_type": "stream",
     "text": [
      "Invalid parameter 'splitter' for estimator Pipeline(steps=[('onehot', OneHotEncoder()),\n",
      "                ('estimator', DecisionTreeRegressor())]). Valid parameters are: ['memory', 'steps', 'verbose'].\n"
     ]
    },
    {
     "name": "stderr",
     "output_type": "stream",
     "text": [
      "  0%|          | 75/50400 [01:11<10:59:26,  1.27it/s]"
     ]
    },
    {
     "name": "stdout",
     "output_type": "stream",
     "text": [
      "Invalid parameter 'splitter' for estimator Pipeline(steps=[('onehot', OneHotEncoder()),\n",
      "                ('estimator', DecisionTreeRegressor())]). Valid parameters are: ['memory', 'steps', 'verbose'].\n"
     ]
    },
    {
     "name": "stderr",
     "output_type": "stream",
     "text": [
      "  0%|          | 76/50400 [01:12<11:22:33,  1.23it/s]"
     ]
    },
    {
     "name": "stdout",
     "output_type": "stream",
     "text": [
      "Invalid parameter 'splitter' for estimator Pipeline(steps=[('onehot', OneHotEncoder()),\n",
      "                ('estimator', DecisionTreeRegressor())]). Valid parameters are: ['memory', 'steps', 'verbose'].\n"
     ]
    },
    {
     "name": "stderr",
     "output_type": "stream",
     "text": [
      "  0%|          | 77/50400 [01:12<11:15:29,  1.24it/s]"
     ]
    },
    {
     "name": "stdout",
     "output_type": "stream",
     "text": [
      "Invalid parameter 'splitter' for estimator Pipeline(steps=[('onehot', OneHotEncoder()),\n",
      "                ('estimator', DecisionTreeRegressor())]). Valid parameters are: ['memory', 'steps', 'verbose'].\n"
     ]
    },
    {
     "name": "stderr",
     "output_type": "stream",
     "text": [
      "  0%|          | 78/50400 [01:13<10:59:49,  1.27it/s]"
     ]
    },
    {
     "name": "stdout",
     "output_type": "stream",
     "text": [
      "Invalid parameter 'splitter' for estimator Pipeline(steps=[('onehot', OneHotEncoder()),\n",
      "                ('estimator', DecisionTreeRegressor())]). Valid parameters are: ['memory', 'steps', 'verbose'].\n"
     ]
    },
    {
     "name": "stderr",
     "output_type": "stream",
     "text": [
      "  0%|          | 79/50400 [01:14<10:50:20,  1.29it/s]"
     ]
    },
    {
     "name": "stdout",
     "output_type": "stream",
     "text": [
      "Invalid parameter 'splitter' for estimator Pipeline(steps=[('onehot', OneHotEncoder()),\n",
      "                ('estimator', DecisionTreeRegressor())]). Valid parameters are: ['memory', 'steps', 'verbose'].\n"
     ]
    },
    {
     "name": "stderr",
     "output_type": "stream",
     "text": [
      "  0%|          | 80/50400 [01:15<11:22:08,  1.23it/s]"
     ]
    },
    {
     "name": "stdout",
     "output_type": "stream",
     "text": [
      "Invalid parameter 'splitter' for estimator Pipeline(steps=[('onehot', OneHotEncoder()),\n",
      "                ('estimator', DecisionTreeRegressor())]). Valid parameters are: ['memory', 'steps', 'verbose'].\n"
     ]
    },
    {
     "name": "stderr",
     "output_type": "stream",
     "text": [
      "  0%|          | 81/50400 [01:16<11:35:56,  1.21it/s]"
     ]
    },
    {
     "name": "stdout",
     "output_type": "stream",
     "text": [
      "Invalid parameter 'splitter' for estimator Pipeline(steps=[('onehot', OneHotEncoder()),\n",
      "                ('estimator', DecisionTreeRegressor())]). Valid parameters are: ['memory', 'steps', 'verbose'].\n"
     ]
    },
    {
     "name": "stderr",
     "output_type": "stream",
     "text": [
      "  0%|          | 82/50400 [01:16<11:19:08,  1.23it/s]"
     ]
    },
    {
     "name": "stdout",
     "output_type": "stream",
     "text": [
      "Invalid parameter 'splitter' for estimator Pipeline(steps=[('onehot', OneHotEncoder()),\n",
      "                ('estimator', DecisionTreeRegressor())]). Valid parameters are: ['memory', 'steps', 'verbose'].\n"
     ]
    },
    {
     "name": "stderr",
     "output_type": "stream",
     "text": [
      "  0%|          | 83/50400 [01:17<12:11:14,  1.15it/s]"
     ]
    },
    {
     "name": "stdout",
     "output_type": "stream",
     "text": [
      "Invalid parameter 'splitter' for estimator Pipeline(steps=[('onehot', OneHotEncoder()),\n",
      "                ('estimator', DecisionTreeRegressor())]). Valid parameters are: ['memory', 'steps', 'verbose'].\n"
     ]
    },
    {
     "name": "stderr",
     "output_type": "stream",
     "text": [
      "  0%|          | 84/50400 [01:18<12:34:45,  1.11it/s]"
     ]
    },
    {
     "name": "stdout",
     "output_type": "stream",
     "text": [
      "Invalid parameter 'splitter' for estimator Pipeline(steps=[('onehot', OneHotEncoder()),\n",
      "                ('estimator', DecisionTreeRegressor())]). Valid parameters are: ['memory', 'steps', 'verbose'].\n"
     ]
    },
    {
     "name": "stderr",
     "output_type": "stream",
     "text": [
      "  0%|          | 85/50400 [01:19<12:42:19,  1.10it/s]"
     ]
    },
    {
     "name": "stdout",
     "output_type": "stream",
     "text": [
      "Invalid parameter 'splitter' for estimator Pipeline(steps=[('onehot', OneHotEncoder()),\n",
      "                ('estimator', DecisionTreeRegressor())]). Valid parameters are: ['memory', 'steps', 'verbose'].\n"
     ]
    },
    {
     "name": "stderr",
     "output_type": "stream",
     "text": [
      "  0%|          | 86/50400 [01:20<13:27:45,  1.04it/s]"
     ]
    },
    {
     "name": "stdout",
     "output_type": "stream",
     "text": [
      "Invalid parameter 'splitter' for estimator Pipeline(steps=[('onehot', OneHotEncoder()),\n",
      "                ('estimator', DecisionTreeRegressor())]). Valid parameters are: ['memory', 'steps', 'verbose'].\n"
     ]
    },
    {
     "name": "stderr",
     "output_type": "stream",
     "text": [
      "  0%|          | 87/50400 [01:22<15:05:07,  1.08s/it]"
     ]
    },
    {
     "name": "stdout",
     "output_type": "stream",
     "text": [
      "Invalid parameter 'splitter' for estimator Pipeline(steps=[('onehot', OneHotEncoder()),\n",
      "                ('estimator', DecisionTreeRegressor())]). Valid parameters are: ['memory', 'steps', 'verbose'].\n"
     ]
    },
    {
     "name": "stderr",
     "output_type": "stream",
     "text": [
      "  0%|          | 88/50400 [01:23<15:51:24,  1.13s/it]"
     ]
    },
    {
     "name": "stdout",
     "output_type": "stream",
     "text": [
      "Invalid parameter 'splitter' for estimator Pipeline(steps=[('onehot', OneHotEncoder()),\n",
      "                ('estimator', DecisionTreeRegressor())]). Valid parameters are: ['memory', 'steps', 'verbose'].\n"
     ]
    },
    {
     "name": "stderr",
     "output_type": "stream",
     "text": [
      "  0%|          | 89/50400 [01:24<15:14:59,  1.09s/it]"
     ]
    },
    {
     "name": "stdout",
     "output_type": "stream",
     "text": [
      "Invalid parameter 'splitter' for estimator Pipeline(steps=[('onehot', OneHotEncoder()),\n",
      "                ('estimator', DecisionTreeRegressor())]). Valid parameters are: ['memory', 'steps', 'verbose'].\n"
     ]
    },
    {
     "name": "stderr",
     "output_type": "stream",
     "text": [
      "  0%|          | 90/50400 [01:25<15:11:24,  1.09s/it]"
     ]
    },
    {
     "name": "stdout",
     "output_type": "stream",
     "text": [
      "Invalid parameter 'splitter' for estimator Pipeline(steps=[('onehot', OneHotEncoder()),\n",
      "                ('estimator', DecisionTreeRegressor())]). Valid parameters are: ['memory', 'steps', 'verbose'].\n"
     ]
    },
    {
     "name": "stderr",
     "output_type": "stream",
     "text": [
      "  0%|          | 91/50400 [01:26<14:07:45,  1.01s/it]"
     ]
    },
    {
     "name": "stdout",
     "output_type": "stream",
     "text": [
      "Invalid parameter 'splitter' for estimator Pipeline(steps=[('onehot', OneHotEncoder()),\n",
      "                ('estimator', DecisionTreeRegressor())]). Valid parameters are: ['memory', 'steps', 'verbose'].\n"
     ]
    },
    {
     "name": "stderr",
     "output_type": "stream",
     "text": [
      "  0%|          | 92/50400 [01:27<14:40:16,  1.05s/it]"
     ]
    },
    {
     "name": "stdout",
     "output_type": "stream",
     "text": [
      "Invalid parameter 'splitter' for estimator Pipeline(steps=[('onehot', OneHotEncoder()),\n",
      "                ('estimator', DecisionTreeRegressor())]). Valid parameters are: ['memory', 'steps', 'verbose'].\n"
     ]
    },
    {
     "name": "stderr",
     "output_type": "stream",
     "text": [
      "  0%|          | 93/50400 [01:28<15:46:23,  1.13s/it]"
     ]
    },
    {
     "name": "stdout",
     "output_type": "stream",
     "text": [
      "Invalid parameter 'splitter' for estimator Pipeline(steps=[('onehot', OneHotEncoder()),\n",
      "                ('estimator', DecisionTreeRegressor())]). Valid parameters are: ['memory', 'steps', 'verbose'].\n"
     ]
    },
    {
     "name": "stderr",
     "output_type": "stream",
     "text": [
      "  0%|          | 94/50400 [01:29<15:05:04,  1.08s/it]"
     ]
    },
    {
     "name": "stdout",
     "output_type": "stream",
     "text": [
      "Invalid parameter 'splitter' for estimator Pipeline(steps=[('onehot', OneHotEncoder()),\n",
      "                ('estimator', DecisionTreeRegressor())]). Valid parameters are: ['memory', 'steps', 'verbose'].\n"
     ]
    },
    {
     "name": "stderr",
     "output_type": "stream",
     "text": [
      "  0%|          | 95/50400 [01:30<13:36:18,  1.03it/s]"
     ]
    },
    {
     "name": "stdout",
     "output_type": "stream",
     "text": [
      "Invalid parameter 'splitter' for estimator Pipeline(steps=[('onehot', OneHotEncoder()),\n",
      "                ('estimator', DecisionTreeRegressor())]). Valid parameters are: ['memory', 'steps', 'verbose'].\n"
     ]
    },
    {
     "name": "stderr",
     "output_type": "stream",
     "text": [
      "  0%|          | 96/50400 [01:31<12:42:03,  1.10it/s]"
     ]
    },
    {
     "name": "stdout",
     "output_type": "stream",
     "text": [
      "Invalid parameter 'splitter' for estimator Pipeline(steps=[('onehot', OneHotEncoder()),\n",
      "                ('estimator', DecisionTreeRegressor())]). Valid parameters are: ['memory', 'steps', 'verbose'].\n"
     ]
    },
    {
     "name": "stderr",
     "output_type": "stream",
     "text": [
      "  0%|          | 97/50400 [01:32<12:13:07,  1.14it/s]"
     ]
    },
    {
     "name": "stdout",
     "output_type": "stream",
     "text": [
      "Invalid parameter 'splitter' for estimator Pipeline(steps=[('onehot', OneHotEncoder()),\n",
      "                ('estimator', DecisionTreeRegressor())]). Valid parameters are: ['memory', 'steps', 'verbose'].\n"
     ]
    },
    {
     "name": "stderr",
     "output_type": "stream",
     "text": [
      "  0%|          | 98/50400 [01:32<11:41:27,  1.20it/s]"
     ]
    },
    {
     "name": "stdout",
     "output_type": "stream",
     "text": [
      "Invalid parameter 'splitter' for estimator Pipeline(steps=[('onehot', OneHotEncoder()),\n",
      "                ('estimator', DecisionTreeRegressor())]). Valid parameters are: ['memory', 'steps', 'verbose'].\n"
     ]
    },
    {
     "name": "stderr",
     "output_type": "stream",
     "text": [
      "  0%|          | 99/50400 [01:33<11:26:26,  1.22it/s]"
     ]
    },
    {
     "name": "stdout",
     "output_type": "stream",
     "text": [
      "Invalid parameter 'splitter' for estimator Pipeline(steps=[('onehot', OneHotEncoder()),\n",
      "                ('estimator', DecisionTreeRegressor())]). Valid parameters are: ['memory', 'steps', 'verbose'].\n"
     ]
    },
    {
     "name": "stderr",
     "output_type": "stream",
     "text": [
      "  0%|          | 100/50400 [01:34<11:41:51,  1.19it/s]"
     ]
    },
    {
     "name": "stdout",
     "output_type": "stream",
     "text": [
      "Invalid parameter 'splitter' for estimator Pipeline(steps=[('onehot', OneHotEncoder()),\n",
      "                ('estimator', DecisionTreeRegressor())]). Valid parameters are: ['memory', 'steps', 'verbose'].\n"
     ]
    },
    {
     "name": "stderr",
     "output_type": "stream",
     "text": [
      "  0%|          | 101/50400 [01:35<11:13:37,  1.24it/s]"
     ]
    },
    {
     "name": "stdout",
     "output_type": "stream",
     "text": [
      "Invalid parameter 'splitter' for estimator Pipeline(steps=[('onehot', OneHotEncoder()),\n",
      "                ('estimator', DecisionTreeRegressor())]). Valid parameters are: ['memory', 'steps', 'verbose'].\n"
     ]
    },
    {
     "name": "stderr",
     "output_type": "stream",
     "text": [
      "  0%|          | 102/50400 [01:36<11:57:19,  1.17it/s]"
     ]
    },
    {
     "name": "stdout",
     "output_type": "stream",
     "text": [
      "Invalid parameter 'splitter' for estimator Pipeline(steps=[('onehot', OneHotEncoder()),\n",
      "                ('estimator', DecisionTreeRegressor())]). Valid parameters are: ['memory', 'steps', 'verbose'].\n"
     ]
    },
    {
     "name": "stderr",
     "output_type": "stream",
     "text": [
      "  0%|          | 103/50400 [01:37<12:12:24,  1.14it/s]"
     ]
    },
    {
     "name": "stdout",
     "output_type": "stream",
     "text": [
      "Invalid parameter 'splitter' for estimator Pipeline(steps=[('onehot', OneHotEncoder()),\n",
      "                ('estimator', DecisionTreeRegressor())]). Valid parameters are: ['memory', 'steps', 'verbose'].\n"
     ]
    },
    {
     "name": "stderr",
     "output_type": "stream",
     "text": [
      "  0%|          | 104/50400 [01:37<11:55:12,  1.17it/s]"
     ]
    },
    {
     "name": "stdout",
     "output_type": "stream",
     "text": [
      "Invalid parameter 'splitter' for estimator Pipeline(steps=[('onehot', OneHotEncoder()),\n",
      "                ('estimator', DecisionTreeRegressor())]). Valid parameters are: ['memory', 'steps', 'verbose'].\n"
     ]
    },
    {
     "name": "stderr",
     "output_type": "stream",
     "text": [
      "  0%|          | 105/50400 [01:38<11:47:46,  1.18it/s]"
     ]
    },
    {
     "name": "stdout",
     "output_type": "stream",
     "text": [
      "Invalid parameter 'splitter' for estimator Pipeline(steps=[('onehot', OneHotEncoder()),\n",
      "                ('estimator', DecisionTreeRegressor())]). Valid parameters are: ['memory', 'steps', 'verbose'].\n"
     ]
    },
    {
     "name": "stderr",
     "output_type": "stream",
     "text": [
      "  0%|          | 106/50400 [01:39<12:13:15,  1.14it/s]"
     ]
    },
    {
     "name": "stdout",
     "output_type": "stream",
     "text": [
      "Invalid parameter 'splitter' for estimator Pipeline(steps=[('onehot', OneHotEncoder()),\n",
      "                ('estimator', DecisionTreeRegressor())]). Valid parameters are: ['memory', 'steps', 'verbose'].\n"
     ]
    },
    {
     "name": "stderr",
     "output_type": "stream",
     "text": [
      "  0%|          | 107/50400 [01:41<14:42:00,  1.05s/it]"
     ]
    },
    {
     "name": "stdout",
     "output_type": "stream",
     "text": [
      "Invalid parameter 'splitter' for estimator Pipeline(steps=[('onehot', OneHotEncoder()),\n",
      "                ('estimator', DecisionTreeRegressor())]). Valid parameters are: ['memory', 'steps', 'verbose'].\n"
     ]
    },
    {
     "name": "stderr",
     "output_type": "stream",
     "text": [
      "  0%|          | 108/50400 [01:42<14:27:04,  1.03s/it]"
     ]
    },
    {
     "name": "stdout",
     "output_type": "stream",
     "text": [
      "Invalid parameter 'splitter' for estimator Pipeline(steps=[('onehot', OneHotEncoder()),\n",
      "                ('estimator', DecisionTreeRegressor())]). Valid parameters are: ['memory', 'steps', 'verbose'].\n"
     ]
    },
    {
     "name": "stderr",
     "output_type": "stream",
     "text": [
      "  0%|          | 109/50400 [01:43<15:41:41,  1.12s/it]"
     ]
    },
    {
     "name": "stdout",
     "output_type": "stream",
     "text": [
      "Invalid parameter 'splitter' for estimator Pipeline(steps=[('onehot', OneHotEncoder()),\n",
      "                ('estimator', DecisionTreeRegressor())]). Valid parameters are: ['memory', 'steps', 'verbose'].\n"
     ]
    },
    {
     "name": "stderr",
     "output_type": "stream",
     "text": [
      "  0%|          | 110/50400 [01:44<14:50:51,  1.06s/it]"
     ]
    },
    {
     "name": "stdout",
     "output_type": "stream",
     "text": [
      "Invalid parameter 'splitter' for estimator Pipeline(steps=[('onehot', OneHotEncoder()),\n",
      "                ('estimator', DecisionTreeRegressor())]). Valid parameters are: ['memory', 'steps', 'verbose'].\n"
     ]
    },
    {
     "name": "stderr",
     "output_type": "stream",
     "text": [
      "  0%|          | 111/50400 [01:45<14:13:11,  1.02s/it]"
     ]
    },
    {
     "name": "stdout",
     "output_type": "stream",
     "text": [
      "Invalid parameter 'splitter' for estimator Pipeline(steps=[('onehot', OneHotEncoder()),\n",
      "                ('estimator', DecisionTreeRegressor())]). Valid parameters are: ['memory', 'steps', 'verbose'].\n"
     ]
    },
    {
     "name": "stderr",
     "output_type": "stream",
     "text": [
      "  0%|          | 112/50400 [01:46<14:40:41,  1.05s/it]"
     ]
    },
    {
     "name": "stdout",
     "output_type": "stream",
     "text": [
      "Invalid parameter 'splitter' for estimator Pipeline(steps=[('onehot', OneHotEncoder()),\n",
      "                ('estimator', DecisionTreeRegressor())]). Valid parameters are: ['memory', 'steps', 'verbose'].\n"
     ]
    },
    {
     "name": "stderr",
     "output_type": "stream",
     "text": [
      "  0%|          | 113/50400 [01:47<14:19:25,  1.03s/it]"
     ]
    },
    {
     "name": "stdout",
     "output_type": "stream",
     "text": [
      "Invalid parameter 'splitter' for estimator Pipeline(steps=[('onehot', OneHotEncoder()),\n",
      "                ('estimator', DecisionTreeRegressor())]). Valid parameters are: ['memory', 'steps', 'verbose'].\n"
     ]
    },
    {
     "name": "stderr",
     "output_type": "stream",
     "text": [
      "  0%|          | 114/50400 [01:48<13:51:33,  1.01it/s]"
     ]
    },
    {
     "name": "stdout",
     "output_type": "stream",
     "text": [
      "Invalid parameter 'splitter' for estimator Pipeline(steps=[('onehot', OneHotEncoder()),\n",
      "                ('estimator', DecisionTreeRegressor())]). Valid parameters are: ['memory', 'steps', 'verbose'].\n"
     ]
    },
    {
     "name": "stderr",
     "output_type": "stream",
     "text": [
      "  0%|          | 115/50400 [01:49<13:27:29,  1.04it/s]"
     ]
    },
    {
     "name": "stdout",
     "output_type": "stream",
     "text": [
      "Invalid parameter 'splitter' for estimator Pipeline(steps=[('onehot', OneHotEncoder()),\n",
      "                ('estimator', DecisionTreeRegressor())]). Valid parameters are: ['memory', 'steps', 'verbose'].\n"
     ]
    },
    {
     "name": "stderr",
     "output_type": "stream",
     "text": [
      "  0%|          | 116/50400 [01:50<14:02:08,  1.00s/it]"
     ]
    },
    {
     "name": "stdout",
     "output_type": "stream",
     "text": [
      "Invalid parameter 'splitter' for estimator Pipeline(steps=[('onehot', OneHotEncoder()),\n",
      "                ('estimator', DecisionTreeRegressor())]). Valid parameters are: ['memory', 'steps', 'verbose'].\n"
     ]
    },
    {
     "name": "stderr",
     "output_type": "stream",
     "text": [
      "  0%|          | 117/50400 [01:51<13:36:53,  1.03it/s]"
     ]
    },
    {
     "name": "stdout",
     "output_type": "stream",
     "text": [
      "Invalid parameter 'splitter' for estimator Pipeline(steps=[('onehot', OneHotEncoder()),\n",
      "                ('estimator', DecisionTreeRegressor())]). Valid parameters are: ['memory', 'steps', 'verbose'].\n"
     ]
    },
    {
     "name": "stderr",
     "output_type": "stream",
     "text": [
      "  0%|          | 118/50400 [01:52<13:52:16,  1.01it/s]"
     ]
    },
    {
     "name": "stdout",
     "output_type": "stream",
     "text": [
      "Invalid parameter 'splitter' for estimator Pipeline(steps=[('onehot', OneHotEncoder()),\n",
      "                ('estimator', DecisionTreeRegressor())]). Valid parameters are: ['memory', 'steps', 'verbose'].\n"
     ]
    },
    {
     "name": "stderr",
     "output_type": "stream",
     "text": [
      "  0%|          | 119/50400 [01:53<14:31:27,  1.04s/it]"
     ]
    },
    {
     "name": "stdout",
     "output_type": "stream",
     "text": [
      "Invalid parameter 'splitter' for estimator Pipeline(steps=[('onehot', OneHotEncoder()),\n",
      "                ('estimator', DecisionTreeRegressor())]). Valid parameters are: ['memory', 'steps', 'verbose'].\n"
     ]
    },
    {
     "name": "stderr",
     "output_type": "stream",
     "text": [
      "  0%|          | 120/50400 [01:54<14:35:50,  1.05s/it]"
     ]
    },
    {
     "name": "stdout",
     "output_type": "stream",
     "text": [
      "Invalid parameter 'splitter' for estimator Pipeline(steps=[('onehot', OneHotEncoder()),\n",
      "                ('estimator', DecisionTreeRegressor())]). Valid parameters are: ['memory', 'steps', 'verbose'].\n"
     ]
    },
    {
     "name": "stderr",
     "output_type": "stream",
     "text": [
      "  0%|          | 121/50400 [01:56<17:58:11,  1.29s/it]"
     ]
    },
    {
     "name": "stdout",
     "output_type": "stream",
     "text": [
      "Invalid parameter 'splitter' for estimator Pipeline(steps=[('onehot', OneHotEncoder()),\n",
      "                ('estimator', DecisionTreeRegressor())]). Valid parameters are: ['memory', 'steps', 'verbose'].\n"
     ]
    },
    {
     "name": "stderr",
     "output_type": "stream",
     "text": [
      "  0%|          | 122/50400 [01:57<18:35:39,  1.33s/it]"
     ]
    },
    {
     "name": "stdout",
     "output_type": "stream",
     "text": [
      "Invalid parameter 'splitter' for estimator Pipeline(steps=[('onehot', OneHotEncoder()),\n",
      "                ('estimator', DecisionTreeRegressor())]). Valid parameters are: ['memory', 'steps', 'verbose'].\n"
     ]
    },
    {
     "name": "stderr",
     "output_type": "stream",
     "text": [
      "  0%|          | 123/50400 [01:58<18:09:49,  1.30s/it]"
     ]
    },
    {
     "name": "stdout",
     "output_type": "stream",
     "text": [
      "Invalid parameter 'splitter' for estimator Pipeline(steps=[('onehot', OneHotEncoder()),\n",
      "                ('estimator', DecisionTreeRegressor())]). Valid parameters are: ['memory', 'steps', 'verbose'].\n"
     ]
    },
    {
     "name": "stderr",
     "output_type": "stream",
     "text": [
      "  0%|          | 124/50400 [02:00<18:53:28,  1.35s/it]"
     ]
    },
    {
     "name": "stdout",
     "output_type": "stream",
     "text": [
      "Invalid parameter 'splitter' for estimator Pipeline(steps=[('onehot', OneHotEncoder()),\n",
      "                ('estimator', DecisionTreeRegressor())]). Valid parameters are: ['memory', 'steps', 'verbose'].\n"
     ]
    },
    {
     "name": "stderr",
     "output_type": "stream",
     "text": [
      "  0%|          | 125/50400 [02:01<18:41:58,  1.34s/it]"
     ]
    },
    {
     "name": "stdout",
     "output_type": "stream",
     "text": [
      "Invalid parameter 'splitter' for estimator Pipeline(steps=[('onehot', OneHotEncoder()),\n",
      "                ('estimator', DecisionTreeRegressor())]). Valid parameters are: ['memory', 'steps', 'verbose'].\n"
     ]
    },
    {
     "name": "stderr",
     "output_type": "stream",
     "text": [
      "  0%|          | 126/50400 [02:03<19:27:48,  1.39s/it]"
     ]
    },
    {
     "name": "stdout",
     "output_type": "stream",
     "text": [
      "Invalid parameter 'splitter' for estimator Pipeline(steps=[('onehot', OneHotEncoder()),\n",
      "                ('estimator', DecisionTreeRegressor())]). Valid parameters are: ['memory', 'steps', 'verbose'].\n"
     ]
    },
    {
     "name": "stderr",
     "output_type": "stream",
     "text": [
      "  0%|          | 127/50400 [02:04<19:59:09,  1.43s/it]"
     ]
    },
    {
     "name": "stdout",
     "output_type": "stream",
     "text": [
      "Invalid parameter 'splitter' for estimator Pipeline(steps=[('onehot', OneHotEncoder()),\n",
      "                ('estimator', DecisionTreeRegressor())]). Valid parameters are: ['memory', 'steps', 'verbose'].\n"
     ]
    },
    {
     "name": "stderr",
     "output_type": "stream",
     "text": [
      "  0%|          | 128/50400 [02:05<18:53:40,  1.35s/it]"
     ]
    },
    {
     "name": "stdout",
     "output_type": "stream",
     "text": [
      "Invalid parameter 'splitter' for estimator Pipeline(steps=[('onehot', OneHotEncoder()),\n",
      "                ('estimator', DecisionTreeRegressor())]). Valid parameters are: ['memory', 'steps', 'verbose'].\n"
     ]
    },
    {
     "name": "stderr",
     "output_type": "stream",
     "text": [
      "  0%|          | 129/50400 [02:07<21:18:17,  1.53s/it]"
     ]
    },
    {
     "name": "stdout",
     "output_type": "stream",
     "text": [
      "Invalid parameter 'splitter' for estimator Pipeline(steps=[('onehot', OneHotEncoder()),\n",
      "                ('estimator', DecisionTreeRegressor())]). Valid parameters are: ['memory', 'steps', 'verbose'].\n"
     ]
    },
    {
     "name": "stderr",
     "output_type": "stream",
     "text": [
      "  0%|          | 130/50400 [02:10<25:21:48,  1.82s/it]"
     ]
    },
    {
     "name": "stdout",
     "output_type": "stream",
     "text": [
      "Invalid parameter 'splitter' for estimator Pipeline(steps=[('onehot', OneHotEncoder()),\n",
      "                ('estimator', DecisionTreeRegressor())]). Valid parameters are: ['memory', 'steps', 'verbose'].\n"
     ]
    },
    {
     "name": "stderr",
     "output_type": "stream",
     "text": [
      "  0%|          | 131/50400 [02:13<30:03:44,  2.15s/it]"
     ]
    },
    {
     "name": "stdout",
     "output_type": "stream",
     "text": [
      "Invalid parameter 'splitter' for estimator Pipeline(steps=[('onehot', OneHotEncoder()),\n",
      "                ('estimator', DecisionTreeRegressor())]). Valid parameters are: ['memory', 'steps', 'verbose'].\n"
     ]
    },
    {
     "name": "stderr",
     "output_type": "stream",
     "text": [
      "  0%|          | 132/50400 [02:14<27:59:04,  2.00s/it]"
     ]
    },
    {
     "name": "stdout",
     "output_type": "stream",
     "text": [
      "Invalid parameter 'splitter' for estimator Pipeline(steps=[('onehot', OneHotEncoder()),\n",
      "                ('estimator', DecisionTreeRegressor())]). Valid parameters are: ['memory', 'steps', 'verbose'].\n"
     ]
    },
    {
     "name": "stderr",
     "output_type": "stream",
     "text": [
      "  0%|          | 133/50400 [02:16<24:29:01,  1.75s/it]"
     ]
    },
    {
     "name": "stdout",
     "output_type": "stream",
     "text": [
      "Invalid parameter 'splitter' for estimator Pipeline(steps=[('onehot', OneHotEncoder()),\n",
      "                ('estimator', DecisionTreeRegressor())]). Valid parameters are: ['memory', 'steps', 'verbose'].\n"
     ]
    },
    {
     "name": "stderr",
     "output_type": "stream",
     "text": [
      "  0%|          | 134/50400 [02:17<22:21:44,  1.60s/it]"
     ]
    },
    {
     "name": "stdout",
     "output_type": "stream",
     "text": [
      "Invalid parameter 'splitter' for estimator Pipeline(steps=[('onehot', OneHotEncoder()),\n",
      "                ('estimator', DecisionTreeRegressor())]). Valid parameters are: ['memory', 'steps', 'verbose'].\n"
     ]
    },
    {
     "name": "stderr",
     "output_type": "stream",
     "text": [
      "  0%|          | 135/50400 [02:18<20:22:23,  1.46s/it]"
     ]
    },
    {
     "name": "stdout",
     "output_type": "stream",
     "text": [
      "Invalid parameter 'splitter' for estimator Pipeline(steps=[('onehot', OneHotEncoder()),\n",
      "                ('estimator', DecisionTreeRegressor())]). Valid parameters are: ['memory', 'steps', 'verbose'].\n"
     ]
    },
    {
     "name": "stderr",
     "output_type": "stream",
     "text": [
      "  0%|          | 136/50400 [02:19<18:55:05,  1.35s/it]"
     ]
    },
    {
     "name": "stdout",
     "output_type": "stream",
     "text": [
      "Invalid parameter 'splitter' for estimator Pipeline(steps=[('onehot', OneHotEncoder()),\n",
      "                ('estimator', DecisionTreeRegressor())]). Valid parameters are: ['memory', 'steps', 'verbose'].\n"
     ]
    },
    {
     "name": "stderr",
     "output_type": "stream",
     "text": [
      "  0%|          | 137/50400 [02:20<18:03:51,  1.29s/it]"
     ]
    },
    {
     "name": "stdout",
     "output_type": "stream",
     "text": [
      "Invalid parameter 'splitter' for estimator Pipeline(steps=[('onehot', OneHotEncoder()),\n",
      "                ('estimator', DecisionTreeRegressor())]). Valid parameters are: ['memory', 'steps', 'verbose'].\n"
     ]
    },
    {
     "name": "stderr",
     "output_type": "stream",
     "text": [
      "  0%|          | 138/50400 [02:21<17:26:56,  1.25s/it]"
     ]
    },
    {
     "name": "stdout",
     "output_type": "stream",
     "text": [
      "Invalid parameter 'splitter' for estimator Pipeline(steps=[('onehot', OneHotEncoder()),\n",
      "                ('estimator', DecisionTreeRegressor())]). Valid parameters are: ['memory', 'steps', 'verbose'].\n"
     ]
    },
    {
     "name": "stderr",
     "output_type": "stream",
     "text": [
      "  0%|          | 139/50400 [02:24<21:22:04,  1.53s/it]"
     ]
    },
    {
     "name": "stdout",
     "output_type": "stream",
     "text": [
      "Invalid parameter 'splitter' for estimator Pipeline(steps=[('onehot', OneHotEncoder()),\n",
      "                ('estimator', DecisionTreeRegressor())]). Valid parameters are: ['memory', 'steps', 'verbose'].\n"
     ]
    },
    {
     "name": "stderr",
     "output_type": "stream",
     "text": [
      "  0%|          | 140/50400 [02:26<23:36:29,  1.69s/it]"
     ]
    },
    {
     "name": "stdout",
     "output_type": "stream",
     "text": [
      "Invalid parameter 'splitter' for estimator Pipeline(steps=[('onehot', OneHotEncoder()),\n",
      "                ('estimator', DecisionTreeRegressor())]). Valid parameters are: ['memory', 'steps', 'verbose'].\n"
     ]
    },
    {
     "name": "stderr",
     "output_type": "stream",
     "text": [
      "  0%|          | 141/50400 [02:27<23:47:53,  1.70s/it]"
     ]
    },
    {
     "name": "stdout",
     "output_type": "stream",
     "text": [
      "Invalid parameter 'splitter' for estimator Pipeline(steps=[('onehot', OneHotEncoder()),\n",
      "                ('estimator', DecisionTreeRegressor())]). Valid parameters are: ['memory', 'steps', 'verbose'].\n"
     ]
    },
    {
     "name": "stderr",
     "output_type": "stream",
     "text": [
      "  0%|          | 142/50400 [02:30<26:35:01,  1.90s/it]"
     ]
    },
    {
     "name": "stdout",
     "output_type": "stream",
     "text": [
      "Invalid parameter 'splitter' for estimator Pipeline(steps=[('onehot', OneHotEncoder()),\n",
      "                ('estimator', DecisionTreeRegressor())]). Valid parameters are: ['memory', 'steps', 'verbose'].\n"
     ]
    },
    {
     "name": "stderr",
     "output_type": "stream",
     "text": [
      "  0%|          | 143/50400 [02:32<25:47:49,  1.85s/it]"
     ]
    },
    {
     "name": "stdout",
     "output_type": "stream",
     "text": [
      "Invalid parameter 'splitter' for estimator Pipeline(steps=[('onehot', OneHotEncoder()),\n",
      "                ('estimator', DecisionTreeRegressor())]). Valid parameters are: ['memory', 'steps', 'verbose'].\n"
     ]
    },
    {
     "name": "stderr",
     "output_type": "stream",
     "text": [
      "  0%|          | 144/50400 [02:33<24:11:13,  1.73s/it]"
     ]
    },
    {
     "name": "stdout",
     "output_type": "stream",
     "text": [
      "Invalid parameter 'splitter' for estimator Pipeline(steps=[('onehot', OneHotEncoder()),\n",
      "                ('estimator', DecisionTreeRegressor())]). Valid parameters are: ['memory', 'steps', 'verbose'].\n"
     ]
    },
    {
     "name": "stderr",
     "output_type": "stream",
     "text": [
      "  0%|          | 145/50400 [02:34<23:02:43,  1.65s/it]"
     ]
    },
    {
     "name": "stdout",
     "output_type": "stream",
     "text": [
      "Invalid parameter 'splitter' for estimator Pipeline(steps=[('onehot', OneHotEncoder()),\n",
      "                ('estimator', DecisionTreeRegressor())]). Valid parameters are: ['memory', 'steps', 'verbose'].\n"
     ]
    },
    {
     "name": "stderr",
     "output_type": "stream",
     "text": [
      "  0%|          | 146/50400 [02:36<23:04:58,  1.65s/it]"
     ]
    },
    {
     "name": "stdout",
     "output_type": "stream",
     "text": [
      "Invalid parameter 'splitter' for estimator Pipeline(steps=[('onehot', OneHotEncoder()),\n",
      "                ('estimator', DecisionTreeRegressor())]). Valid parameters are: ['memory', 'steps', 'verbose'].\n"
     ]
    },
    {
     "name": "stderr",
     "output_type": "stream",
     "text": [
      "  0%|          | 147/50400 [02:38<24:56:35,  1.79s/it]"
     ]
    },
    {
     "name": "stdout",
     "output_type": "stream",
     "text": [
      "Invalid parameter 'splitter' for estimator Pipeline(steps=[('onehot', OneHotEncoder()),\n",
      "                ('estimator', DecisionTreeRegressor())]). Valid parameters are: ['memory', 'steps', 'verbose'].\n"
     ]
    },
    {
     "name": "stderr",
     "output_type": "stream",
     "text": [
      "  0%|          | 148/50400 [02:41<31:03:48,  2.23s/it]"
     ]
    },
    {
     "name": "stdout",
     "output_type": "stream",
     "text": [
      "Invalid parameter 'splitter' for estimator Pipeline(steps=[('onehot', OneHotEncoder()),\n",
      "                ('estimator', DecisionTreeRegressor())]). Valid parameters are: ['memory', 'steps', 'verbose'].\n"
     ]
    },
    {
     "name": "stderr",
     "output_type": "stream",
     "text": [
      "  0%|          | 149/50400 [02:43<29:43:26,  2.13s/it]"
     ]
    },
    {
     "name": "stdout",
     "output_type": "stream",
     "text": [
      "Invalid parameter 'splitter' for estimator Pipeline(steps=[('onehot', OneHotEncoder()),\n",
      "                ('estimator', DecisionTreeRegressor())]). Valid parameters are: ['memory', 'steps', 'verbose'].\n"
     ]
    },
    {
     "name": "stderr",
     "output_type": "stream",
     "text": [
      "  0%|          | 150/50400 [02:44<25:32:39,  1.83s/it]"
     ]
    },
    {
     "name": "stdout",
     "output_type": "stream",
     "text": [
      "Invalid parameter 'splitter' for estimator Pipeline(steps=[('onehot', OneHotEncoder()),\n",
      "                ('estimator', DecisionTreeRegressor())]). Valid parameters are: ['memory', 'steps', 'verbose'].\n"
     ]
    },
    {
     "name": "stderr",
     "output_type": "stream",
     "text": [
      "  0%|          | 151/50400 [02:46<23:15:36,  1.67s/it]"
     ]
    },
    {
     "name": "stdout",
     "output_type": "stream",
     "text": [
      "Invalid parameter 'splitter' for estimator Pipeline(steps=[('onehot', OneHotEncoder()),\n",
      "                ('estimator', DecisionTreeRegressor())]). Valid parameters are: ['memory', 'steps', 'verbose'].\n"
     ]
    },
    {
     "name": "stderr",
     "output_type": "stream",
     "text": [
      "  0%|          | 152/50400 [02:47<21:23:38,  1.53s/it]"
     ]
    },
    {
     "name": "stdout",
     "output_type": "stream",
     "text": [
      "Invalid parameter 'splitter' for estimator Pipeline(steps=[('onehot', OneHotEncoder()),\n",
      "                ('estimator', DecisionTreeRegressor())]). Valid parameters are: ['memory', 'steps', 'verbose'].\n"
     ]
    },
    {
     "name": "stderr",
     "output_type": "stream",
     "text": [
      "  0%|          | 153/50400 [02:48<19:11:32,  1.38s/it]"
     ]
    },
    {
     "name": "stdout",
     "output_type": "stream",
     "text": [
      "Invalid parameter 'splitter' for estimator Pipeline(steps=[('onehot', OneHotEncoder()),\n",
      "                ('estimator', DecisionTreeRegressor())]). Valid parameters are: ['memory', 'steps', 'verbose'].\n"
     ]
    },
    {
     "name": "stderr",
     "output_type": "stream",
     "text": [
      "  0%|          | 154/50400 [02:49<17:47:30,  1.27s/it]"
     ]
    },
    {
     "name": "stdout",
     "output_type": "stream",
     "text": [
      "Invalid parameter 'splitter' for estimator Pipeline(steps=[('onehot', OneHotEncoder()),\n",
      "                ('estimator', DecisionTreeRegressor())]). Valid parameters are: ['memory', 'steps', 'verbose'].\n"
     ]
    },
    {
     "name": "stderr",
     "output_type": "stream",
     "text": [
      "  0%|          | 155/50400 [02:50<17:52:07,  1.28s/it]"
     ]
    },
    {
     "name": "stdout",
     "output_type": "stream",
     "text": [
      "Invalid parameter 'splitter' for estimator Pipeline(steps=[('onehot', OneHotEncoder()),\n",
      "                ('estimator', DecisionTreeRegressor())]). Valid parameters are: ['memory', 'steps', 'verbose'].\n"
     ]
    },
    {
     "name": "stderr",
     "output_type": "stream",
     "text": [
      "  0%|          | 156/50400 [02:51<17:17:32,  1.24s/it]"
     ]
    },
    {
     "name": "stdout",
     "output_type": "stream",
     "text": [
      "Invalid parameter 'splitter' for estimator Pipeline(steps=[('onehot', OneHotEncoder()),\n",
      "                ('estimator', DecisionTreeRegressor())]). Valid parameters are: ['memory', 'steps', 'verbose'].\n"
     ]
    },
    {
     "name": "stderr",
     "output_type": "stream",
     "text": [
      "  0%|          | 157/50400 [02:53<16:24:08,  1.18s/it]"
     ]
    },
    {
     "name": "stdout",
     "output_type": "stream",
     "text": [
      "Invalid parameter 'splitter' for estimator Pipeline(steps=[('onehot', OneHotEncoder()),\n",
      "                ('estimator', DecisionTreeRegressor())]). Valid parameters are: ['memory', 'steps', 'verbose'].\n"
     ]
    },
    {
     "name": "stderr",
     "output_type": "stream",
     "text": [
      "  0%|          | 158/50400 [02:54<15:43:10,  1.13s/it]"
     ]
    },
    {
     "name": "stdout",
     "output_type": "stream",
     "text": [
      "Invalid parameter 'splitter' for estimator Pipeline(steps=[('onehot', OneHotEncoder()),\n",
      "                ('estimator', DecisionTreeRegressor())]). Valid parameters are: ['memory', 'steps', 'verbose'].\n"
     ]
    },
    {
     "name": "stderr",
     "output_type": "stream",
     "text": [
      "  0%|          | 159/50400 [02:55<18:11:58,  1.30s/it]"
     ]
    },
    {
     "name": "stdout",
     "output_type": "stream",
     "text": [
      "Invalid parameter 'splitter' for estimator Pipeline(steps=[('onehot', OneHotEncoder()),\n",
      "                ('estimator', DecisionTreeRegressor())]). Valid parameters are: ['memory', 'steps', 'verbose'].\n"
     ]
    },
    {
     "name": "stderr",
     "output_type": "stream",
     "text": [
      "  0%|          | 160/50400 [02:57<19:19:24,  1.38s/it]"
     ]
    },
    {
     "name": "stdout",
     "output_type": "stream",
     "text": [
      "Invalid parameter 'splitter' for estimator Pipeline(steps=[('onehot', OneHotEncoder()),\n",
      "                ('estimator', DecisionTreeRegressor())]). Valid parameters are: ['memory', 'steps', 'verbose'].\n"
     ]
    },
    {
     "name": "stderr",
     "output_type": "stream",
     "text": [
      "  0%|          | 161/50400 [02:58<19:01:26,  1.36s/it]"
     ]
    },
    {
     "name": "stdout",
     "output_type": "stream",
     "text": [
      "Invalid parameter 'splitter' for estimator Pipeline(steps=[('onehot', OneHotEncoder()),\n",
      "                ('estimator', DecisionTreeRegressor())]). Valid parameters are: ['memory', 'steps', 'verbose'].\n"
     ]
    },
    {
     "name": "stderr",
     "output_type": "stream",
     "text": [
      "  0%|          | 162/50400 [03:00<19:55:55,  1.43s/it]"
     ]
    },
    {
     "name": "stdout",
     "output_type": "stream",
     "text": [
      "Invalid parameter 'splitter' for estimator Pipeline(steps=[('onehot', OneHotEncoder()),\n",
      "                ('estimator', DecisionTreeRegressor())]). Valid parameters are: ['memory', 'steps', 'verbose'].\n"
     ]
    },
    {
     "name": "stderr",
     "output_type": "stream",
     "text": [
      "  0%|          | 163/50400 [03:01<18:48:12,  1.35s/it]"
     ]
    },
    {
     "name": "stdout",
     "output_type": "stream",
     "text": [
      "Invalid parameter 'splitter' for estimator Pipeline(steps=[('onehot', OneHotEncoder()),\n",
      "                ('estimator', DecisionTreeRegressor())]). Valid parameters are: ['memory', 'steps', 'verbose'].\n"
     ]
    },
    {
     "name": "stderr",
     "output_type": "stream",
     "text": [
      "  0%|          | 164/50400 [03:02<17:57:03,  1.29s/it]"
     ]
    },
    {
     "name": "stdout",
     "output_type": "stream",
     "text": [
      "Invalid parameter 'splitter' for estimator Pipeline(steps=[('onehot', OneHotEncoder()),\n",
      "                ('estimator', DecisionTreeRegressor())]). Valid parameters are: ['memory', 'steps', 'verbose'].\n"
     ]
    },
    {
     "name": "stderr",
     "output_type": "stream",
     "text": [
      "  0%|          | 165/50400 [03:03<17:52:04,  1.28s/it]"
     ]
    },
    {
     "name": "stdout",
     "output_type": "stream",
     "text": [
      "Invalid parameter 'splitter' for estimator Pipeline(steps=[('onehot', OneHotEncoder()),\n",
      "                ('estimator', DecisionTreeRegressor())]). Valid parameters are: ['memory', 'steps', 'verbose'].\n"
     ]
    },
    {
     "name": "stderr",
     "output_type": "stream",
     "text": [
      "  0%|          | 166/50400 [03:04<17:15:40,  1.24s/it]"
     ]
    },
    {
     "name": "stdout",
     "output_type": "stream",
     "text": [
      "Invalid parameter 'splitter' for estimator Pipeline(steps=[('onehot', OneHotEncoder()),\n",
      "                ('estimator', DecisionTreeRegressor())]). Valid parameters are: ['memory', 'steps', 'verbose'].\n"
     ]
    },
    {
     "name": "stderr",
     "output_type": "stream",
     "text": [
      "  0%|          | 167/50400 [03:06<16:40:24,  1.19s/it]"
     ]
    },
    {
     "name": "stdout",
     "output_type": "stream",
     "text": [
      "Invalid parameter 'splitter' for estimator Pipeline(steps=[('onehot', OneHotEncoder()),\n",
      "                ('estimator', DecisionTreeRegressor())]). Valid parameters are: ['memory', 'steps', 'verbose'].\n"
     ]
    },
    {
     "name": "stderr",
     "output_type": "stream",
     "text": [
      "  0%|          | 168/50400 [03:07<17:39:40,  1.27s/it]"
     ]
    },
    {
     "name": "stdout",
     "output_type": "stream",
     "text": [
      "Invalid parameter 'splitter' for estimator Pipeline(steps=[('onehot', OneHotEncoder()),\n",
      "                ('estimator', DecisionTreeRegressor())]). Valid parameters are: ['memory', 'steps', 'verbose'].\n"
     ]
    },
    {
     "name": "stderr",
     "output_type": "stream",
     "text": [
      "  0%|          | 169/50400 [03:08<18:01:04,  1.29s/it]"
     ]
    },
    {
     "name": "stdout",
     "output_type": "stream",
     "text": [
      "Invalid parameter 'splitter' for estimator Pipeline(steps=[('onehot', OneHotEncoder()),\n",
      "                ('estimator', DecisionTreeRegressor())]). Valid parameters are: ['memory', 'steps', 'verbose'].\n"
     ]
    },
    {
     "name": "stderr",
     "output_type": "stream",
     "text": [
      "  0%|          | 170/50400 [03:10<17:57:36,  1.29s/it]"
     ]
    },
    {
     "name": "stdout",
     "output_type": "stream",
     "text": [
      "Invalid parameter 'splitter' for estimator Pipeline(steps=[('onehot', OneHotEncoder()),\n",
      "                ('estimator', DecisionTreeRegressor())]). Valid parameters are: ['memory', 'steps', 'verbose'].\n"
     ]
    },
    {
     "name": "stderr",
     "output_type": "stream",
     "text": [
      "  0%|          | 171/50400 [03:11<18:01:30,  1.29s/it]"
     ]
    },
    {
     "name": "stdout",
     "output_type": "stream",
     "text": [
      "Invalid parameter 'splitter' for estimator Pipeline(steps=[('onehot', OneHotEncoder()),\n",
      "                ('estimator', DecisionTreeRegressor())]). Valid parameters are: ['memory', 'steps', 'verbose'].\n"
     ]
    },
    {
     "name": "stderr",
     "output_type": "stream",
     "text": [
      "  0%|          | 172/50400 [03:12<19:08:42,  1.37s/it]"
     ]
    },
    {
     "name": "stdout",
     "output_type": "stream",
     "text": [
      "Invalid parameter 'splitter' for estimator Pipeline(steps=[('onehot', OneHotEncoder()),\n",
      "                ('estimator', DecisionTreeRegressor())]). Valid parameters are: ['memory', 'steps', 'verbose'].\n"
     ]
    },
    {
     "name": "stderr",
     "output_type": "stream",
     "text": [
      "  0%|          | 173/50400 [03:14<19:51:41,  1.42s/it]"
     ]
    },
    {
     "name": "stdout",
     "output_type": "stream",
     "text": [
      "Invalid parameter 'splitter' for estimator Pipeline(steps=[('onehot', OneHotEncoder()),\n",
      "                ('estimator', DecisionTreeRegressor())]). Valid parameters are: ['memory', 'steps', 'verbose'].\n"
     ]
    },
    {
     "name": "stderr",
     "output_type": "stream",
     "text": [
      "  0%|          | 174/50400 [03:15<19:04:15,  1.37s/it]"
     ]
    },
    {
     "name": "stdout",
     "output_type": "stream",
     "text": [
      "Invalid parameter 'splitter' for estimator Pipeline(steps=[('onehot', OneHotEncoder()),\n",
      "                ('estimator', DecisionTreeRegressor())]). Valid parameters are: ['memory', 'steps', 'verbose'].\n"
     ]
    },
    {
     "name": "stderr",
     "output_type": "stream",
     "text": [
      "  0%|          | 175/50400 [03:17<19:30:55,  1.40s/it]"
     ]
    },
    {
     "name": "stdout",
     "output_type": "stream",
     "text": [
      "Invalid parameter 'splitter' for estimator Pipeline(steps=[('onehot', OneHotEncoder()),\n",
      "                ('estimator', DecisionTreeRegressor())]). Valid parameters are: ['memory', 'steps', 'verbose'].\n"
     ]
    },
    {
     "name": "stderr",
     "output_type": "stream",
     "text": [
      "  0%|          | 176/50400 [03:18<18:23:05,  1.32s/it]"
     ]
    },
    {
     "name": "stdout",
     "output_type": "stream",
     "text": [
      "Invalid parameter 'splitter' for estimator Pipeline(steps=[('onehot', OneHotEncoder()),\n",
      "                ('estimator', DecisionTreeRegressor())]). Valid parameters are: ['memory', 'steps', 'verbose'].\n"
     ]
    },
    {
     "name": "stderr",
     "output_type": "stream",
     "text": [
      "  0%|          | 177/50400 [03:19<19:28:56,  1.40s/it]"
     ]
    },
    {
     "name": "stdout",
     "output_type": "stream",
     "text": [
      "Invalid parameter 'splitter' for estimator Pipeline(steps=[('onehot', OneHotEncoder()),\n",
      "                ('estimator', DecisionTreeRegressor())]). Valid parameters are: ['memory', 'steps', 'verbose'].\n"
     ]
    },
    {
     "name": "stderr",
     "output_type": "stream",
     "text": [
      "  0%|          | 178/50400 [03:21<18:29:21,  1.33s/it]"
     ]
    },
    {
     "name": "stdout",
     "output_type": "stream",
     "text": [
      "Invalid parameter 'splitter' for estimator Pipeline(steps=[('onehot', OneHotEncoder()),\n",
      "                ('estimator', DecisionTreeRegressor())]). Valid parameters are: ['memory', 'steps', 'verbose'].\n"
     ]
    },
    {
     "name": "stderr",
     "output_type": "stream",
     "text": [
      "  0%|          | 179/50400 [03:22<17:30:21,  1.25s/it]"
     ]
    },
    {
     "name": "stdout",
     "output_type": "stream",
     "text": [
      "Invalid parameter 'splitter' for estimator Pipeline(steps=[('onehot', OneHotEncoder()),\n",
      "                ('estimator', DecisionTreeRegressor())]). Valid parameters are: ['memory', 'steps', 'verbose'].\n"
     ]
    },
    {
     "name": "stderr",
     "output_type": "stream",
     "text": [
      "  0%|          | 180/50400 [03:23<17:36:03,  1.26s/it]"
     ]
    },
    {
     "name": "stdout",
     "output_type": "stream",
     "text": [
      "Invalid parameter 'splitter' for estimator Pipeline(steps=[('onehot', OneHotEncoder()),\n",
      "                ('estimator', DecisionTreeRegressor())]). Valid parameters are: ['memory', 'steps', 'verbose'].\n"
     ]
    },
    {
     "name": "stderr",
     "output_type": "stream",
     "text": [
      "  0%|          | 181/50400 [03:25<19:45:44,  1.42s/it]"
     ]
    },
    {
     "name": "stdout",
     "output_type": "stream",
     "text": [
      "Invalid parameter 'splitter' for estimator Pipeline(steps=[('onehot', OneHotEncoder()),\n",
      "                ('estimator', DecisionTreeRegressor())]). Valid parameters are: ['memory', 'steps', 'verbose'].\n"
     ]
    },
    {
     "name": "stderr",
     "output_type": "stream",
     "text": [
      "  0%|          | 182/50400 [03:26<20:53:31,  1.50s/it]"
     ]
    },
    {
     "name": "stdout",
     "output_type": "stream",
     "text": [
      "Invalid parameter 'splitter' for estimator Pipeline(steps=[('onehot', OneHotEncoder()),\n",
      "                ('estimator', DecisionTreeRegressor())]). Valid parameters are: ['memory', 'steps', 'verbose'].\n"
     ]
    },
    {
     "name": "stderr",
     "output_type": "stream",
     "text": [
      "  0%|          | 183/50400 [03:28<20:09:13,  1.44s/it]"
     ]
    },
    {
     "name": "stdout",
     "output_type": "stream",
     "text": [
      "Invalid parameter 'splitter' for estimator Pipeline(steps=[('onehot', OneHotEncoder()),\n",
      "                ('estimator', DecisionTreeRegressor())]). Valid parameters are: ['memory', 'steps', 'verbose'].\n"
     ]
    },
    {
     "name": "stderr",
     "output_type": "stream",
     "text": [
      "  0%|          | 184/50400 [03:29<19:39:57,  1.41s/it]"
     ]
    },
    {
     "name": "stdout",
     "output_type": "stream",
     "text": [
      "Invalid parameter 'splitter' for estimator Pipeline(steps=[('onehot', OneHotEncoder()),\n",
      "                ('estimator', DecisionTreeRegressor())]). Valid parameters are: ['memory', 'steps', 'verbose'].\n"
     ]
    },
    {
     "name": "stderr",
     "output_type": "stream",
     "text": [
      "  0%|          | 185/50400 [03:31<20:00:59,  1.44s/it]"
     ]
    },
    {
     "name": "stdout",
     "output_type": "stream",
     "text": [
      "Invalid parameter 'splitter' for estimator Pipeline(steps=[('onehot', OneHotEncoder()),\n",
      "                ('estimator', DecisionTreeRegressor())]). Valid parameters are: ['memory', 'steps', 'verbose'].\n"
     ]
    },
    {
     "name": "stderr",
     "output_type": "stream",
     "text": [
      "  0%|          | 186/50400 [03:32<18:35:40,  1.33s/it]"
     ]
    },
    {
     "name": "stdout",
     "output_type": "stream",
     "text": [
      "Invalid parameter 'splitter' for estimator Pipeline(steps=[('onehot', OneHotEncoder()),\n",
      "                ('estimator', DecisionTreeRegressor())]). Valid parameters are: ['memory', 'steps', 'verbose'].\n"
     ]
    },
    {
     "name": "stderr",
     "output_type": "stream",
     "text": [
      "  0%|          | 187/50400 [03:33<18:36:13,  1.33s/it]"
     ]
    },
    {
     "name": "stdout",
     "output_type": "stream",
     "text": [
      "Invalid parameter 'splitter' for estimator Pipeline(steps=[('onehot', OneHotEncoder()),\n",
      "                ('estimator', DecisionTreeRegressor())]). Valid parameters are: ['memory', 'steps', 'verbose'].\n"
     ]
    },
    {
     "name": "stderr",
     "output_type": "stream",
     "text": [
      "  0%|          | 188/50400 [03:34<17:29:11,  1.25s/it]"
     ]
    },
    {
     "name": "stdout",
     "output_type": "stream",
     "text": [
      "Invalid parameter 'splitter' for estimator Pipeline(steps=[('onehot', OneHotEncoder()),\n",
      "                ('estimator', DecisionTreeRegressor())]). Valid parameters are: ['memory', 'steps', 'verbose'].\n"
     ]
    },
    {
     "name": "stderr",
     "output_type": "stream",
     "text": [
      "  0%|          | 189/50400 [03:35<17:23:11,  1.25s/it]"
     ]
    },
    {
     "name": "stdout",
     "output_type": "stream",
     "text": [
      "Invalid parameter 'splitter' for estimator Pipeline(steps=[('onehot', OneHotEncoder()),\n",
      "                ('estimator', DecisionTreeRegressor())]). Valid parameters are: ['memory', 'steps', 'verbose'].\n"
     ]
    },
    {
     "name": "stderr",
     "output_type": "stream",
     "text": [
      "  0%|          | 190/50400 [03:37<19:55:48,  1.43s/it]"
     ]
    },
    {
     "name": "stdout",
     "output_type": "stream",
     "text": [
      "Invalid parameter 'splitter' for estimator Pipeline(steps=[('onehot', OneHotEncoder()),\n",
      "                ('estimator', DecisionTreeRegressor())]). Valid parameters are: ['memory', 'steps', 'verbose'].\n"
     ]
    },
    {
     "name": "stderr",
     "output_type": "stream",
     "text": [
      "  0%|          | 191/50400 [03:38<19:40:39,  1.41s/it]"
     ]
    },
    {
     "name": "stdout",
     "output_type": "stream",
     "text": [
      "Invalid parameter 'splitter' for estimator Pipeline(steps=[('onehot', OneHotEncoder()),\n",
      "                ('estimator', DecisionTreeRegressor())]). Valid parameters are: ['memory', 'steps', 'verbose'].\n"
     ]
    },
    {
     "name": "stderr",
     "output_type": "stream",
     "text": [
      "  0%|          | 192/50400 [03:40<19:13:35,  1.38s/it]"
     ]
    },
    {
     "name": "stdout",
     "output_type": "stream",
     "text": [
      "Invalid parameter 'splitter' for estimator Pipeline(steps=[('onehot', OneHotEncoder()),\n",
      "                ('estimator', DecisionTreeRegressor())]). Valid parameters are: ['memory', 'steps', 'verbose'].\n"
     ]
    },
    {
     "name": "stderr",
     "output_type": "stream",
     "text": [
      "  0%|          | 193/50400 [03:41<18:02:55,  1.29s/it]"
     ]
    },
    {
     "name": "stdout",
     "output_type": "stream",
     "text": [
      "Invalid parameter 'splitter' for estimator Pipeline(steps=[('onehot', OneHotEncoder()),\n",
      "                ('estimator', DecisionTreeRegressor())]). Valid parameters are: ['memory', 'steps', 'verbose'].\n"
     ]
    },
    {
     "name": "stderr",
     "output_type": "stream",
     "text": [
      "  0%|          | 194/50400 [03:42<18:36:40,  1.33s/it]"
     ]
    },
    {
     "name": "stdout",
     "output_type": "stream",
     "text": [
      "Invalid parameter 'splitter' for estimator Pipeline(steps=[('onehot', OneHotEncoder()),\n",
      "                ('estimator', DecisionTreeRegressor())]). Valid parameters are: ['memory', 'steps', 'verbose'].\n"
     ]
    },
    {
     "name": "stderr",
     "output_type": "stream",
     "text": [
      "  0%|          | 195/50400 [03:44<18:53:49,  1.36s/it]"
     ]
    },
    {
     "name": "stdout",
     "output_type": "stream",
     "text": [
      "Invalid parameter 'splitter' for estimator Pipeline(steps=[('onehot', OneHotEncoder()),\n",
      "                ('estimator', DecisionTreeRegressor())]). Valid parameters are: ['memory', 'steps', 'verbose'].\n"
     ]
    },
    {
     "name": "stderr",
     "output_type": "stream",
     "text": [
      "  0%|          | 196/50400 [03:45<20:04:33,  1.44s/it]"
     ]
    },
    {
     "name": "stdout",
     "output_type": "stream",
     "text": [
      "Invalid parameter 'splitter' for estimator Pipeline(steps=[('onehot', OneHotEncoder()),\n",
      "                ('estimator', DecisionTreeRegressor())]). Valid parameters are: ['memory', 'steps', 'verbose'].\n"
     ]
    },
    {
     "name": "stderr",
     "output_type": "stream",
     "text": [
      "  0%|          | 197/50400 [03:47<22:48:09,  1.64s/it]"
     ]
    },
    {
     "name": "stdout",
     "output_type": "stream",
     "text": [
      "Invalid parameter 'splitter' for estimator Pipeline(steps=[('onehot', OneHotEncoder()),\n",
      "                ('estimator', DecisionTreeRegressor())]). Valid parameters are: ['memory', 'steps', 'verbose'].\n"
     ]
    },
    {
     "name": "stderr",
     "output_type": "stream",
     "text": [
      "  0%|          | 198/50400 [03:51<31:31:23,  2.26s/it]"
     ]
    },
    {
     "name": "stdout",
     "output_type": "stream",
     "text": [
      "Invalid parameter 'splitter' for estimator Pipeline(steps=[('onehot', OneHotEncoder()),\n",
      "                ('estimator', DecisionTreeRegressor())]). Valid parameters are: ['memory', 'steps', 'verbose'].\n"
     ]
    },
    {
     "name": "stderr",
     "output_type": "stream",
     "text": [
      "  0%|          | 199/50400 [04:06<83:52:31,  6.01s/it]"
     ]
    },
    {
     "name": "stdout",
     "output_type": "stream",
     "text": [
      "Invalid parameter 'splitter' for estimator Pipeline(steps=[('onehot', OneHotEncoder()),\n",
      "                ('estimator', DecisionTreeRegressor())]). Valid parameters are: ['memory', 'steps', 'verbose'].\n"
     ]
    },
    {
     "name": "stderr",
     "output_type": "stream",
     "text": [
      "  0%|          | 200/50400 [04:13<89:01:01,  6.38s/it]"
     ]
    },
    {
     "name": "stdout",
     "output_type": "stream",
     "text": [
      "Invalid parameter 'splitter' for estimator Pipeline(steps=[('onehot', OneHotEncoder()),\n",
      "                ('estimator', DecisionTreeRegressor())]). Valid parameters are: ['memory', 'steps', 'verbose'].\n"
     ]
    },
    {
     "name": "stderr",
     "output_type": "stream",
     "text": [
      "  0%|          | 201/50400 [04:22<100:46:06,  7.23s/it]"
     ]
    },
    {
     "name": "stdout",
     "output_type": "stream",
     "text": [
      "Invalid parameter 'splitter' for estimator Pipeline(steps=[('onehot', OneHotEncoder()),\n",
      "                ('estimator', DecisionTreeRegressor())]). Valid parameters are: ['memory', 'steps', 'verbose'].\n"
     ]
    },
    {
     "name": "stderr",
     "output_type": "stream",
     "text": [
      "  0%|          | 202/50400 [04:25<81:41:51,  5.86s/it] "
     ]
    },
    {
     "name": "stdout",
     "output_type": "stream",
     "text": [
      "Invalid parameter 'splitter' for estimator Pipeline(steps=[('onehot', OneHotEncoder()),\n",
      "                ('estimator', DecisionTreeRegressor())]). Valid parameters are: ['memory', 'steps', 'verbose'].\n"
     ]
    },
    {
     "name": "stderr",
     "output_type": "stream",
     "text": [
      "  0%|          | 203/50400 [04:28<70:26:53,  5.05s/it]"
     ]
    },
    {
     "name": "stdout",
     "output_type": "stream",
     "text": [
      "Invalid parameter 'splitter' for estimator Pipeline(steps=[('onehot', OneHotEncoder()),\n",
      "                ('estimator', DecisionTreeRegressor())]). Valid parameters are: ['memory', 'steps', 'verbose'].\n"
     ]
    },
    {
     "name": "stderr",
     "output_type": "stream",
     "text": [
      "  0%|          | 204/50400 [04:30<58:13:38,  4.18s/it]"
     ]
    },
    {
     "name": "stdout",
     "output_type": "stream",
     "text": [
      "Invalid parameter 'splitter' for estimator Pipeline(steps=[('onehot', OneHotEncoder()),\n",
      "                ('estimator', DecisionTreeRegressor())]). Valid parameters are: ['memory', 'steps', 'verbose'].\n"
     ]
    },
    {
     "name": "stderr",
     "output_type": "stream",
     "text": [
      "  0%|          | 205/50400 [04:33<52:08:52,  3.74s/it]"
     ]
    },
    {
     "name": "stdout",
     "output_type": "stream",
     "text": [
      "Invalid parameter 'splitter' for estimator Pipeline(steps=[('onehot', OneHotEncoder()),\n",
      "                ('estimator', DecisionTreeRegressor())]). Valid parameters are: ['memory', 'steps', 'verbose'].\n"
     ]
    },
    {
     "name": "stderr",
     "output_type": "stream",
     "text": [
      "  0%|          | 206/50400 [04:36<49:09:33,  3.53s/it]"
     ]
    },
    {
     "name": "stdout",
     "output_type": "stream",
     "text": [
      "Invalid parameter 'splitter' for estimator Pipeline(steps=[('onehot', OneHotEncoder()),\n",
      "                ('estimator', DecisionTreeRegressor())]). Valid parameters are: ['memory', 'steps', 'verbose'].\n"
     ]
    },
    {
     "name": "stderr",
     "output_type": "stream",
     "text": [
      "  0%|          | 207/50400 [04:39<48:25:44,  3.47s/it]"
     ]
    },
    {
     "name": "stdout",
     "output_type": "stream",
     "text": [
      "Invalid parameter 'splitter' for estimator Pipeline(steps=[('onehot', OneHotEncoder()),\n",
      "                ('estimator', DecisionTreeRegressor())]). Valid parameters are: ['memory', 'steps', 'verbose'].\n"
     ]
    },
    {
     "name": "stderr",
     "output_type": "stream",
     "text": [
      "  0%|          | 208/50400 [04:41<40:06:06,  2.88s/it]"
     ]
    },
    {
     "name": "stdout",
     "output_type": "stream",
     "text": [
      "Invalid parameter 'splitter' for estimator Pipeline(steps=[('onehot', OneHotEncoder()),\n",
      "                ('estimator', DecisionTreeRegressor())]). Valid parameters are: ['memory', 'steps', 'verbose'].\n"
     ]
    },
    {
     "name": "stderr",
     "output_type": "stream",
     "text": [
      "  0%|          | 209/50400 [04:44<39:16:26,  2.82s/it]"
     ]
    },
    {
     "name": "stdout",
     "output_type": "stream",
     "text": [
      "Invalid parameter 'splitter' for estimator Pipeline(steps=[('onehot', OneHotEncoder()),\n",
      "                ('estimator', DecisionTreeRegressor())]). Valid parameters are: ['memory', 'steps', 'verbose'].\n"
     ]
    },
    {
     "name": "stderr",
     "output_type": "stream",
     "text": [
      "  0%|          | 210/50400 [04:46<36:58:52,  2.65s/it]"
     ]
    },
    {
     "name": "stdout",
     "output_type": "stream",
     "text": [
      "Invalid parameter 'splitter' for estimator Pipeline(steps=[('onehot', OneHotEncoder()),\n",
      "                ('estimator', DecisionTreeRegressor())]). Valid parameters are: ['memory', 'steps', 'verbose'].\n"
     ]
    },
    {
     "name": "stderr",
     "output_type": "stream",
     "text": [
      "  0%|          | 211/50400 [04:47<29:50:01,  2.14s/it]"
     ]
    },
    {
     "name": "stdout",
     "output_type": "stream",
     "text": [
      "Invalid parameter 'splitter' for estimator Pipeline(steps=[('onehot', OneHotEncoder()),\n",
      "                ('estimator', DecisionTreeRegressor())]). Valid parameters are: ['memory', 'steps', 'verbose'].\n"
     ]
    },
    {
     "name": "stderr",
     "output_type": "stream",
     "text": [
      "  0%|          | 212/50400 [04:49<29:02:12,  2.08s/it]"
     ]
    },
    {
     "name": "stdout",
     "output_type": "stream",
     "text": [
      "Invalid parameter 'splitter' for estimator Pipeline(steps=[('onehot', OneHotEncoder()),\n",
      "                ('estimator', DecisionTreeRegressor())]). Valid parameters are: ['memory', 'steps', 'verbose'].\n"
     ]
    },
    {
     "name": "stderr",
     "output_type": "stream",
     "text": [
      "  0%|          | 213/50400 [04:50<24:15:48,  1.74s/it]"
     ]
    },
    {
     "name": "stdout",
     "output_type": "stream",
     "text": [
      "Invalid parameter 'splitter' for estimator Pipeline(steps=[('onehot', OneHotEncoder()),\n",
      "                ('estimator', DecisionTreeRegressor())]). Valid parameters are: ['memory', 'steps', 'verbose'].\n"
     ]
    },
    {
     "name": "stderr",
     "output_type": "stream",
     "text": [
      "  0%|          | 214/50400 [04:51<23:06:27,  1.66s/it]"
     ]
    },
    {
     "name": "stdout",
     "output_type": "stream",
     "text": [
      "Invalid parameter 'splitter' for estimator Pipeline(steps=[('onehot', OneHotEncoder()),\n",
      "                ('estimator', DecisionTreeRegressor())]). Valid parameters are: ['memory', 'steps', 'verbose'].\n"
     ]
    },
    {
     "name": "stderr",
     "output_type": "stream",
     "text": [
      "  0%|          | 215/50400 [04:53<21:59:33,  1.58s/it]"
     ]
    },
    {
     "name": "stdout",
     "output_type": "stream",
     "text": [
      "Invalid parameter 'splitter' for estimator Pipeline(steps=[('onehot', OneHotEncoder()),\n",
      "                ('estimator', DecisionTreeRegressor())]). Valid parameters are: ['memory', 'steps', 'verbose'].\n"
     ]
    },
    {
     "name": "stderr",
     "output_type": "stream",
     "text": [
      "  0%|          | 216/50400 [04:58<39:20:00,  2.82s/it]"
     ]
    },
    {
     "name": "stdout",
     "output_type": "stream",
     "text": [
      "Invalid parameter 'splitter' for estimator Pipeline(steps=[('onehot', OneHotEncoder()),\n",
      "                ('estimator', DecisionTreeRegressor())]). Valid parameters are: ['memory', 'steps', 'verbose'].\n"
     ]
    },
    {
     "name": "stderr",
     "output_type": "stream",
     "text": [
      "  0%|          | 217/50400 [05:13<87:53:55,  6.31s/it]"
     ]
    },
    {
     "name": "stdout",
     "output_type": "stream",
     "text": [
      "Invalid parameter 'splitter' for estimator Pipeline(steps=[('onehot', OneHotEncoder()),\n",
      "                ('estimator', DecisionTreeRegressor())]). Valid parameters are: ['memory', 'steps', 'verbose'].\n"
     ]
    },
    {
     "name": "stderr",
     "output_type": "stream",
     "text": [
      "  0%|          | 218/50400 [05:19<89:33:37,  6.42s/it]"
     ]
    },
    {
     "name": "stdout",
     "output_type": "stream",
     "text": [
      "Invalid parameter 'splitter' for estimator Pipeline(steps=[('onehot', OneHotEncoder()),\n",
      "                ('estimator', DecisionTreeRegressor())]). Valid parameters are: ['memory', 'steps', 'verbose'].\n"
     ]
    },
    {
     "name": "stderr",
     "output_type": "stream",
     "text": [
      "  0%|          | 219/50400 [05:21<70:56:19,  5.09s/it]"
     ]
    },
    {
     "name": "stdout",
     "output_type": "stream",
     "text": [
      "Invalid parameter 'splitter' for estimator Pipeline(steps=[('onehot', OneHotEncoder()),\n",
      "                ('estimator', DecisionTreeRegressor())]). Valid parameters are: ['memory', 'steps', 'verbose'].\n"
     ]
    },
    {
     "name": "stderr",
     "output_type": "stream",
     "text": [
      "  0%|          | 220/50400 [05:25<64:33:53,  4.63s/it]"
     ]
    },
    {
     "name": "stdout",
     "output_type": "stream",
     "text": [
      "Invalid parameter 'splitter' for estimator Pipeline(steps=[('onehot', OneHotEncoder()),\n",
      "                ('estimator', DecisionTreeRegressor())]). Valid parameters are: ['memory', 'steps', 'verbose'].\n"
     ]
    },
    {
     "name": "stderr",
     "output_type": "stream",
     "text": [
      "  0%|          | 221/50400 [05:28<58:26:37,  4.19s/it]"
     ]
    },
    {
     "name": "stdout",
     "output_type": "stream",
     "text": [
      "Invalid parameter 'splitter' for estimator Pipeline(steps=[('onehot', OneHotEncoder()),\n",
      "                ('estimator', DecisionTreeRegressor())]). Valid parameters are: ['memory', 'steps', 'verbose'].\n"
     ]
    },
    {
     "name": "stderr",
     "output_type": "stream",
     "text": [
      "  0%|          | 222/50400 [05:30<50:43:48,  3.64s/it]"
     ]
    },
    {
     "name": "stdout",
     "output_type": "stream",
     "text": [
      "Invalid parameter 'splitter' for estimator Pipeline(steps=[('onehot', OneHotEncoder()),\n",
      "                ('estimator', DecisionTreeRegressor())]). Valid parameters are: ['memory', 'steps', 'verbose'].\n"
     ]
    },
    {
     "name": "stderr",
     "output_type": "stream",
     "text": [
      "  0%|          | 223/50400 [05:34<50:43:35,  3.64s/it]"
     ]
    },
    {
     "name": "stdout",
     "output_type": "stream",
     "text": [
      "Invalid parameter 'splitter' for estimator Pipeline(steps=[('onehot', OneHotEncoder()),\n",
      "                ('estimator', DecisionTreeRegressor())]). Valid parameters are: ['memory', 'steps', 'verbose'].\n"
     ]
    },
    {
     "name": "stderr",
     "output_type": "stream",
     "text": [
      "  0%|          | 224/50400 [05:37<47:51:40,  3.43s/it]"
     ]
    },
    {
     "name": "stdout",
     "output_type": "stream",
     "text": [
      "Invalid parameter 'splitter' for estimator Pipeline(steps=[('onehot', OneHotEncoder()),\n",
      "                ('estimator', DecisionTreeRegressor())]). Valid parameters are: ['memory', 'steps', 'verbose'].\n"
     ]
    },
    {
     "name": "stderr",
     "output_type": "stream",
     "text": [
      "  0%|          | 225/50400 [05:40<44:22:26,  3.18s/it]"
     ]
    },
    {
     "name": "stdout",
     "output_type": "stream",
     "text": [
      "Invalid parameter 'splitter' for estimator Pipeline(steps=[('onehot', OneHotEncoder()),\n",
      "                ('estimator', DecisionTreeRegressor())]). Valid parameters are: ['memory', 'steps', 'verbose'].\n"
     ]
    },
    {
     "name": "stderr",
     "output_type": "stream",
     "text": [
      "  0%|          | 226/50400 [05:42<39:49:57,  2.86s/it]"
     ]
    },
    {
     "name": "stdout",
     "output_type": "stream",
     "text": [
      "Invalid parameter 'splitter' for estimator Pipeline(steps=[('onehot', OneHotEncoder()),\n",
      "                ('estimator', DecisionTreeRegressor())]). Valid parameters are: ['memory', 'steps', 'verbose'].\n"
     ]
    },
    {
     "name": "stderr",
     "output_type": "stream",
     "text": [
      "  0%|          | 227/50400 [05:57<93:14:38,  6.69s/it]"
     ]
    },
    {
     "name": "stdout",
     "output_type": "stream",
     "text": [
      "Invalid parameter 'splitter' for estimator Pipeline(steps=[('onehot', OneHotEncoder()),\n",
      "                ('estimator', DecisionTreeRegressor())]). Valid parameters are: ['memory', 'steps', 'verbose'].\n"
     ]
    },
    {
     "name": "stderr",
     "output_type": "stream",
     "text": [
      "  0%|          | 228/50400 [06:11<123:06:02,  8.83s/it]"
     ]
    },
    {
     "name": "stdout",
     "output_type": "stream",
     "text": [
      "Invalid parameter 'splitter' for estimator Pipeline(steps=[('onehot', OneHotEncoder()),\n",
      "                ('estimator', DecisionTreeRegressor())]). Valid parameters are: ['memory', 'steps', 'verbose'].\n"
     ]
    },
    {
     "name": "stderr",
     "output_type": "stream",
     "text": [
      "  0%|          | 229/50400 [06:26<147:52:24, 10.61s/it]"
     ]
    },
    {
     "name": "stdout",
     "output_type": "stream",
     "text": [
      "Invalid parameter 'splitter' for estimator Pipeline(steps=[('onehot', OneHotEncoder()),\n",
      "                ('estimator', DecisionTreeRegressor())]). Valid parameters are: ['memory', 'steps', 'verbose'].\n"
     ]
    },
    {
     "name": "stderr",
     "output_type": "stream",
     "text": [
      "  0%|          | 230/50400 [06:39<157:33:15, 11.31s/it]"
     ]
    },
    {
     "name": "stdout",
     "output_type": "stream",
     "text": [
      "Invalid parameter 'splitter' for estimator Pipeline(steps=[('onehot', OneHotEncoder()),\n",
      "                ('estimator', DecisionTreeRegressor())]). Valid parameters are: ['memory', 'steps', 'verbose'].\n"
     ]
    },
    {
     "name": "stderr",
     "output_type": "stream",
     "text": [
      "  0%|          | 231/50400 [06:42<122:28:18,  8.79s/it]"
     ]
    },
    {
     "name": "stdout",
     "output_type": "stream",
     "text": [
      "Invalid parameter 'splitter' for estimator Pipeline(steps=[('onehot', OneHotEncoder()),\n",
      "                ('estimator', DecisionTreeRegressor())]). Valid parameters are: ['memory', 'steps', 'verbose'].\n"
     ]
    },
    {
     "name": "stderr",
     "output_type": "stream",
     "text": [
      "  0%|          | 232/50400 [06:44<93:48:55,  6.73s/it] "
     ]
    },
    {
     "name": "stdout",
     "output_type": "stream",
     "text": [
      "Invalid parameter 'splitter' for estimator Pipeline(steps=[('onehot', OneHotEncoder()),\n",
      "                ('estimator', DecisionTreeRegressor())]). Valid parameters are: ['memory', 'steps', 'verbose'].\n"
     ]
    },
    {
     "name": "stderr",
     "output_type": "stream",
     "text": [
      "  0%|          | 233/50400 [06:45<71:52:37,  5.16s/it]"
     ]
    },
    {
     "name": "stdout",
     "output_type": "stream",
     "text": [
      "Invalid parameter 'splitter' for estimator Pipeline(steps=[('onehot', OneHotEncoder()),\n",
      "                ('estimator', DecisionTreeRegressor())]). Valid parameters are: ['memory', 'steps', 'verbose'].\n"
     ]
    },
    {
     "name": "stderr",
     "output_type": "stream",
     "text": [
      "  0%|          | 234/50400 [06:47<55:51:40,  4.01s/it]"
     ]
    },
    {
     "name": "stdout",
     "output_type": "stream",
     "text": [
      "Invalid parameter 'splitter' for estimator Pipeline(steps=[('onehot', OneHotEncoder()),\n",
      "                ('estimator', DecisionTreeRegressor())]). Valid parameters are: ['memory', 'steps', 'verbose'].\n"
     ]
    },
    {
     "name": "stderr",
     "output_type": "stream",
     "text": [
      "  0%|          | 235/50400 [06:48<44:51:01,  3.22s/it]"
     ]
    },
    {
     "name": "stdout",
     "output_type": "stream",
     "text": [
      "Invalid parameter 'splitter' for estimator Pipeline(steps=[('onehot', OneHotEncoder()),\n",
      "                ('estimator', DecisionTreeRegressor())]). Valid parameters are: ['memory', 'steps', 'verbose'].\n"
     ]
    },
    {
     "name": "stderr",
     "output_type": "stream",
     "text": [
      "  0%|          | 236/50400 [06:50<39:30:50,  2.84s/it]"
     ]
    },
    {
     "name": "stdout",
     "output_type": "stream",
     "text": [
      "Invalid parameter 'splitter' for estimator Pipeline(steps=[('onehot', OneHotEncoder()),\n",
      "                ('estimator', DecisionTreeRegressor())]). Valid parameters are: ['memory', 'steps', 'verbose'].\n"
     ]
    },
    {
     "name": "stderr",
     "output_type": "stream",
     "text": [
      "  0%|          | 237/50400 [06:51<33:05:51,  2.38s/it]"
     ]
    },
    {
     "name": "stdout",
     "output_type": "stream",
     "text": [
      "Invalid parameter 'splitter' for estimator Pipeline(steps=[('onehot', OneHotEncoder()),\n",
      "                ('estimator', DecisionTreeRegressor())]). Valid parameters are: ['memory', 'steps', 'verbose'].\n"
     ]
    },
    {
     "name": "stderr",
     "output_type": "stream",
     "text": [
      "  0%|          | 238/50400 [06:53<30:01:50,  2.16s/it]"
     ]
    },
    {
     "name": "stdout",
     "output_type": "stream",
     "text": [
      "Invalid parameter 'splitter' for estimator Pipeline(steps=[('onehot', OneHotEncoder()),\n",
      "                ('estimator', DecisionTreeRegressor())]). Valid parameters are: ['memory', 'steps', 'verbose'].\n"
     ]
    },
    {
     "name": "stderr",
     "output_type": "stream",
     "text": [
      "  0%|          | 239/50400 [06:55<29:46:46,  2.14s/it]"
     ]
    },
    {
     "name": "stdout",
     "output_type": "stream",
     "text": [
      "Invalid parameter 'splitter' for estimator Pipeline(steps=[('onehot', OneHotEncoder()),\n",
      "                ('estimator', DecisionTreeRegressor())]). Valid parameters are: ['memory', 'steps', 'verbose'].\n"
     ]
    },
    {
     "name": "stderr",
     "output_type": "stream",
     "text": [
      "  0%|          | 240/50400 [06:56<26:18:19,  1.89s/it]"
     ]
    },
    {
     "name": "stdout",
     "output_type": "stream",
     "text": [
      "Invalid parameter 'splitter' for estimator Pipeline(steps=[('onehot', OneHotEncoder()),\n",
      "                ('estimator', DecisionTreeRegressor())]). Valid parameters are: ['memory', 'steps', 'verbose'].\n"
     ]
    },
    {
     "name": "stderr",
     "output_type": "stream",
     "text": [
      "  0%|          | 241/50400 [06:57<23:36:44,  1.69s/it]"
     ]
    },
    {
     "name": "stdout",
     "output_type": "stream",
     "text": [
      "Invalid parameter 'splitter' for estimator Pipeline(steps=[('onehot', OneHotEncoder()),\n",
      "                ('estimator', DecisionTreeRegressor())]). Valid parameters are: ['memory', 'steps', 'verbose'].\n"
     ]
    },
    {
     "name": "stderr",
     "output_type": "stream",
     "text": [
      "  0%|          | 242/50400 [06:59<22:09:37,  1.59s/it]"
     ]
    },
    {
     "name": "stdout",
     "output_type": "stream",
     "text": [
      "Invalid parameter 'splitter' for estimator Pipeline(steps=[('onehot', OneHotEncoder()),\n",
      "                ('estimator', DecisionTreeRegressor())]). Valid parameters are: ['memory', 'steps', 'verbose'].\n"
     ]
    },
    {
     "name": "stderr",
     "output_type": "stream",
     "text": [
      "  0%|          | 243/50400 [07:00<21:32:32,  1.55s/it]"
     ]
    },
    {
     "name": "stdout",
     "output_type": "stream",
     "text": [
      "Invalid parameter 'splitter' for estimator Pipeline(steps=[('onehot', OneHotEncoder()),\n",
      "                ('estimator', DecisionTreeRegressor())]). Valid parameters are: ['memory', 'steps', 'verbose'].\n"
     ]
    },
    {
     "name": "stderr",
     "output_type": "stream",
     "text": [
      "  0%|          | 244/50400 [07:02<20:50:59,  1.50s/it]"
     ]
    },
    {
     "name": "stdout",
     "output_type": "stream",
     "text": [
      "Invalid parameter 'splitter' for estimator Pipeline(steps=[('onehot', OneHotEncoder()),\n",
      "                ('estimator', DecisionTreeRegressor())]). Valid parameters are: ['memory', 'steps', 'verbose'].\n"
     ]
    },
    {
     "name": "stderr",
     "output_type": "stream",
     "text": [
      "  0%|          | 245/50400 [07:03<20:13:58,  1.45s/it]"
     ]
    },
    {
     "name": "stdout",
     "output_type": "stream",
     "text": [
      "Invalid parameter 'splitter' for estimator Pipeline(steps=[('onehot', OneHotEncoder()),\n",
      "                ('estimator', DecisionTreeRegressor())]). Valid parameters are: ['memory', 'steps', 'verbose'].\n"
     ]
    },
    {
     "name": "stderr",
     "output_type": "stream",
     "text": [
      "  0%|          | 246/50400 [07:05<21:21:49,  1.53s/it]"
     ]
    },
    {
     "name": "stdout",
     "output_type": "stream",
     "text": [
      "Invalid parameter 'splitter' for estimator Pipeline(steps=[('onehot', OneHotEncoder()),\n",
      "                ('estimator', DecisionTreeRegressor())]). Valid parameters are: ['memory', 'steps', 'verbose'].\n"
     ]
    },
    {
     "name": "stderr",
     "output_type": "stream",
     "text": [
      "  0%|          | 247/50400 [07:06<22:23:05,  1.61s/it]"
     ]
    },
    {
     "name": "stdout",
     "output_type": "stream",
     "text": [
      "Invalid parameter 'splitter' for estimator Pipeline(steps=[('onehot', OneHotEncoder()),\n",
      "                ('estimator', DecisionTreeRegressor())]). Valid parameters are: ['memory', 'steps', 'verbose'].\n"
     ]
    },
    {
     "name": "stderr",
     "output_type": "stream",
     "text": [
      "  0%|          | 248/50400 [07:08<22:39:59,  1.63s/it]"
     ]
    },
    {
     "name": "stdout",
     "output_type": "stream",
     "text": [
      "Invalid parameter 'splitter' for estimator Pipeline(steps=[('onehot', OneHotEncoder()),\n",
      "                ('estimator', DecisionTreeRegressor())]). Valid parameters are: ['memory', 'steps', 'verbose'].\n"
     ]
    },
    {
     "name": "stderr",
     "output_type": "stream",
     "text": [
      "  0%|          | 249/50400 [07:09<20:20:11,  1.46s/it]"
     ]
    },
    {
     "name": "stdout",
     "output_type": "stream",
     "text": [
      "Invalid parameter 'splitter' for estimator Pipeline(steps=[('onehot', OneHotEncoder()),\n",
      "                ('estimator', DecisionTreeRegressor())]). Valid parameters are: ['memory', 'steps', 'verbose'].\n"
     ]
    },
    {
     "name": "stderr",
     "output_type": "stream",
     "text": [
      "  0%|          | 250/50400 [07:10<18:44:18,  1.35s/it]"
     ]
    },
    {
     "name": "stdout",
     "output_type": "stream",
     "text": [
      "Invalid parameter 'splitter' for estimator Pipeline(steps=[('onehot', OneHotEncoder()),\n",
      "                ('estimator', DecisionTreeRegressor())]). Valid parameters are: ['memory', 'steps', 'verbose'].\n"
     ]
    },
    {
     "name": "stderr",
     "output_type": "stream",
     "text": [
      "  0%|          | 251/50400 [07:11<17:37:18,  1.27s/it]"
     ]
    },
    {
     "name": "stdout",
     "output_type": "stream",
     "text": [
      "Invalid parameter 'splitter' for estimator Pipeline(steps=[('onehot', OneHotEncoder()),\n",
      "                ('estimator', DecisionTreeRegressor())]). Valid parameters are: ['memory', 'steps', 'verbose'].\n"
     ]
    },
    {
     "name": "stderr",
     "output_type": "stream",
     "text": [
      "  0%|          | 252/50400 [07:12<16:22:04,  1.18s/it]"
     ]
    },
    {
     "name": "stdout",
     "output_type": "stream",
     "text": [
      "Invalid parameter 'splitter' for estimator Pipeline(steps=[('onehot', OneHotEncoder()),\n",
      "                ('estimator', DecisionTreeRegressor())]). Valid parameters are: ['memory', 'steps', 'verbose'].\n"
     ]
    },
    {
     "name": "stderr",
     "output_type": "stream",
     "text": [
      "  1%|          | 253/50400 [07:13<15:07:36,  1.09s/it]"
     ]
    },
    {
     "name": "stdout",
     "output_type": "stream",
     "text": [
      "Invalid parameter 'splitter' for estimator Pipeline(steps=[('onehot', OneHotEncoder()),\n",
      "                ('estimator', DecisionTreeRegressor())]). Valid parameters are: ['memory', 'steps', 'verbose'].\n"
     ]
    },
    {
     "name": "stderr",
     "output_type": "stream",
     "text": [
      "  1%|          | 254/50400 [07:14<14:47:44,  1.06s/it]"
     ]
    },
    {
     "name": "stdout",
     "output_type": "stream",
     "text": [
      "Invalid parameter 'splitter' for estimator Pipeline(steps=[('onehot', OneHotEncoder()),\n",
      "                ('estimator', DecisionTreeRegressor())]). Valid parameters are: ['memory', 'steps', 'verbose'].\n"
     ]
    },
    {
     "name": "stderr",
     "output_type": "stream",
     "text": [
      "  1%|          | 255/50400 [07:16<18:28:33,  1.33s/it]"
     ]
    },
    {
     "name": "stdout",
     "output_type": "stream",
     "text": [
      "Invalid parameter 'splitter' for estimator Pipeline(steps=[('onehot', OneHotEncoder()),\n",
      "                ('estimator', DecisionTreeRegressor())]). Valid parameters are: ['memory', 'steps', 'verbose'].\n"
     ]
    },
    {
     "name": "stderr",
     "output_type": "stream",
     "text": [
      "  1%|          | 256/50400 [07:18<21:19:25,  1.53s/it]"
     ]
    },
    {
     "name": "stdout",
     "output_type": "stream",
     "text": [
      "Invalid parameter 'splitter' for estimator Pipeline(steps=[('onehot', OneHotEncoder()),\n",
      "                ('estimator', DecisionTreeRegressor())]). Valid parameters are: ['memory', 'steps', 'verbose'].\n"
     ]
    },
    {
     "name": "stderr",
     "output_type": "stream",
     "text": [
      "  1%|          | 257/50400 [07:20<20:57:19,  1.50s/it]"
     ]
    },
    {
     "name": "stdout",
     "output_type": "stream",
     "text": [
      "Invalid parameter 'splitter' for estimator Pipeline(steps=[('onehot', OneHotEncoder()),\n",
      "                ('estimator', DecisionTreeRegressor())]). Valid parameters are: ['memory', 'steps', 'verbose'].\n"
     ]
    },
    {
     "name": "stderr",
     "output_type": "stream",
     "text": [
      "  1%|          | 258/50400 [07:22<23:48:18,  1.71s/it]"
     ]
    },
    {
     "name": "stdout",
     "output_type": "stream",
     "text": [
      "Invalid parameter 'splitter' for estimator Pipeline(steps=[('onehot', OneHotEncoder()),\n",
      "                ('estimator', DecisionTreeRegressor())]). Valid parameters are: ['memory', 'steps', 'verbose'].\n"
     ]
    },
    {
     "name": "stderr",
     "output_type": "stream",
     "text": [
      "  1%|          | 259/50400 [07:23<21:40:47,  1.56s/it]"
     ]
    },
    {
     "name": "stdout",
     "output_type": "stream",
     "text": [
      "Invalid parameter 'splitter' for estimator Pipeline(steps=[('onehot', OneHotEncoder()),\n",
      "                ('estimator', DecisionTreeRegressor())]). Valid parameters are: ['memory', 'steps', 'verbose'].\n"
     ]
    },
    {
     "name": "stderr",
     "output_type": "stream",
     "text": [
      "  1%|          | 260/50400 [07:25<21:53:17,  1.57s/it]"
     ]
    },
    {
     "name": "stdout",
     "output_type": "stream",
     "text": [
      "Invalid parameter 'splitter' for estimator Pipeline(steps=[('onehot', OneHotEncoder()),\n",
      "                ('estimator', DecisionTreeRegressor())]). Valid parameters are: ['memory', 'steps', 'verbose'].\n"
     ]
    },
    {
     "name": "stderr",
     "output_type": "stream",
     "text": [
      "  1%|          | 261/50400 [07:26<21:05:14,  1.51s/it]"
     ]
    },
    {
     "name": "stdout",
     "output_type": "stream",
     "text": [
      "Invalid parameter 'splitter' for estimator Pipeline(steps=[('onehot', OneHotEncoder()),\n",
      "                ('estimator', DecisionTreeRegressor())]). Valid parameters are: ['memory', 'steps', 'verbose'].\n"
     ]
    },
    {
     "name": "stderr",
     "output_type": "stream",
     "text": [
      "  1%|          | 262/50400 [07:28<21:04:02,  1.51s/it]"
     ]
    },
    {
     "name": "stdout",
     "output_type": "stream",
     "text": [
      "Invalid parameter 'splitter' for estimator Pipeline(steps=[('onehot', OneHotEncoder()),\n",
      "                ('estimator', DecisionTreeRegressor())]). Valid parameters are: ['memory', 'steps', 'verbose'].\n"
     ]
    },
    {
     "name": "stderr",
     "output_type": "stream",
     "text": [
      "  1%|          | 263/50400 [07:29<19:35:13,  1.41s/it]"
     ]
    },
    {
     "name": "stdout",
     "output_type": "stream",
     "text": [
      "Invalid parameter 'splitter' for estimator Pipeline(steps=[('onehot', OneHotEncoder()),\n",
      "                ('estimator', DecisionTreeRegressor())]). Valid parameters are: ['memory', 'steps', 'verbose'].\n"
     ]
    },
    {
     "name": "stderr",
     "output_type": "stream",
     "text": [
      "  1%|          | 264/50400 [07:30<19:03:38,  1.37s/it]"
     ]
    },
    {
     "name": "stdout",
     "output_type": "stream",
     "text": [
      "Invalid parameter 'splitter' for estimator Pipeline(steps=[('onehot', OneHotEncoder()),\n",
      "                ('estimator', DecisionTreeRegressor())]). Valid parameters are: ['memory', 'steps', 'verbose'].\n"
     ]
    },
    {
     "name": "stderr",
     "output_type": "stream",
     "text": [
      "  1%|          | 265/50400 [07:31<17:06:25,  1.23s/it]"
     ]
    },
    {
     "name": "stdout",
     "output_type": "stream",
     "text": [
      "Invalid parameter 'splitter' for estimator Pipeline(steps=[('onehot', OneHotEncoder()),\n",
      "                ('estimator', DecisionTreeRegressor())]). Valid parameters are: ['memory', 'steps', 'verbose'].\n"
     ]
    },
    {
     "name": "stderr",
     "output_type": "stream",
     "text": [
      "  1%|          | 266/50400 [07:32<15:45:55,  1.13s/it]"
     ]
    },
    {
     "name": "stdout",
     "output_type": "stream",
     "text": [
      "Invalid parameter 'splitter' for estimator Pipeline(steps=[('onehot', OneHotEncoder()),\n",
      "                ('estimator', DecisionTreeRegressor())]). Valid parameters are: ['memory', 'steps', 'verbose'].\n"
     ]
    },
    {
     "name": "stderr",
     "output_type": "stream",
     "text": [
      "  1%|          | 267/50400 [07:33<14:07:05,  1.01s/it]"
     ]
    },
    {
     "name": "stdout",
     "output_type": "stream",
     "text": [
      "Invalid parameter 'splitter' for estimator Pipeline(steps=[('onehot', OneHotEncoder()),\n",
      "                ('estimator', DecisionTreeRegressor())]). Valid parameters are: ['memory', 'steps', 'verbose'].\n"
     ]
    },
    {
     "name": "stderr",
     "output_type": "stream",
     "text": [
      "  1%|          | 268/50400 [07:33<13:21:37,  1.04it/s]"
     ]
    },
    {
     "name": "stdout",
     "output_type": "stream",
     "text": [
      "Invalid parameter 'splitter' for estimator Pipeline(steps=[('onehot', OneHotEncoder()),\n",
      "                ('estimator', DecisionTreeRegressor())]). Valid parameters are: ['memory', 'steps', 'verbose'].\n"
     ]
    },
    {
     "name": "stderr",
     "output_type": "stream",
     "text": [
      "  1%|          | 269/50400 [07:34<12:31:55,  1.11it/s]"
     ]
    },
    {
     "name": "stdout",
     "output_type": "stream",
     "text": [
      "Invalid parameter 'splitter' for estimator Pipeline(steps=[('onehot', OneHotEncoder()),\n",
      "                ('estimator', DecisionTreeRegressor())]). Valid parameters are: ['memory', 'steps', 'verbose'].\n"
     ]
    },
    {
     "name": "stderr",
     "output_type": "stream",
     "text": [
      "  1%|          | 270/50400 [07:35<12:16:14,  1.13it/s]"
     ]
    },
    {
     "name": "stdout",
     "output_type": "stream",
     "text": [
      "Invalid parameter 'splitter' for estimator Pipeline(steps=[('onehot', OneHotEncoder()),\n",
      "                ('estimator', DecisionTreeRegressor())]). Valid parameters are: ['memory', 'steps', 'verbose'].\n"
     ]
    },
    {
     "name": "stderr",
     "output_type": "stream",
     "text": [
      "  1%|          | 271/50400 [07:36<12:47:04,  1.09it/s]"
     ]
    },
    {
     "name": "stdout",
     "output_type": "stream",
     "text": [
      "Invalid parameter 'splitter' for estimator Pipeline(steps=[('onehot', OneHotEncoder()),\n",
      "                ('estimator', DecisionTreeRegressor())]). Valid parameters are: ['memory', 'steps', 'verbose'].\n"
     ]
    },
    {
     "name": "stderr",
     "output_type": "stream",
     "text": [
      "  1%|          | 272/50400 [07:37<13:00:07,  1.07it/s]"
     ]
    },
    {
     "name": "stdout",
     "output_type": "stream",
     "text": [
      "Invalid parameter 'splitter' for estimator Pipeline(steps=[('onehot', OneHotEncoder()),\n",
      "                ('estimator', DecisionTreeRegressor())]). Valid parameters are: ['memory', 'steps', 'verbose'].\n"
     ]
    },
    {
     "name": "stderr",
     "output_type": "stream",
     "text": [
      "  1%|          | 273/50400 [07:38<12:45:30,  1.09it/s]"
     ]
    },
    {
     "name": "stdout",
     "output_type": "stream",
     "text": [
      "Invalid parameter 'splitter' for estimator Pipeline(steps=[('onehot', OneHotEncoder()),\n",
      "                ('estimator', DecisionTreeRegressor())]). Valid parameters are: ['memory', 'steps', 'verbose'].\n"
     ]
    },
    {
     "name": "stderr",
     "output_type": "stream",
     "text": [
      "  1%|          | 274/50400 [07:39<12:20:31,  1.13it/s]"
     ]
    },
    {
     "name": "stdout",
     "output_type": "stream",
     "text": [
      "Invalid parameter 'splitter' for estimator Pipeline(steps=[('onehot', OneHotEncoder()),\n",
      "                ('estimator', DecisionTreeRegressor())]). Valid parameters are: ['memory', 'steps', 'verbose'].\n"
     ]
    },
    {
     "name": "stderr",
     "output_type": "stream",
     "text": [
      "  1%|          | 275/50400 [07:40<12:46:41,  1.09it/s]"
     ]
    },
    {
     "name": "stdout",
     "output_type": "stream",
     "text": [
      "Invalid parameter 'splitter' for estimator Pipeline(steps=[('onehot', OneHotEncoder()),\n",
      "                ('estimator', DecisionTreeRegressor())]). Valid parameters are: ['memory', 'steps', 'verbose'].\n"
     ]
    },
    {
     "name": "stderr",
     "output_type": "stream",
     "text": [
      "  1%|          | 276/50400 [07:40<12:27:52,  1.12it/s]"
     ]
    },
    {
     "name": "stdout",
     "output_type": "stream",
     "text": [
      "Invalid parameter 'splitter' for estimator Pipeline(steps=[('onehot', OneHotEncoder()),\n",
      "                ('estimator', DecisionTreeRegressor())]). Valid parameters are: ['memory', 'steps', 'verbose'].\n"
     ]
    },
    {
     "name": "stderr",
     "output_type": "stream",
     "text": [
      "  1%|          | 277/50400 [07:41<12:34:32,  1.11it/s]"
     ]
    },
    {
     "name": "stdout",
     "output_type": "stream",
     "text": [
      "Invalid parameter 'splitter' for estimator Pipeline(steps=[('onehot', OneHotEncoder()),\n",
      "                ('estimator', DecisionTreeRegressor())]). Valid parameters are: ['memory', 'steps', 'verbose'].\n"
     ]
    },
    {
     "name": "stderr",
     "output_type": "stream",
     "text": [
      "  1%|          | 278/50400 [07:42<11:44:50,  1.19it/s]"
     ]
    },
    {
     "name": "stdout",
     "output_type": "stream",
     "text": [
      "Invalid parameter 'splitter' for estimator Pipeline(steps=[('onehot', OneHotEncoder()),\n",
      "                ('estimator', DecisionTreeRegressor())]). Valid parameters are: ['memory', 'steps', 'verbose'].\n"
     ]
    },
    {
     "name": "stderr",
     "output_type": "stream",
     "text": [
      "  1%|          | 279/50400 [07:44<16:22:25,  1.18s/it]"
     ]
    },
    {
     "name": "stdout",
     "output_type": "stream",
     "text": [
      "Invalid parameter 'splitter' for estimator Pipeline(steps=[('onehot', OneHotEncoder()),\n",
      "                ('estimator', DecisionTreeRegressor())]). Valid parameters are: ['memory', 'steps', 'verbose'].\n"
     ]
    },
    {
     "name": "stderr",
     "output_type": "stream",
     "text": [
      "  1%|          | 280/50400 [07:45<15:57:40,  1.15s/it]"
     ]
    },
    {
     "name": "stdout",
     "output_type": "stream",
     "text": [
      "Invalid parameter 'splitter' for estimator Pipeline(steps=[('onehot', OneHotEncoder()),\n",
      "                ('estimator', DecisionTreeRegressor())]). Valid parameters are: ['memory', 'steps', 'verbose'].\n"
     ]
    },
    {
     "name": "stderr",
     "output_type": "stream",
     "text": [
      "  1%|          | 281/50400 [07:46<15:06:54,  1.09s/it]"
     ]
    },
    {
     "name": "stdout",
     "output_type": "stream",
     "text": [
      "Invalid parameter 'splitter' for estimator Pipeline(steps=[('onehot', OneHotEncoder()),\n",
      "                ('estimator', DecisionTreeRegressor())]). Valid parameters are: ['memory', 'steps', 'verbose'].\n"
     ]
    },
    {
     "name": "stderr",
     "output_type": "stream",
     "text": [
      "  1%|          | 282/50400 [07:47<15:19:23,  1.10s/it]"
     ]
    },
    {
     "name": "stdout",
     "output_type": "stream",
     "text": [
      "Invalid parameter 'splitter' for estimator Pipeline(steps=[('onehot', OneHotEncoder()),\n",
      "                ('estimator', DecisionTreeRegressor())]). Valid parameters are: ['memory', 'steps', 'verbose'].\n"
     ]
    },
    {
     "name": "stderr",
     "output_type": "stream",
     "text": [
      "  1%|          | 283/50400 [07:48<14:00:24,  1.01s/it]"
     ]
    },
    {
     "name": "stdout",
     "output_type": "stream",
     "text": [
      "Invalid parameter 'splitter' for estimator Pipeline(steps=[('onehot', OneHotEncoder()),\n",
      "                ('estimator', DecisionTreeRegressor())]). Valid parameters are: ['memory', 'steps', 'verbose'].\n"
     ]
    },
    {
     "name": "stderr",
     "output_type": "stream",
     "text": [
      "  1%|          | 284/50400 [07:49<13:10:24,  1.06it/s]"
     ]
    },
    {
     "name": "stdout",
     "output_type": "stream",
     "text": [
      "Invalid parameter 'splitter' for estimator Pipeline(steps=[('onehot', OneHotEncoder()),\n",
      "                ('estimator', DecisionTreeRegressor())]). Valid parameters are: ['memory', 'steps', 'verbose'].\n"
     ]
    },
    {
     "name": "stderr",
     "output_type": "stream",
     "text": [
      "  1%|          | 285/50400 [07:50<12:37:07,  1.10it/s]"
     ]
    },
    {
     "name": "stdout",
     "output_type": "stream",
     "text": [
      "Invalid parameter 'splitter' for estimator Pipeline(steps=[('onehot', OneHotEncoder()),\n",
      "                ('estimator', DecisionTreeRegressor())]). Valid parameters are: ['memory', 'steps', 'verbose'].\n"
     ]
    },
    {
     "name": "stderr",
     "output_type": "stream",
     "text": [
      "  1%|          | 286/50400 [07:50<11:44:23,  1.19it/s]"
     ]
    },
    {
     "name": "stdout",
     "output_type": "stream",
     "text": [
      "Invalid parameter 'splitter' for estimator Pipeline(steps=[('onehot', OneHotEncoder()),\n",
      "                ('estimator', DecisionTreeRegressor())]). Valid parameters are: ['memory', 'steps', 'verbose'].\n"
     ]
    },
    {
     "name": "stderr",
     "output_type": "stream",
     "text": [
      "  1%|          | 287/50400 [07:51<11:26:58,  1.22it/s]"
     ]
    },
    {
     "name": "stdout",
     "output_type": "stream",
     "text": [
      "Invalid parameter 'splitter' for estimator Pipeline(steps=[('onehot', OneHotEncoder()),\n",
      "                ('estimator', DecisionTreeRegressor())]). Valid parameters are: ['memory', 'steps', 'verbose'].\n"
     ]
    },
    {
     "name": "stderr",
     "output_type": "stream",
     "text": [
      "  1%|          | 288/50400 [07:52<10:57:55,  1.27it/s]"
     ]
    },
    {
     "name": "stdout",
     "output_type": "stream",
     "text": [
      "Invalid parameter 'splitter' for estimator Pipeline(steps=[('onehot', OneHotEncoder()),\n",
      "                ('estimator', DecisionTreeRegressor())]). Valid parameters are: ['memory', 'steps', 'verbose'].\n"
     ]
    },
    {
     "name": "stderr",
     "output_type": "stream",
     "text": [
      "  1%|          | 289/50400 [07:53<11:21:18,  1.23it/s]"
     ]
    },
    {
     "name": "stdout",
     "output_type": "stream",
     "text": [
      "Invalid parameter 'splitter' for estimator Pipeline(steps=[('onehot', OneHotEncoder()),\n",
      "                ('estimator', DecisionTreeRegressor())]). Valid parameters are: ['memory', 'steps', 'verbose'].\n"
     ]
    },
    {
     "name": "stderr",
     "output_type": "stream",
     "text": [
      "  1%|          | 290/50400 [07:53<11:03:05,  1.26it/s]"
     ]
    },
    {
     "name": "stdout",
     "output_type": "stream",
     "text": [
      "Invalid parameter 'splitter' for estimator Pipeline(steps=[('onehot', OneHotEncoder()),\n",
      "                ('estimator', DecisionTreeRegressor())]). Valid parameters are: ['memory', 'steps', 'verbose'].\n"
     ]
    },
    {
     "name": "stderr",
     "output_type": "stream",
     "text": [
      "  1%|          | 291/50400 [07:54<10:48:26,  1.29it/s]"
     ]
    },
    {
     "name": "stdout",
     "output_type": "stream",
     "text": [
      "Invalid parameter 'splitter' for estimator Pipeline(steps=[('onehot', OneHotEncoder()),\n",
      "                ('estimator', DecisionTreeRegressor())]). Valid parameters are: ['memory', 'steps', 'verbose'].\n"
     ]
    },
    {
     "name": "stderr",
     "output_type": "stream",
     "text": [
      "  1%|          | 292/50400 [07:55<10:34:35,  1.32it/s]"
     ]
    },
    {
     "name": "stdout",
     "output_type": "stream",
     "text": [
      "Invalid parameter 'splitter' for estimator Pipeline(steps=[('onehot', OneHotEncoder()),\n",
      "                ('estimator', DecisionTreeRegressor())]). Valid parameters are: ['memory', 'steps', 'verbose'].\n"
     ]
    },
    {
     "name": "stderr",
     "output_type": "stream",
     "text": [
      "  1%|          | 293/50400 [07:56<10:53:31,  1.28it/s]"
     ]
    },
    {
     "name": "stdout",
     "output_type": "stream",
     "text": [
      "Invalid parameter 'splitter' for estimator Pipeline(steps=[('onehot', OneHotEncoder()),\n",
      "                ('estimator', DecisionTreeRegressor())]). Valid parameters are: ['memory', 'steps', 'verbose'].\n"
     ]
    },
    {
     "name": "stderr",
     "output_type": "stream",
     "text": [
      "  1%|          | 294/50400 [07:56<10:29:11,  1.33it/s]"
     ]
    },
    {
     "name": "stdout",
     "output_type": "stream",
     "text": [
      "Invalid parameter 'splitter' for estimator Pipeline(steps=[('onehot', OneHotEncoder()),\n",
      "                ('estimator', DecisionTreeRegressor())]). Valid parameters are: ['memory', 'steps', 'verbose'].\n"
     ]
    },
    {
     "name": "stderr",
     "output_type": "stream",
     "text": [
      "  1%|          | 295/50400 [07:57<10:25:24,  1.34it/s]"
     ]
    },
    {
     "name": "stdout",
     "output_type": "stream",
     "text": [
      "Invalid parameter 'splitter' for estimator Pipeline(steps=[('onehot', OneHotEncoder()),\n",
      "                ('estimator', DecisionTreeRegressor())]). Valid parameters are: ['memory', 'steps', 'verbose'].\n"
     ]
    },
    {
     "name": "stderr",
     "output_type": "stream",
     "text": [
      "  1%|          | 296/50400 [07:58<10:42:07,  1.30it/s]"
     ]
    },
    {
     "name": "stdout",
     "output_type": "stream",
     "text": [
      "Invalid parameter 'splitter' for estimator Pipeline(steps=[('onehot', OneHotEncoder()),\n",
      "                ('estimator', DecisionTreeRegressor())]). Valid parameters are: ['memory', 'steps', 'verbose'].\n"
     ]
    },
    {
     "name": "stderr",
     "output_type": "stream",
     "text": [
      "  1%|          | 297/50400 [07:59<10:57:53,  1.27it/s]"
     ]
    },
    {
     "name": "stdout",
     "output_type": "stream",
     "text": [
      "Invalid parameter 'splitter' for estimator Pipeline(steps=[('onehot', OneHotEncoder()),\n",
      "                ('estimator', DecisionTreeRegressor())]). Valid parameters are: ['memory', 'steps', 'verbose'].\n"
     ]
    },
    {
     "name": "stderr",
     "output_type": "stream",
     "text": [
      "  1%|          | 298/50400 [07:59<10:29:56,  1.33it/s]"
     ]
    },
    {
     "name": "stdout",
     "output_type": "stream",
     "text": [
      "Invalid parameter 'splitter' for estimator Pipeline(steps=[('onehot', OneHotEncoder()),\n",
      "                ('estimator', DecisionTreeRegressor())]). Valid parameters are: ['memory', 'steps', 'verbose'].\n"
     ]
    },
    {
     "name": "stderr",
     "output_type": "stream",
     "text": [
      "  1%|          | 299/50400 [08:00<10:31:47,  1.32it/s]"
     ]
    },
    {
     "name": "stdout",
     "output_type": "stream",
     "text": [
      "Invalid parameter 'splitter' for estimator Pipeline(steps=[('onehot', OneHotEncoder()),\n",
      "                ('estimator', DecisionTreeRegressor())]). Valid parameters are: ['memory', 'steps', 'verbose'].\n"
     ]
    },
    {
     "name": "stderr",
     "output_type": "stream",
     "text": [
      "  1%|          | 300/50400 [08:01<10:35:22,  1.31it/s]"
     ]
    },
    {
     "name": "stdout",
     "output_type": "stream",
     "text": [
      "Invalid parameter 'splitter' for estimator Pipeline(steps=[('onehot', OneHotEncoder()),\n",
      "                ('estimator', DecisionTreeRegressor())]). Valid parameters are: ['memory', 'steps', 'verbose'].\n"
     ]
    },
    {
     "name": "stderr",
     "output_type": "stream",
     "text": [
      "  1%|          | 301/50400 [08:02<11:14:40,  1.24it/s]"
     ]
    },
    {
     "name": "stdout",
     "output_type": "stream",
     "text": [
      "Invalid parameter 'splitter' for estimator Pipeline(steps=[('onehot', OneHotEncoder()),\n",
      "                ('estimator', DecisionTreeRegressor())]). Valid parameters are: ['memory', 'steps', 'verbose'].\n"
     ]
    },
    {
     "name": "stderr",
     "output_type": "stream",
     "text": [
      "  1%|          | 302/50400 [08:03<11:11:42,  1.24it/s]"
     ]
    },
    {
     "name": "stdout",
     "output_type": "stream",
     "text": [
      "Invalid parameter 'splitter' for estimator Pipeline(steps=[('onehot', OneHotEncoder()),\n",
      "                ('estimator', DecisionTreeRegressor())]). Valid parameters are: ['memory', 'steps', 'verbose'].\n"
     ]
    },
    {
     "name": "stderr",
     "output_type": "stream",
     "text": [
      "  1%|          | 303/50400 [08:03<11:06:59,  1.25it/s]"
     ]
    },
    {
     "name": "stdout",
     "output_type": "stream",
     "text": [
      "Invalid parameter 'splitter' for estimator Pipeline(steps=[('onehot', OneHotEncoder()),\n",
      "                ('estimator', DecisionTreeRegressor())]). Valid parameters are: ['memory', 'steps', 'verbose'].\n"
     ]
    },
    {
     "name": "stderr",
     "output_type": "stream",
     "text": [
      "  1%|          | 304/50400 [08:04<11:14:09,  1.24it/s]"
     ]
    },
    {
     "name": "stdout",
     "output_type": "stream",
     "text": [
      "Invalid parameter 'splitter' for estimator Pipeline(steps=[('onehot', OneHotEncoder()),\n",
      "                ('estimator', DecisionTreeRegressor())]). Valid parameters are: ['memory', 'steps', 'verbose'].\n"
     ]
    },
    {
     "name": "stderr",
     "output_type": "stream",
     "text": [
      "  1%|          | 305/50400 [08:05<10:38:36,  1.31it/s]"
     ]
    },
    {
     "name": "stdout",
     "output_type": "stream",
     "text": [
      "Invalid parameter 'splitter' for estimator Pipeline(steps=[('onehot', OneHotEncoder()),\n",
      "                ('estimator', DecisionTreeRegressor())]). Valid parameters are: ['memory', 'steps', 'verbose'].\n"
     ]
    },
    {
     "name": "stderr",
     "output_type": "stream",
     "text": [
      "  1%|          | 306/50400 [08:06<10:36:10,  1.31it/s]"
     ]
    },
    {
     "name": "stdout",
     "output_type": "stream",
     "text": [
      "Invalid parameter 'splitter' for estimator Pipeline(steps=[('onehot', OneHotEncoder()),\n",
      "                ('estimator', DecisionTreeRegressor())]). Valid parameters are: ['memory', 'steps', 'verbose'].\n"
     ]
    },
    {
     "name": "stderr",
     "output_type": "stream",
     "text": [
      "  1%|          | 307/50400 [08:06<10:15:30,  1.36it/s]"
     ]
    },
    {
     "name": "stdout",
     "output_type": "stream",
     "text": [
      "Invalid parameter 'splitter' for estimator Pipeline(steps=[('onehot', OneHotEncoder()),\n",
      "                ('estimator', DecisionTreeRegressor())]). Valid parameters are: ['memory', 'steps', 'verbose'].\n"
     ]
    },
    {
     "name": "stderr",
     "output_type": "stream",
     "text": [
      "  1%|          | 308/50400 [08:07<11:03:04,  1.26it/s]"
     ]
    },
    {
     "name": "stdout",
     "output_type": "stream",
     "text": [
      "Invalid parameter 'splitter' for estimator Pipeline(steps=[('onehot', OneHotEncoder()),\n",
      "                ('estimator', DecisionTreeRegressor())]). Valid parameters are: ['memory', 'steps', 'verbose'].\n"
     ]
    },
    {
     "name": "stderr",
     "output_type": "stream",
     "text": [
      "  1%|          | 309/50400 [08:08<10:47:18,  1.29it/s]"
     ]
    },
    {
     "name": "stdout",
     "output_type": "stream",
     "text": [
      "Invalid parameter 'splitter' for estimator Pipeline(steps=[('onehot', OneHotEncoder()),\n",
      "                ('estimator', DecisionTreeRegressor())]). Valid parameters are: ['memory', 'steps', 'verbose'].\n"
     ]
    },
    {
     "name": "stderr",
     "output_type": "stream",
     "text": [
      "  1%|          | 310/50400 [08:09<10:21:54,  1.34it/s]"
     ]
    },
    {
     "name": "stdout",
     "output_type": "stream",
     "text": [
      "Invalid parameter 'splitter' for estimator Pipeline(steps=[('onehot', OneHotEncoder()),\n",
      "                ('estimator', DecisionTreeRegressor())]). Valid parameters are: ['memory', 'steps', 'verbose'].\n"
     ]
    },
    {
     "name": "stderr",
     "output_type": "stream",
     "text": [
      "  1%|          | 311/50400 [08:09<10:09:57,  1.37it/s]"
     ]
    },
    {
     "name": "stdout",
     "output_type": "stream",
     "text": [
      "Invalid parameter 'splitter' for estimator Pipeline(steps=[('onehot', OneHotEncoder()),\n",
      "                ('estimator', DecisionTreeRegressor())]). Valid parameters are: ['memory', 'steps', 'verbose'].\n"
     ]
    },
    {
     "name": "stderr",
     "output_type": "stream",
     "text": [
      "  1%|          | 312/50400 [08:10<10:49:36,  1.29it/s]"
     ]
    },
    {
     "name": "stdout",
     "output_type": "stream",
     "text": [
      "Invalid parameter 'splitter' for estimator Pipeline(steps=[('onehot', OneHotEncoder()),\n",
      "                ('estimator', DecisionTreeRegressor())]). Valid parameters are: ['memory', 'steps', 'verbose'].\n"
     ]
    },
    {
     "name": "stderr",
     "output_type": "stream",
     "text": [
      "  1%|          | 313/50400 [08:11<10:28:43,  1.33it/s]"
     ]
    },
    {
     "name": "stdout",
     "output_type": "stream",
     "text": [
      "Invalid parameter 'splitter' for estimator Pipeline(steps=[('onehot', OneHotEncoder()),\n",
      "                ('estimator', DecisionTreeRegressor())]). Valid parameters are: ['memory', 'steps', 'verbose'].\n"
     ]
    },
    {
     "name": "stderr",
     "output_type": "stream",
     "text": [
      "  1%|          | 314/50400 [08:12<13:26:43,  1.03it/s]"
     ]
    },
    {
     "name": "stdout",
     "output_type": "stream",
     "text": [
      "Invalid parameter 'splitter' for estimator Pipeline(steps=[('onehot', OneHotEncoder()),\n",
      "                ('estimator', DecisionTreeRegressor())]). Valid parameters are: ['memory', 'steps', 'verbose'].\n"
     ]
    },
    {
     "name": "stderr",
     "output_type": "stream",
     "text": [
      "  1%|          | 315/50400 [08:14<14:23:45,  1.03s/it]"
     ]
    },
    {
     "name": "stdout",
     "output_type": "stream",
     "text": [
      "Invalid parameter 'splitter' for estimator Pipeline(steps=[('onehot', OneHotEncoder()),\n",
      "                ('estimator', DecisionTreeRegressor())]). Valid parameters are: ['memory', 'steps', 'verbose'].\n"
     ]
    },
    {
     "name": "stderr",
     "output_type": "stream",
     "text": [
      "  1%|          | 316/50400 [08:14<13:06:08,  1.06it/s]"
     ]
    },
    {
     "name": "stdout",
     "output_type": "stream",
     "text": [
      "Invalid parameter 'splitter' for estimator Pipeline(steps=[('onehot', OneHotEncoder()),\n",
      "                ('estimator', DecisionTreeRegressor())]). Valid parameters are: ['memory', 'steps', 'verbose'].\n"
     ]
    },
    {
     "name": "stderr",
     "output_type": "stream",
     "text": [
      "  1%|          | 317/50400 [08:16<13:52:33,  1.00it/s]"
     ]
    },
    {
     "name": "stdout",
     "output_type": "stream",
     "text": [
      "Invalid parameter 'splitter' for estimator Pipeline(steps=[('onehot', OneHotEncoder()),\n",
      "                ('estimator', DecisionTreeRegressor())]). Valid parameters are: ['memory', 'steps', 'verbose'].\n"
     ]
    },
    {
     "name": "stderr",
     "output_type": "stream",
     "text": [
      "  1%|          | 318/50400 [08:17<13:54:14,  1.00it/s]"
     ]
    },
    {
     "name": "stdout",
     "output_type": "stream",
     "text": [
      "Invalid parameter 'splitter' for estimator Pipeline(steps=[('onehot', OneHotEncoder()),\n",
      "                ('estimator', DecisionTreeRegressor())]). Valid parameters are: ['memory', 'steps', 'verbose'].\n"
     ]
    },
    {
     "name": "stderr",
     "output_type": "stream",
     "text": [
      "  1%|          | 319/50400 [08:17<13:51:08,  1.00it/s]"
     ]
    },
    {
     "name": "stdout",
     "output_type": "stream",
     "text": [
      "Invalid parameter 'splitter' for estimator Pipeline(steps=[('onehot', OneHotEncoder()),\n",
      "                ('estimator', DecisionTreeRegressor())]). Valid parameters are: ['memory', 'steps', 'verbose'].\n"
     ]
    },
    {
     "name": "stderr",
     "output_type": "stream",
     "text": [
      "  1%|          | 320/50400 [08:18<13:25:43,  1.04it/s]"
     ]
    },
    {
     "name": "stdout",
     "output_type": "stream",
     "text": [
      "Invalid parameter 'splitter' for estimator Pipeline(steps=[('onehot', OneHotEncoder()),\n",
      "                ('estimator', DecisionTreeRegressor())]). Valid parameters are: ['memory', 'steps', 'verbose'].\n"
     ]
    },
    {
     "name": "stderr",
     "output_type": "stream",
     "text": [
      "  1%|          | 321/50400 [08:19<13:30:40,  1.03it/s]"
     ]
    },
    {
     "name": "stdout",
     "output_type": "stream",
     "text": [
      "Invalid parameter 'splitter' for estimator Pipeline(steps=[('onehot', OneHotEncoder()),\n",
      "                ('estimator', DecisionTreeRegressor())]). Valid parameters are: ['memory', 'steps', 'verbose'].\n"
     ]
    },
    {
     "name": "stderr",
     "output_type": "stream",
     "text": [
      "  1%|          | 322/50400 [08:20<13:04:33,  1.06it/s]"
     ]
    },
    {
     "name": "stdout",
     "output_type": "stream",
     "text": [
      "Invalid parameter 'splitter' for estimator Pipeline(steps=[('onehot', OneHotEncoder()),\n",
      "                ('estimator', DecisionTreeRegressor())]). Valid parameters are: ['memory', 'steps', 'verbose'].\n"
     ]
    },
    {
     "name": "stderr",
     "output_type": "stream",
     "text": [
      "  1%|          | 323/50400 [08:21<13:51:57,  1.00it/s]"
     ]
    },
    {
     "name": "stdout",
     "output_type": "stream",
     "text": [
      "Invalid parameter 'splitter' for estimator Pipeline(steps=[('onehot', OneHotEncoder()),\n",
      "                ('estimator', DecisionTreeRegressor())]). Valid parameters are: ['memory', 'steps', 'verbose'].\n"
     ]
    },
    {
     "name": "stderr",
     "output_type": "stream",
     "text": [
      "  1%|          | 324/50400 [08:23<17:02:52,  1.23s/it]"
     ]
    },
    {
     "name": "stdout",
     "output_type": "stream",
     "text": [
      "Invalid parameter 'splitter' for estimator Pipeline(steps=[('onehot', OneHotEncoder()),\n",
      "                ('estimator', DecisionTreeRegressor())]). Valid parameters are: ['memory', 'steps', 'verbose'].\n"
     ]
    },
    {
     "name": "stderr",
     "output_type": "stream",
     "text": [
      "  1%|          | 325/50400 [08:24<17:06:41,  1.23s/it]"
     ]
    },
    {
     "name": "stdout",
     "output_type": "stream",
     "text": [
      "Invalid parameter 'splitter' for estimator Pipeline(steps=[('onehot', OneHotEncoder()),\n",
      "                ('estimator', DecisionTreeRegressor())]). Valid parameters are: ['memory', 'steps', 'verbose'].\n"
     ]
    },
    {
     "name": "stderr",
     "output_type": "stream",
     "text": [
      "  1%|          | 326/50400 [08:26<19:36:07,  1.41s/it]"
     ]
    },
    {
     "name": "stdout",
     "output_type": "stream",
     "text": [
      "Invalid parameter 'splitter' for estimator Pipeline(steps=[('onehot', OneHotEncoder()),\n",
      "                ('estimator', DecisionTreeRegressor())]). Valid parameters are: ['memory', 'steps', 'verbose'].\n"
     ]
    },
    {
     "name": "stderr",
     "output_type": "stream",
     "text": [
      "  1%|          | 327/50400 [08:27<19:07:49,  1.38s/it]"
     ]
    },
    {
     "name": "stdout",
     "output_type": "stream",
     "text": [
      "Invalid parameter 'splitter' for estimator Pipeline(steps=[('onehot', OneHotEncoder()),\n",
      "                ('estimator', DecisionTreeRegressor())]). Valid parameters are: ['memory', 'steps', 'verbose'].\n"
     ]
    },
    {
     "name": "stderr",
     "output_type": "stream",
     "text": [
      "  1%|          | 328/50400 [08:28<17:32:25,  1.26s/it]"
     ]
    },
    {
     "name": "stdout",
     "output_type": "stream",
     "text": [
      "Invalid parameter 'splitter' for estimator Pipeline(steps=[('onehot', OneHotEncoder()),\n",
      "                ('estimator', DecisionTreeRegressor())]). Valid parameters are: ['memory', 'steps', 'verbose'].\n"
     ]
    },
    {
     "name": "stderr",
     "output_type": "stream",
     "text": [
      "  1%|          | 329/50400 [08:29<15:20:51,  1.10s/it]"
     ]
    },
    {
     "name": "stdout",
     "output_type": "stream",
     "text": [
      "Invalid parameter 'splitter' for estimator Pipeline(steps=[('onehot', OneHotEncoder()),\n",
      "                ('estimator', DecisionTreeRegressor())]). Valid parameters are: ['memory', 'steps', 'verbose'].\n"
     ]
    },
    {
     "name": "stderr",
     "output_type": "stream",
     "text": [
      "  1%|          | 330/50400 [08:30<14:10:53,  1.02s/it]"
     ]
    },
    {
     "name": "stdout",
     "output_type": "stream",
     "text": [
      "Invalid parameter 'splitter' for estimator Pipeline(steps=[('onehot', OneHotEncoder()),\n",
      "                ('estimator', DecisionTreeRegressor())]). Valid parameters are: ['memory', 'steps', 'verbose'].\n"
     ]
    },
    {
     "name": "stderr",
     "output_type": "stream",
     "text": [
      "  1%|          | 331/50400 [08:31<12:45:17,  1.09it/s]"
     ]
    },
    {
     "name": "stdout",
     "output_type": "stream",
     "text": [
      "Invalid parameter 'splitter' for estimator Pipeline(steps=[('onehot', OneHotEncoder()),\n",
      "                ('estimator', DecisionTreeRegressor())]). Valid parameters are: ['memory', 'steps', 'verbose'].\n"
     ]
    },
    {
     "name": "stderr",
     "output_type": "stream",
     "text": [
      "  1%|          | 332/50400 [08:31<11:47:18,  1.18it/s]"
     ]
    },
    {
     "name": "stdout",
     "output_type": "stream",
     "text": [
      "Invalid parameter 'splitter' for estimator Pipeline(steps=[('onehot', OneHotEncoder()),\n",
      "                ('estimator', DecisionTreeRegressor())]). Valid parameters are: ['memory', 'steps', 'verbose'].\n"
     ]
    },
    {
     "name": "stderr",
     "output_type": "stream",
     "text": [
      "  1%|          | 333/50400 [08:32<11:06:02,  1.25it/s]"
     ]
    },
    {
     "name": "stdout",
     "output_type": "stream",
     "text": [
      "Invalid parameter 'splitter' for estimator Pipeline(steps=[('onehot', OneHotEncoder()),\n",
      "                ('estimator', DecisionTreeRegressor())]). Valid parameters are: ['memory', 'steps', 'verbose'].\n"
     ]
    },
    {
     "name": "stderr",
     "output_type": "stream",
     "text": [
      "  1%|          | 334/50400 [08:33<11:30:21,  1.21it/s]"
     ]
    },
    {
     "name": "stdout",
     "output_type": "stream",
     "text": [
      "Invalid parameter 'splitter' for estimator Pipeline(steps=[('onehot', OneHotEncoder()),\n",
      "                ('estimator', DecisionTreeRegressor())]). Valid parameters are: ['memory', 'steps', 'verbose'].\n"
     ]
    },
    {
     "name": "stderr",
     "output_type": "stream",
     "text": [
      "  1%|          | 335/50400 [08:34<10:58:57,  1.27it/s]"
     ]
    },
    {
     "name": "stdout",
     "output_type": "stream",
     "text": [
      "Invalid parameter 'splitter' for estimator Pipeline(steps=[('onehot', OneHotEncoder()),\n",
      "                ('estimator', DecisionTreeRegressor())]). Valid parameters are: ['memory', 'steps', 'verbose'].\n"
     ]
    },
    {
     "name": "stderr",
     "output_type": "stream",
     "text": [
      "  1%|          | 336/50400 [08:34<10:48:03,  1.29it/s]"
     ]
    },
    {
     "name": "stdout",
     "output_type": "stream",
     "text": [
      "Invalid parameter 'splitter' for estimator Pipeline(steps=[('onehot', OneHotEncoder()),\n",
      "                ('estimator', DecisionTreeRegressor())]). Valid parameters are: ['memory', 'steps', 'verbose'].\n"
     ]
    },
    {
     "name": "stderr",
     "output_type": "stream",
     "text": [
      "  1%|          | 337/50400 [08:35<11:26:25,  1.22it/s]"
     ]
    },
    {
     "name": "stdout",
     "output_type": "stream",
     "text": [
      "Invalid parameter 'splitter' for estimator Pipeline(steps=[('onehot', OneHotEncoder()),\n",
      "                ('estimator', DecisionTreeRegressor())]). Valid parameters are: ['memory', 'steps', 'verbose'].\n"
     ]
    },
    {
     "name": "stderr",
     "output_type": "stream",
     "text": [
      "  1%|          | 338/50400 [08:36<11:14:00,  1.24it/s]"
     ]
    },
    {
     "name": "stdout",
     "output_type": "stream",
     "text": [
      "Invalid parameter 'splitter' for estimator Pipeline(steps=[('onehot', OneHotEncoder()),\n",
      "                ('estimator', DecisionTreeRegressor())]). Valid parameters are: ['memory', 'steps', 'verbose'].\n"
     ]
    },
    {
     "name": "stderr",
     "output_type": "stream",
     "text": [
      "  1%|          | 339/50400 [08:37<10:42:03,  1.30it/s]"
     ]
    },
    {
     "name": "stdout",
     "output_type": "stream",
     "text": [
      "Invalid parameter 'splitter' for estimator Pipeline(steps=[('onehot', OneHotEncoder()),\n",
      "                ('estimator', DecisionTreeRegressor())]). Valid parameters are: ['memory', 'steps', 'verbose'].\n"
     ]
    },
    {
     "name": "stderr",
     "output_type": "stream",
     "text": [
      "  1%|          | 340/50400 [08:37<10:16:11,  1.35it/s]"
     ]
    },
    {
     "name": "stdout",
     "output_type": "stream",
     "text": [
      "Invalid parameter 'splitter' for estimator Pipeline(steps=[('onehot', OneHotEncoder()),\n",
      "                ('estimator', DecisionTreeRegressor())]). Valid parameters are: ['memory', 'steps', 'verbose'].\n"
     ]
    },
    {
     "name": "stderr",
     "output_type": "stream",
     "text": [
      "  1%|          | 341/50400 [08:38<11:05:04,  1.25it/s]"
     ]
    },
    {
     "name": "stdout",
     "output_type": "stream",
     "text": [
      "Invalid parameter 'splitter' for estimator Pipeline(steps=[('onehot', OneHotEncoder()),\n",
      "                ('estimator', DecisionTreeRegressor())]). Valid parameters are: ['memory', 'steps', 'verbose'].\n"
     ]
    },
    {
     "name": "stderr",
     "output_type": "stream",
     "text": [
      "  1%|          | 342/50400 [08:39<10:49:43,  1.28it/s]"
     ]
    },
    {
     "name": "stdout",
     "output_type": "stream",
     "text": [
      "Invalid parameter 'splitter' for estimator Pipeline(steps=[('onehot', OneHotEncoder()),\n",
      "                ('estimator', DecisionTreeRegressor())]). Valid parameters are: ['memory', 'steps', 'verbose'].\n"
     ]
    },
    {
     "name": "stderr",
     "output_type": "stream",
     "text": [
      "  1%|          | 343/50400 [08:40<10:26:04,  1.33it/s]"
     ]
    },
    {
     "name": "stdout",
     "output_type": "stream",
     "text": [
      "Invalid parameter 'splitter' for estimator Pipeline(steps=[('onehot', OneHotEncoder()),\n",
      "                ('estimator', DecisionTreeRegressor())]). Valid parameters are: ['memory', 'steps', 'verbose'].\n"
     ]
    },
    {
     "name": "stderr",
     "output_type": "stream",
     "text": [
      "  1%|          | 344/50400 [08:41<10:03:59,  1.38it/s]"
     ]
    },
    {
     "name": "stdout",
     "output_type": "stream",
     "text": [
      "Invalid parameter 'splitter' for estimator Pipeline(steps=[('onehot', OneHotEncoder()),\n",
      "                ('estimator', DecisionTreeRegressor())]). Valid parameters are: ['memory', 'steps', 'verbose'].\n"
     ]
    },
    {
     "name": "stderr",
     "output_type": "stream",
     "text": [
      "  1%|          | 345/50400 [08:41<10:25:30,  1.33it/s]"
     ]
    },
    {
     "name": "stdout",
     "output_type": "stream",
     "text": [
      "Invalid parameter 'splitter' for estimator Pipeline(steps=[('onehot', OneHotEncoder()),\n",
      "                ('estimator', DecisionTreeRegressor())]). Valid parameters are: ['memory', 'steps', 'verbose'].\n"
     ]
    },
    {
     "name": "stderr",
     "output_type": "stream",
     "text": [
      "  1%|          | 346/50400 [08:42<10:33:24,  1.32it/s]"
     ]
    },
    {
     "name": "stdout",
     "output_type": "stream",
     "text": [
      "Invalid parameter 'splitter' for estimator Pipeline(steps=[('onehot', OneHotEncoder()),\n",
      "                ('estimator', DecisionTreeRegressor())]). Valid parameters are: ['memory', 'steps', 'verbose'].\n"
     ]
    },
    {
     "name": "stderr",
     "output_type": "stream",
     "text": [
      "  1%|          | 347/50400 [08:43<10:12:31,  1.36it/s]"
     ]
    },
    {
     "name": "stdout",
     "output_type": "stream",
     "text": [
      "Invalid parameter 'splitter' for estimator Pipeline(steps=[('onehot', OneHotEncoder()),\n",
      "                ('estimator', DecisionTreeRegressor())]). Valid parameters are: ['memory', 'steps', 'verbose'].\n"
     ]
    },
    {
     "name": "stderr",
     "output_type": "stream",
     "text": [
      "  1%|          | 348/50400 [08:43<10:08:31,  1.37it/s]"
     ]
    },
    {
     "name": "stdout",
     "output_type": "stream",
     "text": [
      "Invalid parameter 'splitter' for estimator Pipeline(steps=[('onehot', OneHotEncoder()),\n",
      "                ('estimator', DecisionTreeRegressor())]). Valid parameters are: ['memory', 'steps', 'verbose'].\n"
     ]
    },
    {
     "name": "stderr",
     "output_type": "stream",
     "text": [
      "  1%|          | 349/50400 [08:44<10:45:59,  1.29it/s]"
     ]
    },
    {
     "name": "stdout",
     "output_type": "stream",
     "text": [
      "Invalid parameter 'splitter' for estimator Pipeline(steps=[('onehot', OneHotEncoder()),\n",
      "                ('estimator', DecisionTreeRegressor())]). Valid parameters are: ['memory', 'steps', 'verbose'].\n"
     ]
    },
    {
     "name": "stderr",
     "output_type": "stream",
     "text": [
      "  1%|          | 350/50400 [08:45<10:34:09,  1.32it/s]"
     ]
    },
    {
     "name": "stdout",
     "output_type": "stream",
     "text": [
      "Invalid parameter 'splitter' for estimator Pipeline(steps=[('onehot', OneHotEncoder()),\n",
      "                ('estimator', DecisionTreeRegressor())]). Valid parameters are: ['memory', 'steps', 'verbose'].\n"
     ]
    },
    {
     "name": "stderr",
     "output_type": "stream",
     "text": [
      "  1%|          | 351/50400 [08:46<11:57:41,  1.16it/s]"
     ]
    },
    {
     "name": "stdout",
     "output_type": "stream",
     "text": [
      "Invalid parameter 'splitter' for estimator Pipeline(steps=[('onehot', OneHotEncoder()),\n",
      "                ('estimator', DecisionTreeRegressor())]). Valid parameters are: ['memory', 'steps', 'verbose'].\n"
     ]
    },
    {
     "name": "stderr",
     "output_type": "stream",
     "text": [
      "  1%|          | 352/50400 [08:47<13:29:07,  1.03it/s]"
     ]
    },
    {
     "name": "stdout",
     "output_type": "stream",
     "text": [
      "Invalid parameter 'splitter' for estimator Pipeline(steps=[('onehot', OneHotEncoder()),\n",
      "                ('estimator', DecisionTreeRegressor())]). Valid parameters are: ['memory', 'steps', 'verbose'].\n"
     ]
    },
    {
     "name": "stderr",
     "output_type": "stream",
     "text": [
      "  1%|          | 353/50400 [08:48<13:35:19,  1.02it/s]"
     ]
    },
    {
     "name": "stdout",
     "output_type": "stream",
     "text": [
      "Invalid parameter 'splitter' for estimator Pipeline(steps=[('onehot', OneHotEncoder()),\n",
      "                ('estimator', DecisionTreeRegressor())]). Valid parameters are: ['memory', 'steps', 'verbose'].\n"
     ]
    },
    {
     "name": "stderr",
     "output_type": "stream",
     "text": [
      "  1%|          | 354/50400 [08:49<12:32:13,  1.11it/s]"
     ]
    },
    {
     "name": "stdout",
     "output_type": "stream",
     "text": [
      "Invalid parameter 'splitter' for estimator Pipeline(steps=[('onehot', OneHotEncoder()),\n",
      "                ('estimator', DecisionTreeRegressor())]). Valid parameters are: ['memory', 'steps', 'verbose'].\n"
     ]
    },
    {
     "name": "stderr",
     "output_type": "stream",
     "text": [
      "  1%|          | 355/50400 [08:50<11:36:59,  1.20it/s]"
     ]
    },
    {
     "name": "stdout",
     "output_type": "stream",
     "text": [
      "Invalid parameter 'splitter' for estimator Pipeline(steps=[('onehot', OneHotEncoder()),\n",
      "                ('estimator', DecisionTreeRegressor())]). Valid parameters are: ['memory', 'steps', 'verbose'].\n"
     ]
    },
    {
     "name": "stderr",
     "output_type": "stream",
     "text": [
      "  1%|          | 356/50400 [08:50<10:55:25,  1.27it/s]"
     ]
    },
    {
     "name": "stdout",
     "output_type": "stream",
     "text": [
      "Invalid parameter 'splitter' for estimator Pipeline(steps=[('onehot', OneHotEncoder()),\n",
      "                ('estimator', DecisionTreeRegressor())]). Valid parameters are: ['memory', 'steps', 'verbose'].\n"
     ]
    },
    {
     "name": "stderr",
     "output_type": "stream",
     "text": [
      "  1%|          | 357/50400 [08:51<11:16:02,  1.23it/s]"
     ]
    },
    {
     "name": "stdout",
     "output_type": "stream",
     "text": [
      "Invalid parameter 'splitter' for estimator Pipeline(steps=[('onehot', OneHotEncoder()),\n",
      "                ('estimator', DecisionTreeRegressor())]). Valid parameters are: ['memory', 'steps', 'verbose'].\n"
     ]
    },
    {
     "name": "stderr",
     "output_type": "stream",
     "text": [
      "  1%|          | 358/50400 [08:52<10:43:30,  1.30it/s]"
     ]
    },
    {
     "name": "stdout",
     "output_type": "stream",
     "text": [
      "Invalid parameter 'splitter' for estimator Pipeline(steps=[('onehot', OneHotEncoder()),\n",
      "                ('estimator', DecisionTreeRegressor())]). Valid parameters are: ['memory', 'steps', 'verbose'].\n"
     ]
    },
    {
     "name": "stderr",
     "output_type": "stream",
     "text": [
      "  1%|          | 359/50400 [08:53<10:20:11,  1.34it/s]"
     ]
    },
    {
     "name": "stdout",
     "output_type": "stream",
     "text": [
      "Invalid parameter 'splitter' for estimator Pipeline(steps=[('onehot', OneHotEncoder()),\n",
      "                ('estimator', DecisionTreeRegressor())]). Valid parameters are: ['memory', 'steps', 'verbose'].\n"
     ]
    },
    {
     "name": "stderr",
     "output_type": "stream",
     "text": [
      "  1%|          | 360/50400 [08:53<10:03:30,  1.38it/s]"
     ]
    },
    {
     "name": "stdout",
     "output_type": "stream",
     "text": [
      "Invalid parameter 'splitter' for estimator Pipeline(steps=[('onehot', OneHotEncoder()),\n",
      "                ('estimator', DecisionTreeRegressor())]). Valid parameters are: ['memory', 'steps', 'verbose'].\n"
     ]
    },
    {
     "name": "stderr",
     "output_type": "stream",
     "text": [
      "  1%|          | 361/50400 [08:54<10:28:33,  1.33it/s]"
     ]
    },
    {
     "name": "stdout",
     "output_type": "stream",
     "text": [
      "Invalid parameter 'splitter' for estimator Pipeline(steps=[('onehot', OneHotEncoder()),\n",
      "                ('estimator', DecisionTreeRegressor())]). Valid parameters are: ['memory', 'steps', 'verbose'].\n"
     ]
    },
    {
     "name": "stderr",
     "output_type": "stream",
     "text": [
      "  1%|          | 362/50400 [08:55<10:05:48,  1.38it/s]"
     ]
    },
    {
     "name": "stdout",
     "output_type": "stream",
     "text": [
      "Invalid parameter 'splitter' for estimator Pipeline(steps=[('onehot', OneHotEncoder()),\n",
      "                ('estimator', DecisionTreeRegressor())]). Valid parameters are: ['memory', 'steps', 'verbose'].\n"
     ]
    },
    {
     "name": "stderr",
     "output_type": "stream",
     "text": [
      "  1%|          | 363/50400 [08:56<9:50:16,  1.41it/s] "
     ]
    },
    {
     "name": "stdout",
     "output_type": "stream",
     "text": [
      "Invalid parameter 'splitter' for estimator Pipeline(steps=[('onehot', OneHotEncoder()),\n",
      "                ('estimator', DecisionTreeRegressor())]). Valid parameters are: ['memory', 'steps', 'verbose'].\n"
     ]
    },
    {
     "name": "stderr",
     "output_type": "stream",
     "text": [
      "  1%|          | 364/50400 [08:56<9:43:59,  1.43it/s]"
     ]
    },
    {
     "name": "stdout",
     "output_type": "stream",
     "text": [
      "Invalid parameter 'splitter' for estimator Pipeline(steps=[('onehot', OneHotEncoder()),\n",
      "                ('estimator', DecisionTreeRegressor())]). Valid parameters are: ['memory', 'steps', 'verbose'].\n"
     ]
    },
    {
     "name": "stderr",
     "output_type": "stream",
     "text": [
      "  1%|          | 365/50400 [08:57<10:16:58,  1.35it/s]"
     ]
    },
    {
     "name": "stdout",
     "output_type": "stream",
     "text": [
      "Invalid parameter 'splitter' for estimator Pipeline(steps=[('onehot', OneHotEncoder()),\n",
      "                ('estimator', DecisionTreeRegressor())]). Valid parameters are: ['memory', 'steps', 'verbose'].\n"
     ]
    },
    {
     "name": "stderr",
     "output_type": "stream",
     "text": [
      "  1%|          | 366/50400 [08:58<10:08:53,  1.37it/s]"
     ]
    },
    {
     "name": "stdout",
     "output_type": "stream",
     "text": [
      "Invalid parameter 'splitter' for estimator Pipeline(steps=[('onehot', OneHotEncoder()),\n",
      "                ('estimator', DecisionTreeRegressor())]). Valid parameters are: ['memory', 'steps', 'verbose'].\n"
     ]
    },
    {
     "name": "stderr",
     "output_type": "stream",
     "text": [
      "  1%|          | 367/50400 [08:58<10:02:50,  1.38it/s]"
     ]
    },
    {
     "name": "stdout",
     "output_type": "stream",
     "text": [
      "Invalid parameter 'splitter' for estimator Pipeline(steps=[('onehot', OneHotEncoder()),\n",
      "                ('estimator', DecisionTreeRegressor())]). Valid parameters are: ['memory', 'steps', 'verbose'].\n"
     ]
    },
    {
     "name": "stderr",
     "output_type": "stream",
     "text": [
      "  1%|          | 368/50400 [08:59<9:49:12,  1.42it/s] "
     ]
    },
    {
     "name": "stdout",
     "output_type": "stream",
     "text": [
      "Invalid parameter 'splitter' for estimator Pipeline(steps=[('onehot', OneHotEncoder()),\n",
      "                ('estimator', DecisionTreeRegressor())]). Valid parameters are: ['memory', 'steps', 'verbose'].\n"
     ]
    },
    {
     "name": "stderr",
     "output_type": "stream",
     "text": [
      "  1%|          | 369/50400 [09:00<10:20:26,  1.34it/s]"
     ]
    },
    {
     "name": "stdout",
     "output_type": "stream",
     "text": [
      "Invalid parameter 'splitter' for estimator Pipeline(steps=[('onehot', OneHotEncoder()),\n",
      "                ('estimator', DecisionTreeRegressor())]). Valid parameters are: ['memory', 'steps', 'verbose'].\n"
     ]
    },
    {
     "name": "stderr",
     "output_type": "stream",
     "text": [
      "  1%|          | 370/50400 [09:01<10:02:14,  1.38it/s]"
     ]
    },
    {
     "name": "stdout",
     "output_type": "stream",
     "text": [
      "Invalid parameter 'splitter' for estimator Pipeline(steps=[('onehot', OneHotEncoder()),\n",
      "                ('estimator', DecisionTreeRegressor())]). Valid parameters are: ['memory', 'steps', 'verbose'].\n"
     ]
    },
    {
     "name": "stderr",
     "output_type": "stream",
     "text": [
      "  1%|          | 371/50400 [09:01<9:46:45,  1.42it/s] "
     ]
    },
    {
     "name": "stdout",
     "output_type": "stream",
     "text": [
      "Invalid parameter 'splitter' for estimator Pipeline(steps=[('onehot', OneHotEncoder()),\n",
      "                ('estimator', DecisionTreeRegressor())]). Valid parameters are: ['memory', 'steps', 'verbose'].\n"
     ]
    },
    {
     "name": "stderr",
     "output_type": "stream",
     "text": [
      "  1%|          | 372/50400 [09:02<9:46:40,  1.42it/s]"
     ]
    },
    {
     "name": "stdout",
     "output_type": "stream",
     "text": [
      "Invalid parameter 'splitter' for estimator Pipeline(steps=[('onehot', OneHotEncoder()),\n",
      "                ('estimator', DecisionTreeRegressor())]). Valid parameters are: ['memory', 'steps', 'verbose'].\n"
     ]
    },
    {
     "name": "stderr",
     "output_type": "stream",
     "text": [
      "  1%|          | 373/50400 [09:03<10:34:28,  1.31it/s]"
     ]
    },
    {
     "name": "stdout",
     "output_type": "stream",
     "text": [
      "Invalid parameter 'splitter' for estimator Pipeline(steps=[('onehot', OneHotEncoder()),\n",
      "                ('estimator', DecisionTreeRegressor())]). Valid parameters are: ['memory', 'steps', 'verbose'].\n"
     ]
    },
    {
     "name": "stderr",
     "output_type": "stream",
     "text": [
      "  1%|          | 374/50400 [09:04<10:23:35,  1.34it/s]"
     ]
    },
    {
     "name": "stdout",
     "output_type": "stream",
     "text": [
      "Invalid parameter 'splitter' for estimator Pipeline(steps=[('onehot', OneHotEncoder()),\n",
      "                ('estimator', DecisionTreeRegressor())]). Valid parameters are: ['memory', 'steps', 'verbose'].\n"
     ]
    },
    {
     "name": "stderr",
     "output_type": "stream",
     "text": [
      "  1%|          | 375/50400 [09:04<10:14:13,  1.36it/s]"
     ]
    },
    {
     "name": "stdout",
     "output_type": "stream",
     "text": [
      "Invalid parameter 'splitter' for estimator Pipeline(steps=[('onehot', OneHotEncoder()),\n",
      "                ('estimator', DecisionTreeRegressor())]). Valid parameters are: ['memory', 'steps', 'verbose'].\n"
     ]
    },
    {
     "name": "stderr",
     "output_type": "stream",
     "text": [
      "  1%|          | 376/50400 [09:05<10:04:19,  1.38it/s]"
     ]
    },
    {
     "name": "stdout",
     "output_type": "stream",
     "text": [
      "Invalid parameter 'splitter' for estimator Pipeline(steps=[('onehot', OneHotEncoder()),\n",
      "                ('estimator', DecisionTreeRegressor())]). Valid parameters are: ['memory', 'steps', 'verbose'].\n"
     ]
    },
    {
     "name": "stderr",
     "output_type": "stream",
     "text": [
      "  1%|          | 377/50400 [09:06<10:51:41,  1.28it/s]"
     ]
    },
    {
     "name": "stdout",
     "output_type": "stream",
     "text": [
      "Invalid parameter 'splitter' for estimator Pipeline(steps=[('onehot', OneHotEncoder()),\n",
      "                ('estimator', DecisionTreeRegressor())]). Valid parameters are: ['memory', 'steps', 'verbose'].\n"
     ]
    },
    {
     "name": "stderr",
     "output_type": "stream",
     "text": [
      "  1%|          | 378/50400 [09:07<10:42:03,  1.30it/s]"
     ]
    },
    {
     "name": "stdout",
     "output_type": "stream",
     "text": [
      "Invalid parameter 'splitter' for estimator Pipeline(steps=[('onehot', OneHotEncoder()),\n",
      "                ('estimator', DecisionTreeRegressor())]). Valid parameters are: ['memory', 'steps', 'verbose'].\n"
     ]
    },
    {
     "name": "stderr",
     "output_type": "stream",
     "text": [
      "  1%|          | 379/50400 [09:07<10:27:08,  1.33it/s]"
     ]
    },
    {
     "name": "stdout",
     "output_type": "stream",
     "text": [
      "Invalid parameter 'splitter' for estimator Pipeline(steps=[('onehot', OneHotEncoder()),\n",
      "                ('estimator', DecisionTreeRegressor())]). Valid parameters are: ['memory', 'steps', 'verbose'].\n"
     ]
    },
    {
     "name": "stderr",
     "output_type": "stream",
     "text": [
      "  1%|          | 380/50400 [09:08<10:11:41,  1.36it/s]"
     ]
    },
    {
     "name": "stdout",
     "output_type": "stream",
     "text": [
      "Invalid parameter 'splitter' for estimator Pipeline(steps=[('onehot', OneHotEncoder()),\n",
      "                ('estimator', DecisionTreeRegressor())]). Valid parameters are: ['memory', 'steps', 'verbose'].\n"
     ]
    },
    {
     "name": "stderr",
     "output_type": "stream",
     "text": [
      "  1%|          | 381/50400 [09:09<10:58:14,  1.27it/s]"
     ]
    },
    {
     "name": "stdout",
     "output_type": "stream",
     "text": [
      "Invalid parameter 'splitter' for estimator Pipeline(steps=[('onehot', OneHotEncoder()),\n",
      "                ('estimator', DecisionTreeRegressor())]). Valid parameters are: ['memory', 'steps', 'verbose'].\n"
     ]
    },
    {
     "name": "stderr",
     "output_type": "stream",
     "text": [
      "  1%|          | 382/50400 [09:10<10:37:58,  1.31it/s]"
     ]
    },
    {
     "name": "stdout",
     "output_type": "stream",
     "text": [
      "Invalid parameter 'splitter' for estimator Pipeline(steps=[('onehot', OneHotEncoder()),\n",
      "                ('estimator', DecisionTreeRegressor())]). Valid parameters are: ['memory', 'steps', 'verbose'].\n"
     ]
    },
    {
     "name": "stderr",
     "output_type": "stream",
     "text": [
      "  1%|          | 383/50400 [09:11<11:08:11,  1.25it/s]"
     ]
    },
    {
     "name": "stdout",
     "output_type": "stream",
     "text": [
      "Invalid parameter 'splitter' for estimator Pipeline(steps=[('onehot', OneHotEncoder()),\n",
      "                ('estimator', DecisionTreeRegressor())]). Valid parameters are: ['memory', 'steps', 'verbose'].\n"
     ]
    },
    {
     "name": "stderr",
     "output_type": "stream",
     "text": [
      "  1%|          | 384/50400 [09:12<12:05:02,  1.15it/s]"
     ]
    },
    {
     "name": "stdout",
     "output_type": "stream",
     "text": [
      "Invalid parameter 'splitter' for estimator Pipeline(steps=[('onehot', OneHotEncoder()),\n",
      "                ('estimator', DecisionTreeRegressor())]). Valid parameters are: ['memory', 'steps', 'verbose'].\n"
     ]
    },
    {
     "name": "stderr",
     "output_type": "stream",
     "text": [
      "  1%|          | 385/50400 [09:12<11:34:31,  1.20it/s]"
     ]
    },
    {
     "name": "stdout",
     "output_type": "stream",
     "text": [
      "Invalid parameter 'splitter' for estimator Pipeline(steps=[('onehot', OneHotEncoder()),\n",
      "                ('estimator', DecisionTreeRegressor())]). Valid parameters are: ['memory', 'steps', 'verbose'].\n"
     ]
    },
    {
     "name": "stderr",
     "output_type": "stream",
     "text": [
      "  1%|          | 386/50400 [09:13<11:02:49,  1.26it/s]"
     ]
    },
    {
     "name": "stdout",
     "output_type": "stream",
     "text": [
      "Invalid parameter 'splitter' for estimator Pipeline(steps=[('onehot', OneHotEncoder()),\n",
      "                ('estimator', DecisionTreeRegressor())]). Valid parameters are: ['memory', 'steps', 'verbose'].\n"
     ]
    },
    {
     "name": "stderr",
     "output_type": "stream",
     "text": [
      "  1%|          | 387/50400 [09:14<10:44:17,  1.29it/s]"
     ]
    },
    {
     "name": "stdout",
     "output_type": "stream",
     "text": [
      "Invalid parameter 'splitter' for estimator Pipeline(steps=[('onehot', OneHotEncoder()),\n",
      "                ('estimator', DecisionTreeRegressor())]). Valid parameters are: ['memory', 'steps', 'verbose'].\n"
     ]
    },
    {
     "name": "stderr",
     "output_type": "stream",
     "text": [
      "  1%|          | 388/50400 [09:15<11:38:02,  1.19it/s]"
     ]
    },
    {
     "name": "stdout",
     "output_type": "stream",
     "text": [
      "Invalid parameter 'splitter' for estimator Pipeline(steps=[('onehot', OneHotEncoder()),\n",
      "                ('estimator', DecisionTreeRegressor())]). Valid parameters are: ['memory', 'steps', 'verbose'].\n"
     ]
    },
    {
     "name": "stderr",
     "output_type": "stream",
     "text": [
      "  1%|          | 389/50400 [09:15<11:02:24,  1.26it/s]"
     ]
    },
    {
     "name": "stdout",
     "output_type": "stream",
     "text": [
      "Invalid parameter 'splitter' for estimator Pipeline(steps=[('onehot', OneHotEncoder()),\n",
      "                ('estimator', DecisionTreeRegressor())]). Valid parameters are: ['memory', 'steps', 'verbose'].\n"
     ]
    },
    {
     "name": "stderr",
     "output_type": "stream",
     "text": [
      "  1%|          | 390/50400 [09:16<10:54:06,  1.27it/s]"
     ]
    },
    {
     "name": "stdout",
     "output_type": "stream",
     "text": [
      "Invalid parameter 'splitter' for estimator Pipeline(steps=[('onehot', OneHotEncoder()),\n",
      "                ('estimator', DecisionTreeRegressor())]). Valid parameters are: ['memory', 'steps', 'verbose'].\n"
     ]
    },
    {
     "name": "stderr",
     "output_type": "stream",
     "text": [
      "  1%|          | 391/50400 [09:17<10:33:21,  1.32it/s]"
     ]
    },
    {
     "name": "stdout",
     "output_type": "stream",
     "text": [
      "Invalid parameter 'splitter' for estimator Pipeline(steps=[('onehot', OneHotEncoder()),\n",
      "                ('estimator', DecisionTreeRegressor())]). Valid parameters are: ['memory', 'steps', 'verbose'].\n"
     ]
    },
    {
     "name": "stderr",
     "output_type": "stream",
     "text": [
      "  1%|          | 392/50400 [09:18<10:48:51,  1.28it/s]"
     ]
    },
    {
     "name": "stdout",
     "output_type": "stream",
     "text": [
      "Invalid parameter 'splitter' for estimator Pipeline(steps=[('onehot', OneHotEncoder()),\n",
      "                ('estimator', DecisionTreeRegressor())]). Valid parameters are: ['memory', 'steps', 'verbose'].\n"
     ]
    },
    {
     "name": "stderr",
     "output_type": "stream",
     "text": [
      "  1%|          | 393/50400 [09:18<10:33:20,  1.32it/s]"
     ]
    },
    {
     "name": "stdout",
     "output_type": "stream",
     "text": [
      "Invalid parameter 'splitter' for estimator Pipeline(steps=[('onehot', OneHotEncoder()),\n",
      "                ('estimator', DecisionTreeRegressor())]). Valid parameters are: ['memory', 'steps', 'verbose'].\n"
     ]
    },
    {
     "name": "stderr",
     "output_type": "stream",
     "text": [
      "  1%|          | 394/50400 [09:19<10:27:41,  1.33it/s]"
     ]
    },
    {
     "name": "stdout",
     "output_type": "stream",
     "text": [
      "Invalid parameter 'splitter' for estimator Pipeline(steps=[('onehot', OneHotEncoder()),\n",
      "                ('estimator', DecisionTreeRegressor())]). Valid parameters are: ['memory', 'steps', 'verbose'].\n"
     ]
    },
    {
     "name": "stderr",
     "output_type": "stream",
     "text": [
      "  1%|          | 395/50400 [09:20<10:14:13,  1.36it/s]"
     ]
    },
    {
     "name": "stdout",
     "output_type": "stream",
     "text": [
      "Invalid parameter 'splitter' for estimator Pipeline(steps=[('onehot', OneHotEncoder()),\n",
      "                ('estimator', DecisionTreeRegressor())]). Valid parameters are: ['memory', 'steps', 'verbose'].\n"
     ]
    },
    {
     "name": "stderr",
     "output_type": "stream",
     "text": [
      "  1%|          | 396/50400 [09:21<10:48:36,  1.28it/s]"
     ]
    },
    {
     "name": "stdout",
     "output_type": "stream",
     "text": [
      "Invalid parameter 'splitter' for estimator Pipeline(steps=[('onehot', OneHotEncoder()),\n",
      "                ('estimator', DecisionTreeRegressor())]). Valid parameters are: ['memory', 'steps', 'verbose'].\n"
     ]
    },
    {
     "name": "stderr",
     "output_type": "stream",
     "text": [
      "  1%|          | 397/50400 [09:22<10:29:37,  1.32it/s]"
     ]
    },
    {
     "name": "stdout",
     "output_type": "stream",
     "text": [
      "Invalid parameter 'splitter' for estimator Pipeline(steps=[('onehot', OneHotEncoder()),\n",
      "                ('estimator', DecisionTreeRegressor())]). Valid parameters are: ['memory', 'steps', 'verbose'].\n"
     ]
    },
    {
     "name": "stderr",
     "output_type": "stream",
     "text": [
      "  1%|          | 398/50400 [09:22<10:39:08,  1.30it/s]"
     ]
    },
    {
     "name": "stdout",
     "output_type": "stream",
     "text": [
      "Invalid parameter 'splitter' for estimator Pipeline(steps=[('onehot', OneHotEncoder()),\n",
      "                ('estimator', DecisionTreeRegressor())]). Valid parameters are: ['memory', 'steps', 'verbose'].\n"
     ]
    },
    {
     "name": "stderr",
     "output_type": "stream",
     "text": [
      "  1%|          | 399/50400 [09:23<10:38:09,  1.31it/s]"
     ]
    },
    {
     "name": "stdout",
     "output_type": "stream",
     "text": [
      "Invalid parameter 'splitter' for estimator Pipeline(steps=[('onehot', OneHotEncoder()),\n",
      "                ('estimator', DecisionTreeRegressor())]). Valid parameters are: ['memory', 'steps', 'verbose'].\n"
     ]
    },
    {
     "name": "stderr",
     "output_type": "stream",
     "text": [
      "  1%|          | 400/50400 [09:24<11:06:03,  1.25it/s]"
     ]
    },
    {
     "name": "stdout",
     "output_type": "stream",
     "text": [
      "Invalid parameter 'splitter' for estimator Pipeline(steps=[('onehot', OneHotEncoder()),\n",
      "                ('estimator', DecisionTreeRegressor())]). Valid parameters are: ['memory', 'steps', 'verbose'].\n"
     ]
    },
    {
     "name": "stderr",
     "output_type": "stream",
     "text": [
      "  1%|          | 401/50400 [09:25<10:39:15,  1.30it/s]"
     ]
    },
    {
     "name": "stdout",
     "output_type": "stream",
     "text": [
      "Invalid parameter 'splitter' for estimator Pipeline(steps=[('onehot', OneHotEncoder()),\n",
      "                ('estimator', DecisionTreeRegressor())]). Valid parameters are: ['memory', 'steps', 'verbose'].\n"
     ]
    },
    {
     "name": "stderr",
     "output_type": "stream",
     "text": [
      "  1%|          | 402/50400 [09:25<10:32:36,  1.32it/s]"
     ]
    },
    {
     "name": "stdout",
     "output_type": "stream",
     "text": [
      "Invalid parameter 'splitter' for estimator Pipeline(steps=[('onehot', OneHotEncoder()),\n",
      "                ('estimator', DecisionTreeRegressor())]). Valid parameters are: ['memory', 'steps', 'verbose'].\n"
     ]
    },
    {
     "name": "stderr",
     "output_type": "stream",
     "text": [
      "  1%|          | 403/50400 [09:26<11:30:22,  1.21it/s]"
     ]
    },
    {
     "name": "stdout",
     "output_type": "stream",
     "text": [
      "Invalid parameter 'splitter' for estimator Pipeline(steps=[('onehot', OneHotEncoder()),\n",
      "                ('estimator', DecisionTreeRegressor())]). Valid parameters are: ['memory', 'steps', 'verbose'].\n"
     ]
    },
    {
     "name": "stderr",
     "output_type": "stream",
     "text": [
      "  1%|          | 404/50400 [09:27<12:05:30,  1.15it/s]"
     ]
    },
    {
     "name": "stdout",
     "output_type": "stream",
     "text": [
      "Invalid parameter 'splitter' for estimator Pipeline(steps=[('onehot', OneHotEncoder()),\n",
      "                ('estimator', DecisionTreeRegressor())]). Valid parameters are: ['memory', 'steps', 'verbose'].\n"
     ]
    },
    {
     "name": "stderr",
     "output_type": "stream",
     "text": [
      "  1%|          | 405/50400 [09:28<11:39:56,  1.19it/s]"
     ]
    },
    {
     "name": "stdout",
     "output_type": "stream",
     "text": [
      "Invalid parameter 'splitter' for estimator Pipeline(steps=[('onehot', OneHotEncoder()),\n",
      "                ('estimator', DecisionTreeRegressor())]). Valid parameters are: ['memory', 'steps', 'verbose'].\n"
     ]
    },
    {
     "name": "stderr",
     "output_type": "stream",
     "text": [
      "  1%|          | 406/50400 [09:29<11:33:16,  1.20it/s]"
     ]
    },
    {
     "name": "stdout",
     "output_type": "stream",
     "text": [
      "Invalid parameter 'splitter' for estimator Pipeline(steps=[('onehot', OneHotEncoder()),\n",
      "                ('estimator', DecisionTreeRegressor())]). Valid parameters are: ['memory', 'steps', 'verbose'].\n"
     ]
    },
    {
     "name": "stderr",
     "output_type": "stream",
     "text": [
      "  1%|          | 407/50400 [09:30<11:19:56,  1.23it/s]"
     ]
    },
    {
     "name": "stdout",
     "output_type": "stream",
     "text": [
      "Invalid parameter 'splitter' for estimator Pipeline(steps=[('onehot', OneHotEncoder()),\n",
      "                ('estimator', DecisionTreeRegressor())]). Valid parameters are: ['memory', 'steps', 'verbose'].\n"
     ]
    },
    {
     "name": "stderr",
     "output_type": "stream",
     "text": [
      "  1%|          | 408/50400 [09:31<11:44:03,  1.18it/s]"
     ]
    },
    {
     "name": "stdout",
     "output_type": "stream",
     "text": [
      "Invalid parameter 'splitter' for estimator Pipeline(steps=[('onehot', OneHotEncoder()),\n",
      "                ('estimator', DecisionTreeRegressor())]). Valid parameters are: ['memory', 'steps', 'verbose'].\n"
     ]
    },
    {
     "name": "stderr",
     "output_type": "stream",
     "text": [
      "  1%|          | 409/50400 [09:31<11:11:50,  1.24it/s]"
     ]
    },
    {
     "name": "stdout",
     "output_type": "stream",
     "text": [
      "Invalid parameter 'splitter' for estimator Pipeline(steps=[('onehot', OneHotEncoder()),\n",
      "                ('estimator', DecisionTreeRegressor())]). Valid parameters are: ['memory', 'steps', 'verbose'].\n"
     ]
    },
    {
     "name": "stderr",
     "output_type": "stream",
     "text": [
      "  1%|          | 410/50400 [09:32<10:39:04,  1.30it/s]"
     ]
    },
    {
     "name": "stdout",
     "output_type": "stream",
     "text": [
      "Invalid parameter 'splitter' for estimator Pipeline(steps=[('onehot', OneHotEncoder()),\n",
      "                ('estimator', DecisionTreeRegressor())]). Valid parameters are: ['memory', 'steps', 'verbose'].\n"
     ]
    },
    {
     "name": "stderr",
     "output_type": "stream",
     "text": [
      "  1%|          | 411/50400 [09:33<10:36:02,  1.31it/s]"
     ]
    },
    {
     "name": "stdout",
     "output_type": "stream",
     "text": [
      "Invalid parameter 'splitter' for estimator Pipeline(steps=[('onehot', OneHotEncoder()),\n",
      "                ('estimator', DecisionTreeRegressor())]). Valid parameters are: ['memory', 'steps', 'verbose'].\n"
     ]
    },
    {
     "name": "stderr",
     "output_type": "stream",
     "text": [
      "  1%|          | 412/50400 [09:34<10:52:06,  1.28it/s]"
     ]
    },
    {
     "name": "stdout",
     "output_type": "stream",
     "text": [
      "Invalid parameter 'splitter' for estimator Pipeline(steps=[('onehot', OneHotEncoder()),\n",
      "                ('estimator', DecisionTreeRegressor())]). Valid parameters are: ['memory', 'steps', 'verbose'].\n"
     ]
    },
    {
     "name": "stderr",
     "output_type": "stream",
     "text": [
      "  1%|          | 413/50400 [09:34<10:47:53,  1.29it/s]"
     ]
    },
    {
     "name": "stdout",
     "output_type": "stream",
     "text": [
      "Invalid parameter 'splitter' for estimator Pipeline(steps=[('onehot', OneHotEncoder()),\n",
      "                ('estimator', DecisionTreeRegressor())]). Valid parameters are: ['memory', 'steps', 'verbose'].\n"
     ]
    },
    {
     "name": "stderr",
     "output_type": "stream",
     "text": [
      "  1%|          | 414/50400 [09:35<10:21:12,  1.34it/s]"
     ]
    },
    {
     "name": "stdout",
     "output_type": "stream",
     "text": [
      "Invalid parameter 'splitter' for estimator Pipeline(steps=[('onehot', OneHotEncoder()),\n",
      "                ('estimator', DecisionTreeRegressor())]). Valid parameters are: ['memory', 'steps', 'verbose'].\n"
     ]
    },
    {
     "name": "stderr",
     "output_type": "stream",
     "text": [
      "  1%|          | 415/50400 [09:36<10:11:40,  1.36it/s]"
     ]
    },
    {
     "name": "stdout",
     "output_type": "stream",
     "text": [
      "Invalid parameter 'splitter' for estimator Pipeline(steps=[('onehot', OneHotEncoder()),\n",
      "                ('estimator', DecisionTreeRegressor())]). Valid parameters are: ['memory', 'steps', 'verbose'].\n"
     ]
    },
    {
     "name": "stderr",
     "output_type": "stream",
     "text": [
      "  1%|          | 416/50400 [09:37<10:24:10,  1.33it/s]"
     ]
    },
    {
     "name": "stdout",
     "output_type": "stream",
     "text": [
      "Invalid parameter 'splitter' for estimator Pipeline(steps=[('onehot', OneHotEncoder()),\n",
      "                ('estimator', DecisionTreeRegressor())]). Valid parameters are: ['memory', 'steps', 'verbose'].\n"
     ]
    },
    {
     "name": "stderr",
     "output_type": "stream",
     "text": [
      "  1%|          | 417/50400 [09:37<10:01:47,  1.38it/s]"
     ]
    },
    {
     "name": "stdout",
     "output_type": "stream",
     "text": [
      "Invalid parameter 'splitter' for estimator Pipeline(steps=[('onehot', OneHotEncoder()),\n",
      "                ('estimator', DecisionTreeRegressor())]). Valid parameters are: ['memory', 'steps', 'verbose'].\n"
     ]
    },
    {
     "name": "stderr",
     "output_type": "stream",
     "text": [
      "  1%|          | 418/50400 [09:38<9:51:31,  1.41it/s] "
     ]
    },
    {
     "name": "stdout",
     "output_type": "stream",
     "text": [
      "Invalid parameter 'splitter' for estimator Pipeline(steps=[('onehot', OneHotEncoder()),\n",
      "                ('estimator', DecisionTreeRegressor())]). Valid parameters are: ['memory', 'steps', 'verbose'].\n"
     ]
    },
    {
     "name": "stderr",
     "output_type": "stream",
     "text": [
      "  1%|          | 419/50400 [09:39<10:27:12,  1.33it/s]"
     ]
    },
    {
     "name": "stdout",
     "output_type": "stream",
     "text": [
      "Invalid parameter 'splitter' for estimator Pipeline(steps=[('onehot', OneHotEncoder()),\n",
      "                ('estimator', DecisionTreeRegressor())]). Valid parameters are: ['memory', 'steps', 'verbose'].\n"
     ]
    },
    {
     "name": "stderr",
     "output_type": "stream",
     "text": [
      "  1%|          | 420/50400 [09:39<10:17:24,  1.35it/s]"
     ]
    },
    {
     "name": "stdout",
     "output_type": "stream",
     "text": [
      "Invalid parameter 'splitter' for estimator Pipeline(steps=[('onehot', OneHotEncoder()),\n",
      "                ('estimator', DecisionTreeRegressor())]). Valid parameters are: ['memory', 'steps', 'verbose'].\n"
     ]
    },
    {
     "name": "stderr",
     "output_type": "stream",
     "text": [
      "  1%|          | 421/50400 [09:40<10:04:37,  1.38it/s]"
     ]
    },
    {
     "name": "stdout",
     "output_type": "stream",
     "text": [
      "Invalid parameter 'splitter' for estimator Pipeline(steps=[('onehot', OneHotEncoder()),\n",
      "                ('estimator', DecisionTreeRegressor())]). Valid parameters are: ['memory', 'steps', 'verbose'].\n"
     ]
    },
    {
     "name": "stderr",
     "output_type": "stream",
     "text": [
      "  1%|          | 422/50400 [09:41<9:50:09,  1.41it/s] "
     ]
    },
    {
     "name": "stdout",
     "output_type": "stream",
     "text": [
      "Invalid parameter 'splitter' for estimator Pipeline(steps=[('onehot', OneHotEncoder()),\n",
      "                ('estimator', DecisionTreeRegressor())]). Valid parameters are: ['memory', 'steps', 'verbose'].\n"
     ]
    },
    {
     "name": "stderr",
     "output_type": "stream",
     "text": [
      "  1%|          | 423/50400 [09:41<9:45:58,  1.42it/s]"
     ]
    },
    {
     "name": "stdout",
     "output_type": "stream",
     "text": [
      "Invalid parameter 'splitter' for estimator Pipeline(steps=[('onehot', OneHotEncoder()),\n",
      "                ('estimator', DecisionTreeRegressor())]). Valid parameters are: ['memory', 'steps', 'verbose'].\n"
     ]
    },
    {
     "name": "stderr",
     "output_type": "stream",
     "text": [
      "  1%|          | 424/50400 [09:42<10:22:26,  1.34it/s]"
     ]
    },
    {
     "name": "stdout",
     "output_type": "stream",
     "text": [
      "Invalid parameter 'splitter' for estimator Pipeline(steps=[('onehot', OneHotEncoder()),\n",
      "                ('estimator', DecisionTreeRegressor())]). Valid parameters are: ['memory', 'steps', 'verbose'].\n"
     ]
    },
    {
     "name": "stderr",
     "output_type": "stream",
     "text": [
      "  1%|          | 425/50400 [09:43<10:17:13,  1.35it/s]"
     ]
    },
    {
     "name": "stdout",
     "output_type": "stream",
     "text": [
      "Invalid parameter 'splitter' for estimator Pipeline(steps=[('onehot', OneHotEncoder()),\n",
      "                ('estimator', DecisionTreeRegressor())]). Valid parameters are: ['memory', 'steps', 'verbose'].\n"
     ]
    },
    {
     "name": "stderr",
     "output_type": "stream",
     "text": [
      "  1%|          | 426/50400 [09:44<10:07:42,  1.37it/s]"
     ]
    },
    {
     "name": "stdout",
     "output_type": "stream",
     "text": [
      "Invalid parameter 'splitter' for estimator Pipeline(steps=[('onehot', OneHotEncoder()),\n",
      "                ('estimator', DecisionTreeRegressor())]). Valid parameters are: ['memory', 'steps', 'verbose'].\n"
     ]
    },
    {
     "name": "stderr",
     "output_type": "stream",
     "text": [
      "  1%|          | 427/50400 [09:44<9:57:42,  1.39it/s] "
     ]
    },
    {
     "name": "stdout",
     "output_type": "stream",
     "text": [
      "Invalid parameter 'splitter' for estimator Pipeline(steps=[('onehot', OneHotEncoder()),\n",
      "                ('estimator', DecisionTreeRegressor())]). Valid parameters are: ['memory', 'steps', 'verbose'].\n"
     ]
    },
    {
     "name": "stderr",
     "output_type": "stream",
     "text": [
      "  1%|          | 428/50400 [09:45<10:16:57,  1.35it/s]"
     ]
    },
    {
     "name": "stdout",
     "output_type": "stream",
     "text": [
      "Invalid parameter 'splitter' for estimator Pipeline(steps=[('onehot', OneHotEncoder()),\n",
      "                ('estimator', DecisionTreeRegressor())]). Valid parameters are: ['memory', 'steps', 'verbose'].\n"
     ]
    },
    {
     "name": "stderr",
     "output_type": "stream",
     "text": [
      "  1%|          | 429/50400 [09:46<10:07:35,  1.37it/s]"
     ]
    },
    {
     "name": "stdout",
     "output_type": "stream",
     "text": [
      "Invalid parameter 'splitter' for estimator Pipeline(steps=[('onehot', OneHotEncoder()),\n",
      "                ('estimator', DecisionTreeRegressor())]). Valid parameters are: ['memory', 'steps', 'verbose'].\n"
     ]
    },
    {
     "name": "stderr",
     "output_type": "stream",
     "text": [
      "  1%|          | 430/50400 [09:47<10:22:14,  1.34it/s]"
     ]
    },
    {
     "name": "stdout",
     "output_type": "stream",
     "text": [
      "Invalid parameter 'splitter' for estimator Pipeline(steps=[('onehot', OneHotEncoder()),\n",
      "                ('estimator', DecisionTreeRegressor())]). Valid parameters are: ['memory', 'steps', 'verbose'].\n"
     ]
    },
    {
     "name": "stderr",
     "output_type": "stream",
     "text": [
      "  1%|          | 431/50400 [09:48<10:52:26,  1.28it/s]"
     ]
    },
    {
     "name": "stdout",
     "output_type": "stream",
     "text": [
      "Invalid parameter 'splitter' for estimator Pipeline(steps=[('onehot', OneHotEncoder()),\n",
      "                ('estimator', DecisionTreeRegressor())]). Valid parameters are: ['memory', 'steps', 'verbose'].\n"
     ]
    },
    {
     "name": "stderr",
     "output_type": "stream",
     "text": [
      "  1%|          | 432/50400 [09:49<11:53:00,  1.17it/s]"
     ]
    },
    {
     "name": "stdout",
     "output_type": "stream",
     "text": [
      "Invalid parameter 'splitter' for estimator Pipeline(steps=[('onehot', OneHotEncoder()),\n",
      "                ('estimator', DecisionTreeRegressor())]). Valid parameters are: ['memory', 'steps', 'verbose'].\n"
     ]
    },
    {
     "name": "stderr",
     "output_type": "stream",
     "text": [
      "  1%|          | 433/50400 [09:49<11:13:52,  1.24it/s]"
     ]
    },
    {
     "name": "stdout",
     "output_type": "stream",
     "text": [
      "Invalid parameter 'splitter' for estimator Pipeline(steps=[('onehot', OneHotEncoder()),\n",
      "                ('estimator', DecisionTreeRegressor())]). Valid parameters are: ['memory', 'steps', 'verbose'].\n"
     ]
    },
    {
     "name": "stderr",
     "output_type": "stream",
     "text": [
      "  1%|          | 434/50400 [09:50<10:40:54,  1.30it/s]"
     ]
    },
    {
     "name": "stdout",
     "output_type": "stream",
     "text": [
      "Invalid parameter 'splitter' for estimator Pipeline(steps=[('onehot', OneHotEncoder()),\n",
      "                ('estimator', DecisionTreeRegressor())]). Valid parameters are: ['memory', 'steps', 'verbose'].\n"
     ]
    },
    {
     "name": "stderr",
     "output_type": "stream",
     "text": [
      "  1%|          | 435/50400 [09:51<10:24:41,  1.33it/s]"
     ]
    },
    {
     "name": "stdout",
     "output_type": "stream",
     "text": [
      "Invalid parameter 'splitter' for estimator Pipeline(steps=[('onehot', OneHotEncoder()),\n",
      "                ('estimator', DecisionTreeRegressor())]). Valid parameters are: ['memory', 'steps', 'verbose'].\n"
     ]
    },
    {
     "name": "stderr",
     "output_type": "stream",
     "text": [
      "  1%|          | 436/50400 [09:52<10:45:41,  1.29it/s]"
     ]
    },
    {
     "name": "stdout",
     "output_type": "stream",
     "text": [
      "Invalid parameter 'splitter' for estimator Pipeline(steps=[('onehot', OneHotEncoder()),\n",
      "                ('estimator', DecisionTreeRegressor())]). Valid parameters are: ['memory', 'steps', 'verbose'].\n"
     ]
    },
    {
     "name": "stderr",
     "output_type": "stream",
     "text": [
      "  1%|          | 437/50400 [09:52<10:20:01,  1.34it/s]"
     ]
    },
    {
     "name": "stdout",
     "output_type": "stream",
     "text": [
      "Invalid parameter 'splitter' for estimator Pipeline(steps=[('onehot', OneHotEncoder()),\n",
      "                ('estimator', DecisionTreeRegressor())]). Valid parameters are: ['memory', 'steps', 'verbose'].\n"
     ]
    },
    {
     "name": "stderr",
     "output_type": "stream",
     "text": [
      "  1%|          | 438/50400 [09:53<10:01:27,  1.38it/s]"
     ]
    },
    {
     "name": "stdout",
     "output_type": "stream",
     "text": [
      "Invalid parameter 'splitter' for estimator Pipeline(steps=[('onehot', OneHotEncoder()),\n",
      "                ('estimator', DecisionTreeRegressor())]). Valid parameters are: ['memory', 'steps', 'verbose'].\n"
     ]
    },
    {
     "name": "stderr",
     "output_type": "stream",
     "text": [
      "  1%|          | 439/50400 [09:54<10:10:08,  1.36it/s]"
     ]
    },
    {
     "name": "stdout",
     "output_type": "stream",
     "text": [
      "Invalid parameter 'splitter' for estimator Pipeline(steps=[('onehot', OneHotEncoder()),\n",
      "                ('estimator', DecisionTreeRegressor())]). Valid parameters are: ['memory', 'steps', 'verbose'].\n"
     ]
    },
    {
     "name": "stderr",
     "output_type": "stream",
     "text": [
      "  1%|          | 440/50400 [09:54<10:04:33,  1.38it/s]"
     ]
    },
    {
     "name": "stdout",
     "output_type": "stream",
     "text": [
      "Invalid parameter 'splitter' for estimator Pipeline(steps=[('onehot', OneHotEncoder()),\n",
      "                ('estimator', DecisionTreeRegressor())]). Valid parameters are: ['memory', 'steps', 'verbose'].\n"
     ]
    },
    {
     "name": "stderr",
     "output_type": "stream",
     "text": [
      "  1%|          | 441/50400 [09:55<9:50:07,  1.41it/s] "
     ]
    },
    {
     "name": "stdout",
     "output_type": "stream",
     "text": [
      "Invalid parameter 'splitter' for estimator Pipeline(steps=[('onehot', OneHotEncoder()),\n",
      "                ('estimator', DecisionTreeRegressor())]). Valid parameters are: ['memory', 'steps', 'verbose'].\n"
     ]
    },
    {
     "name": "stderr",
     "output_type": "stream",
     "text": [
      "  1%|          | 442/50400 [09:56<9:39:02,  1.44it/s]"
     ]
    },
    {
     "name": "stdout",
     "output_type": "stream",
     "text": [
      "Invalid parameter 'splitter' for estimator Pipeline(steps=[('onehot', OneHotEncoder()),\n",
      "                ('estimator', DecisionTreeRegressor())]). Valid parameters are: ['memory', 'steps', 'verbose'].\n"
     ]
    },
    {
     "name": "stderr",
     "output_type": "stream",
     "text": [
      "  1%|          | 443/50400 [09:56<10:08:47,  1.37it/s]"
     ]
    },
    {
     "name": "stdout",
     "output_type": "stream",
     "text": [
      "Invalid parameter 'splitter' for estimator Pipeline(steps=[('onehot', OneHotEncoder()),\n",
      "                ('estimator', DecisionTreeRegressor())]). Valid parameters are: ['memory', 'steps', 'verbose'].\n"
     ]
    },
    {
     "name": "stderr",
     "output_type": "stream",
     "text": [
      "  1%|          | 444/50400 [09:57<9:59:26,  1.39it/s] "
     ]
    },
    {
     "name": "stdout",
     "output_type": "stream",
     "text": [
      "Invalid parameter 'splitter' for estimator Pipeline(steps=[('onehot', OneHotEncoder()),\n",
      "                ('estimator', DecisionTreeRegressor())]). Valid parameters are: ['memory', 'steps', 'verbose'].\n"
     ]
    },
    {
     "name": "stderr",
     "output_type": "stream",
     "text": [
      "  1%|          | 445/50400 [09:58<9:49:50,  1.41it/s]"
     ]
    },
    {
     "name": "stdout",
     "output_type": "stream",
     "text": [
      "Invalid parameter 'splitter' for estimator Pipeline(steps=[('onehot', OneHotEncoder()),\n",
      "                ('estimator', DecisionTreeRegressor())]). Valid parameters are: ['memory', 'steps', 'verbose'].\n"
     ]
    },
    {
     "name": "stderr",
     "output_type": "stream",
     "text": [
      "  1%|          | 446/50400 [09:59<10:03:06,  1.38it/s]"
     ]
    },
    {
     "name": "stdout",
     "output_type": "stream",
     "text": [
      "Invalid parameter 'splitter' for estimator Pipeline(steps=[('onehot', OneHotEncoder()),\n",
      "                ('estimator', DecisionTreeRegressor())]). Valid parameters are: ['memory', 'steps', 'verbose'].\n"
     ]
    },
    {
     "name": "stderr",
     "output_type": "stream",
     "text": [
      "  1%|          | 447/50400 [10:00<10:55:09,  1.27it/s]"
     ]
    },
    {
     "name": "stdout",
     "output_type": "stream",
     "text": [
      "Invalid parameter 'splitter' for estimator Pipeline(steps=[('onehot', OneHotEncoder()),\n",
      "                ('estimator', DecisionTreeRegressor())]). Valid parameters are: ['memory', 'steps', 'verbose'].\n"
     ]
    },
    {
     "name": "stderr",
     "output_type": "stream",
     "text": [
      "  1%|          | 448/50400 [10:00<10:55:24,  1.27it/s]"
     ]
    },
    {
     "name": "stdout",
     "output_type": "stream",
     "text": [
      "Invalid parameter 'splitter' for estimator Pipeline(steps=[('onehot', OneHotEncoder()),\n",
      "                ('estimator', DecisionTreeRegressor())]). Valid parameters are: ['memory', 'steps', 'verbose'].\n"
     ]
    },
    {
     "name": "stderr",
     "output_type": "stream",
     "text": [
      "  1%|          | 449/50400 [10:01<10:49:01,  1.28it/s]"
     ]
    },
    {
     "name": "stdout",
     "output_type": "stream",
     "text": [
      "Invalid parameter 'splitter' for estimator Pipeline(steps=[('onehot', OneHotEncoder()),\n",
      "                ('estimator', DecisionTreeRegressor())]). Valid parameters are: ['memory', 'steps', 'verbose'].\n"
     ]
    },
    {
     "name": "stderr",
     "output_type": "stream",
     "text": [
      "  1%|          | 450/50400 [10:02<10:40:45,  1.30it/s]"
     ]
    },
    {
     "name": "stdout",
     "output_type": "stream",
     "text": [
      "Invalid parameter 'splitter' for estimator Pipeline(steps=[('onehot', OneHotEncoder()),\n",
      "                ('estimator', DecisionTreeRegressor())]). Valid parameters are: ['memory', 'steps', 'verbose'].\n"
     ]
    },
    {
     "name": "stderr",
     "output_type": "stream",
     "text": [
      "  1%|          | 451/50400 [10:03<10:47:18,  1.29it/s]"
     ]
    },
    {
     "name": "stdout",
     "output_type": "stream",
     "text": [
      "Invalid parameter 'splitter' for estimator Pipeline(steps=[('onehot', OneHotEncoder()),\n",
      "                ('estimator', DecisionTreeRegressor())]). Valid parameters are: ['memory', 'steps', 'verbose'].\n"
     ]
    },
    {
     "name": "stderr",
     "output_type": "stream",
     "text": [
      "  1%|          | 452/50400 [10:03<10:31:56,  1.32it/s]"
     ]
    },
    {
     "name": "stdout",
     "output_type": "stream",
     "text": [
      "Invalid parameter 'splitter' for estimator Pipeline(steps=[('onehot', OneHotEncoder()),\n",
      "                ('estimator', DecisionTreeRegressor())]). Valid parameters are: ['memory', 'steps', 'verbose'].\n"
     ]
    },
    {
     "name": "stderr",
     "output_type": "stream",
     "text": [
      "  1%|          | 453/50400 [10:04<10:09:30,  1.37it/s]"
     ]
    },
    {
     "name": "stdout",
     "output_type": "stream",
     "text": [
      "Invalid parameter 'splitter' for estimator Pipeline(steps=[('onehot', OneHotEncoder()),\n",
      "                ('estimator', DecisionTreeRegressor())]). Valid parameters are: ['memory', 'steps', 'verbose'].\n"
     ]
    },
    {
     "name": "stderr",
     "output_type": "stream",
     "text": [
      "  1%|          | 454/50400 [10:05<9:57:49,  1.39it/s] "
     ]
    },
    {
     "name": "stdout",
     "output_type": "stream",
     "text": [
      "Invalid parameter 'splitter' for estimator Pipeline(steps=[('onehot', OneHotEncoder()),\n",
      "                ('estimator', DecisionTreeRegressor())]). Valid parameters are: ['memory', 'steps', 'verbose'].\n"
     ]
    },
    {
     "name": "stderr",
     "output_type": "stream",
     "text": [
      "  1%|          | 455/50400 [10:06<10:32:47,  1.32it/s]"
     ]
    },
    {
     "name": "stdout",
     "output_type": "stream",
     "text": [
      "Invalid parameter 'splitter' for estimator Pipeline(steps=[('onehot', OneHotEncoder()),\n",
      "                ('estimator', DecisionTreeRegressor())]). Valid parameters are: ['memory', 'steps', 'verbose'].\n"
     ]
    },
    {
     "name": "stderr",
     "output_type": "stream",
     "text": [
      "  1%|          | 456/50400 [10:07<11:26:14,  1.21it/s]"
     ]
    },
    {
     "name": "stdout",
     "output_type": "stream",
     "text": [
      "Invalid parameter 'splitter' for estimator Pipeline(steps=[('onehot', OneHotEncoder()),\n",
      "                ('estimator', DecisionTreeRegressor())]). Valid parameters are: ['memory', 'steps', 'verbose'].\n"
     ]
    },
    {
     "name": "stderr",
     "output_type": "stream",
     "text": [
      "  1%|          | 457/50400 [10:07<10:59:42,  1.26it/s]"
     ]
    },
    {
     "name": "stdout",
     "output_type": "stream",
     "text": [
      "Invalid parameter 'splitter' for estimator Pipeline(steps=[('onehot', OneHotEncoder()),\n",
      "                ('estimator', DecisionTreeRegressor())]). Valid parameters are: ['memory', 'steps', 'verbose'].\n"
     ]
    },
    {
     "name": "stderr",
     "output_type": "stream",
     "text": [
      "  1%|          | 458/50400 [10:08<10:35:30,  1.31it/s]"
     ]
    },
    {
     "name": "stdout",
     "output_type": "stream",
     "text": [
      "Invalid parameter 'splitter' for estimator Pipeline(steps=[('onehot', OneHotEncoder()),\n",
      "                ('estimator', DecisionTreeRegressor())]). Valid parameters are: ['memory', 'steps', 'verbose'].\n"
     ]
    },
    {
     "name": "stderr",
     "output_type": "stream",
     "text": [
      "  1%|          | 459/50400 [10:09<12:04:59,  1.15it/s]"
     ]
    },
    {
     "name": "stdout",
     "output_type": "stream",
     "text": [
      "Invalid parameter 'splitter' for estimator Pipeline(steps=[('onehot', OneHotEncoder()),\n",
      "                ('estimator', DecisionTreeRegressor())]). Valid parameters are: ['memory', 'steps', 'verbose'].\n"
     ]
    },
    {
     "name": "stderr",
     "output_type": "stream",
     "text": [
      "  1%|          | 460/50400 [10:10<12:15:02,  1.13it/s]"
     ]
    },
    {
     "name": "stdout",
     "output_type": "stream",
     "text": [
      "Invalid parameter 'splitter' for estimator Pipeline(steps=[('onehot', OneHotEncoder()),\n",
      "                ('estimator', DecisionTreeRegressor())]). Valid parameters are: ['memory', 'steps', 'verbose'].\n"
     ]
    },
    {
     "name": "stderr",
     "output_type": "stream",
     "text": [
      "  1%|          | 461/50400 [10:11<11:52:24,  1.17it/s]"
     ]
    },
    {
     "name": "stdout",
     "output_type": "stream",
     "text": [
      "Invalid parameter 'splitter' for estimator Pipeline(steps=[('onehot', OneHotEncoder()),\n",
      "                ('estimator', DecisionTreeRegressor())]). Valid parameters are: ['memory', 'steps', 'verbose'].\n"
     ]
    },
    {
     "name": "stderr",
     "output_type": "stream",
     "text": [
      "  1%|          | 462/50400 [10:12<11:41:09,  1.19it/s]"
     ]
    },
    {
     "name": "stdout",
     "output_type": "stream",
     "text": [
      "Invalid parameter 'splitter' for estimator Pipeline(steps=[('onehot', OneHotEncoder()),\n",
      "                ('estimator', DecisionTreeRegressor())]). Valid parameters are: ['memory', 'steps', 'verbose'].\n"
     ]
    },
    {
     "name": "stderr",
     "output_type": "stream",
     "text": [
      "  1%|          | 463/50400 [10:12<10:52:32,  1.28it/s]"
     ]
    },
    {
     "name": "stdout",
     "output_type": "stream",
     "text": [
      "Invalid parameter 'splitter' for estimator Pipeline(steps=[('onehot', OneHotEncoder()),\n",
      "                ('estimator', DecisionTreeRegressor())]). Valid parameters are: ['memory', 'steps', 'verbose'].\n"
     ]
    },
    {
     "name": "stderr",
     "output_type": "stream",
     "text": [
      "  1%|          | 464/50400 [10:13<10:17:40,  1.35it/s]"
     ]
    },
    {
     "name": "stdout",
     "output_type": "stream",
     "text": [
      "Invalid parameter 'splitter' for estimator Pipeline(steps=[('onehot', OneHotEncoder()),\n",
      "                ('estimator', DecisionTreeRegressor())]). Valid parameters are: ['memory', 'steps', 'verbose'].\n"
     ]
    },
    {
     "name": "stderr",
     "output_type": "stream",
     "text": [
      "  1%|          | 465/50400 [10:14<9:49:36,  1.41it/s] "
     ]
    },
    {
     "name": "stdout",
     "output_type": "stream",
     "text": [
      "Invalid parameter 'splitter' for estimator Pipeline(steps=[('onehot', OneHotEncoder()),\n",
      "                ('estimator', DecisionTreeRegressor())]). Valid parameters are: ['memory', 'steps', 'verbose'].\n"
     ]
    },
    {
     "name": "stderr",
     "output_type": "stream",
     "text": [
      "  1%|          | 466/50400 [10:14<10:14:49,  1.35it/s]"
     ]
    },
    {
     "name": "stdout",
     "output_type": "stream",
     "text": [
      "Invalid parameter 'splitter' for estimator Pipeline(steps=[('onehot', OneHotEncoder()),\n",
      "                ('estimator', DecisionTreeRegressor())]). Valid parameters are: ['memory', 'steps', 'verbose'].\n"
     ]
    },
    {
     "name": "stderr",
     "output_type": "stream",
     "text": [
      "  1%|          | 467/50400 [10:15<9:52:37,  1.40it/s] "
     ]
    },
    {
     "name": "stdout",
     "output_type": "stream",
     "text": [
      "Invalid parameter 'splitter' for estimator Pipeline(steps=[('onehot', OneHotEncoder()),\n",
      "                ('estimator', DecisionTreeRegressor())]). Valid parameters are: ['memory', 'steps', 'verbose'].\n"
     ]
    },
    {
     "name": "stderr",
     "output_type": "stream",
     "text": [
      "  1%|          | 468/50400 [10:16<9:35:41,  1.45it/s]"
     ]
    },
    {
     "name": "stdout",
     "output_type": "stream",
     "text": [
      "Invalid parameter 'splitter' for estimator Pipeline(steps=[('onehot', OneHotEncoder()),\n",
      "                ('estimator', DecisionTreeRegressor())]). Valid parameters are: ['memory', 'steps', 'verbose'].\n"
     ]
    },
    {
     "name": "stderr",
     "output_type": "stream",
     "text": [
      "  1%|          | 469/50400 [10:16<9:23:23,  1.48it/s]"
     ]
    },
    {
     "name": "stdout",
     "output_type": "stream",
     "text": [
      "Invalid parameter 'splitter' for estimator Pipeline(steps=[('onehot', OneHotEncoder()),\n",
      "                ('estimator', DecisionTreeRegressor())]). Valid parameters are: ['memory', 'steps', 'verbose'].\n"
     ]
    },
    {
     "name": "stderr",
     "output_type": "stream",
     "text": [
      "  1%|          | 470/50400 [10:17<10:05:31,  1.37it/s]"
     ]
    },
    {
     "name": "stdout",
     "output_type": "stream",
     "text": [
      "Invalid parameter 'splitter' for estimator Pipeline(steps=[('onehot', OneHotEncoder()),\n",
      "                ('estimator', DecisionTreeRegressor())]). Valid parameters are: ['memory', 'steps', 'verbose'].\n"
     ]
    },
    {
     "name": "stderr",
     "output_type": "stream",
     "text": [
      "  1%|          | 471/50400 [10:18<9:49:52,  1.41it/s] "
     ]
    },
    {
     "name": "stdout",
     "output_type": "stream",
     "text": [
      "Invalid parameter 'splitter' for estimator Pipeline(steps=[('onehot', OneHotEncoder()),\n",
      "                ('estimator', DecisionTreeRegressor())]). Valid parameters are: ['memory', 'steps', 'verbose'].\n"
     ]
    },
    {
     "name": "stderr",
     "output_type": "stream",
     "text": [
      "  1%|          | 472/50400 [10:18<9:41:00,  1.43it/s]"
     ]
    },
    {
     "name": "stdout",
     "output_type": "stream",
     "text": [
      "Invalid parameter 'splitter' for estimator Pipeline(steps=[('onehot', OneHotEncoder()),\n",
      "                ('estimator', DecisionTreeRegressor())]). Valid parameters are: ['memory', 'steps', 'verbose'].\n"
     ]
    },
    {
     "name": "stderr",
     "output_type": "stream",
     "text": [
      "  1%|          | 473/50400 [10:19<10:10:18,  1.36it/s]"
     ]
    },
    {
     "name": "stdout",
     "output_type": "stream",
     "text": [
      "Invalid parameter 'splitter' for estimator Pipeline(steps=[('onehot', OneHotEncoder()),\n",
      "                ('estimator', DecisionTreeRegressor())]). Valid parameters are: ['memory', 'steps', 'verbose'].\n"
     ]
    },
    {
     "name": "stderr",
     "output_type": "stream",
     "text": [
      "  1%|          | 474/50400 [10:20<9:49:13,  1.41it/s] "
     ]
    },
    {
     "name": "stdout",
     "output_type": "stream",
     "text": [
      "Invalid parameter 'splitter' for estimator Pipeline(steps=[('onehot', OneHotEncoder()),\n",
      "                ('estimator', DecisionTreeRegressor())]). Valid parameters are: ['memory', 'steps', 'verbose'].\n"
     ]
    },
    {
     "name": "stderr",
     "output_type": "stream",
     "text": [
      "  1%|          | 475/50400 [10:21<9:33:37,  1.45it/s]"
     ]
    },
    {
     "name": "stdout",
     "output_type": "stream",
     "text": [
      "Invalid parameter 'splitter' for estimator Pipeline(steps=[('onehot', OneHotEncoder()),\n",
      "                ('estimator', DecisionTreeRegressor())]). Valid parameters are: ['memory', 'steps', 'verbose'].\n"
     ]
    },
    {
     "name": "stderr",
     "output_type": "stream",
     "text": [
      "  1%|          | 476/50400 [10:21<9:22:04,  1.48it/s]"
     ]
    },
    {
     "name": "stdout",
     "output_type": "stream",
     "text": [
      "Invalid parameter 'splitter' for estimator Pipeline(steps=[('onehot', OneHotEncoder()),\n",
      "                ('estimator', DecisionTreeRegressor())]). Valid parameters are: ['memory', 'steps', 'verbose'].\n"
     ]
    },
    {
     "name": "stderr",
     "output_type": "stream",
     "text": [
      "  1%|          | 477/50400 [10:22<9:43:10,  1.43it/s]"
     ]
    },
    {
     "name": "stdout",
     "output_type": "stream",
     "text": [
      "Invalid parameter 'splitter' for estimator Pipeline(steps=[('onehot', OneHotEncoder()),\n",
      "                ('estimator', DecisionTreeRegressor())]). Valid parameters are: ['memory', 'steps', 'verbose'].\n"
     ]
    },
    {
     "name": "stderr",
     "output_type": "stream",
     "text": [
      "  1%|          | 478/50400 [10:23<9:37:18,  1.44it/s]"
     ]
    },
    {
     "name": "stdout",
     "output_type": "stream",
     "text": [
      "Invalid parameter 'splitter' for estimator Pipeline(steps=[('onehot', OneHotEncoder()),\n",
      "                ('estimator', DecisionTreeRegressor())]). Valid parameters are: ['memory', 'steps', 'verbose'].\n"
     ]
    },
    {
     "name": "stderr",
     "output_type": "stream",
     "text": [
      "  1%|          | 479/50400 [10:23<9:43:19,  1.43it/s]"
     ]
    },
    {
     "name": "stdout",
     "output_type": "stream",
     "text": [
      "Invalid parameter 'splitter' for estimator Pipeline(steps=[('onehot', OneHotEncoder()),\n",
      "                ('estimator', DecisionTreeRegressor())]). Valid parameters are: ['memory', 'steps', 'verbose'].\n"
     ]
    },
    {
     "name": "stderr",
     "output_type": "stream",
     "text": [
      "  1%|          | 480/50400 [10:24<9:44:46,  1.42it/s]"
     ]
    },
    {
     "name": "stdout",
     "output_type": "stream",
     "text": [
      "Invalid parameter 'splitter' for estimator Pipeline(steps=[('onehot', OneHotEncoder()),\n",
      "                ('estimator', DecisionTreeRegressor())]). Valid parameters are: ['memory', 'steps', 'verbose'].\n"
     ]
    },
    {
     "name": "stderr",
     "output_type": "stream",
     "text": [
      "  1%|          | 481/50400 [10:25<10:02:53,  1.38it/s]"
     ]
    },
    {
     "name": "stdout",
     "output_type": "stream",
     "text": [
      "Invalid parameter 'splitter' for estimator Pipeline(steps=[('onehot', OneHotEncoder()),\n",
      "                ('estimator', DecisionTreeRegressor())]). Valid parameters are: ['memory', 'steps', 'verbose'].\n"
     ]
    },
    {
     "name": "stderr",
     "output_type": "stream",
     "text": [
      "  1%|          | 482/50400 [10:25<9:44:10,  1.42it/s] "
     ]
    },
    {
     "name": "stdout",
     "output_type": "stream",
     "text": [
      "Invalid parameter 'splitter' for estimator Pipeline(steps=[('onehot', OneHotEncoder()),\n",
      "                ('estimator', DecisionTreeRegressor())]). Valid parameters are: ['memory', 'steps', 'verbose'].\n"
     ]
    },
    {
     "name": "stderr",
     "output_type": "stream",
     "text": [
      "  1%|          | 483/50400 [10:26<9:26:53,  1.47it/s]"
     ]
    },
    {
     "name": "stdout",
     "output_type": "stream",
     "text": [
      "Invalid parameter 'splitter' for estimator Pipeline(steps=[('onehot', OneHotEncoder()),\n",
      "                ('estimator', DecisionTreeRegressor())]). Valid parameters are: ['memory', 'steps', 'verbose'].\n"
     ]
    },
    {
     "name": "stderr",
     "output_type": "stream",
     "text": [
      "  1%|          | 484/50400 [10:27<9:25:30,  1.47it/s]"
     ]
    },
    {
     "name": "stdout",
     "output_type": "stream",
     "text": [
      "Invalid parameter 'splitter' for estimator Pipeline(steps=[('onehot', OneHotEncoder()),\n",
      "                ('estimator', DecisionTreeRegressor())]). Valid parameters are: ['memory', 'steps', 'verbose'].\n"
     ]
    },
    {
     "name": "stderr",
     "output_type": "stream",
     "text": [
      "  1%|          | 485/50400 [10:28<9:52:52,  1.40it/s]"
     ]
    },
    {
     "name": "stdout",
     "output_type": "stream",
     "text": [
      "Invalid parameter 'splitter' for estimator Pipeline(steps=[('onehot', OneHotEncoder()),\n",
      "                ('estimator', DecisionTreeRegressor())]). Valid parameters are: ['memory', 'steps', 'verbose'].\n"
     ]
    },
    {
     "name": "stderr",
     "output_type": "stream",
     "text": [
      "  1%|          | 486/50400 [10:28<9:56:48,  1.39it/s]"
     ]
    },
    {
     "name": "stdout",
     "output_type": "stream",
     "text": [
      "Invalid parameter 'splitter' for estimator Pipeline(steps=[('onehot', OneHotEncoder()),\n",
      "                ('estimator', DecisionTreeRegressor())]). Valid parameters are: ['memory', 'steps', 'verbose'].\n"
     ]
    },
    {
     "name": "stderr",
     "output_type": "stream",
     "text": [
      "  1%|          | 487/50400 [10:29<10:10:44,  1.36it/s]"
     ]
    },
    {
     "name": "stdout",
     "output_type": "stream",
     "text": [
      "Invalid parameter 'splitter' for estimator Pipeline(steps=[('onehot', OneHotEncoder()),\n",
      "                ('estimator', DecisionTreeRegressor())]). Valid parameters are: ['memory', 'steps', 'verbose'].\n"
     ]
    },
    {
     "name": "stderr",
     "output_type": "stream",
     "text": [
      "  1%|          | 488/50400 [10:30<10:29:51,  1.32it/s]"
     ]
    },
    {
     "name": "stdout",
     "output_type": "stream",
     "text": [
      "Invalid parameter 'splitter' for estimator Pipeline(steps=[('onehot', OneHotEncoder()),\n",
      "                ('estimator', DecisionTreeRegressor())]). Valid parameters are: ['memory', 'steps', 'verbose'].\n"
     ]
    },
    {
     "name": "stderr",
     "output_type": "stream",
     "text": [
      "  1%|          | 489/50400 [10:31<10:19:59,  1.34it/s]"
     ]
    },
    {
     "name": "stdout",
     "output_type": "stream",
     "text": [
      "Invalid parameter 'splitter' for estimator Pipeline(steps=[('onehot', OneHotEncoder()),\n",
      "                ('estimator', DecisionTreeRegressor())]). Valid parameters are: ['memory', 'steps', 'verbose'].\n"
     ]
    },
    {
     "name": "stderr",
     "output_type": "stream",
     "text": [
      "  1%|          | 490/50400 [10:32<11:21:54,  1.22it/s]"
     ]
    },
    {
     "name": "stdout",
     "output_type": "stream",
     "text": [
      "Invalid parameter 'splitter' for estimator Pipeline(steps=[('onehot', OneHotEncoder()),\n",
      "                ('estimator', DecisionTreeRegressor())]). Valid parameters are: ['memory', 'steps', 'verbose'].\n"
     ]
    },
    {
     "name": "stderr",
     "output_type": "stream",
     "text": [
      "  1%|          | 491/50400 [10:32<11:02:55,  1.25it/s]"
     ]
    },
    {
     "name": "stdout",
     "output_type": "stream",
     "text": [
      "Invalid parameter 'splitter' for estimator Pipeline(steps=[('onehot', OneHotEncoder()),\n",
      "                ('estimator', DecisionTreeRegressor())]). Valid parameters are: ['memory', 'steps', 'verbose'].\n"
     ]
    },
    {
     "name": "stderr",
     "output_type": "stream",
     "text": [
      "  1%|          | 492/50400 [10:33<11:43:55,  1.18it/s]"
     ]
    },
    {
     "name": "stdout",
     "output_type": "stream",
     "text": [
      "Invalid parameter 'splitter' for estimator Pipeline(steps=[('onehot', OneHotEncoder()),\n",
      "                ('estimator', DecisionTreeRegressor())]). Valid parameters are: ['memory', 'steps', 'verbose'].\n"
     ]
    },
    {
     "name": "stderr",
     "output_type": "stream",
     "text": [
      "  1%|          | 493/50400 [10:34<11:01:59,  1.26it/s]"
     ]
    },
    {
     "name": "stdout",
     "output_type": "stream",
     "text": [
      "Invalid parameter 'splitter' for estimator Pipeline(steps=[('onehot', OneHotEncoder()),\n",
      "                ('estimator', DecisionTreeRegressor())]). Valid parameters are: ['memory', 'steps', 'verbose'].\n"
     ]
    },
    {
     "name": "stderr",
     "output_type": "stream",
     "text": [
      "  1%|          | 494/50400 [10:35<11:08:13,  1.24it/s]"
     ]
    },
    {
     "name": "stdout",
     "output_type": "stream",
     "text": [
      "Invalid parameter 'splitter' for estimator Pipeline(steps=[('onehot', OneHotEncoder()),\n",
      "                ('estimator', DecisionTreeRegressor())]). Valid parameters are: ['memory', 'steps', 'verbose'].\n"
     ]
    },
    {
     "name": "stderr",
     "output_type": "stream",
     "text": [
      "  1%|          | 495/50400 [10:36<11:44:51,  1.18it/s]"
     ]
    },
    {
     "name": "stdout",
     "output_type": "stream",
     "text": [
      "Invalid parameter 'splitter' for estimator Pipeline(steps=[('onehot', OneHotEncoder()),\n",
      "                ('estimator', DecisionTreeRegressor())]). Valid parameters are: ['memory', 'steps', 'verbose'].\n"
     ]
    },
    {
     "name": "stderr",
     "output_type": "stream",
     "text": [
      "  1%|          | 496/50400 [10:37<12:04:00,  1.15it/s]"
     ]
    },
    {
     "name": "stdout",
     "output_type": "stream",
     "text": [
      "Invalid parameter 'splitter' for estimator Pipeline(steps=[('onehot', OneHotEncoder()),\n",
      "                ('estimator', DecisionTreeRegressor())]). Valid parameters are: ['memory', 'steps', 'verbose'].\n"
     ]
    },
    {
     "name": "stderr",
     "output_type": "stream",
     "text": [
      "  1%|          | 497/50400 [10:38<12:58:55,  1.07it/s]"
     ]
    },
    {
     "name": "stdout",
     "output_type": "stream",
     "text": [
      "Invalid parameter 'splitter' for estimator Pipeline(steps=[('onehot', OneHotEncoder()),\n",
      "                ('estimator', DecisionTreeRegressor())]). Valid parameters are: ['memory', 'steps', 'verbose'].\n"
     ]
    },
    {
     "name": "stderr",
     "output_type": "stream",
     "text": [
      "  1%|          | 498/50400 [10:39<14:55:21,  1.08s/it]"
     ]
    },
    {
     "name": "stdout",
     "output_type": "stream",
     "text": [
      "Invalid parameter 'splitter' for estimator Pipeline(steps=[('onehot', OneHotEncoder()),\n",
      "                ('estimator', DecisionTreeRegressor())]). Valid parameters are: ['memory', 'steps', 'verbose'].\n"
     ]
    },
    {
     "name": "stderr",
     "output_type": "stream",
     "text": [
      "  1%|          | 499/50400 [10:40<14:16:52,  1.03s/it]"
     ]
    },
    {
     "name": "stdout",
     "output_type": "stream",
     "text": [
      "Invalid parameter 'splitter' for estimator Pipeline(steps=[('onehot', OneHotEncoder()),\n",
      "                ('estimator', DecisionTreeRegressor())]). Valid parameters are: ['memory', 'steps', 'verbose'].\n"
     ]
    },
    {
     "name": "stderr",
     "output_type": "stream",
     "text": [
      "  1%|          | 500/50400 [10:41<13:25:59,  1.03it/s]"
     ]
    },
    {
     "name": "stdout",
     "output_type": "stream",
     "text": [
      "Invalid parameter 'splitter' for estimator Pipeline(steps=[('onehot', OneHotEncoder()),\n",
      "                ('estimator', DecisionTreeRegressor())]). Valid parameters are: ['memory', 'steps', 'verbose'].\n"
     ]
    },
    {
     "name": "stderr",
     "output_type": "stream",
     "text": [
      "  1%|          | 501/50400 [10:42<12:45:34,  1.09it/s]"
     ]
    },
    {
     "name": "stdout",
     "output_type": "stream",
     "text": [
      "Invalid parameter 'splitter' for estimator Pipeline(steps=[('onehot', OneHotEncoder()),\n",
      "                ('estimator', DecisionTreeRegressor())]). Valid parameters are: ['memory', 'steps', 'verbose'].\n"
     ]
    },
    {
     "name": "stderr",
     "output_type": "stream",
     "text": [
      "  1%|          | 502/50400 [10:42<12:03:13,  1.15it/s]"
     ]
    },
    {
     "name": "stdout",
     "output_type": "stream",
     "text": [
      "Invalid parameter 'splitter' for estimator Pipeline(steps=[('onehot', OneHotEncoder()),\n",
      "                ('estimator', DecisionTreeRegressor())]). Valid parameters are: ['memory', 'steps', 'verbose'].\n"
     ]
    },
    {
     "name": "stderr",
     "output_type": "stream",
     "text": [
      "  1%|          | 503/50400 [10:44<12:36:08,  1.10it/s]"
     ]
    },
    {
     "name": "stdout",
     "output_type": "stream",
     "text": [
      "Invalid parameter 'splitter' for estimator Pipeline(steps=[('onehot', OneHotEncoder()),\n",
      "                ('estimator', DecisionTreeRegressor())]). Valid parameters are: ['memory', 'steps', 'verbose'].\n"
     ]
    },
    {
     "name": "stderr",
     "output_type": "stream",
     "text": [
      "  1%|          | 504/50400 [10:44<12:08:06,  1.14it/s]"
     ]
    },
    {
     "name": "stdout",
     "output_type": "stream",
     "text": [
      "Invalid parameter 'splitter' for estimator Pipeline(steps=[('onehot', OneHotEncoder()),\n",
      "                ('estimator', DecisionTreeRegressor())]). Valid parameters are: ['memory', 'steps', 'verbose'].\n"
     ]
    },
    {
     "name": "stderr",
     "output_type": "stream",
     "text": [
      "  1%|          | 505/50400 [10:45<11:53:45,  1.17it/s]"
     ]
    },
    {
     "name": "stdout",
     "output_type": "stream",
     "text": [
      "Invalid parameter 'splitter' for estimator Pipeline(steps=[('onehot', OneHotEncoder()),\n",
      "                ('estimator', DecisionTreeRegressor())]). Valid parameters are: ['memory', 'steps', 'verbose'].\n"
     ]
    },
    {
     "name": "stderr",
     "output_type": "stream",
     "text": [
      "  1%|          | 506/50400 [10:46<11:58:12,  1.16it/s]"
     ]
    },
    {
     "name": "stdout",
     "output_type": "stream",
     "text": [
      "Invalid parameter 'splitter' for estimator Pipeline(steps=[('onehot', OneHotEncoder()),\n",
      "                ('estimator', DecisionTreeRegressor())]). Valid parameters are: ['memory', 'steps', 'verbose'].\n"
     ]
    },
    {
     "name": "stderr",
     "output_type": "stream",
     "text": [
      "  1%|          | 507/50400 [10:47<11:30:39,  1.20it/s]"
     ]
    },
    {
     "name": "stdout",
     "output_type": "stream",
     "text": [
      "Invalid parameter 'splitter' for estimator Pipeline(steps=[('onehot', OneHotEncoder()),\n",
      "                ('estimator', DecisionTreeRegressor())]). Valid parameters are: ['memory', 'steps', 'verbose'].\n"
     ]
    },
    {
     "name": "stderr",
     "output_type": "stream",
     "text": [
      "  1%|          | 508/50400 [10:48<11:16:17,  1.23it/s]"
     ]
    },
    {
     "name": "stdout",
     "output_type": "stream",
     "text": [
      "Invalid parameter 'splitter' for estimator Pipeline(steps=[('onehot', OneHotEncoder()),\n",
      "                ('estimator', DecisionTreeRegressor())]). Valid parameters are: ['memory', 'steps', 'verbose'].\n"
     ]
    },
    {
     "name": "stderr",
     "output_type": "stream",
     "text": [
      "  1%|          | 509/50400 [10:48<10:47:04,  1.29it/s]"
     ]
    },
    {
     "name": "stdout",
     "output_type": "stream",
     "text": [
      "Invalid parameter 'splitter' for estimator Pipeline(steps=[('onehot', OneHotEncoder()),\n",
      "                ('estimator', DecisionTreeRegressor())]). Valid parameters are: ['memory', 'steps', 'verbose'].\n"
     ]
    },
    {
     "name": "stderr",
     "output_type": "stream",
     "text": [
      "  1%|          | 510/50400 [10:49<11:03:50,  1.25it/s]"
     ]
    },
    {
     "name": "stdout",
     "output_type": "stream",
     "text": [
      "Invalid parameter 'splitter' for estimator Pipeline(steps=[('onehot', OneHotEncoder()),\n",
      "                ('estimator', DecisionTreeRegressor())]). Valid parameters are: ['memory', 'steps', 'verbose'].\n"
     ]
    },
    {
     "name": "stderr",
     "output_type": "stream",
     "text": [
      "  1%|          | 511/50400 [10:50<10:36:44,  1.31it/s]"
     ]
    },
    {
     "name": "stdout",
     "output_type": "stream",
     "text": [
      "Invalid parameter 'splitter' for estimator Pipeline(steps=[('onehot', OneHotEncoder()),\n",
      "                ('estimator', DecisionTreeRegressor())]). Valid parameters are: ['memory', 'steps', 'verbose'].\n"
     ]
    },
    {
     "name": "stderr",
     "output_type": "stream",
     "text": [
      "  1%|          | 512/50400 [10:50<10:25:52,  1.33it/s]"
     ]
    },
    {
     "name": "stdout",
     "output_type": "stream",
     "text": [
      "Invalid parameter 'splitter' for estimator Pipeline(steps=[('onehot', OneHotEncoder()),\n",
      "                ('estimator', DecisionTreeRegressor())]). Valid parameters are: ['memory', 'steps', 'verbose'].\n"
     ]
    },
    {
     "name": "stderr",
     "output_type": "stream",
     "text": [
      "  1%|          | 513/50400 [10:51<10:52:58,  1.27it/s]"
     ]
    },
    {
     "name": "stdout",
     "output_type": "stream",
     "text": [
      "Invalid parameter 'splitter' for estimator Pipeline(steps=[('onehot', OneHotEncoder()),\n",
      "                ('estimator', DecisionTreeRegressor())]). Valid parameters are: ['memory', 'steps', 'verbose'].\n"
     ]
    },
    {
     "name": "stderr",
     "output_type": "stream",
     "text": [
      "  1%|          | 514/50400 [10:52<10:25:34,  1.33it/s]"
     ]
    },
    {
     "name": "stdout",
     "output_type": "stream",
     "text": [
      "Invalid parameter 'splitter' for estimator Pipeline(steps=[('onehot', OneHotEncoder()),\n",
      "                ('estimator', DecisionTreeRegressor())]). Valid parameters are: ['memory', 'steps', 'verbose'].\n"
     ]
    },
    {
     "name": "stderr",
     "output_type": "stream",
     "text": [
      "  1%|          | 515/50400 [10:53<10:01:32,  1.38it/s]"
     ]
    },
    {
     "name": "stdout",
     "output_type": "stream",
     "text": [
      "Invalid parameter 'splitter' for estimator Pipeline(steps=[('onehot', OneHotEncoder()),\n",
      "                ('estimator', DecisionTreeRegressor())]). Valid parameters are: ['memory', 'steps', 'verbose'].\n"
     ]
    },
    {
     "name": "stderr",
     "output_type": "stream",
     "text": [
      "  1%|          | 516/50400 [10:53<10:08:11,  1.37it/s]"
     ]
    },
    {
     "name": "stdout",
     "output_type": "stream",
     "text": [
      "Invalid parameter 'splitter' for estimator Pipeline(steps=[('onehot', OneHotEncoder()),\n",
      "                ('estimator', DecisionTreeRegressor())]). Valid parameters are: ['memory', 'steps', 'verbose'].\n"
     ]
    },
    {
     "name": "stderr",
     "output_type": "stream",
     "text": [
      "  1%|          | 517/50400 [10:54<10:29:19,  1.32it/s]"
     ]
    },
    {
     "name": "stdout",
     "output_type": "stream",
     "text": [
      "Invalid parameter 'splitter' for estimator Pipeline(steps=[('onehot', OneHotEncoder()),\n",
      "                ('estimator', DecisionTreeRegressor())]). Valid parameters are: ['memory', 'steps', 'verbose'].\n"
     ]
    },
    {
     "name": "stderr",
     "output_type": "stream",
     "text": [
      "  1%|          | 518/50400 [10:55<10:04:03,  1.38it/s]"
     ]
    },
    {
     "name": "stdout",
     "output_type": "stream",
     "text": [
      "Invalid parameter 'splitter' for estimator Pipeline(steps=[('onehot', OneHotEncoder()),\n",
      "                ('estimator', DecisionTreeRegressor())]). Valid parameters are: ['memory', 'steps', 'verbose'].\n"
     ]
    },
    {
     "name": "stderr",
     "output_type": "stream",
     "text": [
      "  1%|          | 519/50400 [10:56<9:45:40,  1.42it/s] "
     ]
    },
    {
     "name": "stdout",
     "output_type": "stream",
     "text": [
      "Invalid parameter 'splitter' for estimator Pipeline(steps=[('onehot', OneHotEncoder()),\n",
      "                ('estimator', DecisionTreeRegressor())]). Valid parameters are: ['memory', 'steps', 'verbose'].\n"
     ]
    },
    {
     "name": "stderr",
     "output_type": "stream",
     "text": [
      "  1%|          | 520/50400 [10:56<9:50:05,  1.41it/s]"
     ]
    },
    {
     "name": "stdout",
     "output_type": "stream",
     "text": [
      "Invalid parameter 'splitter' for estimator Pipeline(steps=[('onehot', OneHotEncoder()),\n",
      "                ('estimator', DecisionTreeRegressor())]). Valid parameters are: ['memory', 'steps', 'verbose'].\n"
     ]
    },
    {
     "name": "stderr",
     "output_type": "stream",
     "text": [
      "  1%|          | 521/50400 [10:57<10:07:32,  1.37it/s]"
     ]
    },
    {
     "name": "stdout",
     "output_type": "stream",
     "text": [
      "Invalid parameter 'splitter' for estimator Pipeline(steps=[('onehot', OneHotEncoder()),\n",
      "                ('estimator', DecisionTreeRegressor())]). Valid parameters are: ['memory', 'steps', 'verbose'].\n"
     ]
    },
    {
     "name": "stderr",
     "output_type": "stream",
     "text": [
      "  1%|          | 522/50400 [10:58<10:06:14,  1.37it/s]"
     ]
    },
    {
     "name": "stdout",
     "output_type": "stream",
     "text": [
      "Invalid parameter 'splitter' for estimator Pipeline(steps=[('onehot', OneHotEncoder()),\n",
      "                ('estimator', DecisionTreeRegressor())]). Valid parameters are: ['memory', 'steps', 'verbose'].\n"
     ]
    },
    {
     "name": "stderr",
     "output_type": "stream",
     "text": [
      "  1%|          | 523/50400 [10:59<10:14:14,  1.35it/s]"
     ]
    },
    {
     "name": "stdout",
     "output_type": "stream",
     "text": [
      "Invalid parameter 'splitter' for estimator Pipeline(steps=[('onehot', OneHotEncoder()),\n",
      "                ('estimator', DecisionTreeRegressor())]). Valid parameters are: ['memory', 'steps', 'verbose'].\n"
     ]
    },
    {
     "name": "stderr",
     "output_type": "stream",
     "text": [
      "  1%|          | 524/50400 [10:59<10:54:35,  1.27it/s]"
     ]
    },
    {
     "name": "stdout",
     "output_type": "stream",
     "text": [
      "Invalid parameter 'splitter' for estimator Pipeline(steps=[('onehot', OneHotEncoder()),\n",
      "                ('estimator', DecisionTreeRegressor())]). Valid parameters are: ['memory', 'steps', 'verbose'].\n"
     ]
    },
    {
     "name": "stderr",
     "output_type": "stream",
     "text": [
      "  1%|          | 525/50400 [11:00<10:21:20,  1.34it/s]"
     ]
    },
    {
     "name": "stdout",
     "output_type": "stream",
     "text": [
      "Invalid parameter 'splitter' for estimator Pipeline(steps=[('onehot', OneHotEncoder()),\n",
      "                ('estimator', DecisionTreeRegressor())]). Valid parameters are: ['memory', 'steps', 'verbose'].\n"
     ]
    },
    {
     "name": "stderr",
     "output_type": "stream",
     "text": [
      "  1%|          | 526/50400 [11:01<10:04:38,  1.37it/s]"
     ]
    },
    {
     "name": "stdout",
     "output_type": "stream",
     "text": [
      "Invalid parameter 'splitter' for estimator Pipeline(steps=[('onehot', OneHotEncoder()),\n",
      "                ('estimator', DecisionTreeRegressor())]). Valid parameters are: ['memory', 'steps', 'verbose'].\n"
     ]
    },
    {
     "name": "stderr",
     "output_type": "stream",
     "text": [
      "  1%|          | 527/50400 [11:01<9:43:48,  1.42it/s] "
     ]
    },
    {
     "name": "stdout",
     "output_type": "stream",
     "text": [
      "Invalid parameter 'splitter' for estimator Pipeline(steps=[('onehot', OneHotEncoder()),\n",
      "                ('estimator', DecisionTreeRegressor())]). Valid parameters are: ['memory', 'steps', 'verbose'].\n"
     ]
    },
    {
     "name": "stderr",
     "output_type": "stream",
     "text": [
      "  1%|          | 528/50400 [11:02<10:02:25,  1.38it/s]"
     ]
    },
    {
     "name": "stdout",
     "output_type": "stream",
     "text": [
      "Invalid parameter 'splitter' for estimator Pipeline(steps=[('onehot', OneHotEncoder()),\n",
      "                ('estimator', DecisionTreeRegressor())]). Valid parameters are: ['memory', 'steps', 'verbose'].\n"
     ]
    },
    {
     "name": "stderr",
     "output_type": "stream",
     "text": [
      "  1%|          | 529/50400 [11:03<9:56:17,  1.39it/s] "
     ]
    },
    {
     "name": "stdout",
     "output_type": "stream",
     "text": [
      "Invalid parameter 'splitter' for estimator Pipeline(steps=[('onehot', OneHotEncoder()),\n",
      "                ('estimator', DecisionTreeRegressor())]). Valid parameters are: ['memory', 'steps', 'verbose'].\n"
     ]
    },
    {
     "name": "stderr",
     "output_type": "stream",
     "text": [
      "  1%|          | 530/50400 [11:04<10:34:58,  1.31it/s]"
     ]
    },
    {
     "name": "stdout",
     "output_type": "stream",
     "text": [
      "Invalid parameter 'splitter' for estimator Pipeline(steps=[('onehot', OneHotEncoder()),\n",
      "                ('estimator', DecisionTreeRegressor())]). Valid parameters are: ['memory', 'steps', 'verbose'].\n"
     ]
    },
    {
     "name": "stderr",
     "output_type": "stream",
     "text": [
      "  1%|          | 531/50400 [11:05<10:37:00,  1.30it/s]"
     ]
    },
    {
     "name": "stdout",
     "output_type": "stream",
     "text": [
      "Invalid parameter 'splitter' for estimator Pipeline(steps=[('onehot', OneHotEncoder()),\n",
      "                ('estimator', DecisionTreeRegressor())]). Valid parameters are: ['memory', 'steps', 'verbose'].\n"
     ]
    },
    {
     "name": "stderr",
     "output_type": "stream",
     "text": [
      "  1%|          | 532/50400 [11:05<11:14:23,  1.23it/s]"
     ]
    },
    {
     "name": "stdout",
     "output_type": "stream",
     "text": [
      "Invalid parameter 'splitter' for estimator Pipeline(steps=[('onehot', OneHotEncoder()),\n",
      "                ('estimator', DecisionTreeRegressor())]). Valid parameters are: ['memory', 'steps', 'verbose'].\n"
     ]
    },
    {
     "name": "stderr",
     "output_type": "stream",
     "text": [
      "  1%|          | 533/50400 [11:06<10:49:38,  1.28it/s]"
     ]
    },
    {
     "name": "stdout",
     "output_type": "stream",
     "text": [
      "Invalid parameter 'splitter' for estimator Pipeline(steps=[('onehot', OneHotEncoder()),\n",
      "                ('estimator', DecisionTreeRegressor())]). Valid parameters are: ['memory', 'steps', 'verbose'].\n"
     ]
    },
    {
     "name": "stderr",
     "output_type": "stream",
     "text": [
      "  1%|          | 534/50400 [11:07<10:46:49,  1.28it/s]"
     ]
    },
    {
     "name": "stdout",
     "output_type": "stream",
     "text": [
      "Invalid parameter 'splitter' for estimator Pipeline(steps=[('onehot', OneHotEncoder()),\n",
      "                ('estimator', DecisionTreeRegressor())]). Valid parameters are: ['memory', 'steps', 'verbose'].\n"
     ]
    },
    {
     "name": "stderr",
     "output_type": "stream",
     "text": [
      "  1%|          | 535/50400 [11:08<12:08:13,  1.14it/s]"
     ]
    },
    {
     "name": "stdout",
     "output_type": "stream",
     "text": [
      "Invalid parameter 'splitter' for estimator Pipeline(steps=[('onehot', OneHotEncoder()),\n",
      "                ('estimator', DecisionTreeRegressor())]). Valid parameters are: ['memory', 'steps', 'verbose'].\n"
     ]
    },
    {
     "name": "stderr",
     "output_type": "stream",
     "text": [
      "  1%|          | 536/50400 [11:10<15:14:32,  1.10s/it]"
     ]
    },
    {
     "name": "stdout",
     "output_type": "stream",
     "text": [
      "Invalid parameter 'splitter' for estimator Pipeline(steps=[('onehot', OneHotEncoder()),\n",
      "                ('estimator', DecisionTreeRegressor())]). Valid parameters are: ['memory', 'steps', 'verbose'].\n"
     ]
    },
    {
     "name": "stderr",
     "output_type": "stream",
     "text": [
      "  1%|          | 537/50400 [11:11<16:44:57,  1.21s/it]"
     ]
    },
    {
     "name": "stdout",
     "output_type": "stream",
     "text": [
      "Invalid parameter 'splitter' for estimator Pipeline(steps=[('onehot', OneHotEncoder()),\n",
      "                ('estimator', DecisionTreeRegressor())]). Valid parameters are: ['memory', 'steps', 'verbose'].\n"
     ]
    },
    {
     "name": "stderr",
     "output_type": "stream",
     "text": [
      "  1%|          | 538/50400 [11:13<18:59:19,  1.37s/it]"
     ]
    },
    {
     "name": "stdout",
     "output_type": "stream",
     "text": [
      "Invalid parameter 'splitter' for estimator Pipeline(steps=[('onehot', OneHotEncoder()),\n",
      "                ('estimator', DecisionTreeRegressor())]). Valid parameters are: ['memory', 'steps', 'verbose'].\n"
     ]
    },
    {
     "name": "stderr",
     "output_type": "stream",
     "text": [
      "  1%|          | 539/50400 [11:14<20:00:30,  1.44s/it]"
     ]
    },
    {
     "name": "stdout",
     "output_type": "stream",
     "text": [
      "Invalid parameter 'splitter' for estimator Pipeline(steps=[('onehot', OneHotEncoder()),\n",
      "                ('estimator', DecisionTreeRegressor())]). Valid parameters are: ['memory', 'steps', 'verbose'].\n"
     ]
    },
    {
     "name": "stderr",
     "output_type": "stream",
     "text": [
      "  1%|          | 540/50400 [11:16<18:58:35,  1.37s/it]"
     ]
    },
    {
     "name": "stdout",
     "output_type": "stream",
     "text": [
      "Invalid parameter 'splitter' for estimator Pipeline(steps=[('onehot', OneHotEncoder()),\n",
      "                ('estimator', DecisionTreeRegressor())]). Valid parameters are: ['memory', 'steps', 'verbose'].\n"
     ]
    },
    {
     "name": "stderr",
     "output_type": "stream",
     "text": [
      "  1%|          | 540/50400 [11:16<17:21:30,  1.25s/it]"
     ]
    },
    {
     "name": "stdout",
     "output_type": "stream",
     "text": [
      "CTRL+C pressed. Stopping the execution...\n",
      "Finished running the pipeline\n",
      "Evaluation metrics:\n",
      "    best_score: -9223372036854775807\n",
      "    best_params: {}\n"
     ]
    },
    {
     "name": "stderr",
     "output_type": "stream",
     "text": [
      "\n"
     ]
    }
   ],
   "source": [
    "# load the data\n",
    "train_df = config.load_traindata_for_regression()\n",
    "pipelineFactory = PipelineFactory()\n",
    "\n",
    "# create the baseline pipeline\n",
    "pipeline = pipelineFactory.create_pipeline(\n",
    "    train_df,\n",
    "    ModelType.REGRE_PREPROCESSED,\n",
    "    verbose_level=1,\n",
    "    evaluation=EvaluationType.GRID_SEARCH,\n",
    "    param_grid=parameters\n",
    ")\n",
    "pipeline.clear_steps()\n",
    "pipeline.add_new_step(OneHotEncoder(), 'onehot')\n",
    "pipeline.change_estimator(DecisionTreeRegressor())\n",
    "pipeline.run()\n",
    "scores = {}"
   ]
  }
 ],
 "metadata": {
  "kernelspec": {
   "display_name": "DS",
   "language": "python",
   "name": "python3"
  },
  "language_info": {
   "codemirror_mode": {
    "name": "ipython",
    "version": 3
   },
   "file_extension": ".py",
   "mimetype": "text/x-python",
   "name": "python",
   "nbconvert_exporter": "python",
   "pygments_lexer": "ipython3",
   "version": "3.10.10"
  },
  "orig_nbformat": 4
 },
 "nbformat": 4,
 "nbformat_minor": 2
}
