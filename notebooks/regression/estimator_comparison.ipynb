{
 "cells": [
  {
   "cell_type": "markdown",
   "id": "cdf154e6",
   "metadata": {},
   "source": [
    "# Finding the right Estimator\n",
    "\n",
    "In this notebook, we examine how different estimators perform in our prediction pipeline. First, we load the required dependencies and the data."
   ]
  },
  {
   "cell_type": "code",
   "execution_count": 1,
   "id": "80cfdab2",
   "metadata": {},
   "outputs": [],
   "source": [
    "import os\n",
    "import sys\n",
    "module_path = os.path.abspath(os.path.join('..'))\n",
    "if module_path not in sys.path:\n",
    "    sys.path.append(module_path)\n",
    "    \n",
    "import pandas as pd\n",
    "import matplotlib.pyplot as plt\n",
    "import seaborn as sns\n",
    "from category_encoders.one_hot import OneHotEncoder\n",
    "\n",
    "\n",
    "from src import configuration as config\n",
    "from src.pipeline.pipeline_factory import PipelineFactory, ModelType, EvaluationType"
   ]
  },
  {
   "cell_type": "code",
   "execution_count": 2,
   "id": "a050bec3",
   "metadata": {},
   "outputs": [
    {
     "name": "stdout",
     "output_type": "stream",
     "text": [
      "Creating pipeline ...\n"
     ]
    }
   ],
   "source": [
    "# load the data\n",
    "train_df = config.load_traindata_for_regression()\n",
    "pipelineFactory = PipelineFactory()\n",
    "\n",
    "# create the baseline pipeline\n",
    "pipeline = pipelineFactory.create_pipeline(\n",
    "    train_df,\n",
    "    ModelType.REGRE_PREPROCESSED,\n",
    "    verbose_level=1,\n",
    "    evaluation=EvaluationType.CROSS_VALIDATION\n",
    ")\n",
    "\n",
    "scores = {}"
   ]
  },
  {
   "cell_type": "markdown",
   "id": "aca2db9c",
   "metadata": {},
   "source": [
    "***\n",
    "## 1) Evaluating Estimators"
   ]
  },
  {
   "cell_type": "markdown",
   "id": "22bbe06a",
   "metadata": {},
   "source": [
    "### 1.1) Baseline"
   ]
  },
  {
   "cell_type": "code",
   "execution_count": 3,
   "id": "79521b34",
   "metadata": {},
   "outputs": [
    {
     "name": "stdout",
     "output_type": "stream",
     "text": [
      "Starting pipeline using method: EvaluationType.CROSS_VALIDATION\n"
     ]
    },
    {
     "name": "stderr",
     "output_type": "stream",
     "text": [
      "100%|██████████████████████████████████████████████████████████████████████████████████████████████████████████████████████████| 5/5 [00:41<00:00,  8.23s/it]"
     ]
    },
    {
     "name": "stdout",
     "output_type": "stream",
     "text": [
      "Finished running the pipeline\n",
      "Evaluation metrics:\n",
      "    validation_average_spearman_fold_0: 0.0\n",
      "    validation_average_spearman_fold_1: 0.0\n",
      "    validation_average_spearman_fold_2: 0.0\n",
      "    validation_average_spearman_fold_3: 0.0\n",
      "    validation_average_spearman_fold_4: 0.0\n",
      "    average of all folds: 0.0 [std=0.0]\n"
     ]
    },
    {
     "name": "stderr",
     "output_type": "stream",
     "text": [
      "\n"
     ]
    }
   ],
   "source": [
    "from sklearn.dummy import DummyRegressor\n",
    "\n",
    "pipeline.change_estimator(DummyRegressor())\n",
    "pipeline.run()\n",
    "\n",
    "scores['baseline'] = pipeline._validation_performance_scores"
   ]
  },
  {
   "cell_type": "markdown",
   "id": "8d5fae1c",
   "metadata": {},
   "source": [
    "### 1.2) Linear Regression"
   ]
  },
  {
   "cell_type": "code",
   "execution_count": 4,
   "id": "00ec3c2b",
   "metadata": {},
   "outputs": [
    {
     "name": "stdout",
     "output_type": "stream",
     "text": [
      "Starting pipeline using method: EvaluationType.CROSS_VALIDATION\n"
     ]
    },
    {
     "name": "stderr",
     "output_type": "stream",
     "text": [
      "100%|██████████████████████████████████████████████████████████████████████████████████████████████████████████████████████████| 5/5 [00:43<00:00,  8.79s/it]"
     ]
    },
    {
     "name": "stdout",
     "output_type": "stream",
     "text": [
      "Finished running the pipeline\n",
      "Evaluation metrics:\n",
      "    validation_average_spearman_fold_0: 0.0822\n",
      "    validation_average_spearman_fold_1: 0.0887\n",
      "    validation_average_spearman_fold_2: 0.0718\n",
      "    validation_average_spearman_fold_3: 0.0885\n",
      "    validation_average_spearman_fold_4: 0.0743\n",
      "    average of all folds: 0.0811 [std=0.007]\n"
     ]
    },
    {
     "name": "stderr",
     "output_type": "stream",
     "text": [
      "\n"
     ]
    }
   ],
   "source": [
    "from sklearn.linear_model import LinearRegression\n",
    "\n",
    "pipeline.change_estimator(LinearRegression())\n",
    "pipeline.run()\n",
    "\n",
    "scores['linear_regression'] = pipeline._validation_performance_scores"
   ]
  },
  {
   "cell_type": "markdown",
   "id": "eefa7b33",
   "metadata": {},
   "source": [
    "### 1.3) SVMs"
   ]
  },
  {
   "cell_type": "code",
   "execution_count": 5,
   "id": "25e1511d",
   "metadata": {},
   "outputs": [
    {
     "name": "stdout",
     "output_type": "stream",
     "text": [
      "Starting pipeline using method: EvaluationType.CROSS_VALIDATION\n"
     ]
    },
    {
     "name": "stderr",
     "output_type": "stream",
     "text": [
      "100%|██████████████████████████████████████████████████████████████████████████████████████████████████████████████████████████| 5/5 [02:23<00:00, 28.61s/it]"
     ]
    },
    {
     "name": "stdout",
     "output_type": "stream",
     "text": [
      "Finished running the pipeline\n",
      "Evaluation metrics:\n",
      "    validation_average_spearman_fold_0: 0.1562\n",
      "    validation_average_spearman_fold_1: 0.1501\n",
      "    validation_average_spearman_fold_2: 0.1449\n",
      "    validation_average_spearman_fold_3: 0.1484\n",
      "    validation_average_spearman_fold_4: 0.1528\n",
      "    average of all folds: 0.1505 [std=0.0038]\n"
     ]
    },
    {
     "name": "stderr",
     "output_type": "stream",
     "text": [
      "\n"
     ]
    }
   ],
   "source": [
    "from sklearn.svm import SVR\n",
    "\n",
    "pipeline.change_estimator(SVR())\n",
    "pipeline.run()\n",
    "\n",
    "scores['svm'] = pipeline._validation_performance_scores"
   ]
  },
  {
   "cell_type": "markdown",
   "id": "9c00cb2c",
   "metadata": {},
   "source": [
    "### 1.4) K-Nearest-Neighbours"
   ]
  },
  {
   "cell_type": "code",
   "execution_count": 6,
   "id": "fb48afca",
   "metadata": {},
   "outputs": [
    {
     "name": "stdout",
     "output_type": "stream",
     "text": [
      "Starting pipeline using method: EvaluationType.CROSS_VALIDATION\n"
     ]
    },
    {
     "name": "stderr",
     "output_type": "stream",
     "text": [
      "100%|██████████████████████████████████████████████████████████████████████████████████████████████████████████████████████████| 5/5 [00:55<00:00, 11.16s/it]"
     ]
    },
    {
     "name": "stdout",
     "output_type": "stream",
     "text": [
      "Finished running the pipeline\n",
      "Evaluation metrics:\n",
      "    validation_average_spearman_fold_0: 0.3858\n",
      "    validation_average_spearman_fold_1: 0.3578\n",
      "    validation_average_spearman_fold_2: 0.3687\n",
      "    validation_average_spearman_fold_3: 0.3785\n",
      "    validation_average_spearman_fold_4: 0.3752\n",
      "    average of all folds: 0.3732 [std=0.0095]\n"
     ]
    },
    {
     "name": "stderr",
     "output_type": "stream",
     "text": [
      "\n"
     ]
    }
   ],
   "source": [
    "from sklearn.neighbors import KNeighborsRegressor\n",
    "\n",
    "pipeline.change_estimator(KNeighborsRegressor())\n",
    "pipeline.run()\n",
    "\n",
    "scores['knn'] = pipeline._validation_performance_scores"
   ]
  },
  {
   "cell_type": "markdown",
   "id": "9f3c621a",
   "metadata": {},
   "source": [
    "### 1.5) Decision Trees"
   ]
  },
  {
   "cell_type": "code",
   "execution_count": 7,
   "id": "ecfde2fe",
   "metadata": {},
   "outputs": [
    {
     "name": "stdout",
     "output_type": "stream",
     "text": [
      "Starting pipeline using method: EvaluationType.CROSS_VALIDATION\n"
     ]
    },
    {
     "name": "stderr",
     "output_type": "stream",
     "text": [
      "100%|██████████████████████████████████████████████████████████████████████████████████████████████████████████████████████████| 5/5 [00:53<00:00, 10.76s/it]"
     ]
    },
    {
     "name": "stdout",
     "output_type": "stream",
     "text": [
      "Finished running the pipeline\n",
      "Evaluation metrics:\n",
      "    validation_average_spearman_fold_0: 0.4671\n",
      "    validation_average_spearman_fold_1: 0.4771\n",
      "    validation_average_spearman_fold_2: 0.4751\n",
      "    validation_average_spearman_fold_3: 0.4906\n",
      "    validation_average_spearman_fold_4: 0.5153\n",
      "    average of all folds: 0.485 [std=0.0169]\n"
     ]
    },
    {
     "name": "stderr",
     "output_type": "stream",
     "text": [
      "\n"
     ]
    }
   ],
   "source": [
    "from sklearn.tree import DecisionTreeRegressor\n",
    "\n",
    "pipeline.change_estimator(DecisionTreeRegressor())\n",
    "pipeline.run()\n",
    "\n",
    "scores['decision_tree'] = pipeline._validation_performance_scores"
   ]
  },
  {
   "cell_type": "markdown",
   "id": "93bf4aee",
   "metadata": {},
   "source": [
    "### 1.6) Random Forest Classifier"
   ]
  },
  {
   "cell_type": "code",
   "execution_count": 8,
   "id": "a5a069f4",
   "metadata": {},
   "outputs": [
    {
     "name": "stdout",
     "output_type": "stream",
     "text": [
      "Starting pipeline using method: EvaluationType.CROSS_VALIDATION\n"
     ]
    },
    {
     "name": "stderr",
     "output_type": "stream",
     "text": [
      "100%|██████████████████████████████████████████████████████████████████████████████████████████████████████████████████████████| 5/5 [02:24<00:00, 28.92s/it]"
     ]
    },
    {
     "name": "stdout",
     "output_type": "stream",
     "text": [
      "Finished running the pipeline\n",
      "Evaluation metrics:\n",
      "    validation_average_spearman_fold_0: 0.4676\n",
      "    validation_average_spearman_fold_1: 0.4723\n",
      "    validation_average_spearman_fold_2: 0.4825\n",
      "    validation_average_spearman_fold_3: 0.4895\n",
      "    validation_average_spearman_fold_4: 0.4852\n",
      "    average of all folds: 0.4794 [std=0.0082]\n"
     ]
    },
    {
     "name": "stderr",
     "output_type": "stream",
     "text": [
      "\n"
     ]
    }
   ],
   "source": [
    "from sklearn.ensemble import RandomForestRegressor\n",
    "\n",
    "pipeline.change_estimator(RandomForestRegressor())\n",
    "pipeline.run()\n",
    "\n",
    "scores['random_forest'] = pipeline._validation_performance_scores"
   ]
  },
  {
   "cell_type": "markdown",
   "id": "8b4789a5",
   "metadata": {},
   "source": [
    "### 1.7) Light Gradient Boosting Machine"
   ]
  },
  {
   "cell_type": "code",
   "execution_count": 9,
   "id": "4c977cd0",
   "metadata": {},
   "outputs": [
    {
     "name": "stdout",
     "output_type": "stream",
     "text": [
      "Starting pipeline using method: EvaluationType.CROSS_VALIDATION\n"
     ]
    },
    {
     "name": "stderr",
     "output_type": "stream",
     "text": [
      "100%|██████████████████████████████████████████████████████████████████████████████████████████████████████████████████████████| 5/5 [00:57<00:00, 11.49s/it]"
     ]
    },
    {
     "name": "stdout",
     "output_type": "stream",
     "text": [
      "Finished running the pipeline\n",
      "Evaluation metrics:\n",
      "    validation_average_spearman_fold_0: 0.2868\n",
      "    validation_average_spearman_fold_1: 0.3285\n",
      "    validation_average_spearman_fold_2: 0.3057\n",
      "    validation_average_spearman_fold_3: 0.2972\n",
      "    validation_average_spearman_fold_4: 0.3195\n",
      "    average of all folds: 0.3075 [std=0.015]\n"
     ]
    },
    {
     "name": "stderr",
     "output_type": "stream",
     "text": [
      "\n"
     ]
    }
   ],
   "source": [
    "from lightgbm import LGBMRegressor\n",
    "\n",
    "pipeline.change_estimator(LGBMRegressor())\n",
    "pipeline.run()\n",
    "\n",
    "scores['lgbm'] = pipeline._validation_performance_scores"
   ]
  },
  {
   "cell_type": "markdown",
   "id": "6e56f990",
   "metadata": {},
   "source": [
    "### 1.8) Neural Networks"
   ]
  },
  {
   "cell_type": "code",
   "execution_count": 10,
   "id": "8cbc8b88",
   "metadata": {},
   "outputs": [
    {
     "name": "stdout",
     "output_type": "stream",
     "text": [
      "Starting pipeline using method: EvaluationType.CROSS_VALIDATION\n"
     ]
    },
    {
     "name": "stderr",
     "output_type": "stream",
     "text": [
      "100%|██████████████████████████████████████████████████████████████████████████████████████████████████████████████████████████| 5/5 [01:15<00:00, 15.19s/it]"
     ]
    },
    {
     "name": "stdout",
     "output_type": "stream",
     "text": [
      "Finished running the pipeline\n",
      "Evaluation metrics:\n",
      "    validation_average_spearman_fold_0: 0.1422\n",
      "    validation_average_spearman_fold_1: 0.1228\n",
      "    validation_average_spearman_fold_2: 0.147\n",
      "    validation_average_spearman_fold_3: 0.1547\n",
      "    validation_average_spearman_fold_4: 0.127\n",
      "    average of all folds: 0.1387 [std=0.0121]\n"
     ]
    },
    {
     "name": "stderr",
     "output_type": "stream",
     "text": [
      "\n"
     ]
    }
   ],
   "source": [
    "from sklearn.neural_network import MLPRegressor\n",
    "\n",
    "pipeline.change_estimator(MLPRegressor())\n",
    "pipeline.run()\n",
    "\n",
    "scores['neural_network'] = pipeline._validation_performance_scores"
   ]
  },
  {
   "cell_type": "markdown",
   "id": "b18df12e",
   "metadata": {},
   "source": [
    "***\n",
    "## 2) Comparing Estimators"
   ]
  },
  {
   "cell_type": "code",
   "execution_count": 11,
   "id": "491dacb8",
   "metadata": {},
   "outputs": [
    {
     "data": {
      "text/plain": [
       "decision_tree        0.485047\n",
       "random_forest        0.479428\n",
       "knn                  0.373191\n",
       "lgbm                 0.307539\n",
       "svm                  0.150474\n",
       "neural_network       0.138741\n",
       "linear_regression    0.081094\n",
       "baseline             0.000000\n",
       "dtype: float64"
      ]
     },
     "metadata": {},
     "output_type": "display_data"
    },
    {
     "data": {
      "image/png": "[encoded data removed]",
      "text/plain": [
       "<Figure size 432x288 with 1 Axes>"
      ]
     },
     "metadata": {
      "needs_background": "light"
     },
     "output_type": "display_data"
    }
   ],
   "source": [
    "scores_df = pd.DataFrame(scores)\n",
    "scores_df = scores_df.applymap(lambda x: x[0] if isinstance(x, list) else x)\n",
    "scores_df.index = scores_df.index.str.replace('validation_', '')\n",
    "scores_df = scores_df.rename_axis('metric')\n",
    "\n",
    "scores_df = scores_df.mean()\n",
    "display(scores_df.sort_values(ascending=False))\n",
    "sns.barplot(x=scores_df, y=scores_df.index)\n",
    "plt.title('regression')\n",
    "plt.xlabel('average_spearman')\n",
    "plt.gcf().subplots_adjust(left=0.25)\n",
    "plt.savefig('regression_estimator_comparison.svg')\n",
    "plt.show()"
   ]
  },
  {
   "cell_type": "markdown",
   "id": "a5864058",
   "metadata": {},
   "source": [
    "In our evaluations, the decision tree performed the best regarding the average spearman correlation. Therefore, we will focus on this model in the tuning phase."
   ]
  },
  {
   "cell_type": "markdown",
   "id": "03435c66",
   "metadata": {},
   "source": [
    "### Grid Search"
   ]
  },
  {
   "cell_type": "markdown",
   "id": "8555c8ce",
   "metadata": {},
   "source": [
    "Grid Search for LGBM-Regressor:"
   ]
  },
  {
   "cell_type": "code",
   "execution_count": null,
   "id": "d18f69f4",
   "metadata": {},
   "outputs": [],
   "source": [
    "# LGBM-Regressor\n",
    "param_grid = {\n",
    "    'estimator__learning_rate': [0.1, 0.01, 0.001],\n",
    "    'estimator__n_estimators': [100, 200, 500],\n",
    "    'estimator__max_depth': [3, 5, 7],\n",
    "    'estimator__num_leaves': [31, 50, 100],\n",
    "    'estimator__subsample': [0.8, 1.0],\n",
    "    'estimator__colsample_bytree': [0.8, 1.0]\n",
    "}"
   ]
  },
  {
   "cell_type": "code",
   "execution_count": null,
   "id": "96a85b99",
   "metadata": {},
   "outputs": [],
   "source": [
    "# load the data\n",
    "train_df = config.load_traindata_for_regression()\n",
    "pipelineFactory = PipelineFactory()\n",
    "\n",
    "# create the baseline pipeline\n",
    "pipeline = pipelineFactory.create_pipeline(\n",
    "    train_df,\n",
    "    ModelType.REGRE_PREPROCESSED,\n",
    "    verbose_level=1,\n",
    "    evaluation=EvaluationType.GRID_SEARCH,\n",
    "    param_grid=param_grid\n",
    ")\n",
    "pipeline.clear_steps()\n",
    "pipeline.add_new_step(OneHotEncoder(), 'onehot')\n",
    "pipeline.change_estimator(LGBMRegressor())\n",
    "\n",
    "pipeline.run()\n",
    "scores = {}"
   ]
  },
  {
   "cell_type": "markdown",
   "id": "faa2849f",
   "metadata": {},
   "source": [
    "Evaluation metrics:\n",
    "    best_score: 0.3675\n",
    "    best_params: {'estimator__learning_rate': 0.1, 'estimator__n_estimators': 500, 'estimator__max_depth': 7, 'estimator__num_leaves': 100, 'estimator__subsample': 0.8, 'estimator__colsample_bytree': 1.0}"
   ]
  },
  {
   "cell_type": "markdown",
   "id": "169e0a94",
   "metadata": {},
   "source": [
    "Grid Search for DecisionTree Regressor:"
   ]
  },
  {
   "cell_type": "code",
   "execution_count": null,
   "id": "d236d657",
   "metadata": {},
   "outputs": [],
   "source": [
    "parameters={\"estimator__splitter\":[\"best\",\"random\"],\n",
    "            \"estimator__max_depth\" : [1,3,5,7,9],\n",
    "           \"estimator__min_samples_leaf\":[1,2,3,4,],\n",
    "           \"estimator__max_features\":[\"auto\",\"log2\",\"sqrt\",None],\n",
    "           \"estimator__max_leaf_nodes\":[None,10,20,30,40] }"
   ]
  },
  {
   "cell_type": "code",
   "execution_count": null,
   "id": "ae435a32",
   "metadata": {},
   "outputs": [],
   "source": [
    "import warnings\n",
    "warnings.filterwarnings(\"ignore\", category=FutureWarning)\n",
    "\n",
    "# load the data\n",
    "train_df = config.load_traindata_for_regression()\n",
    "pipelineFactory = PipelineFactory()\n",
    "\n",
    "# create the baseline pipeline\n",
    "pipeline = pipelineFactory.create_pipeline(\n",
    "    train_df,\n",
    "    ModelType.REGRE_PREPROCESSED,\n",
    "    verbose_level=1,\n",
    "    evaluation=EvaluationType.GRID_SEARCH,\n",
    "    param_grid=parameters\n",
    ")\n",
    "pipeline.clear_steps()\n",
    "pipeline.add_new_step(OneHotEncoder(), 'onehot')\n",
    "pipeline.change_estimator(DecisionTreeRegressor())\n",
    "\n",
    "pipeline.run()\n",
    "scores = {}"
   ]
  },
  {
   "cell_type": "markdown",
   "id": "2db844fa",
   "metadata": {},
   "source": [
    "Evaluation metrics:\n",
    "    best_score: 0.2319\n",
    "    best_params: {'estimator__splitter': 'best', 'estimator__max_depth': 9, 'estimator__min_samples_leaf': 1, 'estimator__max_features': 'auto', 'estimator__max_leaf_nodes': None}"
   ]
  }
 ],
 "metadata": {
  "kernelspec": {
   "display_name": "Python 3 (ipykernel)",
   "language": "python",
   "name": "python3"
  },
  "language_info": {
   "codemirror_mode": {
    "name": "ipython",
    "version": 3
   },
   "file_extension": ".py",
   "mimetype": "text/x-python",
   "name": "python",
   "nbconvert_exporter": "python",
   "pygments_lexer": "ipython3",
   "version": "3.8.10"
  }
 },
 "nbformat": 4,
 "nbformat_minor": 5
}
