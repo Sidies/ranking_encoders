{
 "cells": [
  {
   "attachments": {},
   "cell_type": "markdown",
   "id": "cdf154e6",
   "metadata": {},
   "source": [
    "# Finding the right Estimator\n",
    "\n",
    "In this notebook, we examine how different estimators perform in our prediction pipeline. First, we load the required dependencies and the data."
   ]
  },
  {
   "cell_type": "code",
   "execution_count": 1,
   "id": "80cfdab2",
   "metadata": {},
   "outputs": [
    {
     "name": "stderr",
     "output_type": "stream",
     "text": [
      "c:\\users\\thomas\\appdata\\local\\programs\\python\\python38\\lib\\site-packages\\tqdm\\auto.py:22: TqdmWarning: IProgress not found. Please update jupyter and ipywidgets. See https://ipywidgets.readthedocs.io/en/stable/user_install.html\n",
      "  from .autonotebook import tqdm as notebook_tqdm\n"
     ]
    }
   ],
   "source": [
    "import os\n",
    "import sys\n",
    "module_path = os.path.abspath(os.path.join('..'))\n",
    "if module_path not in sys.path:\n",
    "    sys.path.append(module_path)\n",
    "    \n",
    "import pandas as pd\n",
    "import matplotlib.pyplot as plt\n",
    "import seaborn as sns\n",
    "\n",
    "from src import configuration as config\n",
    "from src.pipeline.pipeline_factory import PipelineFactory, ModelType, EvaluationType"
   ]
  },
  {
   "cell_type": "code",
   "execution_count": 2,
   "id": "a050bec3",
   "metadata": {},
   "outputs": [],
   "source": [
    "# load the data\n",
    "train_df = config.load_traindata_for_regression()\n",
    "pipelineFactory = PipelineFactory()\n",
    "\n",
    "# create the baseline pipeline\n",
    "pipeline = pipelineFactory.create_pipeline(\n",
    "    train_df,\n",
    "    ModelType.REGRE_PREPROCESSED,\n",
    "    verbose_level=1,\n",
    "    evaluation=EvaluationType.BASIC\n",
    ")\n",
    "\n",
    "scores = {}"
   ]
  },
  {
   "attachments": {},
   "cell_type": "markdown",
   "id": "aca2db9c",
   "metadata": {},
   "source": [
    "***\n",
    "## 1) Evaluating Estimators"
   ]
  },
  {
   "attachments": {},
   "cell_type": "markdown",
   "id": "22bbe06a",
   "metadata": {},
   "source": [
    "### 1.1) Baseline"
   ]
  },
  {
   "cell_type": "code",
   "execution_count": 3,
   "id": "79521b34",
   "metadata": {},
   "outputs": [
    {
     "name": "stdout",
     "output_type": "stream",
     "text": [
      "Starting pipeline using method: EvaluationType.BASIC\n",
      "Finished running the pipeline\n",
      "Evaluation metrics:\n",
      "    validation_rmse: 0.2206 [std=0.]\n",
      "    validation_mae: 0.1783 [std=0.]\n",
      "    validation_r2: -0.005 [std=0.]\n",
      "    validation_average_spearman: 0. [std=0.]\n"
     ]
    }
   ],
   "source": [
    "from sklearn.dummy import DummyRegressor\n",
    "\n",
    "pipeline.change_estimator(DummyRegressor())\n",
    "pipeline.run()\n",
    "\n",
    "scores['baseline'] = pipeline._validation_performance_scores"
   ]
  },
  {
   "attachments": {},
   "cell_type": "markdown",
   "id": "8d5fae1c",
   "metadata": {},
   "source": [
    "### 1.2) Linear Regression"
   ]
  },
  {
   "cell_type": "code",
   "execution_count": 4,
   "id": "00ec3c2b",
   "metadata": {},
   "outputs": [
    {
     "name": "stdout",
     "output_type": "stream",
     "text": [
      "Starting pipeline using method: EvaluationType.BASIC\n",
      "Finished running the pipeline\n",
      "Evaluation metrics:\n",
      "    validation_rmse: 0.1514 [std=0.]\n",
      "    validation_mae: 0.1091 [std=0.]\n",
      "    validation_r2: 0.5269 [std=0.]\n",
      "    validation_average_spearman: 0.0893 [std=0.]\n"
     ]
    }
   ],
   "source": [
    "from sklearn.linear_model import LinearRegression\n",
    "\n",
    "pipeline.change_estimator(LinearRegression())\n",
    "pipeline.run()\n",
    "\n",
    "scores['linear_regression'] = pipeline._validation_performance_scores"
   ]
  },
  {
   "attachments": {},
   "cell_type": "markdown",
   "id": "eefa7b33",
   "metadata": {},
   "source": [
    "### 1.3) SVMs"
   ]
  },
  {
   "cell_type": "code",
   "execution_count": 5,
   "id": "25e1511d",
   "metadata": {},
   "outputs": [
    {
     "name": "stdout",
     "output_type": "stream",
     "text": [
      "Starting pipeline using method: EvaluationType.BASIC\n",
      "Finished running the pipeline\n",
      "Evaluation metrics:\n",
      "    validation_rmse: 0.1027 [std=0.]\n",
      "    validation_mae: 0.078 [std=0.]\n",
      "    validation_r2: 0.7824 [std=0.]\n",
      "    validation_average_spearman: 0.1578 [std=0.]\n"
     ]
    }
   ],
   "source": [
    "from sklearn.svm import SVR\n",
    "\n",
    "pipeline.change_estimator(SVR())\n",
    "pipeline.run()\n",
    "\n",
    "scores['svm'] = pipeline._validation_performance_scores"
   ]
  },
  {
   "attachments": {},
   "cell_type": "markdown",
   "id": "9c00cb2c",
   "metadata": {},
   "source": [
    "### 1.4) K-Nearest-Neighbours"
   ]
  },
  {
   "cell_type": "code",
   "execution_count": 6,
   "id": "fb48afca",
   "metadata": {},
   "outputs": [
    {
     "name": "stdout",
     "output_type": "stream",
     "text": [
      "Starting pipeline using method: EvaluationType.BASIC\n",
      "Finished running the pipeline\n",
      "Evaluation metrics:\n",
      "    validation_rmse: 0.1306 [std=0.]\n",
      "    validation_mae: 0.0748 [std=0.]\n",
      "    validation_r2: 0.6478 [std=0.]\n",
      "    validation_average_spearman: 0.3984 [std=0.]\n"
     ]
    }
   ],
   "source": [
    "from sklearn.neighbors import KNeighborsRegressor\n",
    "\n",
    "pipeline.change_estimator(KNeighborsRegressor())\n",
    "pipeline.run()\n",
    "\n",
    "scores['knn'] = pipeline._validation_performance_scores"
   ]
  },
  {
   "attachments": {},
   "cell_type": "markdown",
   "id": "9f3c621a",
   "metadata": {},
   "source": [
    "### 1.5) Decision Trees"
   ]
  },
  {
   "cell_type": "code",
   "execution_count": 7,
   "id": "ecfde2fe",
   "metadata": {},
   "outputs": [
    {
     "name": "stdout",
     "output_type": "stream",
     "text": [
      "Starting pipeline using method: EvaluationType.BASIC\n",
      "Finished running the pipeline\n",
      "Evaluation metrics:\n",
      "    validation_rmse: 0.0692 [std=0.]\n",
      "    validation_mae: 0.0318 [std=0.]\n",
      "    validation_r2: 0.901 [std=0.]\n",
      "    validation_average_spearman: 0.5236 [std=0.]\n"
     ]
    }
   ],
   "source": [
    "from sklearn.tree import DecisionTreeRegressor\n",
    "\n",
    "pipeline.change_estimator(DecisionTreeRegressor())\n",
    "pipeline.run()\n",
    "\n",
    "scores['decision_tree'] = pipeline._validation_performance_scores"
   ]
  },
  {
   "attachments": {},
   "cell_type": "markdown",
   "id": "93bf4aee",
   "metadata": {},
   "source": [
    "### 1.6) Random Forest Classifier"
   ]
  },
  {
   "cell_type": "code",
   "execution_count": 8,
   "id": "a5a069f4",
   "metadata": {},
   "outputs": [
    {
     "name": "stdout",
     "output_type": "stream",
     "text": [
      "Starting pipeline using method: EvaluationType.BASIC\n",
      "Finished running the pipeline\n",
      "Evaluation metrics:\n",
      "    validation_rmse: 0.0606 [std=0.]\n",
      "    validation_mae: 0.0304 [std=0.]\n",
      "    validation_r2: 0.9242 [std=0.]\n",
      "    validation_average_spearman: 0.4964 [std=0.]\n"
     ]
    }
   ],
   "source": [
    "from sklearn.ensemble import RandomForestRegressor\n",
    "\n",
    "pipeline.change_estimator(RandomForestRegressor())\n",
    "pipeline.run()\n",
    "\n",
    "scores['random_forest'] = pipeline._validation_performance_scores"
   ]
  },
  {
   "attachments": {},
   "cell_type": "markdown",
   "id": "8b4789a5",
   "metadata": {},
   "source": [
    "### 1.7) Light Gradient Boosting Machine"
   ]
  },
  {
   "cell_type": "code",
   "execution_count": 9,
   "id": "4c977cd0",
   "metadata": {},
   "outputs": [
    {
     "name": "stdout",
     "output_type": "stream",
     "text": [
      "Starting pipeline using method: EvaluationType.BASIC\n",
      "Finished running the pipeline\n",
      "Evaluation metrics:\n",
      "    validation_rmse: 0.0635 [std=0.]\n",
      "    validation_mae: 0.0405 [std=0.]\n",
      "    validation_r2: 0.9168 [std=0.]\n",
      "    validation_average_spearman: 0.2962 [std=0.]\n"
     ]
    }
   ],
   "source": [
    "from lightgbm import LGBMRegressor\n",
    "\n",
    "pipeline.change_estimator(LGBMRegressor())\n",
    "pipeline.run()\n",
    "\n",
    "scores['lgbm'] = pipeline._validation_performance_scores"
   ]
  },
  {
   "attachments": {},
   "cell_type": "markdown",
   "id": "6e56f990",
   "metadata": {},
   "source": [
    "### 1.8) Neural Networks"
   ]
  },
  {
   "cell_type": "code",
   "execution_count": 10,
   "id": "8cbc8b88",
   "metadata": {},
   "outputs": [
    {
     "name": "stdout",
     "output_type": "stream",
     "text": [
      "Starting pipeline using method: EvaluationType.BASIC\n",
      "Finished running the pipeline\n",
      "Evaluation metrics:\n",
      "    validation_rmse: 0.0915 [std=0.]\n",
      "    validation_mae: 0.0601 [std=0.]\n",
      "    validation_r2: 0.8271 [std=0.]\n",
      "    validation_average_spearman: 0.146 [std=0.]\n"
     ]
    }
   ],
   "source": [
    "from sklearn.neural_network import MLPRegressor\n",
    "\n",
    "pipeline.change_estimator(MLPRegressor())\n",
    "pipeline.run()\n",
    "\n",
    "scores['neural_network'] = pipeline._validation_performance_scores"
   ]
  },
  {
   "attachments": {},
   "cell_type": "markdown",
   "id": "b18df12e",
   "metadata": {},
   "source": [
    "***\n",
    "## 2) Comparing Estimators"
   ]
  },
  {
   "cell_type": "code",
   "execution_count": 11,
   "id": "491dacb8",
   "metadata": {},
   "outputs": [
    {
     "data": {
      "text/html": [
       "<div>\n",
       "<style scoped>\n",
       "    .dataframe tbody tr th:only-of-type {\n",
       "        vertical-align: middle;\n",
       "    }\n",
       "\n",
       "    .dataframe tbody tr th {\n",
       "        vertical-align: top;\n",
       "    }\n",
       "\n",
       "    .dataframe thead th {\n",
       "        text-align: right;\n",
       "    }\n",
       "</style>\n",
       "<table border=\"1\" class=\"dataframe\">\n",
       "  <thead>\n",
       "    <tr style=\"text-align: right;\">\n",
       "      <th></th>\n",
       "      <th>baseline</th>\n",
       "      <th>linear_regression</th>\n",
       "      <th>svm</th>\n",
       "      <th>knn</th>\n",
       "      <th>decision_tree</th>\n",
       "      <th>random_forest</th>\n",
       "      <th>lgbm</th>\n",
       "      <th>neural_network</th>\n",
       "    </tr>\n",
       "    <tr>\n",
       "      <th>metric</th>\n",
       "      <th></th>\n",
       "      <th></th>\n",
       "      <th></th>\n",
       "      <th></th>\n",
       "      <th></th>\n",
       "      <th></th>\n",
       "      <th></th>\n",
       "      <th></th>\n",
       "    </tr>\n",
       "  </thead>\n",
       "  <tbody>\n",
       "    <tr>\n",
       "      <th>rmse</th>\n",
       "      <td>0.220645</td>\n",
       "      <td>0.151391</td>\n",
       "      <td>0.102661</td>\n",
       "      <td>0.130618</td>\n",
       "      <td>0.069237</td>\n",
       "      <td>0.060614</td>\n",
       "      <td>0.063502</td>\n",
       "      <td>0.091531</td>\n",
       "    </tr>\n",
       "    <tr>\n",
       "      <th>mae</th>\n",
       "      <td>0.178262</td>\n",
       "      <td>0.109132</td>\n",
       "      <td>0.077968</td>\n",
       "      <td>0.074751</td>\n",
       "      <td>0.031829</td>\n",
       "      <td>0.030397</td>\n",
       "      <td>0.040514</td>\n",
       "      <td>0.060057</td>\n",
       "    </tr>\n",
       "    <tr>\n",
       "      <th>r2</th>\n",
       "      <td>-0.004997</td>\n",
       "      <td>0.526872</td>\n",
       "      <td>0.782433</td>\n",
       "      <td>0.647806</td>\n",
       "      <td>0.901041</td>\n",
       "      <td>0.924156</td>\n",
       "      <td>0.916757</td>\n",
       "      <td>0.827053</td>\n",
       "    </tr>\n",
       "    <tr>\n",
       "      <th>average_spearman</th>\n",
       "      <td>0.000000</td>\n",
       "      <td>0.089321</td>\n",
       "      <td>0.157757</td>\n",
       "      <td>0.398352</td>\n",
       "      <td>0.523619</td>\n",
       "      <td>0.496358</td>\n",
       "      <td>0.296154</td>\n",
       "      <td>0.145982</td>\n",
       "    </tr>\n",
       "  </tbody>\n",
       "</table>\n",
       "</div>"
      ],
      "text/plain": [
       "                  baseline  linear_regression       svm       knn  \\\n",
       "metric                                                              \n",
       "rmse              0.220645           0.151391  0.102661  0.130618   \n",
       "mae               0.178262           0.109132  0.077968  0.074751   \n",
       "r2               -0.004997           0.526872  0.782433  0.647806   \n",
       "average_spearman  0.000000           0.089321  0.157757  0.398352   \n",
       "\n",
       "                  decision_tree  random_forest      lgbm  neural_network  \n",
       "metric                                                                    \n",
       "rmse                   0.069237       0.060614  0.063502        0.091531  \n",
       "mae                    0.031829       0.030397  0.040514        0.060057  \n",
       "r2                     0.901041       0.924156  0.916757        0.827053  \n",
       "average_spearman       0.523619       0.496358  0.296154        0.145982  "
      ]
     },
     "metadata": {},
     "output_type": "display_data"
    }
   ],
   "source": [
    "scores_df = pd.DataFrame(scores)\n",
    "scores_df = scores_df.applymap(lambda x: x[0] if isinstance(x, list) else x)\n",
    "scores_df.index = scores_df.index.str.replace('validation_', '')\n",
    "scores_df = scores_df.rename_axis('metric')\n",
    "\n",
    "display(scores_df)"
   ]
  },
  {
   "cell_type": "code",
   "execution_count": 12,
   "id": "4b60a98e",
   "metadata": {},
   "outputs": [
    {
     "data": {
      "image/png": "[encoded data removed]",
      "text/plain": [
       "<Figure size 432x288 with 1 Axes>"
      ]
     },
     "metadata": {
      "needs_background": "light"
     },
     "output_type": "display_data"
    },
    {
     "data": {
      "image/png": "[encoded data removed]",
      "text/plain": [
       "<Figure size 432x288 with 1 Axes>"
      ]
     },
     "metadata": {
      "needs_background": "light"
     },
     "output_type": "display_data"
    },
    {
     "data": {
      "image/png": "[encoded data removed]",
      "text/plain": [
       "<Figure size 432x288 with 1 Axes>"
      ]
     },
     "metadata": {
      "needs_background": "light"
     },
     "output_type": "display_data"
    },
    {
     "data": {
      "image/png": "[encoded data removed]",
      "text/plain": [
       "<Figure size 432x288 with 1 Axes>"
      ]
     },
     "metadata": {
      "needs_background": "light"
     },
     "output_type": "display_data"
    }
   ],
   "source": [
    "for metric, values in scores_df.iterrows():\n",
    "    sns.barplot(x=values, y=values.index)\n",
    "    plt.gcf().subplots_adjust(left=0.25)\n",
    "    plt.savefig('no_tuning_' + metric + '.svg')\n",
    "    plt.show()"
   ]
  },
  {
   "attachments": {},
   "cell_type": "markdown",
   "id": "a5864058",
   "metadata": {},
   "source": [
    "In our evaluations, the decision tree performed the best regarding the average spearman correlation. Therefore, we will focus on this model in the tuning phase."
   ]
  },
  {
   "attachments": {},
   "cell_type": "markdown",
   "id": "03435c66",
   "metadata": {},
   "source": [
    "### Grid Search"
   ]
  },
  {
   "attachments": {},
   "cell_type": "markdown",
   "id": "8555c8ce",
   "metadata": {},
   "source": [
    "Grid Search for LGBM-Regressor:"
   ]
  },
  {
   "cell_type": "code",
   "execution_count": null,
   "id": "d18f69f4",
   "metadata": {},
   "outputs": [],
   "source": [
    "# LGBM-Regressor\n",
    "param_grid = {\n",
    "    'estimator__learning_rate': [0.1, 0.01, 0.001],\n",
    "    'estimator__n_estimators': [100, 200, 500],\n",
    "    'estimator__max_depth': [3, 5, 7],\n",
    "    'estimator__num_leaves': [31, 50, 100],\n",
    "    'estimator__subsample': [0.8, 1.0],\n",
    "    'estimator__colsample_bytree': [0.8, 1.0]\n",
    "}"
   ]
  },
  {
   "cell_type": "code",
   "execution_count": null,
   "id": "96a85b99",
   "metadata": {},
   "outputs": [],
   "source": [
    "# load the data\n",
    "train_df = config.load_traindata_for_regression()\n",
    "pipelineFactory = PipelineFactory()\n",
    "\n",
    "# create the baseline pipeline\n",
    "pipeline = pipelineFactory.create_pipeline(\n",
    "    train_df,\n",
    "    ModelType.REGRE_PREPROCESSED,\n",
    "    verbose_level=1,\n",
    "    evaluation=EvaluationType.GRID_SEARCH,\n",
    "    param_grid=param_grid\n",
    ")\n",
    "pipeline.clear_steps()\n",
    "pipeline.add_new_step(OneHotEncoder(), 'onehot')\n",
    "pipeline.change_estimator(LGBMRegressor())\n",
    "\n",
    "pipeline.run()\n",
    "scores = {}"
   ]
  },
  {
   "attachments": {},
   "cell_type": "markdown",
   "id": "faa2849f",
   "metadata": {},
   "source": [
    "Evaluation metrics:\n",
    "    best_score: 0.3675\n",
    "    best_params: {'estimator__learning_rate': 0.1, 'estimator__n_estimators': 500, 'estimator__max_depth': 7, 'estimator__num_leaves': 100, 'estimator__subsample': 0.8, 'estimator__colsample_bytree': 1.0}"
   ]
  },
  {
   "attachments": {},
   "cell_type": "markdown",
   "id": "169e0a94",
   "metadata": {},
   "source": [
    "Grid Search for DecisionTree Regressor:"
   ]
  },
  {
   "cell_type": "code",
   "execution_count": null,
   "id": "d236d657",
   "metadata": {},
   "outputs": [],
   "source": [
    "parameters={\"estimator__splitter\":[\"best\",\"random\"],\n",
    "            \"estimator__max_depth\" : [1,3,5,7,9],\n",
    "           \"estimator__min_samples_leaf\":[1,2,3,4,],\n",
    "           \"estimator__max_features\":[\"auto\",\"log2\",\"sqrt\",None],\n",
    "           \"estimator__max_leaf_nodes\":[None,10,20,30,40] }"
   ]
  },
  {
   "cell_type": "code",
   "execution_count": null,
   "id": "ae435a32",
   "metadata": {},
   "outputs": [],
   "source": [
    "import warnings\n",
    "warnings.filterwarnings(\"ignore\", category=FutureWarning)\n",
    "\n",
    "# load the data\n",
    "train_df = config.load_traindata_for_regression()\n",
    "pipelineFactory = PipelineFactory()\n",
    "\n",
    "# create the baseline pipeline\n",
    "pipeline = pipelineFactory.create_pipeline(\n",
    "    train_df,\n",
    "    ModelType.REGRE_PREPROCESSED,\n",
    "    verbose_level=1,\n",
    "    evaluation=EvaluationType.GRID_SEARCH,\n",
    "    param_grid=parameters\n",
    ")\n",
    "pipeline.clear_steps()\n",
    "pipeline.add_new_step(OneHotEncoder(), 'onehot')\n",
    "pipeline.change_estimator(DecisionTreeRegressor())\n",
    "\n",
    "pipeline.run()\n",
    "scores = {}"
   ]
  }
 ],
 "metadata": {
  "kernelspec": {
   "display_name": "Python 3 (ipykernel)",
   "language": "python",
   "name": "python3"
  },
  "language_info": {
   "codemirror_mode": {
    "name": "ipython",
    "version": 3
   },
   "file_extension": ".py",
   "mimetype": "text/x-python",
   "name": "python",
   "nbconvert_exporter": "python",
   "pygments_lexer": "ipython3",
   "version": "3.10.10"
  }
 },
 "nbformat": 4,
 "nbformat_minor": 5
}
